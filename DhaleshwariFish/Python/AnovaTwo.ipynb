{
 "cells": [
  {
   "cell_type": "code",
   "execution_count": 1,
   "id": "3c7f686b",
   "metadata": {},
   "outputs": [],
   "source": [
    "import pandas as pd\n",
    "import pingouin as pg\n",
    "import numpy as np"
   ]
  },
  {
   "cell_type": "code",
   "execution_count": 2,
   "id": "697f85ac",
   "metadata": {},
   "outputs": [],
   "source": [
    "df = pd.read_csv(\"/home/RHHLab/Downloads/fish_data.csv\")"
   ]
  },
  {
   "cell_type": "code",
   "execution_count": 3,
   "id": "9991b551",
   "metadata": {},
   "outputs": [
    {
     "data": {
      "text/html": [
       "<div>\n",
       "<style scoped>\n",
       "    .dataframe tbody tr th:only-of-type {\n",
       "        vertical-align: middle;\n",
       "    }\n",
       "\n",
       "    .dataframe tbody tr th {\n",
       "        vertical-align: top;\n",
       "    }\n",
       "\n",
       "    .dataframe thead th {\n",
       "        text-align: right;\n",
       "    }\n",
       "</style>\n",
       "<table border=\"1\" class=\"dataframe\">\n",
       "  <thead>\n",
       "    <tr style=\"text-align: right;\">\n",
       "      <th></th>\n",
       "      <th>Element, mg/kg</th>\n",
       "      <th>Cr</th>\n",
       "      <th>Mn</th>\n",
       "      <th>Fe</th>\n",
       "      <th>Co</th>\n",
       "      <th>Cu</th>\n",
       "      <th>Zn</th>\n",
       "      <th>As</th>\n",
       "      <th>Se</th>\n",
       "      <th>Pb</th>\n",
       "      <th>Cd</th>\n",
       "      <th>Hg</th>\n",
       "      <th>Protein (g/100g)</th>\n",
       "      <th>Omega-3 polyunsaturated fatty acids (n-3 PUFAs) (g/100g)</th>\n",
       "      <th>Lipid %</th>\n",
       "    </tr>\n",
       "  </thead>\n",
       "  <tbody>\n",
       "    <tr>\n",
       "      <th>0</th>\n",
       "      <td>Ghagra (Clupisoma garua)</td>\n",
       "      <td>0.69</td>\n",
       "      <td>1.63</td>\n",
       "      <td>105.47</td>\n",
       "      <td>1.27</td>\n",
       "      <td>22.16</td>\n",
       "      <td>82.25</td>\n",
       "      <td>0.43</td>\n",
       "      <td>2.79</td>\n",
       "      <td>0.78</td>\n",
       "      <td>0.53</td>\n",
       "      <td>0.55</td>\n",
       "      <td>15.8</td>\n",
       "      <td>0.680</td>\n",
       "      <td>12.79</td>\n",
       "    </tr>\n",
       "    <tr>\n",
       "      <th>1</th>\n",
       "      <td>Koi (Anabas testudineus)</td>\n",
       "      <td>0.95</td>\n",
       "      <td>0.49</td>\n",
       "      <td>83.99</td>\n",
       "      <td>2.68</td>\n",
       "      <td>19.82</td>\n",
       "      <td>149.47</td>\n",
       "      <td>0.47</td>\n",
       "      <td>3.99</td>\n",
       "      <td>1.18</td>\n",
       "      <td>0.87</td>\n",
       "      <td>0.76</td>\n",
       "      <td>16.4</td>\n",
       "      <td>0.375</td>\n",
       "      <td>12.10</td>\n",
       "    </tr>\n",
       "    <tr>\n",
       "      <th>2</th>\n",
       "      <td>Tatkini (Cirrhinus reba)</td>\n",
       "      <td>1.36</td>\n",
       "      <td>0.42</td>\n",
       "      <td>77.85</td>\n",
       "      <td>3.61</td>\n",
       "      <td>17.15</td>\n",
       "      <td>135.34</td>\n",
       "      <td>0.56</td>\n",
       "      <td>4.77</td>\n",
       "      <td>0.63</td>\n",
       "      <td>2.17</td>\n",
       "      <td>0.98</td>\n",
       "      <td>17.3</td>\n",
       "      <td>0.240</td>\n",
       "      <td>9.82</td>\n",
       "    </tr>\n",
       "    <tr>\n",
       "      <th>3</th>\n",
       "      <td>Tengra (Mystus vittatus)</td>\n",
       "      <td>2.37</td>\n",
       "      <td>0.74</td>\n",
       "      <td>90.12</td>\n",
       "      <td>5.13</td>\n",
       "      <td>21.59</td>\n",
       "      <td>81.27</td>\n",
       "      <td>0.61</td>\n",
       "      <td>5.37</td>\n",
       "      <td>0.97</td>\n",
       "      <td>3.15</td>\n",
       "      <td>1.24</td>\n",
       "      <td>17.5</td>\n",
       "      <td>0.115</td>\n",
       "      <td>7.10</td>\n",
       "    </tr>\n",
       "    <tr>\n",
       "      <th>4</th>\n",
       "      <td>Batashi (Neotropius atherinoides)</td>\n",
       "      <td>0.27</td>\n",
       "      <td>0.35</td>\n",
       "      <td>43.52</td>\n",
       "      <td>3.49</td>\n",
       "      <td>15.19</td>\n",
       "      <td>129.11</td>\n",
       "      <td>0.42</td>\n",
       "      <td>3.21</td>\n",
       "      <td>0.58</td>\n",
       "      <td>0.72</td>\n",
       "      <td>0.69</td>\n",
       "      <td>15.1</td>\n",
       "      <td>0.300</td>\n",
       "      <td>10.70</td>\n",
       "    </tr>\n",
       "    <tr>\n",
       "      <th>5</th>\n",
       "      <td>Jatka (juvenile) Tenualosa ilisha</td>\n",
       "      <td>1.13</td>\n",
       "      <td>0.93</td>\n",
       "      <td>94.58</td>\n",
       "      <td>3.05</td>\n",
       "      <td>28.90</td>\n",
       "      <td>172.53</td>\n",
       "      <td>0.51</td>\n",
       "      <td>4.39</td>\n",
       "      <td>0.46</td>\n",
       "      <td>1.76</td>\n",
       "      <td>1.71</td>\n",
       "      <td>18.7</td>\n",
       "      <td>0.430</td>\n",
       "      <td>11.56</td>\n",
       "    </tr>\n",
       "    <tr>\n",
       "      <th>6</th>\n",
       "      <td>Rani (Botia dario)</td>\n",
       "      <td>1.02</td>\n",
       "      <td>1.65</td>\n",
       "      <td>114.31</td>\n",
       "      <td>3.52</td>\n",
       "      <td>11.48</td>\n",
       "      <td>161.89</td>\n",
       "      <td>0.52</td>\n",
       "      <td>4.15</td>\n",
       "      <td>0.61</td>\n",
       "      <td>2.11</td>\n",
       "      <td>0.93</td>\n",
       "      <td>15.3</td>\n",
       "      <td>0.345</td>\n",
       "      <td>11.15</td>\n",
       "    </tr>\n",
       "    <tr>\n",
       "      <th>7</th>\n",
       "      <td>Chanda (Pseudambassis ranga)</td>\n",
       "      <td>1.98</td>\n",
       "      <td>1.78</td>\n",
       "      <td>133.25</td>\n",
       "      <td>4.77</td>\n",
       "      <td>23.95</td>\n",
       "      <td>158.31</td>\n",
       "      <td>0.57</td>\n",
       "      <td>5.10</td>\n",
       "      <td>0.78</td>\n",
       "      <td>2.79</td>\n",
       "      <td>1.50</td>\n",
       "      <td>16.5</td>\n",
       "      <td>0.195</td>\n",
       "      <td>7.69</td>\n",
       "    </tr>\n",
       "  </tbody>\n",
       "</table>\n",
       "</div>"
      ],
      "text/plain": [
       "                      Element, mg/kg    Cr    Mn      Fe    Co     Cu      Zn  \\\n",
       "0           Ghagra (Clupisoma garua)  0.69  1.63  105.47  1.27  22.16   82.25   \n",
       "1           Koi (Anabas testudineus)  0.95  0.49   83.99  2.68  19.82  149.47   \n",
       "2           Tatkini (Cirrhinus reba)  1.36  0.42   77.85  3.61  17.15  135.34   \n",
       "3           Tengra (Mystus vittatus)  2.37  0.74   90.12  5.13  21.59   81.27   \n",
       "4  Batashi (Neotropius atherinoides)  0.27  0.35   43.52  3.49  15.19  129.11   \n",
       "5  Jatka (juvenile) Tenualosa ilisha  1.13  0.93   94.58  3.05  28.90  172.53   \n",
       "6                 Rani (Botia dario)  1.02  1.65  114.31  3.52  11.48  161.89   \n",
       "7       Chanda (Pseudambassis ranga)  1.98  1.78  133.25  4.77  23.95  158.31   \n",
       "\n",
       "     As    Se    Pb    Cd    Hg  Protein (g/100g)  \\\n",
       "0  0.43  2.79  0.78  0.53  0.55              15.8   \n",
       "1  0.47  3.99  1.18  0.87  0.76              16.4   \n",
       "2  0.56  4.77  0.63  2.17  0.98              17.3   \n",
       "3  0.61  5.37  0.97  3.15  1.24              17.5   \n",
       "4  0.42  3.21  0.58  0.72  0.69              15.1   \n",
       "5  0.51  4.39  0.46  1.76  1.71              18.7   \n",
       "6  0.52  4.15  0.61  2.11  0.93              15.3   \n",
       "7  0.57  5.10  0.78  2.79  1.50              16.5   \n",
       "\n",
       "   Omega-3 polyunsaturated fatty acids (n-3 PUFAs) (g/100g)  Lipid %  \n",
       "0                                              0.680           12.79  \n",
       "1                                              0.375           12.10  \n",
       "2                                              0.240            9.82  \n",
       "3                                              0.115            7.10  \n",
       "4                                              0.300           10.70  \n",
       "5                                              0.430           11.56  \n",
       "6                                              0.345           11.15  \n",
       "7                                              0.195            7.69  "
      ]
     },
     "execution_count": 3,
     "metadata": {},
     "output_type": "execute_result"
    }
   ],
   "source": [
    "df"
   ]
  },
  {
   "cell_type": "code",
   "execution_count": 4,
   "id": "714b645e",
   "metadata": {},
   "outputs": [],
   "source": [
    "cols = df[\"Element, mg/kg\"]"
   ]
  },
  {
   "cell_type": "code",
   "execution_count": 7,
   "id": "e5b3426b",
   "metadata": {},
   "outputs": [],
   "source": [
    "cols = list(cols)"
   ]
  },
  {
   "cell_type": "code",
   "execution_count": 10,
   "id": "d7b9e3fc",
   "metadata": {},
   "outputs": [],
   "source": [
    "col = []\n",
    "for elem in cols:\n",
    "    a = elem.split(\" \")\n",
    "    col.append(a[0])"
   ]
  },
  {
   "cell_type": "code",
   "execution_count": 11,
   "id": "474c12d8",
   "metadata": {},
   "outputs": [
    {
     "data": {
      "text/plain": [
       "['Ghagra', 'Koi', 'Tatkini', 'Tengra', 'Batashi', 'Jatka', 'Rani', 'Chanda']"
      ]
     },
     "execution_count": 11,
     "metadata": {},
     "output_type": "execute_result"
    }
   ],
   "source": [
    "col"
   ]
  },
  {
   "cell_type": "code",
   "execution_count": 12,
   "id": "ea9eeacf",
   "metadata": {},
   "outputs": [
    {
     "data": {
      "text/html": [
       "<div>\n",
       "<style scoped>\n",
       "    .dataframe tbody tr th:only-of-type {\n",
       "        vertical-align: middle;\n",
       "    }\n",
       "\n",
       "    .dataframe tbody tr th {\n",
       "        vertical-align: top;\n",
       "    }\n",
       "\n",
       "    .dataframe thead th {\n",
       "        text-align: right;\n",
       "    }\n",
       "</style>\n",
       "<table border=\"1\" class=\"dataframe\">\n",
       "  <thead>\n",
       "    <tr style=\"text-align: right;\">\n",
       "      <th></th>\n",
       "      <th>Element, mg/kg</th>\n",
       "      <th>Cr</th>\n",
       "      <th>Mn</th>\n",
       "      <th>Fe</th>\n",
       "      <th>Co</th>\n",
       "      <th>Cu</th>\n",
       "      <th>Zn</th>\n",
       "      <th>As</th>\n",
       "      <th>Se</th>\n",
       "      <th>Pb</th>\n",
       "      <th>Cd</th>\n",
       "      <th>Hg</th>\n",
       "      <th>Protein (g/100g)</th>\n",
       "      <th>Omega-3 polyunsaturated fatty acids (n-3 PUFAs) (g/100g)</th>\n",
       "      <th>Lipid %</th>\n",
       "    </tr>\n",
       "  </thead>\n",
       "  <tbody>\n",
       "    <tr>\n",
       "      <th>0</th>\n",
       "      <td>Ghagra</td>\n",
       "      <td>0.69</td>\n",
       "      <td>1.63</td>\n",
       "      <td>105.47</td>\n",
       "      <td>1.27</td>\n",
       "      <td>22.16</td>\n",
       "      <td>82.25</td>\n",
       "      <td>0.43</td>\n",
       "      <td>2.79</td>\n",
       "      <td>0.78</td>\n",
       "      <td>0.53</td>\n",
       "      <td>0.55</td>\n",
       "      <td>15.8</td>\n",
       "      <td>0.680</td>\n",
       "      <td>12.79</td>\n",
       "    </tr>\n",
       "    <tr>\n",
       "      <th>1</th>\n",
       "      <td>Koi</td>\n",
       "      <td>0.95</td>\n",
       "      <td>0.49</td>\n",
       "      <td>83.99</td>\n",
       "      <td>2.68</td>\n",
       "      <td>19.82</td>\n",
       "      <td>149.47</td>\n",
       "      <td>0.47</td>\n",
       "      <td>3.99</td>\n",
       "      <td>1.18</td>\n",
       "      <td>0.87</td>\n",
       "      <td>0.76</td>\n",
       "      <td>16.4</td>\n",
       "      <td>0.375</td>\n",
       "      <td>12.10</td>\n",
       "    </tr>\n",
       "    <tr>\n",
       "      <th>2</th>\n",
       "      <td>Tatkini</td>\n",
       "      <td>1.36</td>\n",
       "      <td>0.42</td>\n",
       "      <td>77.85</td>\n",
       "      <td>3.61</td>\n",
       "      <td>17.15</td>\n",
       "      <td>135.34</td>\n",
       "      <td>0.56</td>\n",
       "      <td>4.77</td>\n",
       "      <td>0.63</td>\n",
       "      <td>2.17</td>\n",
       "      <td>0.98</td>\n",
       "      <td>17.3</td>\n",
       "      <td>0.240</td>\n",
       "      <td>9.82</td>\n",
       "    </tr>\n",
       "    <tr>\n",
       "      <th>3</th>\n",
       "      <td>Tengra</td>\n",
       "      <td>2.37</td>\n",
       "      <td>0.74</td>\n",
       "      <td>90.12</td>\n",
       "      <td>5.13</td>\n",
       "      <td>21.59</td>\n",
       "      <td>81.27</td>\n",
       "      <td>0.61</td>\n",
       "      <td>5.37</td>\n",
       "      <td>0.97</td>\n",
       "      <td>3.15</td>\n",
       "      <td>1.24</td>\n",
       "      <td>17.5</td>\n",
       "      <td>0.115</td>\n",
       "      <td>7.10</td>\n",
       "    </tr>\n",
       "    <tr>\n",
       "      <th>4</th>\n",
       "      <td>Batashi</td>\n",
       "      <td>0.27</td>\n",
       "      <td>0.35</td>\n",
       "      <td>43.52</td>\n",
       "      <td>3.49</td>\n",
       "      <td>15.19</td>\n",
       "      <td>129.11</td>\n",
       "      <td>0.42</td>\n",
       "      <td>3.21</td>\n",
       "      <td>0.58</td>\n",
       "      <td>0.72</td>\n",
       "      <td>0.69</td>\n",
       "      <td>15.1</td>\n",
       "      <td>0.300</td>\n",
       "      <td>10.70</td>\n",
       "    </tr>\n",
       "    <tr>\n",
       "      <th>5</th>\n",
       "      <td>Jatka</td>\n",
       "      <td>1.13</td>\n",
       "      <td>0.93</td>\n",
       "      <td>94.58</td>\n",
       "      <td>3.05</td>\n",
       "      <td>28.90</td>\n",
       "      <td>172.53</td>\n",
       "      <td>0.51</td>\n",
       "      <td>4.39</td>\n",
       "      <td>0.46</td>\n",
       "      <td>1.76</td>\n",
       "      <td>1.71</td>\n",
       "      <td>18.7</td>\n",
       "      <td>0.430</td>\n",
       "      <td>11.56</td>\n",
       "    </tr>\n",
       "    <tr>\n",
       "      <th>6</th>\n",
       "      <td>Rani</td>\n",
       "      <td>1.02</td>\n",
       "      <td>1.65</td>\n",
       "      <td>114.31</td>\n",
       "      <td>3.52</td>\n",
       "      <td>11.48</td>\n",
       "      <td>161.89</td>\n",
       "      <td>0.52</td>\n",
       "      <td>4.15</td>\n",
       "      <td>0.61</td>\n",
       "      <td>2.11</td>\n",
       "      <td>0.93</td>\n",
       "      <td>15.3</td>\n",
       "      <td>0.345</td>\n",
       "      <td>11.15</td>\n",
       "    </tr>\n",
       "    <tr>\n",
       "      <th>7</th>\n",
       "      <td>Chanda</td>\n",
       "      <td>1.98</td>\n",
       "      <td>1.78</td>\n",
       "      <td>133.25</td>\n",
       "      <td>4.77</td>\n",
       "      <td>23.95</td>\n",
       "      <td>158.31</td>\n",
       "      <td>0.57</td>\n",
       "      <td>5.10</td>\n",
       "      <td>0.78</td>\n",
       "      <td>2.79</td>\n",
       "      <td>1.50</td>\n",
       "      <td>16.5</td>\n",
       "      <td>0.195</td>\n",
       "      <td>7.69</td>\n",
       "    </tr>\n",
       "  </tbody>\n",
       "</table>\n",
       "</div>"
      ],
      "text/plain": [
       "  Element, mg/kg    Cr    Mn      Fe    Co     Cu      Zn    As    Se    Pb  \\\n",
       "0         Ghagra  0.69  1.63  105.47  1.27  22.16   82.25  0.43  2.79  0.78   \n",
       "1            Koi  0.95  0.49   83.99  2.68  19.82  149.47  0.47  3.99  1.18   \n",
       "2        Tatkini  1.36  0.42   77.85  3.61  17.15  135.34  0.56  4.77  0.63   \n",
       "3         Tengra  2.37  0.74   90.12  5.13  21.59   81.27  0.61  5.37  0.97   \n",
       "4        Batashi  0.27  0.35   43.52  3.49  15.19  129.11  0.42  3.21  0.58   \n",
       "5          Jatka  1.13  0.93   94.58  3.05  28.90  172.53  0.51  4.39  0.46   \n",
       "6           Rani  1.02  1.65  114.31  3.52  11.48  161.89  0.52  4.15  0.61   \n",
       "7         Chanda  1.98  1.78  133.25  4.77  23.95  158.31  0.57  5.10  0.78   \n",
       "\n",
       "     Cd    Hg  Protein (g/100g)  \\\n",
       "0  0.53  0.55              15.8   \n",
       "1  0.87  0.76              16.4   \n",
       "2  2.17  0.98              17.3   \n",
       "3  3.15  1.24              17.5   \n",
       "4  0.72  0.69              15.1   \n",
       "5  1.76  1.71              18.7   \n",
       "6  2.11  0.93              15.3   \n",
       "7  2.79  1.50              16.5   \n",
       "\n",
       "   Omega-3 polyunsaturated fatty acids (n-3 PUFAs) (g/100g)  Lipid %  \n",
       "0                                              0.680           12.79  \n",
       "1                                              0.375           12.10  \n",
       "2                                              0.240            9.82  \n",
       "3                                              0.115            7.10  \n",
       "4                                              0.300           10.70  \n",
       "5                                              0.430           11.56  \n",
       "6                                              0.345           11.15  \n",
       "7                                              0.195            7.69  "
      ]
     },
     "execution_count": 12,
     "metadata": {},
     "output_type": "execute_result"
    }
   ],
   "source": [
    "df[\"Element, mg/kg\"] = col\n",
    "df"
   ]
  },
  {
   "cell_type": "code",
   "execution_count": 29,
   "id": "f0a2e49b",
   "metadata": {},
   "outputs": [],
   "source": [
    "arr = np.array(df)"
   ]
  },
  {
   "cell_type": "code",
   "execution_count": 30,
   "id": "5e480370",
   "metadata": {},
   "outputs": [
    {
     "data": {
      "text/plain": [
       "array([['Ghagra', 0.69, 1.63, 105.47, 1.27, 22.16, 82.25, 0.43, 2.79,\n",
       "        0.78, 0.53, 0.55, 15.8, 0.68, 12.79],\n",
       "       ['Koi', 0.95, 0.49, 83.99, 2.68, 19.82, 149.47, 0.47, 3.99, 1.18,\n",
       "        0.87, 0.76, 16.4, 0.375, 12.1],\n",
       "       ['Tatkini', 1.36, 0.42, 77.85, 3.61, 17.15, 135.34, 0.56, 4.77,\n",
       "        0.63, 2.17, 0.98, 17.3, 0.24, 9.82],\n",
       "       ['Tengra', 2.37, 0.74, 90.12, 5.13, 21.59, 81.27, 0.61, 5.37,\n",
       "        0.97, 3.15, 1.24, 17.5, 0.115, 7.1],\n",
       "       ['Batashi', 0.27, 0.35, 43.52, 3.49, 15.19, 129.11, 0.42, 3.21,\n",
       "        0.58, 0.72, 0.69, 15.1, 0.3, 10.7],\n",
       "       ['Jatka', 1.13, 0.93, 94.58, 3.05, 28.9, 172.53, 0.51, 4.39, 0.46,\n",
       "        1.76, 1.71, 18.7, 0.43, 11.56],\n",
       "       ['Rani', 1.02, 1.65, 114.31, 3.52, 11.48, 161.89, 0.52, 4.15,\n",
       "        0.61, 2.11, 0.93, 15.3, 0.345, 11.15],\n",
       "       ['Chanda', 1.98, 1.78, 133.25, 4.77, 23.95, 158.31, 0.57, 5.1,\n",
       "        0.78, 2.79, 1.5, 16.5, 0.195, 7.69]], dtype=object)"
      ]
     },
     "execution_count": 30,
     "metadata": {},
     "output_type": "execute_result"
    }
   ],
   "source": [
    "arr"
   ]
  },
  {
   "cell_type": "code",
   "execution_count": null,
   "id": "ead810f1",
   "metadata": {},
   "outputs": [],
   "source": []
  },
  {
   "cell_type": "code",
   "execution_count": 65,
   "id": "db72869f",
   "metadata": {},
   "outputs": [],
   "source": [
    "cols = df.columns"
   ]
  },
  {
   "cell_type": "code",
   "execution_count": 70,
   "id": "f64a1e91",
   "metadata": {},
   "outputs": [],
   "source": [
    "cols = ['FishSpecies', 'Cr', 'Mn', 'Fe', 'Co', 'Cu', 'Zn', 'As', 'Se', 'Pb',\n",
    "       'Cd', 'Hg', 'Protein',\n",
    "       'OPFA', 'Lipid']"
   ]
  },
  {
   "cell_type": "code",
   "execution_count": 71,
   "id": "eaacd803",
   "metadata": {},
   "outputs": [],
   "source": [
    "df.columns = cols"
   ]
  },
  {
   "cell_type": "code",
   "execution_count": 72,
   "id": "5cb21148",
   "metadata": {},
   "outputs": [
    {
     "data": {
      "text/html": [
       "<div>\n",
       "<style scoped>\n",
       "    .dataframe tbody tr th:only-of-type {\n",
       "        vertical-align: middle;\n",
       "    }\n",
       "\n",
       "    .dataframe tbody tr th {\n",
       "        vertical-align: top;\n",
       "    }\n",
       "\n",
       "    .dataframe thead th {\n",
       "        text-align: right;\n",
       "    }\n",
       "</style>\n",
       "<table border=\"1\" class=\"dataframe\">\n",
       "  <thead>\n",
       "    <tr style=\"text-align: right;\">\n",
       "      <th></th>\n",
       "      <th>FishSpecies</th>\n",
       "      <th>Cr</th>\n",
       "      <th>Mn</th>\n",
       "      <th>Fe</th>\n",
       "      <th>Co</th>\n",
       "      <th>Cu</th>\n",
       "      <th>Zn</th>\n",
       "      <th>As</th>\n",
       "      <th>Se</th>\n",
       "      <th>Pb</th>\n",
       "      <th>Cd</th>\n",
       "      <th>Hg</th>\n",
       "      <th>Protein</th>\n",
       "      <th>OPFA</th>\n",
       "      <th>Lipid</th>\n",
       "    </tr>\n",
       "  </thead>\n",
       "  <tbody>\n",
       "    <tr>\n",
       "      <th>0</th>\n",
       "      <td>Ghagra</td>\n",
       "      <td>0.69</td>\n",
       "      <td>1.63</td>\n",
       "      <td>105.47</td>\n",
       "      <td>1.27</td>\n",
       "      <td>22.16</td>\n",
       "      <td>82.25</td>\n",
       "      <td>0.43</td>\n",
       "      <td>2.79</td>\n",
       "      <td>0.78</td>\n",
       "      <td>0.53</td>\n",
       "      <td>0.55</td>\n",
       "      <td>15.8</td>\n",
       "      <td>0.680</td>\n",
       "      <td>12.79</td>\n",
       "    </tr>\n",
       "    <tr>\n",
       "      <th>1</th>\n",
       "      <td>Koi</td>\n",
       "      <td>0.95</td>\n",
       "      <td>0.49</td>\n",
       "      <td>83.99</td>\n",
       "      <td>2.68</td>\n",
       "      <td>19.82</td>\n",
       "      <td>149.47</td>\n",
       "      <td>0.47</td>\n",
       "      <td>3.99</td>\n",
       "      <td>1.18</td>\n",
       "      <td>0.87</td>\n",
       "      <td>0.76</td>\n",
       "      <td>16.4</td>\n",
       "      <td>0.375</td>\n",
       "      <td>12.10</td>\n",
       "    </tr>\n",
       "    <tr>\n",
       "      <th>2</th>\n",
       "      <td>Tatkini</td>\n",
       "      <td>1.36</td>\n",
       "      <td>0.42</td>\n",
       "      <td>77.85</td>\n",
       "      <td>3.61</td>\n",
       "      <td>17.15</td>\n",
       "      <td>135.34</td>\n",
       "      <td>0.56</td>\n",
       "      <td>4.77</td>\n",
       "      <td>0.63</td>\n",
       "      <td>2.17</td>\n",
       "      <td>0.98</td>\n",
       "      <td>17.3</td>\n",
       "      <td>0.240</td>\n",
       "      <td>9.82</td>\n",
       "    </tr>\n",
       "    <tr>\n",
       "      <th>3</th>\n",
       "      <td>Tengra</td>\n",
       "      <td>2.37</td>\n",
       "      <td>0.74</td>\n",
       "      <td>90.12</td>\n",
       "      <td>5.13</td>\n",
       "      <td>21.59</td>\n",
       "      <td>81.27</td>\n",
       "      <td>0.61</td>\n",
       "      <td>5.37</td>\n",
       "      <td>0.97</td>\n",
       "      <td>3.15</td>\n",
       "      <td>1.24</td>\n",
       "      <td>17.5</td>\n",
       "      <td>0.115</td>\n",
       "      <td>7.10</td>\n",
       "    </tr>\n",
       "    <tr>\n",
       "      <th>4</th>\n",
       "      <td>Batashi</td>\n",
       "      <td>0.27</td>\n",
       "      <td>0.35</td>\n",
       "      <td>43.52</td>\n",
       "      <td>3.49</td>\n",
       "      <td>15.19</td>\n",
       "      <td>129.11</td>\n",
       "      <td>0.42</td>\n",
       "      <td>3.21</td>\n",
       "      <td>0.58</td>\n",
       "      <td>0.72</td>\n",
       "      <td>0.69</td>\n",
       "      <td>15.1</td>\n",
       "      <td>0.300</td>\n",
       "      <td>10.70</td>\n",
       "    </tr>\n",
       "    <tr>\n",
       "      <th>5</th>\n",
       "      <td>Jatka</td>\n",
       "      <td>1.13</td>\n",
       "      <td>0.93</td>\n",
       "      <td>94.58</td>\n",
       "      <td>3.05</td>\n",
       "      <td>28.90</td>\n",
       "      <td>172.53</td>\n",
       "      <td>0.51</td>\n",
       "      <td>4.39</td>\n",
       "      <td>0.46</td>\n",
       "      <td>1.76</td>\n",
       "      <td>1.71</td>\n",
       "      <td>18.7</td>\n",
       "      <td>0.430</td>\n",
       "      <td>11.56</td>\n",
       "    </tr>\n",
       "    <tr>\n",
       "      <th>6</th>\n",
       "      <td>Rani</td>\n",
       "      <td>1.02</td>\n",
       "      <td>1.65</td>\n",
       "      <td>114.31</td>\n",
       "      <td>3.52</td>\n",
       "      <td>11.48</td>\n",
       "      <td>161.89</td>\n",
       "      <td>0.52</td>\n",
       "      <td>4.15</td>\n",
       "      <td>0.61</td>\n",
       "      <td>2.11</td>\n",
       "      <td>0.93</td>\n",
       "      <td>15.3</td>\n",
       "      <td>0.345</td>\n",
       "      <td>11.15</td>\n",
       "    </tr>\n",
       "    <tr>\n",
       "      <th>7</th>\n",
       "      <td>Chanda</td>\n",
       "      <td>1.98</td>\n",
       "      <td>1.78</td>\n",
       "      <td>133.25</td>\n",
       "      <td>4.77</td>\n",
       "      <td>23.95</td>\n",
       "      <td>158.31</td>\n",
       "      <td>0.57</td>\n",
       "      <td>5.10</td>\n",
       "      <td>0.78</td>\n",
       "      <td>2.79</td>\n",
       "      <td>1.50</td>\n",
       "      <td>16.5</td>\n",
       "      <td>0.195</td>\n",
       "      <td>7.69</td>\n",
       "    </tr>\n",
       "  </tbody>\n",
       "</table>\n",
       "</div>"
      ],
      "text/plain": [
       "  FishSpecies    Cr    Mn      Fe    Co     Cu      Zn    As    Se    Pb  \\\n",
       "0      Ghagra  0.69  1.63  105.47  1.27  22.16   82.25  0.43  2.79  0.78   \n",
       "1         Koi  0.95  0.49   83.99  2.68  19.82  149.47  0.47  3.99  1.18   \n",
       "2     Tatkini  1.36  0.42   77.85  3.61  17.15  135.34  0.56  4.77  0.63   \n",
       "3      Tengra  2.37  0.74   90.12  5.13  21.59   81.27  0.61  5.37  0.97   \n",
       "4     Batashi  0.27  0.35   43.52  3.49  15.19  129.11  0.42  3.21  0.58   \n",
       "5       Jatka  1.13  0.93   94.58  3.05  28.90  172.53  0.51  4.39  0.46   \n",
       "6        Rani  1.02  1.65  114.31  3.52  11.48  161.89  0.52  4.15  0.61   \n",
       "7      Chanda  1.98  1.78  133.25  4.77  23.95  158.31  0.57  5.10  0.78   \n",
       "\n",
       "     Cd    Hg  Protein   OPFA  Lipid  \n",
       "0  0.53  0.55     15.8  0.680  12.79  \n",
       "1  0.87  0.76     16.4  0.375  12.10  \n",
       "2  2.17  0.98     17.3  0.240   9.82  \n",
       "3  3.15  1.24     17.5  0.115   7.10  \n",
       "4  0.72  0.69     15.1  0.300  10.70  \n",
       "5  1.76  1.71     18.7  0.430  11.56  \n",
       "6  2.11  0.93     15.3  0.345  11.15  \n",
       "7  2.79  1.50     16.5  0.195   7.69  "
      ]
     },
     "execution_count": 72,
     "metadata": {},
     "output_type": "execute_result"
    }
   ],
   "source": [
    "df"
   ]
  },
  {
   "cell_type": "code",
   "execution_count": 73,
   "id": "ed3b6dbf",
   "metadata": {},
   "outputs": [],
   "source": [
    "df.to_csv(\"data/fishData.csv\")"
   ]
  },
  {
   "cell_type": "code",
   "execution_count": null,
   "id": "ffd35462",
   "metadata": {},
   "outputs": [],
   "source": []
  },
  {
   "cell_type": "code",
   "execution_count": 91,
   "id": "1c872c09",
   "metadata": {},
   "outputs": [],
   "source": [
    "newdf = pd.DataFrame(columns=[\"Values\", \"Fish\", \"Parameter\"])"
   ]
  },
  {
   "cell_type": "code",
   "execution_count": null,
   "id": "2531dfc0",
   "metadata": {},
   "outputs": [],
   "source": [
    "newdf = pd.DataFrame(columns=[\"Values\", \"Fish\", \"Parameter\"])\n",
    "param = df.columns[1:]\n",
    "hm = []\n",
    "for i in range(len(param)):\n",
    "    for _ in range(8):\n",
    "        hm.append(param[i])\n",
    "        \n",
    "species = df[\"FishSpecies\"]\n",
    "species = list(species)\n",
    "sp = []\n",
    "for _ in range(len(param)):\n",
    "    sp.append(species[:])\n",
    "sparr = np.array(sp)\n",
    "sparr = sparr.flatten()\n",
    "newdf[\"Parameter\"] = hm\n",
    "newdf[\"Fish\"] = sparr\n",
    "vals = []\n",
    "for i in range(len(param)):\n",
    "    for val in df[param[i]].values:\n",
    "        vals.append(val)"
   ]
  },
  {
   "cell_type": "code",
   "execution_count": null,
   "id": "c475118e",
   "metadata": {},
   "outputs": [],
   "source": []
  },
  {
   "cell_type": "code",
   "execution_count": 75,
   "id": "f6a4730f",
   "metadata": {},
   "outputs": [
    {
     "data": {
      "text/html": [
       "<div>\n",
       "<style scoped>\n",
       "    .dataframe tbody tr th:only-of-type {\n",
       "        vertical-align: middle;\n",
       "    }\n",
       "\n",
       "    .dataframe tbody tr th {\n",
       "        vertical-align: top;\n",
       "    }\n",
       "\n",
       "    .dataframe thead th {\n",
       "        text-align: right;\n",
       "    }\n",
       "</style>\n",
       "<table border=\"1\" class=\"dataframe\">\n",
       "  <thead>\n",
       "    <tr style=\"text-align: right;\">\n",
       "      <th></th>\n",
       "      <th>Values</th>\n",
       "      <th>Fish</th>\n",
       "      <th>Parameter</th>\n",
       "    </tr>\n",
       "  </thead>\n",
       "  <tbody>\n",
       "  </tbody>\n",
       "</table>\n",
       "</div>"
      ],
      "text/plain": [
       "Empty DataFrame\n",
       "Columns: [Values, Fish, Parameter]\n",
       "Index: []"
      ]
     },
     "execution_count": 75,
     "metadata": {},
     "output_type": "execute_result"
    }
   ],
   "source": [
    "newdf"
   ]
  },
  {
   "cell_type": "code",
   "execution_count": 76,
   "id": "366b8377",
   "metadata": {},
   "outputs": [
    {
     "data": {
      "text/plain": [
       "0    0.69\n",
       "1    0.95\n",
       "2    1.36\n",
       "3    2.37\n",
       "4    0.27\n",
       "5    1.13\n",
       "6    1.02\n",
       "7    1.98\n",
       "Name: Cr, dtype: float64"
      ]
     },
     "execution_count": 76,
     "metadata": {},
     "output_type": "execute_result"
    }
   ],
   "source": [
    "df.Cr"
   ]
  },
  {
   "cell_type": "code",
   "execution_count": 79,
   "id": "95e82b06",
   "metadata": {},
   "outputs": [
    {
     "data": {
      "text/plain": [
       "Index(['Cr', 'Mn', 'Fe', 'Co', 'Cu', 'Zn', 'As', 'Se', 'Pb', 'Cd', 'Hg',\n",
       "       'Protein', 'OPFA', 'Lipid'],\n",
       "      dtype='object')"
      ]
     },
     "execution_count": 79,
     "metadata": {},
     "output_type": "execute_result"
    }
   ],
   "source": [
    "param = df.columns[1:]\n",
    "param"
   ]
  },
  {
   "cell_type": "code",
   "execution_count": 80,
   "id": "45a367c6",
   "metadata": {},
   "outputs": [],
   "source": [
    "hm = []\n",
    "for i in range(len(param)):\n",
    "    for _ in range(8):\n",
    "        hm.append(param[i])\n",
    "    "
   ]
  },
  {
   "cell_type": "code",
   "execution_count": 81,
   "id": "d6b7f205",
   "metadata": {},
   "outputs": [
    {
     "data": {
      "text/plain": [
       "112"
      ]
     },
     "execution_count": 81,
     "metadata": {},
     "output_type": "execute_result"
    }
   ],
   "source": [
    "len(hm)"
   ]
  },
  {
   "cell_type": "code",
   "execution_count": 82,
   "id": "6294c4c3",
   "metadata": {},
   "outputs": [],
   "source": [
    "species = df[\"FishSpecies\"]\n",
    "species = list(species)"
   ]
  },
  {
   "cell_type": "code",
   "execution_count": 84,
   "id": "8fcd8f04",
   "metadata": {},
   "outputs": [],
   "source": [
    "sp = []\n",
    "for _ in range(len(param)):\n",
    "    sp.append(species[:])"
   ]
  },
  {
   "cell_type": "code",
   "execution_count": 85,
   "id": "5384e29c",
   "metadata": {},
   "outputs": [
    {
     "data": {
      "text/plain": [
       "[['Ghagra', 'Koi', 'Tatkini', 'Tengra', 'Batashi', 'Jatka', 'Rani', 'Chanda'],\n",
       " ['Ghagra', 'Koi', 'Tatkini', 'Tengra', 'Batashi', 'Jatka', 'Rani', 'Chanda'],\n",
       " ['Ghagra', 'Koi', 'Tatkini', 'Tengra', 'Batashi', 'Jatka', 'Rani', 'Chanda'],\n",
       " ['Ghagra', 'Koi', 'Tatkini', 'Tengra', 'Batashi', 'Jatka', 'Rani', 'Chanda'],\n",
       " ['Ghagra', 'Koi', 'Tatkini', 'Tengra', 'Batashi', 'Jatka', 'Rani', 'Chanda'],\n",
       " ['Ghagra', 'Koi', 'Tatkini', 'Tengra', 'Batashi', 'Jatka', 'Rani', 'Chanda'],\n",
       " ['Ghagra', 'Koi', 'Tatkini', 'Tengra', 'Batashi', 'Jatka', 'Rani', 'Chanda'],\n",
       " ['Ghagra', 'Koi', 'Tatkini', 'Tengra', 'Batashi', 'Jatka', 'Rani', 'Chanda'],\n",
       " ['Ghagra', 'Koi', 'Tatkini', 'Tengra', 'Batashi', 'Jatka', 'Rani', 'Chanda'],\n",
       " ['Ghagra', 'Koi', 'Tatkini', 'Tengra', 'Batashi', 'Jatka', 'Rani', 'Chanda'],\n",
       " ['Ghagra', 'Koi', 'Tatkini', 'Tengra', 'Batashi', 'Jatka', 'Rani', 'Chanda'],\n",
       " ['Ghagra', 'Koi', 'Tatkini', 'Tengra', 'Batashi', 'Jatka', 'Rani', 'Chanda'],\n",
       " ['Ghagra', 'Koi', 'Tatkini', 'Tengra', 'Batashi', 'Jatka', 'Rani', 'Chanda'],\n",
       " ['Ghagra', 'Koi', 'Tatkini', 'Tengra', 'Batashi', 'Jatka', 'Rani', 'Chanda']]"
      ]
     },
     "execution_count": 85,
     "metadata": {},
     "output_type": "execute_result"
    }
   ],
   "source": [
    "sp"
   ]
  },
  {
   "cell_type": "code",
   "execution_count": 86,
   "id": "7cb7bc73",
   "metadata": {},
   "outputs": [],
   "source": [
    "sparr = np.array(sp)"
   ]
  },
  {
   "cell_type": "code",
   "execution_count": 87,
   "id": "f1f34477",
   "metadata": {},
   "outputs": [],
   "source": [
    "sparr = sparr.flatten()"
   ]
  },
  {
   "cell_type": "code",
   "execution_count": 92,
   "id": "0de6128e",
   "metadata": {},
   "outputs": [],
   "source": [
    "newdf[\"Parameter\"] = hm\n",
    "newdf[\"Fish\"] = sparr"
   ]
  },
  {
   "cell_type": "code",
   "execution_count": 93,
   "id": "7ae4bb4a",
   "metadata": {},
   "outputs": [
    {
     "data": {
      "text/html": [
       "<div>\n",
       "<style scoped>\n",
       "    .dataframe tbody tr th:only-of-type {\n",
       "        vertical-align: middle;\n",
       "    }\n",
       "\n",
       "    .dataframe tbody tr th {\n",
       "        vertical-align: top;\n",
       "    }\n",
       "\n",
       "    .dataframe thead th {\n",
       "        text-align: right;\n",
       "    }\n",
       "</style>\n",
       "<table border=\"1\" class=\"dataframe\">\n",
       "  <thead>\n",
       "    <tr style=\"text-align: right;\">\n",
       "      <th></th>\n",
       "      <th>Values</th>\n",
       "      <th>Fish</th>\n",
       "      <th>Parameter</th>\n",
       "    </tr>\n",
       "  </thead>\n",
       "  <tbody>\n",
       "    <tr>\n",
       "      <th>0</th>\n",
       "      <td>NaN</td>\n",
       "      <td>Ghagra</td>\n",
       "      <td>Cr</td>\n",
       "    </tr>\n",
       "    <tr>\n",
       "      <th>1</th>\n",
       "      <td>NaN</td>\n",
       "      <td>Koi</td>\n",
       "      <td>Cr</td>\n",
       "    </tr>\n",
       "    <tr>\n",
       "      <th>2</th>\n",
       "      <td>NaN</td>\n",
       "      <td>Tatkini</td>\n",
       "      <td>Cr</td>\n",
       "    </tr>\n",
       "    <tr>\n",
       "      <th>3</th>\n",
       "      <td>NaN</td>\n",
       "      <td>Tengra</td>\n",
       "      <td>Cr</td>\n",
       "    </tr>\n",
       "    <tr>\n",
       "      <th>4</th>\n",
       "      <td>NaN</td>\n",
       "      <td>Batashi</td>\n",
       "      <td>Cr</td>\n",
       "    </tr>\n",
       "    <tr>\n",
       "      <th>...</th>\n",
       "      <td>...</td>\n",
       "      <td>...</td>\n",
       "      <td>...</td>\n",
       "    </tr>\n",
       "    <tr>\n",
       "      <th>107</th>\n",
       "      <td>NaN</td>\n",
       "      <td>Tengra</td>\n",
       "      <td>Lipid</td>\n",
       "    </tr>\n",
       "    <tr>\n",
       "      <th>108</th>\n",
       "      <td>NaN</td>\n",
       "      <td>Batashi</td>\n",
       "      <td>Lipid</td>\n",
       "    </tr>\n",
       "    <tr>\n",
       "      <th>109</th>\n",
       "      <td>NaN</td>\n",
       "      <td>Jatka</td>\n",
       "      <td>Lipid</td>\n",
       "    </tr>\n",
       "    <tr>\n",
       "      <th>110</th>\n",
       "      <td>NaN</td>\n",
       "      <td>Rani</td>\n",
       "      <td>Lipid</td>\n",
       "    </tr>\n",
       "    <tr>\n",
       "      <th>111</th>\n",
       "      <td>NaN</td>\n",
       "      <td>Chanda</td>\n",
       "      <td>Lipid</td>\n",
       "    </tr>\n",
       "  </tbody>\n",
       "</table>\n",
       "<p>112 rows × 3 columns</p>\n",
       "</div>"
      ],
      "text/plain": [
       "    Values     Fish Parameter\n",
       "0      NaN   Ghagra        Cr\n",
       "1      NaN      Koi        Cr\n",
       "2      NaN  Tatkini        Cr\n",
       "3      NaN   Tengra        Cr\n",
       "4      NaN  Batashi        Cr\n",
       "..     ...      ...       ...\n",
       "107    NaN   Tengra     Lipid\n",
       "108    NaN  Batashi     Lipid\n",
       "109    NaN    Jatka     Lipid\n",
       "110    NaN     Rani     Lipid\n",
       "111    NaN   Chanda     Lipid\n",
       "\n",
       "[112 rows x 3 columns]"
      ]
     },
     "execution_count": 93,
     "metadata": {},
     "output_type": "execute_result"
    }
   ],
   "source": [
    "newdf"
   ]
  },
  {
   "cell_type": "code",
   "execution_count": 94,
   "id": "f9a6ad6b",
   "metadata": {},
   "outputs": [
    {
     "data": {
      "text/plain": [
       "Index(['Cr', 'Mn', 'Fe', 'Co', 'Cu', 'Zn', 'As', 'Se', 'Pb', 'Cd', 'Hg',\n",
       "       'Protein', 'OPFA', 'Lipid'],\n",
       "      dtype='object')"
      ]
     },
     "execution_count": 94,
     "metadata": {},
     "output_type": "execute_result"
    }
   ],
   "source": [
    "param"
   ]
  },
  {
   "cell_type": "code",
   "execution_count": 96,
   "id": "333422e8",
   "metadata": {},
   "outputs": [
    {
     "data": {
      "text/plain": [
       "array([0.69, 0.95, 1.36, 2.37, 0.27, 1.13, 1.02, 1.98])"
      ]
     },
     "execution_count": 96,
     "metadata": {},
     "output_type": "execute_result"
    }
   ],
   "source": [
    "df[\"Cr\"].values"
   ]
  },
  {
   "cell_type": "code",
   "execution_count": 98,
   "id": "e0c543c0",
   "metadata": {},
   "outputs": [],
   "source": [
    "vals = []\n",
    "for i in range(len(param)):\n",
    "    for val in df[param[i]].values:\n",
    "        vals.append(val)"
   ]
  },
  {
   "cell_type": "code",
   "execution_count": 102,
   "id": "6c877473",
   "metadata": {},
   "outputs": [
    {
     "data": {
      "text/html": [
       "<div>\n",
       "<style scoped>\n",
       "    .dataframe tbody tr th:only-of-type {\n",
       "        vertical-align: middle;\n",
       "    }\n",
       "\n",
       "    .dataframe tbody tr th {\n",
       "        vertical-align: top;\n",
       "    }\n",
       "\n",
       "    .dataframe thead th {\n",
       "        text-align: right;\n",
       "    }\n",
       "</style>\n",
       "<table border=\"1\" class=\"dataframe\">\n",
       "  <thead>\n",
       "    <tr style=\"text-align: right;\">\n",
       "      <th></th>\n",
       "      <th>FishSpecies</th>\n",
       "      <th>Cr</th>\n",
       "      <th>Mn</th>\n",
       "      <th>Fe</th>\n",
       "      <th>Co</th>\n",
       "      <th>Cu</th>\n",
       "      <th>Zn</th>\n",
       "      <th>As</th>\n",
       "      <th>Se</th>\n",
       "      <th>Pb</th>\n",
       "      <th>Cd</th>\n",
       "      <th>Hg</th>\n",
       "      <th>Protein</th>\n",
       "      <th>OPFA</th>\n",
       "      <th>Lipid</th>\n",
       "    </tr>\n",
       "  </thead>\n",
       "  <tbody>\n",
       "    <tr>\n",
       "      <th>0</th>\n",
       "      <td>Ghagra</td>\n",
       "      <td>0.69</td>\n",
       "      <td>1.63</td>\n",
       "      <td>105.47</td>\n",
       "      <td>1.27</td>\n",
       "      <td>22.16</td>\n",
       "      <td>82.25</td>\n",
       "      <td>0.43</td>\n",
       "      <td>2.79</td>\n",
       "      <td>0.78</td>\n",
       "      <td>0.53</td>\n",
       "      <td>0.55</td>\n",
       "      <td>15.8</td>\n",
       "      <td>0.680</td>\n",
       "      <td>12.79</td>\n",
       "    </tr>\n",
       "    <tr>\n",
       "      <th>1</th>\n",
       "      <td>Koi</td>\n",
       "      <td>0.95</td>\n",
       "      <td>0.49</td>\n",
       "      <td>83.99</td>\n",
       "      <td>2.68</td>\n",
       "      <td>19.82</td>\n",
       "      <td>149.47</td>\n",
       "      <td>0.47</td>\n",
       "      <td>3.99</td>\n",
       "      <td>1.18</td>\n",
       "      <td>0.87</td>\n",
       "      <td>0.76</td>\n",
       "      <td>16.4</td>\n",
       "      <td>0.375</td>\n",
       "      <td>12.10</td>\n",
       "    </tr>\n",
       "    <tr>\n",
       "      <th>2</th>\n",
       "      <td>Tatkini</td>\n",
       "      <td>1.36</td>\n",
       "      <td>0.42</td>\n",
       "      <td>77.85</td>\n",
       "      <td>3.61</td>\n",
       "      <td>17.15</td>\n",
       "      <td>135.34</td>\n",
       "      <td>0.56</td>\n",
       "      <td>4.77</td>\n",
       "      <td>0.63</td>\n",
       "      <td>2.17</td>\n",
       "      <td>0.98</td>\n",
       "      <td>17.3</td>\n",
       "      <td>0.240</td>\n",
       "      <td>9.82</td>\n",
       "    </tr>\n",
       "    <tr>\n",
       "      <th>3</th>\n",
       "      <td>Tengra</td>\n",
       "      <td>2.37</td>\n",
       "      <td>0.74</td>\n",
       "      <td>90.12</td>\n",
       "      <td>5.13</td>\n",
       "      <td>21.59</td>\n",
       "      <td>81.27</td>\n",
       "      <td>0.61</td>\n",
       "      <td>5.37</td>\n",
       "      <td>0.97</td>\n",
       "      <td>3.15</td>\n",
       "      <td>1.24</td>\n",
       "      <td>17.5</td>\n",
       "      <td>0.115</td>\n",
       "      <td>7.10</td>\n",
       "    </tr>\n",
       "    <tr>\n",
       "      <th>4</th>\n",
       "      <td>Batashi</td>\n",
       "      <td>0.27</td>\n",
       "      <td>0.35</td>\n",
       "      <td>43.52</td>\n",
       "      <td>3.49</td>\n",
       "      <td>15.19</td>\n",
       "      <td>129.11</td>\n",
       "      <td>0.42</td>\n",
       "      <td>3.21</td>\n",
       "      <td>0.58</td>\n",
       "      <td>0.72</td>\n",
       "      <td>0.69</td>\n",
       "      <td>15.1</td>\n",
       "      <td>0.300</td>\n",
       "      <td>10.70</td>\n",
       "    </tr>\n",
       "    <tr>\n",
       "      <th>5</th>\n",
       "      <td>Jatka</td>\n",
       "      <td>1.13</td>\n",
       "      <td>0.93</td>\n",
       "      <td>94.58</td>\n",
       "      <td>3.05</td>\n",
       "      <td>28.90</td>\n",
       "      <td>172.53</td>\n",
       "      <td>0.51</td>\n",
       "      <td>4.39</td>\n",
       "      <td>0.46</td>\n",
       "      <td>1.76</td>\n",
       "      <td>1.71</td>\n",
       "      <td>18.7</td>\n",
       "      <td>0.430</td>\n",
       "      <td>11.56</td>\n",
       "    </tr>\n",
       "    <tr>\n",
       "      <th>6</th>\n",
       "      <td>Rani</td>\n",
       "      <td>1.02</td>\n",
       "      <td>1.65</td>\n",
       "      <td>114.31</td>\n",
       "      <td>3.52</td>\n",
       "      <td>11.48</td>\n",
       "      <td>161.89</td>\n",
       "      <td>0.52</td>\n",
       "      <td>4.15</td>\n",
       "      <td>0.61</td>\n",
       "      <td>2.11</td>\n",
       "      <td>0.93</td>\n",
       "      <td>15.3</td>\n",
       "      <td>0.345</td>\n",
       "      <td>11.15</td>\n",
       "    </tr>\n",
       "    <tr>\n",
       "      <th>7</th>\n",
       "      <td>Chanda</td>\n",
       "      <td>1.98</td>\n",
       "      <td>1.78</td>\n",
       "      <td>133.25</td>\n",
       "      <td>4.77</td>\n",
       "      <td>23.95</td>\n",
       "      <td>158.31</td>\n",
       "      <td>0.57</td>\n",
       "      <td>5.10</td>\n",
       "      <td>0.78</td>\n",
       "      <td>2.79</td>\n",
       "      <td>1.50</td>\n",
       "      <td>16.5</td>\n",
       "      <td>0.195</td>\n",
       "      <td>7.69</td>\n",
       "    </tr>\n",
       "  </tbody>\n",
       "</table>\n",
       "</div>"
      ],
      "text/plain": [
       "  FishSpecies    Cr    Mn      Fe    Co     Cu      Zn    As    Se    Pb  \\\n",
       "0      Ghagra  0.69  1.63  105.47  1.27  22.16   82.25  0.43  2.79  0.78   \n",
       "1         Koi  0.95  0.49   83.99  2.68  19.82  149.47  0.47  3.99  1.18   \n",
       "2     Tatkini  1.36  0.42   77.85  3.61  17.15  135.34  0.56  4.77  0.63   \n",
       "3      Tengra  2.37  0.74   90.12  5.13  21.59   81.27  0.61  5.37  0.97   \n",
       "4     Batashi  0.27  0.35   43.52  3.49  15.19  129.11  0.42  3.21  0.58   \n",
       "5       Jatka  1.13  0.93   94.58  3.05  28.90  172.53  0.51  4.39  0.46   \n",
       "6        Rani  1.02  1.65  114.31  3.52  11.48  161.89  0.52  4.15  0.61   \n",
       "7      Chanda  1.98  1.78  133.25  4.77  23.95  158.31  0.57  5.10  0.78   \n",
       "\n",
       "     Cd    Hg  Protein   OPFA  Lipid  \n",
       "0  0.53  0.55     15.8  0.680  12.79  \n",
       "1  0.87  0.76     16.4  0.375  12.10  \n",
       "2  2.17  0.98     17.3  0.240   9.82  \n",
       "3  3.15  1.24     17.5  0.115   7.10  \n",
       "4  0.72  0.69     15.1  0.300  10.70  \n",
       "5  1.76  1.71     18.7  0.430  11.56  \n",
       "6  2.11  0.93     15.3  0.345  11.15  \n",
       "7  2.79  1.50     16.5  0.195   7.69  "
      ]
     },
     "execution_count": 102,
     "metadata": {},
     "output_type": "execute_result"
    }
   ],
   "source": [
    "df"
   ]
  },
  {
   "cell_type": "code",
   "execution_count": 105,
   "id": "a08274e0",
   "metadata": {},
   "outputs": [
    {
     "data": {
      "text/plain": [
       "[0.69,\n",
       " 0.95,\n",
       " 1.36,\n",
       " 2.37,\n",
       " 0.27,\n",
       " 1.13,\n",
       " 1.02,\n",
       " 1.98,\n",
       " 1.63,\n",
       " 0.49,\n",
       " 0.42,\n",
       " 0.74,\n",
       " 0.35,\n",
       " 0.93,\n",
       " 1.65]"
      ]
     },
     "execution_count": 105,
     "metadata": {},
     "output_type": "execute_result"
    }
   ],
   "source": [
    "vals[:15]"
   ]
  },
  {
   "cell_type": "code",
   "execution_count": 106,
   "id": "b7184985",
   "metadata": {},
   "outputs": [],
   "source": [
    "newdf[\"Values\"] = vals"
   ]
  },
  {
   "cell_type": "code",
   "execution_count": 107,
   "id": "978f0a4c",
   "metadata": {},
   "outputs": [
    {
     "data": {
      "text/html": [
       "<div>\n",
       "<style scoped>\n",
       "    .dataframe tbody tr th:only-of-type {\n",
       "        vertical-align: middle;\n",
       "    }\n",
       "\n",
       "    .dataframe tbody tr th {\n",
       "        vertical-align: top;\n",
       "    }\n",
       "\n",
       "    .dataframe thead th {\n",
       "        text-align: right;\n",
       "    }\n",
       "</style>\n",
       "<table border=\"1\" class=\"dataframe\">\n",
       "  <thead>\n",
       "    <tr style=\"text-align: right;\">\n",
       "      <th></th>\n",
       "      <th>Values</th>\n",
       "      <th>Fish</th>\n",
       "      <th>Parameter</th>\n",
       "    </tr>\n",
       "  </thead>\n",
       "  <tbody>\n",
       "    <tr>\n",
       "      <th>0</th>\n",
       "      <td>0.69</td>\n",
       "      <td>Ghagra</td>\n",
       "      <td>Cr</td>\n",
       "    </tr>\n",
       "    <tr>\n",
       "      <th>1</th>\n",
       "      <td>0.95</td>\n",
       "      <td>Koi</td>\n",
       "      <td>Cr</td>\n",
       "    </tr>\n",
       "    <tr>\n",
       "      <th>2</th>\n",
       "      <td>1.36</td>\n",
       "      <td>Tatkini</td>\n",
       "      <td>Cr</td>\n",
       "    </tr>\n",
       "    <tr>\n",
       "      <th>3</th>\n",
       "      <td>2.37</td>\n",
       "      <td>Tengra</td>\n",
       "      <td>Cr</td>\n",
       "    </tr>\n",
       "    <tr>\n",
       "      <th>4</th>\n",
       "      <td>0.27</td>\n",
       "      <td>Batashi</td>\n",
       "      <td>Cr</td>\n",
       "    </tr>\n",
       "    <tr>\n",
       "      <th>...</th>\n",
       "      <td>...</td>\n",
       "      <td>...</td>\n",
       "      <td>...</td>\n",
       "    </tr>\n",
       "    <tr>\n",
       "      <th>107</th>\n",
       "      <td>7.10</td>\n",
       "      <td>Tengra</td>\n",
       "      <td>Lipid</td>\n",
       "    </tr>\n",
       "    <tr>\n",
       "      <th>108</th>\n",
       "      <td>10.70</td>\n",
       "      <td>Batashi</td>\n",
       "      <td>Lipid</td>\n",
       "    </tr>\n",
       "    <tr>\n",
       "      <th>109</th>\n",
       "      <td>11.56</td>\n",
       "      <td>Jatka</td>\n",
       "      <td>Lipid</td>\n",
       "    </tr>\n",
       "    <tr>\n",
       "      <th>110</th>\n",
       "      <td>11.15</td>\n",
       "      <td>Rani</td>\n",
       "      <td>Lipid</td>\n",
       "    </tr>\n",
       "    <tr>\n",
       "      <th>111</th>\n",
       "      <td>7.69</td>\n",
       "      <td>Chanda</td>\n",
       "      <td>Lipid</td>\n",
       "    </tr>\n",
       "  </tbody>\n",
       "</table>\n",
       "<p>112 rows × 3 columns</p>\n",
       "</div>"
      ],
      "text/plain": [
       "     Values     Fish Parameter\n",
       "0      0.69   Ghagra        Cr\n",
       "1      0.95      Koi        Cr\n",
       "2      1.36  Tatkini        Cr\n",
       "3      2.37   Tengra        Cr\n",
       "4      0.27  Batashi        Cr\n",
       "..      ...      ...       ...\n",
       "107    7.10   Tengra     Lipid\n",
       "108   10.70  Batashi     Lipid\n",
       "109   11.56    Jatka     Lipid\n",
       "110   11.15     Rani     Lipid\n",
       "111    7.69   Chanda     Lipid\n",
       "\n",
       "[112 rows x 3 columns]"
      ]
     },
     "execution_count": 107,
     "metadata": {},
     "output_type": "execute_result"
    }
   ],
   "source": [
    "newdf"
   ]
  },
  {
   "cell_type": "code",
   "execution_count": 108,
   "id": "8630367a",
   "metadata": {},
   "outputs": [],
   "source": [
    "newdf.to_csv(\"data/transformedData.csv\")"
   ]
  },
  {
   "cell_type": "code",
   "execution_count": 109,
   "id": "e9ae5a7c",
   "metadata": {},
   "outputs": [
    {
     "name": "stderr",
     "output_type": "stream",
     "text": [
      "/home/RHHLab/anaconda3/lib/python3.9/site-packages/pingouin/parametric.py:1091: RuntimeWarning: invalid value encountered in double_scalars\n",
      "  ms_resid = ss_resid / df_resid\n"
     ]
    }
   ],
   "source": [
    "aov = pg.anova(dv= \"Values\", between=[\"Fish\", \"Parameter\"], data= newdf, detailed=True)"
   ]
  },
  {
   "cell_type": "code",
   "execution_count": 111,
   "id": "08b23a04",
   "metadata": {},
   "outputs": [],
   "source": [
    "anovatable = aov.copy()"
   ]
  },
  {
   "cell_type": "code",
   "execution_count": 112,
   "id": "f25f05d3",
   "metadata": {},
   "outputs": [
    {
     "data": {
      "text/html": [
       "<div>\n",
       "<style scoped>\n",
       "    .dataframe tbody tr th:only-of-type {\n",
       "        vertical-align: middle;\n",
       "    }\n",
       "\n",
       "    .dataframe tbody tr th {\n",
       "        vertical-align: top;\n",
       "    }\n",
       "\n",
       "    .dataframe thead th {\n",
       "        text-align: right;\n",
       "    }\n",
       "</style>\n",
       "<table border=\"1\" class=\"dataframe\">\n",
       "  <thead>\n",
       "    <tr style=\"text-align: right;\">\n",
       "      <th></th>\n",
       "      <th>Source</th>\n",
       "      <th>SS</th>\n",
       "      <th>DF</th>\n",
       "      <th>MS</th>\n",
       "      <th>np2</th>\n",
       "    </tr>\n",
       "  </thead>\n",
       "  <tbody>\n",
       "    <tr>\n",
       "      <th>0</th>\n",
       "      <td>Fish</td>\n",
       "      <td>1294.564271</td>\n",
       "      <td>7</td>\n",
       "      <td>184.937753</td>\n",
       "      <td>1.0</td>\n",
       "    </tr>\n",
       "    <tr>\n",
       "      <th>1</th>\n",
       "      <td>Parameter</td>\n",
       "      <td>171378.772950</td>\n",
       "      <td>13</td>\n",
       "      <td>13182.982535</td>\n",
       "      <td>1.0</td>\n",
       "    </tr>\n",
       "    <tr>\n",
       "      <th>2</th>\n",
       "      <td>Fish * Parameter</td>\n",
       "      <td>12556.510979</td>\n",
       "      <td>91</td>\n",
       "      <td>137.983637</td>\n",
       "      <td>1.0</td>\n",
       "    </tr>\n",
       "    <tr>\n",
       "      <th>3</th>\n",
       "      <td>Residual</td>\n",
       "      <td>0.000000</td>\n",
       "      <td>0</td>\n",
       "      <td>NaN</td>\n",
       "      <td>NaN</td>\n",
       "    </tr>\n",
       "  </tbody>\n",
       "</table>\n",
       "</div>"
      ],
      "text/plain": [
       "             Source             SS  DF            MS  np2\n",
       "0              Fish    1294.564271   7    184.937753  1.0\n",
       "1         Parameter  171378.772950  13  13182.982535  1.0\n",
       "2  Fish * Parameter   12556.510979  91    137.983637  1.0\n",
       "3          Residual       0.000000   0           NaN  NaN"
      ]
     },
     "execution_count": 112,
     "metadata": {},
     "output_type": "execute_result"
    }
   ],
   "source": [
    "anovatable"
   ]
  },
  {
   "cell_type": "code",
   "execution_count": 113,
   "id": "abe0bfea",
   "metadata": {},
   "outputs": [
    {
     "name": "stdout",
     "output_type": "stream",
     "text": [
      "             Source             SS  DF            MS  np2\n",
      "0              Fish    1294.564271   7    184.937753  1.0\n",
      "1         Parameter  171378.772950  13  13182.982535  1.0\n",
      "2  Fish * Parameter   12556.510979  91    137.983637  1.0\n",
      "3          Residual       0.000000   0           NaN  NaN\n"
     ]
    }
   ],
   "source": [
    "print(aov)"
   ]
  },
  {
   "cell_type": "code",
   "execution_count": 114,
   "id": "643d0bb4",
   "metadata": {},
   "outputs": [
    {
     "name": "stderr",
     "output_type": "stream",
     "text": [
      "/home/RHHLab/anaconda3/lib/python3.9/site-packages/pingouin/parametric.py:1091: RuntimeWarning: invalid value encountered in double_scalars\n",
      "  ms_resid = ss_resid / df_resid\n"
     ]
    }
   ],
   "source": [
    "aov = pg.anova(dv='Values', between=['Parameter', \"Fish\"], data=newdf,\n",
    "               detailed=True)"
   ]
  },
  {
   "cell_type": "code",
   "execution_count": 117,
   "id": "1bd2b3a9",
   "metadata": {},
   "outputs": [
    {
     "data": {
      "text/plain": [
       "0.115"
      ]
     },
     "execution_count": 117,
     "metadata": {},
     "output_type": "execute_result"
    }
   ],
   "source": [
    "newdf[\"Values\"].min()"
   ]
  },
  {
   "cell_type": "code",
   "execution_count": 2,
   "id": "31c1c43e",
   "metadata": {},
   "outputs": [],
   "source": [
    "from statsmodels.formula.api import ols \n",
    "from statsmodels.stats.anova import anova_lm\n",
    "import statsmodels.api as sm"
   ]
  },
  {
   "cell_type": "code",
   "execution_count": 119,
   "id": "3e49210b",
   "metadata": {},
   "outputs": [
    {
     "name": "stderr",
     "output_type": "stream",
     "text": [
      "/home/RHHLab/anaconda3/lib/python3.9/site-packages/statsmodels/regression/linear_model.py:1671: RuntimeWarning: divide by zero encountered in double_scalars\n",
      "  return np.dot(wresid, wresid) / self.df_resid\n"
     ]
    },
    {
     "ename": "ValueError",
     "evalue": "array must not contain infs or NaNs",
     "output_type": "error",
     "traceback": [
      "\u001b[0;31m---------------------------------------------------------------------------\u001b[0m",
      "\u001b[0;31mValueError\u001b[0m                                Traceback (most recent call last)",
      "Input \u001b[0;32mIn [119]\u001b[0m, in \u001b[0;36m<cell line: 3>\u001b[0;34m()\u001b[0m\n\u001b[1;32m      1\u001b[0m formula \u001b[38;5;241m=\u001b[39m \u001b[38;5;124m\"\u001b[39m\u001b[38;5;124mValues ~ C(Fish) + C(Parameter) + C(Fish):C(Parameter)\u001b[39m\u001b[38;5;124m\"\u001b[39m\n\u001b[1;32m      2\u001b[0m model \u001b[38;5;241m=\u001b[39m ols(formula, newdf)\u001b[38;5;241m.\u001b[39mfit()\n\u001b[0;32m----> 3\u001b[0m aov_table \u001b[38;5;241m=\u001b[39m \u001b[43manova_lm\u001b[49m\u001b[43m(\u001b[49m\u001b[43mmodel\u001b[49m\u001b[43m,\u001b[49m\u001b[43m \u001b[49m\u001b[43mtyp\u001b[49m\u001b[38;5;241;43m=\u001b[39;49m\u001b[38;5;241;43m2\u001b[39;49m\u001b[43m)\u001b[49m\n",
      "File \u001b[0;32m~/anaconda3/lib/python3.9/site-packages/statsmodels/stats/anova.py:349\u001b[0m, in \u001b[0;36manova_lm\u001b[0;34m(*args, **kwargs)\u001b[0m\n\u001b[1;32m    347\u001b[0m \u001b[38;5;28;01mif\u001b[39;00m \u001b[38;5;28mlen\u001b[39m(args) \u001b[38;5;241m==\u001b[39m \u001b[38;5;241m1\u001b[39m:\n\u001b[1;32m    348\u001b[0m     model \u001b[38;5;241m=\u001b[39m args[\u001b[38;5;241m0\u001b[39m]\n\u001b[0;32m--> 349\u001b[0m     \u001b[38;5;28;01mreturn\u001b[39;00m \u001b[43manova_single\u001b[49m\u001b[43m(\u001b[49m\u001b[43mmodel\u001b[49m\u001b[43m,\u001b[49m\u001b[43m \u001b[49m\u001b[38;5;241;43m*\u001b[39;49m\u001b[38;5;241;43m*\u001b[39;49m\u001b[43mkwargs\u001b[49m\u001b[43m)\u001b[49m\n\u001b[1;32m    351\u001b[0m \u001b[38;5;28;01mif\u001b[39;00m typ \u001b[38;5;129;01mnot\u001b[39;00m \u001b[38;5;129;01min\u001b[39;00m [\u001b[38;5;241m1\u001b[39m, \u001b[38;5;124m\"\u001b[39m\u001b[38;5;124mI\u001b[39m\u001b[38;5;124m\"\u001b[39m]:\n\u001b[1;32m    352\u001b[0m     \u001b[38;5;28;01mraise\u001b[39;00m \u001b[38;5;167;01mValueError\u001b[39;00m(\u001b[38;5;124m\"\u001b[39m\u001b[38;5;124mMultiple models only supported for type I. \u001b[39m\u001b[38;5;124m\"\u001b[39m\n\u001b[1;32m    353\u001b[0m                      \u001b[38;5;124m\"\u001b[39m\u001b[38;5;124mGot type \u001b[39m\u001b[38;5;132;01m%s\u001b[39;00m\u001b[38;5;124m\"\u001b[39m \u001b[38;5;241m%\u001b[39m \u001b[38;5;28mstr\u001b[39m(typ))\n",
      "File \u001b[0;32m~/anaconda3/lib/python3.9/site-packages/statsmodels/stats/anova.py:80\u001b[0m, in \u001b[0;36manova_single\u001b[0;34m(model, **kwargs)\u001b[0m\n\u001b[1;32m     77\u001b[0m     \u001b[38;5;28;01mreturn\u001b[39;00m anova1_lm_single(model, endog, exog, nobs, design_info, table,\n\u001b[1;32m     78\u001b[0m                             n_rows, test, pr_test, robust)\n\u001b[1;32m     79\u001b[0m \u001b[38;5;28;01melif\u001b[39;00m typ \u001b[38;5;129;01min\u001b[39;00m [\u001b[38;5;241m2\u001b[39m, \u001b[38;5;124m\"\u001b[39m\u001b[38;5;124mII\u001b[39m\u001b[38;5;124m\"\u001b[39m]:\n\u001b[0;32m---> 80\u001b[0m     \u001b[38;5;28;01mreturn\u001b[39;00m \u001b[43manova2_lm_single\u001b[49m\u001b[43m(\u001b[49m\u001b[43mmodel\u001b[49m\u001b[43m,\u001b[49m\u001b[43m \u001b[49m\u001b[43mdesign_info\u001b[49m\u001b[43m,\u001b[49m\u001b[43m \u001b[49m\u001b[43mn_rows\u001b[49m\u001b[43m,\u001b[49m\u001b[43m \u001b[49m\u001b[43mtest\u001b[49m\u001b[43m,\u001b[49m\u001b[43m \u001b[49m\u001b[43mpr_test\u001b[49m\u001b[43m,\u001b[49m\n\u001b[1;32m     81\u001b[0m \u001b[43m                            \u001b[49m\u001b[43mrobust\u001b[49m\u001b[43m)\u001b[49m\n\u001b[1;32m     82\u001b[0m \u001b[38;5;28;01melif\u001b[39;00m typ \u001b[38;5;129;01min\u001b[39;00m [\u001b[38;5;241m3\u001b[39m, \u001b[38;5;124m\"\u001b[39m\u001b[38;5;124mIII\u001b[39m\u001b[38;5;124m\"\u001b[39m]:\n\u001b[1;32m     83\u001b[0m     \u001b[38;5;28;01mreturn\u001b[39;00m anova3_lm_single(model, design_info, n_rows, test, pr_test,\n\u001b[1;32m     84\u001b[0m                             robust)\n",
      "File \u001b[0;32m~/anaconda3/lib/python3.9/site-packages/statsmodels/stats/anova.py:203\u001b[0m, in \u001b[0;36manova2_lm_single\u001b[0;34m(model, design_info, n_rows, test, pr_test, robust)\u001b[0m\n\u001b[1;32m    201\u001b[0m LVL \u001b[38;5;241m=\u001b[39m np\u001b[38;5;241m.\u001b[39mdot(np\u001b[38;5;241m.\u001b[39mdot(L1,robust_cov),L2\u001b[38;5;241m.\u001b[39mT)\n\u001b[1;32m    202\u001b[0m \u001b[38;5;28;01mfrom\u001b[39;00m \u001b[38;5;21;01mscipy\u001b[39;00m \u001b[38;5;28;01mimport\u001b[39;00m linalg\n\u001b[0;32m--> 203\u001b[0m orth_compl,_ \u001b[38;5;241m=\u001b[39m \u001b[43mlinalg\u001b[49m\u001b[38;5;241;43m.\u001b[39;49m\u001b[43mqr\u001b[49m\u001b[43m(\u001b[49m\u001b[43mLVL\u001b[49m\u001b[43m)\u001b[49m\n\u001b[1;32m    204\u001b[0m r \u001b[38;5;241m=\u001b[39m L1\u001b[38;5;241m.\u001b[39mshape[\u001b[38;5;241m0\u001b[39m] \u001b[38;5;241m-\u001b[39m L2\u001b[38;5;241m.\u001b[39mshape[\u001b[38;5;241m0\u001b[39m]\n\u001b[1;32m    205\u001b[0m \u001b[38;5;66;03m# L1|2\u001b[39;00m\n\u001b[1;32m    206\u001b[0m \u001b[38;5;66;03m# use the non-unique orthogonal completion since L12 is rank r\u001b[39;00m\n",
      "File \u001b[0;32m~/anaconda3/lib/python3.9/site-packages/scipy/linalg/decomp_qr.py:127\u001b[0m, in \u001b[0;36mqr\u001b[0;34m(a, overwrite_a, lwork, mode, pivoting, check_finite)\u001b[0m\n\u001b[1;32m    123\u001b[0m     \u001b[38;5;28;01mraise\u001b[39;00m \u001b[38;5;167;01mValueError\u001b[39;00m(\u001b[38;5;124m\"\u001b[39m\u001b[38;5;124mMode argument should be one of [\u001b[39m\u001b[38;5;124m'\u001b[39m\u001b[38;5;124mfull\u001b[39m\u001b[38;5;124m'\u001b[39m\u001b[38;5;124m, \u001b[39m\u001b[38;5;124m'\u001b[39m\u001b[38;5;124mr\u001b[39m\u001b[38;5;124m'\u001b[39m\u001b[38;5;124m,\u001b[39m\u001b[38;5;124m\"\u001b[39m\n\u001b[1;32m    124\u001b[0m                      \u001b[38;5;124m\"\u001b[39m\u001b[38;5;124m'\u001b[39m\u001b[38;5;124meconomic\u001b[39m\u001b[38;5;124m'\u001b[39m\u001b[38;5;124m, \u001b[39m\u001b[38;5;124m'\u001b[39m\u001b[38;5;124mraw\u001b[39m\u001b[38;5;124m'\u001b[39m\u001b[38;5;124m]\u001b[39m\u001b[38;5;124m\"\u001b[39m)\n\u001b[1;32m    126\u001b[0m \u001b[38;5;28;01mif\u001b[39;00m check_finite:\n\u001b[0;32m--> 127\u001b[0m     a1 \u001b[38;5;241m=\u001b[39m \u001b[43mnumpy\u001b[49m\u001b[38;5;241;43m.\u001b[39;49m\u001b[43masarray_chkfinite\u001b[49m\u001b[43m(\u001b[49m\u001b[43ma\u001b[49m\u001b[43m)\u001b[49m\n\u001b[1;32m    128\u001b[0m \u001b[38;5;28;01melse\u001b[39;00m:\n\u001b[1;32m    129\u001b[0m     a1 \u001b[38;5;241m=\u001b[39m numpy\u001b[38;5;241m.\u001b[39masarray(a)\n",
      "File \u001b[0;32m~/anaconda3/lib/python3.9/site-packages/numpy/lib/function_base.py:488\u001b[0m, in \u001b[0;36masarray_chkfinite\u001b[0;34m(a, dtype, order)\u001b[0m\n\u001b[1;32m    486\u001b[0m a \u001b[38;5;241m=\u001b[39m asarray(a, dtype\u001b[38;5;241m=\u001b[39mdtype, order\u001b[38;5;241m=\u001b[39morder)\n\u001b[1;32m    487\u001b[0m \u001b[38;5;28;01mif\u001b[39;00m a\u001b[38;5;241m.\u001b[39mdtype\u001b[38;5;241m.\u001b[39mchar \u001b[38;5;129;01min\u001b[39;00m typecodes[\u001b[38;5;124m'\u001b[39m\u001b[38;5;124mAllFloat\u001b[39m\u001b[38;5;124m'\u001b[39m] \u001b[38;5;129;01mand\u001b[39;00m \u001b[38;5;129;01mnot\u001b[39;00m np\u001b[38;5;241m.\u001b[39misfinite(a)\u001b[38;5;241m.\u001b[39mall():\n\u001b[0;32m--> 488\u001b[0m     \u001b[38;5;28;01mraise\u001b[39;00m \u001b[38;5;167;01mValueError\u001b[39;00m(\n\u001b[1;32m    489\u001b[0m         \u001b[38;5;124m\"\u001b[39m\u001b[38;5;124marray must not contain infs or NaNs\u001b[39m\u001b[38;5;124m\"\u001b[39m)\n\u001b[1;32m    490\u001b[0m \u001b[38;5;28;01mreturn\u001b[39;00m a\n",
      "\u001b[0;31mValueError\u001b[0m: array must not contain infs or NaNs"
     ]
    }
   ],
   "source": [
    "formula = \"Values ~ C(Fish) + C(Parameter) + C(Fish):C(Parameter)\"\n",
    "model = ols(formula, newdf).fit()\n",
    "aov_table = anova_lm(model, typ=2)"
   ]
  },
  {
   "cell_type": "code",
   "execution_count": 122,
   "id": "63c76c60",
   "metadata": {},
   "outputs": [
    {
     "data": {
      "text/plain": [
       "False"
      ]
     },
     "execution_count": 122,
     "metadata": {},
     "output_type": "execute_result"
    }
   ],
   "source": [
    "np.isnan(newdf[\"Values\"]).any()"
   ]
  },
  {
   "cell_type": "code",
   "execution_count": 123,
   "id": "ecda6b1f",
   "metadata": {},
   "outputs": [
    {
     "data": {
      "text/plain": [
       "False"
      ]
     },
     "execution_count": 123,
     "metadata": {},
     "output_type": "execute_result"
    }
   ],
   "source": [
    "np.isinf(newdf[\"Values\"]).any()"
   ]
  },
  {
   "cell_type": "code",
   "execution_count": 124,
   "id": "14aef33d",
   "metadata": {},
   "outputs": [],
   "source": [
    "X = (newdf.Values - np.mean(newdf.Values, axis=0)) / np.std(newdf.Values, axis=0)"
   ]
  },
  {
   "cell_type": "code",
   "execution_count": 126,
   "id": "3b627561",
   "metadata": {},
   "outputs": [],
   "source": [
    "newdf[\"Val\"] = X"
   ]
  },
  {
   "cell_type": "code",
   "execution_count": 128,
   "id": "6bf400f1",
   "metadata": {},
   "outputs": [
    {
     "name": "stderr",
     "output_type": "stream",
     "text": [
      "/home/RHHLab/anaconda3/lib/python3.9/site-packages/pingouin/parametric.py:1091: RuntimeWarning: invalid value encountered in double_scalars\n",
      "  ms_resid = ss_resid / df_resid\n"
     ]
    }
   ],
   "source": [
    "aov = pg.anova(dv= \"Val\", between=[\"Fish\", \"Parameter\"], data= newdf, detailed=True)"
   ]
  },
  {
   "cell_type": "code",
   "execution_count": null,
   "id": "e55ea5f1",
   "metadata": {},
   "outputs": [],
   "source": []
  },
  {
   "cell_type": "code",
   "execution_count": 129,
   "id": "85c7ac4c",
   "metadata": {},
   "outputs": [
    {
     "data": {
      "text/html": [
       "<div>\n",
       "<style scoped>\n",
       "    .dataframe tbody tr th:only-of-type {\n",
       "        vertical-align: middle;\n",
       "    }\n",
       "\n",
       "    .dataframe tbody tr th {\n",
       "        vertical-align: top;\n",
       "    }\n",
       "\n",
       "    .dataframe thead th {\n",
       "        text-align: right;\n",
       "    }\n",
       "</style>\n",
       "<table border=\"1\" class=\"dataframe\">\n",
       "  <thead>\n",
       "    <tr style=\"text-align: right;\">\n",
       "      <th></th>\n",
       "      <th>Values</th>\n",
       "      <th>Fish</th>\n",
       "      <th>Parameter</th>\n",
       "      <th>Val</th>\n",
       "    </tr>\n",
       "  </thead>\n",
       "  <tbody>\n",
       "    <tr>\n",
       "      <th>0</th>\n",
       "      <td>0.69</td>\n",
       "      <td>Ghagra</td>\n",
       "      <td>Cr</td>\n",
       "      <td>-0.488721</td>\n",
       "    </tr>\n",
       "    <tr>\n",
       "      <th>1</th>\n",
       "      <td>0.95</td>\n",
       "      <td>Koi</td>\n",
       "      <td>Cr</td>\n",
       "      <td>-0.482327</td>\n",
       "    </tr>\n",
       "    <tr>\n",
       "      <th>2</th>\n",
       "      <td>1.36</td>\n",
       "      <td>Tatkini</td>\n",
       "      <td>Cr</td>\n",
       "      <td>-0.472246</td>\n",
       "    </tr>\n",
       "    <tr>\n",
       "      <th>3</th>\n",
       "      <td>2.37</td>\n",
       "      <td>Tengra</td>\n",
       "      <td>Cr</td>\n",
       "      <td>-0.447410</td>\n",
       "    </tr>\n",
       "    <tr>\n",
       "      <th>4</th>\n",
       "      <td>0.27</td>\n",
       "      <td>Batashi</td>\n",
       "      <td>Cr</td>\n",
       "      <td>-0.499048</td>\n",
       "    </tr>\n",
       "    <tr>\n",
       "      <th>...</th>\n",
       "      <td>...</td>\n",
       "      <td>...</td>\n",
       "      <td>...</td>\n",
       "      <td>...</td>\n",
       "    </tr>\n",
       "    <tr>\n",
       "      <th>107</th>\n",
       "      <td>7.10</td>\n",
       "      <td>Tengra</td>\n",
       "      <td>Lipid</td>\n",
       "      <td>-0.331101</td>\n",
       "    </tr>\n",
       "    <tr>\n",
       "      <th>108</th>\n",
       "      <td>10.70</td>\n",
       "      <td>Batashi</td>\n",
       "      <td>Lipid</td>\n",
       "      <td>-0.242578</td>\n",
       "    </tr>\n",
       "    <tr>\n",
       "      <th>109</th>\n",
       "      <td>11.56</td>\n",
       "      <td>Jatka</td>\n",
       "      <td>Lipid</td>\n",
       "      <td>-0.221430</td>\n",
       "    </tr>\n",
       "    <tr>\n",
       "      <th>110</th>\n",
       "      <td>11.15</td>\n",
       "      <td>Rani</td>\n",
       "      <td>Lipid</td>\n",
       "      <td>-0.231512</td>\n",
       "    </tr>\n",
       "    <tr>\n",
       "      <th>111</th>\n",
       "      <td>7.69</td>\n",
       "      <td>Chanda</td>\n",
       "      <td>Lipid</td>\n",
       "      <td>-0.316593</td>\n",
       "    </tr>\n",
       "  </tbody>\n",
       "</table>\n",
       "<p>104 rows × 4 columns</p>\n",
       "</div>"
      ],
      "text/plain": [
       "     Values     Fish Parameter       Val\n",
       "0      0.69   Ghagra        Cr -0.488721\n",
       "1      0.95      Koi        Cr -0.482327\n",
       "2      1.36  Tatkini        Cr -0.472246\n",
       "3      2.37   Tengra        Cr -0.447410\n",
       "4      0.27  Batashi        Cr -0.499048\n",
       "..      ...      ...       ...       ...\n",
       "107    7.10   Tengra     Lipid -0.331101\n",
       "108   10.70  Batashi     Lipid -0.242578\n",
       "109   11.56    Jatka     Lipid -0.221430\n",
       "110   11.15     Rani     Lipid -0.231512\n",
       "111    7.69   Chanda     Lipid -0.316593\n",
       "\n",
       "[104 rows x 4 columns]"
      ]
     },
     "execution_count": 129,
     "metadata": {},
     "output_type": "execute_result"
    }
   ],
   "source": [
    "param = newdf[newdf[\"Parameter\"] != \"OPFA\"]\n",
    "param"
   ]
  },
  {
   "cell_type": "code",
   "execution_count": 131,
   "id": "8480514a",
   "metadata": {},
   "outputs": [
    {
     "data": {
      "text/plain": [
       "0.27"
      ]
     },
     "execution_count": 131,
     "metadata": {},
     "output_type": "execute_result"
    }
   ],
   "source": [
    "param[\"Values\"].min()"
   ]
  },
  {
   "cell_type": "code",
   "execution_count": 132,
   "id": "393b818e",
   "metadata": {},
   "outputs": [
    {
     "name": "stderr",
     "output_type": "stream",
     "text": [
      "/home/RHHLab/anaconda3/lib/python3.9/site-packages/pingouin/parametric.py:1091: RuntimeWarning: invalid value encountered in double_scalars\n",
      "  ms_resid = ss_resid / df_resid\n"
     ]
    }
   ],
   "source": [
    "aov = pg.anova(dv= \"Values\", between=[\"Fish\", \"Parameter\"], data= param, detailed=True)"
   ]
  },
  {
   "cell_type": "code",
   "execution_count": 133,
   "id": "fd351d7c",
   "metadata": {},
   "outputs": [
    {
     "data": {
      "text/html": [
       "<div>\n",
       "<style scoped>\n",
       "    .dataframe tbody tr th:only-of-type {\n",
       "        vertical-align: middle;\n",
       "    }\n",
       "\n",
       "    .dataframe tbody tr th {\n",
       "        vertical-align: top;\n",
       "    }\n",
       "\n",
       "    .dataframe thead th {\n",
       "        text-align: right;\n",
       "    }\n",
       "</style>\n",
       "<table border=\"1\" class=\"dataframe\">\n",
       "  <thead>\n",
       "    <tr style=\"text-align: right;\">\n",
       "      <th></th>\n",
       "      <th>FishSpecies</th>\n",
       "      <th>Cr</th>\n",
       "      <th>Mn</th>\n",
       "      <th>Fe</th>\n",
       "      <th>Co</th>\n",
       "      <th>Cu</th>\n",
       "      <th>Zn</th>\n",
       "      <th>As</th>\n",
       "      <th>Se</th>\n",
       "      <th>Pb</th>\n",
       "      <th>Cd</th>\n",
       "      <th>Hg</th>\n",
       "      <th>Protein</th>\n",
       "      <th>OPFA</th>\n",
       "      <th>Lipid</th>\n",
       "    </tr>\n",
       "  </thead>\n",
       "  <tbody>\n",
       "    <tr>\n",
       "      <th>0</th>\n",
       "      <td>Ghagra</td>\n",
       "      <td>0.69</td>\n",
       "      <td>1.63</td>\n",
       "      <td>105.47</td>\n",
       "      <td>1.27</td>\n",
       "      <td>22.16</td>\n",
       "      <td>82.25</td>\n",
       "      <td>0.43</td>\n",
       "      <td>2.79</td>\n",
       "      <td>0.78</td>\n",
       "      <td>0.53</td>\n",
       "      <td>0.55</td>\n",
       "      <td>15.8</td>\n",
       "      <td>0.680</td>\n",
       "      <td>12.79</td>\n",
       "    </tr>\n",
       "    <tr>\n",
       "      <th>1</th>\n",
       "      <td>Koi</td>\n",
       "      <td>0.95</td>\n",
       "      <td>0.49</td>\n",
       "      <td>83.99</td>\n",
       "      <td>2.68</td>\n",
       "      <td>19.82</td>\n",
       "      <td>149.47</td>\n",
       "      <td>0.47</td>\n",
       "      <td>3.99</td>\n",
       "      <td>1.18</td>\n",
       "      <td>0.87</td>\n",
       "      <td>0.76</td>\n",
       "      <td>16.4</td>\n",
       "      <td>0.375</td>\n",
       "      <td>12.10</td>\n",
       "    </tr>\n",
       "    <tr>\n",
       "      <th>2</th>\n",
       "      <td>Tatkini</td>\n",
       "      <td>1.36</td>\n",
       "      <td>0.42</td>\n",
       "      <td>77.85</td>\n",
       "      <td>3.61</td>\n",
       "      <td>17.15</td>\n",
       "      <td>135.34</td>\n",
       "      <td>0.56</td>\n",
       "      <td>4.77</td>\n",
       "      <td>0.63</td>\n",
       "      <td>2.17</td>\n",
       "      <td>0.98</td>\n",
       "      <td>17.3</td>\n",
       "      <td>0.240</td>\n",
       "      <td>9.82</td>\n",
       "    </tr>\n",
       "    <tr>\n",
       "      <th>3</th>\n",
       "      <td>Tengra</td>\n",
       "      <td>2.37</td>\n",
       "      <td>0.74</td>\n",
       "      <td>90.12</td>\n",
       "      <td>5.13</td>\n",
       "      <td>21.59</td>\n",
       "      <td>81.27</td>\n",
       "      <td>0.61</td>\n",
       "      <td>5.37</td>\n",
       "      <td>0.97</td>\n",
       "      <td>3.15</td>\n",
       "      <td>1.24</td>\n",
       "      <td>17.5</td>\n",
       "      <td>0.115</td>\n",
       "      <td>7.10</td>\n",
       "    </tr>\n",
       "    <tr>\n",
       "      <th>4</th>\n",
       "      <td>Batashi</td>\n",
       "      <td>0.27</td>\n",
       "      <td>0.35</td>\n",
       "      <td>43.52</td>\n",
       "      <td>3.49</td>\n",
       "      <td>15.19</td>\n",
       "      <td>129.11</td>\n",
       "      <td>0.42</td>\n",
       "      <td>3.21</td>\n",
       "      <td>0.58</td>\n",
       "      <td>0.72</td>\n",
       "      <td>0.69</td>\n",
       "      <td>15.1</td>\n",
       "      <td>0.300</td>\n",
       "      <td>10.70</td>\n",
       "    </tr>\n",
       "    <tr>\n",
       "      <th>5</th>\n",
       "      <td>Jatka</td>\n",
       "      <td>1.13</td>\n",
       "      <td>0.93</td>\n",
       "      <td>94.58</td>\n",
       "      <td>3.05</td>\n",
       "      <td>28.90</td>\n",
       "      <td>172.53</td>\n",
       "      <td>0.51</td>\n",
       "      <td>4.39</td>\n",
       "      <td>0.46</td>\n",
       "      <td>1.76</td>\n",
       "      <td>1.71</td>\n",
       "      <td>18.7</td>\n",
       "      <td>0.430</td>\n",
       "      <td>11.56</td>\n",
       "    </tr>\n",
       "    <tr>\n",
       "      <th>6</th>\n",
       "      <td>Rani</td>\n",
       "      <td>1.02</td>\n",
       "      <td>1.65</td>\n",
       "      <td>114.31</td>\n",
       "      <td>3.52</td>\n",
       "      <td>11.48</td>\n",
       "      <td>161.89</td>\n",
       "      <td>0.52</td>\n",
       "      <td>4.15</td>\n",
       "      <td>0.61</td>\n",
       "      <td>2.11</td>\n",
       "      <td>0.93</td>\n",
       "      <td>15.3</td>\n",
       "      <td>0.345</td>\n",
       "      <td>11.15</td>\n",
       "    </tr>\n",
       "    <tr>\n",
       "      <th>7</th>\n",
       "      <td>Chanda</td>\n",
       "      <td>1.98</td>\n",
       "      <td>1.78</td>\n",
       "      <td>133.25</td>\n",
       "      <td>4.77</td>\n",
       "      <td>23.95</td>\n",
       "      <td>158.31</td>\n",
       "      <td>0.57</td>\n",
       "      <td>5.10</td>\n",
       "      <td>0.78</td>\n",
       "      <td>2.79</td>\n",
       "      <td>1.50</td>\n",
       "      <td>16.5</td>\n",
       "      <td>0.195</td>\n",
       "      <td>7.69</td>\n",
       "    </tr>\n",
       "  </tbody>\n",
       "</table>\n",
       "</div>"
      ],
      "text/plain": [
       "  FishSpecies    Cr    Mn      Fe    Co     Cu      Zn    As    Se    Pb  \\\n",
       "0      Ghagra  0.69  1.63  105.47  1.27  22.16   82.25  0.43  2.79  0.78   \n",
       "1         Koi  0.95  0.49   83.99  2.68  19.82  149.47  0.47  3.99  1.18   \n",
       "2     Tatkini  1.36  0.42   77.85  3.61  17.15  135.34  0.56  4.77  0.63   \n",
       "3      Tengra  2.37  0.74   90.12  5.13  21.59   81.27  0.61  5.37  0.97   \n",
       "4     Batashi  0.27  0.35   43.52  3.49  15.19  129.11  0.42  3.21  0.58   \n",
       "5       Jatka  1.13  0.93   94.58  3.05  28.90  172.53  0.51  4.39  0.46   \n",
       "6        Rani  1.02  1.65  114.31  3.52  11.48  161.89  0.52  4.15  0.61   \n",
       "7      Chanda  1.98  1.78  133.25  4.77  23.95  158.31  0.57  5.10  0.78   \n",
       "\n",
       "     Cd    Hg  Protein   OPFA  Lipid  \n",
       "0  0.53  0.55     15.8  0.680  12.79  \n",
       "1  0.87  0.76     16.4  0.375  12.10  \n",
       "2  2.17  0.98     17.3  0.240   9.82  \n",
       "3  3.15  1.24     17.5  0.115   7.10  \n",
       "4  0.72  0.69     15.1  0.300  10.70  \n",
       "5  1.76  1.71     18.7  0.430  11.56  \n",
       "6  2.11  0.93     15.3  0.345  11.15  \n",
       "7  2.79  1.50     16.5  0.195   7.69  "
      ]
     },
     "execution_count": 133,
     "metadata": {},
     "output_type": "execute_result"
    }
   ],
   "source": [
    "df"
   ]
  },
  {
   "cell_type": "code",
   "execution_count": 38,
   "id": "f27c4da0",
   "metadata": {},
   "outputs": [
    {
     "data": {
      "text/html": [
       "<div>\n",
       "<style scoped>\n",
       "    .dataframe tbody tr th:only-of-type {\n",
       "        vertical-align: middle;\n",
       "    }\n",
       "\n",
       "    .dataframe tbody tr th {\n",
       "        vertical-align: top;\n",
       "    }\n",
       "\n",
       "    .dataframe thead th {\n",
       "        text-align: right;\n",
       "    }\n",
       "</style>\n",
       "<table border=\"1\" class=\"dataframe\">\n",
       "  <thead>\n",
       "    <tr style=\"text-align: right;\">\n",
       "      <th></th>\n",
       "      <th>FishSpecies</th>\n",
       "      <th>Cr</th>\n",
       "      <th>Mn</th>\n",
       "      <th>Fe</th>\n",
       "      <th>Co</th>\n",
       "      <th>Cu</th>\n",
       "      <th>Zn</th>\n",
       "      <th>As</th>\n",
       "      <th>Se</th>\n",
       "      <th>Pb</th>\n",
       "      <th>Cd</th>\n",
       "      <th>Hg</th>\n",
       "      <th>Protein</th>\n",
       "      <th>OPFA</th>\n",
       "      <th>Lipid</th>\n",
       "    </tr>\n",
       "  </thead>\n",
       "  <tbody>\n",
       "    <tr>\n",
       "      <th>0</th>\n",
       "      <td>Ghagra (Clupisoma garua)</td>\n",
       "      <td>0.78</td>\n",
       "      <td>1.93</td>\n",
       "      <td>155.47</td>\n",
       "      <td>2.27</td>\n",
       "      <td>29.16</td>\n",
       "      <td>142.25</td>\n",
       "      <td>2.43</td>\n",
       "      <td>4.79</td>\n",
       "      <td>1.78</td>\n",
       "      <td>0.63</td>\n",
       "      <td>0.57</td>\n",
       "      <td>9.8</td>\n",
       "      <td>0.8</td>\n",
       "      <td>7.79</td>\n",
       "    </tr>\n",
       "    <tr>\n",
       "      <th>1</th>\n",
       "      <td>Koi\\n (Anabas testudineus)</td>\n",
       "      <td>1.05</td>\n",
       "      <td>0.79</td>\n",
       "      <td>134.1</td>\n",
       "      <td>3.68</td>\n",
       "      <td>26.82</td>\n",
       "      <td>210.47</td>\n",
       "      <td>2.47</td>\n",
       "      <td>5.99</td>\n",
       "      <td>2.18</td>\n",
       "      <td>0.97</td>\n",
       "      <td>0.78</td>\n",
       "      <td>10.4</td>\n",
       "      <td>0.495</td>\n",
       "      <td>7.1</td>\n",
       "    </tr>\n",
       "    <tr>\n",
       "      <th>2</th>\n",
       "      <td>Tatkini\\n (Cirrhinus reba)</td>\n",
       "      <td>1.48</td>\n",
       "      <td>0.72</td>\n",
       "      <td>127.85</td>\n",
       "      <td>4.61</td>\n",
       "      <td>24.15</td>\n",
       "      <td>195.34</td>\n",
       "      <td>2.56</td>\n",
       "      <td>6.77</td>\n",
       "      <td>1.63</td>\n",
       "      <td>2.27</td>\n",
       "      <td>0.99</td>\n",
       "      <td>11.3</td>\n",
       "      <td>0.36</td>\n",
       "      <td>4.82</td>\n",
       "    </tr>\n",
       "    <tr>\n",
       "      <th>3</th>\n",
       "      <td>Tengra (Mystus vittatus)</td>\n",
       "      <td>2.11</td>\n",
       "      <td>1.04</td>\n",
       "      <td>140.12</td>\n",
       "      <td>6.13</td>\n",
       "      <td>28.59</td>\n",
       "      <td>141.27</td>\n",
       "      <td>2.61</td>\n",
       "      <td>7.37</td>\n",
       "      <td>1.97</td>\n",
       "      <td>3.35</td>\n",
       "      <td>1.27</td>\n",
       "      <td>11.5</td>\n",
       "      <td>0.235</td>\n",
       "      <td>2.1</td>\n",
       "    </tr>\n",
       "    <tr>\n",
       "      <th>4</th>\n",
       "      <td>Batashi (Neotropius atherinoides)</td>\n",
       "      <td>0.37</td>\n",
       "      <td>0.69</td>\n",
       "      <td>143.52</td>\n",
       "      <td>4.49</td>\n",
       "      <td>22.19</td>\n",
       "      <td>189.11</td>\n",
       "      <td>2.42</td>\n",
       "      <td>5.21</td>\n",
       "      <td>1.58</td>\n",
       "      <td>0.84</td>\n",
       "      <td>0.71</td>\n",
       "      <td>9.1</td>\n",
       "      <td>0.42</td>\n",
       "      <td>5.7</td>\n",
       "    </tr>\n",
       "    <tr>\n",
       "      <th>5</th>\n",
       "      <td>Jatka (juvenile) Tenualosa ilisha</td>\n",
       "      <td>1.23</td>\n",
       "      <td>1.23</td>\n",
       "      <td>124.58</td>\n",
       "      <td>4.05</td>\n",
       "      <td>38.9</td>\n",
       "      <td>232.53</td>\n",
       "      <td>2.51</td>\n",
       "      <td>6.39</td>\n",
       "      <td>1.46</td>\n",
       "      <td>1.95</td>\n",
       "      <td>1.73</td>\n",
       "      <td>12.7</td>\n",
       "      <td>0.55</td>\n",
       "      <td>6.56</td>\n",
       "    </tr>\n",
       "    <tr>\n",
       "      <th>6</th>\n",
       "      <td>Rani (Botia dario)</td>\n",
       "      <td>1.15</td>\n",
       "      <td>1.95</td>\n",
       "      <td>164.31</td>\n",
       "      <td>4.52</td>\n",
       "      <td>19.48</td>\n",
       "      <td>201.89</td>\n",
       "      <td>1.52</td>\n",
       "      <td>6.15</td>\n",
       "      <td>1.61</td>\n",
       "      <td>2.2</td>\n",
       "      <td>0.95</td>\n",
       "      <td>9.3</td>\n",
       "      <td>0.465</td>\n",
       "      <td>6.15</td>\n",
       "    </tr>\n",
       "    <tr>\n",
       "      <th>7</th>\n",
       "      <td>Chanda\\n (Pseudambassis ranga)</td>\n",
       "      <td>2.15</td>\n",
       "      <td>2.08</td>\n",
       "      <td>183.25</td>\n",
       "      <td>5.77</td>\n",
       "      <td>30.95</td>\n",
       "      <td>218.31</td>\n",
       "      <td>2.57</td>\n",
       "      <td>7.1</td>\n",
       "      <td>2.78</td>\n",
       "      <td>2.89</td>\n",
       "      <td>1.58</td>\n",
       "      <td>10.5</td>\n",
       "      <td>0.315</td>\n",
       "      <td>2.69</td>\n",
       "    </tr>\n",
       "  </tbody>\n",
       "</table>\n",
       "</div>"
      ],
      "text/plain": [
       "                         FishSpecies    Cr    Mn      Fe    Co     Cu      Zn  \\\n",
       "0           Ghagra (Clupisoma garua)  0.78  1.93  155.47  2.27  29.16  142.25   \n",
       "1         Koi\\n (Anabas testudineus)  1.05  0.79   134.1  3.68  26.82  210.47   \n",
       "2         Tatkini\\n (Cirrhinus reba)  1.48  0.72  127.85  4.61  24.15  195.34   \n",
       "3           Tengra (Mystus vittatus)  2.11  1.04  140.12  6.13  28.59  141.27   \n",
       "4  Batashi (Neotropius atherinoides)  0.37  0.69  143.52  4.49  22.19  189.11   \n",
       "5  Jatka (juvenile) Tenualosa ilisha  1.23  1.23  124.58  4.05   38.9  232.53   \n",
       "6                 Rani (Botia dario)  1.15  1.95  164.31  4.52  19.48  201.89   \n",
       "7     Chanda\\n (Pseudambassis ranga)  2.15  2.08  183.25  5.77  30.95  218.31   \n",
       "\n",
       "     As    Se    Pb    Cd    Hg Protein   OPFA Lipid  \n",
       "0  2.43  4.79  1.78  0.63  0.57     9.8    0.8  7.79  \n",
       "1  2.47  5.99  2.18  0.97  0.78    10.4  0.495   7.1  \n",
       "2  2.56  6.77  1.63  2.27  0.99    11.3   0.36  4.82  \n",
       "3  2.61  7.37  1.97  3.35  1.27    11.5  0.235   2.1  \n",
       "4  2.42  5.21  1.58  0.84  0.71     9.1   0.42   5.7  \n",
       "5  2.51  6.39  1.46  1.95  1.73    12.7   0.55  6.56  \n",
       "6  1.52  6.15  1.61   2.2  0.95     9.3  0.465  6.15  \n",
       "7  2.57   7.1  2.78  2.89  1.58    10.5  0.315  2.69  "
      ]
     },
     "execution_count": 38,
     "metadata": {},
     "output_type": "execute_result"
    }
   ],
   "source": [
    "trans"
   ]
  },
  {
   "cell_type": "code",
   "execution_count": 39,
   "id": "88cf5916",
   "metadata": {},
   "outputs": [],
   "source": [
    "param = ['Cr', 'Mn', 'Fe', 'Co', 'Cu', 'Zn', 'As', 'Se', 'Pb',\n",
    "       'Cd', 'Hg', 'Protein', 'OPFA', 'Lipid']"
   ]
  },
  {
   "cell_type": "code",
   "execution_count": 140,
   "id": "d4a90305",
   "metadata": {},
   "outputs": [],
   "source": [
    "col_total = []\n",
    "for i in range(len(df.columns)-1):\n",
    "    col_total.append(df[param[i]].sum())"
   ]
  },
  {
   "cell_type": "code",
   "execution_count": 40,
   "id": "3890ca7e",
   "metadata": {},
   "outputs": [],
   "source": [
    "col_total = []\n",
    "for i in range(len(trans.columns)-1):\n",
    "    col_total.append(trans[param[i]].sum())"
   ]
  },
  {
   "cell_type": "code",
   "execution_count": 41,
   "id": "5a3264c8",
   "metadata": {},
   "outputs": [
    {
     "data": {
      "text/plain": [
       "[10.32,\n",
       " 10.43,\n",
       " 1173.2,\n",
       " 35.519999999999996,\n",
       " 220.23999999999998,\n",
       " 1531.17,\n",
       " 19.09,\n",
       " 49.77,\n",
       " 14.99,\n",
       " 15.100000000000001,\n",
       " 8.580000000000002,\n",
       " 84.6,\n",
       " 3.6399999999999992,\n",
       " 42.91]"
      ]
     },
     "execution_count": 41,
     "metadata": {},
     "output_type": "execute_result"
    }
   ],
   "source": [
    "col_total"
   ]
  },
  {
   "cell_type": "code",
   "execution_count": 150,
   "id": "5015116b",
   "metadata": {},
   "outputs": [
    {
     "name": "stderr",
     "output_type": "stream",
     "text": [
      "/tmp/ipykernel_7059/919382132.py:1: FutureWarning: Dropping of nuisance columns in DataFrame reductions (with 'numeric_only=None') is deprecated; in a future version this will raise TypeError.  Select only valid columns before calling the reduction.\n",
      "  row_total = df.sum(axis=1)\n"
     ]
    }
   ],
   "source": [
    "row_total = df.sum(axis=1)"
   ]
  },
  {
   "cell_type": "code",
   "execution_count": 46,
   "id": "8c087fdc",
   "metadata": {},
   "outputs": [],
   "source": [
    "testData = trans[['Cr', 'Mn', 'Fe', 'Co', 'Cu', 'Zn', 'As', 'Se', 'Pb',\n",
    "       'Cd', 'Hg', 'Protein', 'OPFA', 'Lipid']]"
   ]
  },
  {
   "cell_type": "code",
   "execution_count": 47,
   "id": "1c5c9c69",
   "metadata": {},
   "outputs": [
    {
     "data": {
      "text/html": [
       "<div>\n",
       "<style scoped>\n",
       "    .dataframe tbody tr th:only-of-type {\n",
       "        vertical-align: middle;\n",
       "    }\n",
       "\n",
       "    .dataframe tbody tr th {\n",
       "        vertical-align: top;\n",
       "    }\n",
       "\n",
       "    .dataframe thead th {\n",
       "        text-align: right;\n",
       "    }\n",
       "</style>\n",
       "<table border=\"1\" class=\"dataframe\">\n",
       "  <thead>\n",
       "    <tr style=\"text-align: right;\">\n",
       "      <th></th>\n",
       "      <th>Cr</th>\n",
       "      <th>Mn</th>\n",
       "      <th>Fe</th>\n",
       "      <th>Co</th>\n",
       "      <th>Cu</th>\n",
       "      <th>Zn</th>\n",
       "      <th>As</th>\n",
       "      <th>Se</th>\n",
       "      <th>Pb</th>\n",
       "      <th>Cd</th>\n",
       "      <th>Hg</th>\n",
       "      <th>Protein</th>\n",
       "      <th>OPFA</th>\n",
       "      <th>Lipid</th>\n",
       "    </tr>\n",
       "  </thead>\n",
       "  <tbody>\n",
       "    <tr>\n",
       "      <th>0</th>\n",
       "      <td>0.78</td>\n",
       "      <td>1.93</td>\n",
       "      <td>155.47</td>\n",
       "      <td>2.27</td>\n",
       "      <td>29.16</td>\n",
       "      <td>142.25</td>\n",
       "      <td>2.43</td>\n",
       "      <td>4.79</td>\n",
       "      <td>1.78</td>\n",
       "      <td>0.63</td>\n",
       "      <td>0.57</td>\n",
       "      <td>9.8</td>\n",
       "      <td>0.8</td>\n",
       "      <td>7.79</td>\n",
       "    </tr>\n",
       "    <tr>\n",
       "      <th>1</th>\n",
       "      <td>1.05</td>\n",
       "      <td>0.79</td>\n",
       "      <td>134.1</td>\n",
       "      <td>3.68</td>\n",
       "      <td>26.82</td>\n",
       "      <td>210.47</td>\n",
       "      <td>2.47</td>\n",
       "      <td>5.99</td>\n",
       "      <td>2.18</td>\n",
       "      <td>0.97</td>\n",
       "      <td>0.78</td>\n",
       "      <td>10.4</td>\n",
       "      <td>0.495</td>\n",
       "      <td>7.1</td>\n",
       "    </tr>\n",
       "    <tr>\n",
       "      <th>2</th>\n",
       "      <td>1.48</td>\n",
       "      <td>0.72</td>\n",
       "      <td>127.85</td>\n",
       "      <td>4.61</td>\n",
       "      <td>24.15</td>\n",
       "      <td>195.34</td>\n",
       "      <td>2.56</td>\n",
       "      <td>6.77</td>\n",
       "      <td>1.63</td>\n",
       "      <td>2.27</td>\n",
       "      <td>0.99</td>\n",
       "      <td>11.3</td>\n",
       "      <td>0.36</td>\n",
       "      <td>4.82</td>\n",
       "    </tr>\n",
       "    <tr>\n",
       "      <th>3</th>\n",
       "      <td>2.11</td>\n",
       "      <td>1.04</td>\n",
       "      <td>140.12</td>\n",
       "      <td>6.13</td>\n",
       "      <td>28.59</td>\n",
       "      <td>141.27</td>\n",
       "      <td>2.61</td>\n",
       "      <td>7.37</td>\n",
       "      <td>1.97</td>\n",
       "      <td>3.35</td>\n",
       "      <td>1.27</td>\n",
       "      <td>11.5</td>\n",
       "      <td>0.235</td>\n",
       "      <td>2.1</td>\n",
       "    </tr>\n",
       "    <tr>\n",
       "      <th>4</th>\n",
       "      <td>0.37</td>\n",
       "      <td>0.69</td>\n",
       "      <td>143.52</td>\n",
       "      <td>4.49</td>\n",
       "      <td>22.19</td>\n",
       "      <td>189.11</td>\n",
       "      <td>2.42</td>\n",
       "      <td>5.21</td>\n",
       "      <td>1.58</td>\n",
       "      <td>0.84</td>\n",
       "      <td>0.71</td>\n",
       "      <td>9.1</td>\n",
       "      <td>0.42</td>\n",
       "      <td>5.7</td>\n",
       "    </tr>\n",
       "    <tr>\n",
       "      <th>5</th>\n",
       "      <td>1.23</td>\n",
       "      <td>1.23</td>\n",
       "      <td>124.58</td>\n",
       "      <td>4.05</td>\n",
       "      <td>38.9</td>\n",
       "      <td>232.53</td>\n",
       "      <td>2.51</td>\n",
       "      <td>6.39</td>\n",
       "      <td>1.46</td>\n",
       "      <td>1.95</td>\n",
       "      <td>1.73</td>\n",
       "      <td>12.7</td>\n",
       "      <td>0.55</td>\n",
       "      <td>6.56</td>\n",
       "    </tr>\n",
       "    <tr>\n",
       "      <th>6</th>\n",
       "      <td>1.15</td>\n",
       "      <td>1.95</td>\n",
       "      <td>164.31</td>\n",
       "      <td>4.52</td>\n",
       "      <td>19.48</td>\n",
       "      <td>201.89</td>\n",
       "      <td>1.52</td>\n",
       "      <td>6.15</td>\n",
       "      <td>1.61</td>\n",
       "      <td>2.2</td>\n",
       "      <td>0.95</td>\n",
       "      <td>9.3</td>\n",
       "      <td>0.465</td>\n",
       "      <td>6.15</td>\n",
       "    </tr>\n",
       "    <tr>\n",
       "      <th>7</th>\n",
       "      <td>2.15</td>\n",
       "      <td>2.08</td>\n",
       "      <td>183.25</td>\n",
       "      <td>5.77</td>\n",
       "      <td>30.95</td>\n",
       "      <td>218.31</td>\n",
       "      <td>2.57</td>\n",
       "      <td>7.1</td>\n",
       "      <td>2.78</td>\n",
       "      <td>2.89</td>\n",
       "      <td>1.58</td>\n",
       "      <td>10.5</td>\n",
       "      <td>0.315</td>\n",
       "      <td>2.69</td>\n",
       "    </tr>\n",
       "  </tbody>\n",
       "</table>\n",
       "</div>"
      ],
      "text/plain": [
       "     Cr    Mn      Fe    Co     Cu      Zn    As    Se    Pb    Cd    Hg  \\\n",
       "0  0.78  1.93  155.47  2.27  29.16  142.25  2.43  4.79  1.78  0.63  0.57   \n",
       "1  1.05  0.79   134.1  3.68  26.82  210.47  2.47  5.99  2.18  0.97  0.78   \n",
       "2  1.48  0.72  127.85  4.61  24.15  195.34  2.56  6.77  1.63  2.27  0.99   \n",
       "3  2.11  1.04  140.12  6.13  28.59  141.27  2.61  7.37  1.97  3.35  1.27   \n",
       "4  0.37  0.69  143.52  4.49  22.19  189.11  2.42  5.21  1.58  0.84  0.71   \n",
       "5  1.23  1.23  124.58  4.05   38.9  232.53  2.51  6.39  1.46  1.95  1.73   \n",
       "6  1.15  1.95  164.31  4.52  19.48  201.89  1.52  6.15  1.61   2.2  0.95   \n",
       "7  2.15  2.08  183.25  5.77  30.95  218.31  2.57   7.1  2.78  2.89  1.58   \n",
       "\n",
       "  Protein   OPFA Lipid  \n",
       "0     9.8    0.8  7.79  \n",
       "1    10.4  0.495   7.1  \n",
       "2    11.3   0.36  4.82  \n",
       "3    11.5  0.235   2.1  \n",
       "4     9.1   0.42   5.7  \n",
       "5    12.7   0.55  6.56  \n",
       "6     9.3  0.465  6.15  \n",
       "7    10.5  0.315  2.69  "
      ]
     },
     "execution_count": 47,
     "metadata": {},
     "output_type": "execute_result"
    }
   ],
   "source": [
    "testData"
   ]
  },
  {
   "cell_type": "code",
   "execution_count": 49,
   "id": "0046a60e",
   "metadata": {
    "scrolled": true
   },
   "outputs": [
    {
     "data": {
      "text/plain": [
       "0    360.450\n",
       "1    407.295\n",
       "2    384.850\n",
       "3    349.665\n",
       "4    386.350\n",
       "5    436.370\n",
       "6    421.645\n",
       "7    472.935\n",
       "dtype: float64"
      ]
     },
     "execution_count": 49,
     "metadata": {},
     "output_type": "execute_result"
    }
   ],
   "source": [
    "testData.sum(axis=1)"
   ]
  },
  {
   "cell_type": "code",
   "execution_count": 50,
   "id": "f6693ed1",
   "metadata": {
    "scrolled": true
   },
   "outputs": [],
   "source": [
    "row_total = testData.sum(axis=1)"
   ]
  },
  {
   "cell_type": "code",
   "execution_count": 51,
   "id": "b632da79",
   "metadata": {},
   "outputs": [],
   "source": [
    "row_total = list(row_total)"
   ]
  },
  {
   "cell_type": "code",
   "execution_count": 52,
   "id": "beef74ec",
   "metadata": {},
   "outputs": [
    {
     "data": {
      "text/plain": [
       "[360.45000000000005,\n",
       " 407.295,\n",
       " 384.84999999999997,\n",
       " 349.6650000000001,\n",
       " 386.34999999999997,\n",
       " 436.36999999999995,\n",
       " 421.64499999999987,\n",
       " 472.93499999999995]"
      ]
     },
     "execution_count": 52,
     "metadata": {},
     "output_type": "execute_result"
    }
   ],
   "source": [
    "row_total"
   ]
  },
  {
   "cell_type": "code",
   "execution_count": 153,
   "id": "9251e5db",
   "metadata": {},
   "outputs": [
    {
     "data": {
      "text/plain": [
       "[247.82000000000002,\n",
       " 293.545,\n",
       " 272.2,\n",
       " 237.27500000000003,\n",
       " 223.65,\n",
       " 340.63999999999993,\n",
       " 328.985,\n",
       " 359.16499999999996]"
      ]
     },
     "execution_count": 153,
     "metadata": {},
     "output_type": "execute_result"
    }
   ],
   "source": [
    "row_total"
   ]
  },
  {
   "cell_type": "code",
   "execution_count": 158,
   "id": "f094c7fb",
   "metadata": {},
   "outputs": [],
   "source": [
    "totalcol = []\n",
    "for i in range(len(col_total)):\n",
    "    totalcol.append(round(col_total[i], 3))\n",
    "\n",
    "totalrow = []\n",
    "for i in range(len(row_total)):\n",
    "    totalrow.append(round(row_total[i], 3))"
   ]
  },
  {
   "cell_type": "code",
   "execution_count": 53,
   "id": "e6ea45e2",
   "metadata": {},
   "outputs": [],
   "source": [
    "totalcol = []\n",
    "for i in range(len(col_total)):\n",
    "    totalcol.append(round(col_total[i], 3))\n",
    "\n",
    "totalrow = []\n",
    "for i in range(len(row_total)):\n",
    "    totalrow.append(round(row_total[i], 3))"
   ]
  },
  {
   "cell_type": "code",
   "execution_count": 54,
   "id": "791412c7",
   "metadata": {},
   "outputs": [
    {
     "data": {
      "text/plain": [
       "([10.32,\n",
       "  10.43,\n",
       "  1173.2,\n",
       "  35.52,\n",
       "  220.24,\n",
       "  1531.17,\n",
       "  19.09,\n",
       "  49.77,\n",
       "  14.99,\n",
       "  15.1,\n",
       "  8.58,\n",
       "  84.6,\n",
       "  3.64,\n",
       "  42.91],\n",
       " [360.45, 407.295, 384.85, 349.665, 386.35, 436.37, 421.645, 472.935])"
      ]
     },
     "execution_count": 54,
     "metadata": {},
     "output_type": "execute_result"
    }
   ],
   "source": [
    "totalcol, totalrow"
   ]
  },
  {
   "cell_type": "code",
   "execution_count": 161,
   "id": "4a4a405f",
   "metadata": {},
   "outputs": [
    {
     "data": {
      "text/plain": [
       "([9.77,\n",
       "  7.99,\n",
       "  743.09,\n",
       "  27.52,\n",
       "  160.24,\n",
       "  1070.17,\n",
       "  4.09,\n",
       "  33.77,\n",
       "  5.99,\n",
       "  14.1,\n",
       "  8.36,\n",
       "  132.6,\n",
       "  2.68,\n",
       "  82.91],\n",
       " [247.82, 293.545, 272.2, 237.275, 223.65, 340.64, 328.985, 359.165])"
      ]
     },
     "execution_count": 161,
     "metadata": {},
     "output_type": "execute_result"
    }
   ],
   "source": [
    "totalcol, totalrow"
   ]
  },
  {
   "cell_type": "code",
   "execution_count": 173,
   "id": "a3fd9da4",
   "metadata": {},
   "outputs": [],
   "source": [
    "sum_x = 0\n",
    "for i in param:\n",
    "    sum_x += df[i].values.sum()\n",
    "sum_x = round(sum_x, 3)"
   ]
  },
  {
   "cell_type": "code",
   "execution_count": 56,
   "id": "1b3db614",
   "metadata": {},
   "outputs": [],
   "source": [
    "sum_x = 0\n",
    "for i in param:\n",
    "    sum_x += testData[i].values.sum()\n",
    "sum_x = round(sum_x, 3)"
   ]
  },
  {
   "cell_type": "code",
   "execution_count": 57,
   "id": "0f5c50b5",
   "metadata": {},
   "outputs": [
    {
     "data": {
      "text/plain": [
       "3219.56"
      ]
     },
     "execution_count": 57,
     "metadata": {},
     "output_type": "execute_result"
    }
   ],
   "source": [
    "sum_x"
   ]
  },
  {
   "cell_type": "code",
   "execution_count": 174,
   "id": "4b36bdb6",
   "metadata": {},
   "outputs": [
    {
     "data": {
      "text/plain": [
       "2303.28"
      ]
     },
     "execution_count": 174,
     "metadata": {},
     "output_type": "execute_result"
    }
   ],
   "source": [
    "sum_x"
   ]
  },
  {
   "cell_type": "code",
   "execution_count": 181,
   "id": "6fc69d35",
   "metadata": {},
   "outputs": [
    {
     "data": {
      "text/plain": [
       "44209.156"
      ]
     },
     "execution_count": 181,
     "metadata": {},
     "output_type": "execute_result"
    }
   ],
   "source": [
    "N = df.shape[0] * df.shape[1]\n",
    "Cx = (sum_x**2)/ N\n",
    "Cx = round(Cx, 3)\n",
    "Cx"
   ]
  },
  {
   "cell_type": "code",
   "execution_count": 58,
   "id": "600146b7",
   "metadata": {},
   "outputs": [
    {
     "data": {
      "text/plain": [
       "92549.702"
      ]
     },
     "execution_count": 58,
     "metadata": {},
     "output_type": "execute_result"
    }
   ],
   "source": [
    "N = testData.shape[0] * testData.shape[1]\n",
    "Cx = (sum_x**2)/ N\n",
    "Cx = round(Cx, 3)\n",
    "Cx"
   ]
  },
  {
   "cell_type": "code",
   "execution_count": 193,
   "id": "82105bef",
   "metadata": {},
   "outputs": [
    {
     "data": {
      "text/plain": [
       "232596.801"
      ]
     },
     "execution_count": 193,
     "metadata": {},
     "output_type": "execute_result"
    }
   ],
   "source": [
    "squared_sum = 0\n",
    "for i in param:\n",
    "    for j in range(len(df[i].values)):\n",
    "        squared_sum += (df[i].values[j])**2\n",
    "squared_sum = round(squared_sum, 3)\n",
    "squared_sum"
   ]
  },
  {
   "cell_type": "code",
   "execution_count": 59,
   "id": "c9389945",
   "metadata": {},
   "outputs": [
    {
     "data": {
      "text/plain": [
       "483844.771"
      ]
     },
     "execution_count": 59,
     "metadata": {},
     "output_type": "execute_result"
    }
   ],
   "source": [
    "squared_sum = 0\n",
    "for i in param:\n",
    "    for j in range(len(testData[i].values)):\n",
    "        squared_sum += (testData[i].values[j])**2\n",
    "squared_sum = round(squared_sum, 3)\n",
    "squared_sum"
   ]
  },
  {
   "cell_type": "code",
   "execution_count": 196,
   "id": "2f42929d",
   "metadata": {},
   "outputs": [
    {
     "data": {
      "text/plain": [
       "188387.645"
      ]
     },
     "execution_count": 196,
     "metadata": {},
     "output_type": "execute_result"
    }
   ],
   "source": [
    "sst = squared_sum - Cx\n",
    "sst = round(sst, 3)\n",
    "sst"
   ]
  },
  {
   "cell_type": "code",
   "execution_count": 60,
   "id": "ca71e988",
   "metadata": {},
   "outputs": [
    {
     "data": {
      "text/plain": [
       "391295.069"
      ]
     },
     "execution_count": 60,
     "metadata": {},
     "output_type": "execute_result"
    }
   ],
   "source": [
    "sst = squared_sum - Cx\n",
    "sst = round(sst, 3)\n",
    "sst"
   ]
  },
  {
   "cell_type": "code",
   "execution_count": 208,
   "id": "ab2f528d",
   "metadata": {},
   "outputs": [
    {
     "data": {
      "text/plain": [
       "1749965.809"
      ]
     },
     "execution_count": 208,
     "metadata": {},
     "output_type": "execute_result"
    }
   ],
   "source": [
    "col_sum = 0\n",
    "for i in totalcol:\n",
    "    col_sum += i**2\n",
    "col_sum = round(col_sum,3)\n",
    "col_sum"
   ]
  },
  {
   "cell_type": "code",
   "execution_count": 61,
   "id": "547c0fc4",
   "metadata": {},
   "outputs": [
    {
     "data": {
      "text/plain": [
       "3783241.909"
      ]
     },
     "execution_count": 61,
     "metadata": {},
     "output_type": "execute_result"
    }
   ],
   "source": [
    "col_sum = 0\n",
    "for i in totalcol:\n",
    "    col_sum += i**2\n",
    "col_sum = round(col_sum,3)\n",
    "col_sum"
   ]
  },
  {
   "cell_type": "code",
   "execution_count": 209,
   "id": "1c5b7981",
   "metadata": {
    "scrolled": true
   },
   "outputs": [
    {
     "data": {
      "text/plain": [
       "174536.57012499997"
      ]
     },
     "execution_count": 209,
     "metadata": {},
     "output_type": "execute_result"
    }
   ],
   "source": [
    "ssparam = (col_sum/len(totalrow))- Cx\n",
    "ssparam"
   ]
  },
  {
   "cell_type": "code",
   "execution_count": 62,
   "id": "5cf8cbdc",
   "metadata": {},
   "outputs": [
    {
     "data": {
      "text/plain": [
       "380355.536625"
      ]
     },
     "execution_count": 62,
     "metadata": {},
     "output_type": "execute_result"
    }
   ],
   "source": [
    "ssparam = (col_sum/len(totalrow))- Cx\n",
    "ssparam"
   ]
  },
  {
   "cell_type": "code",
   "execution_count": 210,
   "id": "7c126a7e",
   "metadata": {},
   "outputs": [
    {
     "data": {
      "text/plain": [
       "681261.245"
      ]
     },
     "execution_count": 210,
     "metadata": {},
     "output_type": "execute_result"
    }
   ],
   "source": [
    "row_sum = 0\n",
    "for i in totalrow:\n",
    "    row_sum += i**2\n",
    "row_sum = round(row_sum,3)\n",
    "row_sum"
   ]
  },
  {
   "cell_type": "code",
   "execution_count": 63,
   "id": "df848fdd",
   "metadata": {},
   "outputs": [
    {
     "data": {
      "text/plain": [
       "1307325.674"
      ]
     },
     "execution_count": 63,
     "metadata": {},
     "output_type": "execute_result"
    }
   ],
   "source": [
    "row_sum = 0\n",
    "for i in totalrow:\n",
    "    row_sum += i**2\n",
    "row_sum = round(row_sum,3)\n",
    "row_sum"
   ]
  },
  {
   "cell_type": "code",
   "execution_count": 213,
   "id": "bdf8b770",
   "metadata": {},
   "outputs": [
    {
     "data": {
      "text/plain": [
       "4452.361"
      ]
     },
     "execution_count": 213,
     "metadata": {},
     "output_type": "execute_result"
    }
   ],
   "source": [
    "ssfish = (row_sum/len(totalcol)) - Cx\n",
    "ssfish = round(ssfish, 3)\n",
    "ssfish"
   ]
  },
  {
   "cell_type": "code",
   "execution_count": 64,
   "id": "020d3d19",
   "metadata": {},
   "outputs": [
    {
     "data": {
      "text/plain": [
       "830.703"
      ]
     },
     "execution_count": 64,
     "metadata": {},
     "output_type": "execute_result"
    }
   ],
   "source": [
    "ssfish = (row_sum/len(totalcol)) - Cx\n",
    "ssfish = round(ssfish, 3)\n",
    "ssfish"
   ]
  },
  {
   "cell_type": "code",
   "execution_count": 224,
   "id": "1f1bf3ce",
   "metadata": {},
   "outputs": [
    {
     "data": {
      "text/plain": [
       "-221259.78"
      ]
     },
     "execution_count": 224,
     "metadata": {},
     "output_type": "execute_result"
    }
   ],
   "source": [
    "ssg = (squared_sum/120) - Cx - ssparam - ssfish\n",
    "ssg = round(ssg,3)\n",
    "ssg"
   ]
  },
  {
   "cell_type": "code",
   "execution_count": 65,
   "id": "3ecb2b06",
   "metadata": {},
   "outputs": [
    {
     "data": {
      "text/plain": [
       "-469703.902"
      ]
     },
     "execution_count": 65,
     "metadata": {},
     "output_type": "execute_result"
    }
   ],
   "source": [
    "ssg = (squared_sum/120) - Cx - ssparam - ssfish\n",
    "ssg = round(ssg,3)\n",
    "ssg"
   ]
  },
  {
   "cell_type": "code",
   "execution_count": 66,
   "id": "438a1fb9",
   "metadata": {},
   "outputs": [
    {
     "data": {
      "text/plain": [
       "479812.731"
      ]
     },
     "execution_count": 66,
     "metadata": {},
     "output_type": "execute_result"
    }
   ],
   "source": [
    "sse = sst - ssfish - ssparam - ssg\n",
    "sse = round(sse, 3)\n",
    "sse"
   ]
  },
  {
   "cell_type": "code",
   "execution_count": 227,
   "id": "203157e1",
   "metadata": {},
   "outputs": [
    {
     "data": {
      "text/plain": [
       "230658.494"
      ]
     },
     "execution_count": 227,
     "metadata": {},
     "output_type": "execute_result"
    }
   ],
   "source": [
    "sse = sst - ssfish - ssparam - ssg\n",
    "sse = round(sse, 3)\n",
    "sse"
   ]
  },
  {
   "cell_type": "code",
   "execution_count": 228,
   "id": "ba7e8586",
   "metadata": {},
   "outputs": [],
   "source": [
    "collen = len(totalcol)\n",
    "rowlen = len(totalrow)\n",
    "\n",
    "dfparam = collen - 1\n",
    "dffish = rowlen - 1\n",
    "dfinteraction = (collen -1) * (rowlen -1)\n",
    "dfresidual = collen * rowlen * (N - 1)\n",
    "dftotal = N-1"
   ]
  },
  {
   "cell_type": "code",
   "execution_count": 67,
   "id": "36f6568f",
   "metadata": {},
   "outputs": [],
   "source": [
    "collen = len(totalcol)\n",
    "rowlen = len(totalrow)\n",
    "\n",
    "dfparam = collen - 1\n",
    "dffish = rowlen - 1\n",
    "dfinteraction = (collen -1) * (rowlen -1)\n",
    "dfresidual = collen * rowlen * (N - 1)\n",
    "dftotal = N-1"
   ]
  },
  {
   "cell_type": "code",
   "execution_count": 82,
   "id": "4b284ce2",
   "metadata": {},
   "outputs": [
    {
     "data": {
      "text/plain": [
       "0.03000000001702574"
      ]
     },
     "execution_count": 82,
     "metadata": {},
     "output_type": "execute_result"
    }
   ],
   "source": [
    "residual = sst - 830.703 - 380355.536 - 10108.8\n",
    "residual"
   ]
  },
  {
   "cell_type": "code",
   "execution_count": 71,
   "id": "aee8a5f3",
   "metadata": {},
   "outputs": [
    {
     "data": {
      "text/plain": [
       "391295.069"
      ]
     },
     "execution_count": 71,
     "metadata": {},
     "output_type": "execute_result"
    }
   ],
   "source": [
    "sst"
   ]
  },
  {
   "cell_type": "code",
   "execution_count": 252,
   "id": "dcbf1595",
   "metadata": {
    "scrolled": true
   },
   "outputs": [
    {
     "data": {
      "text/plain": [
       "3157.7967999999655"
      ]
     },
     "execution_count": 252,
     "metadata": {},
     "output_type": "execute_result"
    }
   ],
   "source": [
    "residual = sst - 1294.564271 - 171378.772950 - 12556.510979 \n",
    "residual"
   ]
  },
  {
   "cell_type": "code",
   "execution_count": 253,
   "id": "369032bf",
   "metadata": {},
   "outputs": [],
   "source": [
    "residual= round(residual,3)"
   ]
  },
  {
   "cell_type": "code",
   "execution_count": 257,
   "id": "f882c1f9",
   "metadata": {},
   "outputs": [
    {
     "data": {
      "text/plain": [
       "14.097308035714287"
      ]
     },
     "execution_count": 257,
     "metadata": {},
     "output_type": "execute_result"
    }
   ],
   "source": [
    "residual / 224"
   ]
  },
  {
   "cell_type": "code",
   "execution_count": 83,
   "id": "0ca41363",
   "metadata": {},
   "outputs": [
    {
     "data": {
      "text/plain": [
       "0.0001339285715045792"
      ]
     },
     "execution_count": 83,
     "metadata": {},
     "output_type": "execute_result"
    }
   ],
   "source": [
    "residual / 224"
   ]
  },
  {
   "cell_type": "code",
   "execution_count": 256,
   "id": "696c97dc",
   "metadata": {},
   "outputs": [
    {
     "data": {
      "text/plain": [
       "224"
      ]
     },
     "execution_count": 256,
     "metadata": {},
     "output_type": "execute_result"
    }
   ],
   "source": [
    "(8*14)*2"
   ]
  },
  {
   "cell_type": "code",
   "execution_count": 259,
   "id": "34c95657",
   "metadata": {},
   "outputs": [
    {
     "data": {
      "text/plain": [
       "13.118664779780524"
      ]
     },
     "execution_count": 259,
     "metadata": {},
     "output_type": "execute_result"
    }
   ],
   "source": [
    "184.937753 / 14.0973 "
   ]
  },
  {
   "cell_type": "code",
   "execution_count": 260,
   "id": "8333c25d",
   "metadata": {},
   "outputs": [
    {
     "data": {
      "text/plain": [
       "935.1423701701743"
      ]
     },
     "execution_count": 260,
     "metadata": {},
     "output_type": "execute_result"
    }
   ],
   "source": [
    "13182.982535 / 14.0973 "
   ]
  },
  {
   "cell_type": "code",
   "execution_count": 261,
   "id": "d6e49486",
   "metadata": {},
   "outputs": [
    {
     "data": {
      "text/plain": [
       "9.787947833982393"
      ]
     },
     "execution_count": 261,
     "metadata": {},
     "output_type": "execute_result"
    }
   ],
   "source": [
    "137.983637 / 14.0973 "
   ]
  },
  {
   "cell_type": "code",
   "execution_count": 272,
   "id": "75934d7f",
   "metadata": {},
   "outputs": [
    {
     "data": {
      "text/plain": [
       "335"
      ]
     },
     "execution_count": 272,
     "metadata": {},
     "output_type": "execute_result"
    }
   ],
   "source": [
    "7 + 13+ 91+ 224"
   ]
  },
  {
   "cell_type": "code",
   "execution_count": 87,
   "id": "c8f167fb",
   "metadata": {},
   "outputs": [
    {
     "data": {
      "text/plain": [
       "185229.84"
      ]
     },
     "execution_count": 87,
     "metadata": {},
     "output_type": "execute_result"
    }
   ],
   "source": [
    "1294.56 + 171378.77 +12556.51\n",
    "\n"
   ]
  },
  {
   "cell_type": "code",
   "execution_count": 88,
   "id": "83cebfd9",
   "metadata": {},
   "outputs": [
    {
     "data": {
      "text/plain": [
       "137.98362637362638"
      ]
     },
     "execution_count": 88,
     "metadata": {},
     "output_type": "execute_result"
    }
   ],
   "source": [
    "12556.51/ 91"
   ]
  },
  {
   "cell_type": "code",
   "execution_count": 84,
   "id": "7a0d6be6",
   "metadata": {
    "scrolled": false
   },
   "outputs": [
    {
     "data": {
      "text/plain": [
       "829619.3278566094"
      ]
     },
     "execution_count": 84,
     "metadata": {},
     "output_type": "execute_result"
    }
   ],
   "source": [
    "111.086028 / 0.0001339"
   ]
  },
  {
   "cell_type": "code",
   "execution_count": 89,
   "id": "665a7834",
   "metadata": {
    "scrolled": true
   },
   "outputs": [
    {
     "data": {
      "text/plain": [
       "391295.069071"
      ]
     },
     "execution_count": 89,
     "metadata": {},
     "output_type": "execute_result"
    }
   ],
   "source": [
    "830.703550 + 380355.536946 + 10108.828575"
   ]
  },
  {
   "cell_type": "code",
   "execution_count": 91,
   "id": "82bb2172",
   "metadata": {},
   "outputs": [
    {
     "data": {
      "text/plain": [
       "111.08602747252746"
      ]
     },
     "execution_count": 91,
     "metadata": {},
     "output_type": "execute_result"
    }
   ],
   "source": [
    "10108.8285/ 91"
   ]
  },
  {
   "cell_type": "code",
   "execution_count": null,
   "id": "f1a1064e",
   "metadata": {},
   "outputs": [],
   "source": []
  },
  {
   "cell_type": "code",
   "execution_count": null,
   "id": "0e91be9f",
   "metadata": {},
   "outputs": [],
   "source": []
  },
  {
   "cell_type": "code",
   "execution_count": null,
   "id": "c73bf113",
   "metadata": {},
   "outputs": [],
   "source": []
  },
  {
   "cell_type": "code",
   "execution_count": null,
   "id": "2b65c43a",
   "metadata": {},
   "outputs": [],
   "source": []
  },
  {
   "cell_type": "code",
   "execution_count": null,
   "id": "a27451dc",
   "metadata": {},
   "outputs": [],
   "source": []
  },
  {
   "cell_type": "code",
   "execution_count": null,
   "id": "c586a479",
   "metadata": {},
   "outputs": [],
   "source": []
  },
  {
   "cell_type": "code",
   "execution_count": null,
   "id": "6d2fc433",
   "metadata": {},
   "outputs": [],
   "source": []
  },
  {
   "cell_type": "code",
   "execution_count": 3,
   "id": "05c2b7fb",
   "metadata": {},
   "outputs": [],
   "source": [
    "df = pd.read_csv(\"../../Fish_Contamination/data/head_fish.csv\")"
   ]
  },
  {
   "cell_type": "code",
   "execution_count": 4,
   "id": "54248f44",
   "metadata": {},
   "outputs": [
    {
     "data": {
      "text/html": [
       "<div>\n",
       "<style scoped>\n",
       "    .dataframe tbody tr th:only-of-type {\n",
       "        vertical-align: middle;\n",
       "    }\n",
       "\n",
       "    .dataframe tbody tr th {\n",
       "        vertical-align: top;\n",
       "    }\n",
       "\n",
       "    .dataframe thead th {\n",
       "        text-align: right;\n",
       "    }\n",
       "</style>\n",
       "<table border=\"1\" class=\"dataframe\">\n",
       "  <thead>\n",
       "    <tr style=\"text-align: right;\">\n",
       "      <th></th>\n",
       "      <th>Metals</th>\n",
       "      <th>Ghagra (Clupisoma garua)</th>\n",
       "      <th>Koi\\n (Anabas testudineus)</th>\n",
       "      <th>Tatkini\\n (Cirrhinus reba)</th>\n",
       "      <th>Tengra (Mystus vittatus)</th>\n",
       "      <th>Batashi (Neotropius atherinoides)</th>\n",
       "      <th>Jatka (juvenile) Tenualosa ilisha</th>\n",
       "      <th>Rani (Botia dario)</th>\n",
       "      <th>Chanda\\n (Pseudambassis ranga)</th>\n",
       "    </tr>\n",
       "  </thead>\n",
       "  <tbody>\n",
       "    <tr>\n",
       "      <th>0</th>\n",
       "      <td>Cr</td>\n",
       "      <td>0.78</td>\n",
       "      <td>1.050</td>\n",
       "      <td>1.48</td>\n",
       "      <td>2.110</td>\n",
       "      <td>0.37</td>\n",
       "      <td>1.23</td>\n",
       "      <td>1.150</td>\n",
       "      <td>2.150</td>\n",
       "    </tr>\n",
       "    <tr>\n",
       "      <th>1</th>\n",
       "      <td>Mn</td>\n",
       "      <td>1.93</td>\n",
       "      <td>0.790</td>\n",
       "      <td>0.72</td>\n",
       "      <td>1.040</td>\n",
       "      <td>0.69</td>\n",
       "      <td>1.23</td>\n",
       "      <td>1.950</td>\n",
       "      <td>2.080</td>\n",
       "    </tr>\n",
       "    <tr>\n",
       "      <th>2</th>\n",
       "      <td>Fe</td>\n",
       "      <td>155.47</td>\n",
       "      <td>134.100</td>\n",
       "      <td>127.85</td>\n",
       "      <td>140.120</td>\n",
       "      <td>143.52</td>\n",
       "      <td>124.58</td>\n",
       "      <td>164.310</td>\n",
       "      <td>183.250</td>\n",
       "    </tr>\n",
       "    <tr>\n",
       "      <th>3</th>\n",
       "      <td>Co</td>\n",
       "      <td>2.27</td>\n",
       "      <td>3.680</td>\n",
       "      <td>4.61</td>\n",
       "      <td>6.130</td>\n",
       "      <td>4.49</td>\n",
       "      <td>4.05</td>\n",
       "      <td>4.520</td>\n",
       "      <td>5.770</td>\n",
       "    </tr>\n",
       "    <tr>\n",
       "      <th>4</th>\n",
       "      <td>Cu</td>\n",
       "      <td>29.16</td>\n",
       "      <td>26.820</td>\n",
       "      <td>24.15</td>\n",
       "      <td>28.590</td>\n",
       "      <td>22.19</td>\n",
       "      <td>38.90</td>\n",
       "      <td>19.480</td>\n",
       "      <td>30.950</td>\n",
       "    </tr>\n",
       "    <tr>\n",
       "      <th>5</th>\n",
       "      <td>Zn</td>\n",
       "      <td>142.25</td>\n",
       "      <td>210.470</td>\n",
       "      <td>195.34</td>\n",
       "      <td>141.270</td>\n",
       "      <td>189.11</td>\n",
       "      <td>232.53</td>\n",
       "      <td>201.890</td>\n",
       "      <td>218.310</td>\n",
       "    </tr>\n",
       "    <tr>\n",
       "      <th>6</th>\n",
       "      <td>As</td>\n",
       "      <td>2.43</td>\n",
       "      <td>2.470</td>\n",
       "      <td>2.56</td>\n",
       "      <td>2.610</td>\n",
       "      <td>2.42</td>\n",
       "      <td>2.51</td>\n",
       "      <td>1.520</td>\n",
       "      <td>2.570</td>\n",
       "    </tr>\n",
       "    <tr>\n",
       "      <th>7</th>\n",
       "      <td>Se</td>\n",
       "      <td>4.79</td>\n",
       "      <td>5.990</td>\n",
       "      <td>6.77</td>\n",
       "      <td>7.370</td>\n",
       "      <td>5.21</td>\n",
       "      <td>6.39</td>\n",
       "      <td>6.150</td>\n",
       "      <td>7.100</td>\n",
       "    </tr>\n",
       "    <tr>\n",
       "      <th>8</th>\n",
       "      <td>Pb</td>\n",
       "      <td>1.78</td>\n",
       "      <td>2.180</td>\n",
       "      <td>1.63</td>\n",
       "      <td>1.970</td>\n",
       "      <td>1.58</td>\n",
       "      <td>1.46</td>\n",
       "      <td>1.610</td>\n",
       "      <td>2.780</td>\n",
       "    </tr>\n",
       "    <tr>\n",
       "      <th>9</th>\n",
       "      <td>Cd</td>\n",
       "      <td>0.63</td>\n",
       "      <td>0.970</td>\n",
       "      <td>2.27</td>\n",
       "      <td>3.350</td>\n",
       "      <td>0.84</td>\n",
       "      <td>1.95</td>\n",
       "      <td>2.200</td>\n",
       "      <td>2.890</td>\n",
       "    </tr>\n",
       "    <tr>\n",
       "      <th>10</th>\n",
       "      <td>Hg</td>\n",
       "      <td>0.57</td>\n",
       "      <td>0.780</td>\n",
       "      <td>0.99</td>\n",
       "      <td>1.270</td>\n",
       "      <td>0.71</td>\n",
       "      <td>1.73</td>\n",
       "      <td>0.950</td>\n",
       "      <td>1.580</td>\n",
       "    </tr>\n",
       "    <tr>\n",
       "      <th>11</th>\n",
       "      <td>Protein</td>\n",
       "      <td>9.80</td>\n",
       "      <td>10.400</td>\n",
       "      <td>11.30</td>\n",
       "      <td>11.500</td>\n",
       "      <td>9.10</td>\n",
       "      <td>12.70</td>\n",
       "      <td>9.300</td>\n",
       "      <td>10.500</td>\n",
       "    </tr>\n",
       "    <tr>\n",
       "      <th>12</th>\n",
       "      <td>OPFA</td>\n",
       "      <td>0.80</td>\n",
       "      <td>0.495</td>\n",
       "      <td>0.36</td>\n",
       "      <td>0.235</td>\n",
       "      <td>0.42</td>\n",
       "      <td>0.55</td>\n",
       "      <td>0.465</td>\n",
       "      <td>0.315</td>\n",
       "    </tr>\n",
       "    <tr>\n",
       "      <th>13</th>\n",
       "      <td>Lipid</td>\n",
       "      <td>7.79</td>\n",
       "      <td>7.100</td>\n",
       "      <td>4.82</td>\n",
       "      <td>2.100</td>\n",
       "      <td>5.70</td>\n",
       "      <td>6.56</td>\n",
       "      <td>6.150</td>\n",
       "      <td>2.690</td>\n",
       "    </tr>\n",
       "  </tbody>\n",
       "</table>\n",
       "</div>"
      ],
      "text/plain": [
       "     Metals  Ghagra (Clupisoma garua)  Koi\\n (Anabas testudineus)  \\\n",
       "0        Cr                      0.78                       1.050   \n",
       "1        Mn                      1.93                       0.790   \n",
       "2        Fe                    155.47                     134.100   \n",
       "3        Co                      2.27                       3.680   \n",
       "4        Cu                     29.16                      26.820   \n",
       "5        Zn                    142.25                     210.470   \n",
       "6        As                      2.43                       2.470   \n",
       "7        Se                      4.79                       5.990   \n",
       "8        Pb                      1.78                       2.180   \n",
       "9        Cd                      0.63                       0.970   \n",
       "10       Hg                      0.57                       0.780   \n",
       "11  Protein                      9.80                      10.400   \n",
       "12     OPFA                      0.80                       0.495   \n",
       "13    Lipid                      7.79                       7.100   \n",
       "\n",
       "    Tatkini\\n (Cirrhinus reba)  Tengra (Mystus vittatus)  \\\n",
       "0                         1.48                     2.110   \n",
       "1                         0.72                     1.040   \n",
       "2                       127.85                   140.120   \n",
       "3                         4.61                     6.130   \n",
       "4                        24.15                    28.590   \n",
       "5                       195.34                   141.270   \n",
       "6                         2.56                     2.610   \n",
       "7                         6.77                     7.370   \n",
       "8                         1.63                     1.970   \n",
       "9                         2.27                     3.350   \n",
       "10                        0.99                     1.270   \n",
       "11                       11.30                    11.500   \n",
       "12                        0.36                     0.235   \n",
       "13                        4.82                     2.100   \n",
       "\n",
       "    Batashi (Neotropius atherinoides)  Jatka (juvenile) Tenualosa ilisha  \\\n",
       "0                                0.37                               1.23   \n",
       "1                                0.69                               1.23   \n",
       "2                              143.52                             124.58   \n",
       "3                                4.49                               4.05   \n",
       "4                               22.19                              38.90   \n",
       "5                              189.11                             232.53   \n",
       "6                                2.42                               2.51   \n",
       "7                                5.21                               6.39   \n",
       "8                                1.58                               1.46   \n",
       "9                                0.84                               1.95   \n",
       "10                               0.71                               1.73   \n",
       "11                               9.10                              12.70   \n",
       "12                               0.42                               0.55   \n",
       "13                               5.70                               6.56   \n",
       "\n",
       "    Rani (Botia dario)  Chanda\\n (Pseudambassis ranga)  \n",
       "0                1.150                           2.150  \n",
       "1                1.950                           2.080  \n",
       "2              164.310                         183.250  \n",
       "3                4.520                           5.770  \n",
       "4               19.480                          30.950  \n",
       "5              201.890                         218.310  \n",
       "6                1.520                           2.570  \n",
       "7                6.150                           7.100  \n",
       "8                1.610                           2.780  \n",
       "9                2.200                           2.890  \n",
       "10               0.950                           1.580  \n",
       "11               9.300                          10.500  \n",
       "12               0.465                           0.315  \n",
       "13               6.150                           2.690  "
      ]
     },
     "execution_count": 4,
     "metadata": {},
     "output_type": "execute_result"
    }
   ],
   "source": [
    "df"
   ]
  },
  {
   "cell_type": "code",
   "execution_count": 6,
   "id": "fc5ffbea",
   "metadata": {},
   "outputs": [],
   "source": [
    "trans = df.T"
   ]
  },
  {
   "cell_type": "code",
   "execution_count": 14,
   "id": "4e643c9c",
   "metadata": {},
   "outputs": [
    {
     "data": {
      "text/html": [
       "<div>\n",
       "<style scoped>\n",
       "    .dataframe tbody tr th:only-of-type {\n",
       "        vertical-align: middle;\n",
       "    }\n",
       "\n",
       "    .dataframe tbody tr th {\n",
       "        vertical-align: top;\n",
       "    }\n",
       "\n",
       "    .dataframe thead th {\n",
       "        text-align: right;\n",
       "    }\n",
       "</style>\n",
       "<table border=\"1\" class=\"dataframe\">\n",
       "  <thead>\n",
       "    <tr style=\"text-align: right;\">\n",
       "      <th></th>\n",
       "      <th>0</th>\n",
       "      <th>1</th>\n",
       "      <th>2</th>\n",
       "      <th>3</th>\n",
       "      <th>4</th>\n",
       "      <th>5</th>\n",
       "      <th>6</th>\n",
       "      <th>7</th>\n",
       "      <th>8</th>\n",
       "      <th>9</th>\n",
       "      <th>10</th>\n",
       "      <th>11</th>\n",
       "      <th>12</th>\n",
       "      <th>13</th>\n",
       "    </tr>\n",
       "  </thead>\n",
       "  <tbody>\n",
       "    <tr>\n",
       "      <th>Metals</th>\n",
       "      <td>Cr</td>\n",
       "      <td>Mn</td>\n",
       "      <td>Fe</td>\n",
       "      <td>Co</td>\n",
       "      <td>Cu</td>\n",
       "      <td>Zn</td>\n",
       "      <td>As</td>\n",
       "      <td>Se</td>\n",
       "      <td>Pb</td>\n",
       "      <td>Cd</td>\n",
       "      <td>Hg</td>\n",
       "      <td>Protein</td>\n",
       "      <td>OPFA</td>\n",
       "      <td>Lipid</td>\n",
       "    </tr>\n",
       "    <tr>\n",
       "      <th>Ghagra (Clupisoma garua)</th>\n",
       "      <td>0.78</td>\n",
       "      <td>1.93</td>\n",
       "      <td>155.47</td>\n",
       "      <td>2.27</td>\n",
       "      <td>29.16</td>\n",
       "      <td>142.25</td>\n",
       "      <td>2.43</td>\n",
       "      <td>4.79</td>\n",
       "      <td>1.78</td>\n",
       "      <td>0.63</td>\n",
       "      <td>0.57</td>\n",
       "      <td>9.8</td>\n",
       "      <td>0.8</td>\n",
       "      <td>7.79</td>\n",
       "    </tr>\n",
       "    <tr>\n",
       "      <th>Koi\\n (Anabas testudineus)</th>\n",
       "      <td>1.05</td>\n",
       "      <td>0.79</td>\n",
       "      <td>134.1</td>\n",
       "      <td>3.68</td>\n",
       "      <td>26.82</td>\n",
       "      <td>210.47</td>\n",
       "      <td>2.47</td>\n",
       "      <td>5.99</td>\n",
       "      <td>2.18</td>\n",
       "      <td>0.97</td>\n",
       "      <td>0.78</td>\n",
       "      <td>10.4</td>\n",
       "      <td>0.495</td>\n",
       "      <td>7.1</td>\n",
       "    </tr>\n",
       "    <tr>\n",
       "      <th>Tatkini\\n (Cirrhinus reba)</th>\n",
       "      <td>1.48</td>\n",
       "      <td>0.72</td>\n",
       "      <td>127.85</td>\n",
       "      <td>4.61</td>\n",
       "      <td>24.15</td>\n",
       "      <td>195.34</td>\n",
       "      <td>2.56</td>\n",
       "      <td>6.77</td>\n",
       "      <td>1.63</td>\n",
       "      <td>2.27</td>\n",
       "      <td>0.99</td>\n",
       "      <td>11.3</td>\n",
       "      <td>0.36</td>\n",
       "      <td>4.82</td>\n",
       "    </tr>\n",
       "    <tr>\n",
       "      <th>Tengra (Mystus vittatus)</th>\n",
       "      <td>2.11</td>\n",
       "      <td>1.04</td>\n",
       "      <td>140.12</td>\n",
       "      <td>6.13</td>\n",
       "      <td>28.59</td>\n",
       "      <td>141.27</td>\n",
       "      <td>2.61</td>\n",
       "      <td>7.37</td>\n",
       "      <td>1.97</td>\n",
       "      <td>3.35</td>\n",
       "      <td>1.27</td>\n",
       "      <td>11.5</td>\n",
       "      <td>0.235</td>\n",
       "      <td>2.1</td>\n",
       "    </tr>\n",
       "    <tr>\n",
       "      <th>Batashi (Neotropius atherinoides)</th>\n",
       "      <td>0.37</td>\n",
       "      <td>0.69</td>\n",
       "      <td>143.52</td>\n",
       "      <td>4.49</td>\n",
       "      <td>22.19</td>\n",
       "      <td>189.11</td>\n",
       "      <td>2.42</td>\n",
       "      <td>5.21</td>\n",
       "      <td>1.58</td>\n",
       "      <td>0.84</td>\n",
       "      <td>0.71</td>\n",
       "      <td>9.1</td>\n",
       "      <td>0.42</td>\n",
       "      <td>5.7</td>\n",
       "    </tr>\n",
       "    <tr>\n",
       "      <th>Jatka (juvenile) Tenualosa ilisha</th>\n",
       "      <td>1.23</td>\n",
       "      <td>1.23</td>\n",
       "      <td>124.58</td>\n",
       "      <td>4.05</td>\n",
       "      <td>38.9</td>\n",
       "      <td>232.53</td>\n",
       "      <td>2.51</td>\n",
       "      <td>6.39</td>\n",
       "      <td>1.46</td>\n",
       "      <td>1.95</td>\n",
       "      <td>1.73</td>\n",
       "      <td>12.7</td>\n",
       "      <td>0.55</td>\n",
       "      <td>6.56</td>\n",
       "    </tr>\n",
       "    <tr>\n",
       "      <th>Rani (Botia dario)</th>\n",
       "      <td>1.15</td>\n",
       "      <td>1.95</td>\n",
       "      <td>164.31</td>\n",
       "      <td>4.52</td>\n",
       "      <td>19.48</td>\n",
       "      <td>201.89</td>\n",
       "      <td>1.52</td>\n",
       "      <td>6.15</td>\n",
       "      <td>1.61</td>\n",
       "      <td>2.2</td>\n",
       "      <td>0.95</td>\n",
       "      <td>9.3</td>\n",
       "      <td>0.465</td>\n",
       "      <td>6.15</td>\n",
       "    </tr>\n",
       "    <tr>\n",
       "      <th>Chanda\\n (Pseudambassis ranga)</th>\n",
       "      <td>2.15</td>\n",
       "      <td>2.08</td>\n",
       "      <td>183.25</td>\n",
       "      <td>5.77</td>\n",
       "      <td>30.95</td>\n",
       "      <td>218.31</td>\n",
       "      <td>2.57</td>\n",
       "      <td>7.1</td>\n",
       "      <td>2.78</td>\n",
       "      <td>2.89</td>\n",
       "      <td>1.58</td>\n",
       "      <td>10.5</td>\n",
       "      <td>0.315</td>\n",
       "      <td>2.69</td>\n",
       "    </tr>\n",
       "  </tbody>\n",
       "</table>\n",
       "</div>"
      ],
      "text/plain": [
       "                                     0     1       2     3      4       5   \\\n",
       "Metals                               Cr    Mn      Fe    Co     Cu      Zn   \n",
       "Ghagra (Clupisoma garua)           0.78  1.93  155.47  2.27  29.16  142.25   \n",
       "Koi\\n (Anabas testudineus)         1.05  0.79   134.1  3.68  26.82  210.47   \n",
       "Tatkini\\n (Cirrhinus reba)         1.48  0.72  127.85  4.61  24.15  195.34   \n",
       "Tengra (Mystus vittatus)           2.11  1.04  140.12  6.13  28.59  141.27   \n",
       "Batashi (Neotropius atherinoides)  0.37  0.69  143.52  4.49  22.19  189.11   \n",
       "Jatka (juvenile) Tenualosa ilisha  1.23  1.23  124.58  4.05   38.9  232.53   \n",
       "Rani (Botia dario)                 1.15  1.95  164.31  4.52  19.48  201.89   \n",
       "Chanda\\n (Pseudambassis ranga)     2.15  2.08  183.25  5.77  30.95  218.31   \n",
       "\n",
       "                                     6     7     8     9     10       11  \\\n",
       "Metals                               As    Se    Pb    Cd    Hg  Protein   \n",
       "Ghagra (Clupisoma garua)           2.43  4.79  1.78  0.63  0.57      9.8   \n",
       "Koi\\n (Anabas testudineus)         2.47  5.99  2.18  0.97  0.78     10.4   \n",
       "Tatkini\\n (Cirrhinus reba)         2.56  6.77  1.63  2.27  0.99     11.3   \n",
       "Tengra (Mystus vittatus)           2.61  7.37  1.97  3.35  1.27     11.5   \n",
       "Batashi (Neotropius atherinoides)  2.42  5.21  1.58  0.84  0.71      9.1   \n",
       "Jatka (juvenile) Tenualosa ilisha  2.51  6.39  1.46  1.95  1.73     12.7   \n",
       "Rani (Botia dario)                 1.52  6.15  1.61   2.2  0.95      9.3   \n",
       "Chanda\\n (Pseudambassis ranga)     2.57   7.1  2.78  2.89  1.58     10.5   \n",
       "\n",
       "                                      12     13  \n",
       "Metals                              OPFA  Lipid  \n",
       "Ghagra (Clupisoma garua)             0.8   7.79  \n",
       "Koi\\n (Anabas testudineus)         0.495    7.1  \n",
       "Tatkini\\n (Cirrhinus reba)          0.36   4.82  \n",
       "Tengra (Mystus vittatus)           0.235    2.1  \n",
       "Batashi (Neotropius atherinoides)   0.42    5.7  \n",
       "Jatka (juvenile) Tenualosa ilisha   0.55   6.56  \n",
       "Rani (Botia dario)                 0.465   6.15  \n",
       "Chanda\\n (Pseudambassis ranga)     0.315   2.69  "
      ]
     },
     "execution_count": 14,
     "metadata": {},
     "output_type": "execute_result"
    }
   ],
   "source": [
    "trans"
   ]
  },
  {
   "cell_type": "code",
   "execution_count": 23,
   "id": "ef9a7005",
   "metadata": {},
   "outputs": [
    {
     "data": {
      "text/plain": [
       "['FishSpecies',\n",
       " 'Cr',\n",
       " 'Mn',\n",
       " 'Fe',\n",
       " 'Co',\n",
       " 'Cu',\n",
       " 'Zn',\n",
       " 'As',\n",
       " 'Se',\n",
       " 'Pb',\n",
       " 'Cd',\n",
       " 'Hg',\n",
       " 'Protein',\n",
       " 'OPFA',\n",
       " 'Lipid']"
      ]
     },
     "execution_count": 23,
     "metadata": {},
     "output_type": "execute_result"
    }
   ],
   "source": [
    "cols = [\"FishSpecies\",'Cr', 'Mn', 'Fe', 'Co', 'Cu', 'Zn', 'As', 'Se', 'Pb', 'Cd', 'Hg',\n",
    "       'Protein', 'OPFA', 'Lipid']\n",
    "cols"
   ]
  },
  {
   "cell_type": "code",
   "execution_count": 9,
   "id": "414eec15",
   "metadata": {},
   "outputs": [
    {
     "data": {
      "text/plain": [
       "Index(['Metals', 'Ghagra (Clupisoma garua)', 'Koi\\n (Anabas testudineus)',\n",
       "       'Tatkini\\n (Cirrhinus reba)', 'Tengra (Mystus vittatus)',\n",
       "       'Batashi (Neotropius atherinoides)',\n",
       "       'Jatka (juvenile) Tenualosa ilisha', 'Rani (Botia dario)',\n",
       "       'Chanda\\n (Pseudambassis ranga)'],\n",
       "      dtype='object')"
      ]
     },
     "execution_count": 9,
     "metadata": {},
     "output_type": "execute_result"
    }
   ],
   "source": [
    "trans.index"
   ]
  },
  {
   "cell_type": "code",
   "execution_count": 11,
   "id": "b7b9ee2a",
   "metadata": {},
   "outputs": [
    {
     "data": {
      "text/plain": [
       "Index(['Ghagra (Clupisoma garua)', 'Koi\\n (Anabas testudineus)',\n",
       "       'Tatkini\\n (Cirrhinus reba)', 'Tengra (Mystus vittatus)',\n",
       "       'Batashi (Neotropius atherinoides)',\n",
       "       'Jatka (juvenile) Tenualosa ilisha', 'Rani (Botia dario)',\n",
       "       'Chanda\\n (Pseudambassis ranga)'],\n",
       "      dtype='object')"
      ]
     },
     "execution_count": 11,
     "metadata": {},
     "output_type": "execute_result"
    }
   ],
   "source": [
    "fish = trans.index\n",
    "fish = fish[1:]\n",
    "fish"
   ]
  },
  {
   "cell_type": "code",
   "execution_count": 16,
   "id": "b9be1c51",
   "metadata": {},
   "outputs": [
    {
     "data": {
      "text/html": [
       "<div>\n",
       "<style scoped>\n",
       "    .dataframe tbody tr th:only-of-type {\n",
       "        vertical-align: middle;\n",
       "    }\n",
       "\n",
       "    .dataframe tbody tr th {\n",
       "        vertical-align: top;\n",
       "    }\n",
       "\n",
       "    .dataframe thead th {\n",
       "        text-align: right;\n",
       "    }\n",
       "</style>\n",
       "<table border=\"1\" class=\"dataframe\">\n",
       "  <thead>\n",
       "    <tr style=\"text-align: right;\">\n",
       "      <th></th>\n",
       "      <th>0</th>\n",
       "      <th>1</th>\n",
       "      <th>2</th>\n",
       "      <th>3</th>\n",
       "      <th>4</th>\n",
       "      <th>5</th>\n",
       "      <th>6</th>\n",
       "      <th>7</th>\n",
       "      <th>8</th>\n",
       "      <th>9</th>\n",
       "      <th>10</th>\n",
       "      <th>11</th>\n",
       "      <th>12</th>\n",
       "      <th>13</th>\n",
       "    </tr>\n",
       "  </thead>\n",
       "  <tbody>\n",
       "    <tr>\n",
       "      <th>Ghagra (Clupisoma garua)</th>\n",
       "      <td>0.78</td>\n",
       "      <td>1.93</td>\n",
       "      <td>155.47</td>\n",
       "      <td>2.27</td>\n",
       "      <td>29.16</td>\n",
       "      <td>142.25</td>\n",
       "      <td>2.43</td>\n",
       "      <td>4.79</td>\n",
       "      <td>1.78</td>\n",
       "      <td>0.63</td>\n",
       "      <td>0.57</td>\n",
       "      <td>9.8</td>\n",
       "      <td>0.8</td>\n",
       "      <td>7.79</td>\n",
       "    </tr>\n",
       "    <tr>\n",
       "      <th>Koi\\n (Anabas testudineus)</th>\n",
       "      <td>1.05</td>\n",
       "      <td>0.79</td>\n",
       "      <td>134.1</td>\n",
       "      <td>3.68</td>\n",
       "      <td>26.82</td>\n",
       "      <td>210.47</td>\n",
       "      <td>2.47</td>\n",
       "      <td>5.99</td>\n",
       "      <td>2.18</td>\n",
       "      <td>0.97</td>\n",
       "      <td>0.78</td>\n",
       "      <td>10.4</td>\n",
       "      <td>0.495</td>\n",
       "      <td>7.1</td>\n",
       "    </tr>\n",
       "    <tr>\n",
       "      <th>Tatkini\\n (Cirrhinus reba)</th>\n",
       "      <td>1.48</td>\n",
       "      <td>0.72</td>\n",
       "      <td>127.85</td>\n",
       "      <td>4.61</td>\n",
       "      <td>24.15</td>\n",
       "      <td>195.34</td>\n",
       "      <td>2.56</td>\n",
       "      <td>6.77</td>\n",
       "      <td>1.63</td>\n",
       "      <td>2.27</td>\n",
       "      <td>0.99</td>\n",
       "      <td>11.3</td>\n",
       "      <td>0.36</td>\n",
       "      <td>4.82</td>\n",
       "    </tr>\n",
       "    <tr>\n",
       "      <th>Tengra (Mystus vittatus)</th>\n",
       "      <td>2.11</td>\n",
       "      <td>1.04</td>\n",
       "      <td>140.12</td>\n",
       "      <td>6.13</td>\n",
       "      <td>28.59</td>\n",
       "      <td>141.27</td>\n",
       "      <td>2.61</td>\n",
       "      <td>7.37</td>\n",
       "      <td>1.97</td>\n",
       "      <td>3.35</td>\n",
       "      <td>1.27</td>\n",
       "      <td>11.5</td>\n",
       "      <td>0.235</td>\n",
       "      <td>2.1</td>\n",
       "    </tr>\n",
       "    <tr>\n",
       "      <th>Batashi (Neotropius atherinoides)</th>\n",
       "      <td>0.37</td>\n",
       "      <td>0.69</td>\n",
       "      <td>143.52</td>\n",
       "      <td>4.49</td>\n",
       "      <td>22.19</td>\n",
       "      <td>189.11</td>\n",
       "      <td>2.42</td>\n",
       "      <td>5.21</td>\n",
       "      <td>1.58</td>\n",
       "      <td>0.84</td>\n",
       "      <td>0.71</td>\n",
       "      <td>9.1</td>\n",
       "      <td>0.42</td>\n",
       "      <td>5.7</td>\n",
       "    </tr>\n",
       "    <tr>\n",
       "      <th>Jatka (juvenile) Tenualosa ilisha</th>\n",
       "      <td>1.23</td>\n",
       "      <td>1.23</td>\n",
       "      <td>124.58</td>\n",
       "      <td>4.05</td>\n",
       "      <td>38.9</td>\n",
       "      <td>232.53</td>\n",
       "      <td>2.51</td>\n",
       "      <td>6.39</td>\n",
       "      <td>1.46</td>\n",
       "      <td>1.95</td>\n",
       "      <td>1.73</td>\n",
       "      <td>12.7</td>\n",
       "      <td>0.55</td>\n",
       "      <td>6.56</td>\n",
       "    </tr>\n",
       "    <tr>\n",
       "      <th>Rani (Botia dario)</th>\n",
       "      <td>1.15</td>\n",
       "      <td>1.95</td>\n",
       "      <td>164.31</td>\n",
       "      <td>4.52</td>\n",
       "      <td>19.48</td>\n",
       "      <td>201.89</td>\n",
       "      <td>1.52</td>\n",
       "      <td>6.15</td>\n",
       "      <td>1.61</td>\n",
       "      <td>2.2</td>\n",
       "      <td>0.95</td>\n",
       "      <td>9.3</td>\n",
       "      <td>0.465</td>\n",
       "      <td>6.15</td>\n",
       "    </tr>\n",
       "    <tr>\n",
       "      <th>Chanda\\n (Pseudambassis ranga)</th>\n",
       "      <td>2.15</td>\n",
       "      <td>2.08</td>\n",
       "      <td>183.25</td>\n",
       "      <td>5.77</td>\n",
       "      <td>30.95</td>\n",
       "      <td>218.31</td>\n",
       "      <td>2.57</td>\n",
       "      <td>7.1</td>\n",
       "      <td>2.78</td>\n",
       "      <td>2.89</td>\n",
       "      <td>1.58</td>\n",
       "      <td>10.5</td>\n",
       "      <td>0.315</td>\n",
       "      <td>2.69</td>\n",
       "    </tr>\n",
       "  </tbody>\n",
       "</table>\n",
       "</div>"
      ],
      "text/plain": [
       "                                     0     1       2     3      4       5   \\\n",
       "Ghagra (Clupisoma garua)           0.78  1.93  155.47  2.27  29.16  142.25   \n",
       "Koi\\n (Anabas testudineus)         1.05  0.79   134.1  3.68  26.82  210.47   \n",
       "Tatkini\\n (Cirrhinus reba)         1.48  0.72  127.85  4.61  24.15  195.34   \n",
       "Tengra (Mystus vittatus)           2.11  1.04  140.12  6.13  28.59  141.27   \n",
       "Batashi (Neotropius atherinoides)  0.37  0.69  143.52  4.49  22.19  189.11   \n",
       "Jatka (juvenile) Tenualosa ilisha  1.23  1.23  124.58  4.05   38.9  232.53   \n",
       "Rani (Botia dario)                 1.15  1.95  164.31  4.52  19.48  201.89   \n",
       "Chanda\\n (Pseudambassis ranga)     2.15  2.08  183.25  5.77  30.95  218.31   \n",
       "\n",
       "                                     6     7     8     9     10    11     12  \\\n",
       "Ghagra (Clupisoma garua)           2.43  4.79  1.78  0.63  0.57   9.8    0.8   \n",
       "Koi\\n (Anabas testudineus)         2.47  5.99  2.18  0.97  0.78  10.4  0.495   \n",
       "Tatkini\\n (Cirrhinus reba)         2.56  6.77  1.63  2.27  0.99  11.3   0.36   \n",
       "Tengra (Mystus vittatus)           2.61  7.37  1.97  3.35  1.27  11.5  0.235   \n",
       "Batashi (Neotropius atherinoides)  2.42  5.21  1.58  0.84  0.71   9.1   0.42   \n",
       "Jatka (juvenile) Tenualosa ilisha  2.51  6.39  1.46  1.95  1.73  12.7   0.55   \n",
       "Rani (Botia dario)                 1.52  6.15  1.61   2.2  0.95   9.3  0.465   \n",
       "Chanda\\n (Pseudambassis ranga)     2.57   7.1  2.78  2.89  1.58  10.5  0.315   \n",
       "\n",
       "                                     13  \n",
       "Ghagra (Clupisoma garua)           7.79  \n",
       "Koi\\n (Anabas testudineus)          7.1  \n",
       "Tatkini\\n (Cirrhinus reba)         4.82  \n",
       "Tengra (Mystus vittatus)            2.1  \n",
       "Batashi (Neotropius atherinoides)   5.7  \n",
       "Jatka (juvenile) Tenualosa ilisha  6.56  \n",
       "Rani (Botia dario)                 6.15  \n",
       "Chanda\\n (Pseudambassis ranga)     2.69  "
      ]
     },
     "execution_count": 16,
     "metadata": {},
     "output_type": "execute_result"
    }
   ],
   "source": [
    "trans = trans.iloc[1:]\n",
    "trans"
   ]
  },
  {
   "cell_type": "code",
   "execution_count": 17,
   "id": "37b403ed",
   "metadata": {},
   "outputs": [],
   "source": [
    "trans.reset_index(inplace=True)"
   ]
  },
  {
   "cell_type": "code",
   "execution_count": 18,
   "id": "d86ec512",
   "metadata": {},
   "outputs": [
    {
     "data": {
      "text/html": [
       "<div>\n",
       "<style scoped>\n",
       "    .dataframe tbody tr th:only-of-type {\n",
       "        vertical-align: middle;\n",
       "    }\n",
       "\n",
       "    .dataframe tbody tr th {\n",
       "        vertical-align: top;\n",
       "    }\n",
       "\n",
       "    .dataframe thead th {\n",
       "        text-align: right;\n",
       "    }\n",
       "</style>\n",
       "<table border=\"1\" class=\"dataframe\">\n",
       "  <thead>\n",
       "    <tr style=\"text-align: right;\">\n",
       "      <th></th>\n",
       "      <th>index</th>\n",
       "      <th>0</th>\n",
       "      <th>1</th>\n",
       "      <th>2</th>\n",
       "      <th>3</th>\n",
       "      <th>4</th>\n",
       "      <th>5</th>\n",
       "      <th>6</th>\n",
       "      <th>7</th>\n",
       "      <th>8</th>\n",
       "      <th>9</th>\n",
       "      <th>10</th>\n",
       "      <th>11</th>\n",
       "      <th>12</th>\n",
       "      <th>13</th>\n",
       "    </tr>\n",
       "  </thead>\n",
       "  <tbody>\n",
       "    <tr>\n",
       "      <th>0</th>\n",
       "      <td>Ghagra (Clupisoma garua)</td>\n",
       "      <td>0.78</td>\n",
       "      <td>1.93</td>\n",
       "      <td>155.47</td>\n",
       "      <td>2.27</td>\n",
       "      <td>29.16</td>\n",
       "      <td>142.25</td>\n",
       "      <td>2.43</td>\n",
       "      <td>4.79</td>\n",
       "      <td>1.78</td>\n",
       "      <td>0.63</td>\n",
       "      <td>0.57</td>\n",
       "      <td>9.8</td>\n",
       "      <td>0.8</td>\n",
       "      <td>7.79</td>\n",
       "    </tr>\n",
       "    <tr>\n",
       "      <th>1</th>\n",
       "      <td>Koi\\n (Anabas testudineus)</td>\n",
       "      <td>1.05</td>\n",
       "      <td>0.79</td>\n",
       "      <td>134.1</td>\n",
       "      <td>3.68</td>\n",
       "      <td>26.82</td>\n",
       "      <td>210.47</td>\n",
       "      <td>2.47</td>\n",
       "      <td>5.99</td>\n",
       "      <td>2.18</td>\n",
       "      <td>0.97</td>\n",
       "      <td>0.78</td>\n",
       "      <td>10.4</td>\n",
       "      <td>0.495</td>\n",
       "      <td>7.1</td>\n",
       "    </tr>\n",
       "    <tr>\n",
       "      <th>2</th>\n",
       "      <td>Tatkini\\n (Cirrhinus reba)</td>\n",
       "      <td>1.48</td>\n",
       "      <td>0.72</td>\n",
       "      <td>127.85</td>\n",
       "      <td>4.61</td>\n",
       "      <td>24.15</td>\n",
       "      <td>195.34</td>\n",
       "      <td>2.56</td>\n",
       "      <td>6.77</td>\n",
       "      <td>1.63</td>\n",
       "      <td>2.27</td>\n",
       "      <td>0.99</td>\n",
       "      <td>11.3</td>\n",
       "      <td>0.36</td>\n",
       "      <td>4.82</td>\n",
       "    </tr>\n",
       "    <tr>\n",
       "      <th>3</th>\n",
       "      <td>Tengra (Mystus vittatus)</td>\n",
       "      <td>2.11</td>\n",
       "      <td>1.04</td>\n",
       "      <td>140.12</td>\n",
       "      <td>6.13</td>\n",
       "      <td>28.59</td>\n",
       "      <td>141.27</td>\n",
       "      <td>2.61</td>\n",
       "      <td>7.37</td>\n",
       "      <td>1.97</td>\n",
       "      <td>3.35</td>\n",
       "      <td>1.27</td>\n",
       "      <td>11.5</td>\n",
       "      <td>0.235</td>\n",
       "      <td>2.1</td>\n",
       "    </tr>\n",
       "    <tr>\n",
       "      <th>4</th>\n",
       "      <td>Batashi (Neotropius atherinoides)</td>\n",
       "      <td>0.37</td>\n",
       "      <td>0.69</td>\n",
       "      <td>143.52</td>\n",
       "      <td>4.49</td>\n",
       "      <td>22.19</td>\n",
       "      <td>189.11</td>\n",
       "      <td>2.42</td>\n",
       "      <td>5.21</td>\n",
       "      <td>1.58</td>\n",
       "      <td>0.84</td>\n",
       "      <td>0.71</td>\n",
       "      <td>9.1</td>\n",
       "      <td>0.42</td>\n",
       "      <td>5.7</td>\n",
       "    </tr>\n",
       "    <tr>\n",
       "      <th>5</th>\n",
       "      <td>Jatka (juvenile) Tenualosa ilisha</td>\n",
       "      <td>1.23</td>\n",
       "      <td>1.23</td>\n",
       "      <td>124.58</td>\n",
       "      <td>4.05</td>\n",
       "      <td>38.9</td>\n",
       "      <td>232.53</td>\n",
       "      <td>2.51</td>\n",
       "      <td>6.39</td>\n",
       "      <td>1.46</td>\n",
       "      <td>1.95</td>\n",
       "      <td>1.73</td>\n",
       "      <td>12.7</td>\n",
       "      <td>0.55</td>\n",
       "      <td>6.56</td>\n",
       "    </tr>\n",
       "    <tr>\n",
       "      <th>6</th>\n",
       "      <td>Rani (Botia dario)</td>\n",
       "      <td>1.15</td>\n",
       "      <td>1.95</td>\n",
       "      <td>164.31</td>\n",
       "      <td>4.52</td>\n",
       "      <td>19.48</td>\n",
       "      <td>201.89</td>\n",
       "      <td>1.52</td>\n",
       "      <td>6.15</td>\n",
       "      <td>1.61</td>\n",
       "      <td>2.2</td>\n",
       "      <td>0.95</td>\n",
       "      <td>9.3</td>\n",
       "      <td>0.465</td>\n",
       "      <td>6.15</td>\n",
       "    </tr>\n",
       "    <tr>\n",
       "      <th>7</th>\n",
       "      <td>Chanda\\n (Pseudambassis ranga)</td>\n",
       "      <td>2.15</td>\n",
       "      <td>2.08</td>\n",
       "      <td>183.25</td>\n",
       "      <td>5.77</td>\n",
       "      <td>30.95</td>\n",
       "      <td>218.31</td>\n",
       "      <td>2.57</td>\n",
       "      <td>7.1</td>\n",
       "      <td>2.78</td>\n",
       "      <td>2.89</td>\n",
       "      <td>1.58</td>\n",
       "      <td>10.5</td>\n",
       "      <td>0.315</td>\n",
       "      <td>2.69</td>\n",
       "    </tr>\n",
       "  </tbody>\n",
       "</table>\n",
       "</div>"
      ],
      "text/plain": [
       "                               index     0     1       2     3      4       5  \\\n",
       "0           Ghagra (Clupisoma garua)  0.78  1.93  155.47  2.27  29.16  142.25   \n",
       "1         Koi\\n (Anabas testudineus)  1.05  0.79   134.1  3.68  26.82  210.47   \n",
       "2         Tatkini\\n (Cirrhinus reba)  1.48  0.72  127.85  4.61  24.15  195.34   \n",
       "3           Tengra (Mystus vittatus)  2.11  1.04  140.12  6.13  28.59  141.27   \n",
       "4  Batashi (Neotropius atherinoides)  0.37  0.69  143.52  4.49  22.19  189.11   \n",
       "5  Jatka (juvenile) Tenualosa ilisha  1.23  1.23  124.58  4.05   38.9  232.53   \n",
       "6                 Rani (Botia dario)  1.15  1.95  164.31  4.52  19.48  201.89   \n",
       "7     Chanda\\n (Pseudambassis ranga)  2.15  2.08  183.25  5.77  30.95  218.31   \n",
       "\n",
       "      6     7     8     9    10    11     12    13  \n",
       "0  2.43  4.79  1.78  0.63  0.57   9.8    0.8  7.79  \n",
       "1  2.47  5.99  2.18  0.97  0.78  10.4  0.495   7.1  \n",
       "2  2.56  6.77  1.63  2.27  0.99  11.3   0.36  4.82  \n",
       "3  2.61  7.37  1.97  3.35  1.27  11.5  0.235   2.1  \n",
       "4  2.42  5.21  1.58  0.84  0.71   9.1   0.42   5.7  \n",
       "5  2.51  6.39  1.46  1.95  1.73  12.7   0.55  6.56  \n",
       "6  1.52  6.15  1.61   2.2  0.95   9.3  0.465  6.15  \n",
       "7  2.57   7.1  2.78  2.89  1.58  10.5  0.315  2.69  "
      ]
     },
     "execution_count": 18,
     "metadata": {},
     "output_type": "execute_result"
    }
   ],
   "source": [
    "trans"
   ]
  },
  {
   "cell_type": "code",
   "execution_count": 24,
   "id": "8c059f4b",
   "metadata": {},
   "outputs": [],
   "source": [
    "trans.columns = cols"
   ]
  },
  {
   "cell_type": "code",
   "execution_count": 25,
   "id": "441949ed",
   "metadata": {},
   "outputs": [
    {
     "data": {
      "text/html": [
       "<div>\n",
       "<style scoped>\n",
       "    .dataframe tbody tr th:only-of-type {\n",
       "        vertical-align: middle;\n",
       "    }\n",
       "\n",
       "    .dataframe tbody tr th {\n",
       "        vertical-align: top;\n",
       "    }\n",
       "\n",
       "    .dataframe thead th {\n",
       "        text-align: right;\n",
       "    }\n",
       "</style>\n",
       "<table border=\"1\" class=\"dataframe\">\n",
       "  <thead>\n",
       "    <tr style=\"text-align: right;\">\n",
       "      <th></th>\n",
       "      <th>FishSpecies</th>\n",
       "      <th>Cr</th>\n",
       "      <th>Mn</th>\n",
       "      <th>Fe</th>\n",
       "      <th>Co</th>\n",
       "      <th>Cu</th>\n",
       "      <th>Zn</th>\n",
       "      <th>As</th>\n",
       "      <th>Se</th>\n",
       "      <th>Pb</th>\n",
       "      <th>Cd</th>\n",
       "      <th>Hg</th>\n",
       "      <th>Protein</th>\n",
       "      <th>OPFA</th>\n",
       "      <th>Lipid</th>\n",
       "    </tr>\n",
       "  </thead>\n",
       "  <tbody>\n",
       "    <tr>\n",
       "      <th>0</th>\n",
       "      <td>Ghagra (Clupisoma garua)</td>\n",
       "      <td>0.78</td>\n",
       "      <td>1.93</td>\n",
       "      <td>155.47</td>\n",
       "      <td>2.27</td>\n",
       "      <td>29.16</td>\n",
       "      <td>142.25</td>\n",
       "      <td>2.43</td>\n",
       "      <td>4.79</td>\n",
       "      <td>1.78</td>\n",
       "      <td>0.63</td>\n",
       "      <td>0.57</td>\n",
       "      <td>9.8</td>\n",
       "      <td>0.8</td>\n",
       "      <td>7.79</td>\n",
       "    </tr>\n",
       "    <tr>\n",
       "      <th>1</th>\n",
       "      <td>Koi\\n (Anabas testudineus)</td>\n",
       "      <td>1.05</td>\n",
       "      <td>0.79</td>\n",
       "      <td>134.1</td>\n",
       "      <td>3.68</td>\n",
       "      <td>26.82</td>\n",
       "      <td>210.47</td>\n",
       "      <td>2.47</td>\n",
       "      <td>5.99</td>\n",
       "      <td>2.18</td>\n",
       "      <td>0.97</td>\n",
       "      <td>0.78</td>\n",
       "      <td>10.4</td>\n",
       "      <td>0.495</td>\n",
       "      <td>7.1</td>\n",
       "    </tr>\n",
       "    <tr>\n",
       "      <th>2</th>\n",
       "      <td>Tatkini\\n (Cirrhinus reba)</td>\n",
       "      <td>1.48</td>\n",
       "      <td>0.72</td>\n",
       "      <td>127.85</td>\n",
       "      <td>4.61</td>\n",
       "      <td>24.15</td>\n",
       "      <td>195.34</td>\n",
       "      <td>2.56</td>\n",
       "      <td>6.77</td>\n",
       "      <td>1.63</td>\n",
       "      <td>2.27</td>\n",
       "      <td>0.99</td>\n",
       "      <td>11.3</td>\n",
       "      <td>0.36</td>\n",
       "      <td>4.82</td>\n",
       "    </tr>\n",
       "    <tr>\n",
       "      <th>3</th>\n",
       "      <td>Tengra (Mystus vittatus)</td>\n",
       "      <td>2.11</td>\n",
       "      <td>1.04</td>\n",
       "      <td>140.12</td>\n",
       "      <td>6.13</td>\n",
       "      <td>28.59</td>\n",
       "      <td>141.27</td>\n",
       "      <td>2.61</td>\n",
       "      <td>7.37</td>\n",
       "      <td>1.97</td>\n",
       "      <td>3.35</td>\n",
       "      <td>1.27</td>\n",
       "      <td>11.5</td>\n",
       "      <td>0.235</td>\n",
       "      <td>2.1</td>\n",
       "    </tr>\n",
       "    <tr>\n",
       "      <th>4</th>\n",
       "      <td>Batashi (Neotropius atherinoides)</td>\n",
       "      <td>0.37</td>\n",
       "      <td>0.69</td>\n",
       "      <td>143.52</td>\n",
       "      <td>4.49</td>\n",
       "      <td>22.19</td>\n",
       "      <td>189.11</td>\n",
       "      <td>2.42</td>\n",
       "      <td>5.21</td>\n",
       "      <td>1.58</td>\n",
       "      <td>0.84</td>\n",
       "      <td>0.71</td>\n",
       "      <td>9.1</td>\n",
       "      <td>0.42</td>\n",
       "      <td>5.7</td>\n",
       "    </tr>\n",
       "    <tr>\n",
       "      <th>5</th>\n",
       "      <td>Jatka (juvenile) Tenualosa ilisha</td>\n",
       "      <td>1.23</td>\n",
       "      <td>1.23</td>\n",
       "      <td>124.58</td>\n",
       "      <td>4.05</td>\n",
       "      <td>38.9</td>\n",
       "      <td>232.53</td>\n",
       "      <td>2.51</td>\n",
       "      <td>6.39</td>\n",
       "      <td>1.46</td>\n",
       "      <td>1.95</td>\n",
       "      <td>1.73</td>\n",
       "      <td>12.7</td>\n",
       "      <td>0.55</td>\n",
       "      <td>6.56</td>\n",
       "    </tr>\n",
       "    <tr>\n",
       "      <th>6</th>\n",
       "      <td>Rani (Botia dario)</td>\n",
       "      <td>1.15</td>\n",
       "      <td>1.95</td>\n",
       "      <td>164.31</td>\n",
       "      <td>4.52</td>\n",
       "      <td>19.48</td>\n",
       "      <td>201.89</td>\n",
       "      <td>1.52</td>\n",
       "      <td>6.15</td>\n",
       "      <td>1.61</td>\n",
       "      <td>2.2</td>\n",
       "      <td>0.95</td>\n",
       "      <td>9.3</td>\n",
       "      <td>0.465</td>\n",
       "      <td>6.15</td>\n",
       "    </tr>\n",
       "    <tr>\n",
       "      <th>7</th>\n",
       "      <td>Chanda\\n (Pseudambassis ranga)</td>\n",
       "      <td>2.15</td>\n",
       "      <td>2.08</td>\n",
       "      <td>183.25</td>\n",
       "      <td>5.77</td>\n",
       "      <td>30.95</td>\n",
       "      <td>218.31</td>\n",
       "      <td>2.57</td>\n",
       "      <td>7.1</td>\n",
       "      <td>2.78</td>\n",
       "      <td>2.89</td>\n",
       "      <td>1.58</td>\n",
       "      <td>10.5</td>\n",
       "      <td>0.315</td>\n",
       "      <td>2.69</td>\n",
       "    </tr>\n",
       "  </tbody>\n",
       "</table>\n",
       "</div>"
      ],
      "text/plain": [
       "                         FishSpecies    Cr    Mn      Fe    Co     Cu      Zn  \\\n",
       "0           Ghagra (Clupisoma garua)  0.78  1.93  155.47  2.27  29.16  142.25   \n",
       "1         Koi\\n (Anabas testudineus)  1.05  0.79   134.1  3.68  26.82  210.47   \n",
       "2         Tatkini\\n (Cirrhinus reba)  1.48  0.72  127.85  4.61  24.15  195.34   \n",
       "3           Tengra (Mystus vittatus)  2.11  1.04  140.12  6.13  28.59  141.27   \n",
       "4  Batashi (Neotropius atherinoides)  0.37  0.69  143.52  4.49  22.19  189.11   \n",
       "5  Jatka (juvenile) Tenualosa ilisha  1.23  1.23  124.58  4.05   38.9  232.53   \n",
       "6                 Rani (Botia dario)  1.15  1.95  164.31  4.52  19.48  201.89   \n",
       "7     Chanda\\n (Pseudambassis ranga)  2.15  2.08  183.25  5.77  30.95  218.31   \n",
       "\n",
       "     As    Se    Pb    Cd    Hg Protein   OPFA Lipid  \n",
       "0  2.43  4.79  1.78  0.63  0.57     9.8    0.8  7.79  \n",
       "1  2.47  5.99  2.18  0.97  0.78    10.4  0.495   7.1  \n",
       "2  2.56  6.77  1.63  2.27  0.99    11.3   0.36  4.82  \n",
       "3  2.61  7.37  1.97  3.35  1.27    11.5  0.235   2.1  \n",
       "4  2.42  5.21  1.58  0.84  0.71     9.1   0.42   5.7  \n",
       "5  2.51  6.39  1.46  1.95  1.73    12.7   0.55  6.56  \n",
       "6  1.52  6.15  1.61   2.2  0.95     9.3  0.465  6.15  \n",
       "7  2.57   7.1  2.78  2.89  1.58    10.5  0.315  2.69  "
      ]
     },
     "execution_count": 25,
     "metadata": {},
     "output_type": "execute_result"
    }
   ],
   "source": [
    "trans "
   ]
  },
  {
   "cell_type": "code",
   "execution_count": 27,
   "id": "4d7b33f8",
   "metadata": {},
   "outputs": [],
   "source": [
    "newdf = pd.DataFrame(columns=[\"Values\", \"Fish\", \"Parameter\"])\n",
    "param = trans.columns[1:]\n",
    "hm = []\n",
    "for i in range(len(param)):\n",
    "    for _ in range(8):\n",
    "        hm.append(param[i])\n",
    "        \n",
    "species = trans[\"FishSpecies\"]\n",
    "species = list(species)\n",
    "sp = []\n",
    "for _ in range(len(param)):\n",
    "    sp.append(species[:])\n",
    "sparr = np.array(sp)\n",
    "sparr = sparr.flatten()\n",
    "newdf[\"Parameter\"] = hm\n",
    "newdf[\"Fish\"] = sparr\n",
    "vals = []\n",
    "for i in range(len(param)):\n",
    "    for val in trans[param[i]].values:\n",
    "        vals.append(val)"
   ]
  },
  {
   "cell_type": "code",
   "execution_count": 30,
   "id": "496f6d85",
   "metadata": {},
   "outputs": [],
   "source": [
    "newdf[\"Values\"]= vals"
   ]
  },
  {
   "cell_type": "code",
   "execution_count": 31,
   "id": "d951f74b",
   "metadata": {},
   "outputs": [
    {
     "data": {
      "text/html": [
       "<div>\n",
       "<style scoped>\n",
       "    .dataframe tbody tr th:only-of-type {\n",
       "        vertical-align: middle;\n",
       "    }\n",
       "\n",
       "    .dataframe tbody tr th {\n",
       "        vertical-align: top;\n",
       "    }\n",
       "\n",
       "    .dataframe thead th {\n",
       "        text-align: right;\n",
       "    }\n",
       "</style>\n",
       "<table border=\"1\" class=\"dataframe\">\n",
       "  <thead>\n",
       "    <tr style=\"text-align: right;\">\n",
       "      <th></th>\n",
       "      <th>Values</th>\n",
       "      <th>Fish</th>\n",
       "      <th>Parameter</th>\n",
       "    </tr>\n",
       "  </thead>\n",
       "  <tbody>\n",
       "    <tr>\n",
       "      <th>0</th>\n",
       "      <td>0.78</td>\n",
       "      <td>Ghagra (Clupisoma garua)</td>\n",
       "      <td>Cr</td>\n",
       "    </tr>\n",
       "    <tr>\n",
       "      <th>1</th>\n",
       "      <td>1.05</td>\n",
       "      <td>Koi\\n (Anabas testudineus)</td>\n",
       "      <td>Cr</td>\n",
       "    </tr>\n",
       "    <tr>\n",
       "      <th>2</th>\n",
       "      <td>1.48</td>\n",
       "      <td>Tatkini\\n (Cirrhinus reba)</td>\n",
       "      <td>Cr</td>\n",
       "    </tr>\n",
       "    <tr>\n",
       "      <th>3</th>\n",
       "      <td>2.11</td>\n",
       "      <td>Tengra (Mystus vittatus)</td>\n",
       "      <td>Cr</td>\n",
       "    </tr>\n",
       "    <tr>\n",
       "      <th>4</th>\n",
       "      <td>0.37</td>\n",
       "      <td>Batashi (Neotropius atherinoides)</td>\n",
       "      <td>Cr</td>\n",
       "    </tr>\n",
       "    <tr>\n",
       "      <th>...</th>\n",
       "      <td>...</td>\n",
       "      <td>...</td>\n",
       "      <td>...</td>\n",
       "    </tr>\n",
       "    <tr>\n",
       "      <th>107</th>\n",
       "      <td>2.10</td>\n",
       "      <td>Tengra (Mystus vittatus)</td>\n",
       "      <td>Lipid</td>\n",
       "    </tr>\n",
       "    <tr>\n",
       "      <th>108</th>\n",
       "      <td>5.70</td>\n",
       "      <td>Batashi (Neotropius atherinoides)</td>\n",
       "      <td>Lipid</td>\n",
       "    </tr>\n",
       "    <tr>\n",
       "      <th>109</th>\n",
       "      <td>6.56</td>\n",
       "      <td>Jatka (juvenile) Tenualosa ilisha</td>\n",
       "      <td>Lipid</td>\n",
       "    </tr>\n",
       "    <tr>\n",
       "      <th>110</th>\n",
       "      <td>6.15</td>\n",
       "      <td>Rani (Botia dario)</td>\n",
       "      <td>Lipid</td>\n",
       "    </tr>\n",
       "    <tr>\n",
       "      <th>111</th>\n",
       "      <td>2.69</td>\n",
       "      <td>Chanda\\n (Pseudambassis ranga)</td>\n",
       "      <td>Lipid</td>\n",
       "    </tr>\n",
       "  </tbody>\n",
       "</table>\n",
       "<p>112 rows × 3 columns</p>\n",
       "</div>"
      ],
      "text/plain": [
       "     Values                               Fish Parameter\n",
       "0      0.78           Ghagra (Clupisoma garua)        Cr\n",
       "1      1.05         Koi\\n (Anabas testudineus)        Cr\n",
       "2      1.48         Tatkini\\n (Cirrhinus reba)        Cr\n",
       "3      2.11           Tengra (Mystus vittatus)        Cr\n",
       "4      0.37  Batashi (Neotropius atherinoides)        Cr\n",
       "..      ...                                ...       ...\n",
       "107    2.10           Tengra (Mystus vittatus)     Lipid\n",
       "108    5.70  Batashi (Neotropius atherinoides)     Lipid\n",
       "109    6.56  Jatka (juvenile) Tenualosa ilisha     Lipid\n",
       "110    6.15                 Rani (Botia dario)     Lipid\n",
       "111    2.69     Chanda\\n (Pseudambassis ranga)     Lipid\n",
       "\n",
       "[112 rows x 3 columns]"
      ]
     },
     "execution_count": 31,
     "metadata": {},
     "output_type": "execute_result"
    }
   ],
   "source": [
    "newdf"
   ]
  },
  {
   "cell_type": "code",
   "execution_count": 32,
   "id": "5d94a3a6",
   "metadata": {},
   "outputs": [],
   "source": [
    "newdf.to_csv(\"data/headfishTransformed.csv\")"
   ]
  },
  {
   "cell_type": "code",
   "execution_count": 33,
   "id": "36cc65e6",
   "metadata": {},
   "outputs": [
    {
     "data": {
      "text/html": [
       "<div>\n",
       "<style scoped>\n",
       "    .dataframe tbody tr th:only-of-type {\n",
       "        vertical-align: middle;\n",
       "    }\n",
       "\n",
       "    .dataframe tbody tr th {\n",
       "        vertical-align: top;\n",
       "    }\n",
       "\n",
       "    .dataframe thead th {\n",
       "        text-align: right;\n",
       "    }\n",
       "</style>\n",
       "<table border=\"1\" class=\"dataframe\">\n",
       "  <thead>\n",
       "    <tr style=\"text-align: right;\">\n",
       "      <th></th>\n",
       "      <th>df</th>\n",
       "      <th>sum_sq</th>\n",
       "      <th>mean_sq</th>\n",
       "      <th>F</th>\n",
       "      <th>PR(&gt;F)</th>\n",
       "    </tr>\n",
       "  </thead>\n",
       "  <tbody>\n",
       "    <tr>\n",
       "      <th>Fish</th>\n",
       "      <td>7.0</td>\n",
       "      <td>830.703550</td>\n",
       "      <td>118.671936</td>\n",
       "      <td>1.068289</td>\n",
       "      <td>3.902991e-01</td>\n",
       "    </tr>\n",
       "    <tr>\n",
       "      <th>Parameter</th>\n",
       "      <td>13.0</td>\n",
       "      <td>380355.536946</td>\n",
       "      <td>29258.118227</td>\n",
       "      <td>263.382521</td>\n",
       "      <td>3.622941e-66</td>\n",
       "    </tr>\n",
       "    <tr>\n",
       "      <th>Residual</th>\n",
       "      <td>91.0</td>\n",
       "      <td>10108.828575</td>\n",
       "      <td>111.086028</td>\n",
       "      <td>NaN</td>\n",
       "      <td>NaN</td>\n",
       "    </tr>\n",
       "  </tbody>\n",
       "</table>\n",
       "</div>"
      ],
      "text/plain": [
       "             df         sum_sq       mean_sq           F        PR(>F)\n",
       "Fish        7.0     830.703550    118.671936    1.068289  3.902991e-01\n",
       "Parameter  13.0  380355.536946  29258.118227  263.382521  3.622941e-66\n",
       "Residual   91.0   10108.828575    111.086028         NaN           NaN"
      ]
     },
     "execution_count": 33,
     "metadata": {},
     "output_type": "execute_result"
    }
   ],
   "source": [
    "ano3 = ols(\"Values~Fish+Parameter\", data= newdf).fit()\n",
    "im = sm.stats.anova_lm(ano3, type=2)\n",
    "im"
   ]
  },
  {
   "cell_type": "code",
   "execution_count": 69,
   "id": "eadbe43b",
   "metadata": {},
   "outputs": [
    {
     "data": {
      "text/html": [
       "<div>\n",
       "<style scoped>\n",
       "    .dataframe tbody tr th:only-of-type {\n",
       "        vertical-align: middle;\n",
       "    }\n",
       "\n",
       "    .dataframe tbody tr th {\n",
       "        vertical-align: top;\n",
       "    }\n",
       "\n",
       "    .dataframe thead th {\n",
       "        text-align: right;\n",
       "    }\n",
       "</style>\n",
       "<table border=\"1\" class=\"dataframe\">\n",
       "  <thead>\n",
       "    <tr style=\"text-align: right;\">\n",
       "      <th></th>\n",
       "      <th>df</th>\n",
       "      <th>sum_sq</th>\n",
       "      <th>mean_sq</th>\n",
       "      <th>F</th>\n",
       "      <th>PR(&gt;F)</th>\n",
       "    </tr>\n",
       "  </thead>\n",
       "  <tbody>\n",
       "    <tr>\n",
       "      <th>Fish</th>\n",
       "      <td>7.0</td>\n",
       "      <td>830.703550</td>\n",
       "      <td>118.671936</td>\n",
       "      <td>1.068289</td>\n",
       "      <td>3.902991e-01</td>\n",
       "    </tr>\n",
       "    <tr>\n",
       "      <th>Parameter</th>\n",
       "      <td>13.0</td>\n",
       "      <td>380355.536946</td>\n",
       "      <td>29258.118227</td>\n",
       "      <td>263.382521</td>\n",
       "      <td>3.622941e-66</td>\n",
       "    </tr>\n",
       "    <tr>\n",
       "      <th>Residual</th>\n",
       "      <td>91.0</td>\n",
       "      <td>10108.828575</td>\n",
       "      <td>111.086028</td>\n",
       "      <td>NaN</td>\n",
       "      <td>NaN</td>\n",
       "    </tr>\n",
       "  </tbody>\n",
       "</table>\n",
       "</div>"
      ],
      "text/plain": [
       "             df         sum_sq       mean_sq           F        PR(>F)\n",
       "Fish        7.0     830.703550    118.671936    1.068289  3.902991e-01\n",
       "Parameter  13.0  380355.536946  29258.118227  263.382521  3.622941e-66\n",
       "Residual   91.0   10108.828575    111.086028         NaN           NaN"
      ]
     },
     "execution_count": 69,
     "metadata": {},
     "output_type": "execute_result"
    }
   ],
   "source": [
    "ano3 = ols(\"Values~Fish+Parameter\", data= newdf).fit()\n",
    "im = sm.stats.anova_lm(ano3, type=2)\n",
    "im"
   ]
  },
  {
   "cell_type": "code",
   "execution_count": 34,
   "id": "84227c31",
   "metadata": {},
   "outputs": [
    {
     "name": "stderr",
     "output_type": "stream",
     "text": [
      "/home/RHHLab/anaconda3/lib/python3.9/site-packages/statsmodels/stats/anova.py:138: RuntimeWarning: divide by zero encountered in double_scalars\n",
      "  (model.ssr / model.df_resid))\n"
     ]
    },
    {
     "data": {
      "text/html": [
       "<div>\n",
       "<style scoped>\n",
       "    .dataframe tbody tr th:only-of-type {\n",
       "        vertical-align: middle;\n",
       "    }\n",
       "\n",
       "    .dataframe tbody tr th {\n",
       "        vertical-align: top;\n",
       "    }\n",
       "\n",
       "    .dataframe thead th {\n",
       "        text-align: right;\n",
       "    }\n",
       "</style>\n",
       "<table border=\"1\" class=\"dataframe\">\n",
       "  <thead>\n",
       "    <tr style=\"text-align: right;\">\n",
       "      <th></th>\n",
       "      <th>df</th>\n",
       "      <th>sum_sq</th>\n",
       "      <th>mean_sq</th>\n",
       "      <th>F</th>\n",
       "      <th>PR(&gt;F)</th>\n",
       "    </tr>\n",
       "  </thead>\n",
       "  <tbody>\n",
       "    <tr>\n",
       "      <th>Fish</th>\n",
       "      <td>7.0</td>\n",
       "      <td>8.307035e+02</td>\n",
       "      <td>1.186719e+02</td>\n",
       "      <td>0.0</td>\n",
       "      <td>NaN</td>\n",
       "    </tr>\n",
       "    <tr>\n",
       "      <th>Parameter</th>\n",
       "      <td>13.0</td>\n",
       "      <td>3.803555e+05</td>\n",
       "      <td>2.925812e+04</td>\n",
       "      <td>0.0</td>\n",
       "      <td>NaN</td>\n",
       "    </tr>\n",
       "    <tr>\n",
       "      <th>Fish:Parameter</th>\n",
       "      <td>91.0</td>\n",
       "      <td>1.010883e+04</td>\n",
       "      <td>1.110860e+02</td>\n",
       "      <td>0.0</td>\n",
       "      <td>NaN</td>\n",
       "    </tr>\n",
       "    <tr>\n",
       "      <th>Residual</th>\n",
       "      <td>0.0</td>\n",
       "      <td>1.051131e-24</td>\n",
       "      <td>inf</td>\n",
       "      <td>NaN</td>\n",
       "      <td>NaN</td>\n",
       "    </tr>\n",
       "  </tbody>\n",
       "</table>\n",
       "</div>"
      ],
      "text/plain": [
       "                  df        sum_sq       mean_sq    F  PR(>F)\n",
       "Fish             7.0  8.307035e+02  1.186719e+02  0.0     NaN\n",
       "Parameter       13.0  3.803555e+05  2.925812e+04  0.0     NaN\n",
       "Fish:Parameter  91.0  1.010883e+04  1.110860e+02  0.0     NaN\n",
       "Residual         0.0  1.051131e-24           inf  NaN     NaN"
      ]
     },
     "execution_count": 34,
     "metadata": {},
     "output_type": "execute_result"
    }
   ],
   "source": [
    "ano3 = ols(\"Values~Fish+Parameter+Fish*Parameter\", data= newdf).fit()\n",
    "im = sm.stats.anova_lm(ano3, type=2)\n",
    "im"
   ]
  },
  {
   "cell_type": "code",
   "execution_count": 35,
   "id": "7d39846b",
   "metadata": {},
   "outputs": [
    {
     "data": {
      "text/plain": [
       "2.4201236607142858e-27"
      ]
     },
     "execution_count": 35,
     "metadata": {},
     "output_type": "execute_result"
    }
   ],
   "source": [
    "5.421077e-25 / 224"
   ]
  },
  {
   "cell_type": "code",
   "execution_count": 36,
   "id": "a07e85ab",
   "metadata": {},
   "outputs": [
    {
     "data": {
      "text/plain": [
       "7.641345068516828e+28"
      ]
     },
     "execution_count": 36,
     "metadata": {},
     "output_type": "execute_result"
    }
   ],
   "source": [
    "184.93 / 2.4201236607142858e-27"
   ]
  },
  {
   "cell_type": "code",
   "execution_count": null,
   "id": "caa7a858",
   "metadata": {},
   "outputs": [],
   "source": []
  },
  {
   "cell_type": "code",
   "execution_count": null,
   "id": "11c414ee",
   "metadata": {},
   "outputs": [],
   "source": []
  },
  {
   "cell_type": "code",
   "execution_count": null,
   "id": "f6b9e94d",
   "metadata": {},
   "outputs": [],
   "source": []
  },
  {
   "cell_type": "code",
   "execution_count": 165,
   "id": "e6e83033",
   "metadata": {},
   "outputs": [
    {
     "name": "stderr",
     "output_type": "stream",
     "text": [
      "/home/RHHLab/anaconda3/lib/python3.9/site-packages/pingouin/parametric.py:1091: RuntimeWarning: invalid value encountered in double_scalars\n",
      "  ms_resid = ss_resid / df_resid\n"
     ]
    },
    {
     "data": {
      "text/html": [
       "<div>\n",
       "<style scoped>\n",
       "    .dataframe tbody tr th:only-of-type {\n",
       "        vertical-align: middle;\n",
       "    }\n",
       "\n",
       "    .dataframe tbody tr th {\n",
       "        vertical-align: top;\n",
       "    }\n",
       "\n",
       "    .dataframe thead th {\n",
       "        text-align: right;\n",
       "    }\n",
       "</style>\n",
       "<table border=\"1\" class=\"dataframe\">\n",
       "  <thead>\n",
       "    <tr style=\"text-align: right;\">\n",
       "      <th></th>\n",
       "      <th>Source</th>\n",
       "      <th>SS</th>\n",
       "      <th>DF</th>\n",
       "      <th>MS</th>\n",
       "      <th>np2</th>\n",
       "    </tr>\n",
       "  </thead>\n",
       "  <tbody>\n",
       "    <tr>\n",
       "      <th>0</th>\n",
       "      <td>Fish</td>\n",
       "      <td>1294.564271</td>\n",
       "      <td>7</td>\n",
       "      <td>184.937753</td>\n",
       "      <td>1.0</td>\n",
       "    </tr>\n",
       "    <tr>\n",
       "      <th>1</th>\n",
       "      <td>Parameter</td>\n",
       "      <td>171378.772950</td>\n",
       "      <td>13</td>\n",
       "      <td>13182.982535</td>\n",
       "      <td>1.0</td>\n",
       "    </tr>\n",
       "    <tr>\n",
       "      <th>2</th>\n",
       "      <td>Fish * Parameter</td>\n",
       "      <td>12556.510979</td>\n",
       "      <td>91</td>\n",
       "      <td>137.983637</td>\n",
       "      <td>1.0</td>\n",
       "    </tr>\n",
       "    <tr>\n",
       "      <th>3</th>\n",
       "      <td>Residual</td>\n",
       "      <td>0.000000</td>\n",
       "      <td>0</td>\n",
       "      <td>NaN</td>\n",
       "      <td>NaN</td>\n",
       "    </tr>\n",
       "  </tbody>\n",
       "</table>\n",
       "</div>"
      ],
      "text/plain": [
       "             Source             SS  DF            MS  np2\n",
       "0              Fish    1294.564271   7    184.937753  1.0\n",
       "1         Parameter  171378.772950  13  13182.982535  1.0\n",
       "2  Fish * Parameter   12556.510979  91    137.983637  1.0\n",
       "3          Residual       0.000000   0           NaN  NaN"
      ]
     },
     "execution_count": 165,
     "metadata": {},
     "output_type": "execute_result"
    }
   ],
   "source": [
    "newdf.anova(dv=\"Values\", between=[\"Fish\", \"Parameter\"], ss_type=2, detailed=True)"
   ]
  },
  {
   "cell_type": "code",
   "execution_count": 230,
   "id": "6e9028d2",
   "metadata": {},
   "outputs": [
    {
     "data": {
      "text/html": [
       "<div>\n",
       "<style scoped>\n",
       "    .dataframe tbody tr th:only-of-type {\n",
       "        vertical-align: middle;\n",
       "    }\n",
       "\n",
       "    .dataframe tbody tr th {\n",
       "        vertical-align: top;\n",
       "    }\n",
       "\n",
       "    .dataframe thead th {\n",
       "        text-align: right;\n",
       "    }\n",
       "</style>\n",
       "<table border=\"1\" class=\"dataframe\">\n",
       "  <thead>\n",
       "    <tr style=\"text-align: right;\">\n",
       "      <th></th>\n",
       "      <th>df</th>\n",
       "      <th>sum_sq</th>\n",
       "      <th>mean_sq</th>\n",
       "      <th>F</th>\n",
       "      <th>PR(&gt;F)</th>\n",
       "    </tr>\n",
       "  </thead>\n",
       "  <tbody>\n",
       "    <tr>\n",
       "      <th>Fish</th>\n",
       "      <td>7.0</td>\n",
       "      <td>1294.564271</td>\n",
       "      <td>184.937753</td>\n",
       "      <td>0.104567</td>\n",
       "      <td>0.99795</td>\n",
       "    </tr>\n",
       "    <tr>\n",
       "      <th>Residual</th>\n",
       "      <td>104.0</td>\n",
       "      <td>183935.283929</td>\n",
       "      <td>1768.608499</td>\n",
       "      <td>NaN</td>\n",
       "      <td>NaN</td>\n",
       "    </tr>\n",
       "  </tbody>\n",
       "</table>\n",
       "</div>"
      ],
      "text/plain": [
       "             df         sum_sq      mean_sq         F   PR(>F)\n",
       "Fish        7.0    1294.564271   184.937753  0.104567  0.99795\n",
       "Residual  104.0  183935.283929  1768.608499       NaN      NaN"
      ]
     },
     "execution_count": 230,
     "metadata": {},
     "output_type": "execute_result"
    }
   ],
   "source": [
    "ano1 = ols(\"Values~Fish\", data= newdf).fit()\n",
    "im = sm.stats.anova_lm(ano1, type=1)\n",
    "im"
   ]
  },
  {
   "cell_type": "code",
   "execution_count": 231,
   "id": "bc85d56c",
   "metadata": {},
   "outputs": [
    {
     "data": {
      "text/html": [
       "<div>\n",
       "<style scoped>\n",
       "    .dataframe tbody tr th:only-of-type {\n",
       "        vertical-align: middle;\n",
       "    }\n",
       "\n",
       "    .dataframe tbody tr th {\n",
       "        vertical-align: top;\n",
       "    }\n",
       "\n",
       "    .dataframe thead th {\n",
       "        text-align: right;\n",
       "    }\n",
       "</style>\n",
       "<table border=\"1\" class=\"dataframe\">\n",
       "  <thead>\n",
       "    <tr style=\"text-align: right;\">\n",
       "      <th></th>\n",
       "      <th>df</th>\n",
       "      <th>sum_sq</th>\n",
       "      <th>mean_sq</th>\n",
       "      <th>F</th>\n",
       "      <th>PR(&gt;F)</th>\n",
       "    </tr>\n",
       "  </thead>\n",
       "  <tbody>\n",
       "    <tr>\n",
       "      <th>Parameter</th>\n",
       "      <td>13.0</td>\n",
       "      <td>171378.77295</td>\n",
       "      <td>13182.982535</td>\n",
       "      <td>93.273068</td>\n",
       "      <td>4.190503e-49</td>\n",
       "    </tr>\n",
       "    <tr>\n",
       "      <th>Residual</th>\n",
       "      <td>98.0</td>\n",
       "      <td>13851.07525</td>\n",
       "      <td>141.337503</td>\n",
       "      <td>NaN</td>\n",
       "      <td>NaN</td>\n",
       "    </tr>\n",
       "  </tbody>\n",
       "</table>\n",
       "</div>"
      ],
      "text/plain": [
       "             df        sum_sq       mean_sq          F        PR(>F)\n",
       "Parameter  13.0  171378.77295  13182.982535  93.273068  4.190503e-49\n",
       "Residual   98.0   13851.07525    141.337503        NaN           NaN"
      ]
     },
     "execution_count": 231,
     "metadata": {},
     "output_type": "execute_result"
    }
   ],
   "source": [
    "ano2 = ols(\"Values~Parameter\", data= newdf).fit()\n",
    "im = sm.stats.anova_lm(ano2, type=1)\n",
    "im"
   ]
  },
  {
   "cell_type": "code",
   "execution_count": 248,
   "id": "a56e7d7b",
   "metadata": {},
   "outputs": [
    {
     "data": {
      "text/html": [
       "<div>\n",
       "<style scoped>\n",
       "    .dataframe tbody tr th:only-of-type {\n",
       "        vertical-align: middle;\n",
       "    }\n",
       "\n",
       "    .dataframe tbody tr th {\n",
       "        vertical-align: top;\n",
       "    }\n",
       "\n",
       "    .dataframe thead th {\n",
       "        text-align: right;\n",
       "    }\n",
       "</style>\n",
       "<table border=\"1\" class=\"dataframe\">\n",
       "  <thead>\n",
       "    <tr style=\"text-align: right;\">\n",
       "      <th></th>\n",
       "      <th>df</th>\n",
       "      <th>sum_sq</th>\n",
       "      <th>mean_sq</th>\n",
       "      <th>F</th>\n",
       "      <th>PR(&gt;F)</th>\n",
       "    </tr>\n",
       "  </thead>\n",
       "  <tbody>\n",
       "    <tr>\n",
       "      <th>Fish</th>\n",
       "      <td>7.0</td>\n",
       "      <td>1294.564271</td>\n",
       "      <td>184.937753</td>\n",
       "      <td>1.340288</td>\n",
       "      <td>2.406403e-01</td>\n",
       "    </tr>\n",
       "    <tr>\n",
       "      <th>Parameter</th>\n",
       "      <td>13.0</td>\n",
       "      <td>171378.772950</td>\n",
       "      <td>13182.982535</td>\n",
       "      <td>95.540187</td>\n",
       "      <td>4.116928e-47</td>\n",
       "    </tr>\n",
       "    <tr>\n",
       "      <th>Residual</th>\n",
       "      <td>91.0</td>\n",
       "      <td>12556.510979</td>\n",
       "      <td>137.983637</td>\n",
       "      <td>NaN</td>\n",
       "      <td>NaN</td>\n",
       "    </tr>\n",
       "  </tbody>\n",
       "</table>\n",
       "</div>"
      ],
      "text/plain": [
       "             df         sum_sq       mean_sq          F        PR(>F)\n",
       "Fish        7.0    1294.564271    184.937753   1.340288  2.406403e-01\n",
       "Parameter  13.0  171378.772950  13182.982535  95.540187  4.116928e-47\n",
       "Residual   91.0   12556.510979    137.983637        NaN           NaN"
      ]
     },
     "execution_count": 248,
     "metadata": {},
     "output_type": "execute_result"
    }
   ],
   "source": [
    "ano3 = ols(\"Values~Fish+Parameter\", data= newdf).fit()\n",
    "im = sm.stats.anova_lm(ano3, type=2)\n",
    "im"
   ]
  },
  {
   "cell_type": "code",
   "execution_count": 247,
   "id": "fc29f43a",
   "metadata": {},
   "outputs": [
    {
     "name": "stderr",
     "output_type": "stream",
     "text": [
      "/home/RHHLab/anaconda3/lib/python3.9/site-packages/statsmodels/stats/anova.py:138: RuntimeWarning: divide by zero encountered in double_scalars\n",
      "  (model.ssr / model.df_resid))\n"
     ]
    },
    {
     "data": {
      "text/html": [
       "<div>\n",
       "<style scoped>\n",
       "    .dataframe tbody tr th:only-of-type {\n",
       "        vertical-align: middle;\n",
       "    }\n",
       "\n",
       "    .dataframe tbody tr th {\n",
       "        vertical-align: top;\n",
       "    }\n",
       "\n",
       "    .dataframe thead th {\n",
       "        text-align: right;\n",
       "    }\n",
       "</style>\n",
       "<table border=\"1\" class=\"dataframe\">\n",
       "  <thead>\n",
       "    <tr style=\"text-align: right;\">\n",
       "      <th></th>\n",
       "      <th>df</th>\n",
       "      <th>sum_sq</th>\n",
       "      <th>mean_sq</th>\n",
       "      <th>F</th>\n",
       "      <th>PR(&gt;F)</th>\n",
       "    </tr>\n",
       "  </thead>\n",
       "  <tbody>\n",
       "    <tr>\n",
       "      <th>Fish</th>\n",
       "      <td>7.0</td>\n",
       "      <td>1.294564e+03</td>\n",
       "      <td>1.849378e+02</td>\n",
       "      <td>0.0</td>\n",
       "      <td>NaN</td>\n",
       "    </tr>\n",
       "    <tr>\n",
       "      <th>Parameter</th>\n",
       "      <td>13.0</td>\n",
       "      <td>1.713788e+05</td>\n",
       "      <td>1.318298e+04</td>\n",
       "      <td>0.0</td>\n",
       "      <td>NaN</td>\n",
       "    </tr>\n",
       "    <tr>\n",
       "      <th>Fish:Parameter</th>\n",
       "      <td>91.0</td>\n",
       "      <td>1.255651e+04</td>\n",
       "      <td>1.379836e+02</td>\n",
       "      <td>0.0</td>\n",
       "      <td>NaN</td>\n",
       "    </tr>\n",
       "    <tr>\n",
       "      <th>Residual</th>\n",
       "      <td>0.0</td>\n",
       "      <td>5.421077e-25</td>\n",
       "      <td>inf</td>\n",
       "      <td>NaN</td>\n",
       "      <td>NaN</td>\n",
       "    </tr>\n",
       "  </tbody>\n",
       "</table>\n",
       "</div>"
      ],
      "text/plain": [
       "                  df        sum_sq       mean_sq    F  PR(>F)\n",
       "Fish             7.0  1.294564e+03  1.849378e+02  0.0     NaN\n",
       "Parameter       13.0  1.713788e+05  1.318298e+04  0.0     NaN\n",
       "Fish:Parameter  91.0  1.255651e+04  1.379836e+02  0.0     NaN\n",
       "Residual         0.0  5.421077e-25           inf  NaN     NaN"
      ]
     },
     "execution_count": 247,
     "metadata": {},
     "output_type": "execute_result"
    }
   ],
   "source": [
    "ano3 = ols(\"Values~Fish+Parameter+Fish*Parameter\", data= newdf).fit()\n",
    "im = sm.stats.anova_lm(ano3, type=2)\n",
    "im"
   ]
  },
  {
   "cell_type": "code",
   "execution_count": null,
   "id": "5269a319",
   "metadata": {},
   "outputs": [],
   "source": [
    "5.421077e-25 "
   ]
  },
  {
   "cell_type": "code",
   "execution_count": null,
   "id": "1cf1e045",
   "metadata": {},
   "outputs": [],
   "source": []
  },
  {
   "cell_type": "code",
   "execution_count": null,
   "id": "bf27d4fb",
   "metadata": {},
   "outputs": [],
   "source": []
  },
  {
   "cell_type": "code",
   "execution_count": null,
   "id": "c848ef71",
   "metadata": {},
   "outputs": [],
   "source": []
  },
  {
   "cell_type": "code",
   "execution_count": null,
   "id": "55820cb2",
   "metadata": {},
   "outputs": [],
   "source": []
  },
  {
   "cell_type": "code",
   "execution_count": 237,
   "id": "f69e39ac",
   "metadata": {},
   "outputs": [],
   "source": [
    "X = newdf[\"Values\"]\n",
    "X = np.array(X)\n",
    "X = X.reshape(-1,1)"
   ]
  },
  {
   "cell_type": "code",
   "execution_count": 239,
   "id": "29fd78b3",
   "metadata": {},
   "outputs": [
    {
     "data": {
      "text/plain": [
       "array([[-0.48872062],\n",
       "       [-0.48232729],\n",
       "       [-0.47224551],\n",
       "       [-0.4474099 ],\n",
       "       [-0.4990483 ],\n",
       "       [-0.47790114],\n",
       "       [-0.48060601],\n",
       "       [-0.45699989],\n",
       "       [-0.46560629],\n",
       "       [-0.49363856],\n",
       "       [-0.49535984],\n",
       "       [-0.48749113],\n",
       "       [-0.49708112],\n",
       "       [-0.48281909],\n",
       "       [-0.46511449],\n",
       "       [-0.46191783],\n",
       "       [ 2.0877899 ],\n",
       "       [ 1.55960278],\n",
       "       [ 1.40862192],\n",
       "       [ 1.71033775],\n",
       "       [ 0.56445695],\n",
       "       [ 1.82000788],\n",
       "       [ 2.305163  ],\n",
       "       [ 2.77089223],\n",
       "       [-0.47445858],\n",
       "       [-0.43978708],\n",
       "       [-0.41691865],\n",
       "       [-0.37954228],\n",
       "       [-0.41986941],\n",
       "       [-0.43068889],\n",
       "       [-0.41913172],\n",
       "       [-0.38839458],\n",
       "       [ 0.0392206 ],\n",
       "       [-0.01831934],\n",
       "       [-0.08397388],\n",
       "       [ 0.02520446],\n",
       "       [-0.13216973],\n",
       "       [ 0.20495529],\n",
       "       [-0.22339758],\n",
       "       [ 0.08323619],\n",
       "       [ 1.51681668],\n",
       "       [ 3.16973744],\n",
       "       [ 2.82228474],\n",
       "       [ 1.49271875],\n",
       "       [ 2.6690908 ],\n",
       "       [ 3.7367763 ],\n",
       "       [ 3.47514172],\n",
       "       [ 3.38711053],\n",
       "       [-0.49511395],\n",
       "       [-0.49413036],\n",
       "       [-0.49191728],\n",
       "       [-0.4906878 ],\n",
       "       [-0.49535984],\n",
       "       [-0.49314677],\n",
       "       [-0.49290087],\n",
       "       [-0.49167139],\n",
       "       [-0.43708222],\n",
       "       [-0.40757455],\n",
       "       [-0.38839458],\n",
       "       [-0.37364075],\n",
       "       [-0.42675453],\n",
       "       [-0.39773867],\n",
       "       [-0.4036402 ],\n",
       "       [-0.38027997],\n",
       "       [-0.48650755],\n",
       "       [-0.47667166],\n",
       "       [-0.490196  ],\n",
       "       [-0.4818355 ],\n",
       "       [-0.49142549],\n",
       "       [-0.49437626],\n",
       "       [-0.4906878 ],\n",
       "       [-0.48650755],\n",
       "       [-0.49265497],\n",
       "       [-0.48429447],\n",
       "       [-0.45232784],\n",
       "       [-0.42822992],\n",
       "       [-0.48798293],\n",
       "       [-0.46240962],\n",
       "       [-0.45380322],\n",
       "       [-0.43708222],\n",
       "       [-0.49216318],\n",
       "       [-0.48699934],\n",
       "       [-0.4815896 ],\n",
       "       [-0.47519628],\n",
       "       [-0.48872062],\n",
       "       [-0.46363911],\n",
       "       [-0.48281909],\n",
       "       [-0.46880295],\n",
       "       [-0.11717   ],\n",
       "       [-0.10241617],\n",
       "       [-0.08028543],\n",
       "       [-0.07536748],\n",
       "       [-0.1343828 ],\n",
       "       [-0.04585982],\n",
       "       [-0.12946486],\n",
       "       [-0.0999572 ],\n",
       "       [-0.48896652],\n",
       "       [-0.49646638],\n",
       "       [-0.49978599],\n",
       "       [-0.50285971],\n",
       "       [-0.49831061],\n",
       "       [-0.49511395],\n",
       "       [-0.49720407],\n",
       "       [-0.50089253],\n",
       "       [-0.19118505],\n",
       "       [-0.20815195],\n",
       "       [-0.26421651],\n",
       "       [-0.33110054],\n",
       "       [-0.24257756],\n",
       "       [-0.2214304 ],\n",
       "       [-0.23151218],\n",
       "       [-0.3165926 ]])"
      ]
     },
     "execution_count": 239,
     "metadata": {},
     "output_type": "execute_result"
    }
   ],
   "source": [
    "from sklearn.preprocessing import StandardScaler\n",
    "scaler = StandardScaler()\n",
    "X = scaler.fit_transform(X)\n",
    "X"
   ]
  },
  {
   "cell_type": "code",
   "execution_count": 240,
   "id": "d3e26ec0",
   "metadata": {},
   "outputs": [],
   "source": [
    "newdf[\"Val\"] = X"
   ]
  },
  {
   "cell_type": "code",
   "execution_count": 241,
   "id": "93b5848e",
   "metadata": {},
   "outputs": [
    {
     "data": {
      "text/html": [
       "<div>\n",
       "<style scoped>\n",
       "    .dataframe tbody tr th:only-of-type {\n",
       "        vertical-align: middle;\n",
       "    }\n",
       "\n",
       "    .dataframe tbody tr th {\n",
       "        vertical-align: top;\n",
       "    }\n",
       "\n",
       "    .dataframe thead th {\n",
       "        text-align: right;\n",
       "    }\n",
       "</style>\n",
       "<table border=\"1\" class=\"dataframe\">\n",
       "  <thead>\n",
       "    <tr style=\"text-align: right;\">\n",
       "      <th></th>\n",
       "      <th>Values</th>\n",
       "      <th>Fish</th>\n",
       "      <th>Parameter</th>\n",
       "      <th>Val</th>\n",
       "    </tr>\n",
       "  </thead>\n",
       "  <tbody>\n",
       "    <tr>\n",
       "      <th>0</th>\n",
       "      <td>0.69</td>\n",
       "      <td>Ghagra</td>\n",
       "      <td>Cr</td>\n",
       "      <td>-0.488721</td>\n",
       "    </tr>\n",
       "    <tr>\n",
       "      <th>1</th>\n",
       "      <td>0.95</td>\n",
       "      <td>Koi</td>\n",
       "      <td>Cr</td>\n",
       "      <td>-0.482327</td>\n",
       "    </tr>\n",
       "    <tr>\n",
       "      <th>2</th>\n",
       "      <td>1.36</td>\n",
       "      <td>Tatkini</td>\n",
       "      <td>Cr</td>\n",
       "      <td>-0.472246</td>\n",
       "    </tr>\n",
       "    <tr>\n",
       "      <th>3</th>\n",
       "      <td>2.37</td>\n",
       "      <td>Tengra</td>\n",
       "      <td>Cr</td>\n",
       "      <td>-0.447410</td>\n",
       "    </tr>\n",
       "    <tr>\n",
       "      <th>4</th>\n",
       "      <td>0.27</td>\n",
       "      <td>Batashi</td>\n",
       "      <td>Cr</td>\n",
       "      <td>-0.499048</td>\n",
       "    </tr>\n",
       "    <tr>\n",
       "      <th>...</th>\n",
       "      <td>...</td>\n",
       "      <td>...</td>\n",
       "      <td>...</td>\n",
       "      <td>...</td>\n",
       "    </tr>\n",
       "    <tr>\n",
       "      <th>107</th>\n",
       "      <td>7.10</td>\n",
       "      <td>Tengra</td>\n",
       "      <td>Lipid</td>\n",
       "      <td>-0.331101</td>\n",
       "    </tr>\n",
       "    <tr>\n",
       "      <th>108</th>\n",
       "      <td>10.70</td>\n",
       "      <td>Batashi</td>\n",
       "      <td>Lipid</td>\n",
       "      <td>-0.242578</td>\n",
       "    </tr>\n",
       "    <tr>\n",
       "      <th>109</th>\n",
       "      <td>11.56</td>\n",
       "      <td>Jatka</td>\n",
       "      <td>Lipid</td>\n",
       "      <td>-0.221430</td>\n",
       "    </tr>\n",
       "    <tr>\n",
       "      <th>110</th>\n",
       "      <td>11.15</td>\n",
       "      <td>Rani</td>\n",
       "      <td>Lipid</td>\n",
       "      <td>-0.231512</td>\n",
       "    </tr>\n",
       "    <tr>\n",
       "      <th>111</th>\n",
       "      <td>7.69</td>\n",
       "      <td>Chanda</td>\n",
       "      <td>Lipid</td>\n",
       "      <td>-0.316593</td>\n",
       "    </tr>\n",
       "  </tbody>\n",
       "</table>\n",
       "<p>112 rows × 4 columns</p>\n",
       "</div>"
      ],
      "text/plain": [
       "     Values     Fish Parameter       Val\n",
       "0      0.69   Ghagra        Cr -0.488721\n",
       "1      0.95      Koi        Cr -0.482327\n",
       "2      1.36  Tatkini        Cr -0.472246\n",
       "3      2.37   Tengra        Cr -0.447410\n",
       "4      0.27  Batashi        Cr -0.499048\n",
       "..      ...      ...       ...       ...\n",
       "107    7.10   Tengra     Lipid -0.331101\n",
       "108   10.70  Batashi     Lipid -0.242578\n",
       "109   11.56    Jatka     Lipid -0.221430\n",
       "110   11.15     Rani     Lipid -0.231512\n",
       "111    7.69   Chanda     Lipid -0.316593\n",
       "\n",
       "[112 rows x 4 columns]"
      ]
     },
     "execution_count": 241,
     "metadata": {},
     "output_type": "execute_result"
    }
   ],
   "source": [
    "newdf"
   ]
  },
  {
   "cell_type": "code",
   "execution_count": 242,
   "id": "93e5ebb9",
   "metadata": {},
   "outputs": [
    {
     "name": "stderr",
     "output_type": "stream",
     "text": [
      "/home/RHHLab/anaconda3/lib/python3.9/site-packages/statsmodels/stats/anova.py:138: RuntimeWarning: divide by zero encountered in double_scalars\n",
      "  (model.ssr / model.df_resid))\n"
     ]
    },
    {
     "data": {
      "text/html": [
       "<div>\n",
       "<style scoped>\n",
       "    .dataframe tbody tr th:only-of-type {\n",
       "        vertical-align: middle;\n",
       "    }\n",
       "\n",
       "    .dataframe tbody tr th {\n",
       "        vertical-align: top;\n",
       "    }\n",
       "\n",
       "    .dataframe thead th {\n",
       "        text-align: right;\n",
       "    }\n",
       "</style>\n",
       "<table border=\"1\" class=\"dataframe\">\n",
       "  <thead>\n",
       "    <tr style=\"text-align: right;\">\n",
       "      <th></th>\n",
       "      <th>df</th>\n",
       "      <th>sum_sq</th>\n",
       "      <th>mean_sq</th>\n",
       "      <th>F</th>\n",
       "      <th>PR(&gt;F)</th>\n",
       "    </tr>\n",
       "  </thead>\n",
       "  <tbody>\n",
       "    <tr>\n",
       "      <th>Fish</th>\n",
       "      <td>7.0</td>\n",
       "      <td>7.827637e-01</td>\n",
       "      <td>0.111823</td>\n",
       "      <td>0.0</td>\n",
       "      <td>NaN</td>\n",
       "    </tr>\n",
       "    <tr>\n",
       "      <th>Parameter</th>\n",
       "      <td>13.0</td>\n",
       "      <td>1.036249e+02</td>\n",
       "      <td>7.971145</td>\n",
       "      <td>0.0</td>\n",
       "      <td>NaN</td>\n",
       "    </tr>\n",
       "    <tr>\n",
       "      <th>Fish:Parameter</th>\n",
       "      <td>91.0</td>\n",
       "      <td>7.592347e+00</td>\n",
       "      <td>0.083432</td>\n",
       "      <td>0.0</td>\n",
       "      <td>NaN</td>\n",
       "    </tr>\n",
       "    <tr>\n",
       "      <th>Residual</th>\n",
       "      <td>0.0</td>\n",
       "      <td>2.798554e-28</td>\n",
       "      <td>inf</td>\n",
       "      <td>NaN</td>\n",
       "      <td>NaN</td>\n",
       "    </tr>\n",
       "  </tbody>\n",
       "</table>\n",
       "</div>"
      ],
      "text/plain": [
       "                  df        sum_sq   mean_sq    F  PR(>F)\n",
       "Fish             7.0  7.827637e-01  0.111823  0.0     NaN\n",
       "Parameter       13.0  1.036249e+02  7.971145  0.0     NaN\n",
       "Fish:Parameter  91.0  7.592347e+00  0.083432  0.0     NaN\n",
       "Residual         0.0  2.798554e-28       inf  NaN     NaN"
      ]
     },
     "execution_count": 242,
     "metadata": {},
     "output_type": "execute_result"
    }
   ],
   "source": [
    "ano3 = ols(\"Val~Fish+Parameter+Fish*Parameter\", data= newdf).fit()\n",
    "im = sm.stats.anova_lm(ano3, type=1)\n",
    "im"
   ]
  },
  {
   "cell_type": "code",
   "execution_count": 269,
   "id": "3350d47d",
   "metadata": {},
   "outputs": [
    {
     "data": {
      "text/plain": [
       "(88, 4)"
      ]
     },
     "execution_count": 269,
     "metadata": {},
     "output_type": "execute_result"
    }
   ],
   "source": [
    "hmdf = newdf[newdf[\"Parameter\"] != \"Lipid\"]\n",
    "hmdf = hmdf[hmdf[\"Parameter\"] != \"OPFA\"]\n",
    "hmdf = hmdf[hmdf[\"Parameter\"] != \"Protein\"]\n",
    "hmdf.shape"
   ]
  },
  {
   "cell_type": "code",
   "execution_count": 270,
   "id": "ae1a27bb",
   "metadata": {},
   "outputs": [
    {
     "data": {
      "text/html": [
       "<div>\n",
       "<style scoped>\n",
       "    .dataframe tbody tr th:only-of-type {\n",
       "        vertical-align: middle;\n",
       "    }\n",
       "\n",
       "    .dataframe tbody tr th {\n",
       "        vertical-align: top;\n",
       "    }\n",
       "\n",
       "    .dataframe thead th {\n",
       "        text-align: right;\n",
       "    }\n",
       "</style>\n",
       "<table border=\"1\" class=\"dataframe\">\n",
       "  <thead>\n",
       "    <tr style=\"text-align: right;\">\n",
       "      <th></th>\n",
       "      <th>Values</th>\n",
       "      <th>Fish</th>\n",
       "      <th>Parameter</th>\n",
       "      <th>Val</th>\n",
       "    </tr>\n",
       "  </thead>\n",
       "  <tbody>\n",
       "    <tr>\n",
       "      <th>0</th>\n",
       "      <td>0.69</td>\n",
       "      <td>Ghagra</td>\n",
       "      <td>Cr</td>\n",
       "      <td>-0.488721</td>\n",
       "    </tr>\n",
       "    <tr>\n",
       "      <th>1</th>\n",
       "      <td>0.95</td>\n",
       "      <td>Koi</td>\n",
       "      <td>Cr</td>\n",
       "      <td>-0.482327</td>\n",
       "    </tr>\n",
       "    <tr>\n",
       "      <th>2</th>\n",
       "      <td>1.36</td>\n",
       "      <td>Tatkini</td>\n",
       "      <td>Cr</td>\n",
       "      <td>-0.472246</td>\n",
       "    </tr>\n",
       "    <tr>\n",
       "      <th>3</th>\n",
       "      <td>2.37</td>\n",
       "      <td>Tengra</td>\n",
       "      <td>Cr</td>\n",
       "      <td>-0.447410</td>\n",
       "    </tr>\n",
       "    <tr>\n",
       "      <th>4</th>\n",
       "      <td>0.27</td>\n",
       "      <td>Batashi</td>\n",
       "      <td>Cr</td>\n",
       "      <td>-0.499048</td>\n",
       "    </tr>\n",
       "    <tr>\n",
       "      <th>...</th>\n",
       "      <td>...</td>\n",
       "      <td>...</td>\n",
       "      <td>...</td>\n",
       "      <td>...</td>\n",
       "    </tr>\n",
       "    <tr>\n",
       "      <th>83</th>\n",
       "      <td>1.24</td>\n",
       "      <td>Tengra</td>\n",
       "      <td>Hg</td>\n",
       "      <td>-0.475196</td>\n",
       "    </tr>\n",
       "    <tr>\n",
       "      <th>84</th>\n",
       "      <td>0.69</td>\n",
       "      <td>Batashi</td>\n",
       "      <td>Hg</td>\n",
       "      <td>-0.488721</td>\n",
       "    </tr>\n",
       "    <tr>\n",
       "      <th>85</th>\n",
       "      <td>1.71</td>\n",
       "      <td>Jatka</td>\n",
       "      <td>Hg</td>\n",
       "      <td>-0.463639</td>\n",
       "    </tr>\n",
       "    <tr>\n",
       "      <th>86</th>\n",
       "      <td>0.93</td>\n",
       "      <td>Rani</td>\n",
       "      <td>Hg</td>\n",
       "      <td>-0.482819</td>\n",
       "    </tr>\n",
       "    <tr>\n",
       "      <th>87</th>\n",
       "      <td>1.50</td>\n",
       "      <td>Chanda</td>\n",
       "      <td>Hg</td>\n",
       "      <td>-0.468803</td>\n",
       "    </tr>\n",
       "  </tbody>\n",
       "</table>\n",
       "<p>88 rows × 4 columns</p>\n",
       "</div>"
      ],
      "text/plain": [
       "    Values     Fish Parameter       Val\n",
       "0     0.69   Ghagra        Cr -0.488721\n",
       "1     0.95      Koi        Cr -0.482327\n",
       "2     1.36  Tatkini        Cr -0.472246\n",
       "3     2.37   Tengra        Cr -0.447410\n",
       "4     0.27  Batashi        Cr -0.499048\n",
       "..     ...      ...       ...       ...\n",
       "83    1.24   Tengra        Hg -0.475196\n",
       "84    0.69  Batashi        Hg -0.488721\n",
       "85    1.71    Jatka        Hg -0.463639\n",
       "86    0.93     Rani        Hg -0.482819\n",
       "87    1.50   Chanda        Hg -0.468803\n",
       "\n",
       "[88 rows x 4 columns]"
      ]
     },
     "execution_count": 270,
     "metadata": {},
     "output_type": "execute_result"
    }
   ],
   "source": [
    "hmdf"
   ]
  },
  {
   "cell_type": "code",
   "execution_count": 271,
   "id": "65785431",
   "metadata": {},
   "outputs": [
    {
     "name": "stderr",
     "output_type": "stream",
     "text": [
      "/home/RHHLab/anaconda3/lib/python3.9/site-packages/statsmodels/stats/anova.py:138: RuntimeWarning: divide by zero encountered in double_scalars\n",
      "  (model.ssr / model.df_resid))\n"
     ]
    },
    {
     "data": {
      "text/html": [
       "<div>\n",
       "<style scoped>\n",
       "    .dataframe tbody tr th:only-of-type {\n",
       "        vertical-align: middle;\n",
       "    }\n",
       "\n",
       "    .dataframe tbody tr th {\n",
       "        vertical-align: top;\n",
       "    }\n",
       "\n",
       "    .dataframe thead th {\n",
       "        text-align: right;\n",
       "    }\n",
       "</style>\n",
       "<table border=\"1\" class=\"dataframe\">\n",
       "  <thead>\n",
       "    <tr style=\"text-align: right;\">\n",
       "      <th></th>\n",
       "      <th>df</th>\n",
       "      <th>sum_sq</th>\n",
       "      <th>mean_sq</th>\n",
       "      <th>F</th>\n",
       "      <th>PR(&gt;F)</th>\n",
       "    </tr>\n",
       "  </thead>\n",
       "  <tbody>\n",
       "    <tr>\n",
       "      <th>Fish</th>\n",
       "      <td>7.0</td>\n",
       "      <td>1.634918e+03</td>\n",
       "      <td>2.335598e+02</td>\n",
       "      <td>0.0</td>\n",
       "      <td>NaN</td>\n",
       "    </tr>\n",
       "    <tr>\n",
       "      <th>Parameter</th>\n",
       "      <td>10.0</td>\n",
       "      <td>1.662832e+05</td>\n",
       "      <td>1.662832e+04</td>\n",
       "      <td>0.0</td>\n",
       "      <td>NaN</td>\n",
       "    </tr>\n",
       "    <tr>\n",
       "      <th>Fish:Parameter</th>\n",
       "      <td>70.0</td>\n",
       "      <td>1.217645e+04</td>\n",
       "      <td>1.739493e+02</td>\n",
       "      <td>0.0</td>\n",
       "      <td>NaN</td>\n",
       "    </tr>\n",
       "    <tr>\n",
       "      <th>Residual</th>\n",
       "      <td>0.0</td>\n",
       "      <td>2.849936e-25</td>\n",
       "      <td>inf</td>\n",
       "      <td>NaN</td>\n",
       "      <td>NaN</td>\n",
       "    </tr>\n",
       "  </tbody>\n",
       "</table>\n",
       "</div>"
      ],
      "text/plain": [
       "                  df        sum_sq       mean_sq    F  PR(>F)\n",
       "Fish             7.0  1.634918e+03  2.335598e+02  0.0     NaN\n",
       "Parameter       10.0  1.662832e+05  1.662832e+04  0.0     NaN\n",
       "Fish:Parameter  70.0  1.217645e+04  1.739493e+02  0.0     NaN\n",
       "Residual         0.0  2.849936e-25           inf  NaN     NaN"
      ]
     },
     "execution_count": 271,
     "metadata": {},
     "output_type": "execute_result"
    }
   ],
   "source": [
    "ano3 = ols(\"Values~Fish+Parameter+Fish*Parameter\", data= hmdf).fit()\n",
    "im = sm.stats.anova_lm(ano3, type=2)\n",
    "im"
   ]
  },
  {
   "cell_type": "code",
   "execution_count": null,
   "id": "d98f6890",
   "metadata": {},
   "outputs": [],
   "source": []
  },
  {
   "cell_type": "code",
   "execution_count": null,
   "id": "9ed312aa",
   "metadata": {},
   "outputs": [],
   "source": []
  },
  {
   "cell_type": "code",
   "execution_count": 145,
   "id": "28a14bef",
   "metadata": {},
   "outputs": [],
   "source": [
    "val = []\n",
    "for i in range(len(newdf.Values)):\n",
    "    val.append(round(newdf[\"Values\"][i], 3))"
   ]
  },
  {
   "cell_type": "code",
   "execution_count": 146,
   "id": "9542f6ff",
   "metadata": {},
   "outputs": [
    {
     "data": {
      "text/plain": [
       "[0.69,\n",
       " 0.95,\n",
       " 1.36,\n",
       " 2.37,\n",
       " 0.27,\n",
       " 1.13,\n",
       " 1.02,\n",
       " 1.98,\n",
       " 1.63,\n",
       " 0.49,\n",
       " 0.42,\n",
       " 0.74,\n",
       " 0.35,\n",
       " 0.93,\n",
       " 1.65,\n",
       " 1.78,\n",
       " 105.47,\n",
       " 83.99,\n",
       " 77.85,\n",
       " 90.12,\n",
       " 43.52,\n",
       " 94.58,\n",
       " 114.31,\n",
       " 133.25,\n",
       " 1.27,\n",
       " 2.68,\n",
       " 3.61,\n",
       " 5.13,\n",
       " 3.49,\n",
       " 3.05,\n",
       " 3.52,\n",
       " 4.77,\n",
       " 22.16,\n",
       " 19.82,\n",
       " 17.15,\n",
       " 21.59,\n",
       " 15.19,\n",
       " 28.9,\n",
       " 11.48,\n",
       " 23.95,\n",
       " 82.25,\n",
       " 149.47,\n",
       " 135.34,\n",
       " 81.27,\n",
       " 129.11,\n",
       " 172.53,\n",
       " 161.89,\n",
       " 158.31,\n",
       " 0.43,\n",
       " 0.47,\n",
       " 0.56,\n",
       " 0.61,\n",
       " 0.42,\n",
       " 0.51,\n",
       " 0.52,\n",
       " 0.57,\n",
       " 2.79,\n",
       " 3.99,\n",
       " 4.77,\n",
       " 5.37,\n",
       " 3.21,\n",
       " 4.39,\n",
       " 4.15,\n",
       " 5.1,\n",
       " 0.78,\n",
       " 1.18,\n",
       " 0.63,\n",
       " 0.97,\n",
       " 0.58,\n",
       " 0.46,\n",
       " 0.61,\n",
       " 0.78,\n",
       " 0.53,\n",
       " 0.87,\n",
       " 2.17,\n",
       " 3.15,\n",
       " 0.72,\n",
       " 1.76,\n",
       " 2.11,\n",
       " 2.79,\n",
       " 0.55,\n",
       " 0.76,\n",
       " 0.98,\n",
       " 1.24,\n",
       " 0.69,\n",
       " 1.71,\n",
       " 0.93,\n",
       " 1.5,\n",
       " 15.8,\n",
       " 16.4,\n",
       " 17.3,\n",
       " 17.5,\n",
       " 15.1,\n",
       " 18.7,\n",
       " 15.3,\n",
       " 16.5,\n",
       " 0.68,\n",
       " 0.375,\n",
       " 0.24,\n",
       " 0.115,\n",
       " 0.3,\n",
       " 0.43,\n",
       " 0.345,\n",
       " 0.195,\n",
       " 12.79,\n",
       " 12.1,\n",
       " 9.82,\n",
       " 7.1,\n",
       " 10.7,\n",
       " 11.56,\n",
       " 11.15,\n",
       " 7.69]"
      ]
     },
     "execution_count": 146,
     "metadata": {},
     "output_type": "execute_result"
    }
   ],
   "source": [
    "val"
   ]
  },
  {
   "cell_type": "code",
   "execution_count": 147,
   "id": "fdd05050",
   "metadata": {},
   "outputs": [],
   "source": [
    "newdf[\"Values\"] = val"
   ]
  },
  {
   "cell_type": "code",
   "execution_count": null,
   "id": "e51be77b",
   "metadata": {},
   "outputs": [],
   "source": []
  },
  {
   "cell_type": "code",
   "execution_count": null,
   "id": "c0fc6f28",
   "metadata": {},
   "outputs": [],
   "source": []
  },
  {
   "cell_type": "code",
   "execution_count": null,
   "id": "fc7db9d5",
   "metadata": {},
   "outputs": [],
   "source": []
  },
  {
   "cell_type": "code",
   "execution_count": null,
   "id": "c8ab1f24",
   "metadata": {},
   "outputs": [],
   "source": []
  },
  {
   "cell_type": "code",
   "execution_count": null,
   "id": "95664779",
   "metadata": {},
   "outputs": [],
   "source": []
  }
 ],
 "metadata": {
  "kernelspec": {
   "display_name": "Python 3 (ipykernel)",
   "language": "python",
   "name": "python3"
  },
  "language_info": {
   "codemirror_mode": {
    "name": "ipython",
    "version": 3
   },
   "file_extension": ".py",
   "mimetype": "text/x-python",
   "name": "python",
   "nbconvert_exporter": "python",
   "pygments_lexer": "ipython3",
   "version": "3.9.12"
  }
 },
 "nbformat": 4,
 "nbformat_minor": 5
}
