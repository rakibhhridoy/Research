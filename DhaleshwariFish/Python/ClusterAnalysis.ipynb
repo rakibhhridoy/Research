{
 "cells": [
  {
   "cell_type": "code",
   "execution_count": 2,
   "id": "102240f1-cb47-4598-bbc5-50cdac1c8a91",
   "metadata": {
    "tags": []
   },
   "outputs": [],
   "source": [
    "import matplotlib.pyplot as plt\n",
    "import pandas as pd\n",
    "import numpy as np"
   ]
  },
  {
   "cell_type": "code",
   "execution_count": 3,
   "id": "763ed2a5-83ab-42b5-b390-f52bb75d0144",
   "metadata": {
    "tags": []
   },
   "outputs": [],
   "source": [
    "df = pd.read_csv(\"../R/MetalsRaw.csv\")"
   ]
  },
  {
   "cell_type": "code",
   "execution_count": 4,
   "id": "4adb8fc2-77d0-4f25-9f3a-becaf67de7aa",
   "metadata": {
    "tags": []
   },
   "outputs": [
    {
     "data": {
      "text/html": [
       "<div>\n",
       "<style scoped>\n",
       "    .dataframe tbody tr th:only-of-type {\n",
       "        vertical-align: middle;\n",
       "    }\n",
       "\n",
       "    .dataframe tbody tr th {\n",
       "        vertical-align: top;\n",
       "    }\n",
       "\n",
       "    .dataframe thead th {\n",
       "        text-align: right;\n",
       "    }\n",
       "</style>\n",
       "<table border=\"1\" class=\"dataframe\">\n",
       "  <thead>\n",
       "    <tr style=\"text-align: right;\">\n",
       "      <th></th>\n",
       "      <th>Unnamed: 0</th>\n",
       "      <th>Cr</th>\n",
       "      <th>Mn</th>\n",
       "      <th>Fe</th>\n",
       "      <th>Co</th>\n",
       "      <th>Cu</th>\n",
       "      <th>Zn</th>\n",
       "      <th>As</th>\n",
       "      <th>Se</th>\n",
       "      <th>Cd</th>\n",
       "      <th>Hg</th>\n",
       "      <th>Pb</th>\n",
       "    </tr>\n",
       "  </thead>\n",
       "  <tbody>\n",
       "    <tr>\n",
       "      <th>0</th>\n",
       "      <td>0</td>\n",
       "      <td>0.69</td>\n",
       "      <td>1.63</td>\n",
       "      <td>105.47</td>\n",
       "      <td>1.27</td>\n",
       "      <td>22.16</td>\n",
       "      <td>82.25</td>\n",
       "      <td>0.43</td>\n",
       "      <td>2.79</td>\n",
       "      <td>0.53</td>\n",
       "      <td>0.55</td>\n",
       "      <td>0.78</td>\n",
       "    </tr>\n",
       "    <tr>\n",
       "      <th>1</th>\n",
       "      <td>1</td>\n",
       "      <td>0.95</td>\n",
       "      <td>0.49</td>\n",
       "      <td>83.99</td>\n",
       "      <td>2.68</td>\n",
       "      <td>19.82</td>\n",
       "      <td>149.47</td>\n",
       "      <td>0.47</td>\n",
       "      <td>3.99</td>\n",
       "      <td>0.87</td>\n",
       "      <td>0.76</td>\n",
       "      <td>1.18</td>\n",
       "    </tr>\n",
       "    <tr>\n",
       "      <th>2</th>\n",
       "      <td>2</td>\n",
       "      <td>1.36</td>\n",
       "      <td>0.42</td>\n",
       "      <td>77.85</td>\n",
       "      <td>3.61</td>\n",
       "      <td>17.15</td>\n",
       "      <td>135.34</td>\n",
       "      <td>0.56</td>\n",
       "      <td>4.77</td>\n",
       "      <td>2.17</td>\n",
       "      <td>0.98</td>\n",
       "      <td>0.63</td>\n",
       "    </tr>\n",
       "    <tr>\n",
       "      <th>3</th>\n",
       "      <td>3</td>\n",
       "      <td>2.37</td>\n",
       "      <td>0.74</td>\n",
       "      <td>90.12</td>\n",
       "      <td>5.13</td>\n",
       "      <td>21.59</td>\n",
       "      <td>81.27</td>\n",
       "      <td>0.61</td>\n",
       "      <td>5.37</td>\n",
       "      <td>3.15</td>\n",
       "      <td>1.24</td>\n",
       "      <td>0.97</td>\n",
       "    </tr>\n",
       "    <tr>\n",
       "      <th>4</th>\n",
       "      <td>4</td>\n",
       "      <td>0.27</td>\n",
       "      <td>0.35</td>\n",
       "      <td>43.52</td>\n",
       "      <td>3.49</td>\n",
       "      <td>15.19</td>\n",
       "      <td>129.11</td>\n",
       "      <td>0.42</td>\n",
       "      <td>3.21</td>\n",
       "      <td>0.72</td>\n",
       "      <td>0.69</td>\n",
       "      <td>0.58</td>\n",
       "    </tr>\n",
       "    <tr>\n",
       "      <th>5</th>\n",
       "      <td>5</td>\n",
       "      <td>1.13</td>\n",
       "      <td>0.93</td>\n",
       "      <td>94.58</td>\n",
       "      <td>3.05</td>\n",
       "      <td>28.90</td>\n",
       "      <td>172.53</td>\n",
       "      <td>0.51</td>\n",
       "      <td>4.39</td>\n",
       "      <td>1.76</td>\n",
       "      <td>1.71</td>\n",
       "      <td>0.46</td>\n",
       "    </tr>\n",
       "    <tr>\n",
       "      <th>6</th>\n",
       "      <td>6</td>\n",
       "      <td>1.02</td>\n",
       "      <td>1.65</td>\n",
       "      <td>114.31</td>\n",
       "      <td>3.52</td>\n",
       "      <td>11.48</td>\n",
       "      <td>161.89</td>\n",
       "      <td>0.52</td>\n",
       "      <td>4.15</td>\n",
       "      <td>2.11</td>\n",
       "      <td>0.93</td>\n",
       "      <td>0.61</td>\n",
       "    </tr>\n",
       "    <tr>\n",
       "      <th>7</th>\n",
       "      <td>7</td>\n",
       "      <td>1.98</td>\n",
       "      <td>1.78</td>\n",
       "      <td>133.25</td>\n",
       "      <td>4.77</td>\n",
       "      <td>23.95</td>\n",
       "      <td>158.31</td>\n",
       "      <td>0.57</td>\n",
       "      <td>5.10</td>\n",
       "      <td>2.79</td>\n",
       "      <td>1.50</td>\n",
       "      <td>0.78</td>\n",
       "    </tr>\n",
       "  </tbody>\n",
       "</table>\n",
       "</div>"
      ],
      "text/plain": [
       "   Unnamed: 0    Cr    Mn      Fe    Co     Cu      Zn    As    Se    Cd  \\\n",
       "0           0  0.69  1.63  105.47  1.27  22.16   82.25  0.43  2.79  0.53   \n",
       "1           1  0.95  0.49   83.99  2.68  19.82  149.47  0.47  3.99  0.87   \n",
       "2           2  1.36  0.42   77.85  3.61  17.15  135.34  0.56  4.77  2.17   \n",
       "3           3  2.37  0.74   90.12  5.13  21.59   81.27  0.61  5.37  3.15   \n",
       "4           4  0.27  0.35   43.52  3.49  15.19  129.11  0.42  3.21  0.72   \n",
       "5           5  1.13  0.93   94.58  3.05  28.90  172.53  0.51  4.39  1.76   \n",
       "6           6  1.02  1.65  114.31  3.52  11.48  161.89  0.52  4.15  2.11   \n",
       "7           7  1.98  1.78  133.25  4.77  23.95  158.31  0.57  5.10  2.79   \n",
       "\n",
       "     Hg    Pb  \n",
       "0  0.55  0.78  \n",
       "1  0.76  1.18  \n",
       "2  0.98  0.63  \n",
       "3  1.24  0.97  \n",
       "4  0.69  0.58  \n",
       "5  1.71  0.46  \n",
       "6  0.93  0.61  \n",
       "7  1.50  0.78  "
      ]
     },
     "execution_count": 4,
     "metadata": {},
     "output_type": "execute_result"
    }
   ],
   "source": [
    "df"
   ]
  },
  {
   "cell_type": "code",
   "execution_count": 5,
   "id": "3a93ac9d-8909-4454-8c8c-cc78f5c1bb88",
   "metadata": {
    "tags": []
   },
   "outputs": [],
   "source": [
    "df = df.drop(columns=\"Unnamed: 0\")"
   ]
  },
  {
   "cell_type": "code",
   "execution_count": 6,
   "id": "04671693-f4d1-4d4b-b03e-0479c980fab2",
   "metadata": {
    "tags": []
   },
   "outputs": [],
   "source": [
    "data = pd.read_csv(\"data/metals.csv\")"
   ]
  },
  {
   "cell_type": "code",
   "execution_count": 7,
   "id": "7939806f-4e20-4441-8670-c4d5e4f659b6",
   "metadata": {
    "tags": []
   },
   "outputs": [
    {
     "data": {
      "text/html": [
       "<div>\n",
       "<style scoped>\n",
       "    .dataframe tbody tr th:only-of-type {\n",
       "        vertical-align: middle;\n",
       "    }\n",
       "\n",
       "    .dataframe tbody tr th {\n",
       "        vertical-align: top;\n",
       "    }\n",
       "\n",
       "    .dataframe thead th {\n",
       "        text-align: right;\n",
       "    }\n",
       "</style>\n",
       "<table border=\"1\" class=\"dataframe\">\n",
       "  <thead>\n",
       "    <tr style=\"text-align: right;\">\n",
       "      <th></th>\n",
       "      <th>Metals</th>\n",
       "      <th>Ghagra (Clupisoma garua)</th>\n",
       "      <th>Koi\\n(Anabas testudineus)</th>\n",
       "      <th>Tatkini\\n(Cirrhinus reba)</th>\n",
       "      <th>Tengra (Mystus vittatus)</th>\n",
       "      <th>Batashi (Neotropius atherinoides)</th>\n",
       "      <th>Jatka (juvenile) Tenualosa ilisha</th>\n",
       "      <th>Rani (Botia dario)</th>\n",
       "      <th>Chanda\\n(Pseudambassis ranga)</th>\n",
       "    </tr>\n",
       "  </thead>\n",
       "  <tbody>\n",
       "    <tr>\n",
       "      <th>0</th>\n",
       "      <td>Cr</td>\n",
       "      <td>0.69</td>\n",
       "      <td>0.95</td>\n",
       "      <td>1.36</td>\n",
       "      <td>2.37</td>\n",
       "      <td>0.27</td>\n",
       "      <td>1.13</td>\n",
       "      <td>1.02</td>\n",
       "      <td>1.98</td>\n",
       "    </tr>\n",
       "    <tr>\n",
       "      <th>1</th>\n",
       "      <td>Mn</td>\n",
       "      <td>1.63</td>\n",
       "      <td>0.49</td>\n",
       "      <td>0.42</td>\n",
       "      <td>0.74</td>\n",
       "      <td>0.35</td>\n",
       "      <td>0.93</td>\n",
       "      <td>1.65</td>\n",
       "      <td>1.78</td>\n",
       "    </tr>\n",
       "    <tr>\n",
       "      <th>2</th>\n",
       "      <td>Fe</td>\n",
       "      <td>105.47</td>\n",
       "      <td>83.99</td>\n",
       "      <td>77.85</td>\n",
       "      <td>90.12</td>\n",
       "      <td>43.52</td>\n",
       "      <td>94.58</td>\n",
       "      <td>114.31</td>\n",
       "      <td>133.25</td>\n",
       "    </tr>\n",
       "    <tr>\n",
       "      <th>3</th>\n",
       "      <td>Co</td>\n",
       "      <td>1.27</td>\n",
       "      <td>2.68</td>\n",
       "      <td>3.61</td>\n",
       "      <td>5.13</td>\n",
       "      <td>3.49</td>\n",
       "      <td>3.05</td>\n",
       "      <td>3.52</td>\n",
       "      <td>4.77</td>\n",
       "    </tr>\n",
       "    <tr>\n",
       "      <th>4</th>\n",
       "      <td>Cu</td>\n",
       "      <td>22.16</td>\n",
       "      <td>19.82</td>\n",
       "      <td>17.15</td>\n",
       "      <td>21.59</td>\n",
       "      <td>15.19</td>\n",
       "      <td>28.90</td>\n",
       "      <td>11.48</td>\n",
       "      <td>23.95</td>\n",
       "    </tr>\n",
       "    <tr>\n",
       "      <th>5</th>\n",
       "      <td>Zn</td>\n",
       "      <td>82.25</td>\n",
       "      <td>149.47</td>\n",
       "      <td>135.34</td>\n",
       "      <td>81.27</td>\n",
       "      <td>129.11</td>\n",
       "      <td>172.53</td>\n",
       "      <td>161.89</td>\n",
       "      <td>158.31</td>\n",
       "    </tr>\n",
       "    <tr>\n",
       "      <th>6</th>\n",
       "      <td>As</td>\n",
       "      <td>0.43</td>\n",
       "      <td>0.47</td>\n",
       "      <td>0.56</td>\n",
       "      <td>0.61</td>\n",
       "      <td>0.42</td>\n",
       "      <td>0.51</td>\n",
       "      <td>0.52</td>\n",
       "      <td>0.57</td>\n",
       "    </tr>\n",
       "    <tr>\n",
       "      <th>7</th>\n",
       "      <td>Se</td>\n",
       "      <td>2.79</td>\n",
       "      <td>3.99</td>\n",
       "      <td>4.77</td>\n",
       "      <td>5.37</td>\n",
       "      <td>3.21</td>\n",
       "      <td>4.39</td>\n",
       "      <td>4.15</td>\n",
       "      <td>5.10</td>\n",
       "    </tr>\n",
       "    <tr>\n",
       "      <th>8</th>\n",
       "      <td>Cd</td>\n",
       "      <td>0.53</td>\n",
       "      <td>0.87</td>\n",
       "      <td>2.17</td>\n",
       "      <td>3.15</td>\n",
       "      <td>0.72</td>\n",
       "      <td>1.76</td>\n",
       "      <td>2.11</td>\n",
       "      <td>2.79</td>\n",
       "    </tr>\n",
       "    <tr>\n",
       "      <th>9</th>\n",
       "      <td>Hg</td>\n",
       "      <td>0.55</td>\n",
       "      <td>0.76</td>\n",
       "      <td>0.98</td>\n",
       "      <td>1.24</td>\n",
       "      <td>0.69</td>\n",
       "      <td>1.71</td>\n",
       "      <td>0.93</td>\n",
       "      <td>1.50</td>\n",
       "    </tr>\n",
       "    <tr>\n",
       "      <th>10</th>\n",
       "      <td>Pb</td>\n",
       "      <td>0.78</td>\n",
       "      <td>1.18</td>\n",
       "      <td>0.63</td>\n",
       "      <td>0.97</td>\n",
       "      <td>0.58</td>\n",
       "      <td>0.46</td>\n",
       "      <td>0.61</td>\n",
       "      <td>0.78</td>\n",
       "    </tr>\n",
       "  </tbody>\n",
       "</table>\n",
       "</div>"
      ],
      "text/plain": [
       "   Metals  Ghagra (Clupisoma garua)  Koi\\n(Anabas testudineus)  \\\n",
       "0      Cr                      0.69                       0.95   \n",
       "1      Mn                      1.63                       0.49   \n",
       "2      Fe                    105.47                      83.99   \n",
       "3      Co                      1.27                       2.68   \n",
       "4      Cu                     22.16                      19.82   \n",
       "5      Zn                     82.25                     149.47   \n",
       "6      As                      0.43                       0.47   \n",
       "7      Se                      2.79                       3.99   \n",
       "8      Cd                      0.53                       0.87   \n",
       "9      Hg                      0.55                       0.76   \n",
       "10     Pb                      0.78                       1.18   \n",
       "\n",
       "    Tatkini\\n(Cirrhinus reba)  Tengra (Mystus vittatus)  \\\n",
       "0                        1.36                      2.37   \n",
       "1                        0.42                      0.74   \n",
       "2                       77.85                     90.12   \n",
       "3                        3.61                      5.13   \n",
       "4                       17.15                     21.59   \n",
       "5                      135.34                     81.27   \n",
       "6                        0.56                      0.61   \n",
       "7                        4.77                      5.37   \n",
       "8                        2.17                      3.15   \n",
       "9                        0.98                      1.24   \n",
       "10                       0.63                      0.97   \n",
       "\n",
       "    Batashi (Neotropius atherinoides)  Jatka (juvenile) Tenualosa ilisha  \\\n",
       "0                                0.27                               1.13   \n",
       "1                                0.35                               0.93   \n",
       "2                               43.52                              94.58   \n",
       "3                                3.49                               3.05   \n",
       "4                               15.19                              28.90   \n",
       "5                              129.11                             172.53   \n",
       "6                                0.42                               0.51   \n",
       "7                                3.21                               4.39   \n",
       "8                                0.72                               1.76   \n",
       "9                                0.69                               1.71   \n",
       "10                               0.58                               0.46   \n",
       "\n",
       "    Rani (Botia dario)  Chanda\\n(Pseudambassis ranga)  \n",
       "0                 1.02                           1.98  \n",
       "1                 1.65                           1.78  \n",
       "2               114.31                         133.25  \n",
       "3                 3.52                           4.77  \n",
       "4                11.48                          23.95  \n",
       "5               161.89                         158.31  \n",
       "6                 0.52                           0.57  \n",
       "7                 4.15                           5.10  \n",
       "8                 2.11                           2.79  \n",
       "9                 0.93                           1.50  \n",
       "10                0.61                           0.78  "
      ]
     },
     "execution_count": 7,
     "metadata": {},
     "output_type": "execute_result"
    }
   ],
   "source": [
    "data"
   ]
  },
  {
   "cell_type": "code",
   "execution_count": 8,
   "id": "95c295b1-3162-4282-a0f7-b5d7dfa9cb1c",
   "metadata": {
    "tags": []
   },
   "outputs": [],
   "source": [
    "cols = data.columns"
   ]
  },
  {
   "cell_type": "code",
   "execution_count": 9,
   "id": "492692c6-2b29-4743-829b-8947150cbdde",
   "metadata": {
    "tags": []
   },
   "outputs": [
    {
     "data": {
      "text/plain": [
       "Index(['Metals', 'Ghagra (Clupisoma garua)', 'Koi\\n(Anabas testudineus)',\n",
       "       'Tatkini\\n(Cirrhinus reba)', 'Tengra (Mystus vittatus)',\n",
       "       'Batashi (Neotropius atherinoides)',\n",
       "       'Jatka (juvenile) Tenualosa ilisha', 'Rani (Botia dario)',\n",
       "       'Chanda\\n(Pseudambassis ranga)'],\n",
       "      dtype='object')"
      ]
     },
     "execution_count": 9,
     "metadata": {},
     "output_type": "execute_result"
    }
   ],
   "source": [
    "cols"
   ]
  },
  {
   "cell_type": "code",
   "execution_count": 10,
   "id": "0283c5ae-b10b-402c-86e0-f6d8d74ae61f",
   "metadata": {
    "tags": []
   },
   "outputs": [],
   "source": [
    "sample = ['Ghagra (Clupisoma garua)', 'Koi (Anabas testudineus)',\n",
    "       'Tatkini (Cirrhinus reba)', 'Tengra (Mystus vittatus)',\n",
    "       'Batashi (Neotropius atherinoides)',\n",
    "       'Jatka (juvenile) Tenualosa ilisha', 'Rani (Botia dario)',\n",
    "       'Chanda (Pseudambassis ranga)']"
   ]
  },
  {
   "cell_type": "code",
   "execution_count": 11,
   "id": "08454405-c4e2-427d-925b-08d27ac7eead",
   "metadata": {
    "tags": []
   },
   "outputs": [
    {
     "data": {
      "text/plain": [
       "Index(['Metals', 'Ghagra (Clupisoma garua)', 'Koi\\n(Anabas testudineus)',\n",
       "       'Tatkini\\n(Cirrhinus reba)', 'Tengra (Mystus vittatus)',\n",
       "       'Batashi (Neotropius atherinoides)',\n",
       "       'Jatka (juvenile) Tenualosa ilisha', 'Rani (Botia dario)',\n",
       "       'Chanda\\n(Pseudambassis ranga)'],\n",
       "      dtype='object')"
      ]
     },
     "execution_count": 11,
     "metadata": {},
     "output_type": "execute_result"
    }
   ],
   "source": [
    "cols"
   ]
  },
  {
   "cell_type": "code",
   "execution_count": 12,
   "id": "1167a1c8-d271-4349-b6f8-d5444f97a2f7",
   "metadata": {
    "tags": []
   },
   "outputs": [
    {
     "data": {
      "text/html": [
       "<div>\n",
       "<style scoped>\n",
       "    .dataframe tbody tr th:only-of-type {\n",
       "        vertical-align: middle;\n",
       "    }\n",
       "\n",
       "    .dataframe tbody tr th {\n",
       "        vertical-align: top;\n",
       "    }\n",
       "\n",
       "    .dataframe thead th {\n",
       "        text-align: right;\n",
       "    }\n",
       "</style>\n",
       "<table border=\"1\" class=\"dataframe\">\n",
       "  <thead>\n",
       "    <tr style=\"text-align: right;\">\n",
       "      <th></th>\n",
       "      <th>Cr</th>\n",
       "      <th>Mn</th>\n",
       "      <th>Fe</th>\n",
       "      <th>Co</th>\n",
       "      <th>Cu</th>\n",
       "      <th>Zn</th>\n",
       "      <th>As</th>\n",
       "      <th>Se</th>\n",
       "      <th>Cd</th>\n",
       "      <th>Hg</th>\n",
       "      <th>Pb</th>\n",
       "    </tr>\n",
       "  </thead>\n",
       "  <tbody>\n",
       "    <tr>\n",
       "      <th>0</th>\n",
       "      <td>0.69</td>\n",
       "      <td>1.63</td>\n",
       "      <td>105.47</td>\n",
       "      <td>1.27</td>\n",
       "      <td>22.16</td>\n",
       "      <td>82.25</td>\n",
       "      <td>0.43</td>\n",
       "      <td>2.79</td>\n",
       "      <td>0.53</td>\n",
       "      <td>0.55</td>\n",
       "      <td>0.78</td>\n",
       "    </tr>\n",
       "    <tr>\n",
       "      <th>1</th>\n",
       "      <td>0.95</td>\n",
       "      <td>0.49</td>\n",
       "      <td>83.99</td>\n",
       "      <td>2.68</td>\n",
       "      <td>19.82</td>\n",
       "      <td>149.47</td>\n",
       "      <td>0.47</td>\n",
       "      <td>3.99</td>\n",
       "      <td>0.87</td>\n",
       "      <td>0.76</td>\n",
       "      <td>1.18</td>\n",
       "    </tr>\n",
       "    <tr>\n",
       "      <th>2</th>\n",
       "      <td>1.36</td>\n",
       "      <td>0.42</td>\n",
       "      <td>77.85</td>\n",
       "      <td>3.61</td>\n",
       "      <td>17.15</td>\n",
       "      <td>135.34</td>\n",
       "      <td>0.56</td>\n",
       "      <td>4.77</td>\n",
       "      <td>2.17</td>\n",
       "      <td>0.98</td>\n",
       "      <td>0.63</td>\n",
       "    </tr>\n",
       "    <tr>\n",
       "      <th>3</th>\n",
       "      <td>2.37</td>\n",
       "      <td>0.74</td>\n",
       "      <td>90.12</td>\n",
       "      <td>5.13</td>\n",
       "      <td>21.59</td>\n",
       "      <td>81.27</td>\n",
       "      <td>0.61</td>\n",
       "      <td>5.37</td>\n",
       "      <td>3.15</td>\n",
       "      <td>1.24</td>\n",
       "      <td>0.97</td>\n",
       "    </tr>\n",
       "    <tr>\n",
       "      <th>4</th>\n",
       "      <td>0.27</td>\n",
       "      <td>0.35</td>\n",
       "      <td>43.52</td>\n",
       "      <td>3.49</td>\n",
       "      <td>15.19</td>\n",
       "      <td>129.11</td>\n",
       "      <td>0.42</td>\n",
       "      <td>3.21</td>\n",
       "      <td>0.72</td>\n",
       "      <td>0.69</td>\n",
       "      <td>0.58</td>\n",
       "    </tr>\n",
       "    <tr>\n",
       "      <th>5</th>\n",
       "      <td>1.13</td>\n",
       "      <td>0.93</td>\n",
       "      <td>94.58</td>\n",
       "      <td>3.05</td>\n",
       "      <td>28.90</td>\n",
       "      <td>172.53</td>\n",
       "      <td>0.51</td>\n",
       "      <td>4.39</td>\n",
       "      <td>1.76</td>\n",
       "      <td>1.71</td>\n",
       "      <td>0.46</td>\n",
       "    </tr>\n",
       "    <tr>\n",
       "      <th>6</th>\n",
       "      <td>1.02</td>\n",
       "      <td>1.65</td>\n",
       "      <td>114.31</td>\n",
       "      <td>3.52</td>\n",
       "      <td>11.48</td>\n",
       "      <td>161.89</td>\n",
       "      <td>0.52</td>\n",
       "      <td>4.15</td>\n",
       "      <td>2.11</td>\n",
       "      <td>0.93</td>\n",
       "      <td>0.61</td>\n",
       "    </tr>\n",
       "    <tr>\n",
       "      <th>7</th>\n",
       "      <td>1.98</td>\n",
       "      <td>1.78</td>\n",
       "      <td>133.25</td>\n",
       "      <td>4.77</td>\n",
       "      <td>23.95</td>\n",
       "      <td>158.31</td>\n",
       "      <td>0.57</td>\n",
       "      <td>5.10</td>\n",
       "      <td>2.79</td>\n",
       "      <td>1.50</td>\n",
       "      <td>0.78</td>\n",
       "    </tr>\n",
       "  </tbody>\n",
       "</table>\n",
       "</div>"
      ],
      "text/plain": [
       "     Cr    Mn      Fe    Co     Cu      Zn    As    Se    Cd    Hg    Pb\n",
       "0  0.69  1.63  105.47  1.27  22.16   82.25  0.43  2.79  0.53  0.55  0.78\n",
       "1  0.95  0.49   83.99  2.68  19.82  149.47  0.47  3.99  0.87  0.76  1.18\n",
       "2  1.36  0.42   77.85  3.61  17.15  135.34  0.56  4.77  2.17  0.98  0.63\n",
       "3  2.37  0.74   90.12  5.13  21.59   81.27  0.61  5.37  3.15  1.24  0.97\n",
       "4  0.27  0.35   43.52  3.49  15.19  129.11  0.42  3.21  0.72  0.69  0.58\n",
       "5  1.13  0.93   94.58  3.05  28.90  172.53  0.51  4.39  1.76  1.71  0.46\n",
       "6  1.02  1.65  114.31  3.52  11.48  161.89  0.52  4.15  2.11  0.93  0.61\n",
       "7  1.98  1.78  133.25  4.77  23.95  158.31  0.57  5.10  2.79  1.50  0.78"
      ]
     },
     "execution_count": 12,
     "metadata": {},
     "output_type": "execute_result"
    }
   ],
   "source": [
    "df"
   ]
  },
  {
   "cell_type": "code",
   "execution_count": 13,
   "id": "50858493-42fd-441e-9740-df48d27fa88a",
   "metadata": {
    "tags": []
   },
   "outputs": [
    {
     "data": {
      "text/html": [
       "<div>\n",
       "<style scoped>\n",
       "    .dataframe tbody tr th:only-of-type {\n",
       "        vertical-align: middle;\n",
       "    }\n",
       "\n",
       "    .dataframe tbody tr th {\n",
       "        vertical-align: top;\n",
       "    }\n",
       "\n",
       "    .dataframe thead th {\n",
       "        text-align: right;\n",
       "    }\n",
       "</style>\n",
       "<table border=\"1\" class=\"dataframe\">\n",
       "  <thead>\n",
       "    <tr style=\"text-align: right;\">\n",
       "      <th></th>\n",
       "      <th>Cr</th>\n",
       "      <th>Mn</th>\n",
       "      <th>Fe</th>\n",
       "      <th>Co</th>\n",
       "      <th>Cu</th>\n",
       "      <th>Zn</th>\n",
       "      <th>As</th>\n",
       "      <th>Se</th>\n",
       "      <th>Cd</th>\n",
       "      <th>Hg</th>\n",
       "      <th>Pb</th>\n",
       "      <th>Fish</th>\n",
       "    </tr>\n",
       "  </thead>\n",
       "  <tbody>\n",
       "    <tr>\n",
       "      <th>0</th>\n",
       "      <td>0.69</td>\n",
       "      <td>1.63</td>\n",
       "      <td>105.47</td>\n",
       "      <td>1.27</td>\n",
       "      <td>22.16</td>\n",
       "      <td>82.25</td>\n",
       "      <td>0.43</td>\n",
       "      <td>2.79</td>\n",
       "      <td>0.53</td>\n",
       "      <td>0.55</td>\n",
       "      <td>0.78</td>\n",
       "      <td>Ghagra (Clupisoma garua)</td>\n",
       "    </tr>\n",
       "    <tr>\n",
       "      <th>1</th>\n",
       "      <td>0.95</td>\n",
       "      <td>0.49</td>\n",
       "      <td>83.99</td>\n",
       "      <td>2.68</td>\n",
       "      <td>19.82</td>\n",
       "      <td>149.47</td>\n",
       "      <td>0.47</td>\n",
       "      <td>3.99</td>\n",
       "      <td>0.87</td>\n",
       "      <td>0.76</td>\n",
       "      <td>1.18</td>\n",
       "      <td>Koi (Anabas testudineus)</td>\n",
       "    </tr>\n",
       "    <tr>\n",
       "      <th>2</th>\n",
       "      <td>1.36</td>\n",
       "      <td>0.42</td>\n",
       "      <td>77.85</td>\n",
       "      <td>3.61</td>\n",
       "      <td>17.15</td>\n",
       "      <td>135.34</td>\n",
       "      <td>0.56</td>\n",
       "      <td>4.77</td>\n",
       "      <td>2.17</td>\n",
       "      <td>0.98</td>\n",
       "      <td>0.63</td>\n",
       "      <td>Tatkini (Cirrhinus reba)</td>\n",
       "    </tr>\n",
       "    <tr>\n",
       "      <th>3</th>\n",
       "      <td>2.37</td>\n",
       "      <td>0.74</td>\n",
       "      <td>90.12</td>\n",
       "      <td>5.13</td>\n",
       "      <td>21.59</td>\n",
       "      <td>81.27</td>\n",
       "      <td>0.61</td>\n",
       "      <td>5.37</td>\n",
       "      <td>3.15</td>\n",
       "      <td>1.24</td>\n",
       "      <td>0.97</td>\n",
       "      <td>Tengra (Mystus vittatus)</td>\n",
       "    </tr>\n",
       "    <tr>\n",
       "      <th>4</th>\n",
       "      <td>0.27</td>\n",
       "      <td>0.35</td>\n",
       "      <td>43.52</td>\n",
       "      <td>3.49</td>\n",
       "      <td>15.19</td>\n",
       "      <td>129.11</td>\n",
       "      <td>0.42</td>\n",
       "      <td>3.21</td>\n",
       "      <td>0.72</td>\n",
       "      <td>0.69</td>\n",
       "      <td>0.58</td>\n",
       "      <td>Batashi (Neotropius atherinoides)</td>\n",
       "    </tr>\n",
       "    <tr>\n",
       "      <th>5</th>\n",
       "      <td>1.13</td>\n",
       "      <td>0.93</td>\n",
       "      <td>94.58</td>\n",
       "      <td>3.05</td>\n",
       "      <td>28.90</td>\n",
       "      <td>172.53</td>\n",
       "      <td>0.51</td>\n",
       "      <td>4.39</td>\n",
       "      <td>1.76</td>\n",
       "      <td>1.71</td>\n",
       "      <td>0.46</td>\n",
       "      <td>Jatka (juvenile) Tenualosa ilisha</td>\n",
       "    </tr>\n",
       "    <tr>\n",
       "      <th>6</th>\n",
       "      <td>1.02</td>\n",
       "      <td>1.65</td>\n",
       "      <td>114.31</td>\n",
       "      <td>3.52</td>\n",
       "      <td>11.48</td>\n",
       "      <td>161.89</td>\n",
       "      <td>0.52</td>\n",
       "      <td>4.15</td>\n",
       "      <td>2.11</td>\n",
       "      <td>0.93</td>\n",
       "      <td>0.61</td>\n",
       "      <td>Rani (Botia dario)</td>\n",
       "    </tr>\n",
       "    <tr>\n",
       "      <th>7</th>\n",
       "      <td>1.98</td>\n",
       "      <td>1.78</td>\n",
       "      <td>133.25</td>\n",
       "      <td>4.77</td>\n",
       "      <td>23.95</td>\n",
       "      <td>158.31</td>\n",
       "      <td>0.57</td>\n",
       "      <td>5.10</td>\n",
       "      <td>2.79</td>\n",
       "      <td>1.50</td>\n",
       "      <td>0.78</td>\n",
       "      <td>Chanda (Pseudambassis ranga)</td>\n",
       "    </tr>\n",
       "  </tbody>\n",
       "</table>\n",
       "</div>"
      ],
      "text/plain": [
       "     Cr    Mn      Fe    Co     Cu      Zn    As    Se    Cd    Hg    Pb  \\\n",
       "0  0.69  1.63  105.47  1.27  22.16   82.25  0.43  2.79  0.53  0.55  0.78   \n",
       "1  0.95  0.49   83.99  2.68  19.82  149.47  0.47  3.99  0.87  0.76  1.18   \n",
       "2  1.36  0.42   77.85  3.61  17.15  135.34  0.56  4.77  2.17  0.98  0.63   \n",
       "3  2.37  0.74   90.12  5.13  21.59   81.27  0.61  5.37  3.15  1.24  0.97   \n",
       "4  0.27  0.35   43.52  3.49  15.19  129.11  0.42  3.21  0.72  0.69  0.58   \n",
       "5  1.13  0.93   94.58  3.05  28.90  172.53  0.51  4.39  1.76  1.71  0.46   \n",
       "6  1.02  1.65  114.31  3.52  11.48  161.89  0.52  4.15  2.11  0.93  0.61   \n",
       "7  1.98  1.78  133.25  4.77  23.95  158.31  0.57  5.10  2.79  1.50  0.78   \n",
       "\n",
       "                                Fish  \n",
       "0           Ghagra (Clupisoma garua)  \n",
       "1           Koi (Anabas testudineus)  \n",
       "2           Tatkini (Cirrhinus reba)  \n",
       "3           Tengra (Mystus vittatus)  \n",
       "4  Batashi (Neotropius atherinoides)  \n",
       "5  Jatka (juvenile) Tenualosa ilisha  \n",
       "6                 Rani (Botia dario)  \n",
       "7       Chanda (Pseudambassis ranga)  "
      ]
     },
     "execution_count": 13,
     "metadata": {},
     "output_type": "execute_result"
    }
   ],
   "source": [
    "df[\"Fish\"] = sample\n",
    "df"
   ]
  },
  {
   "cell_type": "code",
   "execution_count": 22,
   "id": "365498ef-8f97-4af6-bf26-9c2d994a44e6",
   "metadata": {},
   "outputs": [
    {
     "data": {
      "text/html": [
       "<div>\n",
       "<style scoped>\n",
       "    .dataframe tbody tr th:only-of-type {\n",
       "        vertical-align: middle;\n",
       "    }\n",
       "\n",
       "    .dataframe tbody tr th {\n",
       "        vertical-align: top;\n",
       "    }\n",
       "\n",
       "    .dataframe thead th {\n",
       "        text-align: right;\n",
       "    }\n",
       "</style>\n",
       "<table border=\"1\" class=\"dataframe\">\n",
       "  <thead>\n",
       "    <tr style=\"text-align: right;\">\n",
       "      <th></th>\n",
       "      <th>Cr</th>\n",
       "      <th>Mn</th>\n",
       "      <th>Fe</th>\n",
       "      <th>Co</th>\n",
       "      <th>Cu</th>\n",
       "      <th>Zn</th>\n",
       "      <th>As</th>\n",
       "      <th>Se</th>\n",
       "      <th>Cd</th>\n",
       "      <th>Hg</th>\n",
       "      <th>Pb</th>\n",
       "      <th>Fish</th>\n",
       "    </tr>\n",
       "  </thead>\n",
       "  <tbody>\n",
       "    <tr>\n",
       "      <th>0</th>\n",
       "      <td>0.69</td>\n",
       "      <td>1.63</td>\n",
       "      <td>105.47</td>\n",
       "      <td>1.27</td>\n",
       "      <td>22.16</td>\n",
       "      <td>82.25</td>\n",
       "      <td>0.43</td>\n",
       "      <td>2.79</td>\n",
       "      <td>0.53</td>\n",
       "      <td>0.55</td>\n",
       "      <td>0.78</td>\n",
       "      <td>Ghagra (Clupisoma garua)</td>\n",
       "    </tr>\n",
       "    <tr>\n",
       "      <th>1</th>\n",
       "      <td>0.95</td>\n",
       "      <td>0.49</td>\n",
       "      <td>83.99</td>\n",
       "      <td>2.68</td>\n",
       "      <td>19.82</td>\n",
       "      <td>149.47</td>\n",
       "      <td>0.47</td>\n",
       "      <td>3.99</td>\n",
       "      <td>0.87</td>\n",
       "      <td>0.76</td>\n",
       "      <td>1.18</td>\n",
       "      <td>Koi (Anabas testudineus)</td>\n",
       "    </tr>\n",
       "    <tr>\n",
       "      <th>2</th>\n",
       "      <td>1.36</td>\n",
       "      <td>0.42</td>\n",
       "      <td>77.85</td>\n",
       "      <td>3.61</td>\n",
       "      <td>17.15</td>\n",
       "      <td>135.34</td>\n",
       "      <td>0.56</td>\n",
       "      <td>4.77</td>\n",
       "      <td>2.17</td>\n",
       "      <td>0.98</td>\n",
       "      <td>0.63</td>\n",
       "      <td>Tatkini (Cirrhinus reba)</td>\n",
       "    </tr>\n",
       "    <tr>\n",
       "      <th>3</th>\n",
       "      <td>2.37</td>\n",
       "      <td>0.74</td>\n",
       "      <td>90.12</td>\n",
       "      <td>5.13</td>\n",
       "      <td>21.59</td>\n",
       "      <td>81.27</td>\n",
       "      <td>0.61</td>\n",
       "      <td>5.37</td>\n",
       "      <td>3.15</td>\n",
       "      <td>1.24</td>\n",
       "      <td>0.97</td>\n",
       "      <td>Tengra (Mystus vittatus)</td>\n",
       "    </tr>\n",
       "    <tr>\n",
       "      <th>4</th>\n",
       "      <td>0.27</td>\n",
       "      <td>0.35</td>\n",
       "      <td>43.52</td>\n",
       "      <td>3.49</td>\n",
       "      <td>15.19</td>\n",
       "      <td>129.11</td>\n",
       "      <td>0.42</td>\n",
       "      <td>3.21</td>\n",
       "      <td>0.72</td>\n",
       "      <td>0.69</td>\n",
       "      <td>0.58</td>\n",
       "      <td>Batashi (Neotropius atherinoides)</td>\n",
       "    </tr>\n",
       "    <tr>\n",
       "      <th>5</th>\n",
       "      <td>1.13</td>\n",
       "      <td>0.93</td>\n",
       "      <td>94.58</td>\n",
       "      <td>3.05</td>\n",
       "      <td>28.90</td>\n",
       "      <td>172.53</td>\n",
       "      <td>0.51</td>\n",
       "      <td>4.39</td>\n",
       "      <td>1.76</td>\n",
       "      <td>1.71</td>\n",
       "      <td>0.46</td>\n",
       "      <td>Jatka (juvenile) Tenualosa ilisha</td>\n",
       "    </tr>\n",
       "    <tr>\n",
       "      <th>6</th>\n",
       "      <td>1.02</td>\n",
       "      <td>1.65</td>\n",
       "      <td>114.31</td>\n",
       "      <td>3.52</td>\n",
       "      <td>11.48</td>\n",
       "      <td>161.89</td>\n",
       "      <td>0.52</td>\n",
       "      <td>4.15</td>\n",
       "      <td>2.11</td>\n",
       "      <td>0.93</td>\n",
       "      <td>0.61</td>\n",
       "      <td>Rani (Botia dario)</td>\n",
       "    </tr>\n",
       "    <tr>\n",
       "      <th>7</th>\n",
       "      <td>1.98</td>\n",
       "      <td>1.78</td>\n",
       "      <td>133.25</td>\n",
       "      <td>4.77</td>\n",
       "      <td>23.95</td>\n",
       "      <td>158.31</td>\n",
       "      <td>0.57</td>\n",
       "      <td>5.10</td>\n",
       "      <td>2.79</td>\n",
       "      <td>1.50</td>\n",
       "      <td>0.78</td>\n",
       "      <td>Chanda (Pseudambassis ranga)</td>\n",
       "    </tr>\n",
       "  </tbody>\n",
       "</table>\n",
       "</div>"
      ],
      "text/plain": [
       "     Cr    Mn      Fe    Co     Cu      Zn    As    Se    Cd    Hg    Pb  \\\n",
       "0  0.69  1.63  105.47  1.27  22.16   82.25  0.43  2.79  0.53  0.55  0.78   \n",
       "1  0.95  0.49   83.99  2.68  19.82  149.47  0.47  3.99  0.87  0.76  1.18   \n",
       "2  1.36  0.42   77.85  3.61  17.15  135.34  0.56  4.77  2.17  0.98  0.63   \n",
       "3  2.37  0.74   90.12  5.13  21.59   81.27  0.61  5.37  3.15  1.24  0.97   \n",
       "4  0.27  0.35   43.52  3.49  15.19  129.11  0.42  3.21  0.72  0.69  0.58   \n",
       "5  1.13  0.93   94.58  3.05  28.90  172.53  0.51  4.39  1.76  1.71  0.46   \n",
       "6  1.02  1.65  114.31  3.52  11.48  161.89  0.52  4.15  2.11  0.93  0.61   \n",
       "7  1.98  1.78  133.25  4.77  23.95  158.31  0.57  5.10  2.79  1.50  0.78   \n",
       "\n",
       "                                Fish  \n",
       "0           Ghagra (Clupisoma garua)  \n",
       "1           Koi (Anabas testudineus)  \n",
       "2           Tatkini (Cirrhinus reba)  \n",
       "3           Tengra (Mystus vittatus)  \n",
       "4  Batashi (Neotropius atherinoides)  \n",
       "5  Jatka (juvenile) Tenualosa ilisha  \n",
       "6                 Rani (Botia dario)  \n",
       "7       Chanda (Pseudambassis ranga)  "
      ]
     },
     "execution_count": 22,
     "metadata": {},
     "output_type": "execute_result"
    }
   ],
   "source": [
    "df"
   ]
  },
  {
   "cell_type": "code",
   "execution_count": 24,
   "id": "8fa0b516-3b9b-4c19-b6bc-8fd0a80779a2",
   "metadata": {},
   "outputs": [],
   "source": [
    "df.to_csv(\"data/TabluarMetals.csv\", index= False)"
   ]
  },
  {
   "cell_type": "code",
   "execution_count": 14,
   "id": "6281ef45-90dc-4157-ba14-a387b43b08c5",
   "metadata": {
    "tags": []
   },
   "outputs": [],
   "source": [
    "from sklearn.preprocessing import normalize"
   ]
  },
  {
   "cell_type": "code",
   "execution_count": 15,
   "id": "e1b384c9-4c9b-440a-a588-7133c5ec71c9",
   "metadata": {
    "tags": []
   },
   "outputs": [],
   "source": [
    "cols = df.columns"
   ]
  },
  {
   "cell_type": "code",
   "execution_count": 16,
   "id": "a75ffec9-510d-49a7-abde-cd9e33bb0b9b",
   "metadata": {
    "tags": []
   },
   "outputs": [
    {
     "data": {
      "text/html": [
       "<div>\n",
       "<style scoped>\n",
       "    .dataframe tbody tr th:only-of-type {\n",
       "        vertical-align: middle;\n",
       "    }\n",
       "\n",
       "    .dataframe tbody tr th {\n",
       "        vertical-align: top;\n",
       "    }\n",
       "\n",
       "    .dataframe thead th {\n",
       "        text-align: right;\n",
       "    }\n",
       "</style>\n",
       "<table border=\"1\" class=\"dataframe\">\n",
       "  <thead>\n",
       "    <tr style=\"text-align: right;\">\n",
       "      <th></th>\n",
       "      <th>Cr</th>\n",
       "      <th>Mn</th>\n",
       "      <th>Fe</th>\n",
       "      <th>Co</th>\n",
       "      <th>Cu</th>\n",
       "      <th>Zn</th>\n",
       "      <th>As</th>\n",
       "      <th>Se</th>\n",
       "      <th>Cd</th>\n",
       "      <th>Hg</th>\n",
       "      <th>Pb</th>\n",
       "    </tr>\n",
       "  </thead>\n",
       "  <tbody>\n",
       "    <tr>\n",
       "      <th>0</th>\n",
       "      <td>0.69</td>\n",
       "      <td>1.63</td>\n",
       "      <td>105.47</td>\n",
       "      <td>1.27</td>\n",
       "      <td>22.16</td>\n",
       "      <td>82.25</td>\n",
       "      <td>0.43</td>\n",
       "      <td>2.79</td>\n",
       "      <td>0.53</td>\n",
       "      <td>0.55</td>\n",
       "      <td>0.78</td>\n",
       "    </tr>\n",
       "    <tr>\n",
       "      <th>1</th>\n",
       "      <td>0.95</td>\n",
       "      <td>0.49</td>\n",
       "      <td>83.99</td>\n",
       "      <td>2.68</td>\n",
       "      <td>19.82</td>\n",
       "      <td>149.47</td>\n",
       "      <td>0.47</td>\n",
       "      <td>3.99</td>\n",
       "      <td>0.87</td>\n",
       "      <td>0.76</td>\n",
       "      <td>1.18</td>\n",
       "    </tr>\n",
       "    <tr>\n",
       "      <th>2</th>\n",
       "      <td>1.36</td>\n",
       "      <td>0.42</td>\n",
       "      <td>77.85</td>\n",
       "      <td>3.61</td>\n",
       "      <td>17.15</td>\n",
       "      <td>135.34</td>\n",
       "      <td>0.56</td>\n",
       "      <td>4.77</td>\n",
       "      <td>2.17</td>\n",
       "      <td>0.98</td>\n",
       "      <td>0.63</td>\n",
       "    </tr>\n",
       "    <tr>\n",
       "      <th>3</th>\n",
       "      <td>2.37</td>\n",
       "      <td>0.74</td>\n",
       "      <td>90.12</td>\n",
       "      <td>5.13</td>\n",
       "      <td>21.59</td>\n",
       "      <td>81.27</td>\n",
       "      <td>0.61</td>\n",
       "      <td>5.37</td>\n",
       "      <td>3.15</td>\n",
       "      <td>1.24</td>\n",
       "      <td>0.97</td>\n",
       "    </tr>\n",
       "    <tr>\n",
       "      <th>4</th>\n",
       "      <td>0.27</td>\n",
       "      <td>0.35</td>\n",
       "      <td>43.52</td>\n",
       "      <td>3.49</td>\n",
       "      <td>15.19</td>\n",
       "      <td>129.11</td>\n",
       "      <td>0.42</td>\n",
       "      <td>3.21</td>\n",
       "      <td>0.72</td>\n",
       "      <td>0.69</td>\n",
       "      <td>0.58</td>\n",
       "    </tr>\n",
       "    <tr>\n",
       "      <th>5</th>\n",
       "      <td>1.13</td>\n",
       "      <td>0.93</td>\n",
       "      <td>94.58</td>\n",
       "      <td>3.05</td>\n",
       "      <td>28.90</td>\n",
       "      <td>172.53</td>\n",
       "      <td>0.51</td>\n",
       "      <td>4.39</td>\n",
       "      <td>1.76</td>\n",
       "      <td>1.71</td>\n",
       "      <td>0.46</td>\n",
       "    </tr>\n",
       "    <tr>\n",
       "      <th>6</th>\n",
       "      <td>1.02</td>\n",
       "      <td>1.65</td>\n",
       "      <td>114.31</td>\n",
       "      <td>3.52</td>\n",
       "      <td>11.48</td>\n",
       "      <td>161.89</td>\n",
       "      <td>0.52</td>\n",
       "      <td>4.15</td>\n",
       "      <td>2.11</td>\n",
       "      <td>0.93</td>\n",
       "      <td>0.61</td>\n",
       "    </tr>\n",
       "    <tr>\n",
       "      <th>7</th>\n",
       "      <td>1.98</td>\n",
       "      <td>1.78</td>\n",
       "      <td>133.25</td>\n",
       "      <td>4.77</td>\n",
       "      <td>23.95</td>\n",
       "      <td>158.31</td>\n",
       "      <td>0.57</td>\n",
       "      <td>5.10</td>\n",
       "      <td>2.79</td>\n",
       "      <td>1.50</td>\n",
       "      <td>0.78</td>\n",
       "    </tr>\n",
       "  </tbody>\n",
       "</table>\n",
       "</div>"
      ],
      "text/plain": [
       "     Cr    Mn      Fe    Co     Cu      Zn    As    Se    Cd    Hg    Pb\n",
       "0  0.69  1.63  105.47  1.27  22.16   82.25  0.43  2.79  0.53  0.55  0.78\n",
       "1  0.95  0.49   83.99  2.68  19.82  149.47  0.47  3.99  0.87  0.76  1.18\n",
       "2  1.36  0.42   77.85  3.61  17.15  135.34  0.56  4.77  2.17  0.98  0.63\n",
       "3  2.37  0.74   90.12  5.13  21.59   81.27  0.61  5.37  3.15  1.24  0.97\n",
       "4  0.27  0.35   43.52  3.49  15.19  129.11  0.42  3.21  0.72  0.69  0.58\n",
       "5  1.13  0.93   94.58  3.05  28.90  172.53  0.51  4.39  1.76  1.71  0.46\n",
       "6  1.02  1.65  114.31  3.52  11.48  161.89  0.52  4.15  2.11  0.93  0.61\n",
       "7  1.98  1.78  133.25  4.77  23.95  158.31  0.57  5.10  2.79  1.50  0.78"
      ]
     },
     "execution_count": 16,
     "metadata": {},
     "output_type": "execute_result"
    }
   ],
   "source": [
    "for_scale = df[cols[:-1]]\n",
    "for_scale"
   ]
  },
  {
   "cell_type": "code",
   "execution_count": 17,
   "id": "99d8c40b-d83c-4e50-93a6-af9b887b19a7",
   "metadata": {
    "tags": []
   },
   "outputs": [],
   "source": [
    "data_scaled = normalize(for_scale)\n",
    "data_scaled = pd.DataFrame(data_scaled, columns= cols[:-1])"
   ]
  },
  {
   "cell_type": "code",
   "execution_count": 18,
   "id": "cfebe37d-cd26-4289-a054-37c8dc48374a",
   "metadata": {
    "tags": []
   },
   "outputs": [
    {
     "data": {
      "text/html": [
       "<div>\n",
       "<style scoped>\n",
       "    .dataframe tbody tr th:only-of-type {\n",
       "        vertical-align: middle;\n",
       "    }\n",
       "\n",
       "    .dataframe tbody tr th {\n",
       "        vertical-align: top;\n",
       "    }\n",
       "\n",
       "    .dataframe thead th {\n",
       "        text-align: right;\n",
       "    }\n",
       "</style>\n",
       "<table border=\"1\" class=\"dataframe\">\n",
       "  <thead>\n",
       "    <tr style=\"text-align: right;\">\n",
       "      <th></th>\n",
       "      <th>Cr</th>\n",
       "      <th>Mn</th>\n",
       "      <th>Fe</th>\n",
       "      <th>Co</th>\n",
       "      <th>Cu</th>\n",
       "      <th>Zn</th>\n",
       "      <th>As</th>\n",
       "      <th>Se</th>\n",
       "      <th>Cd</th>\n",
       "      <th>Hg</th>\n",
       "      <th>Pb</th>\n",
       "    </tr>\n",
       "  </thead>\n",
       "  <tbody>\n",
       "    <tr>\n",
       "      <th>0</th>\n",
       "      <td>0.005088</td>\n",
       "      <td>0.012018</td>\n",
       "      <td>0.777663</td>\n",
       "      <td>0.009364</td>\n",
       "      <td>0.163393</td>\n",
       "      <td>0.606455</td>\n",
       "      <td>0.003171</td>\n",
       "      <td>0.020572</td>\n",
       "      <td>0.003908</td>\n",
       "      <td>0.004055</td>\n",
       "      <td>0.005751</td>\n",
       "    </tr>\n",
       "    <tr>\n",
       "      <th>1</th>\n",
       "      <td>0.005502</td>\n",
       "      <td>0.002838</td>\n",
       "      <td>0.486413</td>\n",
       "      <td>0.015521</td>\n",
       "      <td>0.114784</td>\n",
       "      <td>0.865630</td>\n",
       "      <td>0.002722</td>\n",
       "      <td>0.023107</td>\n",
       "      <td>0.005038</td>\n",
       "      <td>0.004401</td>\n",
       "      <td>0.006834</td>\n",
       "    </tr>\n",
       "    <tr>\n",
       "      <th>2</th>\n",
       "      <td>0.008651</td>\n",
       "      <td>0.002672</td>\n",
       "      <td>0.495189</td>\n",
       "      <td>0.022963</td>\n",
       "      <td>0.109088</td>\n",
       "      <td>0.860872</td>\n",
       "      <td>0.003562</td>\n",
       "      <td>0.030341</td>\n",
       "      <td>0.013803</td>\n",
       "      <td>0.006234</td>\n",
       "      <td>0.004007</td>\n",
       "    </tr>\n",
       "    <tr>\n",
       "      <th>3</th>\n",
       "      <td>0.019181</td>\n",
       "      <td>0.005989</td>\n",
       "      <td>0.729372</td>\n",
       "      <td>0.041519</td>\n",
       "      <td>0.174735</td>\n",
       "      <td>0.657746</td>\n",
       "      <td>0.004937</td>\n",
       "      <td>0.043461</td>\n",
       "      <td>0.025494</td>\n",
       "      <td>0.010036</td>\n",
       "      <td>0.007851</td>\n",
       "    </tr>\n",
       "    <tr>\n",
       "      <th>4</th>\n",
       "      <td>0.001968</td>\n",
       "      <td>0.002551</td>\n",
       "      <td>0.317248</td>\n",
       "      <td>0.025441</td>\n",
       "      <td>0.110731</td>\n",
       "      <td>0.941173</td>\n",
       "      <td>0.003062</td>\n",
       "      <td>0.023400</td>\n",
       "      <td>0.005249</td>\n",
       "      <td>0.005030</td>\n",
       "      <td>0.004228</td>\n",
       "    </tr>\n",
       "    <tr>\n",
       "      <th>5</th>\n",
       "      <td>0.005680</td>\n",
       "      <td>0.004674</td>\n",
       "      <td>0.475376</td>\n",
       "      <td>0.015330</td>\n",
       "      <td>0.145257</td>\n",
       "      <td>0.867167</td>\n",
       "      <td>0.002563</td>\n",
       "      <td>0.022065</td>\n",
       "      <td>0.008846</td>\n",
       "      <td>0.008595</td>\n",
       "      <td>0.002312</td>\n",
       "    </tr>\n",
       "    <tr>\n",
       "      <th>6</th>\n",
       "      <td>0.005136</td>\n",
       "      <td>0.008308</td>\n",
       "      <td>0.575548</td>\n",
       "      <td>0.017723</td>\n",
       "      <td>0.057801</td>\n",
       "      <td>0.815112</td>\n",
       "      <td>0.002618</td>\n",
       "      <td>0.020895</td>\n",
       "      <td>0.010624</td>\n",
       "      <td>0.004683</td>\n",
       "      <td>0.003071</td>\n",
       "    </tr>\n",
       "    <tr>\n",
       "      <th>7</th>\n",
       "      <td>0.009498</td>\n",
       "      <td>0.008539</td>\n",
       "      <td>0.639193</td>\n",
       "      <td>0.022881</td>\n",
       "      <td>0.114887</td>\n",
       "      <td>0.759405</td>\n",
       "      <td>0.002734</td>\n",
       "      <td>0.024464</td>\n",
       "      <td>0.013383</td>\n",
       "      <td>0.007195</td>\n",
       "      <td>0.003742</td>\n",
       "    </tr>\n",
       "  </tbody>\n",
       "</table>\n",
       "</div>"
      ],
      "text/plain": [
       "         Cr        Mn        Fe        Co        Cu        Zn        As  \\\n",
       "0  0.005088  0.012018  0.777663  0.009364  0.163393  0.606455  0.003171   \n",
       "1  0.005502  0.002838  0.486413  0.015521  0.114784  0.865630  0.002722   \n",
       "2  0.008651  0.002672  0.495189  0.022963  0.109088  0.860872  0.003562   \n",
       "3  0.019181  0.005989  0.729372  0.041519  0.174735  0.657746  0.004937   \n",
       "4  0.001968  0.002551  0.317248  0.025441  0.110731  0.941173  0.003062   \n",
       "5  0.005680  0.004674  0.475376  0.015330  0.145257  0.867167  0.002563   \n",
       "6  0.005136  0.008308  0.575548  0.017723  0.057801  0.815112  0.002618   \n",
       "7  0.009498  0.008539  0.639193  0.022881  0.114887  0.759405  0.002734   \n",
       "\n",
       "         Se        Cd        Hg        Pb  \n",
       "0  0.020572  0.003908  0.004055  0.005751  \n",
       "1  0.023107  0.005038  0.004401  0.006834  \n",
       "2  0.030341  0.013803  0.006234  0.004007  \n",
       "3  0.043461  0.025494  0.010036  0.007851  \n",
       "4  0.023400  0.005249  0.005030  0.004228  \n",
       "5  0.022065  0.008846  0.008595  0.002312  \n",
       "6  0.020895  0.010624  0.004683  0.003071  \n",
       "7  0.024464  0.013383  0.007195  0.003742  "
      ]
     },
     "execution_count": 18,
     "metadata": {},
     "output_type": "execute_result"
    }
   ],
   "source": [
    "data_scaled"
   ]
  },
  {
   "cell_type": "code",
   "execution_count": 19,
   "id": "c0459a99-328c-4460-9729-dc62e3625d43",
   "metadata": {
    "tags": []
   },
   "outputs": [],
   "source": [
    "data_scaled[\"Fish\"] = sample"
   ]
  },
  {
   "cell_type": "code",
   "execution_count": 20,
   "id": "d575b4c7-b0db-4642-a9b5-122dc5e81527",
   "metadata": {
    "tags": []
   },
   "outputs": [
    {
     "data": {
      "text/html": [
       "<div>\n",
       "<style scoped>\n",
       "    .dataframe tbody tr th:only-of-type {\n",
       "        vertical-align: middle;\n",
       "    }\n",
       "\n",
       "    .dataframe tbody tr th {\n",
       "        vertical-align: top;\n",
       "    }\n",
       "\n",
       "    .dataframe thead th {\n",
       "        text-align: right;\n",
       "    }\n",
       "</style>\n",
       "<table border=\"1\" class=\"dataframe\">\n",
       "  <thead>\n",
       "    <tr style=\"text-align: right;\">\n",
       "      <th></th>\n",
       "      <th>Cr</th>\n",
       "      <th>Mn</th>\n",
       "      <th>Fe</th>\n",
       "      <th>Co</th>\n",
       "      <th>Cu</th>\n",
       "      <th>Zn</th>\n",
       "      <th>As</th>\n",
       "      <th>Se</th>\n",
       "      <th>Cd</th>\n",
       "      <th>Hg</th>\n",
       "      <th>Pb</th>\n",
       "      <th>Fish</th>\n",
       "    </tr>\n",
       "  </thead>\n",
       "  <tbody>\n",
       "    <tr>\n",
       "      <th>0</th>\n",
       "      <td>0.005088</td>\n",
       "      <td>0.012018</td>\n",
       "      <td>0.777663</td>\n",
       "      <td>0.009364</td>\n",
       "      <td>0.163393</td>\n",
       "      <td>0.606455</td>\n",
       "      <td>0.003171</td>\n",
       "      <td>0.020572</td>\n",
       "      <td>0.003908</td>\n",
       "      <td>0.004055</td>\n",
       "      <td>0.005751</td>\n",
       "      <td>Ghagra (Clupisoma garua)</td>\n",
       "    </tr>\n",
       "    <tr>\n",
       "      <th>1</th>\n",
       "      <td>0.005502</td>\n",
       "      <td>0.002838</td>\n",
       "      <td>0.486413</td>\n",
       "      <td>0.015521</td>\n",
       "      <td>0.114784</td>\n",
       "      <td>0.865630</td>\n",
       "      <td>0.002722</td>\n",
       "      <td>0.023107</td>\n",
       "      <td>0.005038</td>\n",
       "      <td>0.004401</td>\n",
       "      <td>0.006834</td>\n",
       "      <td>Koi (Anabas testudineus)</td>\n",
       "    </tr>\n",
       "    <tr>\n",
       "      <th>2</th>\n",
       "      <td>0.008651</td>\n",
       "      <td>0.002672</td>\n",
       "      <td>0.495189</td>\n",
       "      <td>0.022963</td>\n",
       "      <td>0.109088</td>\n",
       "      <td>0.860872</td>\n",
       "      <td>0.003562</td>\n",
       "      <td>0.030341</td>\n",
       "      <td>0.013803</td>\n",
       "      <td>0.006234</td>\n",
       "      <td>0.004007</td>\n",
       "      <td>Tatkini (Cirrhinus reba)</td>\n",
       "    </tr>\n",
       "    <tr>\n",
       "      <th>3</th>\n",
       "      <td>0.019181</td>\n",
       "      <td>0.005989</td>\n",
       "      <td>0.729372</td>\n",
       "      <td>0.041519</td>\n",
       "      <td>0.174735</td>\n",
       "      <td>0.657746</td>\n",
       "      <td>0.004937</td>\n",
       "      <td>0.043461</td>\n",
       "      <td>0.025494</td>\n",
       "      <td>0.010036</td>\n",
       "      <td>0.007851</td>\n",
       "      <td>Tengra (Mystus vittatus)</td>\n",
       "    </tr>\n",
       "    <tr>\n",
       "      <th>4</th>\n",
       "      <td>0.001968</td>\n",
       "      <td>0.002551</td>\n",
       "      <td>0.317248</td>\n",
       "      <td>0.025441</td>\n",
       "      <td>0.110731</td>\n",
       "      <td>0.941173</td>\n",
       "      <td>0.003062</td>\n",
       "      <td>0.023400</td>\n",
       "      <td>0.005249</td>\n",
       "      <td>0.005030</td>\n",
       "      <td>0.004228</td>\n",
       "      <td>Batashi (Neotropius atherinoides)</td>\n",
       "    </tr>\n",
       "    <tr>\n",
       "      <th>5</th>\n",
       "      <td>0.005680</td>\n",
       "      <td>0.004674</td>\n",
       "      <td>0.475376</td>\n",
       "      <td>0.015330</td>\n",
       "      <td>0.145257</td>\n",
       "      <td>0.867167</td>\n",
       "      <td>0.002563</td>\n",
       "      <td>0.022065</td>\n",
       "      <td>0.008846</td>\n",
       "      <td>0.008595</td>\n",
       "      <td>0.002312</td>\n",
       "      <td>Jatka (juvenile) Tenualosa ilisha</td>\n",
       "    </tr>\n",
       "    <tr>\n",
       "      <th>6</th>\n",
       "      <td>0.005136</td>\n",
       "      <td>0.008308</td>\n",
       "      <td>0.575548</td>\n",
       "      <td>0.017723</td>\n",
       "      <td>0.057801</td>\n",
       "      <td>0.815112</td>\n",
       "      <td>0.002618</td>\n",
       "      <td>0.020895</td>\n",
       "      <td>0.010624</td>\n",
       "      <td>0.004683</td>\n",
       "      <td>0.003071</td>\n",
       "      <td>Rani (Botia dario)</td>\n",
       "    </tr>\n",
       "    <tr>\n",
       "      <th>7</th>\n",
       "      <td>0.009498</td>\n",
       "      <td>0.008539</td>\n",
       "      <td>0.639193</td>\n",
       "      <td>0.022881</td>\n",
       "      <td>0.114887</td>\n",
       "      <td>0.759405</td>\n",
       "      <td>0.002734</td>\n",
       "      <td>0.024464</td>\n",
       "      <td>0.013383</td>\n",
       "      <td>0.007195</td>\n",
       "      <td>0.003742</td>\n",
       "      <td>Chanda (Pseudambassis ranga)</td>\n",
       "    </tr>\n",
       "  </tbody>\n",
       "</table>\n",
       "</div>"
      ],
      "text/plain": [
       "         Cr        Mn        Fe        Co        Cu        Zn        As  \\\n",
       "0  0.005088  0.012018  0.777663  0.009364  0.163393  0.606455  0.003171   \n",
       "1  0.005502  0.002838  0.486413  0.015521  0.114784  0.865630  0.002722   \n",
       "2  0.008651  0.002672  0.495189  0.022963  0.109088  0.860872  0.003562   \n",
       "3  0.019181  0.005989  0.729372  0.041519  0.174735  0.657746  0.004937   \n",
       "4  0.001968  0.002551  0.317248  0.025441  0.110731  0.941173  0.003062   \n",
       "5  0.005680  0.004674  0.475376  0.015330  0.145257  0.867167  0.002563   \n",
       "6  0.005136  0.008308  0.575548  0.017723  0.057801  0.815112  0.002618   \n",
       "7  0.009498  0.008539  0.639193  0.022881  0.114887  0.759405  0.002734   \n",
       "\n",
       "         Se        Cd        Hg        Pb                               Fish  \n",
       "0  0.020572  0.003908  0.004055  0.005751           Ghagra (Clupisoma garua)  \n",
       "1  0.023107  0.005038  0.004401  0.006834           Koi (Anabas testudineus)  \n",
       "2  0.030341  0.013803  0.006234  0.004007           Tatkini (Cirrhinus reba)  \n",
       "3  0.043461  0.025494  0.010036  0.007851           Tengra (Mystus vittatus)  \n",
       "4  0.023400  0.005249  0.005030  0.004228  Batashi (Neotropius atherinoides)  \n",
       "5  0.022065  0.008846  0.008595  0.002312  Jatka (juvenile) Tenualosa ilisha  \n",
       "6  0.020895  0.010624  0.004683  0.003071                 Rani (Botia dario)  \n",
       "7  0.024464  0.013383  0.007195  0.003742       Chanda (Pseudambassis ranga)  "
      ]
     },
     "execution_count": 20,
     "metadata": {},
     "output_type": "execute_result"
    }
   ],
   "source": [
    "data_scaled"
   ]
  },
  {
   "cell_type": "code",
   "execution_count": 38,
   "id": "a282a9c5-03fe-4fce-9e78-6c61904a99f3",
   "metadata": {
    "tags": []
   },
   "outputs": [],
   "source": [
    "import seaborn as sns"
   ]
  },
  {
   "cell_type": "code",
   "execution_count": 41,
   "id": "684ddacb-78fd-44f1-be17-e4ad7fcf9d85",
   "metadata": {
    "tags": []
   },
   "outputs": [
    {
     "data": {
      "text/html": [
       "<div>\n",
       "<style scoped>\n",
       "    .dataframe tbody tr th:only-of-type {\n",
       "        vertical-align: middle;\n",
       "    }\n",
       "\n",
       "    .dataframe tbody tr th {\n",
       "        vertical-align: top;\n",
       "    }\n",
       "\n",
       "    .dataframe thead th {\n",
       "        text-align: right;\n",
       "    }\n",
       "</style>\n",
       "<table border=\"1\" class=\"dataframe\">\n",
       "  <thead>\n",
       "    <tr style=\"text-align: right;\">\n",
       "      <th></th>\n",
       "      <th>Cr</th>\n",
       "      <th>Mn</th>\n",
       "      <th>Fe</th>\n",
       "      <th>Co</th>\n",
       "      <th>Cu</th>\n",
       "      <th>Zn</th>\n",
       "      <th>As</th>\n",
       "      <th>Se</th>\n",
       "      <th>Cd</th>\n",
       "      <th>Hg</th>\n",
       "      <th>Pb</th>\n",
       "    </tr>\n",
       "  </thead>\n",
       "  <tbody>\n",
       "    <tr>\n",
       "      <th>0</th>\n",
       "      <td>0.005088</td>\n",
       "      <td>0.012018</td>\n",
       "      <td>0.777663</td>\n",
       "      <td>0.009364</td>\n",
       "      <td>0.163393</td>\n",
       "      <td>0.606455</td>\n",
       "      <td>0.003171</td>\n",
       "      <td>0.020572</td>\n",
       "      <td>0.003908</td>\n",
       "      <td>0.004055</td>\n",
       "      <td>0.005751</td>\n",
       "    </tr>\n",
       "    <tr>\n",
       "      <th>1</th>\n",
       "      <td>0.005502</td>\n",
       "      <td>0.002838</td>\n",
       "      <td>0.486413</td>\n",
       "      <td>0.015521</td>\n",
       "      <td>0.114784</td>\n",
       "      <td>0.865630</td>\n",
       "      <td>0.002722</td>\n",
       "      <td>0.023107</td>\n",
       "      <td>0.005038</td>\n",
       "      <td>0.004401</td>\n",
       "      <td>0.006834</td>\n",
       "    </tr>\n",
       "    <tr>\n",
       "      <th>2</th>\n",
       "      <td>0.008651</td>\n",
       "      <td>0.002672</td>\n",
       "      <td>0.495189</td>\n",
       "      <td>0.022963</td>\n",
       "      <td>0.109088</td>\n",
       "      <td>0.860872</td>\n",
       "      <td>0.003562</td>\n",
       "      <td>0.030341</td>\n",
       "      <td>0.013803</td>\n",
       "      <td>0.006234</td>\n",
       "      <td>0.004007</td>\n",
       "    </tr>\n",
       "    <tr>\n",
       "      <th>3</th>\n",
       "      <td>0.019181</td>\n",
       "      <td>0.005989</td>\n",
       "      <td>0.729372</td>\n",
       "      <td>0.041519</td>\n",
       "      <td>0.174735</td>\n",
       "      <td>0.657746</td>\n",
       "      <td>0.004937</td>\n",
       "      <td>0.043461</td>\n",
       "      <td>0.025494</td>\n",
       "      <td>0.010036</td>\n",
       "      <td>0.007851</td>\n",
       "    </tr>\n",
       "    <tr>\n",
       "      <th>4</th>\n",
       "      <td>0.001968</td>\n",
       "      <td>0.002551</td>\n",
       "      <td>0.317248</td>\n",
       "      <td>0.025441</td>\n",
       "      <td>0.110731</td>\n",
       "      <td>0.941173</td>\n",
       "      <td>0.003062</td>\n",
       "      <td>0.023400</td>\n",
       "      <td>0.005249</td>\n",
       "      <td>0.005030</td>\n",
       "      <td>0.004228</td>\n",
       "    </tr>\n",
       "    <tr>\n",
       "      <th>5</th>\n",
       "      <td>0.005680</td>\n",
       "      <td>0.004674</td>\n",
       "      <td>0.475376</td>\n",
       "      <td>0.015330</td>\n",
       "      <td>0.145257</td>\n",
       "      <td>0.867167</td>\n",
       "      <td>0.002563</td>\n",
       "      <td>0.022065</td>\n",
       "      <td>0.008846</td>\n",
       "      <td>0.008595</td>\n",
       "      <td>0.002312</td>\n",
       "    </tr>\n",
       "    <tr>\n",
       "      <th>6</th>\n",
       "      <td>0.005136</td>\n",
       "      <td>0.008308</td>\n",
       "      <td>0.575548</td>\n",
       "      <td>0.017723</td>\n",
       "      <td>0.057801</td>\n",
       "      <td>0.815112</td>\n",
       "      <td>0.002618</td>\n",
       "      <td>0.020895</td>\n",
       "      <td>0.010624</td>\n",
       "      <td>0.004683</td>\n",
       "      <td>0.003071</td>\n",
       "    </tr>\n",
       "    <tr>\n",
       "      <th>7</th>\n",
       "      <td>0.009498</td>\n",
       "      <td>0.008539</td>\n",
       "      <td>0.639193</td>\n",
       "      <td>0.022881</td>\n",
       "      <td>0.114887</td>\n",
       "      <td>0.759405</td>\n",
       "      <td>0.002734</td>\n",
       "      <td>0.024464</td>\n",
       "      <td>0.013383</td>\n",
       "      <td>0.007195</td>\n",
       "      <td>0.003742</td>\n",
       "    </tr>\n",
       "  </tbody>\n",
       "</table>\n",
       "</div>"
      ],
      "text/plain": [
       "         Cr        Mn        Fe        Co        Cu        Zn        As  \\\n",
       "0  0.005088  0.012018  0.777663  0.009364  0.163393  0.606455  0.003171   \n",
       "1  0.005502  0.002838  0.486413  0.015521  0.114784  0.865630  0.002722   \n",
       "2  0.008651  0.002672  0.495189  0.022963  0.109088  0.860872  0.003562   \n",
       "3  0.019181  0.005989  0.729372  0.041519  0.174735  0.657746  0.004937   \n",
       "4  0.001968  0.002551  0.317248  0.025441  0.110731  0.941173  0.003062   \n",
       "5  0.005680  0.004674  0.475376  0.015330  0.145257  0.867167  0.002563   \n",
       "6  0.005136  0.008308  0.575548  0.017723  0.057801  0.815112  0.002618   \n",
       "7  0.009498  0.008539  0.639193  0.022881  0.114887  0.759405  0.002734   \n",
       "\n",
       "         Se        Cd        Hg        Pb  \n",
       "0  0.020572  0.003908  0.004055  0.005751  \n",
       "1  0.023107  0.005038  0.004401  0.006834  \n",
       "2  0.030341  0.013803  0.006234  0.004007  \n",
       "3  0.043461  0.025494  0.010036  0.007851  \n",
       "4  0.023400  0.005249  0.005030  0.004228  \n",
       "5  0.022065  0.008846  0.008595  0.002312  \n",
       "6  0.020895  0.010624  0.004683  0.003071  \n",
       "7  0.024464  0.013383  0.007195  0.003742  "
      ]
     },
     "execution_count": 41,
     "metadata": {},
     "output_type": "execute_result"
    }
   ],
   "source": [
    "data_s = data_scaled[cols[:-1]]\n",
    "data_s"
   ]
  },
  {
   "cell_type": "code",
   "execution_count": 42,
   "id": "d8030a6f-3063-4c9a-afa2-3876b38e337f",
   "metadata": {
    "tags": []
   },
   "outputs": [
    {
     "data": {
      "text/plain": [
       "<seaborn.matrix.ClusterGrid at 0x7fea0dd714e0>"
      ]
     },
     "execution_count": 42,
     "metadata": {},
     "output_type": "execute_result"
    },
    {
     "data": {
      "image/png": "[encoded data removed]",
      "text/plain": [
       "<Figure size 1000x1000 with 4 Axes>"
      ]
     },
     "metadata": {},
     "output_type": "display_data"
    }
   ],
   "source": [
    "sns.clustermap(data_s)"
   ]
  },
  {
   "cell_type": "code",
   "execution_count": 44,
   "id": "d79befd2-2c85-484f-9266-d438b3f7d2b8",
   "metadata": {
    "tags": []
   },
   "outputs": [
    {
     "data": {
      "text/plain": [
       "<seaborn.matrix.ClusterGrid at 0x7fea0df609d0>"
      ]
     },
     "execution_count": 44,
     "metadata": {},
     "output_type": "execute_result"
    },
    {
     "data": {
      "image/png": "[encoded data removed]",
      "text/plain": [
       "<Figure size 1000x1000 with 4 Axes>"
      ]
     },
     "metadata": {},
     "output_type": "display_data"
    }
   ],
   "source": [
    "sns.clustermap(data_s, method= \"ward\", cmap=\"magma\")"
   ]
  },
  {
   "cell_type": "code",
   "execution_count": 45,
   "id": "90d8a5b0-df0b-491c-838f-4b549ca8dad7",
   "metadata": {
    "tags": []
   },
   "outputs": [
    {
     "data": {
      "text/plain": [
       "<seaborn.matrix.ClusterGrid at 0x7fea0dd70190>"
      ]
     },
     "execution_count": 45,
     "metadata": {},
     "output_type": "execute_result"
    },
    {
     "data": {
      "image/png": "[encoded data removed]",
      "text/plain": [
       "<Figure size 1000x1000 with 4 Axes>"
      ]
     },
     "metadata": {},
     "output_type": "display_data"
    }
   ],
   "source": [
    "sns.clustermap(data_s, method= \"ward\", cmap=\"viridis\")"
   ]
  },
  {
   "cell_type": "code",
   "execution_count": 46,
   "id": "aab47897-4102-4faa-aed0-d296153feedc",
   "metadata": {
    "tags": []
   },
   "outputs": [
    {
     "data": {
      "text/plain": [
       "<seaborn.matrix.ClusterGrid at 0x7fea0b79c910>"
      ]
     },
     "execution_count": 46,
     "metadata": {},
     "output_type": "execute_result"
    },
    {
     "data": {
      "image/png": "[encoded data removed]",
      "text/plain": [
       "<Figure size 1000x1000 with 4 Axes>"
      ]
     },
     "metadata": {},
     "output_type": "display_data"
    }
   ],
   "source": [
    "sns.clustermap(df[cols[:-1]], method= \"ward\", cmap=\"viridis\")"
   ]
  },
  {
   "cell_type": "code",
   "execution_count": 47,
   "id": "91a2e77f-1cb1-4d6f-970f-b3fc18e27625",
   "metadata": {
    "tags": []
   },
   "outputs": [
    {
     "data": {
      "text/plain": [
       "<seaborn.matrix.ClusterGrid at 0x7fea0b79e350>"
      ]
     },
     "execution_count": 47,
     "metadata": {},
     "output_type": "execute_result"
    },
    {
     "data": {
      "image/png": "[encoded data removed]",
      "text/plain": [
       "<Figure size 1000x1000 with 4 Axes>"
      ]
     },
     "metadata": {},
     "output_type": "display_data"
    }
   ],
   "source": [
    "sns.clustermap(data_s, method= \"ward\", cmap=\"rocket_r\")"
   ]
  },
  {
   "cell_type": "code",
   "execution_count": 50,
   "id": "99b4dc95-d788-496b-b720-1aa5abe2116f",
   "metadata": {
    "tags": []
   },
   "outputs": [
    {
     "data": {
      "text/plain": [
       "<seaborn.matrix.ClusterGrid at 0x7fea0b0aca90>"
      ]
     },
     "execution_count": 50,
     "metadata": {},
     "output_type": "execute_result"
    },
    {
     "data": {
      "image/png": "[encoded data removed]",
      "text/plain": [
       "<Figure size 1000x1000 with 4 Axes>"
      ]
     },
     "metadata": {},
     "output_type": "display_data"
    }
   ],
   "source": [
    "sns.clustermap(data_s, cmap=\"viridis\", annot_kws={\"size\": 16})"
   ]
  },
  {
   "cell_type": "code",
   "execution_count": 53,
   "id": "fbed7678-4c11-4606-8b32-ca98880814d9",
   "metadata": {
    "tags": []
   },
   "outputs": [
    {
     "data": {
      "text/plain": [
       "[Text(1, 0.5, '0'),\n",
       " Text(1, 1.5, '3'),\n",
       " Text(1, 2.5, '6'),\n",
       " Text(1, 3.5, '7'),\n",
       " Text(1, 4.5, '4'),\n",
       " Text(1, 5.5, '5'),\n",
       " Text(1, 6.5, '1'),\n",
       " Text(1, 7.5, '2')]"
      ]
     },
     "execution_count": 53,
     "metadata": {},
     "output_type": "execute_result"
    },
    {
     "data": {
      "image/png": "[encoded data removed]",
      "text/plain": [
       "<Figure size 1000x1000 with 4 Axes>"
      ]
     },
     "metadata": {},
     "output_type": "display_data"
    }
   ],
   "source": [
    "g = sns.clustermap(data_s,method=\"ward\", cmap = \"viridis\")\n",
    "g.ax_heatmap.set_xticklabels(g.ax_heatmap.get_xmajorticklabels(), fontsize = 16)\n",
    "g.ax_heatmap.set_yticklabels(g.ax_heatmap.get_ymajorticklabels(), fontsize = 16)"
   ]
  },
  {
   "cell_type": "code",
   "execution_count": 55,
   "id": "1d9138c0-6761-4cb7-bf6a-f24f0c2a9ca5",
   "metadata": {
    "tags": []
   },
   "outputs": [
    {
     "data": {
      "text/plain": [
       "[Text(1, 0.5, '0'),\n",
       " Text(1, 1.5, '3'),\n",
       " Text(1, 2.5, '6'),\n",
       " Text(1, 3.5, '7'),\n",
       " Text(1, 4.5, '4'),\n",
       " Text(1, 5.5, '5'),\n",
       " Text(1, 6.5, '1'),\n",
       " Text(1, 7.5, '2')]"
      ]
     },
     "execution_count": 55,
     "metadata": {},
     "output_type": "execute_result"
    },
    {
     "data": {
      "image/png": "[encoded data removed]",
      "text/plain": [
       "<Figure size 1000x1000 with 4 Axes>"
      ]
     },
     "metadata": {},
     "output_type": "display_data"
    }
   ],
   "source": [
    "g = sns.clustermap(data_s, method=\"ward\", cmap = \"viridis\", tree_kws=dict(linewidths=1.5, colors=(0.2, 0.2, 0.4)))\n",
    "g.ax_heatmap.set_xticklabels(g.ax_heatmap.get_xmajorticklabels(), fontsize = 16)\n",
    "g.ax_heatmap.set_yticklabels(g.ax_heatmap.get_ymajorticklabels(), fontsize = 16)"
   ]
  },
  {
   "cell_type": "code",
   "execution_count": null,
   "id": "97baf843-122d-42ac-9a6c-c8fae21ea19c",
   "metadata": {},
   "outputs": [],
   "source": []
  },
  {
   "cell_type": "code",
   "execution_count": 58,
   "id": "dd5799a2-707c-4797-a8f7-c1f537a36998",
   "metadata": {
    "tags": []
   },
   "outputs": [],
   "source": [
    "data_s.index = sample"
   ]
  },
  {
   "cell_type": "code",
   "execution_count": 68,
   "id": "79ca2e3f-030e-435f-8fab-00c1b219f872",
   "metadata": {
    "tags": []
   },
   "outputs": [
    {
     "data": {
      "image/png": "[encoded data removed]",
      "text/plain": [
       "<Figure size 1000x1000 with 4 Axes>"
      ]
     },
     "metadata": {},
     "output_type": "display_data"
    }
   ],
   "source": [
    "g = sns.clustermap(data_s, method=\"ward\", cmap = \"viridis\", tree_kws=dict(linewidths=1.5, colors=(0.2, 0.2, 0.4)))\n",
    "g.ax_heatmap.set_xticklabels(g.ax_heatmap.get_xmajorticklabels(), fontsize = 16)\n",
    "g.ax_heatmap.set_yticklabels(g.ax_heatmap.get_ymajorticklabels(), fontsize = 16)\n",
    "g.ax_cbar.set_position((0.8, .2, .03, .4))"
   ]
  },
  {
   "cell_type": "code",
   "execution_count": 77,
   "id": "833c84b4-bbe6-43cb-8366-ebd0eccb48ed",
   "metadata": {
    "tags": []
   },
   "outputs": [
    {
     "data": {
      "image/png": "[encoded data removed]",
      "text/plain": [
       "<Figure size 1000x1000 with 4 Axes>"
      ]
     },
     "metadata": {},
     "output_type": "display_data"
    }
   ],
   "source": [
    "g = sns.clustermap(df[cols[:-1]], method=\"ward\", cmap = \"viridis\", tree_kws=dict(linewidths=1.5, colors=(0.2, 0.2, 0.4)))\n",
    "g.ax_heatmap.set_xticklabels(g.ax_heatmap.get_xmajorticklabels(), fontsize = 16)\n",
    "g.ax_heatmap.set_yticklabels(g.ax_heatmap.get_ymajorticklabels(), fontsize = 0)\n",
    "g.ax_cbar.set_position((1, .2, .03, .4))"
   ]
  },
  {
   "cell_type": "code",
   "execution_count": null,
   "id": "1518815b-3607-47d2-a5e0-264d72f9cabb",
   "metadata": {},
   "outputs": [],
   "source": []
  },
  {
   "cell_type": "code",
   "execution_count": 73,
   "id": "cf3e117b-e405-43a7-8538-a1fc40b42a7a",
   "metadata": {
    "tags": []
   },
   "outputs": [],
   "source": [
    "import scipy.cluster.hierarchy as shc"
   ]
  },
  {
   "cell_type": "code",
   "execution_count": 83,
   "id": "4b50c005-31a1-4f27-bdf8-4370796e8920",
   "metadata": {
    "tags": []
   },
   "outputs": [
    {
     "data": {
      "image/png": "[encoded data removed]",
      "text/plain": [
       "<Figure size 1000x700 with 1 Axes>"
      ]
     },
     "metadata": {},
     "output_type": "display_data"
    }
   ],
   "source": [
    "plt.figure(figsize=(10, 7))  \n",
    "plt.title(\"Rescaled Distance Cluster Combined\")\n",
    "\n",
    "dend = shc.dendrogram(shc.linkage(df[cols[:-1]].T, method='ward'))\n",
    "plt.axhline(y=.38, color='r', linestyle='--')\n",
    "plt.show()"
   ]
  },
  {
   "cell_type": "code",
   "execution_count": 84,
   "id": "d585cfc6-67e7-4416-9ef7-6e8115646c1e",
   "metadata": {
    "tags": []
   },
   "outputs": [
    {
     "data": {
      "text/html": [
       "<div>\n",
       "<style scoped>\n",
       "    .dataframe tbody tr th:only-of-type {\n",
       "        vertical-align: middle;\n",
       "    }\n",
       "\n",
       "    .dataframe tbody tr th {\n",
       "        vertical-align: top;\n",
       "    }\n",
       "\n",
       "    .dataframe thead th {\n",
       "        text-align: right;\n",
       "    }\n",
       "</style>\n",
       "<table border=\"1\" class=\"dataframe\">\n",
       "  <thead>\n",
       "    <tr style=\"text-align: right;\">\n",
       "      <th></th>\n",
       "      <th>0</th>\n",
       "      <th>1</th>\n",
       "      <th>2</th>\n",
       "      <th>3</th>\n",
       "      <th>4</th>\n",
       "      <th>5</th>\n",
       "      <th>6</th>\n",
       "      <th>7</th>\n",
       "    </tr>\n",
       "  </thead>\n",
       "  <tbody>\n",
       "    <tr>\n",
       "      <th>Cr</th>\n",
       "      <td>0.69</td>\n",
       "      <td>0.95</td>\n",
       "      <td>1.36</td>\n",
       "      <td>2.37</td>\n",
       "      <td>0.27</td>\n",
       "      <td>1.13</td>\n",
       "      <td>1.02</td>\n",
       "      <td>1.98</td>\n",
       "    </tr>\n",
       "    <tr>\n",
       "      <th>Mn</th>\n",
       "      <td>1.63</td>\n",
       "      <td>0.49</td>\n",
       "      <td>0.42</td>\n",
       "      <td>0.74</td>\n",
       "      <td>0.35</td>\n",
       "      <td>0.93</td>\n",
       "      <td>1.65</td>\n",
       "      <td>1.78</td>\n",
       "    </tr>\n",
       "    <tr>\n",
       "      <th>Fe</th>\n",
       "      <td>105.47</td>\n",
       "      <td>83.99</td>\n",
       "      <td>77.85</td>\n",
       "      <td>90.12</td>\n",
       "      <td>43.52</td>\n",
       "      <td>94.58</td>\n",
       "      <td>114.31</td>\n",
       "      <td>133.25</td>\n",
       "    </tr>\n",
       "    <tr>\n",
       "      <th>Co</th>\n",
       "      <td>1.27</td>\n",
       "      <td>2.68</td>\n",
       "      <td>3.61</td>\n",
       "      <td>5.13</td>\n",
       "      <td>3.49</td>\n",
       "      <td>3.05</td>\n",
       "      <td>3.52</td>\n",
       "      <td>4.77</td>\n",
       "    </tr>\n",
       "    <tr>\n",
       "      <th>Cu</th>\n",
       "      <td>22.16</td>\n",
       "      <td>19.82</td>\n",
       "      <td>17.15</td>\n",
       "      <td>21.59</td>\n",
       "      <td>15.19</td>\n",
       "      <td>28.90</td>\n",
       "      <td>11.48</td>\n",
       "      <td>23.95</td>\n",
       "    </tr>\n",
       "    <tr>\n",
       "      <th>Zn</th>\n",
       "      <td>82.25</td>\n",
       "      <td>149.47</td>\n",
       "      <td>135.34</td>\n",
       "      <td>81.27</td>\n",
       "      <td>129.11</td>\n",
       "      <td>172.53</td>\n",
       "      <td>161.89</td>\n",
       "      <td>158.31</td>\n",
       "    </tr>\n",
       "    <tr>\n",
       "      <th>As</th>\n",
       "      <td>0.43</td>\n",
       "      <td>0.47</td>\n",
       "      <td>0.56</td>\n",
       "      <td>0.61</td>\n",
       "      <td>0.42</td>\n",
       "      <td>0.51</td>\n",
       "      <td>0.52</td>\n",
       "      <td>0.57</td>\n",
       "    </tr>\n",
       "    <tr>\n",
       "      <th>Se</th>\n",
       "      <td>2.79</td>\n",
       "      <td>3.99</td>\n",
       "      <td>4.77</td>\n",
       "      <td>5.37</td>\n",
       "      <td>3.21</td>\n",
       "      <td>4.39</td>\n",
       "      <td>4.15</td>\n",
       "      <td>5.10</td>\n",
       "    </tr>\n",
       "    <tr>\n",
       "      <th>Cd</th>\n",
       "      <td>0.53</td>\n",
       "      <td>0.87</td>\n",
       "      <td>2.17</td>\n",
       "      <td>3.15</td>\n",
       "      <td>0.72</td>\n",
       "      <td>1.76</td>\n",
       "      <td>2.11</td>\n",
       "      <td>2.79</td>\n",
       "    </tr>\n",
       "    <tr>\n",
       "      <th>Hg</th>\n",
       "      <td>0.55</td>\n",
       "      <td>0.76</td>\n",
       "      <td>0.98</td>\n",
       "      <td>1.24</td>\n",
       "      <td>0.69</td>\n",
       "      <td>1.71</td>\n",
       "      <td>0.93</td>\n",
       "      <td>1.50</td>\n",
       "    </tr>\n",
       "    <tr>\n",
       "      <th>Pb</th>\n",
       "      <td>0.78</td>\n",
       "      <td>1.18</td>\n",
       "      <td>0.63</td>\n",
       "      <td>0.97</td>\n",
       "      <td>0.58</td>\n",
       "      <td>0.46</td>\n",
       "      <td>0.61</td>\n",
       "      <td>0.78</td>\n",
       "    </tr>\n",
       "  </tbody>\n",
       "</table>\n",
       "</div>"
      ],
      "text/plain": [
       "         0       1       2      3       4       5       6       7\n",
       "Cr    0.69    0.95    1.36   2.37    0.27    1.13    1.02    1.98\n",
       "Mn    1.63    0.49    0.42   0.74    0.35    0.93    1.65    1.78\n",
       "Fe  105.47   83.99   77.85  90.12   43.52   94.58  114.31  133.25\n",
       "Co    1.27    2.68    3.61   5.13    3.49    3.05    3.52    4.77\n",
       "Cu   22.16   19.82   17.15  21.59   15.19   28.90   11.48   23.95\n",
       "Zn   82.25  149.47  135.34  81.27  129.11  172.53  161.89  158.31\n",
       "As    0.43    0.47    0.56   0.61    0.42    0.51    0.52    0.57\n",
       "Se    2.79    3.99    4.77   5.37    3.21    4.39    4.15    5.10\n",
       "Cd    0.53    0.87    2.17   3.15    0.72    1.76    2.11    2.79\n",
       "Hg    0.55    0.76    0.98   1.24    0.69    1.71    0.93    1.50\n",
       "Pb    0.78    1.18    0.63   0.97    0.58    0.46    0.61    0.78"
      ]
     },
     "execution_count": 84,
     "metadata": {},
     "output_type": "execute_result"
    }
   ],
   "source": [
    "df[cols[:-1]].T"
   ]
  },
  {
   "cell_type": "code",
   "execution_count": null,
   "id": "ad5c74a7-85cd-480d-aa25-a7807aaef8c2",
   "metadata": {},
   "outputs": [],
   "source": []
  },
  {
   "cell_type": "code",
   "execution_count": 78,
   "id": "9589dc6a-041b-4866-a11c-adc3506aaf76",
   "metadata": {
    "tags": []
   },
   "outputs": [
    {
     "data": {
      "image/png": "[encoded data removed]",
      "text/plain": [
       "<Figure size 1000x1000 with 4 Axes>"
      ]
     },
     "metadata": {},
     "output_type": "display_data"
    }
   ],
   "source": [
    "g = sns.clustermap(df[cols[:-1]],yticklabels=False, method=\"ward\", cmap = \"viridis\", tree_kws=dict(linewidths=1.5, colors=(0.2, 0.2, 0.4)))\n",
    "g.ax_heatmap.set_xticklabels(g.ax_heatmap.get_xmajorticklabels(), fontsize = 16)\n",
    "g.ax_cbar.set_position((1, .2, .03, .4))"
   ]
  },
  {
   "cell_type": "code",
   "execution_count": null,
   "id": "72878a63-bd7a-4f34-83d0-2d936028adc5",
   "metadata": {},
   "outputs": [],
   "source": []
  },
  {
   "cell_type": "code",
   "execution_count": 1,
   "id": "8796d7f6-3a84-4e4e-a514-6a7bfa69f1d9",
   "metadata": {
    "tags": []
   },
   "outputs": [],
   "source": [
    "import pandas as pd\n",
    "import seaborn as sns\n",
    "import matplotlib.pyplot as plt"
   ]
  },
  {
   "cell_type": "code",
   "execution_count": 2,
   "id": "a72928e3-067a-4430-824d-399a0ee6270c",
   "metadata": {
    "tags": []
   },
   "outputs": [],
   "source": [
    "df = pd.read_csv(\"../R/MetalsRaw.csv\")"
   ]
  },
  {
   "cell_type": "code",
   "execution_count": 4,
   "id": "e75f9d1a-17c3-493c-8677-0cecb907f4be",
   "metadata": {
    "tags": []
   },
   "outputs": [],
   "source": [
    "df = df.drop(columns=\"Unnamed: 0\")"
   ]
  },
  {
   "cell_type": "code",
   "execution_count": 5,
   "id": "203049df-aebd-4869-b9f8-1a19408d59ec",
   "metadata": {
    "tags": []
   },
   "outputs": [
    {
     "data": {
      "text/html": [
       "<div>\n",
       "<style scoped>\n",
       "    .dataframe tbody tr th:only-of-type {\n",
       "        vertical-align: middle;\n",
       "    }\n",
       "\n",
       "    .dataframe tbody tr th {\n",
       "        vertical-align: top;\n",
       "    }\n",
       "\n",
       "    .dataframe thead th {\n",
       "        text-align: right;\n",
       "    }\n",
       "</style>\n",
       "<table border=\"1\" class=\"dataframe\">\n",
       "  <thead>\n",
       "    <tr style=\"text-align: right;\">\n",
       "      <th></th>\n",
       "      <th>Cr</th>\n",
       "      <th>Mn</th>\n",
       "      <th>Fe</th>\n",
       "      <th>Co</th>\n",
       "      <th>Cu</th>\n",
       "      <th>Zn</th>\n",
       "      <th>As</th>\n",
       "      <th>Se</th>\n",
       "      <th>Cd</th>\n",
       "      <th>Hg</th>\n",
       "      <th>Pb</th>\n",
       "    </tr>\n",
       "  </thead>\n",
       "  <tbody>\n",
       "    <tr>\n",
       "      <th>0</th>\n",
       "      <td>0.69</td>\n",
       "      <td>1.63</td>\n",
       "      <td>105.47</td>\n",
       "      <td>1.27</td>\n",
       "      <td>22.16</td>\n",
       "      <td>82.25</td>\n",
       "      <td>0.43</td>\n",
       "      <td>2.79</td>\n",
       "      <td>0.53</td>\n",
       "      <td>0.55</td>\n",
       "      <td>0.78</td>\n",
       "    </tr>\n",
       "    <tr>\n",
       "      <th>1</th>\n",
       "      <td>0.95</td>\n",
       "      <td>0.49</td>\n",
       "      <td>83.99</td>\n",
       "      <td>2.68</td>\n",
       "      <td>19.82</td>\n",
       "      <td>149.47</td>\n",
       "      <td>0.47</td>\n",
       "      <td>3.99</td>\n",
       "      <td>0.87</td>\n",
       "      <td>0.76</td>\n",
       "      <td>1.18</td>\n",
       "    </tr>\n",
       "    <tr>\n",
       "      <th>2</th>\n",
       "      <td>1.36</td>\n",
       "      <td>0.42</td>\n",
       "      <td>77.85</td>\n",
       "      <td>3.61</td>\n",
       "      <td>17.15</td>\n",
       "      <td>135.34</td>\n",
       "      <td>0.56</td>\n",
       "      <td>4.77</td>\n",
       "      <td>2.17</td>\n",
       "      <td>0.98</td>\n",
       "      <td>0.63</td>\n",
       "    </tr>\n",
       "    <tr>\n",
       "      <th>3</th>\n",
       "      <td>2.37</td>\n",
       "      <td>0.74</td>\n",
       "      <td>90.12</td>\n",
       "      <td>5.13</td>\n",
       "      <td>21.59</td>\n",
       "      <td>81.27</td>\n",
       "      <td>0.61</td>\n",
       "      <td>5.37</td>\n",
       "      <td>3.15</td>\n",
       "      <td>1.24</td>\n",
       "      <td>0.97</td>\n",
       "    </tr>\n",
       "    <tr>\n",
       "      <th>4</th>\n",
       "      <td>0.27</td>\n",
       "      <td>0.35</td>\n",
       "      <td>43.52</td>\n",
       "      <td>3.49</td>\n",
       "      <td>15.19</td>\n",
       "      <td>129.11</td>\n",
       "      <td>0.42</td>\n",
       "      <td>3.21</td>\n",
       "      <td>0.72</td>\n",
       "      <td>0.69</td>\n",
       "      <td>0.58</td>\n",
       "    </tr>\n",
       "    <tr>\n",
       "      <th>5</th>\n",
       "      <td>1.13</td>\n",
       "      <td>0.93</td>\n",
       "      <td>94.58</td>\n",
       "      <td>3.05</td>\n",
       "      <td>28.90</td>\n",
       "      <td>172.53</td>\n",
       "      <td>0.51</td>\n",
       "      <td>4.39</td>\n",
       "      <td>1.76</td>\n",
       "      <td>1.71</td>\n",
       "      <td>0.46</td>\n",
       "    </tr>\n",
       "    <tr>\n",
       "      <th>6</th>\n",
       "      <td>1.02</td>\n",
       "      <td>1.65</td>\n",
       "      <td>114.31</td>\n",
       "      <td>3.52</td>\n",
       "      <td>11.48</td>\n",
       "      <td>161.89</td>\n",
       "      <td>0.52</td>\n",
       "      <td>4.15</td>\n",
       "      <td>2.11</td>\n",
       "      <td>0.93</td>\n",
       "      <td>0.61</td>\n",
       "    </tr>\n",
       "    <tr>\n",
       "      <th>7</th>\n",
       "      <td>1.98</td>\n",
       "      <td>1.78</td>\n",
       "      <td>133.25</td>\n",
       "      <td>4.77</td>\n",
       "      <td>23.95</td>\n",
       "      <td>158.31</td>\n",
       "      <td>0.57</td>\n",
       "      <td>5.10</td>\n",
       "      <td>2.79</td>\n",
       "      <td>1.50</td>\n",
       "      <td>0.78</td>\n",
       "    </tr>\n",
       "  </tbody>\n",
       "</table>\n",
       "</div>"
      ],
      "text/plain": [
       "     Cr    Mn      Fe    Co     Cu      Zn    As    Se    Cd    Hg    Pb\n",
       "0  0.69  1.63  105.47  1.27  22.16   82.25  0.43  2.79  0.53  0.55  0.78\n",
       "1  0.95  0.49   83.99  2.68  19.82  149.47  0.47  3.99  0.87  0.76  1.18\n",
       "2  1.36  0.42   77.85  3.61  17.15  135.34  0.56  4.77  2.17  0.98  0.63\n",
       "3  2.37  0.74   90.12  5.13  21.59   81.27  0.61  5.37  3.15  1.24  0.97\n",
       "4  0.27  0.35   43.52  3.49  15.19  129.11  0.42  3.21  0.72  0.69  0.58\n",
       "5  1.13  0.93   94.58  3.05  28.90  172.53  0.51  4.39  1.76  1.71  0.46\n",
       "6  1.02  1.65  114.31  3.52  11.48  161.89  0.52  4.15  2.11  0.93  0.61\n",
       "7  1.98  1.78  133.25  4.77  23.95  158.31  0.57  5.10  2.79  1.50  0.78"
      ]
     },
     "execution_count": 5,
     "metadata": {},
     "output_type": "execute_result"
    }
   ],
   "source": [
    "df"
   ]
  },
  {
   "cell_type": "code",
   "execution_count": null,
   "id": "77c8c3ed-2186-448f-a0df-b5d8846e296e",
   "metadata": {},
   "outputs": [],
   "source": []
  },
  {
   "cell_type": "code",
   "execution_count": 6,
   "id": "b1a48089-890a-4c46-b0e3-37266feb474f",
   "metadata": {
    "tags": []
   },
   "outputs": [
    {
     "data": {
      "image/png": "[encoded data removed]",
      "text/plain": [
       "<Figure size 1000x1000 with 4 Axes>"
      ]
     },
     "metadata": {},
     "output_type": "display_data"
    }
   ],
   "source": [
    "g = sns.clustermap(df, method=\"ward\", cmap = \"viridis\", tree_kws=dict(linewidths=1.5, colors=(0.2, 0.2, 0.4)))\n",
    "g.ax_heatmap.set_xticklabels(g.ax_heatmap.get_xmajorticklabels(), fontsize = 16)\n",
    "g.ax_heatmap.set_yticklabels(g.ax_heatmap.get_ymajorticklabels(), fontsize = 0)\n",
    "g.ax_cbar.set_position((1, .2, .03, .4))"
   ]
  },
  {
   "cell_type": "code",
   "execution_count": 8,
   "id": "824b0ff6-9e74-49ae-bef8-68d1e4b5a386",
   "metadata": {
    "tags": []
   },
   "outputs": [
    {
     "data": {
      "image/png": "[encoded data removed]",
      "text/plain": [
       "<Figure size 1000x1000 with 4 Axes>"
      ]
     },
     "metadata": {},
     "output_type": "display_data"
    }
   ],
   "source": [
    "import pandas as pd\n",
    "import seaborn as sns\n",
    "import matplotlib.pyplot as plt\n",
    "\n",
    "\n",
    "df = pd.read_csv(\"../R/MetalsRaw.csv\")\n",
    "df = df.drop(columns=\"Unnamed: 0\")\n",
    "\n",
    "g = sns.clustermap(df, method=\"ward\", cmap = \"viridis\", tree_kws=dict(linewidths=1.5, colors=(0.2, 0.2, 0.4)))\n",
    "g.ax_heatmap.set_xticklabels(g.ax_heatmap.get_xmajorticklabels(), fontsize = 16)\n",
    "g.ax_heatmap.set_yticklabels(g.ax_heatmap.get_ymajorticklabels(), fontsize = 0)\n",
    "g.ax_cbar.set_position((1, .2, .03, .4))\n",
    "plt.show()"
   ]
  },
  {
   "cell_type": "code",
   "execution_count": 28,
   "id": "4ab7673e-fde2-4bfe-ab6f-f391ce9ecab5",
   "metadata": {
    "tags": []
   },
   "outputs": [
    {
     "data": {
      "image/png": "[encoded data removed]",
      "text/plain": [
       "<Figure size 1000x1000 with 4 Axes>"
      ]
     },
     "metadata": {},
     "output_type": "display_data"
    }
   ],
   "source": [
    "import pandas as pd\n",
    "import seaborn as sns\n",
    "import matplotlib.pyplot as plt\n",
    "\n",
    "\n",
    "df = pd.read_csv(\"../R/MetalsRaw.csv\")\n",
    "df = df.drop(columns=\"Unnamed: 0\")\n",
    "\n",
    "g = sns.clustermap(df, method=\"ward\", cmap = \"viridis\", tree_kws=dict(linewidths=1.5, colors=(0.2, 0.2, 0.4)))\n",
    "g.ax_heatmap.set_xticklabels(g.ax_heatmap.get_xmajorticklabels(), fontsize = 20)\n",
    "g.ax_heatmap.set_yticklabels(g.ax_heatmap.get_ymajorticklabels(), fontsize = 0)\n",
    "g.ax_cbar.set_position((.13, .71, .03, .255))\n",
    "plt.show()"
   ]
  },
  {
   "cell_type": "code",
   "execution_count": 35,
   "id": "ca6ccb66-0108-412c-94c9-aa742880c9f0",
   "metadata": {
    "tags": []
   },
   "outputs": [
    {
     "data": {
      "image/png": "[encoded data removed]",
      "text/plain": [
       "<Figure size 1000x1000 with 4 Axes>"
      ]
     },
     "metadata": {},
     "output_type": "display_data"
    }
   ],
   "source": [
    "import pandas as pd\n",
    "import seaborn as sns\n",
    "import matplotlib.pyplot as plt\n",
    "\n",
    "\n",
    "df = pd.read_csv(\"../R/MetalsRaw.csv\")\n",
    "df = df.drop(columns=\"Unnamed: 0\")\n",
    "\n",
    "g = sns.clustermap(df, method=\"ward\", cmap = \"viridis\", tree_kws=dict(linewidths=1.5, colors=(0.2, 0.2, 0.4)))\n",
    "g.ax_heatmap.set_xticklabels(g.ax_heatmap.get_xmajorticklabels(), fontsize = 20)\n",
    "g.ax_heatmap.set_yticklabels(g.ax_heatmap.get_ymajorticklabels(), fontsize = 0)\n",
    "g.ax_cbar.set_position((.11, .31, .03, .255))\n",
    "plt.show()"
   ]
  },
  {
   "cell_type": "code",
   "execution_count": null,
   "id": "c7397c0d-4f63-4bfc-a3a1-646858d89af0",
   "metadata": {},
   "outputs": [],
   "source": []
  },
  {
   "cell_type": "code",
   "execution_count": null,
   "id": "bb6e4b69-7797-4439-96cb-b8252aa9cb0d",
   "metadata": {},
   "outputs": [],
   "source": []
  },
  {
   "cell_type": "code",
   "execution_count": null,
   "id": "76afcb85-1355-4bce-a0e1-a1a8c1b47598",
   "metadata": {},
   "outputs": [],
   "source": []
  },
  {
   "cell_type": "code",
   "execution_count": null,
   "id": "6da71b86-9833-4cb1-9909-7c9bacc1e955",
   "metadata": {},
   "outputs": [],
   "source": []
  },
  {
   "cell_type": "code",
   "execution_count": null,
   "id": "554d557f-1f83-474d-aebb-dc4f1d4ece34",
   "metadata": {},
   "outputs": [],
   "source": []
  },
  {
   "cell_type": "code",
   "execution_count": null,
   "id": "2add244c-2b6b-4655-bc5f-35721c9d1c84",
   "metadata": {},
   "outputs": [],
   "source": []
  },
  {
   "cell_type": "code",
   "execution_count": null,
   "id": "60df659f-e5b4-479a-87e4-437e3ebb2fa0",
   "metadata": {},
   "outputs": [],
   "source": []
  }
 ],
 "metadata": {
  "kernelspec": {
   "display_name": "Python 3 (ipykernel)",
   "language": "python",
   "name": "python3"
  },
  "language_info": {
   "codemirror_mode": {
    "name": "ipython",
    "version": 3
   },
   "file_extension": ".py",
   "mimetype": "text/x-python",
   "name": "python",
   "nbconvert_exporter": "python",
   "pygments_lexer": "ipython3",
   "version": "3.9.12"
  }
 },
 "nbformat": 4,
 "nbformat_minor": 5
}
