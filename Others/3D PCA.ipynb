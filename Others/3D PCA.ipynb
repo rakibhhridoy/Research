{
 "cells": [
  {
   "cell_type": "code",
   "execution_count": null,
   "id": "44f4efed-01db-4d15-a3c7-0064d3b96726",
   "metadata": {},
   "outputs": [],
   "source": [
    "from sklearn.cluster import KMeans\n",
    "import numpy as np\n",
    "import matplotlib.pyplot as plt\n",
    "from mpl_toolkits.mplot3d import Axes3D\n",
    "from sklearn.cluster import KMeans\n",
    "import pandas as pd\n",
    "\n",
    "fa = pd.read_csv(\"../Buriganga/Factor_Analysis_All_Param.csv\")\n",
    "fw = pd.DataFrame(data={\n",
    "    \"F1\": fa[\"Factor 1 W\"],\n",
    "    \"F2\": fa[\"Factor 2 W\"],\n",
    "    \"F3\": fa[\"Factor 3 W\"],\n",
    "    \n",
    "})\n",
    "fs = pd.DataFrame(data={\n",
    "    \"F1\": fa[\"Factor 1 S\"],\n",
    "    \"F2\": fa[\"Factor 2 S\"],\n",
    "    \"F3\": fa[\"Factor 3 S\"],\n",
    "    \n",
    "})\n",
    "\n",
    "\n",
    "X = fs.values\n",
    "\n",
    "kmeans = KMeans(n_clusters=5)\n",
    "# Fitting with inputs\n",
    "kmeans = kmeans.fit(X)\n",
    "# Predicting the clusters\n",
    "labelsC = kmeans.predict(X)\n",
    "# Getting the cluster centers\n",
    "C = kmeans.cluster_centers_\n",
    "\n",
    "fig = plt.figure()\n",
    "\n",
    "ax3d = plt.figure().gca(projection='3d')\n",
    "\n",
    "ax3d.scatter(X[:, 0], X[:, 1], X[:, 2], c=y, s= 30)\n",
    "ax3d.scatter(C[:, 0], C[:, 1], C[:, 2], marker='*', c='#050505', s=200)\n",
    "\n",
    "ax3d.set_xlabel(\"F1 (%)\")\n",
    "ax3d.set_ylabel(\"F2 (%)\")\n",
    "ax3d.set_zlabel(\"F3 (%)\")\n",
    "plt.show()"
   ]
  },
  {
   "cell_type": "code",
   "execution_count": 11,
   "id": "478646a4-10c5-4c35-8b27-7ca002374034",
   "metadata": {},
   "outputs": [],
   "source": [
    "from sklearn.cluster import KMeans\n",
    "import numpy as np\n",
    "import matplotlib.pyplot as plt\n",
    "from mpl_toolkits.mplot3d import Axes3D\n",
    "from sklearn.cluster import KMeans\n",
    "import pandas as pd\n",
    "from sklearn import preprocessing"
   ]
  },
  {
   "cell_type": "code",
   "execution_count": 3,
   "id": "d8c37147-9ccb-4307-8615-19575bc8f0e6",
   "metadata": {},
   "outputs": [
    {
     "data": {
      "text/html": [
       "<div>\n",
       "<style scoped>\n",
       "    .dataframe tbody tr th:only-of-type {\n",
       "        vertical-align: middle;\n",
       "    }\n",
       "\n",
       "    .dataframe tbody tr th {\n",
       "        vertical-align: top;\n",
       "    }\n",
       "\n",
       "    .dataframe thead th {\n",
       "        text-align: right;\n",
       "    }\n",
       "</style>\n",
       "<table border=\"1\" class=\"dataframe\">\n",
       "  <thead>\n",
       "    <tr style=\"text-align: right;\">\n",
       "      <th></th>\n",
       "      <th>Unnamed: 0</th>\n",
       "      <th>Dim.1</th>\n",
       "      <th>Dim.2</th>\n",
       "      <th>Dim.3</th>\n",
       "    </tr>\n",
       "  </thead>\n",
       "  <tbody>\n",
       "    <tr>\n",
       "      <th>0</th>\n",
       "      <td>Cr</td>\n",
       "      <td>0.156805</td>\n",
       "      <td>-0.030862</td>\n",
       "      <td>0.704458</td>\n",
       "    </tr>\n",
       "    <tr>\n",
       "      <th>1</th>\n",
       "      <td>Mn</td>\n",
       "      <td>0.835709</td>\n",
       "      <td>-0.286828</td>\n",
       "      <td>0.329592</td>\n",
       "    </tr>\n",
       "    <tr>\n",
       "      <th>2</th>\n",
       "      <td>Fe</td>\n",
       "      <td>0.196461</td>\n",
       "      <td>-0.143450</td>\n",
       "      <td>-0.864808</td>\n",
       "    </tr>\n",
       "    <tr>\n",
       "      <th>3</th>\n",
       "      <td>Co</td>\n",
       "      <td>0.815891</td>\n",
       "      <td>0.420470</td>\n",
       "      <td>-0.079338</td>\n",
       "    </tr>\n",
       "    <tr>\n",
       "      <th>4</th>\n",
       "      <td>Ni</td>\n",
       "      <td>-0.856682</td>\n",
       "      <td>-0.062119</td>\n",
       "      <td>0.176670</td>\n",
       "    </tr>\n",
       "    <tr>\n",
       "      <th>5</th>\n",
       "      <td>Cu</td>\n",
       "      <td>-0.280566</td>\n",
       "      <td>0.847536</td>\n",
       "      <td>0.434005</td>\n",
       "    </tr>\n",
       "    <tr>\n",
       "      <th>6</th>\n",
       "      <td>Zn</td>\n",
       "      <td>-0.970832</td>\n",
       "      <td>-0.154492</td>\n",
       "      <td>0.042114</td>\n",
       "    </tr>\n",
       "    <tr>\n",
       "      <th>7</th>\n",
       "      <td>Cd</td>\n",
       "      <td>0.185414</td>\n",
       "      <td>0.938135</td>\n",
       "      <td>-0.236724</td>\n",
       "    </tr>\n",
       "    <tr>\n",
       "      <th>8</th>\n",
       "      <td>Pb</td>\n",
       "      <td>0.649528</td>\n",
       "      <td>-0.322830</td>\n",
       "      <td>0.318109</td>\n",
       "    </tr>\n",
       "  </tbody>\n",
       "</table>\n",
       "</div>"
      ],
      "text/plain": [
       "  Unnamed: 0     Dim.1     Dim.2     Dim.3\n",
       "0         Cr  0.156805 -0.030862  0.704458\n",
       "1         Mn  0.835709 -0.286828  0.329592\n",
       "2         Fe  0.196461 -0.143450 -0.864808\n",
       "3         Co  0.815891  0.420470 -0.079338\n",
       "4         Ni -0.856682 -0.062119  0.176670\n",
       "5         Cu -0.280566  0.847536  0.434005\n",
       "6         Zn -0.970832 -0.154492  0.042114\n",
       "7         Cd  0.185414  0.938135 -0.236724\n",
       "8         Pb  0.649528 -0.322830  0.318109"
      ]
     },
     "execution_count": 3,
     "metadata": {},
     "output_type": "execute_result"
    }
   ],
   "source": [
    "fa = pd.read_csv(\"18-08-23/pca.csv\")\n",
    "fa"
   ]
  },
  {
   "cell_type": "code",
   "execution_count": 5,
   "id": "f7537e43-47f4-4cc4-8f77-ac787436e022",
   "metadata": {},
   "outputs": [],
   "source": [
    "fa.columns = ['Param', 'PC1', 'PC2', 'PC3']"
   ]
  },
  {
   "cell_type": "code",
   "execution_count": 6,
   "id": "e3ba6afa-ff9f-4cfe-b008-c0ee59ad86b2",
   "metadata": {},
   "outputs": [
    {
     "data": {
      "text/html": [
       "<div>\n",
       "<style scoped>\n",
       "    .dataframe tbody tr th:only-of-type {\n",
       "        vertical-align: middle;\n",
       "    }\n",
       "\n",
       "    .dataframe tbody tr th {\n",
       "        vertical-align: top;\n",
       "    }\n",
       "\n",
       "    .dataframe thead th {\n",
       "        text-align: right;\n",
       "    }\n",
       "</style>\n",
       "<table border=\"1\" class=\"dataframe\">\n",
       "  <thead>\n",
       "    <tr style=\"text-align: right;\">\n",
       "      <th></th>\n",
       "      <th>Param</th>\n",
       "      <th>PC1</th>\n",
       "      <th>PC2</th>\n",
       "      <th>PC3</th>\n",
       "    </tr>\n",
       "  </thead>\n",
       "  <tbody>\n",
       "    <tr>\n",
       "      <th>0</th>\n",
       "      <td>Cr</td>\n",
       "      <td>0.156805</td>\n",
       "      <td>-0.030862</td>\n",
       "      <td>0.704458</td>\n",
       "    </tr>\n",
       "    <tr>\n",
       "      <th>1</th>\n",
       "      <td>Mn</td>\n",
       "      <td>0.835709</td>\n",
       "      <td>-0.286828</td>\n",
       "      <td>0.329592</td>\n",
       "    </tr>\n",
       "    <tr>\n",
       "      <th>2</th>\n",
       "      <td>Fe</td>\n",
       "      <td>0.196461</td>\n",
       "      <td>-0.143450</td>\n",
       "      <td>-0.864808</td>\n",
       "    </tr>\n",
       "    <tr>\n",
       "      <th>3</th>\n",
       "      <td>Co</td>\n",
       "      <td>0.815891</td>\n",
       "      <td>0.420470</td>\n",
       "      <td>-0.079338</td>\n",
       "    </tr>\n",
       "    <tr>\n",
       "      <th>4</th>\n",
       "      <td>Ni</td>\n",
       "      <td>-0.856682</td>\n",
       "      <td>-0.062119</td>\n",
       "      <td>0.176670</td>\n",
       "    </tr>\n",
       "    <tr>\n",
       "      <th>5</th>\n",
       "      <td>Cu</td>\n",
       "      <td>-0.280566</td>\n",
       "      <td>0.847536</td>\n",
       "      <td>0.434005</td>\n",
       "    </tr>\n",
       "    <tr>\n",
       "      <th>6</th>\n",
       "      <td>Zn</td>\n",
       "      <td>-0.970832</td>\n",
       "      <td>-0.154492</td>\n",
       "      <td>0.042114</td>\n",
       "    </tr>\n",
       "    <tr>\n",
       "      <th>7</th>\n",
       "      <td>Cd</td>\n",
       "      <td>0.185414</td>\n",
       "      <td>0.938135</td>\n",
       "      <td>-0.236724</td>\n",
       "    </tr>\n",
       "    <tr>\n",
       "      <th>8</th>\n",
       "      <td>Pb</td>\n",
       "      <td>0.649528</td>\n",
       "      <td>-0.322830</td>\n",
       "      <td>0.318109</td>\n",
       "    </tr>\n",
       "  </tbody>\n",
       "</table>\n",
       "</div>"
      ],
      "text/plain": [
       "  Param       PC1       PC2       PC3\n",
       "0    Cr  0.156805 -0.030862  0.704458\n",
       "1    Mn  0.835709 -0.286828  0.329592\n",
       "2    Fe  0.196461 -0.143450 -0.864808\n",
       "3    Co  0.815891  0.420470 -0.079338\n",
       "4    Ni -0.856682 -0.062119  0.176670\n",
       "5    Cu -0.280566  0.847536  0.434005\n",
       "6    Zn -0.970832 -0.154492  0.042114\n",
       "7    Cd  0.185414  0.938135 -0.236724\n",
       "8    Pb  0.649528 -0.322830  0.318109"
      ]
     },
     "execution_count": 6,
     "metadata": {},
     "output_type": "execute_result"
    }
   ],
   "source": [
    "fa"
   ]
  },
  {
   "cell_type": "code",
   "execution_count": 7,
   "id": "1a13197b-db25-4c54-8bce-74e1708d080d",
   "metadata": {},
   "outputs": [
    {
     "data": {
      "text/plain": [
       "array([['Cr', 0.156805341214705, -0.0308616889468035, 0.704458009152662],\n",
       "       ['Mn', 0.835709392768427, -0.286827773592393, 0.329592004185104],\n",
       "       ['Fe', 0.196461422229942, -0.143449860791539, -0.864808417505706],\n",
       "       ['Co', 0.815891393526104, 0.420470083848817, -0.0793375112268421],\n",
       "       ['Ni', -0.856682337864727, -0.0621190433063912, 0.17666957267583],\n",
       "       ['Cu', -0.280566062816828, 0.847535877936326, 0.434005091359235],\n",
       "       ['Zn', -0.970831568314622, -0.154492441571844, 0.0421141882233274],\n",
       "       ['Cd', 0.185413680400911, 0.938134872916484, -0.236724416947906],\n",
       "       ['Pb', 0.64952807783598, -0.322830198862778, 0.318109270701748]],\n",
       "      dtype=object)"
      ]
     },
     "execution_count": 7,
     "metadata": {},
     "output_type": "execute_result"
    }
   ],
   "source": [
    "X = fa.values\n",
    "X"
   ]
  },
  {
   "cell_type": "code",
   "execution_count": 9,
   "id": "cd4fbac4-ffea-46f4-9a21-f89d3216e744",
   "metadata": {},
   "outputs": [],
   "source": [
    "arrayx = np.array([fa[\"PC1\"]])\n",
    "arrayy = np.array([fa[\"PC2\"]])\n",
    "arrayz = np.array([fa[\"PC3\"]])\n",
    "\n",
    "arrayx = arrayx.flatten()\n",
    "arrayy = arrayy.flatten()\n",
    "arrayz = arrayz.flatten()"
   ]
  },
  {
   "cell_type": "code",
   "execution_count": 12,
   "id": "ae384759-2aa3-4833-a2f8-6842c1516df2",
   "metadata": {},
   "outputs": [],
   "source": [
    "x = preprocessing.normalize([arrayx])\n",
    "y = preprocessing.normalize([arrayy])\n",
    "z = preprocessing.normalize([arrayz])\n",
    "labels = list(fa[\"Param\"])"
   ]
  },
  {
   "cell_type": "code",
   "execution_count": 16,
   "id": "1809c902-a79e-4567-93ee-668292594eab",
   "metadata": {},
   "outputs": [],
   "source": [
    "x_reshape = x.reshape(9,)\n",
    "y_reshape = y.reshape(9,)\n",
    "z_reshape = z.reshape(9,)"
   ]
  },
  {
   "cell_type": "code",
   "execution_count": 18,
   "id": "d10641fa-35cc-499b-80ff-bf5a36209eea",
   "metadata": {},
   "outputs": [
    {
     "name": "stderr",
     "output_type": "stream",
     "text": [
      "/tmp/ipykernel_4182/3978664573.py:1: MatplotlibDeprecationWarning: Calling gca() with keyword arguments was deprecated in Matplotlib 3.4. Starting two minor releases later, gca() will take no keyword arguments. The gca() function should only be used to get the current axes, or if no axes exist, create new axes with default keyword arguments. To create a new axes with non-default arguments, use plt.axes() or plt.subplot().\n",
      "  ax3d = plt.figure().gca(projection='3d')\n"
     ]
    },
    {
     "data": {
      "image/png": "[encoded data removed]",
      "text/plain": [
       "<Figure size 432x288 with 1 Axes>"
      ]
     },
     "metadata": {
      "needs_background": "light"
     },
     "output_type": "display_data"
    }
   ],
   "source": [
    "ax3d = plt.figure().gca(projection='3d')\n",
    "\n",
    "ax3d.scatter(x_reshape, y_reshape, z_reshape, c=\"red\", s= 1)\n",
    "\n",
    "for x_label, y_label, z_label, label in zip(x_reshape, y_reshape, z_reshape, labels):\n",
    "    ax3d.text(x_label, y_label, z_label, label, size=12)\n",
    "\n",
    "ax3d.set_xlabel(\"PC1 (40.43%)\", size = 15)\n",
    "ax3d.set_ylabel(\"PC2 (22.34%)\", size = 15)\n",
    "ax3d.set_zlabel(\"PC3 (19.31%)\", size = 15)\n",
    "plt.show()"
   ]
  },
  {
   "cell_type": "code",
   "execution_count": 19,
   "id": "2a9bbe88-2a49-4d6b-8314-9898cd1c1a52",
   "metadata": {},
   "outputs": [
    {
     "name": "stderr",
     "output_type": "stream",
     "text": [
      "/tmp/ipykernel_4182/1536392733.py:26: MatplotlibDeprecationWarning: Calling gca() with keyword arguments was deprecated in Matplotlib 3.4. Starting two minor releases later, gca() will take no keyword arguments. The gca() function should only be used to get the current axes, or if no axes exist, create new axes with default keyword arguments. To create a new axes with non-default arguments, use plt.axes() or plt.subplot().\n",
      "  ax3d = plt.figure().gca(projection='3d')\n"
     ]
    },
    {
     "data": {
      "image/png": "[encoded data removed]",
      "text/plain": [
       "<Figure size 432x288 with 1 Axes>"
      ]
     },
     "metadata": {
      "needs_background": "light"
     },
     "output_type": "display_data"
    }
   ],
   "source": [
    "import pandas as pd\n",
    "import numpy as np\n",
    "import matplotlib.pyplot as plt\n",
    "from sklearn import preprocessing\n",
    "\n",
    "fa = pd.read_csv(\"18-08-23/pca.csv\")\n",
    "fa.columns = ['Param', 'PC1', 'PC2', 'PC3']\n",
    "\n",
    "arrayx = np.array([fa[\"PC1\"]])\n",
    "arrayy = np.array([fa[\"PC2\"]])\n",
    "arrayz = np.array([fa[\"PC3\"]])\n",
    "\n",
    "arrayx = arrayx.flatten()\n",
    "arrayy = arrayy.flatten()\n",
    "arrayz = arrayz.flatten()\n",
    "\n",
    "x = preprocessing.normalize([arrayx])\n",
    "y = preprocessing.normalize([arrayy])\n",
    "z = preprocessing.normalize([arrayz])\n",
    "labels = list(fa[\"Param\"])\n",
    "\n",
    "x_reshape = x.reshape(9,)\n",
    "y_reshape = y.reshape(9,)\n",
    "z_reshape = z.reshape(9,)\n",
    "\n",
    "ax3d = plt.figure().gca(projection='3d')\n",
    "\n",
    "ax3d.scatter(x_reshape, y_reshape, z_reshape, c=\"red\", s= 1)\n",
    "\n",
    "for x_label, y_label, z_label, label in zip(x_reshape, y_reshape, z_reshape, labels):\n",
    "    ax3d.text(x_label, y_label, z_label, label, size=12)\n",
    "\n",
    "ax3d.set_xlabel(\"PC1 (40.43%)\", size = 15)\n",
    "ax3d.set_ylabel(\"PC2 (22.34%)\", size = 15)\n",
    "ax3d.set_zlabel(\"PC3 (19.31%)\", size = 15)\n",
    "plt.show()"
   ]
  },
  {
   "cell_type": "code",
   "execution_count": null,
   "id": "2e800c28-2782-411f-9113-363f34bf882d",
   "metadata": {},
   "outputs": [],
   "source": []
  },
  {
   "cell_type": "code",
   "execution_count": null,
   "id": "afdb82f0-104e-433f-9423-b81687b268cb",
   "metadata": {},
   "outputs": [],
   "source": []
  },
  {
   "cell_type": "code",
   "execution_count": null,
   "id": "6b18e0ee-9324-4969-ac42-1e2d23e2181c",
   "metadata": {},
   "outputs": [],
   "source": []
  },
  {
   "cell_type": "code",
   "execution_count": null,
   "id": "9a6682d4-5669-447d-b1e8-ebcbd0f4bf75",
   "metadata": {},
   "outputs": [],
   "source": []
  },
  {
   "cell_type": "code",
   "execution_count": 8,
   "id": "f7747709-3413-46d4-8876-8c4b51f7cebe",
   "metadata": {},
   "outputs": [
    {
     "name": "stderr",
     "output_type": "stream",
     "text": [
      "/tmp/ipykernel_4182/225599435.py:3: MatplotlibDeprecationWarning: Calling gca() with keyword arguments was deprecated in Matplotlib 3.4. Starting two minor releases later, gca() will take no keyword arguments. The gca() function should only be used to get the current axes, or if no axes exist, create new axes with default keyword arguments. To create a new axes with non-default arguments, use plt.axes() or plt.subplot().\n",
      "  ax3d = plt.figure().gca(projection='3d')\n"
     ]
    },
    {
     "ename": "NameError",
     "evalue": "name 'y' is not defined",
     "output_type": "error",
     "traceback": [
      "\u001b[0;31m---------------------------------------------------------------------------\u001b[0m",
      "\u001b[0;31mNameError\u001b[0m                                 Traceback (most recent call last)",
      "Input \u001b[0;32mIn [8]\u001b[0m, in \u001b[0;36m<cell line: 5>\u001b[0;34m()\u001b[0m\n\u001b[1;32m      1\u001b[0m fig \u001b[38;5;241m=\u001b[39m plt\u001b[38;5;241m.\u001b[39mfigure()\n\u001b[1;32m      3\u001b[0m ax3d \u001b[38;5;241m=\u001b[39m plt\u001b[38;5;241m.\u001b[39mfigure()\u001b[38;5;241m.\u001b[39mgca(projection\u001b[38;5;241m=\u001b[39m\u001b[38;5;124m'\u001b[39m\u001b[38;5;124m3d\u001b[39m\u001b[38;5;124m'\u001b[39m)\n\u001b[0;32m----> 5\u001b[0m ax3d\u001b[38;5;241m.\u001b[39mscatter(X[:, \u001b[38;5;241m0\u001b[39m], X[:, \u001b[38;5;241m1\u001b[39m], X[:, \u001b[38;5;241m2\u001b[39m], c\u001b[38;5;241m=\u001b[39m\u001b[43my\u001b[49m, s\u001b[38;5;241m=\u001b[39m \u001b[38;5;241m30\u001b[39m)\n\u001b[1;32m      6\u001b[0m ax3d\u001b[38;5;241m.\u001b[39mscatter(C[:, \u001b[38;5;241m0\u001b[39m], C[:, \u001b[38;5;241m1\u001b[39m], C[:, \u001b[38;5;241m2\u001b[39m], marker\u001b[38;5;241m=\u001b[39m\u001b[38;5;124m'\u001b[39m\u001b[38;5;124m*\u001b[39m\u001b[38;5;124m'\u001b[39m, c\u001b[38;5;241m=\u001b[39m\u001b[38;5;124m'\u001b[39m\u001b[38;5;124m#050505\u001b[39m\u001b[38;5;124m'\u001b[39m, s\u001b[38;5;241m=\u001b[39m\u001b[38;5;241m200\u001b[39m)\n\u001b[1;32m      8\u001b[0m ax3d\u001b[38;5;241m.\u001b[39mset_xlabel(\u001b[38;5;124m\"\u001b[39m\u001b[38;5;124mPC1 (\u001b[39m\u001b[38;5;124m%\u001b[39m\u001b[38;5;124m)\u001b[39m\u001b[38;5;124m\"\u001b[39m)\n",
      "\u001b[0;31mNameError\u001b[0m: name 'y' is not defined"
     ]
    },
    {
     "data": {
      "text/plain": [
       "<Figure size 432x288 with 0 Axes>"
      ]
     },
     "metadata": {},
     "output_type": "display_data"
    },
    {
     "data": {
      "image/png": "[encoded data removed]",
      "text/plain": [
       "<Figure size 432x288 with 1 Axes>"
      ]
     },
     "metadata": {
      "needs_background": "light"
     },
     "output_type": "display_data"
    }
   ],
   "source": [
    "fig = plt.figure()\n",
    "\n",
    "ax3d = plt.figure().gca(projection='3d')\n",
    "\n",
    "ax3d.scatter(X[:, 0], X[:, 1], X[:, 2], c=y, s= 30)\n",
    "ax3d.scatter(C[:, 0], C[:, 1], C[:, 2], marker='*', c='#050505', s=200)\n",
    "\n",
    "ax3d.set_xlabel(\"PC1 (%)\")\n",
    "ax3d.set_ylabel(\"PC2 (%)\")\n",
    "ax3d.set_zlabel(\"PC3 (%)\")\n",
    "plt.show()"
   ]
  },
  {
   "cell_type": "code",
   "execution_count": null,
   "id": "5f6cd156-da7a-47b0-8057-d4e510823344",
   "metadata": {},
   "outputs": [],
   "source": []
  },
  {
   "cell_type": "code",
   "execution_count": null,
   "id": "ba0c7e12-a7e8-40e7-b3be-8d6ba030cf91",
   "metadata": {},
   "outputs": [],
   "source": []
  },
  {
   "cell_type": "code",
   "execution_count": null,
   "id": "f4ff9132-3ac1-4c7a-bc36-fe7c0be3b8d9",
   "metadata": {},
   "outputs": [],
   "source": []
  },
  {
   "cell_type": "code",
   "execution_count": null,
   "id": "c880d323-16a7-46fd-9139-57efbdd8848c",
   "metadata": {},
   "outputs": [],
   "source": []
  },
  {
   "cell_type": "code",
   "execution_count": null,
   "id": "d5f32c34-82d9-46a6-99c7-dbfbd43af37a",
   "metadata": {},
   "outputs": [],
   "source": []
  },
  {
   "cell_type": "code",
   "execution_count": null,
   "id": "5b6b31dd-07c1-49f6-8f56-355d52c7bad2",
   "metadata": {},
   "outputs": [],
   "source": []
  },
  {
   "cell_type": "code",
   "execution_count": null,
   "id": "72dd701e-3ff5-4430-91d3-283240bf99db",
   "metadata": {},
   "outputs": [],
   "source": []
  },
  {
   "cell_type": "code",
   "execution_count": null,
   "id": "430bdcbc-3dbf-4896-a203-fca7fa576cd8",
   "metadata": {},
   "outputs": [],
   "source": []
  },
  {
   "cell_type": "code",
   "execution_count": null,
   "id": "e0c8a6cd-a924-432f-9cdf-c3195a2cd591",
   "metadata": {},
   "outputs": [],
   "source": []
  },
  {
   "cell_type": "code",
   "execution_count": null,
   "id": "647ecaa8-f46e-48bb-b61d-aeaaeb2117f1",
   "metadata": {},
   "outputs": [],
   "source": []
  },
  {
   "cell_type": "code",
   "execution_count": null,
   "id": "0a12b8c0-0650-4cee-a177-1afdf44618cd",
   "metadata": {},
   "outputs": [],
   "source": []
  },
  {
   "cell_type": "code",
   "execution_count": null,
   "id": "7c723bec-5895-41cc-acaa-c5b2defe9b90",
   "metadata": {},
   "outputs": [],
   "source": []
  },
  {
   "cell_type": "code",
   "execution_count": null,
   "id": "02cba7ef-6d08-4387-a1a2-b59bb88a98c6",
   "metadata": {},
   "outputs": [],
   "source": []
  },
  {
   "cell_type": "code",
   "execution_count": null,
   "id": "9f7a8848-3a71-4029-9301-e2067d43f13d",
   "metadata": {},
   "outputs": [],
   "source": []
  }
 ],
 "metadata": {
  "kernelspec": {
   "display_name": "Python 3 (ipykernel)",
   "language": "python",
   "name": "python3"
  },
  "language_info": {
   "codemirror_mode": {
    "name": "ipython",
    "version": 3
   },
   "file_extension": ".py",
   "mimetype": "text/x-python",
   "name": "python",
   "nbconvert_exporter": "python",
   "pygments_lexer": "ipython3",
   "version": "3.9.12"
  }
 },
 "nbformat": 4,
 "nbformat_minor": 5
}
