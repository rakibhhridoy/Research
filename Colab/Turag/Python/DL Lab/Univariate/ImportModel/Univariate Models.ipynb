{
 "cells": [
  {
   "cell_type": "code",
   "execution_count": 11,
   "id": "feda8466-146c-4d8c-b690-c42d0c4e978c",
   "metadata": {},
   "outputs": [],
   "source": [
    "import pandas as pd\n",
    "import numpy as np\n",
    "import matplotlib.pyplot as plt\n",
    "import tensorflow as tf\n",
    "from tensorflow.keras.models import Sequential\n",
    "from tensorflow.keras.layers import Conv1D, MaxPooling1D, Flatten, Dense\n",
    "from tensorflow.keras.layers import Conv1D\n",
    "from tensorflow.keras.models import Sequential\n",
    "from tensorflow.keras.layers import *\n",
    "from tensorflow.keras.callbacks import ModelCheckpoint\n",
    "from tensorflow.keras.losses import MeanSquaredError\n",
    "from tensorflow.keras.metrics import RootMeanSquaredError\n",
    "from tensorflow.keras.optimizers import Adam\n",
    "from sklearn.model_selection import train_test_split\n",
    "from tensorflow.keras.models import load_model\n",
    "from sklearn.metrics import mean_squared_error as mse\n",
    "from sklearn.metrics import mean_absolute_error as mae\n",
    "from sklearn.metrics import r2_score as r2\n",
    "from tensorflow import keras\n",
    "from keras import layers"
   ]
  },
  {
   "cell_type": "markdown",
   "id": "06e650e1-1607-4351-a301-6296adc049b7",
   "metadata": {
    "tags": []
   },
   "source": [
    "## Functions"
   ]
  },
  {
   "cell_type": "code",
   "execution_count": 25,
   "id": "b4a10d86-72a2-4269-8410-32caf1922980",
   "metadata": {},
   "outputs": [],
   "source": [
    "def df_to_X_y(df, window_size=5):\n",
    "    df_as_np = df.to_numpy()\n",
    "    X = []\n",
    "    y = []\n",
    "    for i in range(len(df_as_np)-window_size):\n",
    "        row = [[a] for a in df_as_np[i:i+window_size]]\n",
    "        X.append(row)\n",
    "        label = df_as_np[i+window_size]\n",
    "        y.append(label)\n",
    "    return np.array(X), np.array(y)\n",
    "\n",
    "\n",
    "def load_data(file):\n",
    "    df = pd.read_csv(file)\n",
    "    df.drop(columns=\"Unnamed: 0\", inplace= True)\n",
    "    df = df.set_index(\"Date\")\n",
    "    return df\n",
    "\n",
    "def fit_model(model, cp, epochs, xt, yt, xv, yv):\n",
    "    model.compile(loss=MeanSquaredError(), optimizer=Adam(learning_rate=0.0001), metrics=[RootMeanSquaredError()])\n",
    "    model.fit(xt, yt, validation_data=(xv, yv), epochs=epochs, callbacks=[cp])\n",
    "    return model\n",
    "\n",
    "def plot_val(model,Nsample, xv, yv):\n",
    "    val_predictions = model.predict(xv).flatten()\n",
    "    val_results = pd.DataFrame(data={'Val Predictions':val_predictions, 'Actuals':yv})\n",
    "    plt.plot(val_results['Val Predictions'][:Nsample])\n",
    "    plt.plot(val_results['Actuals'][:Nsample])\n",
    "    plt.title(\"Validation\")\n",
    "    plt.show()\n",
    "    \n",
    "def plot_test(model, Nsample, xtt, ytt):\n",
    "    test_predictions = model.predict(xtt).flatten()\n",
    "    test_results = pd.DataFrame(data={'Test Predictions':test_predictions, 'Actuals':ytt})\n",
    "    plt.plot(test_results['Test Predictions'][:Nsample])\n",
    "    plt.plot(test_results['Actuals'][:Nsample])\n",
    "    plt.title(\"Test\")\n",
    "    plt.show()\n",
    "    \n",
    "def plot_predictions1(model, X, y, start=0, end=100):\n",
    "    prediction = model.predict(X).flatten()\n",
    "    df = pd.DataFrame(data={'Predictions':prediction, 'Actuals':y})\n",
    "    plt.plot(df['Predictions'][start:end])\n",
    "    plt.plot(df['Actuals'][start:end])\n",
    "    plt.title(\"Predictions\")\n",
    "    plt.show()\n",
    "    mse_v = mse(y, prediction)\n",
    "    mae_v = mae(y, prediction)\n",
    "    r2_v = r2(y, prediction)\n",
    "\n",
    "    return mse_v, mae_v, r2_v\n",
    "\n",
    "\n",
    "def plot_train(modelname, Nsample, xt, yt):\n",
    "    model = load_model(modelname)\n",
    "    train_predictions = model.predict(xt).flatten()\n",
    "    train_results = pd.DataFrame(data={'Train Predictions': train_predictions, 'Actuals':yt})\n",
    "    plt.plot(train_results['Train Predictions'][:Nsample])\n",
    "    plt.plot(train_results['Actuals'][:Nsample])\n",
    "    plt.title(\"Train\")\n",
    "    plt.show()\n",
    "    \n",
    "def load_data_model():\n",
    "    x_train = np.load(\"x_train.npy\")\n",
    "    y_train = np.load(\"y_train.npy\")\n",
    "    x_test = np.load(\"x_test.npy\")\n",
    "    y_test = np.load(\"y_test.npy\")\n",
    "    x_val = np.load(\"x_val.npy\")\n",
    "    y_val = np.load(\"y_val.npy\")\n",
    "    \n",
    "    return x_train, y_train, x_test, y_test, x_val, y_val"
   ]
  },
  {
   "cell_type": "markdown",
   "id": "58d212c7-1b1d-4424-8ab5-3440e42d12b2",
   "metadata": {},
   "source": [
    "## Import Data"
   ]
  },
  {
   "cell_type": "code",
   "execution_count": 26,
   "id": "763fdca5-847e-4c29-a555-dedd406c07d3",
   "metadata": {},
   "outputs": [],
   "source": [
    "df = pd.read_csv(\"../data/LocationB.csv\")\n",
    "\n",
    "df.drop(columns=[\"Unnamed: 0\", \"Date\"], inplace=True)\n",
    "\n",
    "WINDOW_SIZE = 3\n",
    "ECB = df[\"ECB\"]\n",
    "\n",
    "X1, y1 = df_to_X_y(ECB, WINDOW_SIZE)\n",
    "x_train, x_test, y_train, y_test = train_test_split(X1, y1, test_size=0.2, random_state=1)\n",
    "x_train, x_val, y_train, y_val = train_test_split(x_train, y_train, test_size=0.2, random_state=1)"
   ]
  },
  {
   "cell_type": "markdown",
   "id": "ecb286a5-3415-40e9-a22c-de8cf8bf8ff4",
   "metadata": {},
   "source": [
    "x_train, y_train, x_test, y_test, x_val, y_val = load_data_model()"
   ]
  },
  {
   "cell_type": "code",
   "execution_count": 27,
   "id": "c98c899c-d283-42c9-a4b6-add5739ed91e",
   "metadata": {},
   "outputs": [
    {
     "data": {
      "text/plain": [
       "(array([[1638],\n",
       "        [1619],\n",
       "        [1646]]),\n",
       " 1640)"
      ]
     },
     "execution_count": 27,
     "metadata": {},
     "output_type": "execute_result"
    }
   ],
   "source": [
    "x_train[0], y_train[0]"
   ]
  },
  {
   "cell_type": "markdown",
   "id": "d55b5e51-9002-4f2e-ac6a-9a38d3b804bb",
   "metadata": {},
   "source": [
    "# DO"
   ]
  },
  {
   "cell_type": "markdown",
   "id": "4c04e19f-fe09-4c17-bd20-21a723fd9b1c",
   "metadata": {},
   "source": [
    "### DOA"
   ]
  },
  {
   "cell_type": "code",
   "execution_count": null,
   "id": "363bf9d8-9381-48e8-93d3-e058d9a2c1f7",
   "metadata": {},
   "outputs": [],
   "source": [
    "model = load_model(\"../DOA/cnn/\")"
   ]
  },
  {
   "cell_type": "code",
   "execution_count": 24,
   "id": "a8e870c1-f5ed-44a4-93f0-bb44f83ec99b",
   "metadata": {},
   "outputs": [],
   "source": []
  },
  {
   "cell_type": "code",
   "execution_count": null,
   "id": "8667846b-d65b-4988-885e-addb34e4f7ad",
   "metadata": {},
   "outputs": [],
   "source": []
  }
 ],
 "metadata": {
  "kernelspec": {
   "display_name": "Python 3 (ipykernel)",
   "language": "python",
   "name": "python3"
  },
  "language_info": {
   "codemirror_mode": {
    "name": "ipython",
    "version": 3
   },
   "file_extension": ".py",
   "mimetype": "text/x-python",
   "name": "python",
   "nbconvert_exporter": "python",
   "pygments_lexer": "ipython3",
   "version": "3.9.12"
  }
 },
 "nbformat": 4,
 "nbformat_minor": 5
}
