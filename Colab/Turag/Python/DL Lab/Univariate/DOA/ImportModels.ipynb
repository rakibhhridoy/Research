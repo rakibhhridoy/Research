{
 "cells": [
  {
   "cell_type": "code",
   "execution_count": 31,
   "id": "feda8466-146c-4d8c-b690-c42d0c4e978c",
   "metadata": {},
   "outputs": [],
   "source": [
    "import pandas as pd\n",
    "import numpy as np\n",
    "import matplotlib.pyplot as plt\n",
    "import tensorflow as tf\n",
    "from tensorflow.keras.models import Sequential\n",
    "from tensorflow.keras.layers import Conv1D, MaxPooling1D, Flatten, Dense\n",
    "from tensorflow.keras.layers import Conv1D\n",
    "from tensorflow.keras.models import Sequential\n",
    "from tensorflow.keras.layers import *\n",
    "from tensorflow.keras.callbacks import ModelCheckpoint\n",
    "from tensorflow.keras.losses import MeanSquaredError\n",
    "from tensorflow.keras.metrics import RootMeanSquaredError\n",
    "from tensorflow.keras.optimizers import Adam\n",
    "from sklearn.model_selection import train_test_split\n",
    "from tensorflow.keras.models import load_model\n",
    "from sklearn.metrics import mean_squared_error as mse\n",
    "from sklearn.metrics import mean_absolute_error as mae\n",
    "from sklearn.metrics import r2_score as r2\n",
    "from tensorflow import keras\n",
    "from keras import layers"
   ]
  },
  {
   "cell_type": "markdown",
   "id": "05ad146a-6398-4f8f-bf36-60581ce4c249",
   "metadata": {
    "tags": []
   },
   "source": [
    "## Functions"
   ]
  },
  {
   "cell_type": "code",
   "execution_count": 32,
   "id": "2b0e7ab5-170f-42e4-9730-3e4d88c56d74",
   "metadata": {},
   "outputs": [],
   "source": [
    "def df_to_X_y(df, window_size=5):\n",
    "    df_as_np = df.to_numpy()\n",
    "    X = []\n",
    "    y = []\n",
    "    for i in range(len(df_as_np)-window_size):\n",
    "        row = [[a] for a in df_as_np[i:i+window_size]]\n",
    "        X.append(row)\n",
    "        label = df_as_np[i+window_size]\n",
    "        y.append(label)\n",
    "    return np.array(X), np.array(y)\n",
    "\n",
    "\n",
    "def load_data(file):\n",
    "    df = pd.read_csv(file)\n",
    "    df.drop(columns=\"Unnamed: 0\", inplace= True)\n",
    "    df = df.set_index(\"Date\")\n",
    "    return df\n",
    "\n",
    "def fit_model(model, cp, epochs, xt, yt, xv, yv):\n",
    "    model.compile(loss=MeanSquaredError(), optimizer=Adam(learning_rate=0.0001), metrics=[RootMeanSquaredError()])\n",
    "    model.fit(xt, yt, validation_data=(xv, yv), epochs=epochs, callbacks=[cp])\n",
    "    return model\n",
    "\n",
    "def plot_val(model,Nsample, xv, yv):\n",
    "    val_predictions = model.predict(xv).flatten()\n",
    "    val_results = pd.DataFrame(data={'Val Predictions':val_predictions, 'Actuals':yv})\n",
    "    plt.plot(val_results['Val Predictions'][:Nsample])\n",
    "    plt.plot(val_results['Actuals'][:Nsample])\n",
    "    plt.title(\"Validation\")\n",
    "    plt.show()\n",
    "    \n",
    "def plot_test(model, Nsample, xtt, ytt):\n",
    "    test_predictions = model.predict(xtt).flatten()\n",
    "    test_results = pd.DataFrame(data={'Test Predictions':test_predictions, 'Actuals':ytt})\n",
    "    plt.plot(test_results['Test Predictions'][:Nsample])\n",
    "    plt.plot(test_results['Actuals'][:Nsample])\n",
    "    plt.title(\"Test\")\n",
    "    plt.show()\n",
    "    \n",
    "def plot_predictions1(model, X, y, start=0, end=100):\n",
    "    prediction = model.predict(X).flatten()\n",
    "    df = pd.DataFrame(data={'Predictions':prediction, 'Actuals':y})\n",
    "    plt.plot(df['Predictions'][start:end])\n",
    "    plt.plot(df['Actuals'][start:end])\n",
    "    plt.title(\"Predictions\")\n",
    "    plt.show()\n",
    "    mse_v = mse(y, prediction)\n",
    "    mae_v = mae(y, prediction)\n",
    "    r2_v = r2(y, prediction)\n",
    "\n",
    "    return mse_v, mae_v, r2_v\n",
    "\n",
    "\n",
    "def plot_train(modelname, Nsample, xt, yt):\n",
    "    model = load_model(modelname)\n",
    "    train_predictions = model.predict(xt).flatten()\n",
    "    train_results = pd.DataFrame(data={'Train Predictions': train_predictions, 'Actuals':yt})\n",
    "    plt.plot(train_results['Train Predictions'][:Nsample])\n",
    "    plt.plot(train_results['Actuals'][:Nsample])\n",
    "    plt.title(\"Train\")\n",
    "    plt.show()\n",
    "    \n",
    "def load_data_model():\n",
    "    x_train = np.load(\"x_train.npy\")\n",
    "    y_train = np.load(\"y_train.npy\")\n",
    "    x_test = np.load(\"x_test.npy\")\n",
    "    y_test = np.load(\"y_test.npy\")\n",
    "    x_val = np.load(\"x_val.npy\")\n",
    "    y_val = np.load(\"y_val.npy\")\n",
    "    \n",
    "    return x_train, y_train, x_test, y_test, x_val, y_val"
   ]
  },
  {
   "cell_type": "markdown",
   "id": "326b7748-1fa0-4898-bdb4-fec93341d051",
   "metadata": {},
   "source": [
    "## Import Data"
   ]
  },
  {
   "cell_type": "code",
   "execution_count": 26,
   "id": "546944c2-8338-452b-a84e-543ce74e4f9a",
   "metadata": {},
   "outputs": [],
   "source": [
    "df = pd.read_csv(\"../data/LocationB.csv\")\n",
    "\n",
    "df.drop(columns=[\"Unnamed: 0\", \"Date\"], inplace=True)\n",
    "\n",
    "WINDOW_SIZE = 3\n",
    "ECB = df[\"ECB\"]\n",
    "\n",
    "X1, y1 = df_to_X_y(ECB, WINDOW_SIZE)\n",
    "x_train, x_test, y_train, y_test = train_test_split(X1, y1, test_size=0.2, random_state=1)\n",
    "x_train, x_val, y_train, y_val = train_test_split(x_train, y_train, test_size=0.2, random_state=1)"
   ]
  },
  {
   "cell_type": "markdown",
   "id": "ba846bb8-aa36-4271-baec-56b937c3c369",
   "metadata": {},
   "source": [
    "x_train, y_train, x_test, y_test, x_val, y_val = load_data_model()"
   ]
  },
  {
   "cell_type": "markdown",
   "id": "c164dd9c-b08a-4c81-8dc1-fd5d70737e15",
   "metadata": {
    "id": "d97481c9-eaa4-4fe3-a28f-cc3a86f99ba4",
    "jp-MarkdownHeadingCollapsed": true,
    "tags": []
   },
   "source": [
    "# General Model"
   ]
  },
  {
   "cell_type": "markdown",
   "id": "4ffcedc8-d585-48f7-811e-60606a189ce9",
   "metadata": {
    "id": "25993cb2-a807-4ff8-b2d5-a9455c2f01f4"
   },
   "source": [
    "### CNN"
   ]
  },
  {
   "cell_type": "code",
   "execution_count": 34,
   "id": "00167711-3680-4349-b0c0-4c9b5430e5b5",
   "metadata": {
    "colab": {
     "base_uri": "https://localhost:8080/",
     "height": 740
    },
    "executionInfo": {
     "elapsed": 9942,
     "status": "error",
     "timestamp": 1709589374620,
     "user": {
      "displayName": "Rakib H Hridoy",
      "userId": "11427915455487036903"
     },
     "user_tz": -360
    },
    "id": "a91b7575-703b-482c-9707-50e602f7d206",
    "outputId": "595f6bd0-b287-4edc-e102-81586bfd4deb"
   },
   "outputs": [],
   "source": [
    "model = load_model(\"cnn/\")"
   ]
  },
  {
   "cell_type": "code",
   "execution_count": 35,
   "id": "c4e82d42-7c12-491d-982e-0ae0271e1ee7",
   "metadata": {},
   "outputs": [
    {
     "name": "stdout",
     "output_type": "stream",
     "text": [
      "3/3 [==============================] - 0s 5ms/step\n"
     ]
    },
    {
     "data": {
      "image/png": "[encoded data removed]",
      "text/plain": [
       "<Figure size 432x288 with 1 Axes>"
      ]
     },
     "metadata": {
      "needs_background": "light"
     },
     "output_type": "display_data"
    }
   ],
   "source": [
    "mse_cnn, mae_cnn, r2_cnn = plot_predictions1(model, x_test, y_test)"
   ]
  },
  {
   "cell_type": "markdown",
   "id": "6c3edd51-9083-4cad-8171-98f269def771",
   "metadata": {
    "id": "f8a6f749-830e-433c-8169-dfb229ac48b5"
   },
   "source": [
    "### GRU"
   ]
  },
  {
   "cell_type": "code",
   "execution_count": 9,
   "id": "87da6f6c-0624-46c1-b495-e08821a485a0",
   "metadata": {
    "id": "339a87c6-549a-4a36-961b-9fcc9d5fc2b3"
   },
   "outputs": [],
   "source": [
    "model = load_model(\"gru/\")"
   ]
  },
  {
   "cell_type": "code",
   "execution_count": null,
   "id": "992bef3a-52e7-4911-a238-053c5bd8d115",
   "metadata": {},
   "outputs": [],
   "source": [
    "mse_gru, mae_gru, r2_gru = plot_predictions1(model, x_test, y_test)"
   ]
  },
  {
   "cell_type": "markdown",
   "id": "0de49023-7a39-45ae-b08d-cb55abf1f7ee",
   "metadata": {
    "id": "b04e9cad-6de4-4a34-b473-278ff67ae813"
   },
   "source": [
    "### LSTM"
   ]
  },
  {
   "cell_type": "code",
   "execution_count": 10,
   "id": "c6318107-6537-4d5f-adcb-e0820b2dab2b",
   "metadata": {
    "id": "0d0a65de-3086-46b9-a4cc-909970f64bb2"
   },
   "outputs": [],
   "source": [
    "model = load_model(\"lstm/\")"
   ]
  },
  {
   "cell_type": "code",
   "execution_count": null,
   "id": "bacd5156-724c-4d1c-9296-94d2fbee1bd8",
   "metadata": {},
   "outputs": [],
   "source": [
    "mse_lstm, mae_lstm, r2_lstm = plot_predictions1(model, x_test, y_test)"
   ]
  },
  {
   "cell_type": "markdown",
   "id": "eaa88a21-3990-46c2-bde0-82757eab84be",
   "metadata": {
    "id": "f026be61-c1e7-4c4b-bb0f-730b396eaa0a"
   },
   "source": [
    "### RNN"
   ]
  },
  {
   "cell_type": "code",
   "execution_count": 11,
   "id": "9b680083-e804-4534-9e03-4499cf400198",
   "metadata": {
    "id": "d4a96d4e-376b-4593-923a-85777ba0ac4c"
   },
   "outputs": [],
   "source": [
    "model = load_model(\"rnn/\")"
   ]
  },
  {
   "cell_type": "code",
   "execution_count": null,
   "id": "3a9be981-f842-4ca2-9538-b823cee3034e",
   "metadata": {},
   "outputs": [],
   "source": [
    "mse_rnn, mae_rnn, r2_rnn = plot_predictions1(model, x_test, y_test)"
   ]
  },
  {
   "cell_type": "markdown",
   "id": "2e7b0911-f920-4ff4-a368-ac69ac764dff",
   "metadata": {
    "id": "5b36e8fa-5344-4148-892b-ca9fe008c719",
    "jp-MarkdownHeadingCollapsed": true,
    "tags": []
   },
   "source": [
    "# Moving Average"
   ]
  },
  {
   "cell_type": "markdown",
   "id": "a210a0c1-7416-45f6-8ecb-e9f6fa0e2228",
   "metadata": {
    "id": "86590f01-32db-4702-9223-d1ea89969e57"
   },
   "source": [
    "#### CNN"
   ]
  },
  {
   "cell_type": "code",
   "execution_count": 12,
   "id": "d558d5c1-3db6-41d8-9c97-cb4f3be4795e",
   "metadata": {
    "id": "b61211fc-375a-41be-86ff-3cce47bbcd15"
   },
   "outputs": [],
   "source": [
    "model = load_model(\"mavg_cnn/\")\n",
    "mse_mavg_rnn, mae_mavg_rnn, r2_mavg_rnn = plot_predictions1(model, x_test, y_test)"
   ]
  },
  {
   "cell_type": "markdown",
   "id": "7fe48466-7122-42da-9b18-0503db438164",
   "metadata": {
    "id": "6250b4a1-3772-4b90-8ed2-6d4eaafce219"
   },
   "source": [
    "#### GRU"
   ]
  },
  {
   "cell_type": "code",
   "execution_count": 13,
   "id": "375f541b-7d55-4095-8ea6-2435aa5acfe3",
   "metadata": {
    "id": "719a6cd9-abe8-49a6-949c-a97fca1ff383"
   },
   "outputs": [],
   "source": [
    "model = load_model(\"mavg_gru/\")"
   ]
  },
  {
   "cell_type": "code",
   "execution_count": null,
   "id": "db304170-452d-4f9d-b2d7-ab94a3e99586",
   "metadata": {},
   "outputs": [],
   "source": [
    "mse_mavg_cnn, mae_mavg_cnn, r2_mavg_cnn = plot_predictions1(model, x_test, y_test)"
   ]
  },
  {
   "cell_type": "markdown",
   "id": "501cc063-0c09-4729-af9c-67c405e2ef98",
   "metadata": {
    "id": "a7a289c2-1d50-4ff7-b06b-de3bc5ed2dbe"
   },
   "source": [
    "#### LSTM"
   ]
  },
  {
   "cell_type": "code",
   "execution_count": null,
   "id": "58c6f672-72e2-4b96-ba34-8d0215d1cc5a",
   "metadata": {
    "id": "5b7b3491-e43e-48e1-ae99-1d8d3fe0fcc2"
   },
   "outputs": [],
   "source": [
    "model = load_model(\"mavg_lstm/\")"
   ]
  },
  {
   "cell_type": "code",
   "execution_count": null,
   "id": "0b976526-6d9d-4eac-8cfd-b985c4c20657",
   "metadata": {},
   "outputs": [],
   "source": [
    "mse_mavg_lstm, mae_mavg_lstm, r2_mavg_lstm = plot_predictions1(model, x_test, y_test)"
   ]
  },
  {
   "cell_type": "markdown",
   "id": "ef8c8844-864f-451f-a69b-e566fd6a0d00",
   "metadata": {},
   "source": [
    "#### RNN"
   ]
  },
  {
   "cell_type": "code",
   "execution_count": 15,
   "id": "4355895a-cee4-41de-b88f-2fd6ea73742a",
   "metadata": {
    "id": "d68591bd-beac-400c-86ff-6adbdc810637"
   },
   "outputs": [],
   "source": [
    "model = load_model(\"mavg_rnn/\")"
   ]
  },
  {
   "cell_type": "code",
   "execution_count": null,
   "id": "29df2943-072b-453f-aea5-05b8b12bf651",
   "metadata": {},
   "outputs": [],
   "source": [
    "mse_mavg_rnn, mae_mavg_rnn, r2_mavg_rnn = plot_predictions1(model, x_test, y_test)"
   ]
  },
  {
   "cell_type": "markdown",
   "id": "762ff36e-d736-46fd-973b-4c3017009b03",
   "metadata": {
    "id": "bdbe4fff-16cf-479c-be66-1663fc903859",
    "jp-MarkdownHeadingCollapsed": true,
    "tags": []
   },
   "source": [
    "# AutoEncoder"
   ]
  },
  {
   "cell_type": "markdown",
   "id": "caf6fc61-bc0f-490b-94ff-85c230637f40",
   "metadata": {
    "id": "a6ae86aa-c7d6-4480-a2f8-416263b94f97"
   },
   "source": [
    "### CNN"
   ]
  },
  {
   "cell_type": "code",
   "execution_count": 16,
   "id": "8f851ab6-ef01-4bb2-9a2c-e98ec8dc0ca5",
   "metadata": {
    "id": "100a8cf0-4e3f-4914-8e59-58a70da775f5"
   },
   "outputs": [],
   "source": [
    "model = load_model(\"autoencoder_cnn/\")"
   ]
  },
  {
   "cell_type": "code",
   "execution_count": null,
   "id": "c99f660c-997a-4139-b5d1-b2c388aac410",
   "metadata": {
    "id": "e7dea812-cfa2-4503-8bbb-a09156600ffc"
   },
   "outputs": [],
   "source": [
    "mse_auto_cnn, mae_auto_cnn, r2_auto_cnn = plot_predictions1(model, x_test, y_test)"
   ]
  },
  {
   "cell_type": "markdown",
   "id": "d23d247c-ad1c-4dbc-ba83-d64b53927e67",
   "metadata": {
    "id": "04977996-97ee-4e8c-8b8d-8843445461f7"
   },
   "source": [
    "### GRU"
   ]
  },
  {
   "cell_type": "code",
   "execution_count": 17,
   "id": "f32d54ed-a4e7-4e7b-8466-540da925d75e",
   "metadata": {
    "id": "91335f89-c714-4a11-a7dc-9eb2c257e561"
   },
   "outputs": [],
   "source": [
    "model = load_model(\"autoencoder_gru/\")"
   ]
  },
  {
   "cell_type": "code",
   "execution_count": null,
   "id": "d7444b7c-4c81-4a29-ae33-7f963f2ee3e4",
   "metadata": {
    "id": "f00f9c30-ced9-4d7f-951b-1536a77ebc51"
   },
   "outputs": [],
   "source": [
    "mse_auto_gru, mae_auto_gru, r2_auto_gru = plot_predictions1(model, x_test, y_test)"
   ]
  },
  {
   "cell_type": "markdown",
   "id": "ac4ed812-0541-476c-ac15-15f0e3c44f93",
   "metadata": {
    "id": "8ecc740c-b7bf-40da-b62c-52f03098517f"
   },
   "source": [
    "### LSTM"
   ]
  },
  {
   "cell_type": "code",
   "execution_count": 18,
   "id": "11d7a283-4412-41da-9e59-6bddd96d4179",
   "metadata": {
    "id": "5e25f59d-2a72-48bb-9fa7-5daa2d955a2f"
   },
   "outputs": [],
   "source": [
    "model = load_model(\"auto_lstm/\")"
   ]
  },
  {
   "cell_type": "code",
   "execution_count": null,
   "id": "4310fd25-80b9-4bea-917e-e369162f3dff",
   "metadata": {
    "id": "351f8902-e1da-4b38-858f-352f4054a9f6"
   },
   "outputs": [],
   "source": [
    "mse_auto_lstm, mae_auto_lstm, r2_auto_lstm = plot_predictions1(model, x_test, y_test)"
   ]
  },
  {
   "cell_type": "markdown",
   "id": "7e9c5d75-3b43-4012-a9e0-702a4346cf6e",
   "metadata": {
    "id": "f52afb60-e43b-4986-aae3-ad2a467cd81f"
   },
   "source": [
    "### RNN"
   ]
  },
  {
   "cell_type": "code",
   "execution_count": 19,
   "id": "bf48de8d-b2ea-48f5-b262-2e6257d5ff10",
   "metadata": {
    "id": "dc1a560c-2f1f-4663-bed4-60b51897c76f"
   },
   "outputs": [],
   "source": [
    "model = load_model(\"auto_rnn/\")"
   ]
  },
  {
   "cell_type": "code",
   "execution_count": null,
   "id": "894ef2ef-e0f2-48a7-81e4-4d7a6d6e1707",
   "metadata": {
    "id": "248706a3-b575-40ce-809c-f9261e4961c5"
   },
   "outputs": [],
   "source": [
    "mse_auto_rnn, mae_auto_rnn, r2_auto_rnn = plot_predictions1(model, x_test, y_test)"
   ]
  },
  {
   "cell_type": "markdown",
   "id": "8b017a5f-19ca-4249-a973-f79b2a7f930a",
   "metadata": {
    "id": "b065cedc-49eb-45a8-8b3e-8aa15bf42a97",
    "tags": []
   },
   "source": [
    "# Moving Average with Encoder"
   ]
  },
  {
   "cell_type": "markdown",
   "id": "f7ec5e6d-cb38-400c-a979-d34fdb2536ee",
   "metadata": {
    "id": "4aa466b7-cbf9-4da2-8110-5ffc2d87b0c6"
   },
   "source": [
    "### CNN"
   ]
  },
  {
   "cell_type": "code",
   "execution_count": 20,
   "id": "67703239-3785-445e-8e93-85e5a96869cd",
   "metadata": {
    "id": "10680527-f610-433e-bb15-f01f74d8d4f6"
   },
   "outputs": [],
   "source": [
    "model = load_model(\"mavg_autoencoder_cnn/\")"
   ]
  },
  {
   "cell_type": "code",
   "execution_count": null,
   "id": "fd0936dd-5099-4554-8fd5-cc3dfcaa83b8",
   "metadata": {
    "id": "2ac646fb-4651-432c-add0-04d294a278db"
   },
   "outputs": [],
   "source": [
    "mse_mavg_auto_cnn, mae_mavg_auto_cnn, r2_mavg_auto_cnn = plot_predictions1(model, x_test, y_test)"
   ]
  },
  {
   "cell_type": "markdown",
   "id": "0d060bb1-6892-4018-b758-e721b0e2dfac",
   "metadata": {
    "id": "180b04e8-b89f-43b6-b67f-2c83d6dc3f4d"
   },
   "source": [
    "### RNN"
   ]
  },
  {
   "cell_type": "code",
   "execution_count": 21,
   "id": "07ace10d-dfa9-4b57-8a9e-8ca084e92898",
   "metadata": {
    "id": "3e84ed39-8fec-4929-8ac0-cb76e5faa02b"
   },
   "outputs": [],
   "source": [
    "model = load_model(\"mavg_auto_rnn/\")"
   ]
  },
  {
   "cell_type": "code",
   "execution_count": null,
   "id": "8642208a-4c36-4dab-8cef-b1f2fcbc9a37",
   "metadata": {
    "id": "9609a5d0-bc92-4a3a-b169-7631dc52f40b"
   },
   "outputs": [],
   "source": []
  },
  {
   "cell_type": "markdown",
   "id": "3315d732-7bef-471d-8aa6-656590d6da69",
   "metadata": {
    "id": "5812bcce-8250-45e9-97f7-483999e3143a"
   },
   "source": [
    "### GRU"
   ]
  },
  {
   "cell_type": "code",
   "execution_count": 22,
   "id": "65830a3c-9dec-48dd-938c-691fc31249a7",
   "metadata": {
    "id": "f9070d90-9084-401e-9f49-9dc404699810"
   },
   "outputs": [],
   "source": [
    "model = load_model(\"mavg_auto_gru/\")"
   ]
  },
  {
   "cell_type": "code",
   "execution_count": null,
   "id": "c96edd84-c448-4f84-b31b-df30c22c4003",
   "metadata": {
    "id": "81d2e4fe-3de0-448e-b998-84be320909e3"
   },
   "outputs": [],
   "source": [
    "mse_mavg_auto_gru, mae_mavg_auto_gru, r2_mavg_auto_gru = plot_predictions1(model, x_test, y_test)"
   ]
  },
  {
   "cell_type": "markdown",
   "id": "7ac91928-063c-400b-90f2-395f2efff066",
   "metadata": {
    "id": "1967da5b-8781-4a83-bdaa-dc25b531973b"
   },
   "source": [
    "### LSTM"
   ]
  },
  {
   "cell_type": "code",
   "execution_count": 23,
   "id": "8f4e243f-93a9-43d4-a668-791369da1391",
   "metadata": {
    "id": "6b76ba67-9b20-4513-a6ee-6a495bc2979f"
   },
   "outputs": [],
   "source": [
    "model = load_model(\"mavg_auto_lstm/\")"
   ]
  },
  {
   "cell_type": "code",
   "execution_count": null,
   "id": "5e316ee2-73ce-4499-bc74-c994daee32d5",
   "metadata": {
    "id": "50d60c17-fedf-4d32-8452-2a05ad1ad55c"
   },
   "outputs": [],
   "source": []
  },
  {
   "cell_type": "markdown",
   "id": "99f32fae-8679-4fae-bd0a-a1983b100381",
   "metadata": {
    "id": "469e39ee-ac37-4f72-9114-292b9aba46a3",
    "jp-MarkdownHeadingCollapsed": true,
    "tags": []
   },
   "source": [
    "# Hybrid"
   ]
  },
  {
   "cell_type": "markdown",
   "id": "942e4dc4-fbcc-4b01-b485-69802d612e55",
   "metadata": {
    "id": "02bdf792-a4fb-4272-8b4f-8e4b6c9b26f2"
   },
   "source": [
    "## General"
   ]
  },
  {
   "cell_type": "markdown",
   "id": "c9e2a298-faf0-4d9c-bf40-67f7769be6ab",
   "metadata": {
    "id": "2147bec4-e091-4461-b3fa-cd4fb6b8afe6"
   },
   "source": [
    "### CNN LSTM"
   ]
  },
  {
   "cell_type": "code",
   "execution_count": 24,
   "id": "e2729a55-1255-44d8-9290-a6e70d4ccda5",
   "metadata": {
    "id": "997ef71b-7524-42fc-b608-c6e5fffa4d93"
   },
   "outputs": [],
   "source": [
    "model = load_model(\"hybrid_cnn_lstm/\")"
   ]
  },
  {
   "cell_type": "code",
   "execution_count": null,
   "id": "c3c9a492-bc5b-4977-88d2-403143bcec16",
   "metadata": {
    "id": "3284ce02-e7a5-4eea-99a6-8dbb7bb3f0b2"
   },
   "outputs": [],
   "source": []
  },
  {
   "cell_type": "markdown",
   "id": "3cc3d0dd-bffa-4cd1-ae13-af27ec91d987",
   "metadata": {
    "id": "939fb23e-ce42-4949-ad87-fcaf961ca401"
   },
   "source": [
    "### RNN LSTM"
   ]
  },
  {
   "cell_type": "code",
   "execution_count": 25,
   "id": "73788e86-90cf-4fe5-b26c-35d99e274a9c",
   "metadata": {
    "id": "8e065ef0-b4c4-45aa-9dd9-239c86cd0359"
   },
   "outputs": [],
   "source": [
    "model = load_model(\"hybrid_rnn_lstm/\")"
   ]
  },
  {
   "cell_type": "code",
   "execution_count": null,
   "id": "ac5a096a-3054-491b-a680-b34658754226",
   "metadata": {
    "id": "5236bc05-9af4-4cb1-84c9-601d035e7dff"
   },
   "outputs": [],
   "source": []
  },
  {
   "cell_type": "markdown",
   "id": "eccb570f-102b-4748-b778-99255f129408",
   "metadata": {
    "id": "80090b57-9845-4ce4-b376-8861b97d1305"
   },
   "source": [
    "### RNN GRU"
   ]
  },
  {
   "cell_type": "code",
   "execution_count": 26,
   "id": "774912e4-7c30-4acb-83a4-c18edad6661a",
   "metadata": {
    "id": "abf1a1fd-6561-43ed-8247-368cf8d066cf"
   },
   "outputs": [],
   "source": [
    "model = load_model(\"hybrid_rnn_gru/\")"
   ]
  },
  {
   "cell_type": "code",
   "execution_count": null,
   "id": "d106fdac-ec23-42de-8796-1e0383327831",
   "metadata": {
    "id": "1cbab527-6b16-45d1-9e35-0da4ebf48c26"
   },
   "outputs": [],
   "source": []
  },
  {
   "cell_type": "markdown",
   "id": "f5575ecf-8d08-4d16-b917-8b6031d83198",
   "metadata": {
    "id": "a895d0cf-6d2c-4058-a338-45c288c3f4c9"
   },
   "source": [
    "### CNN GRU"
   ]
  },
  {
   "cell_type": "code",
   "execution_count": 27,
   "id": "4e497ccb-7578-40a5-9c2f-b61b8bc8f21e",
   "metadata": {
    "id": "ee0afb83-814f-4f24-b36f-4f818ab9badd"
   },
   "outputs": [],
   "source": [
    "model = load_model(\"hybrid_cnn_gru/\")"
   ]
  },
  {
   "cell_type": "code",
   "execution_count": null,
   "id": "c665eb70-0506-40c9-93c6-89e5b6d6a9fd",
   "metadata": {
    "id": "9eab2df5-6ce1-4a84-8b04-6d7e00128e6d"
   },
   "outputs": [],
   "source": []
  },
  {
   "cell_type": "markdown",
   "id": "2bb2ec19-16e0-4c4d-b174-5dba5c9a23b5",
   "metadata": {
    "id": "d44a485d-036a-4eb1-8561-c274b9bb1807"
   },
   "source": [
    "### CNN RNN GRU"
   ]
  },
  {
   "cell_type": "code",
   "execution_count": 28,
   "id": "355ab0bf-9af7-47fa-86b7-fee5f4a1e1e2",
   "metadata": {
    "id": "c0488de4-1568-496c-891a-231ee82fc8ad"
   },
   "outputs": [],
   "source": [
    "model = load_model(\"hybrid_cnn_rnn_gru/\")"
   ]
  },
  {
   "cell_type": "code",
   "execution_count": null,
   "id": "901e4315-f654-4539-bf38-c86327b4c8e3",
   "metadata": {
    "id": "807309c8-0a28-4f2c-80d7-94b3efe0456d"
   },
   "outputs": [],
   "source": []
  },
  {
   "cell_type": "markdown",
   "id": "c68fb4c6-b565-4e8f-87d2-15e365274c93",
   "metadata": {
    "id": "6b01e622-04ac-4bbd-889f-ab1fcb427598"
   },
   "source": [
    "### LSTM RNN GRU"
   ]
  },
  {
   "cell_type": "code",
   "execution_count": 29,
   "id": "507af2e7-82af-4b9d-8df5-70eac5ed5392",
   "metadata": {
    "id": "bc42c921-4088-4911-9a2b-f323c105046a"
   },
   "outputs": [],
   "source": [
    "model = load_model(\"hybrid_lstm_rnn_gru/\")"
   ]
  },
  {
   "cell_type": "code",
   "execution_count": null,
   "id": "8c513009-808d-495b-8adb-fa43cd5810b9",
   "metadata": {
    "id": "4e3dacf0-53e5-4d57-abc2-a933f1f7c5bf"
   },
   "outputs": [],
   "source": []
  },
  {
   "cell_type": "markdown",
   "id": "cfe4c68a-6151-4f82-b0d7-d48fa717a592",
   "metadata": {
    "id": "e11c3e00-dc76-411e-831a-8d2042cbb778"
   },
   "source": [
    "## Moving Average"
   ]
  },
  {
   "cell_type": "markdown",
   "id": "a0699c2e-e4a5-4e8b-9dc3-c88f670bea1f",
   "metadata": {
    "id": "1f0bf73a-0e18-45f2-a8ce-06986e87a92e"
   },
   "source": [
    "### CNN LSTM"
   ]
  },
  {
   "cell_type": "code",
   "execution_count": null,
   "id": "611e561d-e6dd-4c16-a557-498124ea412f",
   "metadata": {
    "id": "94711e22-60a1-41fd-80b3-d1703d14aa58"
   },
   "outputs": [],
   "source": [
    "input_shape = (15,1)\n",
    "model = Sequential()\n",
    "model.add(Conv1D(filters=32, kernel_size=3, activation='relu', input_shape=(3,1)))\n",
    "model.add(Flatten())\n",
    "model.add(Dense(32, activation='relu'))\n",
    "model.add(RepeatVector(n=input_shape[0]))\n",
    "model.add(LSTM(units=64, return_sequences=True))\n",
    "model.add(LSTM(units=32))\n",
    "model.add(Dense(1))\n",
    "\n",
    "model.compile(loss='mean_squared_error', optimizer='adam')\n",
    "\n",
    "cp = ModelCheckpoint('mavg_hybrid_cnn_lstm/', save_best_only=True)\n",
    "\n",
    "model = fit_model(model, cp, epochs, moving_avg_data, target, x_val, y_val)\n",
    "\n",
    "plot_train(\"mavg_hybrid_cnn_lstm\", 50, moving_avg_data, target)\n",
    "plot_val(model, 50, x_val, y_val)\n",
    "plot_test(model, 50, x_test, y_test)\n",
    "mavg_hybrid_cnn_lstm_mse = plot_predictions1(model,x_test, y_test)"
   ]
  },
  {
   "cell_type": "code",
   "execution_count": null,
   "id": "5733f7f3-382a-4502-9ad2-04f408877ad5",
   "metadata": {
    "id": "30cb1bbc-ced5-4094-a16e-e92ac736521e"
   },
   "outputs": [],
   "source": [
    "mavg_hybrid_cnn_lstm_mse"
   ]
  },
  {
   "cell_type": "markdown",
   "id": "8dd1ff2c-9d47-4e06-877f-501dfe6ffbc7",
   "metadata": {
    "id": "a5bb5cab-32f6-4844-ad49-5b7251350a7e"
   },
   "source": [
    "### RNN LSTM"
   ]
  },
  {
   "cell_type": "code",
   "execution_count": null,
   "id": "bb121ebd-61da-43ab-b121-11055f71da77",
   "metadata": {
    "id": "5cbf9837-4a24-4710-8f25-9660499a91b9"
   },
   "outputs": [],
   "source": [
    "model = Sequential()\n",
    "model.add(SimpleRNN(64,return_sequences=True, input_shape=(3,1)))\n",
    "model.add(LSTM(32))\n",
    "model.add(Dense(1))\n",
    "\n",
    "model.compile(loss='mean_squared_error', optimizer='adam')\n",
    "cp = ModelCheckpoint('mavg_hybrid_rnn_lstm/', save_best_only=True)\n",
    "model = fit_model(model, cp, epochs, moving_avg_data, target, x_val, y_val)\n",
    "\n",
    "plot_train(\"mavg_hybrid_rnn_lstm\", 50, moving_avg_data, target)\n",
    "plot_val(model, 50, x_val, y_val)\n",
    "plot_test(model, 50, x_test, y_test)\n",
    "mavg_hybrid_rnn_lstm_mse = plot_predictions1(model,x_test, y_test)"
   ]
  },
  {
   "cell_type": "code",
   "execution_count": null,
   "id": "1e3bc091-e77d-419b-8e02-52569b60123c",
   "metadata": {
    "id": "55937582-d29a-4dd9-84b7-1c04be4777a8"
   },
   "outputs": [],
   "source": [
    "mavg_hybrid_rnn_lstm_mse"
   ]
  },
  {
   "cell_type": "markdown",
   "id": "29b39096-0c76-42dd-9650-85b80fa3ee5e",
   "metadata": {
    "id": "a3c404ee-001b-4cb5-8bde-9ec47807ad63"
   },
   "source": [
    "### RNN GRU"
   ]
  },
  {
   "cell_type": "code",
   "execution_count": null,
   "id": "9899fc43-c214-4f2d-bd64-966df83dbade",
   "metadata": {
    "id": "6345cb8e-ca2f-4d2a-8414-383aa5c76270"
   },
   "outputs": [],
   "source": [
    "model = Sequential()\n",
    "model.add(SimpleRNN(64, return_sequences=True, input_shape=(3, 1)))\n",
    "model.add(GRU(32))\n",
    "model.add(Dense(1))\n",
    "\n",
    "model.compile(loss='mean_squared_error', optimizer='adam')\n",
    "cp = ModelCheckpoint('mavg_hybrid_rnn_gru/', save_best_only=True)\n",
    "model = fit_model(model, cp, epochs, moving_avg_data, target, x_val, y_val)\n",
    "\n",
    "plot_train(\"mavg_hybrid_rnn_gru\", 50, moving_avg_data, target)\n",
    "plot_val(model, 50, x_val, y_val)\n",
    "plot_test(model, 50, x_test, y_test)\n",
    "mavg_hybrid_rnn_gru_mse = plot_predictions1(model,x_test, y_test)"
   ]
  },
  {
   "cell_type": "code",
   "execution_count": null,
   "id": "15b55fe5-4175-434c-9665-76e2bf8426ff",
   "metadata": {
    "id": "1045cb59-ad49-48f3-a5d8-542e3494aaca"
   },
   "outputs": [],
   "source": [
    "mavg_hybrid_rnn_gru_mse"
   ]
  },
  {
   "cell_type": "markdown",
   "id": "3f846ee2-2711-4453-bc44-5f7601ada1c5",
   "metadata": {
    "id": "b5854a3e-315c-41b1-b5da-50e711d9c594"
   },
   "source": [
    "### CNN GRU"
   ]
  },
  {
   "cell_type": "code",
   "execution_count": null,
   "id": "f0283cc3-ca8f-428e-999e-25141687361f",
   "metadata": {
    "id": "2f23e825-6453-4eb3-85aa-14a9c6148d95"
   },
   "outputs": [],
   "source": [
    "model = Sequential()\n",
    "\n",
    "model.add(Conv1D(filters=32, kernel_size=3, activation='relu', input_shape=(3,1)))\n",
    "#model.add(MaxPooling1D(pool_size=2))\n",
    "model.add(Flatten())\n",
    "\n",
    "model.add(RepeatVector(n=15))\n",
    "model.add(GRU(64, return_sequences=True))\n",
    "model.add(GRU(32))\n",
    "model.add(Dense(1))\n",
    "\n",
    "model.compile(loss='mean_squared_error', optimizer='adam')\n",
    "cp = ModelCheckpoint('mavg_hybrid_cnn_gru/', save_best_only=True)\n",
    "model = fit_model(model, cp, epochs, moving_avg_data, target, x_val, y_val)\n",
    "\n",
    "plot_train(\"mavg_hybrid_cnn_gru\", 50, moving_avg_data, target)\n",
    "plot_val(model, 50, x_val, y_val)\n",
    "plot_test(model, 50, x_test, y_test)\n",
    "mavg_hybrid_cnn_gru_mse = plot_predictions1(model,x_test, y_test)"
   ]
  },
  {
   "cell_type": "code",
   "execution_count": null,
   "id": "dabd0b92-9df3-4f24-b553-1bb8db20ac09",
   "metadata": {
    "id": "b369c99c-dd8f-4db6-a7f3-6fda45d21e51"
   },
   "outputs": [],
   "source": [
    "mavg_hybrid_cnn_gru_mse"
   ]
  },
  {
   "cell_type": "markdown",
   "id": "635fabe5-eaee-448f-994e-455a4710412e",
   "metadata": {
    "id": "2bb28674-7619-4309-9d53-f13b1a71d79f"
   },
   "source": [
    "### CNN RNN GRU"
   ]
  },
  {
   "cell_type": "code",
   "execution_count": null,
   "id": "05c133a2-6a84-4e96-9f65-2c2818c65b1f",
   "metadata": {
    "id": "fa669505-9143-496f-8bc1-c27c8a875be8"
   },
   "outputs": [],
   "source": [
    "model = Sequential()\n",
    "model.add(Conv1D(filters=32, kernel_size=3, activation='relu', input_shape=(3, 1)))\n",
    "#model.add(MaxPooling1D(pool_size=2))\n",
    "model.add(Flatten())\n",
    "model.add(RepeatVector(n=15))\n",
    "model.add(SimpleRNN(64, return_sequences=True))\n",
    "model.add(GRU(32))\n",
    "model.add(Dense(8))\n",
    "model.add(Dense(1))\n",
    "\n",
    "model.compile(loss='mean_squared_error', optimizer='adam')\n",
    "cp = ModelCheckpoint('mavg_hybrid_cnn_rnn_gru/', save_best_only=True)\n",
    "model = fit_model(model, cp, epochs, moving_avg_data, target, x_val, y_val)\n",
    "\n",
    "plot_train(\"mavg_hybrid_cnn_rnn_gru\", 50, moving_avg_data, target)\n",
    "plot_val(model, 50, x_val, y_val)\n",
    "plot_test(model, 50, x_test, y_test)\n",
    "mavg_hybrid_cnn_rnn_gru_mse = plot_predictions1(model,x_test, y_test)"
   ]
  },
  {
   "cell_type": "code",
   "execution_count": null,
   "id": "43e72d90-ab2a-46c1-b545-ab9e985f0142",
   "metadata": {
    "id": "dd5536e6-89c6-40bf-96f0-b671cc081f90"
   },
   "outputs": [],
   "source": [
    "mavg_hybrid_cnn_rnn_gru_mse"
   ]
  },
  {
   "cell_type": "markdown",
   "id": "e4899015-ad85-4780-a00f-9a096d88e4c8",
   "metadata": {
    "id": "aa2779cb-67da-4037-9a5d-3b7ae3223344"
   },
   "source": [
    "### RNN LSTM GRU"
   ]
  },
  {
   "cell_type": "code",
   "execution_count": null,
   "id": "507478fb-d47c-4182-ace3-069b68fa4797",
   "metadata": {
    "id": "f61960c1-a8ed-4213-b64c-d94770d30bac"
   },
   "outputs": [],
   "source": [
    "model = Sequential()\n",
    "model.add(SimpleRNN(64, return_sequences=True, input_shape=(3,1)))\n",
    "model.add(LSTM(128, return_sequences=True))\n",
    "model.add(GRU(64))\n",
    "model.add(Dense(1))\n",
    "\n",
    "model.compile(loss='mean_squared_error', optimizer='adam')\n",
    "cp = ModelCheckpoint('mavg_hybrid_lstm_rnn_gru/', save_best_only=True)\n",
    "model = fit_model(model, cp, epochs, moving_avg_data, target,x_val, y_val)\n",
    "\n",
    "plot_train(\"mavg_hybrid_lstm_rnn_gru\", 50, moving_avg_data, target)\n",
    "plot_val(model, 50, x_val, y_val)\n",
    "plot_test(model, 50, x_test, y_test)\n",
    "mavg_hybrid_lstm_rnn_gru_mse = plot_predictions1(model,x_test, y_test)"
   ]
  },
  {
   "cell_type": "code",
   "execution_count": null,
   "id": "0b36568f-9349-4294-ad87-7d96b6308b68",
   "metadata": {
    "id": "42659f65-71f0-4a7b-8171-9aba8dcdc7a5"
   },
   "outputs": [],
   "source": [
    "mavg_hybrid_lstm_rnn_gru_mse"
   ]
  },
  {
   "cell_type": "markdown",
   "id": "ea5c62e9-12f6-47b3-ad64-3ce9ef7c8934",
   "metadata": {
    "id": "8048232c-fdea-4c4d-899d-ed336e8f1478"
   },
   "source": [
    "# MSE"
   ]
  },
  {
   "cell_type": "code",
   "execution_count": 30,
   "id": "fb209b06-2692-4c5e-9856-f487d4b23b3b",
   "metadata": {
    "id": "d6efb09f-3f5e-42b3-b4b2-28f9894ebe3b"
   },
   "outputs": [
    {
     "ename": "NameError",
     "evalue": "name 'cnn_mse' is not defined",
     "output_type": "error",
     "traceback": [
      "\u001b[0;31m---------------------------------------------------------------------------\u001b[0m",
      "\u001b[0;31mNameError\u001b[0m                                 Traceback (most recent call last)",
      "Input \u001b[0;32mIn [30]\u001b[0m, in \u001b[0;36m<cell line: 1>\u001b[0;34m()\u001b[0m\n\u001b[0;32m----> 1\u001b[0m mse_list \u001b[38;5;241m=\u001b[39m [\u001b[43mcnn_mse\u001b[49m, rnn_mse, gru_mse, lstm_mse,\n\u001b[1;32m      2\u001b[0m             mvg_cnn_mse, mvg_rnn_mse, mvg_gru_mse, mvg_lstm_mse,\n\u001b[1;32m      3\u001b[0m             auto_cnn_mse, auto_rnn_mse, auto_gru_mse, auto_lstm_mse,\n\u001b[1;32m      4\u001b[0m             mavg_auto_cnn_mse, mavg_auto_rnn_mse, mavg_auto_gru_mse, mavg_auto_lstm_mse,\n\u001b[1;32m      5\u001b[0m             hybrid_cnn_lstm_mse, hybrid_lstm_rnn_gru_mse,hybrid_cnn_rnn_gru_mse,hybrid_cnn_gru_mse,\n\u001b[1;32m      6\u001b[0m             hybrid_rnn_gru_mse,hybrid_rnn_lstm_mse,\n\u001b[1;32m      7\u001b[0m             mavg_hybrid_cnn_lstm_mse, mavg_hybrid_lstm_rnn_gru_mse,mavg_hybrid_cnn_rnn_gru_mse,\n\u001b[1;32m      8\u001b[0m             mavg_hybrid_cnn_gru_mse,mavg_hybrid_rnn_gru_mse,mavg_hybrid_rnn_lstm_mse]\n\u001b[1;32m     11\u001b[0m mae_list \u001b[38;5;241m=\u001b[39m [cnn_mae, rnn_mae, gru_mae, lstm_mae,\n\u001b[1;32m     12\u001b[0m             mvg_cnn_mae, mvg_rnn_mae, mvg_gru_mae, mvg_lstm_mae,\n\u001b[1;32m     13\u001b[0m             auto_cnn_mae, auto_rnn_mae, auto_gru_mae, auto_lstm_mae,\n\u001b[0;32m   (...)\u001b[0m\n\u001b[1;32m     17\u001b[0m             mavg_hybrid_cnn_lstm_mae, mavg_hybrid_lstm_rnn_gru_mae,mavg_hybrid_cnn_rnn_gru_mae,\n\u001b[1;32m     18\u001b[0m             mavg_hybrid_cnn_gru_mae,mavg_hybrid_rnn_gru_mae,mavg_hybrid_rnn_lstm_mae]\n\u001b[1;32m     20\u001b[0m r2_list \u001b[38;5;241m=\u001b[39m [cnn_r2, rnn_r2, gru_r2, lstm_r2,\n\u001b[1;32m     21\u001b[0m             mvg_cnn_r2, mvg_rnn_r2, mvg_gru_r2, mvg_lstm_r2,\n\u001b[1;32m     22\u001b[0m             auto_cnn_r2, auto_rnn_r2, auto_gru_r2, auto_lstm_r2,\n\u001b[0;32m   (...)\u001b[0m\n\u001b[1;32m     26\u001b[0m             mavg_hybrid_cnn_lstm_r2, mavg_hybrid_lstm_rnn_gru_r2,mavg_hybrid_cnn_rnn_gru_r2,\n\u001b[1;32m     27\u001b[0m             mavg_hybrid_cnn_gru_r2,mavg_hybrid_rnn_gru_r2,mavg_hybrid_rnn_lstm_r2]\n",
      "\u001b[0;31mNameError\u001b[0m: name 'cnn_mse' is not defined"
     ]
    }
   ],
   "source": [
    "mse_list = [cnn_mse, rnn_mse, gru_mse, lstm_mse,\n",
    "            mvg_cnn_mse, mvg_rnn_mse, mvg_gru_mse, mvg_lstm_mse,\n",
    "            auto_cnn_mse, auto_rnn_mse, auto_gru_mse, auto_lstm_mse,\n",
    "            mavg_auto_cnn_mse, mavg_auto_rnn_mse, mavg_auto_gru_mse, mavg_auto_lstm_mse,\n",
    "            hybrid_cnn_lstm_mse, hybrid_lstm_rnn_gru_mse,hybrid_cnn_rnn_gru_mse,hybrid_cnn_gru_mse,\n",
    "            hybrid_rnn_gru_mse,hybrid_rnn_lstm_mse,\n",
    "            mavg_hybrid_cnn_lstm_mse, mavg_hybrid_lstm_rnn_gru_mse,mavg_hybrid_cnn_rnn_gru_mse,\n",
    "            mavg_hybrid_cnn_gru_mse,mavg_hybrid_rnn_gru_mse,mavg_hybrid_rnn_lstm_mse]\n",
    "\n",
    "\n",
    "mae_list = [cnn_mae, rnn_mae, gru_mae, lstm_mae,\n",
    "            mvg_cnn_mae, mvg_rnn_mae, mvg_gru_mae, mvg_lstm_mae,\n",
    "            auto_cnn_mae, auto_rnn_mae, auto_gru_mae, auto_lstm_mae,\n",
    "            mavg_auto_cnn_mae, mavg_auto_rnn_mae, mavg_auto_gru_mae, mavg_auto_lstm_mae,\n",
    "            hybrid_cnn_lstm_mae, hybrid_lstm_rnn_gru_mae,hybrid_cnn_rnn_gru_mae,hybrid_cnn_gru_mae,\n",
    "            hybrid_rnn_gru_mae,hybrid_rnn_lstm_mae,\n",
    "            mavg_hybrid_cnn_lstm_mae, mavg_hybrid_lstm_rnn_gru_mae,mavg_hybrid_cnn_rnn_gru_mae,\n",
    "            mavg_hybrid_cnn_gru_mae,mavg_hybrid_rnn_gru_mae,mavg_hybrid_rnn_lstm_mae]\n",
    "\n",
    "r2_list = [cnn_r2, rnn_r2, gru_r2, lstm_r2,\n",
    "            mvg_cnn_r2, mvg_rnn_r2, mvg_gru_r2, mvg_lstm_r2,\n",
    "            auto_cnn_r2, auto_rnn_r2, auto_gru_r2, auto_lstm_r2,\n",
    "            mavg_auto_cnn_r2, mavg_auto_rnn_r2, mavg_auto_gru_r2, mavg_auto_lstm_r2,\n",
    "            hybrid_cnn_lstm_r2, hybrid_lstm_rnn_gru_r2,hybrid_cnn_rnn_gru_r2,hybrid_cnn_gru_r2,\n",
    "            hybrid_rnn_gru_r2,hybrid_rnn_lstm_r2,\n",
    "            mavg_hybrid_cnn_lstm_r2, mavg_hybrid_lstm_rnn_gru_r2,mavg_hybrid_cnn_rnn_gru_r2,\n",
    "            mavg_hybrid_cnn_gru_r2,mavg_hybrid_rnn_gru_r2,mavg_hybrid_rnn_lstm_r2]\n",
    "\n",
    "\n",
    "model_n = [\"cnn\", \"rnn\", \"gru\", \"lstm\",\n",
    "           \"mvg_cnn\", \"mvg_rnn\", \"mvg_gru\", \"mvg_lstm\",\n",
    "           \"auto_cnn\", \"auto_rnn\", \"auto_gru\", \"auto_lstm\",\n",
    "           \"mvg_auto_cnn\", \"mvg_auto_rnn\", \"mvg_auto_gru\", \"mvg_auto_lstm\",\n",
    "           \"hybrid_cnn_lstm\", \"hybrid_lstm_rnn_gru\" ,\"hybrid_cnn_rnn_gru\",\"hybrid_cnn_gru\",\n",
    "           \"hybrid_rnn_gru\",\"hybrid_rnn_lstm\",\n",
    "           \"mavg_hybrid_cnn_lstm\", \"mavg_hybrid_lstm_rnn_gru\",\"mavg_hybrid_cnn_rnn_gru\",\n",
    "           \"mavg_hybrid_cnn_gru\",\"mavg_hybrid_rnn_gru\",\"mavg_hybrid_rnn_lstm\"\n",
    "          ]\n",
    "\n",
    "msedf = pd.DataFrame({\n",
    "    \"Model\": model_n,\n",
    "    \"MSE\": mse_list,\n",
    "    \"MAE\": mae_list,\n",
    "    \"R2\": r2_list\n",
    "})\n",
    "\n",
    "rmse = np.sqrt(msedf.MSE)\n",
    "msedf[\"RMSE\"] = rmse"
   ]
  },
  {
   "cell_type": "code",
   "execution_count": null,
   "id": "2b93999f-2200-45bd-ba4a-3d163c796364",
   "metadata": {
    "id": "f33f5196-c528-47c0-b3b7-54617059d863"
   },
   "outputs": [],
   "source": [
    "msedf"
   ]
  },
  {
   "cell_type": "code",
   "execution_count": null,
   "id": "85f8bef4-5dbd-4682-8a10-6bedea0dd595",
   "metadata": {
    "id": "968044f6-8811-4ed3-8015-1b7843711720"
   },
   "outputs": [],
   "source": [
    "msedf.to_csv(\"msedfECA.csv\", index= False)"
   ]
  },
  {
   "cell_type": "code",
   "execution_count": null,
   "id": "c94e548e-a636-4167-b037-419f4b4c8f4b",
   "metadata": {
    "id": "c37a7ba0-ef39-4d70-a7b3-b458d5df86bb"
   },
   "outputs": [],
   "source": [
    "msedf.plot(\"Model\", \"RMSE\", kind= \"bar\")"
   ]
  },
  {
   "cell_type": "code",
   "execution_count": null,
   "id": "d7cb642d-e285-4400-ab91-bb5db136721c",
   "metadata": {
    "collapsed": true,
    "id": "bcae8c79-8eff-42ea-beeb-8f1badf7470d",
    "jupyter": {
     "outputs_hidden": true
    }
   },
   "outputs": [],
   "source": []
  },
  {
   "cell_type": "code",
   "execution_count": null,
   "id": "5af5bcab-68b4-43d2-8246-985d486feb36",
   "metadata": {
    "collapsed": true,
    "id": "c9beadb4-364a-4b0f-95c1-ec22000e52d3",
    "jupyter": {
     "outputs_hidden": true
    }
   },
   "outputs": [],
   "source": []
  },
  {
   "cell_type": "code",
   "execution_count": null,
   "id": "2273775a-af02-4533-b488-32e60610f99a",
   "metadata": {
    "collapsed": true,
    "id": "ae65b6e6-5fe7-40b8-bb59-d11a8ba07eeb",
    "jupyter": {
     "outputs_hidden": true
    }
   },
   "outputs": [],
   "source": []
  },
  {
   "cell_type": "markdown",
   "id": "f2497345-1754-4553-9fc0-feb52e67cb9f",
   "metadata": {},
   "source": []
  },
  {
   "cell_type": "code",
   "execution_count": 6,
   "id": "363bf9d8-9381-48e8-93d3-e058d9a2c1f7",
   "metadata": {},
   "outputs": [],
   "source": [
    "model = load_model(\"cnn/\")"
   ]
  },
  {
   "cell_type": "code",
   "execution_count": null,
   "id": "8a864acf-9456-493b-be79-0b10a79f4181",
   "metadata": {},
   "outputs": [],
   "source": []
  }
 ],
 "metadata": {
  "kernelspec": {
   "display_name": "Python 3 (ipykernel)",
   "language": "python",
   "name": "python3"
  },
  "language_info": {
   "codemirror_mode": {
    "name": "ipython",
    "version": 3
   },
   "file_extension": ".py",
   "mimetype": "text/x-python",
   "name": "python",
   "nbconvert_exporter": "python",
   "pygments_lexer": "ipython3",
   "version": "3.9.12"
  }
 },
 "nbformat": 4,
 "nbformat_minor": 5
}
