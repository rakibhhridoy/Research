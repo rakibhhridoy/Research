{
 "cells": [
  {
   "cell_type": "markdown",
   "id": "0a155dba-8f5d-49da-9c97-ac2fc6ebfad7",
   "metadata": {
    "colab": {
     "base_uri": "https://localhost:8080/"
    },
    "executionInfo": {
     "elapsed": 2846,
     "status": "ok",
     "timestamp": 1709578947423,
     "user": {
      "displayName": "Rakib H Hridoy",
      "userId": "11427915455487036903"
     },
     "user_tz": -360
    },
    "id": "MrR21p7_neFN",
    "outputId": "01e8a906-fde8-48e5-9b40-a750d3f231a0"
   },
   "source": [
    "from google.colab import drive\n",
    "drive.mount('/content/drive')"
   ]
  },
  {
   "cell_type": "markdown",
   "id": "07279dc3-af88-4035-be64-a135cf2b6d53",
   "metadata": {
    "id": "9k4X40mmodn9"
   },
   "source": [
    "import sys\n",
    "sys.path.append('/content/drive/MyDrive/Turag/Python/DL Lab/Univariate/pHA')\n"
   ]
  },
  {
   "cell_type": "code",
   "execution_count": 1,
   "id": "6fea8c04-424d-4c1b-94bf-110f45efb648",
   "metadata": {
    "id": "6fea8c04-424d-4c1b-94bf-110f45efb648"
   },
   "outputs": [
    {
     "name": "stderr",
     "output_type": "stream",
     "text": [
      "2024-03-09 00:15:17.965313: I tensorflow/core/platform/cpu_feature_guard.cc:193] This TensorFlow binary is optimized with oneAPI Deep Neural Network Library (oneDNN) to use the following CPU instructions in performance-critical operations:  AVX2 AVX512F AVX512_VNNI FMA\n",
      "To enable them in other operations, rebuild TensorFlow with the appropriate compiler flags.\n",
      "2024-03-09 00:15:18.775978: I tensorflow/core/util/util.cc:169] oneDNN custom operations are on. You may see slightly different numerical results due to floating-point round-off errors from different computation orders. To turn them off, set the environment variable `TF_ENABLE_ONEDNN_OPTS=0`.\n",
      "2024-03-09 00:15:18.889054: W tensorflow/stream_executor/platform/default/dso_loader.cc:64] Could not load dynamic library 'libcudart.so.11.0'; dlerror: libcudart.so.11.0: cannot open shared object file: No such file or directory\n",
      "2024-03-09 00:15:18.889092: I tensorflow/stream_executor/cuda/cudart_stub.cc:29] Ignore above cudart dlerror if you do not have a GPU set up on your machine.\n",
      "2024-03-09 00:15:19.007976: E tensorflow/stream_executor/cuda/cuda_blas.cc:2981] Unable to register cuBLAS factory: Attempting to register factory for plugin cuBLAS when one has already been registered\n",
      "2024-03-09 00:15:25.831991: W tensorflow/stream_executor/platform/default/dso_loader.cc:64] Could not load dynamic library 'libnvinfer.so.7'; dlerror: libnvinfer.so.7: cannot open shared object file: No such file or directory\n",
      "2024-03-09 00:15:25.833213: W tensorflow/stream_executor/platform/default/dso_loader.cc:64] Could not load dynamic library 'libnvinfer_plugin.so.7'; dlerror: libnvinfer_plugin.so.7: cannot open shared object file: No such file or directory\n",
      "2024-03-09 00:15:25.833243: W tensorflow/compiler/tf2tensorrt/utils/py_utils.cc:38] TF-TRT Warning: Cannot dlopen some TensorRT libraries. If you would like to use Nvidia GPU with TensorRT, please make sure the missing libraries mentioned above are installed properly.\n"
     ]
    }
   ],
   "source": [
    "import pandas as pd\n",
    "import numpy as np\n",
    "import matplotlib.pyplot as plt\n",
    "import tensorflow as tf\n",
    "from tensorflow.keras.models import Sequential\n",
    "from tensorflow.keras.layers import Conv1D, MaxPooling1D, Flatten, Dense\n",
    "from tensorflow.keras.layers import Conv1D\n",
    "from tensorflow.keras.models import Sequential\n",
    "from tensorflow.keras.layers import *\n",
    "from tensorflow.keras.callbacks import ModelCheckpoint\n",
    "from tensorflow.keras.losses import MeanSquaredError\n",
    "from tensorflow.keras.metrics import RootMeanSquaredError\n",
    "from tensorflow.keras.optimizers import Adam\n",
    "from sklearn.model_selection import train_test_split\n",
    "from tensorflow.keras.models import load_model\n",
    "from sklearn.metrics import mean_squared_error as mse\n",
    "from functions_learning import *\n",
    "from feed_data import data_extract\n",
    "from tensorflow import keras\n",
    "from keras import layers"
   ]
  },
  {
   "cell_type": "code",
   "execution_count": 2,
   "id": "7a8be6f8-1df2-456f-ab61-e01e91628978",
   "metadata": {
    "id": "7a8be6f8-1df2-456f-ab61-e01e91628978"
   },
   "outputs": [],
   "source": [
    "epochs = 30"
   ]
  },
  {
   "cell_type": "code",
   "execution_count": 3,
   "id": "N-v2UE4eYQE-",
   "metadata": {
    "id": "N-v2UE4eYQE-"
   },
   "outputs": [],
   "source": [
    "df = pd.read_csv(\"data/LocationB.csv\")"
   ]
  },
  {
   "cell_type": "code",
   "execution_count": 4,
   "id": "3Ue5cRNJYfYe",
   "metadata": {
    "colab": {
     "base_uri": "https://localhost:8080/",
     "height": 206
    },
    "executionInfo": {
     "elapsed": 22,
     "status": "ok",
     "timestamp": 1709578947425,
     "user": {
      "displayName": "Rakib H Hridoy",
      "userId": "11427915455487036903"
     },
     "user_tz": -360
    },
    "id": "3Ue5cRNJYfYe",
    "outputId": "15aa7e26-a15c-481e-a389-faeaa28283fc"
   },
   "outputs": [
    {
     "data": {
      "text/html": [
       "<div>\n",
       "<style scoped>\n",
       "    .dataframe tbody tr th:only-of-type {\n",
       "        vertical-align: middle;\n",
       "    }\n",
       "\n",
       "    .dataframe tbody tr th {\n",
       "        vertical-align: top;\n",
       "    }\n",
       "\n",
       "    .dataframe thead th {\n",
       "        text-align: right;\n",
       "    }\n",
       "</style>\n",
       "<table border=\"1\" class=\"dataframe\">\n",
       "  <thead>\n",
       "    <tr style=\"text-align: right;\">\n",
       "      <th></th>\n",
       "      <th>TempB</th>\n",
       "      <th>pHB</th>\n",
       "      <th>ECB</th>\n",
       "      <th>DOB</th>\n",
       "      <th>BODB</th>\n",
       "      <th>TNB</th>\n",
       "    </tr>\n",
       "  </thead>\n",
       "  <tbody>\n",
       "    <tr>\n",
       "      <th>0</th>\n",
       "      <td>21.20</td>\n",
       "      <td>8.12</td>\n",
       "      <td>1679</td>\n",
       "      <td>2.62</td>\n",
       "      <td>27.70</td>\n",
       "      <td>1.25</td>\n",
       "    </tr>\n",
       "    <tr>\n",
       "      <th>1</th>\n",
       "      <td>21.10</td>\n",
       "      <td>8.08</td>\n",
       "      <td>1690</td>\n",
       "      <td>2.68</td>\n",
       "      <td>27.62</td>\n",
       "      <td>1.20</td>\n",
       "    </tr>\n",
       "    <tr>\n",
       "      <th>2</th>\n",
       "      <td>20.94</td>\n",
       "      <td>8.06</td>\n",
       "      <td>1680</td>\n",
       "      <td>2.67</td>\n",
       "      <td>27.25</td>\n",
       "      <td>1.24</td>\n",
       "    </tr>\n",
       "    <tr>\n",
       "      <th>3</th>\n",
       "      <td>20.94</td>\n",
       "      <td>8.09</td>\n",
       "      <td>1697</td>\n",
       "      <td>2.65</td>\n",
       "      <td>27.32</td>\n",
       "      <td>1.22</td>\n",
       "    </tr>\n",
       "    <tr>\n",
       "      <th>4</th>\n",
       "      <td>21.19</td>\n",
       "      <td>8.11</td>\n",
       "      <td>1692</td>\n",
       "      <td>2.69</td>\n",
       "      <td>27.32</td>\n",
       "      <td>1.18</td>\n",
       "    </tr>\n",
       "  </tbody>\n",
       "</table>\n",
       "</div>"
      ],
      "text/plain": [
       "   TempB   pHB   ECB   DOB   BODB   TNB\n",
       "0  21.20  8.12  1679  2.62  27.70  1.25\n",
       "1  21.10  8.08  1690  2.68  27.62  1.20\n",
       "2  20.94  8.06  1680  2.67  27.25  1.24\n",
       "3  20.94  8.09  1697  2.65  27.32  1.22\n",
       "4  21.19  8.11  1692  2.69  27.32  1.18"
      ]
     },
     "execution_count": 4,
     "metadata": {},
     "output_type": "execute_result"
    }
   ],
   "source": [
    "df.drop(columns=[\"Unnamed: 0\", \"Date\"], inplace=True)\n",
    "df.head()"
   ]
  },
  {
   "cell_type": "code",
   "execution_count": 5,
   "id": "vUw6WLwOYfS7",
   "metadata": {
    "colab": {
     "base_uri": "https://localhost:8080/"
    },
    "executionInfo": {
     "elapsed": 20,
     "status": "ok",
     "timestamp": 1709578947425,
     "user": {
      "displayName": "Rakib H Hridoy",
      "userId": "11427915455487036903"
     },
     "user_tz": -360
    },
    "id": "vUw6WLwOYfS7",
    "outputId": "2f122d95-0308-4939-d4ee-844ad8864de5"
   },
   "outputs": [
    {
     "data": {
      "text/plain": [
       "0      8.12\n",
       "1      8.08\n",
       "2      8.06\n",
       "3      8.09\n",
       "4      8.11\n",
       "       ... \n",
       "360    7.98\n",
       "361    7.97\n",
       "362    8.07\n",
       "363    8.09\n",
       "364    8.02\n",
       "Name: pHB, Length: 365, dtype: float64"
      ]
     },
     "execution_count": 5,
     "metadata": {},
     "output_type": "execute_result"
    }
   ],
   "source": [
    "WINDOW_SIZE = 3\n",
    "pHB = df[\"pHB\"]\n",
    "pHB"
   ]
  },
  {
   "cell_type": "code",
   "execution_count": 6,
   "id": "rIzOMQ8FY-_E",
   "metadata": {
    "id": "rIzOMQ8FY-_E"
   },
   "outputs": [],
   "source": [
    "X1, y1 = df_to_X_y(pHB, WINDOW_SIZE)\n",
    "x_train, x_test, y_train, y_test = train_test_split(X1, y1, test_size=0.2, random_state=1)\n",
    "x_train, x_val, y_train, y_val = train_test_split(x_train, y_train, test_size=0.2, random_state=1)"
   ]
  },
  {
   "cell_type": "code",
   "execution_count": 7,
   "id": "G1bRf2SpZQap",
   "metadata": {
    "colab": {
     "base_uri": "https://localhost:8080/"
    },
    "executionInfo": {
     "elapsed": 14,
     "status": "ok",
     "timestamp": 1709578947425,
     "user": {
      "displayName": "Rakib H Hridoy",
      "userId": "11427915455487036903"
     },
     "user_tz": -360
    },
    "id": "G1bRf2SpZQap",
    "outputId": "2c26ad87-9387-42af-d915-2f1cf7e7ba16"
   },
   "outputs": [
    {
     "data": {
      "text/plain": [
       "(array([[[6.5 ],\n",
       "         [6.47],\n",
       "         [6.49]],\n",
       " \n",
       "        [[7.88],\n",
       "         [7.89],\n",
       "         [7.91]],\n",
       " \n",
       "        [[7.79],\n",
       "         [7.87],\n",
       "         [7.65]],\n",
       " \n",
       "        [[7.58],\n",
       "         [7.  ],\n",
       "         [7.34]],\n",
       " \n",
       "        [[7.57],\n",
       "         [7.39],\n",
       "         [7.41]]]),\n",
       " array([6.42, 7.88, 7.62, 7.48, 7.61]))"
      ]
     },
     "execution_count": 7,
     "metadata": {},
     "output_type": "execute_result"
    }
   ],
   "source": [
    "x_train[:5], y_train[:5]"
   ]
  },
  {
   "cell_type": "markdown",
   "id": "d97481c9-eaa4-4fe3-a28f-cc3a86f99ba4",
   "metadata": {
    "id": "d97481c9-eaa4-4fe3-a28f-cc3a86f99ba4"
   },
   "source": [
    "# General Model"
   ]
  },
  {
   "cell_type": "markdown",
   "id": "25993cb2-a807-4ff8-b2d5-a9455c2f01f4",
   "metadata": {
    "id": "25993cb2-a807-4ff8-b2d5-a9455c2f01f4"
   },
   "source": [
    "### CNN"
   ]
  },
  {
   "cell_type": "code",
   "execution_count": 8,
   "id": "a91b7575-703b-482c-9707-50e602f7d206",
   "metadata": {
    "colab": {
     "base_uri": "https://localhost:8080/",
     "height": 1000
    },
    "executionInfo": {
     "elapsed": 41533,
     "status": "ok",
     "timestamp": 1709578988948,
     "user": {
      "displayName": "Rakib H Hridoy",
      "userId": "11427915455487036903"
     },
     "user_tz": -360
    },
    "id": "a91b7575-703b-482c-9707-50e602f7d206",
    "outputId": "0aad5853-5a58-4e6b-c071-c2c2d5c6c70a"
   },
   "outputs": [
    {
     "ename": "FileNotFoundError",
     "evalue": "[Errno 2] No such file or directory: '/content/drive/MyDrive/Turag/Python/DL Lab/Univariate/phA/data/LocationA.csv'",
     "output_type": "error",
     "traceback": [
      "\u001b[0;31m---------------------------------------------------------------------------\u001b[0m",
      "\u001b[0;31mFileNotFoundError\u001b[0m                         Traceback (most recent call last)",
      "Input \u001b[0;32mIn [8]\u001b[0m, in \u001b[0;36m<cell line: 1>\u001b[0;34m()\u001b[0m\n\u001b[0;32m----> 1\u001b[0m x_train, x_test, y_train, y_test, x_val, y_val \u001b[38;5;241m=\u001b[39m \u001b[43mdata_extract\u001b[49m\u001b[43m(\u001b[49m\u001b[43m)\u001b[49m\n\u001b[1;32m      3\u001b[0m model \u001b[38;5;241m=\u001b[39m Sequential()\n\u001b[1;32m      4\u001b[0m model\u001b[38;5;241m.\u001b[39madd(InputLayer((\u001b[38;5;241m3\u001b[39m, \u001b[38;5;241m1\u001b[39m)))\n",
      "File \u001b[0;32m~/Research/Colab/Turag/Python/DL Lab/Univariate/pHB/feed_data.py:10\u001b[0m, in \u001b[0;36mdata_extract\u001b[0;34m()\u001b[0m\n\u001b[1;32m      9\u001b[0m \u001b[38;5;28;01mdef\u001b[39;00m \u001b[38;5;21mdata_extract\u001b[39m():\n\u001b[0;32m---> 10\u001b[0m     locA \u001b[38;5;241m=\u001b[39m \u001b[43mload_file\u001b[49m\u001b[43m(\u001b[49m\u001b[43mfname\u001b[49m\u001b[43m)\u001b[49m\n\u001b[1;32m     11\u001b[0m     locA \u001b[38;5;241m=\u001b[39m locA\u001b[38;5;241m.\u001b[39mset_index(\u001b[38;5;124m\"\u001b[39m\u001b[38;5;124mDate\u001b[39m\u001b[38;5;124m\"\u001b[39m)\n\u001b[1;32m     13\u001b[0m     pHA \u001b[38;5;241m=\u001b[39m locA[\u001b[38;5;124m\"\u001b[39m\u001b[38;5;124mpHA\u001b[39m\u001b[38;5;124m\"\u001b[39m]\n",
      "File \u001b[0;32m~/Research/Colab/Turag/Python/DL Lab/Univariate/pHB/load_data.py:4\u001b[0m, in \u001b[0;36mload_file\u001b[0;34m(file)\u001b[0m\n\u001b[1;32m      3\u001b[0m \u001b[38;5;28;01mdef\u001b[39;00m \u001b[38;5;21mload_file\u001b[39m(file):\n\u001b[0;32m----> 4\u001b[0m     df \u001b[38;5;241m=\u001b[39m \u001b[43mpd\u001b[49m\u001b[38;5;241;43m.\u001b[39;49m\u001b[43mread_csv\u001b[49m\u001b[43m(\u001b[49m\u001b[43mfile\u001b[49m\u001b[43m,\u001b[49m\u001b[43m \u001b[49m\u001b[43mindex_col\u001b[49m\u001b[43m \u001b[49m\u001b[38;5;241;43m=\u001b[39;49m\u001b[43m \u001b[49m\u001b[38;5;28;43;01mFalse\u001b[39;49;00m\u001b[43m)\u001b[49m\n\u001b[1;32m      5\u001b[0m     \u001b[38;5;28;01mreturn\u001b[39;00m df\n",
      "File \u001b[0;32m~/anaconda3/lib/python3.9/site-packages/pandas/util/_decorators.py:311\u001b[0m, in \u001b[0;36mdeprecate_nonkeyword_arguments.<locals>.decorate.<locals>.wrapper\u001b[0;34m(*args, **kwargs)\u001b[0m\n\u001b[1;32m    305\u001b[0m \u001b[38;5;28;01mif\u001b[39;00m \u001b[38;5;28mlen\u001b[39m(args) \u001b[38;5;241m>\u001b[39m num_allow_args:\n\u001b[1;32m    306\u001b[0m     warnings\u001b[38;5;241m.\u001b[39mwarn(\n\u001b[1;32m    307\u001b[0m         msg\u001b[38;5;241m.\u001b[39mformat(arguments\u001b[38;5;241m=\u001b[39marguments),\n\u001b[1;32m    308\u001b[0m         \u001b[38;5;167;01mFutureWarning\u001b[39;00m,\n\u001b[1;32m    309\u001b[0m         stacklevel\u001b[38;5;241m=\u001b[39mstacklevel,\n\u001b[1;32m    310\u001b[0m     )\n\u001b[0;32m--> 311\u001b[0m \u001b[38;5;28;01mreturn\u001b[39;00m \u001b[43mfunc\u001b[49m\u001b[43m(\u001b[49m\u001b[38;5;241;43m*\u001b[39;49m\u001b[43margs\u001b[49m\u001b[43m,\u001b[49m\u001b[43m \u001b[49m\u001b[38;5;241;43m*\u001b[39;49m\u001b[38;5;241;43m*\u001b[39;49m\u001b[43mkwargs\u001b[49m\u001b[43m)\u001b[49m\n",
      "File \u001b[0;32m~/anaconda3/lib/python3.9/site-packages/pandas/io/parsers/readers.py:680\u001b[0m, in \u001b[0;36mread_csv\u001b[0;34m(filepath_or_buffer, sep, delimiter, header, names, index_col, usecols, squeeze, prefix, mangle_dupe_cols, dtype, engine, converters, true_values, false_values, skipinitialspace, skiprows, skipfooter, nrows, na_values, keep_default_na, na_filter, verbose, skip_blank_lines, parse_dates, infer_datetime_format, keep_date_col, date_parser, dayfirst, cache_dates, iterator, chunksize, compression, thousands, decimal, lineterminator, quotechar, quoting, doublequote, escapechar, comment, encoding, encoding_errors, dialect, error_bad_lines, warn_bad_lines, on_bad_lines, delim_whitespace, low_memory, memory_map, float_precision, storage_options)\u001b[0m\n\u001b[1;32m    665\u001b[0m kwds_defaults \u001b[38;5;241m=\u001b[39m _refine_defaults_read(\n\u001b[1;32m    666\u001b[0m     dialect,\n\u001b[1;32m    667\u001b[0m     delimiter,\n\u001b[0;32m   (...)\u001b[0m\n\u001b[1;32m    676\u001b[0m     defaults\u001b[38;5;241m=\u001b[39m{\u001b[38;5;124m\"\u001b[39m\u001b[38;5;124mdelimiter\u001b[39m\u001b[38;5;124m\"\u001b[39m: \u001b[38;5;124m\"\u001b[39m\u001b[38;5;124m,\u001b[39m\u001b[38;5;124m\"\u001b[39m},\n\u001b[1;32m    677\u001b[0m )\n\u001b[1;32m    678\u001b[0m kwds\u001b[38;5;241m.\u001b[39mupdate(kwds_defaults)\n\u001b[0;32m--> 680\u001b[0m \u001b[38;5;28;01mreturn\u001b[39;00m \u001b[43m_read\u001b[49m\u001b[43m(\u001b[49m\u001b[43mfilepath_or_buffer\u001b[49m\u001b[43m,\u001b[49m\u001b[43m \u001b[49m\u001b[43mkwds\u001b[49m\u001b[43m)\u001b[49m\n",
      "File \u001b[0;32m~/anaconda3/lib/python3.9/site-packages/pandas/io/parsers/readers.py:575\u001b[0m, in \u001b[0;36m_read\u001b[0;34m(filepath_or_buffer, kwds)\u001b[0m\n\u001b[1;32m    572\u001b[0m _validate_names(kwds\u001b[38;5;241m.\u001b[39mget(\u001b[38;5;124m\"\u001b[39m\u001b[38;5;124mnames\u001b[39m\u001b[38;5;124m\"\u001b[39m, \u001b[38;5;28;01mNone\u001b[39;00m))\n\u001b[1;32m    574\u001b[0m \u001b[38;5;66;03m# Create the parser.\u001b[39;00m\n\u001b[0;32m--> 575\u001b[0m parser \u001b[38;5;241m=\u001b[39m \u001b[43mTextFileReader\u001b[49m\u001b[43m(\u001b[49m\u001b[43mfilepath_or_buffer\u001b[49m\u001b[43m,\u001b[49m\u001b[43m \u001b[49m\u001b[38;5;241;43m*\u001b[39;49m\u001b[38;5;241;43m*\u001b[39;49m\u001b[43mkwds\u001b[49m\u001b[43m)\u001b[49m\n\u001b[1;32m    577\u001b[0m \u001b[38;5;28;01mif\u001b[39;00m chunksize \u001b[38;5;129;01mor\u001b[39;00m iterator:\n\u001b[1;32m    578\u001b[0m     \u001b[38;5;28;01mreturn\u001b[39;00m parser\n",
      "File \u001b[0;32m~/anaconda3/lib/python3.9/site-packages/pandas/io/parsers/readers.py:933\u001b[0m, in \u001b[0;36mTextFileReader.__init__\u001b[0;34m(self, f, engine, **kwds)\u001b[0m\n\u001b[1;32m    930\u001b[0m     \u001b[38;5;28mself\u001b[39m\u001b[38;5;241m.\u001b[39moptions[\u001b[38;5;124m\"\u001b[39m\u001b[38;5;124mhas_index_names\u001b[39m\u001b[38;5;124m\"\u001b[39m] \u001b[38;5;241m=\u001b[39m kwds[\u001b[38;5;124m\"\u001b[39m\u001b[38;5;124mhas_index_names\u001b[39m\u001b[38;5;124m\"\u001b[39m]\n\u001b[1;32m    932\u001b[0m \u001b[38;5;28mself\u001b[39m\u001b[38;5;241m.\u001b[39mhandles: IOHandles \u001b[38;5;241m|\u001b[39m \u001b[38;5;28;01mNone\u001b[39;00m \u001b[38;5;241m=\u001b[39m \u001b[38;5;28;01mNone\u001b[39;00m\n\u001b[0;32m--> 933\u001b[0m \u001b[38;5;28mself\u001b[39m\u001b[38;5;241m.\u001b[39m_engine \u001b[38;5;241m=\u001b[39m \u001b[38;5;28;43mself\u001b[39;49m\u001b[38;5;241;43m.\u001b[39;49m\u001b[43m_make_engine\u001b[49m\u001b[43m(\u001b[49m\u001b[43mf\u001b[49m\u001b[43m,\u001b[49m\u001b[43m \u001b[49m\u001b[38;5;28;43mself\u001b[39;49m\u001b[38;5;241;43m.\u001b[39;49m\u001b[43mengine\u001b[49m\u001b[43m)\u001b[49m\n",
      "File \u001b[0;32m~/anaconda3/lib/python3.9/site-packages/pandas/io/parsers/readers.py:1217\u001b[0m, in \u001b[0;36mTextFileReader._make_engine\u001b[0;34m(self, f, engine)\u001b[0m\n\u001b[1;32m   1213\u001b[0m     mode \u001b[38;5;241m=\u001b[39m \u001b[38;5;124m\"\u001b[39m\u001b[38;5;124mrb\u001b[39m\u001b[38;5;124m\"\u001b[39m\n\u001b[1;32m   1214\u001b[0m \u001b[38;5;66;03m# error: No overload variant of \"get_handle\" matches argument types\u001b[39;00m\n\u001b[1;32m   1215\u001b[0m \u001b[38;5;66;03m# \"Union[str, PathLike[str], ReadCsvBuffer[bytes], ReadCsvBuffer[str]]\"\u001b[39;00m\n\u001b[1;32m   1216\u001b[0m \u001b[38;5;66;03m# , \"str\", \"bool\", \"Any\", \"Any\", \"Any\", \"Any\", \"Any\"\u001b[39;00m\n\u001b[0;32m-> 1217\u001b[0m \u001b[38;5;28mself\u001b[39m\u001b[38;5;241m.\u001b[39mhandles \u001b[38;5;241m=\u001b[39m \u001b[43mget_handle\u001b[49m\u001b[43m(\u001b[49m\u001b[43m  \u001b[49m\u001b[38;5;66;43;03m# type: ignore[call-overload]\u001b[39;49;00m\n\u001b[1;32m   1218\u001b[0m \u001b[43m    \u001b[49m\u001b[43mf\u001b[49m\u001b[43m,\u001b[49m\n\u001b[1;32m   1219\u001b[0m \u001b[43m    \u001b[49m\u001b[43mmode\u001b[49m\u001b[43m,\u001b[49m\n\u001b[1;32m   1220\u001b[0m \u001b[43m    \u001b[49m\u001b[43mencoding\u001b[49m\u001b[38;5;241;43m=\u001b[39;49m\u001b[38;5;28;43mself\u001b[39;49m\u001b[38;5;241;43m.\u001b[39;49m\u001b[43moptions\u001b[49m\u001b[38;5;241;43m.\u001b[39;49m\u001b[43mget\u001b[49m\u001b[43m(\u001b[49m\u001b[38;5;124;43m\"\u001b[39;49m\u001b[38;5;124;43mencoding\u001b[39;49m\u001b[38;5;124;43m\"\u001b[39;49m\u001b[43m,\u001b[49m\u001b[43m \u001b[49m\u001b[38;5;28;43;01mNone\u001b[39;49;00m\u001b[43m)\u001b[49m\u001b[43m,\u001b[49m\n\u001b[1;32m   1221\u001b[0m \u001b[43m    \u001b[49m\u001b[43mcompression\u001b[49m\u001b[38;5;241;43m=\u001b[39;49m\u001b[38;5;28;43mself\u001b[39;49m\u001b[38;5;241;43m.\u001b[39;49m\u001b[43moptions\u001b[49m\u001b[38;5;241;43m.\u001b[39;49m\u001b[43mget\u001b[49m\u001b[43m(\u001b[49m\u001b[38;5;124;43m\"\u001b[39;49m\u001b[38;5;124;43mcompression\u001b[39;49m\u001b[38;5;124;43m\"\u001b[39;49m\u001b[43m,\u001b[49m\u001b[43m \u001b[49m\u001b[38;5;28;43;01mNone\u001b[39;49;00m\u001b[43m)\u001b[49m\u001b[43m,\u001b[49m\n\u001b[1;32m   1222\u001b[0m \u001b[43m    \u001b[49m\u001b[43mmemory_map\u001b[49m\u001b[38;5;241;43m=\u001b[39;49m\u001b[38;5;28;43mself\u001b[39;49m\u001b[38;5;241;43m.\u001b[39;49m\u001b[43moptions\u001b[49m\u001b[38;5;241;43m.\u001b[39;49m\u001b[43mget\u001b[49m\u001b[43m(\u001b[49m\u001b[38;5;124;43m\"\u001b[39;49m\u001b[38;5;124;43mmemory_map\u001b[39;49m\u001b[38;5;124;43m\"\u001b[39;49m\u001b[43m,\u001b[49m\u001b[43m \u001b[49m\u001b[38;5;28;43;01mFalse\u001b[39;49;00m\u001b[43m)\u001b[49m\u001b[43m,\u001b[49m\n\u001b[1;32m   1223\u001b[0m \u001b[43m    \u001b[49m\u001b[43mis_text\u001b[49m\u001b[38;5;241;43m=\u001b[39;49m\u001b[43mis_text\u001b[49m\u001b[43m,\u001b[49m\n\u001b[1;32m   1224\u001b[0m \u001b[43m    \u001b[49m\u001b[43merrors\u001b[49m\u001b[38;5;241;43m=\u001b[39;49m\u001b[38;5;28;43mself\u001b[39;49m\u001b[38;5;241;43m.\u001b[39;49m\u001b[43moptions\u001b[49m\u001b[38;5;241;43m.\u001b[39;49m\u001b[43mget\u001b[49m\u001b[43m(\u001b[49m\u001b[38;5;124;43m\"\u001b[39;49m\u001b[38;5;124;43mencoding_errors\u001b[39;49m\u001b[38;5;124;43m\"\u001b[39;49m\u001b[43m,\u001b[49m\u001b[43m \u001b[49m\u001b[38;5;124;43m\"\u001b[39;49m\u001b[38;5;124;43mstrict\u001b[39;49m\u001b[38;5;124;43m\"\u001b[39;49m\u001b[43m)\u001b[49m\u001b[43m,\u001b[49m\n\u001b[1;32m   1225\u001b[0m \u001b[43m    \u001b[49m\u001b[43mstorage_options\u001b[49m\u001b[38;5;241;43m=\u001b[39;49m\u001b[38;5;28;43mself\u001b[39;49m\u001b[38;5;241;43m.\u001b[39;49m\u001b[43moptions\u001b[49m\u001b[38;5;241;43m.\u001b[39;49m\u001b[43mget\u001b[49m\u001b[43m(\u001b[49m\u001b[38;5;124;43m\"\u001b[39;49m\u001b[38;5;124;43mstorage_options\u001b[39;49m\u001b[38;5;124;43m\"\u001b[39;49m\u001b[43m,\u001b[49m\u001b[43m \u001b[49m\u001b[38;5;28;43;01mNone\u001b[39;49;00m\u001b[43m)\u001b[49m\u001b[43m,\u001b[49m\n\u001b[1;32m   1226\u001b[0m \u001b[43m\u001b[49m\u001b[43m)\u001b[49m\n\u001b[1;32m   1227\u001b[0m \u001b[38;5;28;01massert\u001b[39;00m \u001b[38;5;28mself\u001b[39m\u001b[38;5;241m.\u001b[39mhandles \u001b[38;5;129;01mis\u001b[39;00m \u001b[38;5;129;01mnot\u001b[39;00m \u001b[38;5;28;01mNone\u001b[39;00m\n\u001b[1;32m   1228\u001b[0m f \u001b[38;5;241m=\u001b[39m \u001b[38;5;28mself\u001b[39m\u001b[38;5;241m.\u001b[39mhandles\u001b[38;5;241m.\u001b[39mhandle\n",
      "File \u001b[0;32m~/anaconda3/lib/python3.9/site-packages/pandas/io/common.py:789\u001b[0m, in \u001b[0;36mget_handle\u001b[0;34m(path_or_buf, mode, encoding, compression, memory_map, is_text, errors, storage_options)\u001b[0m\n\u001b[1;32m    784\u001b[0m \u001b[38;5;28;01melif\u001b[39;00m \u001b[38;5;28misinstance\u001b[39m(handle, \u001b[38;5;28mstr\u001b[39m):\n\u001b[1;32m    785\u001b[0m     \u001b[38;5;66;03m# Check whether the filename is to be opened in binary mode.\u001b[39;00m\n\u001b[1;32m    786\u001b[0m     \u001b[38;5;66;03m# Binary mode does not support 'encoding' and 'newline'.\u001b[39;00m\n\u001b[1;32m    787\u001b[0m     \u001b[38;5;28;01mif\u001b[39;00m ioargs\u001b[38;5;241m.\u001b[39mencoding \u001b[38;5;129;01mand\u001b[39;00m \u001b[38;5;124m\"\u001b[39m\u001b[38;5;124mb\u001b[39m\u001b[38;5;124m\"\u001b[39m \u001b[38;5;129;01mnot\u001b[39;00m \u001b[38;5;129;01min\u001b[39;00m ioargs\u001b[38;5;241m.\u001b[39mmode:\n\u001b[1;32m    788\u001b[0m         \u001b[38;5;66;03m# Encoding\u001b[39;00m\n\u001b[0;32m--> 789\u001b[0m         handle \u001b[38;5;241m=\u001b[39m \u001b[38;5;28;43mopen\u001b[39;49m\u001b[43m(\u001b[49m\n\u001b[1;32m    790\u001b[0m \u001b[43m            \u001b[49m\u001b[43mhandle\u001b[49m\u001b[43m,\u001b[49m\n\u001b[1;32m    791\u001b[0m \u001b[43m            \u001b[49m\u001b[43mioargs\u001b[49m\u001b[38;5;241;43m.\u001b[39;49m\u001b[43mmode\u001b[49m\u001b[43m,\u001b[49m\n\u001b[1;32m    792\u001b[0m \u001b[43m            \u001b[49m\u001b[43mencoding\u001b[49m\u001b[38;5;241;43m=\u001b[39;49m\u001b[43mioargs\u001b[49m\u001b[38;5;241;43m.\u001b[39;49m\u001b[43mencoding\u001b[49m\u001b[43m,\u001b[49m\n\u001b[1;32m    793\u001b[0m \u001b[43m            \u001b[49m\u001b[43merrors\u001b[49m\u001b[38;5;241;43m=\u001b[39;49m\u001b[43merrors\u001b[49m\u001b[43m,\u001b[49m\n\u001b[1;32m    794\u001b[0m \u001b[43m            \u001b[49m\u001b[43mnewline\u001b[49m\u001b[38;5;241;43m=\u001b[39;49m\u001b[38;5;124;43m\"\u001b[39;49m\u001b[38;5;124;43m\"\u001b[39;49m\u001b[43m,\u001b[49m\n\u001b[1;32m    795\u001b[0m \u001b[43m        \u001b[49m\u001b[43m)\u001b[49m\n\u001b[1;32m    796\u001b[0m     \u001b[38;5;28;01melse\u001b[39;00m:\n\u001b[1;32m    797\u001b[0m         \u001b[38;5;66;03m# Binary mode\u001b[39;00m\n\u001b[1;32m    798\u001b[0m         handle \u001b[38;5;241m=\u001b[39m \u001b[38;5;28mopen\u001b[39m(handle, ioargs\u001b[38;5;241m.\u001b[39mmode)\n",
      "\u001b[0;31mFileNotFoundError\u001b[0m: [Errno 2] No such file or directory: '/content/drive/MyDrive/Turag/Python/DL Lab/Univariate/phA/data/LocationA.csv'"
     ]
    }
   ],
   "source": [
    "x_train, x_test, y_train, y_test, x_val, y_val = data_extract()\n",
    "\n",
    "model = Sequential()\n",
    "model.add(InputLayer((3, 1)))\n",
    "model.add(Conv1D(64, kernel_size=2))\n",
    "model.add(Flatten())\n",
    "model.add(Dense(8, 'relu'))\n",
    "model.add(Dense(1, 'linear'))\n",
    "\n",
    "\n",
    "\n",
    "cp = ModelCheckpoint('cnn/', save_best_only=True)\n",
    "\n",
    "model = fit_model(model, cp, epochs, x_train, y_train, x_val, y_val)\n",
    "\n",
    "plot_train(\"cnn\", 50, x_train, y_train)\n",
    "plot_val(model, 50, x_val, y_val)\n",
    "plot_test(model, 50, x_test, y_test)\n",
    "cnn_mse = plot_predictions1(model,x_test, y_test)"
   ]
  },
  {
   "cell_type": "markdown",
   "id": "f8a6f749-830e-433c-8169-dfb229ac48b5",
   "metadata": {
    "id": "f8a6f749-830e-433c-8169-dfb229ac48b5"
   },
   "source": [
    "### GRU"
   ]
  },
  {
   "cell_type": "code",
   "execution_count": null,
   "id": "339a87c6-549a-4a36-961b-9fcc9d5fc2b3",
   "metadata": {
    "colab": {
     "base_uri": "https://localhost:8080/",
     "height": 1000
    },
    "executionInfo": {
     "elapsed": 177410,
     "status": "ok",
     "timestamp": 1709574461094,
     "user": {
      "displayName": "Rakib H Hridoy",
      "userId": "11427915455487036903"
     },
     "user_tz": -360
    },
    "id": "339a87c6-549a-4a36-961b-9fcc9d5fc2b3",
    "outputId": "4aa0b351-f375-48ea-e186-b3a2915cc986"
   },
   "outputs": [],
   "source": [
    "model = keras.Sequential([\n",
    "    layers.GRU(units=64, input_shape=(3, 1)),\n",
    "    layers.Dense(units=1)\n",
    "])\n",
    "\n",
    "model.compile(loss='mean_squared_error', optimizer='adam')\n",
    "\n",
    "cp = ModelCheckpoint('gru/', save_best_only=True)\n",
    "model = fit_model(model, cp, epochs, x_train, y_train, x_val, y_val)\n",
    "\n",
    "plot_train(\"gru\", 50, x_train, y_train)\n",
    "plot_val(model, 50, x_val, y_val)\n",
    "plot_test(model, 50, x_test, y_test)\n",
    "gru_mse = plot_predictions1(model,x_test, y_test)"
   ]
  },
  {
   "cell_type": "markdown",
   "id": "b04e9cad-6de4-4a34-b473-278ff67ae813",
   "metadata": {
    "id": "b04e9cad-6de4-4a34-b473-278ff67ae813"
   },
   "source": [
    "### LSTM"
   ]
  },
  {
   "cell_type": "code",
   "execution_count": null,
   "id": "0d0a65de-3086-46b9-a4cc-909970f64bb2",
   "metadata": {
    "colab": {
     "base_uri": "https://localhost:8080/",
     "height": 1000
    },
    "executionInfo": {
     "elapsed": 210340,
     "status": "ok",
     "timestamp": 1709574671422,
     "user": {
      "displayName": "Rakib H Hridoy",
      "userId": "11427915455487036903"
     },
     "user_tz": -360
    },
    "id": "0d0a65de-3086-46b9-a4cc-909970f64bb2",
    "outputId": "67cbb4cc-ae28-4227-acd1-ac2d052fc874"
   },
   "outputs": [],
   "source": [
    "model = Sequential()\n",
    "model.add(InputLayer((3, 1)))\n",
    "model.add(LSTM(64))\n",
    "model.add(Dense(8, 'relu'))\n",
    "model.add(Dense(1, 'linear'))\n",
    "\n",
    "cp = ModelCheckpoint('lstm/', save_best_only=True)\n",
    "model = fit_model(model, cp, epochs, x_train, y_train, x_val, y_val)\n",
    "\n",
    "\n",
    "plot_train(\"lstm\", 50, x_train, y_train)\n",
    "plot_val(model, 50, x_val, y_val)\n",
    "plot_test(model, 50, x_test, y_test)\n",
    "lstm_mse = plot_predictions1(model,x_test, y_test)"
   ]
  },
  {
   "cell_type": "markdown",
   "id": "f026be61-c1e7-4c4b-bb0f-730b396eaa0a",
   "metadata": {
    "id": "f026be61-c1e7-4c4b-bb0f-730b396eaa0a"
   },
   "source": [
    "### RNN"
   ]
  },
  {
   "cell_type": "code",
   "execution_count": null,
   "id": "d4a96d4e-376b-4593-923a-85777ba0ac4c",
   "metadata": {
    "colab": {
     "base_uri": "https://localhost:8080/",
     "height": 1000
    },
    "executionInfo": {
     "elapsed": 85211,
     "status": "ok",
     "timestamp": 1709574756621,
     "user": {
      "displayName": "Rakib H Hridoy",
      "userId": "11427915455487036903"
     },
     "user_tz": -360
    },
    "id": "d4a96d4e-376b-4593-923a-85777ba0ac4c",
    "outputId": "bc6769ab-47ea-4929-edf8-53c81084d9f9"
   },
   "outputs": [],
   "source": [
    "model = keras.Sequential([\n",
    "    layers.SimpleRNN(units=64, input_shape=(3, 1)),\n",
    "    layers.Dense(units=1)\n",
    "])\n",
    "\n",
    "model.compile(loss='mean_squared_error', optimizer='adam')\n",
    "\n",
    "cp = ModelCheckpoint('rnn/', save_best_only=True)\n",
    "model = fit_model(model, cp, epochs, x_train, y_train, x_val, y_val)\n",
    "\n",
    "plot_train(\"rnn\", 50, x_train, y_train)\n",
    "plot_val(model, 50, x_val, y_val)\n",
    "plot_test(model, 50, x_test, y_test)\n",
    "rnn_mse = plot_predictions1(model,x_test, y_test)"
   ]
  },
  {
   "cell_type": "markdown",
   "id": "5b36e8fa-5344-4148-892b-ca9fe008c719",
   "metadata": {
    "id": "5b36e8fa-5344-4148-892b-ca9fe008c719"
   },
   "source": [
    "# Moving Average"
   ]
  },
  {
   "cell_type": "code",
   "execution_count": null,
   "id": "b5132375-1d78-4767-8c5a-e7fb931a4595",
   "metadata": {
    "id": "b5132375-1d78-4767-8c5a-e7fb931a4595"
   },
   "outputs": [],
   "source": [
    "window_size = 3\n",
    "\n",
    "def moving_average(data, window_size):\n",
    "    cumsum = np.cumsum(data, axis=0)\n",
    "    cumsum[window_size:] = cumsum[window_size:] - cumsum[:-window_size]\n",
    "    return cumsum[window_size - 1:] / window_size\n",
    "\n",
    "moving_avg_data = np.apply_along_axis(lambda x: moving_average(x, window_size), axis=0, arr=x_train)\n",
    "target = y_train[window_size - 1:].flatten()"
   ]
  },
  {
   "cell_type": "markdown",
   "id": "86590f01-32db-4702-9223-d1ea89969e57",
   "metadata": {
    "id": "86590f01-32db-4702-9223-d1ea89969e57"
   },
   "source": [
    "#### CNN"
   ]
  },
  {
   "cell_type": "code",
   "execution_count": null,
   "id": "b61211fc-375a-41be-86ff-3cce47bbcd15",
   "metadata": {
    "colab": {
     "base_uri": "https://localhost:8080/",
     "height": 1000
    },
    "executionInfo": {
     "elapsed": 43217,
     "status": "ok",
     "timestamp": 1709574799830,
     "user": {
      "displayName": "Rakib H Hridoy",
      "userId": "11427915455487036903"
     },
     "user_tz": -360
    },
    "id": "b61211fc-375a-41be-86ff-3cce47bbcd15",
    "outputId": "af89efb5-539a-4fba-837d-d6ae06cd9a8e"
   },
   "outputs": [],
   "source": [
    "model = Sequential()\n",
    "model.add(InputLayer((3, 1)))\n",
    "model.add(Conv1D(64, kernel_size=2))\n",
    "model.add(Flatten())\n",
    "model.add(Dense(8, 'relu'))\n",
    "model.add(Dense(1, 'linear'))\n",
    "\n",
    "cp = ModelCheckpoint('mavg_cnn/', save_best_only=True)\n",
    "\n",
    "model = fit_model(model, cp, epochs, moving_avg_data, target,x_val, y_val)\n",
    "\n",
    "plot_train(\"mavg_cnn\", 50, moving_avg_data, target)\n",
    "plot_val(model, 50, x_val, y_val)\n",
    "plot_test(model, 50, x_test, y_test)\n",
    "mvg_cnn_mse = plot_predictions1(model,x_test, y_test)"
   ]
  },
  {
   "cell_type": "markdown",
   "id": "6250b4a1-3772-4b90-8ed2-6d4eaafce219",
   "metadata": {
    "id": "6250b4a1-3772-4b90-8ed2-6d4eaafce219"
   },
   "source": [
    "#### GRU"
   ]
  },
  {
   "cell_type": "code",
   "execution_count": null,
   "id": "719a6cd9-abe8-49a6-949c-a97fca1ff383",
   "metadata": {
    "colab": {
     "base_uri": "https://localhost:8080/",
     "height": 1000
    },
    "executionInfo": {
     "elapsed": 209142,
     "status": "ok",
     "timestamp": 1709575008966,
     "user": {
      "displayName": "Rakib H Hridoy",
      "userId": "11427915455487036903"
     },
     "user_tz": -360
    },
    "id": "719a6cd9-abe8-49a6-949c-a97fca1ff383",
    "outputId": "cb5c3818-27b7-43c2-f504-ca05f2544cc5"
   },
   "outputs": [],
   "source": [
    "model = keras.Sequential([\n",
    "    layers.GRU(units=64, input_shape=(3, 1)),\n",
    "    layers.Dense(units=1)\n",
    "])\n",
    "\n",
    "model.compile(loss='mean_squared_error', optimizer='adam')\n",
    "\n",
    "cp = ModelCheckpoint('mavg_gru/', save_best_only=True)\n",
    "model = fit_model(model, cp, epochs,  moving_avg_data, target, x_val, y_val)\n",
    "\n",
    "plot_train(\"mavg_gru\", 50, moving_avg_data, target)\n",
    "plot_val(model, 50, x_val, y_val)\n",
    "plot_test(model, 50, x_test, y_test)\n",
    "mvg_gru_mse = plot_predictions1(model,x_test, y_test)"
   ]
  },
  {
   "cell_type": "markdown",
   "id": "a7a289c2-1d50-4ff7-b06b-de3bc5ed2dbe",
   "metadata": {
    "id": "a7a289c2-1d50-4ff7-b06b-de3bc5ed2dbe"
   },
   "source": [
    "#### LSTM"
   ]
  },
  {
   "cell_type": "code",
   "execution_count": null,
   "id": "5b7b3491-e43e-48e1-ae99-1d8d3fe0fcc2",
   "metadata": {
    "colab": {
     "base_uri": "https://localhost:8080/",
     "height": 1000
    },
    "executionInfo": {
     "elapsed": 206827,
     "status": "ok",
     "timestamp": 1709575215782,
     "user": {
      "displayName": "Rakib H Hridoy",
      "userId": "11427915455487036903"
     },
     "user_tz": -360
    },
    "id": "5b7b3491-e43e-48e1-ae99-1d8d3fe0fcc2",
    "outputId": "6ab280ac-9fa7-4c8f-89db-cb866d2acd26"
   },
   "outputs": [],
   "source": [
    "model = Sequential()\n",
    "model.add(InputLayer((3, 1)))\n",
    "model.add(LSTM(64))\n",
    "model.add(Dense(8, 'relu'))\n",
    "model.add(Dense(1, 'linear'))\n",
    "\n",
    "cp = ModelCheckpoint('mavg_lstm/', save_best_only=True)\n",
    "model = fit_model(model, cp, epochs, moving_avg_data, target, x_val, y_val)\n",
    "\n",
    "plot_train(\"mavg_lstm\", 50, moving_avg_data, target)\n",
    "plot_val(model, 50, x_val, y_val)\n",
    "plot_test(model, 50, x_test, y_test)\n",
    "mvg_lstm_mse = plot_predictions1(model,x_test, y_test)"
   ]
  },
  {
   "cell_type": "code",
   "execution_count": null,
   "id": "d68591bd-beac-400c-86ff-6adbdc810637",
   "metadata": {
    "colab": {
     "base_uri": "https://localhost:8080/",
     "height": 1000
    },
    "executionInfo": {
     "elapsed": 50150,
     "status": "ok",
     "timestamp": 1709575265928,
     "user": {
      "displayName": "Rakib H Hridoy",
      "userId": "11427915455487036903"
     },
     "user_tz": -360
    },
    "id": "d68591bd-beac-400c-86ff-6adbdc810637",
    "outputId": "472ecb2b-4a2b-495d-ecfd-e67dd172a10f"
   },
   "outputs": [],
   "source": [
    "model = keras.Sequential([\n",
    "    layers.SimpleRNN(units=64, input_shape=(3, 1)),\n",
    "    layers.Dense(units=1)\n",
    "])\n",
    "\n",
    "model.compile(loss='mean_squared_error', optimizer='adam')\n",
    "\n",
    "cp = ModelCheckpoint('mavg_rnn/', save_best_only=True)\n",
    "model = fit_model(model, cp, epochs, moving_avg_data, target, x_val, y_val)\n",
    "\n",
    "plot_train(\"mavg_rnn\", 50, moving_avg_data, target)\n",
    "plot_val(model, 50, x_val, y_val)\n",
    "plot_test(model, 50, x_test, y_test)\n",
    "mvg_rnn_mse = plot_predictions1(model,x_test, y_test)"
   ]
  },
  {
   "cell_type": "markdown",
   "id": "bdbe4fff-16cf-479c-be66-1663fc903859",
   "metadata": {
    "id": "bdbe4fff-16cf-479c-be66-1663fc903859"
   },
   "source": [
    "# AutoEncoder"
   ]
  },
  {
   "cell_type": "markdown",
   "id": "a6ae86aa-c7d6-4480-a2f8-416263b94f97",
   "metadata": {
    "id": "a6ae86aa-c7d6-4480-a2f8-416263b94f97"
   },
   "source": [
    "### CNN"
   ]
  },
  {
   "cell_type": "code",
   "execution_count": null,
   "id": "100a8cf0-4e3f-4914-8e59-58a70da775f5",
   "metadata": {
    "colab": {
     "base_uri": "https://localhost:8080/",
     "height": 1000
    },
    "executionInfo": {
     "elapsed": 31866,
     "status": "ok",
     "timestamp": 1709575297771,
     "user": {
      "displayName": "Rakib H Hridoy",
      "userId": "11427915455487036903"
     },
     "user_tz": -360
    },
    "id": "100a8cf0-4e3f-4914-8e59-58a70da775f5",
    "outputId": "805bb2bd-bcc6-43b6-a5cd-f81bed04a612"
   },
   "outputs": [],
   "source": [
    "model = Sequential()\n",
    "model.add(InputLayer((3, 1)))\n",
    "model.add(Conv1D(64, kernel_size=2))\n",
    "model.add(Dropout(0.2))\n",
    "model.add(Conv1D(64, kernel_size=1))\n",
    "model.add(Dropout(0.2))\n",
    "model.add(Flatten())\n",
    "model.add(Dense(8, 'relu'))\n",
    "model.add(Dense(1, 'linear'))\n",
    "\n",
    "\n",
    "model.compile(loss='mean_squared_error', optimizer='adam')\n",
    "\n",
    "cp = ModelCheckpoint('autoencoder_cnn/', save_best_only=True)\n",
    "\n",
    "model = fit_model(model, cp, epochs, x_train, y_train, x_val, y_val)\n",
    "\n",
    "plot_train(\"autoencoder_cnn\", 50, x_train, y_train)\n",
    "plot_val(model, 50, x_val, y_val)\n",
    "plot_test(model, 50, x_test, y_test)\n",
    "auto_cnn_mse = plot_predictions1(model,x_test, y_test)"
   ]
  },
  {
   "cell_type": "code",
   "execution_count": null,
   "id": "e7dea812-cfa2-4503-8bbb-a09156600ffc",
   "metadata": {
    "colab": {
     "base_uri": "https://localhost:8080/"
    },
    "executionInfo": {
     "elapsed": 13,
     "status": "ok",
     "timestamp": 1709575297771,
     "user": {
      "displayName": "Rakib H Hridoy",
      "userId": "11427915455487036903"
     },
     "user_tz": -360
    },
    "id": "e7dea812-cfa2-4503-8bbb-a09156600ffc",
    "outputId": "df41fc1a-ee26-4e19-c2f9-268e097a59ae"
   },
   "outputs": [],
   "source": [
    "auto_cnn_mse"
   ]
  },
  {
   "cell_type": "markdown",
   "id": "04977996-97ee-4e8c-8b8d-8843445461f7",
   "metadata": {
    "id": "04977996-97ee-4e8c-8b8d-8843445461f7"
   },
   "source": [
    "### GRU"
   ]
  },
  {
   "cell_type": "code",
   "execution_count": null,
   "id": "91335f89-c714-4a11-a7dc-9eb2c257e561",
   "metadata": {
    "colab": {
     "base_uri": "https://localhost:8080/",
     "height": 1000
    },
    "executionInfo": {
     "elapsed": 187998,
     "status": "ok",
     "timestamp": 1709575485762,
     "user": {
      "displayName": "Rakib H Hridoy",
      "userId": "11427915455487036903"
     },
     "user_tz": -360
    },
    "id": "91335f89-c714-4a11-a7dc-9eb2c257e561",
    "outputId": "7924559f-9400-4729-adf9-4ea647e043bc"
   },
   "outputs": [],
   "source": [
    "model = Sequential()\n",
    "model.add(InputLayer((3, 1)))\n",
    "model.add(GRU(64))\n",
    "model.add(Dropout(0.2))\n",
    "model.add(Flatten())\n",
    "model.add(Dense(1))\n",
    "\n",
    "\n",
    "model.compile(loss='mean_squared_error', optimizer='adam')\n",
    "\n",
    "cp = ModelCheckpoint('autoencoder_gru/', save_best_only=True)\n",
    "\n",
    "model = fit_model(model, cp, epochs, x_train, y_train, x_val, y_val)\n",
    "\n",
    "plot_train(\"autoencoder_gru\", 50, x_train, y_train)\n",
    "plot_val(model, 50, x_val, y_val)\n",
    "plot_test(model, 50, x_test, y_test)\n",
    "auto_gru_mse = plot_predictions1(model,x_test, y_test)"
   ]
  },
  {
   "cell_type": "code",
   "execution_count": null,
   "id": "f00f9c30-ced9-4d7f-951b-1536a77ebc51",
   "metadata": {
    "colab": {
     "base_uri": "https://localhost:8080/"
    },
    "executionInfo": {
     "elapsed": 11,
     "status": "ok",
     "timestamp": 1709575485762,
     "user": {
      "displayName": "Rakib H Hridoy",
      "userId": "11427915455487036903"
     },
     "user_tz": -360
    },
    "id": "f00f9c30-ced9-4d7f-951b-1536a77ebc51",
    "outputId": "9032c6d0-099b-47f7-db0f-babb3bbcc823"
   },
   "outputs": [],
   "source": [
    "auto_gru_mse"
   ]
  },
  {
   "cell_type": "markdown",
   "id": "8ecc740c-b7bf-40da-b62c-52f03098517f",
   "metadata": {
    "id": "8ecc740c-b7bf-40da-b62c-52f03098517f"
   },
   "source": [
    "### LSTM"
   ]
  },
  {
   "cell_type": "code",
   "execution_count": null,
   "id": "5e25f59d-2a72-48bb-9fa7-5daa2d955a2f",
   "metadata": {
    "colab": {
     "base_uri": "https://localhost:8080/",
     "height": 1000
    },
    "executionInfo": {
     "elapsed": 216582,
     "status": "ok",
     "timestamp": 1709575702336,
     "user": {
      "displayName": "Rakib H Hridoy",
      "userId": "11427915455487036903"
     },
     "user_tz": -360
    },
    "id": "5e25f59d-2a72-48bb-9fa7-5daa2d955a2f",
    "outputId": "b9243d76-4c3c-4744-975e-24d8a30801b7"
   },
   "outputs": [],
   "source": [
    "model = Sequential()\n",
    "model.add(InputLayer((3, 1)))\n",
    "model.add(LSTM(64))\n",
    "model.add(Dropout(0.3))\n",
    "#model.add(RepeatVector(3))\n",
    "#model.add(LSTM(64, return_sequences=True))\n",
    "#model.add(Dropout(0.4))\n",
    "model.add(Dense(8, 'relu'))\n",
    "model.add(Flatten())\n",
    "model.add(Dense(1))\n",
    "\n",
    "model.compile(loss='mean_squared_error', optimizer='adam')\n",
    "\n",
    "cp = ModelCheckpoint('auto_lstm/', save_best_only=True)\n",
    "model = fit_model(model, cp, epochs, x_train, y_train, x_val, y_val)\n",
    "\n",
    "\n",
    "plot_train(\"auto_lstm\", 50, x_train, y_train)\n",
    "plot_val(model, 50, x_val, y_val)\n",
    "plot_test(model, 50, x_test, y_test)\n",
    "auto_lstm_mse = plot_predictions1(model,x_test, y_test)"
   ]
  },
  {
   "cell_type": "code",
   "execution_count": null,
   "id": "351f8902-e1da-4b38-858f-352f4054a9f6",
   "metadata": {
    "colab": {
     "base_uri": "https://localhost:8080/"
    },
    "executionInfo": {
     "elapsed": 12,
     "status": "ok",
     "timestamp": 1709575702336,
     "user": {
      "displayName": "Rakib H Hridoy",
      "userId": "11427915455487036903"
     },
     "user_tz": -360
    },
    "id": "351f8902-e1da-4b38-858f-352f4054a9f6",
    "outputId": "9058ed47-c897-483e-d8b9-9cfe11afaa7f"
   },
   "outputs": [],
   "source": [
    "auto_lstm_mse"
   ]
  },
  {
   "cell_type": "markdown",
   "id": "f52afb60-e43b-4986-aae3-ad2a467cd81f",
   "metadata": {
    "id": "f52afb60-e43b-4986-aae3-ad2a467cd81f"
   },
   "source": [
    "### RNN"
   ]
  },
  {
   "cell_type": "code",
   "execution_count": null,
   "id": "dc1a560c-2f1f-4663-bed4-60b51897c76f",
   "metadata": {
    "colab": {
     "base_uri": "https://localhost:8080/",
     "height": 1000
    },
    "executionInfo": {
     "elapsed": 85411,
     "status": "ok",
     "timestamp": 1709575787741,
     "user": {
      "displayName": "Rakib H Hridoy",
      "userId": "11427915455487036903"
     },
     "user_tz": -360
    },
    "id": "dc1a560c-2f1f-4663-bed4-60b51897c76f",
    "outputId": "da674a82-9044-46a0-f410-71775dedd112"
   },
   "outputs": [],
   "source": [
    "model = Sequential()\n",
    "model.add(InputLayer((3, 1)))\n",
    "model.add(SimpleRNN(64))\n",
    "model.add(Dropout(0.4))\n",
    "model.add(Dense(1))\n",
    "\n",
    "model.compile(loss='mean_squared_error', optimizer='adam')\n",
    "\n",
    "cp = ModelCheckpoint('auto_rnn/', save_best_only=True)\n",
    "model = fit_model(model, cp, epochs, x_train, y_train, x_val, y_val)\n",
    "\n",
    "\n",
    "plot_train(\"auto_rnn\", 50, x_train, y_train)\n",
    "plot_val(model, 50, x_val, y_val)\n",
    "plot_test(model, 50, x_test, y_test)\n",
    "auto_rnn_mse = plot_predictions1(model,x_test, y_test)"
   ]
  },
  {
   "cell_type": "code",
   "execution_count": null,
   "id": "248706a3-b575-40ce-809c-f9261e4961c5",
   "metadata": {
    "colab": {
     "base_uri": "https://localhost:8080/"
    },
    "executionInfo": {
     "elapsed": 13,
     "status": "ok",
     "timestamp": 1709575787742,
     "user": {
      "displayName": "Rakib H Hridoy",
      "userId": "11427915455487036903"
     },
     "user_tz": -360
    },
    "id": "248706a3-b575-40ce-809c-f9261e4961c5",
    "outputId": "b452aa5f-28ea-432d-e1f1-abbe562f1698"
   },
   "outputs": [],
   "source": [
    "auto_rnn_mse"
   ]
  },
  {
   "cell_type": "markdown",
   "id": "b065cedc-49eb-45a8-8b3e-8aa15bf42a97",
   "metadata": {
    "id": "b065cedc-49eb-45a8-8b3e-8aa15bf42a97"
   },
   "source": [
    "# Moving Average with Encoder"
   ]
  },
  {
   "cell_type": "markdown",
   "id": "4aa466b7-cbf9-4da2-8110-5ffc2d87b0c6",
   "metadata": {
    "id": "4aa466b7-cbf9-4da2-8110-5ffc2d87b0c6"
   },
   "source": [
    "### CNN"
   ]
  },
  {
   "cell_type": "code",
   "execution_count": null,
   "id": "10680527-f610-433e-bb15-f01f74d8d4f6",
   "metadata": {
    "colab": {
     "base_uri": "https://localhost:8080/",
     "height": 1000
    },
    "executionInfo": {
     "elapsed": 13200,
     "status": "ok",
     "timestamp": 1709575800935,
     "user": {
      "displayName": "Rakib H Hridoy",
      "userId": "11427915455487036903"
     },
     "user_tz": -360
    },
    "id": "10680527-f610-433e-bb15-f01f74d8d4f6",
    "outputId": "d3c83772-91aa-4fe1-9a8d-ca945b998011"
   },
   "outputs": [],
   "source": [
    "model = Sequential()\n",
    "model.add(InputLayer((3, 1)))\n",
    "model.add(Conv1D(64, kernel_size=2))\n",
    "model.add(Dropout(0.3))\n",
    "model.add(Conv1D(64, kernel_size=1))\n",
    "model.add(Dropout(0.3))\n",
    "model.add(Flatten())\n",
    "model.add(Dense(8, 'relu'))\n",
    "model.add(Dense(1, 'linear'))\n",
    "\n",
    "\n",
    "model.compile(loss='mean_squared_error', optimizer='adam')\n",
    "\n",
    "cp = ModelCheckpoint('mavg_autoencoder_cnn/', save_best_only=True)\n",
    "\n",
    "model = fit_model(model, cp, 10, moving_avg_data, target, x_val, y_val)\n",
    "\n",
    "plot_train(\"mavg_autoencoder_cnn\", 50, moving_avg_data, target)\n",
    "plot_val(model, 50, x_val, y_val)\n",
    "plot_test(model, 50, x_test, y_test)\n",
    "mavg_auto_cnn_mse = plot_predictions1(model,x_test, y_test)"
   ]
  },
  {
   "cell_type": "code",
   "execution_count": null,
   "id": "2ac646fb-4651-432c-add0-04d294a278db",
   "metadata": {
    "colab": {
     "base_uri": "https://localhost:8080/"
    },
    "executionInfo": {
     "elapsed": 10,
     "status": "ok",
     "timestamp": 1709575800935,
     "user": {
      "displayName": "Rakib H Hridoy",
      "userId": "11427915455487036903"
     },
     "user_tz": -360
    },
    "id": "2ac646fb-4651-432c-add0-04d294a278db",
    "outputId": "7b636505-6577-4864-9a91-e3f2f87a97b9"
   },
   "outputs": [],
   "source": [
    "mavg_auto_cnn_mse"
   ]
  },
  {
   "cell_type": "markdown",
   "id": "180b04e8-b89f-43b6-b67f-2c83d6dc3f4d",
   "metadata": {
    "id": "180b04e8-b89f-43b6-b67f-2c83d6dc3f4d"
   },
   "source": [
    "### RNN"
   ]
  },
  {
   "cell_type": "code",
   "execution_count": null,
   "id": "3e84ed39-8fec-4929-8ac0-cb76e5faa02b",
   "metadata": {
    "colab": {
     "base_uri": "https://localhost:8080/",
     "height": 1000
    },
    "executionInfo": {
     "elapsed": 24080,
     "status": "ok",
     "timestamp": 1709575825010,
     "user": {
      "displayName": "Rakib H Hridoy",
      "userId": "11427915455487036903"
     },
     "user_tz": -360
    },
    "id": "3e84ed39-8fec-4929-8ac0-cb76e5faa02b",
    "outputId": "2812a66d-a99b-4af6-f482-221c95c42744"
   },
   "outputs": [],
   "source": [
    "model = Sequential()\n",
    "model.add(InputLayer((3, 1)))\n",
    "model.add(SimpleRNN(64))\n",
    "model.add(Dropout(0.4))\n",
    "model.add(Dense(1))\n",
    "\n",
    "model.compile(loss='mean_squared_error', optimizer='adam')\n",
    "\n",
    "cp = ModelCheckpoint('mavg_auto_rnn/', save_best_only=True)\n",
    "model = fit_model(model, cp, 10,moving_avg_data,target, x_val, y_val)\n",
    "\n",
    "\n",
    "plot_train(\"mavg_auto_rnn\", 50, moving_avg_data, target)\n",
    "plot_val(model, 50, x_val, y_val)\n",
    "plot_test(model, 50, x_test, y_test)\n",
    "mavg_auto_rnn_mse = plot_predictions1(model,x_test, y_test)"
   ]
  },
  {
   "cell_type": "code",
   "execution_count": null,
   "id": "9609a5d0-bc92-4a3a-b169-7631dc52f40b",
   "metadata": {
    "colab": {
     "base_uri": "https://localhost:8080/"
    },
    "executionInfo": {
     "elapsed": 15,
     "status": "ok",
     "timestamp": 1709575825011,
     "user": {
      "displayName": "Rakib H Hridoy",
      "userId": "11427915455487036903"
     },
     "user_tz": -360
    },
    "id": "9609a5d0-bc92-4a3a-b169-7631dc52f40b",
    "outputId": "414caa3d-b3df-44ed-daf6-7909896226aa"
   },
   "outputs": [],
   "source": [
    "mavg_auto_rnn_mse"
   ]
  },
  {
   "cell_type": "markdown",
   "id": "5812bcce-8250-45e9-97f7-483999e3143a",
   "metadata": {
    "id": "5812bcce-8250-45e9-97f7-483999e3143a"
   },
   "source": [
    "### GRU"
   ]
  },
  {
   "cell_type": "code",
   "execution_count": null,
   "id": "f9070d90-9084-401e-9f49-9dc404699810",
   "metadata": {
    "colab": {
     "base_uri": "https://localhost:8080/",
     "height": 1000
    },
    "executionInfo": {
     "elapsed": 46530,
     "status": "ok",
     "timestamp": 1709575871534,
     "user": {
      "displayName": "Rakib H Hridoy",
      "userId": "11427915455487036903"
     },
     "user_tz": -360
    },
    "id": "f9070d90-9084-401e-9f49-9dc404699810",
    "outputId": "79afa6db-686d-4148-b04c-ecba4eb9b13c"
   },
   "outputs": [],
   "source": [
    "model = Sequential()\n",
    "model.add(InputLayer((3, 1)))\n",
    "model.add(GRU(64))\n",
    "model.add(Dropout(0.2))\n",
    "model.add(Flatten())\n",
    "model.add(Dense(1))\n",
    "\n",
    "\n",
    "model.compile(loss='mean_squared_error', optimizer='adam')\n",
    "\n",
    "cp = ModelCheckpoint('mavg_auto_gru/', save_best_only=True)\n",
    "\n",
    "model = fit_model(model, cp, 10, moving_avg_data, target, x_val, y_val)\n",
    "\n",
    "plot_train(\"mavg_auto_gru\", 50, moving_avg_data, target)\n",
    "plot_val(model, 50, x_val, y_val)\n",
    "plot_test(model, 50, x_test, y_test)\n",
    "mavg_auto_gru_mse = plot_predictions1(model,x_test, y_test)"
   ]
  },
  {
   "cell_type": "code",
   "execution_count": null,
   "id": "81d2e4fe-3de0-448e-b998-84be320909e3",
   "metadata": {
    "colab": {
     "base_uri": "https://localhost:8080/"
    },
    "executionInfo": {
     "elapsed": 9,
     "status": "ok",
     "timestamp": 1709575871534,
     "user": {
      "displayName": "Rakib H Hridoy",
      "userId": "11427915455487036903"
     },
     "user_tz": -360
    },
    "id": "81d2e4fe-3de0-448e-b998-84be320909e3",
    "outputId": "4c32f63a-ae96-4bf6-efe0-a7a99f3c89f1"
   },
   "outputs": [],
   "source": [
    "mavg_auto_gru_mse"
   ]
  },
  {
   "cell_type": "markdown",
   "id": "1967da5b-8781-4a83-bdaa-dc25b531973b",
   "metadata": {
    "id": "1967da5b-8781-4a83-bdaa-dc25b531973b"
   },
   "source": [
    "### LSTM"
   ]
  },
  {
   "cell_type": "code",
   "execution_count": null,
   "id": "6b76ba67-9b20-4513-a6ee-6a495bc2979f",
   "metadata": {
    "colab": {
     "base_uri": "https://localhost:8080/",
     "height": 1000
    },
    "executionInfo": {
     "elapsed": 46897,
     "status": "ok",
     "timestamp": 1709575918427,
     "user": {
      "displayName": "Rakib H Hridoy",
      "userId": "11427915455487036903"
     },
     "user_tz": -360
    },
    "id": "6b76ba67-9b20-4513-a6ee-6a495bc2979f",
    "outputId": "5a2e4d53-2038-41bb-9c9f-ed7613beb397"
   },
   "outputs": [],
   "source": [
    "model = Sequential()\n",
    "model.add(InputLayer((3, 1)))\n",
    "model.add(LSTM(64))\n",
    "model.add(Dropout(0.3))\n",
    "#model.add(RepeatVector(3))\n",
    "#model.add(LSTM(64, return_sequences=True))\n",
    "#model.add(Dropout(0.4))\n",
    "#model.add(Dense(8, 'relu'))\n",
    "#model.add(Flatten())\n",
    "model.add(Dense(1))\n",
    "\n",
    "model.compile(loss='mean_squared_error', optimizer='adam')\n",
    "\n",
    "cp = ModelCheckpoint('mavg_auto_lstm/', save_best_only=True)\n",
    "model = fit_model(model, cp, 10,moving_avg_data, target, x_val, y_val)\n",
    "\n",
    "\n",
    "plot_train(\"mavg_auto_lstm\", 50, moving_avg_data, target)\n",
    "plot_val(model, 50, x_val, y_val)\n",
    "plot_test(model, 50, x_test, y_test)\n",
    "mavg_auto_lstm_mse = plot_predictions1(model,x_test, y_test)"
   ]
  },
  {
   "cell_type": "code",
   "execution_count": null,
   "id": "50d60c17-fedf-4d32-8452-2a05ad1ad55c",
   "metadata": {
    "colab": {
     "base_uri": "https://localhost:8080/"
    },
    "executionInfo": {
     "elapsed": 12,
     "status": "ok",
     "timestamp": 1709575918427,
     "user": {
      "displayName": "Rakib H Hridoy",
      "userId": "11427915455487036903"
     },
     "user_tz": -360
    },
    "id": "50d60c17-fedf-4d32-8452-2a05ad1ad55c",
    "outputId": "df7aee49-7879-429f-c9cf-0e6ab076703b"
   },
   "outputs": [],
   "source": [
    "mavg_auto_lstm_mse"
   ]
  },
  {
   "cell_type": "markdown",
   "id": "469e39ee-ac37-4f72-9114-292b9aba46a3",
   "metadata": {
    "id": "469e39ee-ac37-4f72-9114-292b9aba46a3"
   },
   "source": [
    "# Hybrid"
   ]
  },
  {
   "cell_type": "markdown",
   "id": "02bdf792-a4fb-4272-8b4f-8e4b6c9b26f2",
   "metadata": {
    "id": "02bdf792-a4fb-4272-8b4f-8e4b6c9b26f2"
   },
   "source": [
    "## General"
   ]
  },
  {
   "cell_type": "markdown",
   "id": "2147bec4-e091-4461-b3fa-cd4fb6b8afe6",
   "metadata": {
    "id": "2147bec4-e091-4461-b3fa-cd4fb6b8afe6"
   },
   "source": [
    "### CNN LSTM"
   ]
  },
  {
   "cell_type": "code",
   "execution_count": null,
   "id": "997ef71b-7524-42fc-b608-c6e5fffa4d93",
   "metadata": {
    "colab": {
     "base_uri": "https://localhost:8080/",
     "height": 1000
    },
    "executionInfo": {
     "elapsed": 386132,
     "status": "ok",
     "timestamp": 1709576304553,
     "user": {
      "displayName": "Rakib H Hridoy",
      "userId": "11427915455487036903"
     },
     "user_tz": -360
    },
    "id": "997ef71b-7524-42fc-b608-c6e5fffa4d93",
    "outputId": "f0b1acc9-27c9-40f2-9bb1-79d6aee74b46"
   },
   "outputs": [],
   "source": [
    "input_shape = (15,1)\n",
    "model = Sequential()\n",
    "model.add(Conv1D(filters=32, kernel_size=3, activation='relu', input_shape=(3,1)))\n",
    "model.add(Flatten())\n",
    "model.add(Dense(32, activation='relu'))\n",
    "model.add(RepeatVector(n=input_shape[0]))\n",
    "model.add(LSTM(units=64, return_sequences=True))\n",
    "model.add(LSTM(units=32))\n",
    "model.add(Dense(1))\n",
    "\n",
    "model.compile(loss='mean_squared_error', optimizer='adam')\n",
    "\n",
    "cp = ModelCheckpoint('hybrid_cnn_lstm/', save_best_only=True)\n",
    "\n",
    "model = fit_model(model, cp, epochs, x_train,y_train, x_val, y_val)\n",
    "\n",
    "plot_train(\"hybrid_cnn_lstm\", 50, x_train,y_train)\n",
    "plot_val(model, 50, x_val, y_val)\n",
    "plot_test(model, 50, x_test, y_test)\n",
    "hybrid_cnn_lstm_mse = plot_predictions1(model,x_test, y_test)"
   ]
  },
  {
   "cell_type": "code",
   "execution_count": null,
   "id": "3284ce02-e7a5-4eea-99a6-8dbb7bb3f0b2",
   "metadata": {
    "colab": {
     "base_uri": "https://localhost:8080/"
    },
    "executionInfo": {
     "elapsed": 12,
     "status": "ok",
     "timestamp": 1709576304554,
     "user": {
      "displayName": "Rakib H Hridoy",
      "userId": "11427915455487036903"
     },
     "user_tz": -360
    },
    "id": "3284ce02-e7a5-4eea-99a6-8dbb7bb3f0b2",
    "outputId": "df493809-6b72-4cd0-e22a-7a6ef4def725"
   },
   "outputs": [],
   "source": [
    "hybrid_cnn_lstm_mse"
   ]
  },
  {
   "cell_type": "markdown",
   "id": "939fb23e-ce42-4949-ad87-fcaf961ca401",
   "metadata": {
    "id": "939fb23e-ce42-4949-ad87-fcaf961ca401"
   },
   "source": [
    "### RNN LSTM"
   ]
  },
  {
   "cell_type": "code",
   "execution_count": null,
   "id": "8e065ef0-b4c4-45aa-9dd9-239c86cd0359",
   "metadata": {
    "colab": {
     "base_uri": "https://localhost:8080/",
     "height": 1000
    },
    "executionInfo": {
     "elapsed": 259657,
     "status": "ok",
     "timestamp": 1709576564205,
     "user": {
      "displayName": "Rakib H Hridoy",
      "userId": "11427915455487036903"
     },
     "user_tz": -360
    },
    "id": "8e065ef0-b4c4-45aa-9dd9-239c86cd0359",
    "outputId": "e165d9fe-bbf3-47d2-b296-0c71f2a1da3f"
   },
   "outputs": [],
   "source": [
    "model = Sequential()\n",
    "model.add(SimpleRNN(64,return_sequences=True, input_shape=(3,1)))\n",
    "model.add(LSTM(32))\n",
    "model.add(Dense(1))\n",
    "\n",
    "model.compile(loss='mean_squared_error', optimizer='adam')\n",
    "cp = ModelCheckpoint('hybrid_rnn_lstm/', save_best_only=True)\n",
    "model = fit_model(model, cp, epochs, x_train,y_train, x_val, y_val)\n",
    "\n",
    "plot_train(\"hybrid_rnn_lstm\", 50, x_train,y_train)\n",
    "plot_val(model, 50, x_val, y_val)\n",
    "plot_test(model, 50, x_test, y_test)\n",
    "hybrid_rnn_lstm_mse = plot_predictions1(model,x_test, y_test)"
   ]
  },
  {
   "cell_type": "code",
   "execution_count": null,
   "id": "5236bc05-9af4-4cb1-84c9-601d035e7dff",
   "metadata": {
    "colab": {
     "base_uri": "https://localhost:8080/"
    },
    "executionInfo": {
     "elapsed": 16,
     "status": "ok",
     "timestamp": 1709576564206,
     "user": {
      "displayName": "Rakib H Hridoy",
      "userId": "11427915455487036903"
     },
     "user_tz": -360
    },
    "id": "5236bc05-9af4-4cb1-84c9-601d035e7dff",
    "outputId": "88cd2b8e-a176-4a4b-d6c5-261a454b31fc"
   },
   "outputs": [],
   "source": [
    "hybrid_rnn_lstm_mse"
   ]
  },
  {
   "cell_type": "markdown",
   "id": "80090b57-9845-4ce4-b376-8861b97d1305",
   "metadata": {
    "id": "80090b57-9845-4ce4-b376-8861b97d1305"
   },
   "source": [
    "### RNN GRU"
   ]
  },
  {
   "cell_type": "code",
   "execution_count": null,
   "id": "abf1a1fd-6561-43ed-8247-368cf8d066cf",
   "metadata": {
    "colab": {
     "base_uri": "https://localhost:8080/",
     "height": 1000
    },
    "executionInfo": {
     "elapsed": 241441,
     "status": "ok",
     "timestamp": 1709576805638,
     "user": {
      "displayName": "Rakib H Hridoy",
      "userId": "11427915455487036903"
     },
     "user_tz": -360
    },
    "id": "abf1a1fd-6561-43ed-8247-368cf8d066cf",
    "outputId": "c853c7a9-be42-4e66-fd3a-cbb5299cfdf0"
   },
   "outputs": [],
   "source": [
    "model = Sequential()\n",
    "model.add(SimpleRNN(64, return_sequences=True, input_shape=(3, 1)))\n",
    "model.add(GRU(32))\n",
    "model.add(Dense(1))\n",
    "\n",
    "model.compile(loss='mean_squared_error', optimizer='adam')\n",
    "cp = ModelCheckpoint('hybrid_rnn_gru/', save_best_only=True)\n",
    "model = fit_model(model, cp, epochs, x_train,y_train, x_val, y_val)\n",
    "\n",
    "plot_train(\"hybrid_rnn_gru\", 50, x_train,y_train)\n",
    "plot_val(model, 50, x_val, y_val)\n",
    "plot_test(model, 50, x_test, y_test)\n",
    "hybrid_rnn_gru_mse = plot_predictions1(model,x_test, y_test)"
   ]
  },
  {
   "cell_type": "code",
   "execution_count": null,
   "id": "1cbab527-6b16-45d1-9e35-0da4ebf48c26",
   "metadata": {
    "colab": {
     "base_uri": "https://localhost:8080/"
    },
    "executionInfo": {
     "elapsed": 10,
     "status": "ok",
     "timestamp": 1709576805638,
     "user": {
      "displayName": "Rakib H Hridoy",
      "userId": "11427915455487036903"
     },
     "user_tz": -360
    },
    "id": "1cbab527-6b16-45d1-9e35-0da4ebf48c26",
    "outputId": "a51b1f67-461d-4eeb-aab5-05d9a794a3c8"
   },
   "outputs": [],
   "source": [
    "hybrid_rnn_gru_mse"
   ]
  },
  {
   "cell_type": "markdown",
   "id": "a895d0cf-6d2c-4058-a338-45c288c3f4c9",
   "metadata": {
    "id": "a895d0cf-6d2c-4058-a338-45c288c3f4c9"
   },
   "source": [
    "### CNN GRU"
   ]
  },
  {
   "cell_type": "code",
   "execution_count": null,
   "id": "ee0afb83-814f-4f24-b36f-4f818ab9badd",
   "metadata": {
    "colab": {
     "base_uri": "https://localhost:8080/",
     "height": 1000
    },
    "executionInfo": {
     "elapsed": 393315,
     "status": "ok",
     "timestamp": 1709577198948,
     "user": {
      "displayName": "Rakib H Hridoy",
      "userId": "11427915455487036903"
     },
     "user_tz": -360
    },
    "id": "ee0afb83-814f-4f24-b36f-4f818ab9badd",
    "outputId": "daf02df4-239e-49cd-fdad-be273b6f4684"
   },
   "outputs": [],
   "source": [
    "model = Sequential()\n",
    "\n",
    "model.add(Conv1D(filters=32, kernel_size=3, activation='relu', input_shape=(3,1)))\n",
    "model.add(Flatten())\n",
    "\n",
    "model.add(RepeatVector(n=15))\n",
    "model.add(GRU(64, return_sequences=True))\n",
    "model.add(GRU(32))\n",
    "model.add(Dense(1))\n",
    "\n",
    "model.compile(loss='mean_squared_error', optimizer='adam')\n",
    "cp = ModelCheckpoint('hybrid_cnn_gru/', save_best_only=True)\n",
    "model = fit_model(model, cp, epochs, x_train,y_train, x_val, y_val)\n",
    "\n",
    "plot_train(\"hybrid_cnn_gru\", 50, x_train,y_train)\n",
    "plot_val(model, 50, x_val, y_val)\n",
    "plot_test(model, 50, x_test, y_test)\n",
    "hybrid_cnn_gru_mse = plot_predictions1(model,x_test, y_test)"
   ]
  },
  {
   "cell_type": "code",
   "execution_count": null,
   "id": "9eab2df5-6ce1-4a84-8b04-6d7e00128e6d",
   "metadata": {
    "colab": {
     "base_uri": "https://localhost:8080/"
    },
    "executionInfo": {
     "elapsed": 608,
     "status": "ok",
     "timestamp": 1709577199553,
     "user": {
      "displayName": "Rakib H Hridoy",
      "userId": "11427915455487036903"
     },
     "user_tz": -360
    },
    "id": "9eab2df5-6ce1-4a84-8b04-6d7e00128e6d",
    "outputId": "8039344d-3f34-467a-ce90-2de40e96bb83"
   },
   "outputs": [],
   "source": [
    "hybrid_cnn_gru_mse"
   ]
  },
  {
   "cell_type": "markdown",
   "id": "d44a485d-036a-4eb1-8561-c274b9bb1807",
   "metadata": {
    "id": "d44a485d-036a-4eb1-8561-c274b9bb1807"
   },
   "source": [
    "### CNN RNN GRU"
   ]
  },
  {
   "cell_type": "code",
   "execution_count": null,
   "id": "c0488de4-1568-496c-891a-231ee82fc8ad",
   "metadata": {
    "colab": {
     "base_uri": "https://localhost:8080/",
     "height": 1000
    },
    "executionInfo": {
     "elapsed": 205165,
     "status": "ok",
     "timestamp": 1709577404713,
     "user": {
      "displayName": "Rakib H Hridoy",
      "userId": "11427915455487036903"
     },
     "user_tz": -360
    },
    "id": "c0488de4-1568-496c-891a-231ee82fc8ad",
    "outputId": "47102699-8c34-499a-9594-257c4693fff6"
   },
   "outputs": [],
   "source": [
    "model = Sequential()\n",
    "model.add(Conv1D(filters=32, kernel_size=3, activation='relu', input_shape=(3, 1)))\n",
    "model.add(Flatten())\n",
    "model.add(RepeatVector(n=15))\n",
    "model.add(SimpleRNN(64, return_sequences=True))\n",
    "model.add(GRU(32))\n",
    "model.add(Dense(8))\n",
    "model.add(Dense(1))\n",
    "\n",
    "model.compile(loss='mean_squared_error', optimizer='adam')\n",
    "cp = ModelCheckpoint('hybrid_cnn_rnn_gru/', save_best_only=True)\n",
    "model = fit_model(model, cp, epochs, x_train,y_train, x_val, y_val)\n",
    "\n",
    "plot_train(\"hybrid_cnn_rnn_gru\", 50, x_train,y_train)\n",
    "plot_val(model, 50, x_val, y_val)\n",
    "plot_test(model, 50, x_test, y_test)\n",
    "hybrid_cnn_rnn_gru_mse = plot_predictions1(model,x_test, y_test)"
   ]
  },
  {
   "cell_type": "code",
   "execution_count": null,
   "id": "807309c8-0a28-4f2c-80d7-94b3efe0456d",
   "metadata": {
    "colab": {
     "base_uri": "https://localhost:8080/"
    },
    "executionInfo": {
     "elapsed": 10,
     "status": "ok",
     "timestamp": 1709577404713,
     "user": {
      "displayName": "Rakib H Hridoy",
      "userId": "11427915455487036903"
     },
     "user_tz": -360
    },
    "id": "807309c8-0a28-4f2c-80d7-94b3efe0456d",
    "outputId": "cceaa593-717d-4584-aa3d-b5d70b16bb94"
   },
   "outputs": [],
   "source": [
    "hybrid_cnn_rnn_gru_mse"
   ]
  },
  {
   "cell_type": "markdown",
   "id": "6b01e622-04ac-4bbd-889f-ab1fcb427598",
   "metadata": {
    "id": "6b01e622-04ac-4bbd-889f-ab1fcb427598"
   },
   "source": [
    "### LSTM RNN GRU"
   ]
  },
  {
   "cell_type": "code",
   "execution_count": null,
   "id": "bc42c921-4088-4911-9a2b-f323c105046a",
   "metadata": {
    "colab": {
     "base_uri": "https://localhost:8080/",
     "height": 1000
    },
    "executionInfo": {
     "elapsed": 382189,
     "status": "ok",
     "timestamp": 1709577786899,
     "user": {
      "displayName": "Rakib H Hridoy",
      "userId": "11427915455487036903"
     },
     "user_tz": -360
    },
    "id": "bc42c921-4088-4911-9a2b-f323c105046a",
    "outputId": "792dc33e-f784-4b16-d9c1-3f037dcf4036"
   },
   "outputs": [],
   "source": [
    "model = Sequential()\n",
    "model.add(SimpleRNN(64, return_sequences=True, input_shape=(3,1)))\n",
    "model.add(LSTM(128, return_sequences=True))\n",
    "model.add(GRU(64))\n",
    "model.add(Dense(1))\n",
    "\n",
    "model.compile(loss='mean_squared_error', optimizer='adam')\n",
    "cp = ModelCheckpoint('hybrid_lstm_rnn_gru/', save_best_only=True)\n",
    "model = fit_model(model, cp, epochs, x_train,y_train, x_val, y_val)\n",
    "\n",
    "plot_train(\"hybrid_lstm_rnn_gru\", 50, x_train,y_train)\n",
    "plot_val(model, 50, x_val, y_val)\n",
    "plot_test(model, 50, x_test, y_test)\n",
    "hybrid_lstm_rnn_gru_mse = plot_predictions1(model,x_test, y_test)"
   ]
  },
  {
   "cell_type": "code",
   "execution_count": null,
   "id": "4e3dacf0-53e5-4d57-abc2-a933f1f7c5bf",
   "metadata": {
    "colab": {
     "base_uri": "https://localhost:8080/"
    },
    "executionInfo": {
     "elapsed": 9,
     "status": "ok",
     "timestamp": 1709577786900,
     "user": {
      "displayName": "Rakib H Hridoy",
      "userId": "11427915455487036903"
     },
     "user_tz": -360
    },
    "id": "4e3dacf0-53e5-4d57-abc2-a933f1f7c5bf",
    "outputId": "bcbb82be-0d54-4f05-de36-7ed1d74b3cd7"
   },
   "outputs": [],
   "source": [
    "hybrid_lstm_rnn_gru_mse"
   ]
  },
  {
   "cell_type": "markdown",
   "id": "e11c3e00-dc76-411e-831a-8d2042cbb778",
   "metadata": {
    "id": "e11c3e00-dc76-411e-831a-8d2042cbb778"
   },
   "source": [
    "## Moving Average"
   ]
  },
  {
   "cell_type": "markdown",
   "id": "1f0bf73a-0e18-45f2-a8ce-06986e87a92e",
   "metadata": {
    "id": "1f0bf73a-0e18-45f2-a8ce-06986e87a92e"
   },
   "source": [
    "### CNN LSTM"
   ]
  },
  {
   "cell_type": "code",
   "execution_count": null,
   "id": "94711e22-60a1-41fd-80b3-d1703d14aa58",
   "metadata": {
    "colab": {
     "base_uri": "https://localhost:8080/",
     "height": 1000
    },
    "executionInfo": {
     "elapsed": 233281,
     "status": "ok",
     "timestamp": 1709578020177,
     "user": {
      "displayName": "Rakib H Hridoy",
      "userId": "11427915455487036903"
     },
     "user_tz": -360
    },
    "id": "94711e22-60a1-41fd-80b3-d1703d14aa58",
    "outputId": "fafa5b25-bb0a-44f3-ae1f-bd2bccf89639"
   },
   "outputs": [],
   "source": [
    "input_shape = (15,1)\n",
    "model = Sequential()\n",
    "model.add(Conv1D(filters=32, kernel_size=3, activation='relu', input_shape=(3,1)))\n",
    "model.add(Flatten())\n",
    "model.add(Dense(32, activation='relu'))\n",
    "model.add(RepeatVector(n=input_shape[0]))\n",
    "model.add(LSTM(units=64, return_sequences=True))\n",
    "model.add(LSTM(units=32))\n",
    "model.add(Dense(1))\n",
    "\n",
    "model.compile(loss='mean_squared_error', optimizer='adam')\n",
    "\n",
    "cp = ModelCheckpoint('mavg_hybrid_cnn_lstm/', save_best_only=True)\n",
    "\n",
    "model = fit_model(model, cp, epochs, moving_avg_data, target, x_val, y_val)\n",
    "\n",
    "plot_train(\"mavg_hybrid_cnn_lstm\", 50, moving_avg_data, target)\n",
    "plot_val(model, 50, x_val, y_val)\n",
    "plot_test(model, 50, x_test, y_test)\n",
    "mavg_hybrid_cnn_lstm_mse = plot_predictions1(model,x_test, y_test)"
   ]
  },
  {
   "cell_type": "code",
   "execution_count": null,
   "id": "30cb1bbc-ced5-4094-a16e-e92ac736521e",
   "metadata": {
    "colab": {
     "base_uri": "https://localhost:8080/"
    },
    "executionInfo": {
     "elapsed": 11,
     "status": "ok",
     "timestamp": 1709578020177,
     "user": {
      "displayName": "Rakib H Hridoy",
      "userId": "11427915455487036903"
     },
     "user_tz": -360
    },
    "id": "30cb1bbc-ced5-4094-a16e-e92ac736521e",
    "outputId": "c1caefd2-8ea4-4cda-9bbb-1e65aaea9022"
   },
   "outputs": [],
   "source": [
    "mavg_hybrid_cnn_lstm_mse"
   ]
  },
  {
   "cell_type": "markdown",
   "id": "a5bb5cab-32f6-4844-ad49-5b7251350a7e",
   "metadata": {
    "id": "a5bb5cab-32f6-4844-ad49-5b7251350a7e"
   },
   "source": [
    "### RNN LSTM"
   ]
  },
  {
   "cell_type": "code",
   "execution_count": null,
   "id": "5cbf9837-4a24-4710-8f25-9660499a91b9",
   "metadata": {
    "colab": {
     "base_uri": "https://localhost:8080/",
     "height": 1000
    },
    "executionInfo": {
     "elapsed": 212108,
     "status": "ok",
     "timestamp": 1709578232280,
     "user": {
      "displayName": "Rakib H Hridoy",
      "userId": "11427915455487036903"
     },
     "user_tz": -360
    },
    "id": "5cbf9837-4a24-4710-8f25-9660499a91b9",
    "outputId": "11254829-3f7d-46d8-d8e4-5c75c59db1c6"
   },
   "outputs": [],
   "source": [
    "model = Sequential()\n",
    "model.add(SimpleRNN(64,return_sequences=True, input_shape=(3,1)))\n",
    "model.add(LSTM(32))\n",
    "model.add(Dense(1))\n",
    "\n",
    "model.compile(loss='mean_squared_error', optimizer='adam')\n",
    "cp = ModelCheckpoint('mavg_hybrid_rnn_lstm/', save_best_only=True)\n",
    "model = fit_model(model, cp, epochs, moving_avg_data, target, x_val, y_val)\n",
    "\n",
    "plot_train(\"mavg_hybrid_rnn_lstm\", 50, moving_avg_data, target)\n",
    "plot_val(model, 50, x_val, y_val)\n",
    "plot_test(model, 50, x_test, y_test)\n",
    "mavg_hybrid_rnn_lstm_mse = plot_predictions1(model,x_test, y_test)"
   ]
  },
  {
   "cell_type": "code",
   "execution_count": null,
   "id": "55937582-d29a-4dd9-84b7-1c04be4777a8",
   "metadata": {
    "colab": {
     "base_uri": "https://localhost:8080/"
    },
    "executionInfo": {
     "elapsed": 12,
     "status": "ok",
     "timestamp": 1709578232281,
     "user": {
      "displayName": "Rakib H Hridoy",
      "userId": "11427915455487036903"
     },
     "user_tz": -360
    },
    "id": "55937582-d29a-4dd9-84b7-1c04be4777a8",
    "outputId": "98062a0d-51a4-4899-af00-aeaa98001ed1"
   },
   "outputs": [],
   "source": [
    "mavg_hybrid_rnn_lstm_mse"
   ]
  },
  {
   "cell_type": "markdown",
   "id": "a3c404ee-001b-4cb5-8bde-9ec47807ad63",
   "metadata": {
    "id": "a3c404ee-001b-4cb5-8bde-9ec47807ad63"
   },
   "source": [
    "### RNN GRU"
   ]
  },
  {
   "cell_type": "code",
   "execution_count": null,
   "id": "6345cb8e-ca2f-4d2a-8414-383aa5c76270",
   "metadata": {
    "colab": {
     "base_uri": "https://localhost:8080/",
     "height": 1000
    },
    "executionInfo": {
     "elapsed": 209828,
     "status": "ok",
     "timestamp": 1709578442103,
     "user": {
      "displayName": "Rakib H Hridoy",
      "userId": "11427915455487036903"
     },
     "user_tz": -360
    },
    "id": "6345cb8e-ca2f-4d2a-8414-383aa5c76270",
    "outputId": "57d196dc-3308-4e96-eb65-b60673af6f21"
   },
   "outputs": [],
   "source": [
    "model = Sequential()\n",
    "model.add(SimpleRNN(64, return_sequences=True, input_shape=(3, 1)))\n",
    "model.add(GRU(32))\n",
    "model.add(Dense(1))\n",
    "\n",
    "model.compile(loss='mean_squared_error', optimizer='adam')\n",
    "cp = ModelCheckpoint('mavg_hybrid_rnn_gru/', save_best_only=True)\n",
    "model = fit_model(model, cp, epochs, moving_avg_data, target, x_val, y_val)\n",
    "\n",
    "plot_train(\"mavg_hybrid_rnn_gru\", 50, moving_avg_data, target)\n",
    "plot_val(model, 50, x_val, y_val)\n",
    "plot_test(model, 50, x_test, y_test)\n",
    "mavg_hybrid_rnn_gru_mse = plot_predictions1(model,x_test, y_test)"
   ]
  },
  {
   "cell_type": "code",
   "execution_count": null,
   "id": "1045cb59-ad49-48f3-a5d8-542e3494aaca",
   "metadata": {
    "colab": {
     "base_uri": "https://localhost:8080/"
    },
    "executionInfo": {
     "elapsed": 14,
     "status": "ok",
     "timestamp": 1709578442103,
     "user": {
      "displayName": "Rakib H Hridoy",
      "userId": "11427915455487036903"
     },
     "user_tz": -360
    },
    "id": "1045cb59-ad49-48f3-a5d8-542e3494aaca",
    "outputId": "ed1cd703-544c-4b63-bcbf-72705133c89f"
   },
   "outputs": [],
   "source": [
    "mavg_hybrid_rnn_gru_mse"
   ]
  },
  {
   "cell_type": "markdown",
   "id": "b5854a3e-315c-41b1-b5da-50e711d9c594",
   "metadata": {
    "id": "b5854a3e-315c-41b1-b5da-50e711d9c594"
   },
   "source": [
    "### CNN GRU"
   ]
  },
  {
   "cell_type": "code",
   "execution_count": null,
   "id": "2f23e825-6453-4eb3-85aa-14a9c6148d95",
   "metadata": {
    "colab": {
     "base_uri": "https://localhost:8080/",
     "height": 1000
    },
    "executionInfo": {
     "elapsed": 210911,
     "status": "ok",
     "timestamp": 1709578653007,
     "user": {
      "displayName": "Rakib H Hridoy",
      "userId": "11427915455487036903"
     },
     "user_tz": -360
    },
    "id": "2f23e825-6453-4eb3-85aa-14a9c6148d95",
    "outputId": "cec24027-f699-43cd-d260-b733f0173413"
   },
   "outputs": [],
   "source": [
    "model = Sequential()\n",
    "\n",
    "model.add(Conv1D(filters=32, kernel_size=3, activation='relu', input_shape=(3,1)))\n",
    "#model.add(MaxPooling1D(pool_size=2))\n",
    "model.add(Flatten())\n",
    "\n",
    "model.add(RepeatVector(n=15))\n",
    "model.add(GRU(64, return_sequences=True))\n",
    "model.add(GRU(32))\n",
    "model.add(Dense(1))\n",
    "\n",
    "model.compile(loss='mean_squared_error', optimizer='adam')\n",
    "cp = ModelCheckpoint('mavg_hybrid_cnn_gru/', save_best_only=True)\n",
    "model = fit_model(model, cp, epochs, moving_avg_data, target, x_val, y_val)\n",
    "\n",
    "plot_train(\"mavg_hybrid_cnn_gru\", 50, moving_avg_data, target)\n",
    "plot_val(model, 50, x_val, y_val)\n",
    "plot_test(model, 50, x_test, y_test)\n",
    "mavg_hybrid_cnn_gru_mse = plot_predictions1(model,x_test, y_test)"
   ]
  },
  {
   "cell_type": "code",
   "execution_count": null,
   "id": "b369c99c-dd8f-4db6-a7f3-6fda45d21e51",
   "metadata": {
    "colab": {
     "base_uri": "https://localhost:8080/"
    },
    "executionInfo": {
     "elapsed": 10,
     "status": "ok",
     "timestamp": 1709578653007,
     "user": {
      "displayName": "Rakib H Hridoy",
      "userId": "11427915455487036903"
     },
     "user_tz": -360
    },
    "id": "b369c99c-dd8f-4db6-a7f3-6fda45d21e51",
    "outputId": "729496da-e3b7-49a2-f93f-049c37eb821b"
   },
   "outputs": [],
   "source": [
    "mavg_hybrid_cnn_gru_mse"
   ]
  },
  {
   "cell_type": "markdown",
   "id": "2bb28674-7619-4309-9d53-f13b1a71d79f",
   "metadata": {
    "id": "2bb28674-7619-4309-9d53-f13b1a71d79f"
   },
   "source": [
    "### CNN RNN GRU"
   ]
  },
  {
   "cell_type": "code",
   "execution_count": null,
   "id": "fa669505-9143-496f-8bc1-c27c8a875be8",
   "metadata": {
    "colab": {
     "base_uri": "https://localhost:8080/",
     "height": 1000
    },
    "executionInfo": {
     "elapsed": 76752,
     "status": "ok",
     "timestamp": 1709578729754,
     "user": {
      "displayName": "Rakib H Hridoy",
      "userId": "11427915455487036903"
     },
     "user_tz": -360
    },
    "id": "fa669505-9143-496f-8bc1-c27c8a875be8",
    "outputId": "98f0f4ef-9584-49c4-cedc-a8e245b36bf5"
   },
   "outputs": [],
   "source": [
    "model = Sequential()\n",
    "model.add(Conv1D(filters=32, kernel_size=3, activation='relu', input_shape=(3, 1)))\n",
    "#model.add(MaxPooling1D(pool_size=2))\n",
    "model.add(Flatten())\n",
    "model.add(RepeatVector(n=15))\n",
    "model.add(SimpleRNN(64, return_sequences=True))\n",
    "model.add(GRU(32))\n",
    "model.add(Dense(8))\n",
    "model.add(Dense(1))\n",
    "\n",
    "model.compile(loss='mean_squared_error', optimizer='adam')\n",
    "cp = ModelCheckpoint('mavg_hybrid_cnn_rnn_gru/', save_best_only=True)\n",
    "model = fit_model(model, cp, epochs, moving_avg_data, target, x_val, y_val)\n",
    "\n",
    "plot_train(\"mavg_hybrid_cnn_rnn_gru\", 50, moving_avg_data, target)\n",
    "plot_val(model, 50, x_val, y_val)\n",
    "plot_test(model, 50, x_test, y_test)\n",
    "mavg_hybrid_cnn_rnn_gru_mse = plot_predictions1(model,x_test, y_test)"
   ]
  },
  {
   "cell_type": "code",
   "execution_count": null,
   "id": "dd5536e6-89c6-40bf-96f0-b671cc081f90",
   "metadata": {
    "colab": {
     "base_uri": "https://localhost:8080/"
    },
    "executionInfo": {
     "elapsed": 10,
     "status": "ok",
     "timestamp": 1709578729755,
     "user": {
      "displayName": "Rakib H Hridoy",
      "userId": "11427915455487036903"
     },
     "user_tz": -360
    },
    "id": "dd5536e6-89c6-40bf-96f0-b671cc081f90",
    "outputId": "6702f772-63c6-44fe-ce37-626a128cdeab"
   },
   "outputs": [],
   "source": [
    "mavg_hybrid_cnn_rnn_gru_mse"
   ]
  },
  {
   "cell_type": "markdown",
   "id": "aa2779cb-67da-4037-9a5d-3b7ae3223344",
   "metadata": {
    "id": "aa2779cb-67da-4037-9a5d-3b7ae3223344"
   },
   "source": [
    "### RNN LSTM GRU"
   ]
  },
  {
   "cell_type": "code",
   "execution_count": null,
   "id": "f61960c1-a8ed-4213-b64c-d94770d30bac",
   "metadata": {
    "colab": {
     "base_uri": "https://localhost:8080/",
     "height": 1000
    },
    "executionInfo": {
     "elapsed": 213982,
     "status": "ok",
     "timestamp": 1709578943732,
     "user": {
      "displayName": "Rakib H Hridoy",
      "userId": "11427915455487036903"
     },
     "user_tz": -360
    },
    "id": "f61960c1-a8ed-4213-b64c-d94770d30bac",
    "outputId": "7f7d4c03-35f4-47f6-a4ad-541653998a79"
   },
   "outputs": [],
   "source": [
    "model = Sequential()\n",
    "model.add(SimpleRNN(64, return_sequences=True, input_shape=(3,1)))\n",
    "model.add(LSTM(128, return_sequences=True))\n",
    "model.add(GRU(64))\n",
    "model.add(Dense(1))\n",
    "\n",
    "model.compile(loss='mean_squared_error', optimizer='adam')\n",
    "cp = ModelCheckpoint('mavg_hybrid_lstm_rnn_gru/', save_best_only=True)\n",
    "model = fit_model(model, cp, epochs, moving_avg_data, target,x_val, y_val)\n",
    "\n",
    "plot_train(\"mavg_hybrid_lstm_rnn_gru\", 50, moving_avg_data, target)\n",
    "plot_val(model, 50, x_val, y_val)\n",
    "plot_test(model, 50, x_test, y_test)\n",
    "mavg_hybrid_lstm_rnn_gru_mse = plot_predictions1(model,x_test, y_test)"
   ]
  },
  {
   "cell_type": "code",
   "execution_count": null,
   "id": "42659f65-71f0-4a7b-8171-9aba8dcdc7a5",
   "metadata": {
    "colab": {
     "base_uri": "https://localhost:8080/"
    },
    "executionInfo": {
     "elapsed": 15,
     "status": "ok",
     "timestamp": 1709578943732,
     "user": {
      "displayName": "Rakib H Hridoy",
      "userId": "11427915455487036903"
     },
     "user_tz": -360
    },
    "id": "42659f65-71f0-4a7b-8171-9aba8dcdc7a5",
    "outputId": "338d454e-ab2d-441d-e373-60a1233dfc86"
   },
   "outputs": [],
   "source": [
    "mavg_hybrid_lstm_rnn_gru_mse"
   ]
  },
  {
   "cell_type": "markdown",
   "id": "8048232c-fdea-4c4d-899d-ed336e8f1478",
   "metadata": {
    "id": "8048232c-fdea-4c4d-899d-ed336e8f1478"
   },
   "source": [
    "# MSE"
   ]
  },
  {
   "cell_type": "code",
   "execution_count": null,
   "id": "d6efb09f-3f5e-42b3-b4b2-28f9894ebe3b",
   "metadata": {
    "id": "d6efb09f-3f5e-42b3-b4b2-28f9894ebe3b"
   },
   "outputs": [],
   "source": [
    "mse_list = [cnn_mse, rnn_mse, gru_mse, lstm_mse,\n",
    "            mvg_cnn_mse, mvg_rnn_mse, mvg_gru_mse, mvg_lstm_mse,\n",
    "            auto_cnn_mse, auto_rnn_mse, auto_gru_mse, auto_lstm_mse,\n",
    "            mavg_auto_cnn_mse, mavg_auto_rnn_mse, mavg_auto_gru_mse, mavg_auto_lstm_mse,\n",
    "            hybrid_cnn_lstm_mse, hybrid_lstm_rnn_gru_mse,hybrid_cnn_rnn_gru_mse,hybrid_cnn_gru_mse,\n",
    "            hybrid_rnn_gru_mse,hybrid_rnn_lstm_mse,\n",
    "            mavg_hybrid_cnn_lstm_mse, mavg_hybrid_lstm_rnn_gru_mse,mavg_hybrid_cnn_rnn_gru_mse,\n",
    "            mavg_hybrid_cnn_gru_mse,mavg_hybrid_rnn_gru_mse,mavg_hybrid_rnn_lstm_mse]\n",
    "\n",
    "model_n = [\"cnn\", \"rnn\", \"gru\", \"lstm\",\n",
    "           \"mvg_cnn\", \"mvg_rnn\", \"mvg_gru\", \"mvg_lstm\",\n",
    "           \"auto_cnn\", \"auto_rnn\", \"auto_gru\", \"auto_lstm\",\n",
    "           \"mvg_auto_cnn\", \"mvg_auto_rnn\", \"mvg_auto_gru\", \"mvg_auto_lstm\",\n",
    "           \"hybrid_cnn_lstm\", \"hybrid_lstm_rnn_gru\" ,\"hybrid_cnn_rnn_gru\",\"hybrid_cnn_gru\",\n",
    "           \"hybrid_rnn_gru\",\"hybrid_rnn_lstm\",\n",
    "           \"mavg_hybrid_cnn_lstm\", \"mavg_hybrid_lstm_rnn_gru\",\"mavg_hybrid_cnn_rnn_gru\",\n",
    "           \"mavg_hybrid_cnn_gru\",\"mavg_hybrid_rnn_gru\",\"mavg_hybrid_rnn_lstm\"\n",
    "          ]\n",
    "msedf = pd.DataFrame({\n",
    "    \"Model\": model_n,\n",
    "    \"MSE\": mse_list\n",
    "})\n",
    "\n",
    "rmse = np.sqrt(msedf.MSE)\n",
    "msedf[\"RMSE\"] = rmse"
   ]
  },
  {
   "cell_type": "code",
   "execution_count": null,
   "id": "f33f5196-c528-47c0-b3b7-54617059d863",
   "metadata": {
    "colab": {
     "base_uri": "https://localhost:8080/",
     "height": 927
    },
    "executionInfo": {
     "elapsed": 10,
     "status": "ok",
     "timestamp": 1709578943733,
     "user": {
      "displayName": "Rakib H Hridoy",
      "userId": "11427915455487036903"
     },
     "user_tz": -360
    },
    "id": "f33f5196-c528-47c0-b3b7-54617059d863",
    "outputId": "208ba347-e196-466a-bca9-bbaec46875ef"
   },
   "outputs": [],
   "source": [
    "msedf"
   ]
  },
  {
   "cell_type": "code",
   "execution_count": null,
   "id": "968044f6-8811-4ed3-8015-1b7843711720",
   "metadata": {
    "id": "968044f6-8811-4ed3-8015-1b7843711720"
   },
   "outputs": [],
   "source": [
    "msedf.to_csv(\"msedfpHB.csv\", index= False)"
   ]
  },
  {
   "cell_type": "code",
   "execution_count": null,
   "id": "c37a7ba0-ef39-4d70-a7b3-b458d5df86bb",
   "metadata": {
    "colab": {
     "base_uri": "https://localhost:8080/",
     "height": 641
    },
    "executionInfo": {
     "elapsed": 860,
     "status": "ok",
     "timestamp": 1709578944585,
     "user": {
      "displayName": "Rakib H Hridoy",
      "userId": "11427915455487036903"
     },
     "user_tz": -360
    },
    "id": "c37a7ba0-ef39-4d70-a7b3-b458d5df86bb",
    "outputId": "4874f31d-bb7d-4853-ad1d-ea2e70933161"
   },
   "outputs": [],
   "source": [
    "msedf.plot(\"Model\", \"RMSE\", kind= \"bar\")"
   ]
  },
  {
   "cell_type": "code",
   "execution_count": null,
   "id": "bcae8c79-8eff-42ea-beeb-8f1badf7470d",
   "metadata": {
    "id": "bcae8c79-8eff-42ea-beeb-8f1badf7470d"
   },
   "outputs": [],
   "source": [
    "np.save(\"x_train.npy\", x_train)\n",
    "np.save(\"y_train.npy\", y_train)\n",
    "np.save(\"x_test.npy\", x_test)\n",
    "np.save(\"y_test.npy\", y_test)\n",
    "np.save(\"x_val.npy\", x_val)\n",
    "np.save(\"y_val.npy\", y_val)"
   ]
  },
  {
   "cell_type": "code",
   "execution_count": null,
   "id": "c9beadb4-364a-4b0f-95c1-ec22000e52d3",
   "metadata": {
    "collapsed": true,
    "id": "c9beadb4-364a-4b0f-95c1-ec22000e52d3",
    "jupyter": {
     "outputs_hidden": true
    }
   },
   "outputs": [],
   "source": []
  },
  {
   "cell_type": "code",
   "execution_count": null,
   "id": "ae65b6e6-5fe7-40b8-bb59-d11a8ba07eeb",
   "metadata": {
    "collapsed": true,
    "id": "ae65b6e6-5fe7-40b8-bb59-d11a8ba07eeb",
    "jupyter": {
     "outputs_hidden": true
    }
   },
   "outputs": [],
   "source": []
  }
 ],
 "metadata": {
  "colab": {
   "provenance": []
  },
  "kernelspec": {
   "display_name": "Python 3 (ipykernel)",
   "language": "python",
   "name": "python3"
  },
  "language_info": {
   "codemirror_mode": {
    "name": "ipython",
    "version": 3
   },
   "file_extension": ".py",
   "mimetype": "text/x-python",
   "name": "python",
   "nbconvert_exporter": "python",
   "pygments_lexer": "ipython3",
   "version": "3.9.12"
  }
 },
 "nbformat": 4,
 "nbformat_minor": 5
}
