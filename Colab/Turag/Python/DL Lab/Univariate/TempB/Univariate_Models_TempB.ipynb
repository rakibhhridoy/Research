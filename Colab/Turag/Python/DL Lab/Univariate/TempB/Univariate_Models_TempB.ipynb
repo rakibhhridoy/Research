{
 "cells": [
  {
   "cell_type": "markdown",
   "id": "c518892e-afe8-4c28-9b60-04d9f212f120",
   "metadata": {
    "colab": {
     "base_uri": "https://localhost:8080/"
    },
    "executionInfo": {
     "elapsed": 18683,
     "status": "ok",
     "timestamp": 1709589796498,
     "user": {
      "displayName": "Rakib H Hridoy",
      "userId": "11427915455487036903"
     },
     "user_tz": -360
    },
    "id": "MrR21p7_neFN",
    "outputId": "d8d86ba0-1320-4b02-b5b6-95b2575ce659"
   },
   "source": [
    "from google.colab import drive\n",
    "drive.mount('/content/drive')"
   ]
  },
  {
   "cell_type": "markdown",
   "id": "5784ccf8-108d-4111-bcd2-1f610aae330a",
   "metadata": {
    "executionInfo": {
     "elapsed": 608,
     "status": "ok",
     "timestamp": 1709589819031,
     "user": {
      "displayName": "Rakib H Hridoy",
      "userId": "11427915455487036903"
     },
     "user_tz": -360
    },
    "id": "9k4X40mmodn9"
   },
   "source": [
    "import sys\n",
    "sys.path.append('/content/drive/MyDrive/Turag/Python/DL Lab/Univariate/TempA/')"
   ]
  },
  {
   "cell_type": "code",
   "execution_count": 1,
   "id": "6fea8c04-424d-4c1b-94bf-110f45efb648",
   "metadata": {
    "executionInfo": {
     "elapsed": 1575,
     "status": "ok",
     "timestamp": 1709589821994,
     "user": {
      "displayName": "Rakib H Hridoy",
      "userId": "11427915455487036903"
     },
     "user_tz": -360
    },
    "id": "6fea8c04-424d-4c1b-94bf-110f45efb648"
   },
   "outputs": [
    {
     "name": "stderr",
     "output_type": "stream",
     "text": [
      "2024-03-09 00:13:14.689796: I tensorflow/core/platform/cpu_feature_guard.cc:193] This TensorFlow binary is optimized with oneAPI Deep Neural Network Library (oneDNN) to use the following CPU instructions in performance-critical operations:  AVX2 AVX512F AVX512_VNNI FMA\n",
      "To enable them in other operations, rebuild TensorFlow with the appropriate compiler flags.\n",
      "2024-03-09 00:13:18.841947: I tensorflow/core/util/util.cc:169] oneDNN custom operations are on. You may see slightly different numerical results due to floating-point round-off errors from different computation orders. To turn them off, set the environment variable `TF_ENABLE_ONEDNN_OPTS=0`.\n",
      "2024-03-09 00:13:19.239287: W tensorflow/stream_executor/platform/default/dso_loader.cc:64] Could not load dynamic library 'libcudart.so.11.0'; dlerror: libcudart.so.11.0: cannot open shared object file: No such file or directory\n",
      "2024-03-09 00:13:19.239315: I tensorflow/stream_executor/cuda/cudart_stub.cc:29] Ignore above cudart dlerror if you do not have a GPU set up on your machine.\n",
      "2024-03-09 00:13:19.419544: E tensorflow/stream_executor/cuda/cuda_blas.cc:2981] Unable to register cuBLAS factory: Attempting to register factory for plugin cuBLAS when one has already been registered\n",
      "2024-03-09 00:13:26.217372: W tensorflow/stream_executor/platform/default/dso_loader.cc:64] Could not load dynamic library 'libnvinfer.so.7'; dlerror: libnvinfer.so.7: cannot open shared object file: No such file or directory\n",
      "2024-03-09 00:13:26.217855: W tensorflow/stream_executor/platform/default/dso_loader.cc:64] Could not load dynamic library 'libnvinfer_plugin.so.7'; dlerror: libnvinfer_plugin.so.7: cannot open shared object file: No such file or directory\n",
      "2024-03-09 00:13:26.217870: W tensorflow/compiler/tf2tensorrt/utils/py_utils.cc:38] TF-TRT Warning: Cannot dlopen some TensorRT libraries. If you would like to use Nvidia GPU with TensorRT, please make sure the missing libraries mentioned above are installed properly.\n"
     ]
    }
   ],
   "source": [
    "import pandas as pd\n",
    "import numpy as np\n",
    "import matplotlib.pyplot as plt\n",
    "import tensorflow as tf\n",
    "from tensorflow.keras.models import Sequential\n",
    "from tensorflow.keras.layers import Conv1D, MaxPooling1D, Flatten, Dense\n",
    "from tensorflow.keras.layers import Conv1D\n",
    "from tensorflow.keras.models import Sequential\n",
    "from tensorflow.keras.layers import *\n",
    "from tensorflow.keras.callbacks import ModelCheckpoint\n",
    "from tensorflow.keras.losses import MeanSquaredError\n",
    "from tensorflow.keras.metrics import RootMeanSquaredError\n",
    "from tensorflow.keras.optimizers import Adam\n",
    "from sklearn.model_selection import train_test_split\n",
    "from tensorflow.keras.models import load_model\n",
    "from sklearn.metrics import mean_squared_error as mse\n",
    "from functions_learning import *\n",
    "from feed_data import data_extract\n",
    "from tensorflow import keras\n",
    "from keras import layers"
   ]
  },
  {
   "cell_type": "code",
   "execution_count": 2,
   "id": "7a8be6f8-1df2-456f-ab61-e01e91628978",
   "metadata": {
    "executionInfo": {
     "elapsed": 7,
     "status": "ok",
     "timestamp": 1709589824938,
     "user": {
      "displayName": "Rakib H Hridoy",
      "userId": "11427915455487036903"
     },
     "user_tz": -360
    },
    "id": "7a8be6f8-1df2-456f-ab61-e01e91628978"
   },
   "outputs": [],
   "source": [
    "epochs = 30"
   ]
  },
  {
   "cell_type": "code",
   "execution_count": 3,
   "id": "Cj44iI56fHTt",
   "metadata": {
    "executionInfo": {
     "elapsed": 386,
     "status": "ok",
     "timestamp": 1709589827057,
     "user": {
      "displayName": "Rakib H Hridoy",
      "userId": "11427915455487036903"
     },
     "user_tz": -360
    },
    "id": "Cj44iI56fHTt"
   },
   "outputs": [
    {
     "ename": "FileNotFoundError",
     "evalue": "[Errno 2] No such file or directory: 'LocationB.csv'",
     "output_type": "error",
     "traceback": [
      "\u001b[0;31m---------------------------------------------------------------------------\u001b[0m",
      "\u001b[0;31mFileNotFoundError\u001b[0m                         Traceback (most recent call last)",
      "Input \u001b[0;32mIn [3]\u001b[0m, in \u001b[0;36m<cell line: 1>\u001b[0;34m()\u001b[0m\n\u001b[0;32m----> 1\u001b[0m df \u001b[38;5;241m=\u001b[39m \u001b[43mpd\u001b[49m\u001b[38;5;241;43m.\u001b[39;49m\u001b[43mread_csv\u001b[49m\u001b[43m(\u001b[49m\u001b[38;5;124;43m\"\u001b[39;49m\u001b[38;5;124;43mLocationB.csv\u001b[39;49m\u001b[38;5;124;43m\"\u001b[39;49m\u001b[43m)\u001b[49m\n\u001b[1;32m      3\u001b[0m df\u001b[38;5;241m.\u001b[39mdrop(columns\u001b[38;5;241m=\u001b[39m[\u001b[38;5;124m\"\u001b[39m\u001b[38;5;124mUnnamed: 0\u001b[39m\u001b[38;5;124m\"\u001b[39m, \u001b[38;5;124m\"\u001b[39m\u001b[38;5;124mDate\u001b[39m\u001b[38;5;124m\"\u001b[39m], inplace\u001b[38;5;241m=\u001b[39m\u001b[38;5;28;01mTrue\u001b[39;00m)\n\u001b[1;32m      5\u001b[0m WINDOW_SIZE \u001b[38;5;241m=\u001b[39m \u001b[38;5;241m3\u001b[39m\n",
      "File \u001b[0;32m~/anaconda3/lib/python3.9/site-packages/pandas/util/_decorators.py:311\u001b[0m, in \u001b[0;36mdeprecate_nonkeyword_arguments.<locals>.decorate.<locals>.wrapper\u001b[0;34m(*args, **kwargs)\u001b[0m\n\u001b[1;32m    305\u001b[0m \u001b[38;5;28;01mif\u001b[39;00m \u001b[38;5;28mlen\u001b[39m(args) \u001b[38;5;241m>\u001b[39m num_allow_args:\n\u001b[1;32m    306\u001b[0m     warnings\u001b[38;5;241m.\u001b[39mwarn(\n\u001b[1;32m    307\u001b[0m         msg\u001b[38;5;241m.\u001b[39mformat(arguments\u001b[38;5;241m=\u001b[39marguments),\n\u001b[1;32m    308\u001b[0m         \u001b[38;5;167;01mFutureWarning\u001b[39;00m,\n\u001b[1;32m    309\u001b[0m         stacklevel\u001b[38;5;241m=\u001b[39mstacklevel,\n\u001b[1;32m    310\u001b[0m     )\n\u001b[0;32m--> 311\u001b[0m \u001b[38;5;28;01mreturn\u001b[39;00m \u001b[43mfunc\u001b[49m\u001b[43m(\u001b[49m\u001b[38;5;241;43m*\u001b[39;49m\u001b[43margs\u001b[49m\u001b[43m,\u001b[49m\u001b[43m \u001b[49m\u001b[38;5;241;43m*\u001b[39;49m\u001b[38;5;241;43m*\u001b[39;49m\u001b[43mkwargs\u001b[49m\u001b[43m)\u001b[49m\n",
      "File \u001b[0;32m~/anaconda3/lib/python3.9/site-packages/pandas/io/parsers/readers.py:680\u001b[0m, in \u001b[0;36mread_csv\u001b[0;34m(filepath_or_buffer, sep, delimiter, header, names, index_col, usecols, squeeze, prefix, mangle_dupe_cols, dtype, engine, converters, true_values, false_values, skipinitialspace, skiprows, skipfooter, nrows, na_values, keep_default_na, na_filter, verbose, skip_blank_lines, parse_dates, infer_datetime_format, keep_date_col, date_parser, dayfirst, cache_dates, iterator, chunksize, compression, thousands, decimal, lineterminator, quotechar, quoting, doublequote, escapechar, comment, encoding, encoding_errors, dialect, error_bad_lines, warn_bad_lines, on_bad_lines, delim_whitespace, low_memory, memory_map, float_precision, storage_options)\u001b[0m\n\u001b[1;32m    665\u001b[0m kwds_defaults \u001b[38;5;241m=\u001b[39m _refine_defaults_read(\n\u001b[1;32m    666\u001b[0m     dialect,\n\u001b[1;32m    667\u001b[0m     delimiter,\n\u001b[0;32m   (...)\u001b[0m\n\u001b[1;32m    676\u001b[0m     defaults\u001b[38;5;241m=\u001b[39m{\u001b[38;5;124m\"\u001b[39m\u001b[38;5;124mdelimiter\u001b[39m\u001b[38;5;124m\"\u001b[39m: \u001b[38;5;124m\"\u001b[39m\u001b[38;5;124m,\u001b[39m\u001b[38;5;124m\"\u001b[39m},\n\u001b[1;32m    677\u001b[0m )\n\u001b[1;32m    678\u001b[0m kwds\u001b[38;5;241m.\u001b[39mupdate(kwds_defaults)\n\u001b[0;32m--> 680\u001b[0m \u001b[38;5;28;01mreturn\u001b[39;00m \u001b[43m_read\u001b[49m\u001b[43m(\u001b[49m\u001b[43mfilepath_or_buffer\u001b[49m\u001b[43m,\u001b[49m\u001b[43m \u001b[49m\u001b[43mkwds\u001b[49m\u001b[43m)\u001b[49m\n",
      "File \u001b[0;32m~/anaconda3/lib/python3.9/site-packages/pandas/io/parsers/readers.py:575\u001b[0m, in \u001b[0;36m_read\u001b[0;34m(filepath_or_buffer, kwds)\u001b[0m\n\u001b[1;32m    572\u001b[0m _validate_names(kwds\u001b[38;5;241m.\u001b[39mget(\u001b[38;5;124m\"\u001b[39m\u001b[38;5;124mnames\u001b[39m\u001b[38;5;124m\"\u001b[39m, \u001b[38;5;28;01mNone\u001b[39;00m))\n\u001b[1;32m    574\u001b[0m \u001b[38;5;66;03m# Create the parser.\u001b[39;00m\n\u001b[0;32m--> 575\u001b[0m parser \u001b[38;5;241m=\u001b[39m \u001b[43mTextFileReader\u001b[49m\u001b[43m(\u001b[49m\u001b[43mfilepath_or_buffer\u001b[49m\u001b[43m,\u001b[49m\u001b[43m \u001b[49m\u001b[38;5;241;43m*\u001b[39;49m\u001b[38;5;241;43m*\u001b[39;49m\u001b[43mkwds\u001b[49m\u001b[43m)\u001b[49m\n\u001b[1;32m    577\u001b[0m \u001b[38;5;28;01mif\u001b[39;00m chunksize \u001b[38;5;129;01mor\u001b[39;00m iterator:\n\u001b[1;32m    578\u001b[0m     \u001b[38;5;28;01mreturn\u001b[39;00m parser\n",
      "File \u001b[0;32m~/anaconda3/lib/python3.9/site-packages/pandas/io/parsers/readers.py:933\u001b[0m, in \u001b[0;36mTextFileReader.__init__\u001b[0;34m(self, f, engine, **kwds)\u001b[0m\n\u001b[1;32m    930\u001b[0m     \u001b[38;5;28mself\u001b[39m\u001b[38;5;241m.\u001b[39moptions[\u001b[38;5;124m\"\u001b[39m\u001b[38;5;124mhas_index_names\u001b[39m\u001b[38;5;124m\"\u001b[39m] \u001b[38;5;241m=\u001b[39m kwds[\u001b[38;5;124m\"\u001b[39m\u001b[38;5;124mhas_index_names\u001b[39m\u001b[38;5;124m\"\u001b[39m]\n\u001b[1;32m    932\u001b[0m \u001b[38;5;28mself\u001b[39m\u001b[38;5;241m.\u001b[39mhandles: IOHandles \u001b[38;5;241m|\u001b[39m \u001b[38;5;28;01mNone\u001b[39;00m \u001b[38;5;241m=\u001b[39m \u001b[38;5;28;01mNone\u001b[39;00m\n\u001b[0;32m--> 933\u001b[0m \u001b[38;5;28mself\u001b[39m\u001b[38;5;241m.\u001b[39m_engine \u001b[38;5;241m=\u001b[39m \u001b[38;5;28;43mself\u001b[39;49m\u001b[38;5;241;43m.\u001b[39;49m\u001b[43m_make_engine\u001b[49m\u001b[43m(\u001b[49m\u001b[43mf\u001b[49m\u001b[43m,\u001b[49m\u001b[43m \u001b[49m\u001b[38;5;28;43mself\u001b[39;49m\u001b[38;5;241;43m.\u001b[39;49m\u001b[43mengine\u001b[49m\u001b[43m)\u001b[49m\n",
      "File \u001b[0;32m~/anaconda3/lib/python3.9/site-packages/pandas/io/parsers/readers.py:1217\u001b[0m, in \u001b[0;36mTextFileReader._make_engine\u001b[0;34m(self, f, engine)\u001b[0m\n\u001b[1;32m   1213\u001b[0m     mode \u001b[38;5;241m=\u001b[39m \u001b[38;5;124m\"\u001b[39m\u001b[38;5;124mrb\u001b[39m\u001b[38;5;124m\"\u001b[39m\n\u001b[1;32m   1214\u001b[0m \u001b[38;5;66;03m# error: No overload variant of \"get_handle\" matches argument types\u001b[39;00m\n\u001b[1;32m   1215\u001b[0m \u001b[38;5;66;03m# \"Union[str, PathLike[str], ReadCsvBuffer[bytes], ReadCsvBuffer[str]]\"\u001b[39;00m\n\u001b[1;32m   1216\u001b[0m \u001b[38;5;66;03m# , \"str\", \"bool\", \"Any\", \"Any\", \"Any\", \"Any\", \"Any\"\u001b[39;00m\n\u001b[0;32m-> 1217\u001b[0m \u001b[38;5;28mself\u001b[39m\u001b[38;5;241m.\u001b[39mhandles \u001b[38;5;241m=\u001b[39m \u001b[43mget_handle\u001b[49m\u001b[43m(\u001b[49m\u001b[43m  \u001b[49m\u001b[38;5;66;43;03m# type: ignore[call-overload]\u001b[39;49;00m\n\u001b[1;32m   1218\u001b[0m \u001b[43m    \u001b[49m\u001b[43mf\u001b[49m\u001b[43m,\u001b[49m\n\u001b[1;32m   1219\u001b[0m \u001b[43m    \u001b[49m\u001b[43mmode\u001b[49m\u001b[43m,\u001b[49m\n\u001b[1;32m   1220\u001b[0m \u001b[43m    \u001b[49m\u001b[43mencoding\u001b[49m\u001b[38;5;241;43m=\u001b[39;49m\u001b[38;5;28;43mself\u001b[39;49m\u001b[38;5;241;43m.\u001b[39;49m\u001b[43moptions\u001b[49m\u001b[38;5;241;43m.\u001b[39;49m\u001b[43mget\u001b[49m\u001b[43m(\u001b[49m\u001b[38;5;124;43m\"\u001b[39;49m\u001b[38;5;124;43mencoding\u001b[39;49m\u001b[38;5;124;43m\"\u001b[39;49m\u001b[43m,\u001b[49m\u001b[43m \u001b[49m\u001b[38;5;28;43;01mNone\u001b[39;49;00m\u001b[43m)\u001b[49m\u001b[43m,\u001b[49m\n\u001b[1;32m   1221\u001b[0m \u001b[43m    \u001b[49m\u001b[43mcompression\u001b[49m\u001b[38;5;241;43m=\u001b[39;49m\u001b[38;5;28;43mself\u001b[39;49m\u001b[38;5;241;43m.\u001b[39;49m\u001b[43moptions\u001b[49m\u001b[38;5;241;43m.\u001b[39;49m\u001b[43mget\u001b[49m\u001b[43m(\u001b[49m\u001b[38;5;124;43m\"\u001b[39;49m\u001b[38;5;124;43mcompression\u001b[39;49m\u001b[38;5;124;43m\"\u001b[39;49m\u001b[43m,\u001b[49m\u001b[43m \u001b[49m\u001b[38;5;28;43;01mNone\u001b[39;49;00m\u001b[43m)\u001b[49m\u001b[43m,\u001b[49m\n\u001b[1;32m   1222\u001b[0m \u001b[43m    \u001b[49m\u001b[43mmemory_map\u001b[49m\u001b[38;5;241;43m=\u001b[39;49m\u001b[38;5;28;43mself\u001b[39;49m\u001b[38;5;241;43m.\u001b[39;49m\u001b[43moptions\u001b[49m\u001b[38;5;241;43m.\u001b[39;49m\u001b[43mget\u001b[49m\u001b[43m(\u001b[49m\u001b[38;5;124;43m\"\u001b[39;49m\u001b[38;5;124;43mmemory_map\u001b[39;49m\u001b[38;5;124;43m\"\u001b[39;49m\u001b[43m,\u001b[49m\u001b[43m \u001b[49m\u001b[38;5;28;43;01mFalse\u001b[39;49;00m\u001b[43m)\u001b[49m\u001b[43m,\u001b[49m\n\u001b[1;32m   1223\u001b[0m \u001b[43m    \u001b[49m\u001b[43mis_text\u001b[49m\u001b[38;5;241;43m=\u001b[39;49m\u001b[43mis_text\u001b[49m\u001b[43m,\u001b[49m\n\u001b[1;32m   1224\u001b[0m \u001b[43m    \u001b[49m\u001b[43merrors\u001b[49m\u001b[38;5;241;43m=\u001b[39;49m\u001b[38;5;28;43mself\u001b[39;49m\u001b[38;5;241;43m.\u001b[39;49m\u001b[43moptions\u001b[49m\u001b[38;5;241;43m.\u001b[39;49m\u001b[43mget\u001b[49m\u001b[43m(\u001b[49m\u001b[38;5;124;43m\"\u001b[39;49m\u001b[38;5;124;43mencoding_errors\u001b[39;49m\u001b[38;5;124;43m\"\u001b[39;49m\u001b[43m,\u001b[49m\u001b[43m \u001b[49m\u001b[38;5;124;43m\"\u001b[39;49m\u001b[38;5;124;43mstrict\u001b[39;49m\u001b[38;5;124;43m\"\u001b[39;49m\u001b[43m)\u001b[49m\u001b[43m,\u001b[49m\n\u001b[1;32m   1225\u001b[0m \u001b[43m    \u001b[49m\u001b[43mstorage_options\u001b[49m\u001b[38;5;241;43m=\u001b[39;49m\u001b[38;5;28;43mself\u001b[39;49m\u001b[38;5;241;43m.\u001b[39;49m\u001b[43moptions\u001b[49m\u001b[38;5;241;43m.\u001b[39;49m\u001b[43mget\u001b[49m\u001b[43m(\u001b[49m\u001b[38;5;124;43m\"\u001b[39;49m\u001b[38;5;124;43mstorage_options\u001b[39;49m\u001b[38;5;124;43m\"\u001b[39;49m\u001b[43m,\u001b[49m\u001b[43m \u001b[49m\u001b[38;5;28;43;01mNone\u001b[39;49;00m\u001b[43m)\u001b[49m\u001b[43m,\u001b[49m\n\u001b[1;32m   1226\u001b[0m \u001b[43m\u001b[49m\u001b[43m)\u001b[49m\n\u001b[1;32m   1227\u001b[0m \u001b[38;5;28;01massert\u001b[39;00m \u001b[38;5;28mself\u001b[39m\u001b[38;5;241m.\u001b[39mhandles \u001b[38;5;129;01mis\u001b[39;00m \u001b[38;5;129;01mnot\u001b[39;00m \u001b[38;5;28;01mNone\u001b[39;00m\n\u001b[1;32m   1228\u001b[0m f \u001b[38;5;241m=\u001b[39m \u001b[38;5;28mself\u001b[39m\u001b[38;5;241m.\u001b[39mhandles\u001b[38;5;241m.\u001b[39mhandle\n",
      "File \u001b[0;32m~/anaconda3/lib/python3.9/site-packages/pandas/io/common.py:789\u001b[0m, in \u001b[0;36mget_handle\u001b[0;34m(path_or_buf, mode, encoding, compression, memory_map, is_text, errors, storage_options)\u001b[0m\n\u001b[1;32m    784\u001b[0m \u001b[38;5;28;01melif\u001b[39;00m \u001b[38;5;28misinstance\u001b[39m(handle, \u001b[38;5;28mstr\u001b[39m):\n\u001b[1;32m    785\u001b[0m     \u001b[38;5;66;03m# Check whether the filename is to be opened in binary mode.\u001b[39;00m\n\u001b[1;32m    786\u001b[0m     \u001b[38;5;66;03m# Binary mode does not support 'encoding' and 'newline'.\u001b[39;00m\n\u001b[1;32m    787\u001b[0m     \u001b[38;5;28;01mif\u001b[39;00m ioargs\u001b[38;5;241m.\u001b[39mencoding \u001b[38;5;129;01mand\u001b[39;00m \u001b[38;5;124m\"\u001b[39m\u001b[38;5;124mb\u001b[39m\u001b[38;5;124m\"\u001b[39m \u001b[38;5;129;01mnot\u001b[39;00m \u001b[38;5;129;01min\u001b[39;00m ioargs\u001b[38;5;241m.\u001b[39mmode:\n\u001b[1;32m    788\u001b[0m         \u001b[38;5;66;03m# Encoding\u001b[39;00m\n\u001b[0;32m--> 789\u001b[0m         handle \u001b[38;5;241m=\u001b[39m \u001b[38;5;28;43mopen\u001b[39;49m\u001b[43m(\u001b[49m\n\u001b[1;32m    790\u001b[0m \u001b[43m            \u001b[49m\u001b[43mhandle\u001b[49m\u001b[43m,\u001b[49m\n\u001b[1;32m    791\u001b[0m \u001b[43m            \u001b[49m\u001b[43mioargs\u001b[49m\u001b[38;5;241;43m.\u001b[39;49m\u001b[43mmode\u001b[49m\u001b[43m,\u001b[49m\n\u001b[1;32m    792\u001b[0m \u001b[43m            \u001b[49m\u001b[43mencoding\u001b[49m\u001b[38;5;241;43m=\u001b[39;49m\u001b[43mioargs\u001b[49m\u001b[38;5;241;43m.\u001b[39;49m\u001b[43mencoding\u001b[49m\u001b[43m,\u001b[49m\n\u001b[1;32m    793\u001b[0m \u001b[43m            \u001b[49m\u001b[43merrors\u001b[49m\u001b[38;5;241;43m=\u001b[39;49m\u001b[43merrors\u001b[49m\u001b[43m,\u001b[49m\n\u001b[1;32m    794\u001b[0m \u001b[43m            \u001b[49m\u001b[43mnewline\u001b[49m\u001b[38;5;241;43m=\u001b[39;49m\u001b[38;5;124;43m\"\u001b[39;49m\u001b[38;5;124;43m\"\u001b[39;49m\u001b[43m,\u001b[49m\n\u001b[1;32m    795\u001b[0m \u001b[43m        \u001b[49m\u001b[43m)\u001b[49m\n\u001b[1;32m    796\u001b[0m     \u001b[38;5;28;01melse\u001b[39;00m:\n\u001b[1;32m    797\u001b[0m         \u001b[38;5;66;03m# Binary mode\u001b[39;00m\n\u001b[1;32m    798\u001b[0m         handle \u001b[38;5;241m=\u001b[39m \u001b[38;5;28mopen\u001b[39m(handle, ioargs\u001b[38;5;241m.\u001b[39mmode)\n",
      "\u001b[0;31mFileNotFoundError\u001b[0m: [Errno 2] No such file or directory: 'LocationB.csv'"
     ]
    }
   ],
   "source": [
    "df = pd.read_csv(\"LocationB.csv\")\n",
    "\n",
    "df.drop(columns=[\"Unnamed: 0\", \"Date\"], inplace=True)\n",
    "\n",
    "WINDOW_SIZE = 3\n",
    "TempB = df[\"TempB\"]\n",
    "\n",
    "X1, y1 = df_to_X_y(TempB, WINDOW_SIZE)\n",
    "x_train, x_test, y_train, y_test = train_test_split(X1, y1, test_size=0.2, random_state=1)\n",
    "x_train, x_val, y_train, y_val = train_test_split(x_train, y_train, test_size=0.2, random_state=1)"
   ]
  },
  {
   "cell_type": "markdown",
   "id": "d97481c9-eaa4-4fe3-a28f-cc3a86f99ba4",
   "metadata": {
    "id": "d97481c9-eaa4-4fe3-a28f-cc3a86f99ba4"
   },
   "source": [
    "# General Model"
   ]
  },
  {
   "cell_type": "markdown",
   "id": "25993cb2-a807-4ff8-b2d5-a9455c2f01f4",
   "metadata": {
    "id": "25993cb2-a807-4ff8-b2d5-a9455c2f01f4"
   },
   "source": [
    "### CNN"
   ]
  },
  {
   "cell_type": "code",
   "execution_count": null,
   "id": "a91b7575-703b-482c-9707-50e602f7d206",
   "metadata": {
    "colab": {
     "base_uri": "https://localhost:8080/",
     "height": 1000
    },
    "executionInfo": {
     "elapsed": 43813,
     "status": "ok",
     "timestamp": 1709225456171,
     "user": {
      "displayName": "Rakib H Hridoy",
      "userId": "11427915455487036903"
     },
     "user_tz": -360
    },
    "id": "a91b7575-703b-482c-9707-50e602f7d206",
    "outputId": "b8eafb7a-e368-4209-bcbb-e216a461dbcd"
   },
   "outputs": [],
   "source": [
    "model = Sequential()\n",
    "model.add(InputLayer((3, 1)))\n",
    "model.add(Conv1D(64, kernel_size=2))\n",
    "model.add(Flatten())\n",
    "model.add(Dense(8, 'relu'))\n",
    "model.add(Dense(1, 'linear'))\n",
    "\n",
    "\n",
    "\n",
    "cp = ModelCheckpoint('cnn/', save_best_only=True)\n",
    "\n",
    "model = fit_model(model, cp, epochs, x_train, y_train, x_val, y_val)\n",
    "\n",
    "plot_train(\"cnn\", 50, x_train, y_train)\n",
    "plot_val(model, 50, x_val, y_val)\n",
    "plot_test(model, 50, x_test, y_test)\n",
    "cnn_mse = plot_predictions1(model,x_test, y_test)"
   ]
  },
  {
   "cell_type": "markdown",
   "id": "f8a6f749-830e-433c-8169-dfb229ac48b5",
   "metadata": {
    "id": "f8a6f749-830e-433c-8169-dfb229ac48b5"
   },
   "source": [
    "### GRU"
   ]
  },
  {
   "cell_type": "code",
   "execution_count": null,
   "id": "339a87c6-549a-4a36-961b-9fcc9d5fc2b3",
   "metadata": {
    "colab": {
     "base_uri": "https://localhost:8080/",
     "height": 1000
    },
    "executionInfo": {
     "elapsed": 146103,
     "status": "ok",
     "timestamp": 1709225602265,
     "user": {
      "displayName": "Rakib H Hridoy",
      "userId": "11427915455487036903"
     },
     "user_tz": -360
    },
    "id": "339a87c6-549a-4a36-961b-9fcc9d5fc2b3",
    "outputId": "037de3ea-07e5-44bb-b087-8b9f635143bf"
   },
   "outputs": [],
   "source": [
    "model = keras.Sequential([\n",
    "    layers.GRU(units=64, input_shape=(3, 1)),\n",
    "    layers.Dense(units=1)\n",
    "])\n",
    "\n",
    "model.compile(loss='mean_squared_error', optimizer='adam')\n",
    "\n",
    "cp = ModelCheckpoint('gru/', save_best_only=True)\n",
    "model = fit_model(model, cp, epochs, x_train, y_train, x_val, y_val)\n",
    "\n",
    "plot_train(\"gru\", 50, x_train, y_train)\n",
    "plot_val(model, 50, x_val, y_val)\n",
    "plot_test(model, 50, x_test, y_test)\n",
    "gru_mse = plot_predictions1(model,x_test, y_test)"
   ]
  },
  {
   "cell_type": "markdown",
   "id": "b04e9cad-6de4-4a34-b473-278ff67ae813",
   "metadata": {
    "id": "b04e9cad-6de4-4a34-b473-278ff67ae813"
   },
   "source": [
    "### LSTM"
   ]
  },
  {
   "cell_type": "code",
   "execution_count": null,
   "id": "0d0a65de-3086-46b9-a4cc-909970f64bb2",
   "metadata": {
    "colab": {
     "base_uri": "https://localhost:8080/",
     "height": 1000
    },
    "executionInfo": {
     "elapsed": 133970,
     "status": "ok",
     "timestamp": 1709225736217,
     "user": {
      "displayName": "Rakib H Hridoy",
      "userId": "11427915455487036903"
     },
     "user_tz": -360
    },
    "id": "0d0a65de-3086-46b9-a4cc-909970f64bb2",
    "outputId": "de9e4ebf-350c-4cb3-e5b4-b0ee6036abba"
   },
   "outputs": [],
   "source": [
    "model = Sequential()\n",
    "model.add(InputLayer((3, 1)))\n",
    "model.add(LSTM(64))\n",
    "model.add(Dense(8, 'relu'))\n",
    "model.add(Dense(1, 'linear'))\n",
    "\n",
    "cp = ModelCheckpoint('lstm/', save_best_only=True)\n",
    "model = fit_model(model, cp, epochs, x_train, y_train, x_val, y_val)\n",
    "\n",
    "\n",
    "plot_train(\"lstm\", 50, x_train, y_train)\n",
    "plot_val(model, 50, x_val, y_val)\n",
    "plot_test(model, 50, x_test, y_test)\n",
    "lstm_mse = plot_predictions1(model,x_test, y_test)"
   ]
  },
  {
   "cell_type": "markdown",
   "id": "f026be61-c1e7-4c4b-bb0f-730b396eaa0a",
   "metadata": {
    "id": "f026be61-c1e7-4c4b-bb0f-730b396eaa0a"
   },
   "source": [
    "### RNN"
   ]
  },
  {
   "cell_type": "code",
   "execution_count": null,
   "id": "d4a96d4e-376b-4593-923a-85777ba0ac4c",
   "metadata": {
    "colab": {
     "base_uri": "https://localhost:8080/",
     "height": 1000
    },
    "executionInfo": {
     "elapsed": 53825,
     "status": "ok",
     "timestamp": 1709225790031,
     "user": {
      "displayName": "Rakib H Hridoy",
      "userId": "11427915455487036903"
     },
     "user_tz": -360
    },
    "id": "d4a96d4e-376b-4593-923a-85777ba0ac4c",
    "outputId": "6930c12a-9c0c-405b-e89b-0035f034659a"
   },
   "outputs": [],
   "source": [
    "model = keras.Sequential([\n",
    "    layers.SimpleRNN(units=64, input_shape=(3, 1)),\n",
    "    layers.Dense(units=1)\n",
    "])\n",
    "\n",
    "model.compile(loss='mean_squared_error', optimizer='adam')\n",
    "\n",
    "cp = ModelCheckpoint('rnn/', save_best_only=True)\n",
    "model = fit_model(model, cp, epochs, x_train, y_train, x_val, y_val)\n",
    "\n",
    "plot_train(\"rnn\", 50, x_train, y_train)\n",
    "plot_val(model, 50, x_val, y_val)\n",
    "plot_test(model, 50, x_test, y_test)\n",
    "rnn_mse = plot_predictions1(model,x_test, y_test)"
   ]
  },
  {
   "cell_type": "markdown",
   "id": "5b36e8fa-5344-4148-892b-ca9fe008c719",
   "metadata": {
    "id": "5b36e8fa-5344-4148-892b-ca9fe008c719"
   },
   "source": [
    "# Moving Average"
   ]
  },
  {
   "cell_type": "code",
   "execution_count": null,
   "id": "b5132375-1d78-4767-8c5a-e7fb931a4595",
   "metadata": {
    "id": "b5132375-1d78-4767-8c5a-e7fb931a4595"
   },
   "outputs": [],
   "source": [
    "window_size = 3\n",
    "\n",
    "def moving_average(data, window_size):\n",
    "    cumsum = np.cumsum(data, axis=0)\n",
    "    cumsum[window_size:] = cumsum[window_size:] - cumsum[:-window_size]\n",
    "    return cumsum[window_size - 1:] / window_size\n",
    "\n",
    "moving_avg_data = np.apply_along_axis(lambda x: moving_average(x, window_size), axis=0, arr=x_train)\n",
    "target = y_train[window_size - 1:].flatten()"
   ]
  },
  {
   "cell_type": "markdown",
   "id": "86590f01-32db-4702-9223-d1ea89969e57",
   "metadata": {
    "id": "86590f01-32db-4702-9223-d1ea89969e57"
   },
   "source": [
    "#### CNN"
   ]
  },
  {
   "cell_type": "code",
   "execution_count": null,
   "id": "b61211fc-375a-41be-86ff-3cce47bbcd15",
   "metadata": {
    "colab": {
     "base_uri": "https://localhost:8080/",
     "height": 1000
    },
    "executionInfo": {
     "elapsed": 42917,
     "status": "ok",
     "timestamp": 1709225832943,
     "user": {
      "displayName": "Rakib H Hridoy",
      "userId": "11427915455487036903"
     },
     "user_tz": -360
    },
    "id": "b61211fc-375a-41be-86ff-3cce47bbcd15",
    "outputId": "187e2464-66a2-484f-c268-c7ee059dece1"
   },
   "outputs": [],
   "source": [
    "model = Sequential()\n",
    "model.add(InputLayer((3, 1)))\n",
    "model.add(Conv1D(64, kernel_size=2))\n",
    "model.add(Flatten())\n",
    "model.add(Dense(8, 'relu'))\n",
    "model.add(Dense(1, 'linear'))\n",
    "\n",
    "cp = ModelCheckpoint('mavg_cnn/', save_best_only=True)\n",
    "\n",
    "model = fit_model(model, cp, epochs, moving_avg_data, target,x_val, y_val)\n",
    "\n",
    "plot_train(\"mavg_cnn\", 50, moving_avg_data, target)\n",
    "plot_val(model, 50, x_val, y_val)\n",
    "plot_test(model, 50, x_test, y_test)\n",
    "mvg_cnn_mse = plot_predictions1(model,x_test, y_test)"
   ]
  },
  {
   "cell_type": "markdown",
   "id": "6250b4a1-3772-4b90-8ed2-6d4eaafce219",
   "metadata": {
    "id": "6250b4a1-3772-4b90-8ed2-6d4eaafce219"
   },
   "source": [
    "#### GRU"
   ]
  },
  {
   "cell_type": "code",
   "execution_count": null,
   "id": "719a6cd9-abe8-49a6-949c-a97fca1ff383",
   "metadata": {
    "colab": {
     "base_uri": "https://localhost:8080/",
     "height": 1000
    },
    "executionInfo": {
     "elapsed": 100841,
     "status": "ok",
     "timestamp": 1709225933777,
     "user": {
      "displayName": "Rakib H Hridoy",
      "userId": "11427915455487036903"
     },
     "user_tz": -360
    },
    "id": "719a6cd9-abe8-49a6-949c-a97fca1ff383",
    "outputId": "91b2518f-682c-4875-e02e-e15b367a827c"
   },
   "outputs": [],
   "source": [
    "model = keras.Sequential([\n",
    "    layers.GRU(units=64, input_shape=(3, 1)),\n",
    "    layers.Dense(units=1)\n",
    "])\n",
    "\n",
    "model.compile(loss='mean_squared_error', optimizer='adam')\n",
    "\n",
    "cp = ModelCheckpoint('mavg_gru/', save_best_only=True)\n",
    "model = fit_model(model, cp, epochs,  moving_avg_data, target, x_val, y_val)\n",
    "\n",
    "plot_train(\"mavg_gru\", 50, moving_avg_data, target)\n",
    "plot_val(model, 50, x_val, y_val)\n",
    "plot_test(model, 50, x_test, y_test)\n",
    "mvg_gru_mse = plot_predictions1(model,x_test, y_test)"
   ]
  },
  {
   "cell_type": "markdown",
   "id": "a7a289c2-1d50-4ff7-b06b-de3bc5ed2dbe",
   "metadata": {
    "id": "a7a289c2-1d50-4ff7-b06b-de3bc5ed2dbe"
   },
   "source": [
    "#### LSTM"
   ]
  },
  {
   "cell_type": "code",
   "execution_count": null,
   "id": "5b7b3491-e43e-48e1-ae99-1d8d3fe0fcc2",
   "metadata": {
    "colab": {
     "base_uri": "https://localhost:8080/",
     "height": 1000
    },
    "executionInfo": {
     "elapsed": 146908,
     "status": "ok",
     "timestamp": 1709226080679,
     "user": {
      "displayName": "Rakib H Hridoy",
      "userId": "11427915455487036903"
     },
     "user_tz": -360
    },
    "id": "5b7b3491-e43e-48e1-ae99-1d8d3fe0fcc2",
    "outputId": "ba507e00-8936-41fa-e912-1f014f7c445d"
   },
   "outputs": [],
   "source": [
    "model = Sequential()\n",
    "model.add(InputLayer((3, 1)))\n",
    "model.add(LSTM(64))\n",
    "model.add(Dense(8, 'relu'))\n",
    "model.add(Dense(1, 'linear'))\n",
    "\n",
    "cp = ModelCheckpoint('mavg_lstm/', save_best_only=True)\n",
    "model = fit_model(model, cp, epochs, moving_avg_data, target, x_val, y_val)\n",
    "\n",
    "plot_train(\"mavg_lstm\", 50, moving_avg_data, target)\n",
    "plot_val(model, 50, x_val, y_val)\n",
    "plot_test(model, 50, x_test, y_test)\n",
    "mvg_lstm_mse = plot_predictions1(model,x_test, y_test)"
   ]
  },
  {
   "cell_type": "code",
   "execution_count": null,
   "id": "d68591bd-beac-400c-86ff-6adbdc810637",
   "metadata": {
    "colab": {
     "base_uri": "https://localhost:8080/",
     "height": 1000
    },
    "executionInfo": {
     "elapsed": 38795,
     "status": "ok",
     "timestamp": 1709226119470,
     "user": {
      "displayName": "Rakib H Hridoy",
      "userId": "11427915455487036903"
     },
     "user_tz": -360
    },
    "id": "d68591bd-beac-400c-86ff-6adbdc810637",
    "outputId": "b5fdd084-c743-49b0-d430-9ae5db85be5f"
   },
   "outputs": [],
   "source": [
    "model = keras.Sequential([\n",
    "    layers.SimpleRNN(units=64, input_shape=(3, 1)),\n",
    "    layers.Dense(units=1)\n",
    "])\n",
    "\n",
    "model.compile(loss='mean_squared_error', optimizer='adam')\n",
    "\n",
    "cp = ModelCheckpoint('mavg_rnn/', save_best_only=True)\n",
    "model = fit_model(model, cp, epochs, moving_avg_data, target, x_val, y_val)\n",
    "\n",
    "plot_train(\"mavg_rnn\", 50, moving_avg_data, target)\n",
    "plot_val(model, 50, x_val, y_val)\n",
    "plot_test(model, 50, x_test, y_test)\n",
    "mvg_rnn_mse = plot_predictions1(model,x_test, y_test)"
   ]
  },
  {
   "cell_type": "markdown",
   "id": "bdbe4fff-16cf-479c-be66-1663fc903859",
   "metadata": {
    "id": "bdbe4fff-16cf-479c-be66-1663fc903859"
   },
   "source": [
    "# AutoEncoder"
   ]
  },
  {
   "cell_type": "markdown",
   "id": "a6ae86aa-c7d6-4480-a2f8-416263b94f97",
   "metadata": {
    "id": "a6ae86aa-c7d6-4480-a2f8-416263b94f97"
   },
   "source": [
    "### CNN"
   ]
  },
  {
   "cell_type": "code",
   "execution_count": null,
   "id": "100a8cf0-4e3f-4914-8e59-58a70da775f5",
   "metadata": {
    "colab": {
     "base_uri": "https://localhost:8080/",
     "height": 1000
    },
    "executionInfo": {
     "elapsed": 42909,
     "status": "ok",
     "timestamp": 1709226162373,
     "user": {
      "displayName": "Rakib H Hridoy",
      "userId": "11427915455487036903"
     },
     "user_tz": -360
    },
    "id": "100a8cf0-4e3f-4914-8e59-58a70da775f5",
    "outputId": "85cec00f-9cd5-4cb7-df0b-5d901f71b110"
   },
   "outputs": [],
   "source": [
    "model = Sequential()\n",
    "model.add(InputLayer((3, 1)))\n",
    "model.add(Conv1D(64, kernel_size=2))\n",
    "model.add(Dropout(0.2))\n",
    "model.add(Conv1D(64, kernel_size=1))\n",
    "model.add(Dropout(0.2))\n",
    "model.add(Flatten())\n",
    "model.add(Dense(8, 'relu'))\n",
    "model.add(Dense(1, 'linear'))\n",
    "\n",
    "\n",
    "model.compile(loss='mean_squared_error', optimizer='adam')\n",
    "\n",
    "cp = ModelCheckpoint('autoencoder_cnn/', save_best_only=True)\n",
    "\n",
    "model = fit_model(model, cp, epochs, x_train, y_train, x_val, y_val)\n",
    "\n",
    "plot_train(\"autoencoder_cnn\", 50, x_train, y_train)\n",
    "plot_val(model, 50, x_val, y_val)\n",
    "plot_test(model, 50, x_test, y_test)\n",
    "auto_cnn_mse = plot_predictions1(model,x_test, y_test)"
   ]
  },
  {
   "cell_type": "code",
   "execution_count": null,
   "id": "e7dea812-cfa2-4503-8bbb-a09156600ffc",
   "metadata": {
    "colab": {
     "base_uri": "https://localhost:8080/"
    },
    "executionInfo": {
     "elapsed": 17,
     "status": "ok",
     "timestamp": 1709226162374,
     "user": {
      "displayName": "Rakib H Hridoy",
      "userId": "11427915455487036903"
     },
     "user_tz": -360
    },
    "id": "e7dea812-cfa2-4503-8bbb-a09156600ffc",
    "outputId": "a8679103-b069-4326-e4b7-bbcfdab66990"
   },
   "outputs": [],
   "source": [
    "auto_cnn_mse"
   ]
  },
  {
   "cell_type": "markdown",
   "id": "04977996-97ee-4e8c-8b8d-8843445461f7",
   "metadata": {
    "id": "04977996-97ee-4e8c-8b8d-8843445461f7"
   },
   "source": [
    "### GRU"
   ]
  },
  {
   "cell_type": "code",
   "execution_count": null,
   "id": "91335f89-c714-4a11-a7dc-9eb2c257e561",
   "metadata": {
    "colab": {
     "base_uri": "https://localhost:8080/",
     "height": 1000
    },
    "executionInfo": {
     "elapsed": 146697,
     "status": "ok",
     "timestamp": 1709226309059,
     "user": {
      "displayName": "Rakib H Hridoy",
      "userId": "11427915455487036903"
     },
     "user_tz": -360
    },
    "id": "91335f89-c714-4a11-a7dc-9eb2c257e561",
    "outputId": "9ebd894e-b1f1-4a16-865f-c35660ee352a"
   },
   "outputs": [],
   "source": [
    "model = Sequential()\n",
    "model.add(InputLayer((3, 1)))\n",
    "model.add(GRU(64))\n",
    "model.add(Dropout(0.2))\n",
    "model.add(Flatten())\n",
    "model.add(Dense(1))\n",
    "\n",
    "\n",
    "model.compile(loss='mean_squared_error', optimizer='adam')\n",
    "\n",
    "cp = ModelCheckpoint('autoencoder_gru/', save_best_only=True)\n",
    "\n",
    "model = fit_model(model, cp, epochs, x_train, y_train, x_val, y_val)\n",
    "\n",
    "plot_train(\"autoencoder_gru\", 50, x_train, y_train)\n",
    "plot_val(model, 50, x_val, y_val)\n",
    "plot_test(model, 50, x_test, y_test)\n",
    "auto_gru_mse = plot_predictions1(model,x_test, y_test)"
   ]
  },
  {
   "cell_type": "code",
   "execution_count": null,
   "id": "f00f9c30-ced9-4d7f-951b-1536a77ebc51",
   "metadata": {
    "colab": {
     "base_uri": "https://localhost:8080/"
    },
    "executionInfo": {
     "elapsed": 17,
     "status": "ok",
     "timestamp": 1709226309059,
     "user": {
      "displayName": "Rakib H Hridoy",
      "userId": "11427915455487036903"
     },
     "user_tz": -360
    },
    "id": "f00f9c30-ced9-4d7f-951b-1536a77ebc51",
    "outputId": "f853baee-ff36-4841-b17c-57531f4d6f32"
   },
   "outputs": [],
   "source": [
    "auto_gru_mse"
   ]
  },
  {
   "cell_type": "markdown",
   "id": "8ecc740c-b7bf-40da-b62c-52f03098517f",
   "metadata": {
    "id": "8ecc740c-b7bf-40da-b62c-52f03098517f"
   },
   "source": [
    "### LSTM"
   ]
  },
  {
   "cell_type": "code",
   "execution_count": null,
   "id": "5e25f59d-2a72-48bb-9fa7-5daa2d955a2f",
   "metadata": {
    "colab": {
     "base_uri": "https://localhost:8080/",
     "height": 1000
    },
    "executionInfo": {
     "elapsed": 133302,
     "status": "ok",
     "timestamp": 1709226442351,
     "user": {
      "displayName": "Rakib H Hridoy",
      "userId": "11427915455487036903"
     },
     "user_tz": -360
    },
    "id": "5e25f59d-2a72-48bb-9fa7-5daa2d955a2f",
    "outputId": "b2c7cb1e-cc4d-4952-eeb2-70faf4aa3fef"
   },
   "outputs": [],
   "source": [
    "model = Sequential()\n",
    "model.add(InputLayer((3, 1)))\n",
    "model.add(LSTM(64))\n",
    "model.add(Dropout(0.3))\n",
    "#model.add(RepeatVector(3))\n",
    "#model.add(LSTM(64, return_sequences=True))\n",
    "#model.add(Dropout(0.4))\n",
    "model.add(Dense(8, 'relu'))\n",
    "model.add(Flatten())\n",
    "model.add(Dense(1))\n",
    "\n",
    "model.compile(loss='mean_squared_error', optimizer='adam')\n",
    "\n",
    "cp = ModelCheckpoint('auto_lstm/', save_best_only=True)\n",
    "model = fit_model(model, cp, epochs, x_train, y_train, x_val, y_val)\n",
    "\n",
    "\n",
    "plot_train(\"auto_lstm\", 50, x_train, y_train)\n",
    "plot_val(model, 50, x_val, y_val)\n",
    "plot_test(model, 50, x_test, y_test)\n",
    "auto_lstm_mse = plot_predictions1(model,x_test, y_test)"
   ]
  },
  {
   "cell_type": "code",
   "execution_count": null,
   "id": "351f8902-e1da-4b38-858f-352f4054a9f6",
   "metadata": {
    "colab": {
     "base_uri": "https://localhost:8080/"
    },
    "executionInfo": {
     "elapsed": 21,
     "status": "ok",
     "timestamp": 1709226442351,
     "user": {
      "displayName": "Rakib H Hridoy",
      "userId": "11427915455487036903"
     },
     "user_tz": -360
    },
    "id": "351f8902-e1da-4b38-858f-352f4054a9f6",
    "outputId": "68144300-68d0-43d6-e11d-6d2737d23b80"
   },
   "outputs": [],
   "source": [
    "auto_lstm_mse"
   ]
  },
  {
   "cell_type": "markdown",
   "id": "f52afb60-e43b-4986-aae3-ad2a467cd81f",
   "metadata": {
    "id": "f52afb60-e43b-4986-aae3-ad2a467cd81f"
   },
   "source": [
    "### RNN"
   ]
  },
  {
   "cell_type": "code",
   "execution_count": null,
   "id": "dc1a560c-2f1f-4663-bed4-60b51897c76f",
   "metadata": {
    "colab": {
     "base_uri": "https://localhost:8080/",
     "height": 1000
    },
    "executionInfo": {
     "elapsed": 49083,
     "status": "ok",
     "timestamp": 1709226491422,
     "user": {
      "displayName": "Rakib H Hridoy",
      "userId": "11427915455487036903"
     },
     "user_tz": -360
    },
    "id": "dc1a560c-2f1f-4663-bed4-60b51897c76f",
    "outputId": "ea065679-71b0-4ce7-984d-3aa3842312ca"
   },
   "outputs": [],
   "source": [
    "model = Sequential()\n",
    "model.add(InputLayer((3, 1)))\n",
    "model.add(SimpleRNN(64))\n",
    "model.add(Dropout(0.4))\n",
    "model.add(Dense(1))\n",
    "\n",
    "model.compile(loss='mean_squared_error', optimizer='adam')\n",
    "\n",
    "cp = ModelCheckpoint('auto_rnn/', save_best_only=True)\n",
    "model = fit_model(model, cp, epochs, x_train, y_train, x_val, y_val)\n",
    "\n",
    "\n",
    "plot_train(\"auto_rnn\", 50, x_train, y_train)\n",
    "plot_val(model, 50, x_val, y_val)\n",
    "plot_test(model, 50, x_test, y_test)\n",
    "auto_rnn_mse = plot_predictions1(model,x_test, y_test)"
   ]
  },
  {
   "cell_type": "code",
   "execution_count": null,
   "id": "248706a3-b575-40ce-809c-f9261e4961c5",
   "metadata": {
    "colab": {
     "base_uri": "https://localhost:8080/"
    },
    "executionInfo": {
     "elapsed": 13,
     "status": "ok",
     "timestamp": 1709226491423,
     "user": {
      "displayName": "Rakib H Hridoy",
      "userId": "11427915455487036903"
     },
     "user_tz": -360
    },
    "id": "248706a3-b575-40ce-809c-f9261e4961c5",
    "outputId": "6fa3d5b5-c6cb-48d6-a31f-d56cc3bbbacf"
   },
   "outputs": [],
   "source": [
    "auto_rnn_mse"
   ]
  },
  {
   "cell_type": "markdown",
   "id": "b065cedc-49eb-45a8-8b3e-8aa15bf42a97",
   "metadata": {
    "id": "b065cedc-49eb-45a8-8b3e-8aa15bf42a97"
   },
   "source": [
    "# Moving Average with Encoder"
   ]
  },
  {
   "cell_type": "markdown",
   "id": "4aa466b7-cbf9-4da2-8110-5ffc2d87b0c6",
   "metadata": {
    "id": "4aa466b7-cbf9-4da2-8110-5ffc2d87b0c6"
   },
   "source": [
    "### CNN"
   ]
  },
  {
   "cell_type": "code",
   "execution_count": null,
   "id": "10680527-f610-433e-bb15-f01f74d8d4f6",
   "metadata": {
    "colab": {
     "base_uri": "https://localhost:8080/",
     "height": 1000
    },
    "executionInfo": {
     "elapsed": 12864,
     "status": "ok",
     "timestamp": 1709226504277,
     "user": {
      "displayName": "Rakib H Hridoy",
      "userId": "11427915455487036903"
     },
     "user_tz": -360
    },
    "id": "10680527-f610-433e-bb15-f01f74d8d4f6",
    "outputId": "53c254a7-d52d-4399-a472-8af2e6eb6140"
   },
   "outputs": [],
   "source": [
    "model = Sequential()\n",
    "model.add(InputLayer((3, 1)))\n",
    "model.add(Conv1D(64, kernel_size=2))\n",
    "model.add(Dropout(0.3))\n",
    "model.add(Conv1D(64, kernel_size=1))\n",
    "model.add(Dropout(0.3))\n",
    "model.add(Flatten())\n",
    "model.add(Dense(8, 'relu'))\n",
    "model.add(Dense(1, 'linear'))\n",
    "\n",
    "\n",
    "model.compile(loss='mean_squared_error', optimizer='adam')\n",
    "\n",
    "cp = ModelCheckpoint('mavg_autoencoder_cnn/', save_best_only=True)\n",
    "\n",
    "model = fit_model(model, cp, 10, moving_avg_data, target, x_val, y_val)\n",
    "\n",
    "plot_train(\"mavg_autoencoder_cnn\", 50, moving_avg_data, target)\n",
    "plot_val(model, 50, x_val, y_val)\n",
    "plot_test(model, 50, x_test, y_test)\n",
    "mavg_auto_cnn_mse = plot_predictions1(model,x_test, y_test)"
   ]
  },
  {
   "cell_type": "code",
   "execution_count": null,
   "id": "2ac646fb-4651-432c-add0-04d294a278db",
   "metadata": {
    "colab": {
     "base_uri": "https://localhost:8080/"
    },
    "executionInfo": {
     "elapsed": 14,
     "status": "ok",
     "timestamp": 1709226504278,
     "user": {
      "displayName": "Rakib H Hridoy",
      "userId": "11427915455487036903"
     },
     "user_tz": -360
    },
    "id": "2ac646fb-4651-432c-add0-04d294a278db",
    "outputId": "197773b2-a954-4641-a099-45d3d3aaa6ca"
   },
   "outputs": [],
   "source": [
    "mavg_auto_cnn_mse"
   ]
  },
  {
   "cell_type": "markdown",
   "id": "180b04e8-b89f-43b6-b67f-2c83d6dc3f4d",
   "metadata": {
    "id": "180b04e8-b89f-43b6-b67f-2c83d6dc3f4d"
   },
   "source": [
    "### RNN"
   ]
  },
  {
   "cell_type": "code",
   "execution_count": null,
   "id": "3e84ed39-8fec-4929-8ac0-cb76e5faa02b",
   "metadata": {
    "colab": {
     "base_uri": "https://localhost:8080/",
     "height": 1000
    },
    "executionInfo": {
     "elapsed": 23717,
     "status": "ok",
     "timestamp": 1709226527986,
     "user": {
      "displayName": "Rakib H Hridoy",
      "userId": "11427915455487036903"
     },
     "user_tz": -360
    },
    "id": "3e84ed39-8fec-4929-8ac0-cb76e5faa02b",
    "outputId": "a6d591f7-b824-4557-a3ec-66cd77a95505"
   },
   "outputs": [],
   "source": [
    "model = Sequential()\n",
    "model.add(InputLayer((3, 1)))\n",
    "model.add(SimpleRNN(64))\n",
    "model.add(Dropout(0.4))\n",
    "model.add(Dense(1))\n",
    "\n",
    "model.compile(loss='mean_squared_error', optimizer='adam')\n",
    "\n",
    "cp = ModelCheckpoint('mavg_auto_rnn/', save_best_only=True)\n",
    "model = fit_model(model, cp, 10,moving_avg_data,target, x_val, y_val)\n",
    "\n",
    "\n",
    "plot_train(\"mavg_auto_rnn\", 50, moving_avg_data, target)\n",
    "plot_val(model, 50, x_val, y_val)\n",
    "plot_test(model, 50, x_test, y_test)\n",
    "mavg_auto_rnn_mse = plot_predictions1(model,x_test, y_test)"
   ]
  },
  {
   "cell_type": "code",
   "execution_count": null,
   "id": "9609a5d0-bc92-4a3a-b169-7631dc52f40b",
   "metadata": {
    "colab": {
     "base_uri": "https://localhost:8080/"
    },
    "executionInfo": {
     "elapsed": 6,
     "status": "ok",
     "timestamp": 1709226527987,
     "user": {
      "displayName": "Rakib H Hridoy",
      "userId": "11427915455487036903"
     },
     "user_tz": -360
    },
    "id": "9609a5d0-bc92-4a3a-b169-7631dc52f40b",
    "outputId": "cf4a52df-3744-4efd-89e4-d0f2fd9d38f1"
   },
   "outputs": [],
   "source": [
    "mavg_auto_rnn_mse"
   ]
  },
  {
   "cell_type": "markdown",
   "id": "5812bcce-8250-45e9-97f7-483999e3143a",
   "metadata": {
    "id": "5812bcce-8250-45e9-97f7-483999e3143a"
   },
   "source": [
    "### GRU"
   ]
  },
  {
   "cell_type": "code",
   "execution_count": null,
   "id": "f9070d90-9084-401e-9f49-9dc404699810",
   "metadata": {
    "colab": {
     "base_uri": "https://localhost:8080/",
     "height": 1000
    },
    "executionInfo": {
     "elapsed": 44887,
     "status": "ok",
     "timestamp": 1709226572869,
     "user": {
      "displayName": "Rakib H Hridoy",
      "userId": "11427915455487036903"
     },
     "user_tz": -360
    },
    "id": "f9070d90-9084-401e-9f49-9dc404699810",
    "outputId": "391764df-6561-49b1-bb76-bb6a9b7b04c7"
   },
   "outputs": [],
   "source": [
    "model = Sequential()\n",
    "model.add(InputLayer((3, 1)))\n",
    "model.add(GRU(64))\n",
    "model.add(Dropout(0.2))\n",
    "model.add(Flatten())\n",
    "model.add(Dense(1))\n",
    "\n",
    "\n",
    "model.compile(loss='mean_squared_error', optimizer='adam')\n",
    "\n",
    "cp = ModelCheckpoint('mavg_auto_gru/', save_best_only=True)\n",
    "\n",
    "model = fit_model(model, cp, 10, moving_avg_data, target, x_val, y_val)\n",
    "\n",
    "plot_train(\"mavg_auto_gru\", 50, moving_avg_data, target)\n",
    "plot_val(model, 50, x_val, y_val)\n",
    "plot_test(model, 50, x_test, y_test)\n",
    "mavg_auto_gru_mse = plot_predictions1(model,x_test, y_test)"
   ]
  },
  {
   "cell_type": "code",
   "execution_count": null,
   "id": "81d2e4fe-3de0-448e-b998-84be320909e3",
   "metadata": {
    "colab": {
     "base_uri": "https://localhost:8080/"
    },
    "executionInfo": {
     "elapsed": 7,
     "status": "ok",
     "timestamp": 1709226572869,
     "user": {
      "displayName": "Rakib H Hridoy",
      "userId": "11427915455487036903"
     },
     "user_tz": -360
    },
    "id": "81d2e4fe-3de0-448e-b998-84be320909e3",
    "outputId": "3b0bb7bb-9301-4c2c-b5cd-c5fb3376b292"
   },
   "outputs": [],
   "source": [
    "mavg_auto_gru_mse"
   ]
  },
  {
   "cell_type": "markdown",
   "id": "1967da5b-8781-4a83-bdaa-dc25b531973b",
   "metadata": {
    "id": "1967da5b-8781-4a83-bdaa-dc25b531973b"
   },
   "source": [
    "### LSTM"
   ]
  },
  {
   "cell_type": "code",
   "execution_count": null,
   "id": "6b76ba67-9b20-4513-a6ee-6a495bc2979f",
   "metadata": {
    "colab": {
     "base_uri": "https://localhost:8080/",
     "height": 1000
    },
    "executionInfo": {
     "elapsed": 31135,
     "status": "ok",
     "timestamp": 1709226603999,
     "user": {
      "displayName": "Rakib H Hridoy",
      "userId": "11427915455487036903"
     },
     "user_tz": -360
    },
    "id": "6b76ba67-9b20-4513-a6ee-6a495bc2979f",
    "outputId": "a36a8e63-3eeb-43b7-938c-16a46e0a2174"
   },
   "outputs": [],
   "source": [
    "model = Sequential()\n",
    "model.add(InputLayer((3, 1)))\n",
    "model.add(LSTM(64))\n",
    "model.add(Dropout(0.3))\n",
    "#model.add(RepeatVector(3))\n",
    "#model.add(LSTM(64, return_sequences=True))\n",
    "#model.add(Dropout(0.4))\n",
    "#model.add(Dense(8, 'relu'))\n",
    "#model.add(Flatten())\n",
    "model.add(Dense(1))\n",
    "\n",
    "model.compile(loss='mean_squared_error', optimizer='adam')\n",
    "\n",
    "cp = ModelCheckpoint('mavg_auto_lstm/', save_best_only=True)\n",
    "model = fit_model(model, cp, 10,moving_avg_data, target, x_val, y_val)\n",
    "\n",
    "\n",
    "plot_train(\"mavg_auto_lstm\", 50, moving_avg_data, target)\n",
    "plot_val(model, 50, x_val, y_val)\n",
    "plot_test(model, 50, x_test, y_test)\n",
    "mavg_auto_lstm_mse = plot_predictions1(model,x_test, y_test)"
   ]
  },
  {
   "cell_type": "code",
   "execution_count": null,
   "id": "50d60c17-fedf-4d32-8452-2a05ad1ad55c",
   "metadata": {
    "colab": {
     "base_uri": "https://localhost:8080/"
    },
    "executionInfo": {
     "elapsed": 9,
     "status": "ok",
     "timestamp": 1709226603999,
     "user": {
      "displayName": "Rakib H Hridoy",
      "userId": "11427915455487036903"
     },
     "user_tz": -360
    },
    "id": "50d60c17-fedf-4d32-8452-2a05ad1ad55c",
    "outputId": "116e7689-aa9f-44fc-f3a5-d093507de9b9"
   },
   "outputs": [],
   "source": [
    "mavg_auto_lstm_mse"
   ]
  },
  {
   "cell_type": "markdown",
   "id": "469e39ee-ac37-4f72-9114-292b9aba46a3",
   "metadata": {
    "id": "469e39ee-ac37-4f72-9114-292b9aba46a3"
   },
   "source": [
    "# Hybrid"
   ]
  },
  {
   "cell_type": "markdown",
   "id": "02bdf792-a4fb-4272-8b4f-8e4b6c9b26f2",
   "metadata": {
    "id": "02bdf792-a4fb-4272-8b4f-8e4b6c9b26f2"
   },
   "source": [
    "## General"
   ]
  },
  {
   "cell_type": "markdown",
   "id": "2147bec4-e091-4461-b3fa-cd4fb6b8afe6",
   "metadata": {
    "id": "2147bec4-e091-4461-b3fa-cd4fb6b8afe6"
   },
   "source": [
    "### CNN LSTM"
   ]
  },
  {
   "cell_type": "code",
   "execution_count": null,
   "id": "997ef71b-7524-42fc-b608-c6e5fffa4d93",
   "metadata": {
    "colab": {
     "base_uri": "https://localhost:8080/",
     "height": 1000
    },
    "executionInfo": {
     "elapsed": 210235,
     "status": "ok",
     "timestamp": 1709226814228,
     "user": {
      "displayName": "Rakib H Hridoy",
      "userId": "11427915455487036903"
     },
     "user_tz": -360
    },
    "id": "997ef71b-7524-42fc-b608-c6e5fffa4d93",
    "outputId": "423d7310-1d3c-43fb-8f5a-45638c143443"
   },
   "outputs": [],
   "source": [
    "input_shape = (15,1)\n",
    "model = Sequential()\n",
    "model.add(Conv1D(filters=32, kernel_size=3, activation='relu', input_shape=(3,1)))\n",
    "model.add(Flatten())\n",
    "model.add(Dense(32, activation='relu'))\n",
    "model.add(RepeatVector(n=input_shape[0]))\n",
    "model.add(LSTM(units=64, return_sequences=True))\n",
    "model.add(LSTM(units=32))\n",
    "model.add(Dense(1))\n",
    "\n",
    "model.compile(loss='mean_squared_error', optimizer='adam')\n",
    "\n",
    "cp = ModelCheckpoint('hybrid_cnn_lstm/', save_best_only=True)\n",
    "\n",
    "model = fit_model(model, cp, epochs, x_train,y_train, x_val, y_val)\n",
    "\n",
    "plot_train(\"hybrid_cnn_lstm\", 50, x_train,y_train)\n",
    "plot_val(model, 50, x_val, y_val)\n",
    "plot_test(model, 50, x_test, y_test)\n",
    "hybrid_cnn_lstm_mse = plot_predictions1(model,x_test, y_test)"
   ]
  },
  {
   "cell_type": "code",
   "execution_count": null,
   "id": "3284ce02-e7a5-4eea-99a6-8dbb7bb3f0b2",
   "metadata": {
    "colab": {
     "base_uri": "https://localhost:8080/"
    },
    "executionInfo": {
     "elapsed": 14,
     "status": "ok",
     "timestamp": 1709226814228,
     "user": {
      "displayName": "Rakib H Hridoy",
      "userId": "11427915455487036903"
     },
     "user_tz": -360
    },
    "id": "3284ce02-e7a5-4eea-99a6-8dbb7bb3f0b2",
    "outputId": "2aa61dc2-5a01-4750-a4e7-24372437afe7"
   },
   "outputs": [],
   "source": [
    "hybrid_cnn_lstm_mse"
   ]
  },
  {
   "cell_type": "markdown",
   "id": "939fb23e-ce42-4949-ad87-fcaf961ca401",
   "metadata": {
    "id": "939fb23e-ce42-4949-ad87-fcaf961ca401"
   },
   "source": [
    "### RNN LSTM"
   ]
  },
  {
   "cell_type": "code",
   "execution_count": null,
   "id": "8e065ef0-b4c4-45aa-9dd9-239c86cd0359",
   "metadata": {
    "colab": {
     "base_uri": "https://localhost:8080/",
     "height": 1000
    },
    "executionInfo": {
     "elapsed": 206913,
     "status": "ok",
     "timestamp": 1709227021131,
     "user": {
      "displayName": "Rakib H Hridoy",
      "userId": "11427915455487036903"
     },
     "user_tz": -360
    },
    "id": "8e065ef0-b4c4-45aa-9dd9-239c86cd0359",
    "outputId": "693ddb56-d794-4b72-b94c-48826275e926"
   },
   "outputs": [],
   "source": [
    "model = Sequential()\n",
    "model.add(SimpleRNN(64,return_sequences=True, input_shape=(3,1)))\n",
    "model.add(LSTM(32))\n",
    "model.add(Dense(1))\n",
    "\n",
    "model.compile(loss='mean_squared_error', optimizer='adam')\n",
    "cp = ModelCheckpoint('hybrid_rnn_lstm/', save_best_only=True)\n",
    "model = fit_model(model, cp, epochs, x_train,y_train, x_val, y_val)\n",
    "\n",
    "plot_train(\"hybrid_rnn_lstm\", 50, x_train,y_train)\n",
    "plot_val(model, 50, x_val, y_val)\n",
    "plot_test(model, 50, x_test, y_test)\n",
    "hybrid_rnn_lstm_mse = plot_predictions1(model,x_test, y_test)"
   ]
  },
  {
   "cell_type": "code",
   "execution_count": null,
   "id": "5236bc05-9af4-4cb1-84c9-601d035e7dff",
   "metadata": {
    "colab": {
     "base_uri": "https://localhost:8080/"
    },
    "executionInfo": {
     "elapsed": 15,
     "status": "ok",
     "timestamp": 1709227021132,
     "user": {
      "displayName": "Rakib H Hridoy",
      "userId": "11427915455487036903"
     },
     "user_tz": -360
    },
    "id": "5236bc05-9af4-4cb1-84c9-601d035e7dff",
    "outputId": "9d9ce38c-3ec2-4e1c-a16a-7380982f6165"
   },
   "outputs": [],
   "source": [
    "hybrid_rnn_lstm_mse"
   ]
  },
  {
   "cell_type": "markdown",
   "id": "80090b57-9845-4ce4-b376-8861b97d1305",
   "metadata": {
    "id": "80090b57-9845-4ce4-b376-8861b97d1305"
   },
   "source": [
    "### RNN GRU"
   ]
  },
  {
   "cell_type": "code",
   "execution_count": null,
   "id": "abf1a1fd-6561-43ed-8247-368cf8d066cf",
   "metadata": {
    "colab": {
     "base_uri": "https://localhost:8080/",
     "height": 1000
    },
    "executionInfo": {
     "elapsed": 207537,
     "status": "ok",
     "timestamp": 1709227228658,
     "user": {
      "displayName": "Rakib H Hridoy",
      "userId": "11427915455487036903"
     },
     "user_tz": -360
    },
    "id": "abf1a1fd-6561-43ed-8247-368cf8d066cf",
    "outputId": "2d757230-bca7-4f7c-fc7b-aa75f8e8904f"
   },
   "outputs": [],
   "source": [
    "model = Sequential()\n",
    "model.add(SimpleRNN(64, return_sequences=True, input_shape=(3, 1)))\n",
    "model.add(GRU(32))\n",
    "model.add(Dense(1))\n",
    "\n",
    "model.compile(loss='mean_squared_error', optimizer='adam')\n",
    "cp = ModelCheckpoint('hybrid_rnn_gru/', save_best_only=True)\n",
    "model = fit_model(model, cp, epochs, x_train,y_train, x_val, y_val)\n",
    "\n",
    "plot_train(\"hybrid_rnn_gru\", 50, x_train,y_train)\n",
    "plot_val(model, 50, x_val, y_val)\n",
    "plot_test(model, 50, x_test, y_test)\n",
    "hybrid_rnn_gru_mse = plot_predictions1(model,x_test, y_test)"
   ]
  },
  {
   "cell_type": "code",
   "execution_count": null,
   "id": "1cbab527-6b16-45d1-9e35-0da4ebf48c26",
   "metadata": {
    "colab": {
     "base_uri": "https://localhost:8080/"
    },
    "executionInfo": {
     "elapsed": 15,
     "status": "ok",
     "timestamp": 1709227228660,
     "user": {
      "displayName": "Rakib H Hridoy",
      "userId": "11427915455487036903"
     },
     "user_tz": -360
    },
    "id": "1cbab527-6b16-45d1-9e35-0da4ebf48c26",
    "outputId": "f1e21d1e-891a-48e5-f803-0fc5cb324dea"
   },
   "outputs": [],
   "source": [
    "hybrid_rnn_gru_mse"
   ]
  },
  {
   "cell_type": "markdown",
   "id": "a895d0cf-6d2c-4058-a338-45c288c3f4c9",
   "metadata": {
    "id": "a895d0cf-6d2c-4058-a338-45c288c3f4c9"
   },
   "source": [
    "### CNN GRU"
   ]
  },
  {
   "cell_type": "code",
   "execution_count": null,
   "id": "ee0afb83-814f-4f24-b36f-4f818ab9badd",
   "metadata": {
    "colab": {
     "base_uri": "https://localhost:8080/",
     "height": 1000
    },
    "executionInfo": {
     "elapsed": 236461,
     "status": "ok",
     "timestamp": 1709227465108,
     "user": {
      "displayName": "Rakib H Hridoy",
      "userId": "11427915455487036903"
     },
     "user_tz": -360
    },
    "id": "ee0afb83-814f-4f24-b36f-4f818ab9badd",
    "outputId": "1ddd6fed-dc14-4549-90c2-b5fad638ddc0"
   },
   "outputs": [],
   "source": [
    "model = Sequential()\n",
    "\n",
    "model.add(Conv1D(filters=32, kernel_size=3, activation='relu', input_shape=(3,1)))\n",
    "model.add(Flatten())\n",
    "\n",
    "model.add(RepeatVector(n=15))\n",
    "model.add(GRU(64, return_sequences=True))\n",
    "model.add(GRU(32))\n",
    "model.add(Dense(1))\n",
    "\n",
    "model.compile(loss='mean_squared_error', optimizer='adam')\n",
    "cp = ModelCheckpoint('hybrid_cnn_gru/', save_best_only=True)\n",
    "model = fit_model(model, cp, epochs, x_train,y_train, x_val, y_val)\n",
    "\n",
    "plot_train(\"hybrid_cnn_gru\", 50, x_train,y_train)\n",
    "plot_val(model, 50, x_val, y_val)\n",
    "plot_test(model, 50, x_test, y_test)\n",
    "hybrid_cnn_gru_mse = plot_predictions1(model,x_test, y_test)"
   ]
  },
  {
   "cell_type": "code",
   "execution_count": null,
   "id": "9eab2df5-6ce1-4a84-8b04-6d7e00128e6d",
   "metadata": {
    "colab": {
     "base_uri": "https://localhost:8080/"
    },
    "executionInfo": {
     "elapsed": 8,
     "status": "ok",
     "timestamp": 1709227465108,
     "user": {
      "displayName": "Rakib H Hridoy",
      "userId": "11427915455487036903"
     },
     "user_tz": -360
    },
    "id": "9eab2df5-6ce1-4a84-8b04-6d7e00128e6d",
    "outputId": "6e011989-2717-41a0-9c83-f04c2c462d74"
   },
   "outputs": [],
   "source": [
    "hybrid_cnn_gru_mse"
   ]
  },
  {
   "cell_type": "markdown",
   "id": "d44a485d-036a-4eb1-8561-c274b9bb1807",
   "metadata": {
    "id": "d44a485d-036a-4eb1-8561-c274b9bb1807"
   },
   "source": [
    "### CNN RNN GRU"
   ]
  },
  {
   "cell_type": "code",
   "execution_count": null,
   "id": "c0488de4-1568-496c-891a-231ee82fc8ad",
   "metadata": {
    "colab": {
     "base_uri": "https://localhost:8080/",
     "height": 1000
    },
    "executionInfo": {
     "elapsed": 147644,
     "status": "ok",
     "timestamp": 1709227612745,
     "user": {
      "displayName": "Rakib H Hridoy",
      "userId": "11427915455487036903"
     },
     "user_tz": -360
    },
    "id": "c0488de4-1568-496c-891a-231ee82fc8ad",
    "outputId": "b3cad5ff-216a-4aeb-ab84-a099cb524822"
   },
   "outputs": [],
   "source": [
    "model = Sequential()\n",
    "model.add(Conv1D(filters=32, kernel_size=3, activation='relu', input_shape=(3, 1)))\n",
    "model.add(Flatten())\n",
    "model.add(RepeatVector(n=15))\n",
    "model.add(SimpleRNN(64, return_sequences=True))\n",
    "model.add(GRU(32))\n",
    "model.add(Dense(8))\n",
    "model.add(Dense(1))\n",
    "\n",
    "model.compile(loss='mean_squared_error', optimizer='adam')\n",
    "cp = ModelCheckpoint('hybrid_cnn_rnn_gru/', save_best_only=True)\n",
    "model = fit_model(model, cp, epochs, x_train,y_train, x_val, y_val)\n",
    "\n",
    "plot_train(\"hybrid_cnn_rnn_gru\", 50, x_train,y_train)\n",
    "plot_val(model, 50, x_val, y_val)\n",
    "plot_test(model, 50, x_test, y_test)\n",
    "hybrid_cnn_rnn_gru_mse = plot_predictions1(model,x_test, y_test)"
   ]
  },
  {
   "cell_type": "code",
   "execution_count": null,
   "id": "807309c8-0a28-4f2c-80d7-94b3efe0456d",
   "metadata": {
    "colab": {
     "base_uri": "https://localhost:8080/"
    },
    "executionInfo": {
     "elapsed": 9,
     "status": "ok",
     "timestamp": 1709227612746,
     "user": {
      "displayName": "Rakib H Hridoy",
      "userId": "11427915455487036903"
     },
     "user_tz": -360
    },
    "id": "807309c8-0a28-4f2c-80d7-94b3efe0456d",
    "outputId": "7615b6b8-426e-4ade-acf1-f8b314f02a23"
   },
   "outputs": [],
   "source": [
    "hybrid_cnn_rnn_gru_mse"
   ]
  },
  {
   "cell_type": "markdown",
   "id": "6b01e622-04ac-4bbd-889f-ab1fcb427598",
   "metadata": {
    "id": "6b01e622-04ac-4bbd-889f-ab1fcb427598"
   },
   "source": [
    "### LSTM RNN GRU"
   ]
  },
  {
   "cell_type": "code",
   "execution_count": null,
   "id": "bc42c921-4088-4911-9a2b-f323c105046a",
   "metadata": {
    "colab": {
     "base_uri": "https://localhost:8080/",
     "height": 1000
    },
    "executionInfo": {
     "elapsed": 260282,
     "status": "ok",
     "timestamp": 1709227873022,
     "user": {
      "displayName": "Rakib H Hridoy",
      "userId": "11427915455487036903"
     },
     "user_tz": -360
    },
    "id": "bc42c921-4088-4911-9a2b-f323c105046a",
    "outputId": "191e4866-111f-4040-ebae-d5ebe915cc55"
   },
   "outputs": [],
   "source": [
    "model = Sequential()\n",
    "model.add(SimpleRNN(64, return_sequences=True, input_shape=(3,1)))\n",
    "model.add(LSTM(128, return_sequences=True))\n",
    "model.add(GRU(64))\n",
    "model.add(Dense(1))\n",
    "\n",
    "model.compile(loss='mean_squared_error', optimizer='adam')\n",
    "cp = ModelCheckpoint('hybrid_lstm_rnn_gru/', save_best_only=True)\n",
    "model = fit_model(model, cp, epochs, x_train,y_train, x_val, y_val)\n",
    "\n",
    "plot_train(\"hybrid_lstm_rnn_gru\", 50, x_train,y_train)\n",
    "plot_val(model, 50, x_val, y_val)\n",
    "plot_test(model, 50, x_test, y_test)\n",
    "hybrid_lstm_rnn_gru_mse = plot_predictions1(model,x_test, y_test)"
   ]
  },
  {
   "cell_type": "code",
   "execution_count": null,
   "id": "4e3dacf0-53e5-4d57-abc2-a933f1f7c5bf",
   "metadata": {
    "colab": {
     "base_uri": "https://localhost:8080/"
    },
    "executionInfo": {
     "elapsed": 7,
     "status": "ok",
     "timestamp": 1709227873022,
     "user": {
      "displayName": "Rakib H Hridoy",
      "userId": "11427915455487036903"
     },
     "user_tz": -360
    },
    "id": "4e3dacf0-53e5-4d57-abc2-a933f1f7c5bf",
    "outputId": "6b6f2aec-8fa4-46c2-c295-d694e3359f20"
   },
   "outputs": [],
   "source": [
    "hybrid_lstm_rnn_gru_mse"
   ]
  },
  {
   "cell_type": "markdown",
   "id": "e11c3e00-dc76-411e-831a-8d2042cbb778",
   "metadata": {
    "id": "e11c3e00-dc76-411e-831a-8d2042cbb778"
   },
   "source": [
    "## Moving Average"
   ]
  },
  {
   "cell_type": "markdown",
   "id": "1f0bf73a-0e18-45f2-a8ce-06986e87a92e",
   "metadata": {
    "id": "1f0bf73a-0e18-45f2-a8ce-06986e87a92e"
   },
   "source": [
    "### CNN LSTM"
   ]
  },
  {
   "cell_type": "code",
   "execution_count": null,
   "id": "94711e22-60a1-41fd-80b3-d1703d14aa58",
   "metadata": {
    "colab": {
     "base_uri": "https://localhost:8080/",
     "height": 1000
    },
    "executionInfo": {
     "elapsed": 148407,
     "status": "ok",
     "timestamp": 1709228021424,
     "user": {
      "displayName": "Rakib H Hridoy",
      "userId": "11427915455487036903"
     },
     "user_tz": -360
    },
    "id": "94711e22-60a1-41fd-80b3-d1703d14aa58",
    "outputId": "96d10467-ec22-4b17-97e5-5e2549b55066"
   },
   "outputs": [],
   "source": [
    "input_shape = (15,1)\n",
    "model = Sequential()\n",
    "model.add(Conv1D(filters=32, kernel_size=3, activation='relu', input_shape=(3,1)))\n",
    "model.add(Flatten())\n",
    "model.add(Dense(32, activation='relu'))\n",
    "model.add(RepeatVector(n=input_shape[0]))\n",
    "model.add(LSTM(units=64, return_sequences=True))\n",
    "model.add(LSTM(units=32))\n",
    "model.add(Dense(1))\n",
    "\n",
    "model.compile(loss='mean_squared_error', optimizer='adam')\n",
    "\n",
    "cp = ModelCheckpoint('mavg_hybrid_cnn_lstm/', save_best_only=True)\n",
    "\n",
    "model = fit_model(model, cp, epochs, moving_avg_data, target, x_val, y_val)\n",
    "\n",
    "plot_train(\"mavg_hybrid_cnn_lstm\", 50, moving_avg_data, target)\n",
    "plot_val(model, 50, x_val, y_val)\n",
    "plot_test(model, 50, x_test, y_test)\n",
    "mavg_hybrid_cnn_lstm_mse = plot_predictions1(model,x_test, y_test)"
   ]
  },
  {
   "cell_type": "code",
   "execution_count": null,
   "id": "30cb1bbc-ced5-4094-a16e-e92ac736521e",
   "metadata": {
    "colab": {
     "base_uri": "https://localhost:8080/"
    },
    "executionInfo": {
     "elapsed": 6,
     "status": "ok",
     "timestamp": 1709228021424,
     "user": {
      "displayName": "Rakib H Hridoy",
      "userId": "11427915455487036903"
     },
     "user_tz": -360
    },
    "id": "30cb1bbc-ced5-4094-a16e-e92ac736521e",
    "outputId": "6dcc4262-abe7-43e7-ebe1-15f6b0732944"
   },
   "outputs": [],
   "source": [
    "mavg_hybrid_cnn_lstm_mse"
   ]
  },
  {
   "cell_type": "markdown",
   "id": "a5bb5cab-32f6-4844-ad49-5b7251350a7e",
   "metadata": {
    "id": "a5bb5cab-32f6-4844-ad49-5b7251350a7e"
   },
   "source": [
    "### RNN LSTM"
   ]
  },
  {
   "cell_type": "code",
   "execution_count": null,
   "id": "5cbf9837-4a24-4710-8f25-9660499a91b9",
   "metadata": {
    "colab": {
     "base_uri": "https://localhost:8080/",
     "height": 1000
    },
    "executionInfo": {
     "elapsed": 115163,
     "status": "ok",
     "timestamp": 1709228136584,
     "user": {
      "displayName": "Rakib H Hridoy",
      "userId": "11427915455487036903"
     },
     "user_tz": -360
    },
    "id": "5cbf9837-4a24-4710-8f25-9660499a91b9",
    "outputId": "5ebb021f-31b9-473c-fdf8-743a9aee894c"
   },
   "outputs": [],
   "source": [
    "model = Sequential()\n",
    "model.add(SimpleRNN(64,return_sequences=True, input_shape=(3,1)))\n",
    "model.add(LSTM(32))\n",
    "model.add(Dense(1))\n",
    "\n",
    "model.compile(loss='mean_squared_error', optimizer='adam')\n",
    "cp = ModelCheckpoint('mavg_hybrid_rnn_lstm/', save_best_only=True)\n",
    "model = fit_model(model, cp, epochs, moving_avg_data, target, x_val, y_val)\n",
    "\n",
    "plot_train(\"mavg_hybrid_rnn_lstm\", 50, moving_avg_data, target)\n",
    "plot_val(model, 50, x_val, y_val)\n",
    "plot_test(model, 50, x_test, y_test)\n",
    "mavg_hybrid_rnn_lstm_mse = plot_predictions1(model,x_test, y_test)"
   ]
  },
  {
   "cell_type": "code",
   "execution_count": null,
   "id": "55937582-d29a-4dd9-84b7-1c04be4777a8",
   "metadata": {
    "colab": {
     "base_uri": "https://localhost:8080/"
    },
    "executionInfo": {
     "elapsed": 7,
     "status": "ok",
     "timestamp": 1709228136584,
     "user": {
      "displayName": "Rakib H Hridoy",
      "userId": "11427915455487036903"
     },
     "user_tz": -360
    },
    "id": "55937582-d29a-4dd9-84b7-1c04be4777a8",
    "outputId": "65588d9d-5b23-4dc0-8a9d-e4fb73bd0c32"
   },
   "outputs": [],
   "source": [
    "mavg_hybrid_rnn_lstm_mse"
   ]
  },
  {
   "cell_type": "markdown",
   "id": "a3c404ee-001b-4cb5-8bde-9ec47807ad63",
   "metadata": {
    "id": "a3c404ee-001b-4cb5-8bde-9ec47807ad63"
   },
   "source": [
    "### RNN GRU"
   ]
  },
  {
   "cell_type": "code",
   "execution_count": null,
   "id": "6345cb8e-ca2f-4d2a-8414-383aa5c76270",
   "metadata": {
    "colab": {
     "base_uri": "https://localhost:8080/",
     "height": 1000
    },
    "executionInfo": {
     "elapsed": 100694,
     "status": "ok",
     "timestamp": 1709228237272,
     "user": {
      "displayName": "Rakib H Hridoy",
      "userId": "11427915455487036903"
     },
     "user_tz": -360
    },
    "id": "6345cb8e-ca2f-4d2a-8414-383aa5c76270",
    "outputId": "5d7f28f8-eb82-4fbb-a670-f3811423aff6"
   },
   "outputs": [],
   "source": [
    "model = Sequential()\n",
    "model.add(SimpleRNN(64, return_sequences=True, input_shape=(3, 1)))\n",
    "model.add(GRU(32))\n",
    "model.add(Dense(1))\n",
    "\n",
    "model.compile(loss='mean_squared_error', optimizer='adam')\n",
    "cp = ModelCheckpoint('mavg_hybrid_rnn_gru/', save_best_only=True)\n",
    "model = fit_model(model, cp, epochs, moving_avg_data, target, x_val, y_val)\n",
    "\n",
    "plot_train(\"mavg_hybrid_rnn_gru\", 50, moving_avg_data, target)\n",
    "plot_val(model, 50, x_val, y_val)\n",
    "plot_test(model, 50, x_test, y_test)\n",
    "mavg_hybrid_rnn_gru_mse = plot_predictions1(model,x_test, y_test)"
   ]
  },
  {
   "cell_type": "code",
   "execution_count": null,
   "id": "1045cb59-ad49-48f3-a5d8-542e3494aaca",
   "metadata": {
    "colab": {
     "base_uri": "https://localhost:8080/"
    },
    "executionInfo": {
     "elapsed": 6,
     "status": "ok",
     "timestamp": 1709228237272,
     "user": {
      "displayName": "Rakib H Hridoy",
      "userId": "11427915455487036903"
     },
     "user_tz": -360
    },
    "id": "1045cb59-ad49-48f3-a5d8-542e3494aaca",
    "outputId": "cdc0d51a-aa5b-4c04-d34f-f96e44d47256"
   },
   "outputs": [],
   "source": [
    "mavg_hybrid_rnn_gru_mse"
   ]
  },
  {
   "cell_type": "markdown",
   "id": "b5854a3e-315c-41b1-b5da-50e711d9c594",
   "metadata": {
    "id": "b5854a3e-315c-41b1-b5da-50e711d9c594"
   },
   "source": [
    "### CNN GRU"
   ]
  },
  {
   "cell_type": "code",
   "execution_count": null,
   "id": "2f23e825-6453-4eb3-85aa-14a9c6148d95",
   "metadata": {
    "colab": {
     "base_uri": "https://localhost:8080/",
     "height": 1000
    },
    "executionInfo": {
     "elapsed": 152046,
     "status": "ok",
     "timestamp": 1709229927324,
     "user": {
      "displayName": "Rakib H Hridoy",
      "userId": "11427915455487036903"
     },
     "user_tz": -360
    },
    "id": "2f23e825-6453-4eb3-85aa-14a9c6148d95",
    "outputId": "13526398-83f1-450d-cdd6-be781ae1fcc4"
   },
   "outputs": [],
   "source": [
    "model = Sequential()\n",
    "\n",
    "model.add(Conv1D(filters=32, kernel_size=3, activation='relu', input_shape=(3,1)))\n",
    "#model.add(MaxPooling1D(pool_size=2))\n",
    "model.add(Flatten())\n",
    "\n",
    "model.add(RepeatVector(n=15))\n",
    "model.add(GRU(64, return_sequences=True))\n",
    "model.add(GRU(32))\n",
    "model.add(Dense(1))\n",
    "\n",
    "model.compile(loss='mean_squared_error', optimizer='adam')\n",
    "cp = ModelCheckpoint('mavg_hybrid_cnn_gru/', save_best_only=True)\n",
    "model = fit_model(model, cp, epochs, moving_avg_data, target, x_val, y_val)\n",
    "\n",
    "plot_train(\"mavg_hybrid_cnn_gru\", 50, moving_avg_data, target)\n",
    "plot_val(model, 50, x_val, y_val)\n",
    "plot_test(model, 50, x_test, y_test)\n",
    "mavg_hybrid_cnn_gru_mse = plot_predictions1(model,x_test, y_test)"
   ]
  },
  {
   "cell_type": "code",
   "execution_count": null,
   "id": "b369c99c-dd8f-4db6-a7f3-6fda45d21e51",
   "metadata": {
    "colab": {
     "base_uri": "https://localhost:8080/"
    },
    "executionInfo": {
     "elapsed": 19,
     "status": "ok",
     "timestamp": 1709229927324,
     "user": {
      "displayName": "Rakib H Hridoy",
      "userId": "11427915455487036903"
     },
     "user_tz": -360
    },
    "id": "b369c99c-dd8f-4db6-a7f3-6fda45d21e51",
    "outputId": "0e6793b0-ab08-48a2-c271-ab81716ecf7b"
   },
   "outputs": [],
   "source": [
    "mavg_hybrid_cnn_gru_mse"
   ]
  },
  {
   "cell_type": "markdown",
   "id": "2bb28674-7619-4309-9d53-f13b1a71d79f",
   "metadata": {
    "id": "2bb28674-7619-4309-9d53-f13b1a71d79f"
   },
   "source": [
    "### CNN RNN GRU"
   ]
  },
  {
   "cell_type": "code",
   "execution_count": null,
   "id": "fa669505-9143-496f-8bc1-c27c8a875be8",
   "metadata": {
    "colab": {
     "base_uri": "https://localhost:8080/",
     "height": 1000
    },
    "executionInfo": {
     "elapsed": 74265,
     "status": "ok",
     "timestamp": 1709230028168,
     "user": {
      "displayName": "Rakib H Hridoy",
      "userId": "11427915455487036903"
     },
     "user_tz": -360
    },
    "id": "fa669505-9143-496f-8bc1-c27c8a875be8",
    "outputId": "9ce2b919-8de7-4a08-c307-f066103709fa"
   },
   "outputs": [],
   "source": [
    "model = Sequential()\n",
    "model.add(Conv1D(filters=32, kernel_size=3, activation='relu', input_shape=(3, 1)))\n",
    "#model.add(MaxPooling1D(pool_size=2))\n",
    "model.add(Flatten())\n",
    "model.add(RepeatVector(n=15))\n",
    "model.add(SimpleRNN(64, return_sequences=True))\n",
    "model.add(GRU(32))\n",
    "model.add(Dense(8))\n",
    "model.add(Dense(1))\n",
    "\n",
    "model.compile(loss='mean_squared_error', optimizer='adam')\n",
    "cp = ModelCheckpoint('mavg_hybrid_cnn_rnn_gru/', save_best_only=True)\n",
    "model = fit_model(model, cp, epochs, moving_avg_data, target, x_val, y_val)\n",
    "\n",
    "plot_train(\"mavg_hybrid_cnn_rnn_gru\", 50, moving_avg_data, target)\n",
    "plot_val(model, 50, x_val, y_val)\n",
    "plot_test(model, 50, x_test, y_test)\n",
    "mavg_hybrid_cnn_rnn_gru_mse = plot_predictions1(model,x_test, y_test)"
   ]
  },
  {
   "cell_type": "code",
   "execution_count": null,
   "id": "dd5536e6-89c6-40bf-96f0-b671cc081f90",
   "metadata": {
    "id": "dd5536e6-89c6-40bf-96f0-b671cc081f90"
   },
   "outputs": [],
   "source": [
    "mavg_hybrid_cnn_rnn_gru_mse"
   ]
  },
  {
   "cell_type": "markdown",
   "id": "aa2779cb-67da-4037-9a5d-3b7ae3223344",
   "metadata": {
    "id": "aa2779cb-67da-4037-9a5d-3b7ae3223344"
   },
   "source": [
    "### RNN LSTM GRU"
   ]
  },
  {
   "cell_type": "code",
   "execution_count": null,
   "id": "f61960c1-a8ed-4213-b64c-d94770d30bac",
   "metadata": {
    "colab": {
     "base_uri": "https://localhost:8080/",
     "height": 1000
    },
    "executionInfo": {
     "elapsed": 153486,
     "status": "ok",
     "timestamp": 1709230229103,
     "user": {
      "displayName": "Rakib H Hridoy",
      "userId": "11427915455487036903"
     },
     "user_tz": -360
    },
    "id": "f61960c1-a8ed-4213-b64c-d94770d30bac",
    "outputId": "f7535742-090d-4cd5-fcf4-b8c5a80afaac"
   },
   "outputs": [],
   "source": [
    "model = Sequential()\n",
    "model.add(SimpleRNN(64, return_sequences=True, input_shape=(3,1)))\n",
    "model.add(LSTM(128, return_sequences=True))\n",
    "model.add(GRU(64))\n",
    "model.add(Dense(1))\n",
    "\n",
    "model.compile(loss='mean_squared_error', optimizer='adam')\n",
    "cp = ModelCheckpoint('mavg_hybrid_lstm_rnn_gru/', save_best_only=True)\n",
    "model = fit_model(model, cp, epochs, moving_avg_data, target,x_val, y_val)\n",
    "\n",
    "plot_train(\"mavg_hybrid_lstm_rnn_gru\", 50, moving_avg_data, target)\n",
    "plot_val(model, 50, x_val, y_val)\n",
    "plot_test(model, 50, x_test, y_test)\n",
    "mavg_hybrid_lstm_rnn_gru_mse = plot_predictions1(model,x_test, y_test)"
   ]
  },
  {
   "cell_type": "code",
   "execution_count": null,
   "id": "42659f65-71f0-4a7b-8171-9aba8dcdc7a5",
   "metadata": {
    "colab": {
     "base_uri": "https://localhost:8080/"
    },
    "executionInfo": {
     "elapsed": 23,
     "status": "ok",
     "timestamp": 1709230230182,
     "user": {
      "displayName": "Rakib H Hridoy",
      "userId": "11427915455487036903"
     },
     "user_tz": -360
    },
    "id": "42659f65-71f0-4a7b-8171-9aba8dcdc7a5",
    "outputId": "714c3644-f608-4e47-ac15-f90c8fa95b4a"
   },
   "outputs": [],
   "source": [
    "mavg_hybrid_lstm_rnn_gru_mse"
   ]
  },
  {
   "cell_type": "markdown",
   "id": "8048232c-fdea-4c4d-899d-ed336e8f1478",
   "metadata": {
    "id": "8048232c-fdea-4c4d-899d-ed336e8f1478"
   },
   "source": [
    "# MSE"
   ]
  },
  {
   "cell_type": "code",
   "execution_count": null,
   "id": "d6efb09f-3f5e-42b3-b4b2-28f9894ebe3b",
   "metadata": {
    "id": "d6efb09f-3f5e-42b3-b4b2-28f9894ebe3b"
   },
   "outputs": [],
   "source": [
    "mse_list = [cnn_mse, rnn_mse, gru_mse, lstm_mse,\n",
    "            mvg_cnn_mse, mvg_rnn_mse, mvg_gru_mse, mvg_lstm_mse,\n",
    "            auto_cnn_mse, auto_rnn_mse, auto_gru_mse, auto_lstm_mse,\n",
    "            mavg_auto_cnn_mse, mavg_auto_rnn_mse, mavg_auto_gru_mse, mavg_auto_lstm_mse,\n",
    "            hybrid_cnn_lstm_mse, hybrid_lstm_rnn_gru_mse,hybrid_cnn_rnn_gru_mse,hybrid_cnn_gru_mse,\n",
    "            hybrid_rnn_gru_mse,hybrid_rnn_lstm_mse,\n",
    "            mavg_hybrid_cnn_lstm_mse, mavg_hybrid_lstm_rnn_gru_mse,mavg_hybrid_cnn_rnn_gru_mse,\n",
    "            mavg_hybrid_cnn_gru_mse,mavg_hybrid_rnn_gru_mse,mavg_hybrid_rnn_lstm_mse]\n",
    "\n",
    "model_n = [\"cnn\", \"rnn\", \"gru\", \"lstm\",\n",
    "           \"mvg_cnn\", \"mvg_rnn\", \"mvg_gru\", \"mvg_lstm\",\n",
    "           \"auto_cnn\", \"auto_rnn\", \"auto_gru\", \"auto_lstm\",\n",
    "           \"mvg_auto_cnn\", \"mvg_auto_rnn\", \"mvg_auto_gru\", \"mvg_auto_lstm\",\n",
    "           \"hybrid_cnn_lstm\", \"hybrid_lstm_rnn_gru\" ,\"hybrid_cnn_rnn_gru\",\"hybrid_cnn_gru\",\n",
    "           \"hybrid_rnn_gru\",\"hybrid_rnn_lstm\",\n",
    "           \"mavg_hybrid_cnn_lstm\", \"mavg_hybrid_lstm_rnn_gru\",\"mavg_hybrid_cnn_rnn_gru\",\n",
    "           \"mavg_hybrid_cnn_gru\",\"mavg_hybrid_rnn_gru\",\"mavg_hybrid_rnn_lstm\"\n",
    "          ]\n",
    "msedf = pd.DataFrame({\n",
    "    \"Model\": model_n,\n",
    "    \"MSE\": mse_list\n",
    "})\n",
    "\n",
    "rmse = np.sqrt(msedf.MSE)\n",
    "msedf[\"RMSE\"] = rmse"
   ]
  },
  {
   "cell_type": "code",
   "execution_count": null,
   "id": "f33f5196-c528-47c0-b3b7-54617059d863",
   "metadata": {
    "colab": {
     "base_uri": "https://localhost:8080/",
     "height": 927
    },
    "executionInfo": {
     "elapsed": 19,
     "status": "ok",
     "timestamp": 1709230230183,
     "user": {
      "displayName": "Rakib H Hridoy",
      "userId": "11427915455487036903"
     },
     "user_tz": -360
    },
    "id": "f33f5196-c528-47c0-b3b7-54617059d863",
    "outputId": "c7b0e3e7-89c2-44f9-dbf1-ec3a5f92e094"
   },
   "outputs": [],
   "source": [
    "msedf"
   ]
  },
  {
   "cell_type": "code",
   "execution_count": null,
   "id": "968044f6-8811-4ed3-8015-1b7843711720",
   "metadata": {
    "id": "968044f6-8811-4ed3-8015-1b7843711720"
   },
   "outputs": [],
   "source": [
    "msedf.to_csv(\"msedf.csv\", index= False)"
   ]
  },
  {
   "cell_type": "code",
   "execution_count": null,
   "id": "c37a7ba0-ef39-4d70-a7b3-b458d5df86bb",
   "metadata": {
    "colab": {
     "base_uri": "https://localhost:8080/",
     "height": 641
    },
    "executionInfo": {
     "elapsed": 614,
     "status": "ok",
     "timestamp": 1709230230783,
     "user": {
      "displayName": "Rakib H Hridoy",
      "userId": "11427915455487036903"
     },
     "user_tz": -360
    },
    "id": "c37a7ba0-ef39-4d70-a7b3-b458d5df86bb",
    "outputId": "7f583e8b-e12e-4c50-c0b3-9a892f20541e"
   },
   "outputs": [],
   "source": [
    "msedf.plot(\"Model\", \"RMSE\", kind= \"bar\")"
   ]
  },
  {
   "cell_type": "code",
   "execution_count": null,
   "id": "bcae8c79-8eff-42ea-beeb-8f1badf7470d",
   "metadata": {
    "id": "bcae8c79-8eff-42ea-beeb-8f1badf7470d"
   },
   "outputs": [],
   "source": [
    "np.save(\"x_train.npy\", x_train)\n",
    "np.save(\"y_train.npy\", y_train)\n",
    "np.save(\"x_test.npy\", x_test)\n",
    "np.save(\"y_test.npy\", y_test)\n",
    "np.save(\"x_val.npy\", x_val)\n",
    "np.save(\"y_val.npy\", y_val)"
   ]
  },
  {
   "cell_type": "code",
   "execution_count": null,
   "id": "c9beadb4-364a-4b0f-95c1-ec22000e52d3",
   "metadata": {
    "collapsed": true,
    "id": "c9beadb4-364a-4b0f-95c1-ec22000e52d3",
    "jupyter": {
     "outputs_hidden": true
    }
   },
   "outputs": [],
   "source": []
  },
  {
   "cell_type": "code",
   "execution_count": null,
   "id": "ae65b6e6-5fe7-40b8-bb59-d11a8ba07eeb",
   "metadata": {
    "collapsed": true,
    "id": "ae65b6e6-5fe7-40b8-bb59-d11a8ba07eeb",
    "jupyter": {
     "outputs_hidden": true
    }
   },
   "outputs": [],
   "source": []
  }
 ],
 "metadata": {
  "colab": {
   "provenance": []
  },
  "kernelspec": {
   "display_name": "Python 3 (ipykernel)",
   "language": "python",
   "name": "python3"
  },
  "language_info": {
   "codemirror_mode": {
    "name": "ipython",
    "version": 3
   },
   "file_extension": ".py",
   "mimetype": "text/x-python",
   "name": "python",
   "nbconvert_exporter": "python",
   "pygments_lexer": "ipython3",
   "version": "3.9.12"
  }
 },
 "nbformat": 4,
 "nbformat_minor": 5
}
