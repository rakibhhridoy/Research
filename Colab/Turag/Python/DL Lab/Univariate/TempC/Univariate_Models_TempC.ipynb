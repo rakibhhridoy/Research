{
 "cells": [
  {
   "cell_type": "markdown",
   "id": "e612f79d-19c2-47e8-b157-c0459f081d48",
   "metadata": {
    "colab": {
     "base_uri": "https://localhost:8080/"
    },
    "executionInfo": {
     "elapsed": 18683,
     "status": "ok",
     "timestamp": 1709589796498,
     "user": {
      "displayName": "Rakib H Hridoy",
      "userId": "11427915455487036903"
     },
     "user_tz": -360
    },
    "id": "MrR21p7_neFN",
    "outputId": "d8d86ba0-1320-4b02-b5b6-95b2575ce659"
   },
   "source": [
    "from google.colab import drive\n",
    "drive.mount('/content/drive')"
   ]
  },
  {
   "cell_type": "markdown",
   "id": "824e58a6-958c-49c9-8d94-5e4ebdd3f592",
   "metadata": {
    "executionInfo": {
     "elapsed": 608,
     "status": "ok",
     "timestamp": 1709589819031,
     "user": {
      "displayName": "Rakib H Hridoy",
      "userId": "11427915455487036903"
     },
     "user_tz": -360
    },
    "id": "9k4X40mmodn9"
   },
   "source": [
    "import sys\n",
    "sys.path.append('/content/drive/MyDrive/Turag/Python/DL Lab/Univariate/TempA/')"
   ]
  },
  {
   "cell_type": "code",
   "execution_count": 1,
   "id": "6fea8c04-424d-4c1b-94bf-110f45efb648",
   "metadata": {
    "executionInfo": {
     "elapsed": 1575,
     "status": "ok",
     "timestamp": 1709589821994,
     "user": {
      "displayName": "Rakib H Hridoy",
      "userId": "11427915455487036903"
     },
     "user_tz": -360
    },
    "id": "6fea8c04-424d-4c1b-94bf-110f45efb648"
   },
   "outputs": [
    {
     "name": "stderr",
     "output_type": "stream",
     "text": [
      "2024-03-09 00:13:57.463755: I tensorflow/core/platform/cpu_feature_guard.cc:193] This TensorFlow binary is optimized with oneAPI Deep Neural Network Library (oneDNN) to use the following CPU instructions in performance-critical operations:  AVX2 AVX512F AVX512_VNNI FMA\n",
      "To enable them in other operations, rebuild TensorFlow with the appropriate compiler flags.\n",
      "2024-03-09 00:13:58.936576: I tensorflow/core/util/util.cc:169] oneDNN custom operations are on. You may see slightly different numerical results due to floating-point round-off errors from different computation orders. To turn them off, set the environment variable `TF_ENABLE_ONEDNN_OPTS=0`.\n",
      "2024-03-09 00:14:02.107947: W tensorflow/stream_executor/platform/default/dso_loader.cc:64] Could not load dynamic library 'libcudart.so.11.0'; dlerror: libcudart.so.11.0: cannot open shared object file: No such file or directory\n",
      "2024-03-09 00:14:02.107973: I tensorflow/stream_executor/cuda/cudart_stub.cc:29] Ignore above cudart dlerror if you do not have a GPU set up on your machine.\n",
      "2024-03-09 00:14:02.180260: E tensorflow/stream_executor/cuda/cuda_blas.cc:2981] Unable to register cuBLAS factory: Attempting to register factory for plugin cuBLAS when one has already been registered\n",
      "2024-03-09 00:14:19.410566: W tensorflow/stream_executor/platform/default/dso_loader.cc:64] Could not load dynamic library 'libnvinfer.so.7'; dlerror: libnvinfer.so.7: cannot open shared object file: No such file or directory\n",
      "2024-03-09 00:14:19.411479: W tensorflow/stream_executor/platform/default/dso_loader.cc:64] Could not load dynamic library 'libnvinfer_plugin.so.7'; dlerror: libnvinfer_plugin.so.7: cannot open shared object file: No such file or directory\n",
      "2024-03-09 00:14:19.411525: W tensorflow/compiler/tf2tensorrt/utils/py_utils.cc:38] TF-TRT Warning: Cannot dlopen some TensorRT libraries. If you would like to use Nvidia GPU with TensorRT, please make sure the missing libraries mentioned above are installed properly.\n"
     ]
    }
   ],
   "source": [
    "import pandas as pd\n",
    "import numpy as np\n",
    "import matplotlib.pyplot as plt\n",
    "import tensorflow as tf\n",
    "from tensorflow.keras.models import Sequential\n",
    "from tensorflow.keras.layers import Conv1D, MaxPooling1D, Flatten, Dense\n",
    "from tensorflow.keras.layers import Conv1D\n",
    "from tensorflow.keras.models import Sequential\n",
    "from tensorflow.keras.layers import *\n",
    "from tensorflow.keras.callbacks import ModelCheckpoint\n",
    "from tensorflow.keras.losses import MeanSquaredError\n",
    "from tensorflow.keras.metrics import RootMeanSquaredError\n",
    "from tensorflow.keras.optimizers import Adam\n",
    "from sklearn.model_selection import train_test_split\n",
    "from tensorflow.keras.models import load_model\n",
    "from sklearn.metrics import mean_squared_error as mse\n",
    "from functions_learning import *\n",
    "from feed_data import data_extract\n",
    "from tensorflow import keras\n",
    "from keras import layers"
   ]
  },
  {
   "cell_type": "code",
   "execution_count": 2,
   "id": "7a8be6f8-1df2-456f-ab61-e01e91628978",
   "metadata": {
    "executionInfo": {
     "elapsed": 7,
     "status": "ok",
     "timestamp": 1709589824938,
     "user": {
      "displayName": "Rakib H Hridoy",
      "userId": "11427915455487036903"
     },
     "user_tz": -360
    },
    "id": "7a8be6f8-1df2-456f-ab61-e01e91628978"
   },
   "outputs": [],
   "source": [
    "epochs = 30"
   ]
  },
  {
   "cell_type": "code",
   "execution_count": 3,
   "id": "Cj44iI56fHTt",
   "metadata": {
    "executionInfo": {
     "elapsed": 386,
     "status": "ok",
     "timestamp": 1709589827057,
     "user": {
      "displayName": "Rakib H Hridoy",
      "userId": "11427915455487036903"
     },
     "user_tz": -360
    },
    "id": "Cj44iI56fHTt"
   },
   "outputs": [],
   "source": [
    "df = pd.read_csv(\"data/LocationC.csv\")\n",
    "\n",
    "df.drop(columns=[\"Unnamed: 0\", \"Date\"], inplace=True)\n",
    "\n",
    "WINDOW_SIZE = 3\n",
    "TempC = df[\"TempC\"]\n",
    "\n",
    "X1, y1 = df_to_X_y(TempC, WINDOW_SIZE)\n",
    "x_train, x_test, y_train, y_test = train_test_split(X1, y1, test_size=0.2, random_state=1)\n",
    "x_train, x_val, y_train, y_val = train_test_split(x_train, y_train, test_size=0.2, random_state=1)"
   ]
  },
  {
   "cell_type": "markdown",
   "id": "d97481c9-eaa4-4fe3-a28f-cc3a86f99ba4",
   "metadata": {
    "id": "d97481c9-eaa4-4fe3-a28f-cc3a86f99ba4"
   },
   "source": [
    "# General Model"
   ]
  },
  {
   "cell_type": "markdown",
   "id": "25993cb2-a807-4ff8-b2d5-a9455c2f01f4",
   "metadata": {
    "id": "25993cb2-a807-4ff8-b2d5-a9455c2f01f4"
   },
   "source": [
    "### CNN"
   ]
  },
  {
   "cell_type": "code",
   "execution_count": 4,
   "id": "a91b7575-703b-482c-9707-50e602f7d206",
   "metadata": {
    "colab": {
     "base_uri": "https://localhost:8080/",
     "height": 1000
    },
    "executionInfo": {
     "elapsed": 43813,
     "status": "ok",
     "timestamp": 1709225456171,
     "user": {
      "displayName": "Rakib H Hridoy",
      "userId": "11427915455487036903"
     },
     "user_tz": -360
    },
    "id": "a91b7575-703b-482c-9707-50e602f7d206",
    "outputId": "b8eafb7a-e368-4209-bcbb-e216a461dbcd"
   },
   "outputs": [
    {
     "name": "stderr",
     "output_type": "stream",
     "text": [
      "2024-03-09 00:14:27.344722: W tensorflow/stream_executor/platform/default/dso_loader.cc:64] Could not load dynamic library 'libcuda.so.1'; dlerror: libcuda.so.1: cannot open shared object file: No such file or directory\n",
      "2024-03-09 00:14:27.344792: W tensorflow/stream_executor/cuda/cuda_driver.cc:263] failed call to cuInit: UNKNOWN ERROR (303)\n",
      "2024-03-09 00:14:27.348273: I tensorflow/stream_executor/cuda/cuda_diagnostics.cc:156] kernel driver does not appear to be running on this host (fedora): /proc/driver/nvidia/version does not exist\n",
      "2024-03-09 00:14:27.387163: I tensorflow/core/platform/cpu_feature_guard.cc:193] This TensorFlow binary is optimized with oneAPI Deep Neural Network Library (oneDNN) to use the following CPU instructions in performance-critical operations:  AVX2 AVX512F AVX512_VNNI FMA\n",
      "To enable them in other operations, rebuild TensorFlow with the appropriate compiler flags.\n"
     ]
    },
    {
     "name": "stdout",
     "output_type": "stream",
     "text": [
      "Epoch 1/30\n",
      "1/8 [==>...........................] - ETA: 15s - loss: 503.3764 - root_mean_squared_error: 22.4361"
     ]
    },
    {
     "name": "stderr",
     "output_type": "stream",
     "text": [
      "WARNING:absl:Found untraced functions such as _jit_compiled_convolution_op while saving (showing 1 of 1). These functions will not be directly callable after loading.\n"
     ]
    },
    {
     "name": "stdout",
     "output_type": "stream",
     "text": [
      "INFO:tensorflow:Assets written to: cnn/assets\n"
     ]
    },
    {
     "name": "stderr",
     "output_type": "stream",
     "text": [
      "INFO:tensorflow:Assets written to: cnn/assets\n"
     ]
    },
    {
     "name": "stdout",
     "output_type": "stream",
     "text": [
      "8/8 [==============================] - 4s 309ms/step - loss: 529.4827 - root_mean_squared_error: 23.0105 - val_loss: 542.9902 - val_root_mean_squared_error: 23.3021\n",
      "Epoch 2/30\n",
      "1/8 [==>...........................] - ETA: 0s - loss: 538.8181 - root_mean_squared_error: 23.2125"
     ]
    },
    {
     "name": "stderr",
     "output_type": "stream",
     "text": [
      "WARNING:absl:Found untraced functions such as _jit_compiled_convolution_op while saving (showing 1 of 1). These functions will not be directly callable after loading.\n"
     ]
    },
    {
     "name": "stdout",
     "output_type": "stream",
     "text": [
      "INFO:tensorflow:Assets written to: cnn/assets\n"
     ]
    },
    {
     "name": "stderr",
     "output_type": "stream",
     "text": [
      "INFO:tensorflow:Assets written to: cnn/assets\n"
     ]
    },
    {
     "name": "stdout",
     "output_type": "stream",
     "text": [
      "8/8 [==============================] - 2s 252ms/step - loss: 510.7185 - root_mean_squared_error: 22.5991 - val_loss: 523.2518 - val_root_mean_squared_error: 22.8747\n",
      "Epoch 3/30\n",
      "7/8 [=========================>....] - ETA: 0s - loss: 496.1873 - root_mean_squared_error: 22.2753"
     ]
    },
    {
     "name": "stderr",
     "output_type": "stream",
     "text": [
      "WARNING:absl:Found untraced functions such as _jit_compiled_convolution_op while saving (showing 1 of 1). These functions will not be directly callable after loading.\n"
     ]
    },
    {
     "name": "stdout",
     "output_type": "stream",
     "text": [
      "INFO:tensorflow:Assets written to: cnn/assets\n"
     ]
    },
    {
     "name": "stderr",
     "output_type": "stream",
     "text": [
      "INFO:tensorflow:Assets written to: cnn/assets\n"
     ]
    },
    {
     "name": "stdout",
     "output_type": "stream",
     "text": [
      "8/8 [==============================] - 2s 283ms/step - loss: 491.9448 - root_mean_squared_error: 22.1798 - val_loss: 504.0146 - val_root_mean_squared_error: 22.4503\n",
      "Epoch 4/30\n",
      "1/8 [==>...........................] - ETA: 0s - loss: 486.0421 - root_mean_squared_error: 22.0464"
     ]
    },
    {
     "name": "stderr",
     "output_type": "stream",
     "text": [
      "WARNING:absl:Found untraced functions such as _jit_compiled_convolution_op while saving (showing 1 of 1). These functions will not be directly callable after loading.\n"
     ]
    },
    {
     "name": "stdout",
     "output_type": "stream",
     "text": [
      "INFO:tensorflow:Assets written to: cnn/assets\n"
     ]
    },
    {
     "name": "stderr",
     "output_type": "stream",
     "text": [
      "INFO:tensorflow:Assets written to: cnn/assets\n"
     ]
    },
    {
     "name": "stdout",
     "output_type": "stream",
     "text": [
      "8/8 [==============================] - 3s 460ms/step - loss: 473.9185 - root_mean_squared_error: 21.7697 - val_loss: 485.0323 - val_root_mean_squared_error: 22.0234\n",
      "Epoch 5/30\n",
      "1/8 [==>...........................] - ETA: 0s - loss: 469.7664 - root_mean_squared_error: 21.6741"
     ]
    },
    {
     "name": "stderr",
     "output_type": "stream",
     "text": [
      "WARNING:absl:Found untraced functions such as _jit_compiled_convolution_op while saving (showing 1 of 1). These functions will not be directly callable after loading.\n"
     ]
    },
    {
     "name": "stdout",
     "output_type": "stream",
     "text": [
      "INFO:tensorflow:Assets written to: cnn/assets\n"
     ]
    },
    {
     "name": "stderr",
     "output_type": "stream",
     "text": [
      "INFO:tensorflow:Assets written to: cnn/assets\n"
     ]
    },
    {
     "name": "stdout",
     "output_type": "stream",
     "text": [
      "8/8 [==============================] - 2s 238ms/step - loss: 455.8692 - root_mean_squared_error: 21.3511 - val_loss: 466.2319 - val_root_mean_squared_error: 21.5924\n",
      "Epoch 6/30\n",
      "8/8 [==============================] - ETA: 0s - loss: 438.0652 - root_mean_squared_error: 20.9300"
     ]
    },
    {
     "name": "stderr",
     "output_type": "stream",
     "text": [
      "WARNING:absl:Found untraced functions such as _jit_compiled_convolution_op while saving (showing 1 of 1). These functions will not be directly callable after loading.\n"
     ]
    },
    {
     "name": "stdout",
     "output_type": "stream",
     "text": [
      "INFO:tensorflow:Assets written to: cnn/assets\n"
     ]
    },
    {
     "name": "stderr",
     "output_type": "stream",
     "text": [
      "INFO:tensorflow:Assets written to: cnn/assets\n"
     ]
    },
    {
     "name": "stdout",
     "output_type": "stream",
     "text": [
      "8/8 [==============================] - 1s 189ms/step - loss: 438.0652 - root_mean_squared_error: 20.9300 - val_loss: 447.8080 - val_root_mean_squared_error: 21.1615\n",
      "Epoch 7/30\n",
      "1/8 [==>...........................] - ETA: 0s - loss: 433.8177 - root_mean_squared_error: 20.8283"
     ]
    },
    {
     "name": "stderr",
     "output_type": "stream",
     "text": [
      "WARNING:absl:Found untraced functions such as _jit_compiled_convolution_op while saving (showing 1 of 1). These functions will not be directly callable after loading.\n"
     ]
    },
    {
     "name": "stdout",
     "output_type": "stream",
     "text": [
      "INFO:tensorflow:Assets written to: cnn/assets\n"
     ]
    },
    {
     "name": "stderr",
     "output_type": "stream",
     "text": [
      "INFO:tensorflow:Assets written to: cnn/assets\n"
     ]
    },
    {
     "name": "stdout",
     "output_type": "stream",
     "text": [
      "8/8 [==============================] - 1s 90ms/step - loss: 420.4648 - root_mean_squared_error: 20.5052 - val_loss: 429.7178 - val_root_mean_squared_error: 20.7296\n",
      "Epoch 8/30\n",
      "1/8 [==>...........................] - ETA: 0s - loss: 372.2701 - root_mean_squared_error: 19.2943"
     ]
    },
    {
     "name": "stderr",
     "output_type": "stream",
     "text": [
      "WARNING:absl:Found untraced functions such as _jit_compiled_convolution_op while saving (showing 1 of 1). These functions will not be directly callable after loading.\n"
     ]
    },
    {
     "name": "stdout",
     "output_type": "stream",
     "text": [
      "INFO:tensorflow:Assets written to: cnn/assets\n"
     ]
    },
    {
     "name": "stderr",
     "output_type": "stream",
     "text": [
      "INFO:tensorflow:Assets written to: cnn/assets\n"
     ]
    },
    {
     "name": "stdout",
     "output_type": "stream",
     "text": [
      "8/8 [==============================] - 1s 138ms/step - loss: 403.2925 - root_mean_squared_error: 20.0821 - val_loss: 411.6111 - val_root_mean_squared_error: 20.2882\n",
      "Epoch 9/30\n",
      "1/8 [==>...........................] - ETA: 0s - loss: 377.9614 - root_mean_squared_error: 19.4412"
     ]
    },
    {
     "name": "stderr",
     "output_type": "stream",
     "text": [
      "WARNING:absl:Found untraced functions such as _jit_compiled_convolution_op while saving (showing 1 of 1). These functions will not be directly callable after loading.\n"
     ]
    },
    {
     "name": "stdout",
     "output_type": "stream",
     "text": [
      "INFO:tensorflow:Assets written to: cnn/assets\n"
     ]
    },
    {
     "name": "stderr",
     "output_type": "stream",
     "text": [
      "INFO:tensorflow:Assets written to: cnn/assets\n"
     ]
    },
    {
     "name": "stdout",
     "output_type": "stream",
     "text": [
      "8/8 [==============================] - 1s 196ms/step - loss: 386.1732 - root_mean_squared_error: 19.6513 - val_loss: 393.8850 - val_root_mean_squared_error: 19.8465\n",
      "Epoch 10/30\n",
      "1/8 [==>...........................] - ETA: 0s - loss: 401.7741 - root_mean_squared_error: 20.0443"
     ]
    },
    {
     "name": "stderr",
     "output_type": "stream",
     "text": [
      "WARNING:absl:Found untraced functions such as _jit_compiled_convolution_op while saving (showing 1 of 1). These functions will not be directly callable after loading.\n"
     ]
    },
    {
     "name": "stdout",
     "output_type": "stream",
     "text": [
      "INFO:tensorflow:Assets written to: cnn/assets\n"
     ]
    },
    {
     "name": "stderr",
     "output_type": "stream",
     "text": [
      "INFO:tensorflow:Assets written to: cnn/assets\n"
     ]
    },
    {
     "name": "stdout",
     "output_type": "stream",
     "text": [
      "8/8 [==============================] - 1s 123ms/step - loss: 369.5272 - root_mean_squared_error: 19.2231 - val_loss: 376.5587 - val_root_mean_squared_error: 19.4051\n",
      "Epoch 11/30\n",
      "1/8 [==>...........................] - ETA: 0s - loss: 374.2762 - root_mean_squared_error: 19.3462"
     ]
    },
    {
     "name": "stderr",
     "output_type": "stream",
     "text": [
      "WARNING:absl:Found untraced functions such as _jit_compiled_convolution_op while saving (showing 1 of 1). These functions will not be directly callable after loading.\n"
     ]
    },
    {
     "name": "stdout",
     "output_type": "stream",
     "text": [
      "INFO:tensorflow:Assets written to: cnn/assets\n"
     ]
    },
    {
     "name": "stderr",
     "output_type": "stream",
     "text": [
      "INFO:tensorflow:Assets written to: cnn/assets\n"
     ]
    },
    {
     "name": "stdout",
     "output_type": "stream",
     "text": [
      "8/8 [==============================] - 1s 212ms/step - loss: 353.7032 - root_mean_squared_error: 18.8070 - val_loss: 362.1637 - val_root_mean_squared_error: 19.0306\n",
      "Epoch 12/30\n",
      "1/8 [==>...........................] - ETA: 0s - loss: 358.1804 - root_mean_squared_error: 18.9257"
     ]
    },
    {
     "name": "stderr",
     "output_type": "stream",
     "text": [
      "WARNING:absl:Found untraced functions such as _jit_compiled_convolution_op while saving (showing 1 of 1). These functions will not be directly callable after loading.\n"
     ]
    },
    {
     "name": "stdout",
     "output_type": "stream",
     "text": [
      "INFO:tensorflow:Assets written to: cnn/assets\n"
     ]
    },
    {
     "name": "stderr",
     "output_type": "stream",
     "text": [
      "INFO:tensorflow:Assets written to: cnn/assets\n"
     ]
    },
    {
     "name": "stdout",
     "output_type": "stream",
     "text": [
      "8/8 [==============================] - 1s 154ms/step - loss: 340.7085 - root_mean_squared_error: 18.4583 - val_loss: 348.8821 - val_root_mean_squared_error: 18.6784\n",
      "Epoch 13/30\n",
      "1/8 [==>...........................] - ETA: 0s - loss: 321.0292 - root_mean_squared_error: 17.9173"
     ]
    },
    {
     "name": "stderr",
     "output_type": "stream",
     "text": [
      "WARNING:absl:Found untraced functions such as _jit_compiled_convolution_op while saving (showing 1 of 1). These functions will not be directly callable after loading.\n"
     ]
    },
    {
     "name": "stdout",
     "output_type": "stream",
     "text": [
      "INFO:tensorflow:Assets written to: cnn/assets\n"
     ]
    },
    {
     "name": "stderr",
     "output_type": "stream",
     "text": [
      "INFO:tensorflow:Assets written to: cnn/assets\n"
     ]
    },
    {
     "name": "stdout",
     "output_type": "stream",
     "text": [
      "8/8 [==============================] - 2s 216ms/step - loss: 328.0193 - root_mean_squared_error: 18.1113 - val_loss: 335.7896 - val_root_mean_squared_error: 18.3246\n",
      "Epoch 14/30\n",
      "1/8 [==>...........................] - ETA: 0s - loss: 322.6921 - root_mean_squared_error: 17.9636"
     ]
    },
    {
     "name": "stderr",
     "output_type": "stream",
     "text": [
      "WARNING:absl:Found untraced functions such as _jit_compiled_convolution_op while saving (showing 1 of 1). These functions will not be directly callable after loading.\n"
     ]
    },
    {
     "name": "stdout",
     "output_type": "stream",
     "text": [
      "INFO:tensorflow:Assets written to: cnn/assets\n"
     ]
    },
    {
     "name": "stderr",
     "output_type": "stream",
     "text": [
      "INFO:tensorflow:Assets written to: cnn/assets\n"
     ]
    },
    {
     "name": "stdout",
     "output_type": "stream",
     "text": [
      "8/8 [==============================] - 2s 220ms/step - loss: 315.5924 - root_mean_squared_error: 17.7649 - val_loss: 322.8689 - val_root_mean_squared_error: 17.9686\n",
      "Epoch 15/30\n",
      "1/8 [==>...........................] - ETA: 0s - loss: 328.2422 - root_mean_squared_error: 18.1175"
     ]
    },
    {
     "name": "stderr",
     "output_type": "stream",
     "text": [
      "WARNING:absl:Found untraced functions such as _jit_compiled_convolution_op while saving (showing 1 of 1). These functions will not be directly callable after loading.\n"
     ]
    },
    {
     "name": "stdout",
     "output_type": "stream",
     "text": [
      "INFO:tensorflow:Assets written to: cnn/assets\n"
     ]
    },
    {
     "name": "stderr",
     "output_type": "stream",
     "text": [
      "INFO:tensorflow:Assets written to: cnn/assets\n"
     ]
    },
    {
     "name": "stdout",
     "output_type": "stream",
     "text": [
      "8/8 [==============================] - 2s 320ms/step - loss: 303.4268 - root_mean_squared_error: 17.4191 - val_loss: 310.1938 - val_root_mean_squared_error: 17.6123\n",
      "Epoch 16/30\n",
      "1/8 [==>...........................] - ETA: 0s - loss: 297.8201 - root_mean_squared_error: 17.2575"
     ]
    },
    {
     "name": "stderr",
     "output_type": "stream",
     "text": [
      "WARNING:absl:Found untraced functions such as _jit_compiled_convolution_op while saving (showing 1 of 1). These functions will not be directly callable after loading.\n"
     ]
    },
    {
     "name": "stdout",
     "output_type": "stream",
     "text": [
      "INFO:tensorflow:Assets written to: cnn/assets\n"
     ]
    },
    {
     "name": "stderr",
     "output_type": "stream",
     "text": [
      "INFO:tensorflow:Assets written to: cnn/assets\n"
     ]
    },
    {
     "name": "stdout",
     "output_type": "stream",
     "text": [
      "8/8 [==============================] - 2s 240ms/step - loss: 291.4141 - root_mean_squared_error: 17.0709 - val_loss: 297.7569 - val_root_mean_squared_error: 17.2556\n",
      "Epoch 17/30\n",
      "1/8 [==>...........................] - ETA: 0s - loss: 281.3164 - root_mean_squared_error: 16.7725"
     ]
    },
    {
     "name": "stderr",
     "output_type": "stream",
     "text": [
      "WARNING:absl:Found untraced functions such as _jit_compiled_convolution_op while saving (showing 1 of 1). These functions will not be directly callable after loading.\n"
     ]
    },
    {
     "name": "stdout",
     "output_type": "stream",
     "text": [
      "INFO:tensorflow:Assets written to: cnn/assets\n"
     ]
    },
    {
     "name": "stderr",
     "output_type": "stream",
     "text": [
      "INFO:tensorflow:Assets written to: cnn/assets\n"
     ]
    },
    {
     "name": "stdout",
     "output_type": "stream",
     "text": [
      "8/8 [==============================] - 2s 217ms/step - loss: 279.6043 - root_mean_squared_error: 16.7214 - val_loss: 285.4267 - val_root_mean_squared_error: 16.8946\n",
      "Epoch 18/30\n",
      "1/8 [==>...........................] - ETA: 0s - loss: 269.9013 - root_mean_squared_error: 16.4287"
     ]
    },
    {
     "name": "stderr",
     "output_type": "stream",
     "text": [
      "WARNING:absl:Found untraced functions such as _jit_compiled_convolution_op while saving (showing 1 of 1). These functions will not be directly callable after loading.\n"
     ]
    },
    {
     "name": "stdout",
     "output_type": "stream",
     "text": [
      "INFO:tensorflow:Assets written to: cnn/assets\n"
     ]
    },
    {
     "name": "stderr",
     "output_type": "stream",
     "text": [
      "INFO:tensorflow:Assets written to: cnn/assets\n"
     ]
    },
    {
     "name": "stdout",
     "output_type": "stream",
     "text": [
      "8/8 [==============================] - 2s 231ms/step - loss: 267.9062 - root_mean_squared_error: 16.3678 - val_loss: 273.1697 - val_root_mean_squared_error: 16.5278\n",
      "Epoch 19/30\n",
      "1/8 [==>...........................] - ETA: 0s - loss: 273.8748 - root_mean_squared_error: 16.5492"
     ]
    },
    {
     "name": "stderr",
     "output_type": "stream",
     "text": [
      "WARNING:absl:Found untraced functions such as _jit_compiled_convolution_op while saving (showing 1 of 1). These functions will not be directly callable after loading.\n"
     ]
    },
    {
     "name": "stdout",
     "output_type": "stream",
     "text": [
      "INFO:tensorflow:Assets written to: cnn/assets\n"
     ]
    },
    {
     "name": "stderr",
     "output_type": "stream",
     "text": [
      "INFO:tensorflow:Assets written to: cnn/assets\n"
     ]
    },
    {
     "name": "stdout",
     "output_type": "stream",
     "text": [
      "8/8 [==============================] - 2s 283ms/step - loss: 256.3208 - root_mean_squared_error: 16.0100 - val_loss: 261.0992 - val_root_mean_squared_error: 16.1586\n",
      "Epoch 20/30\n",
      "5/8 [=================>............] - ETA: 0s - loss: 246.0473 - root_mean_squared_error: 15.6859"
     ]
    },
    {
     "name": "stderr",
     "output_type": "stream",
     "text": [
      "WARNING:absl:Found untraced functions such as _jit_compiled_convolution_op while saving (showing 1 of 1). These functions will not be directly callable after loading.\n"
     ]
    },
    {
     "name": "stdout",
     "output_type": "stream",
     "text": [
      "INFO:tensorflow:Assets written to: cnn/assets\n"
     ]
    },
    {
     "name": "stderr",
     "output_type": "stream",
     "text": [
      "INFO:tensorflow:Assets written to: cnn/assets\n"
     ]
    },
    {
     "name": "stdout",
     "output_type": "stream",
     "text": [
      "8/8 [==============================] - 1s 180ms/step - loss: 244.8013 - root_mean_squared_error: 15.6461 - val_loss: 249.3006 - val_root_mean_squared_error: 15.7893\n",
      "Epoch 21/30\n",
      "5/8 [=================>............] - ETA: 0s - loss: 237.6179 - root_mean_squared_error: 15.4149"
     ]
    },
    {
     "name": "stderr",
     "output_type": "stream",
     "text": [
      "WARNING:absl:Found untraced functions such as _jit_compiled_convolution_op while saving (showing 1 of 1). These functions will not be directly callable after loading.\n"
     ]
    },
    {
     "name": "stdout",
     "output_type": "stream",
     "text": [
      "INFO:tensorflow:Assets written to: cnn/assets\n"
     ]
    },
    {
     "name": "stderr",
     "output_type": "stream",
     "text": [
      "INFO:tensorflow:Assets written to: cnn/assets\n"
     ]
    },
    {
     "name": "stdout",
     "output_type": "stream",
     "text": [
      "8/8 [==============================] - 2s 327ms/step - loss: 233.6817 - root_mean_squared_error: 15.2866 - val_loss: 237.5871 - val_root_mean_squared_error: 15.4139\n",
      "Epoch 22/30\n",
      "6/8 [=====================>........] - ETA: 0s - loss: 222.6255 - root_mean_squared_error: 14.9206"
     ]
    },
    {
     "name": "stderr",
     "output_type": "stream",
     "text": [
      "WARNING:absl:Found untraced functions such as _jit_compiled_convolution_op while saving (showing 1 of 1). These functions will not be directly callable after loading.\n"
     ]
    },
    {
     "name": "stdout",
     "output_type": "stream",
     "text": [
      "INFO:tensorflow:Assets written to: cnn/assets\n"
     ]
    },
    {
     "name": "stderr",
     "output_type": "stream",
     "text": [
      "INFO:tensorflow:Assets written to: cnn/assets\n"
     ]
    },
    {
     "name": "stdout",
     "output_type": "stream",
     "text": [
      "8/8 [==============================] - 2s 338ms/step - loss: 222.5130 - root_mean_squared_error: 14.9169 - val_loss: 226.1667 - val_root_mean_squared_error: 15.0388\n",
      "Epoch 23/30\n",
      "8/8 [==============================] - ETA: 0s - loss: 211.7480 - root_mean_squared_error: 14.5516"
     ]
    },
    {
     "name": "stderr",
     "output_type": "stream",
     "text": [
      "WARNING:absl:Found untraced functions such as _jit_compiled_convolution_op while saving (showing 1 of 1). These functions will not be directly callable after loading.\n"
     ]
    },
    {
     "name": "stdout",
     "output_type": "stream",
     "text": [
      "INFO:tensorflow:Assets written to: cnn/assets\n"
     ]
    },
    {
     "name": "stderr",
     "output_type": "stream",
     "text": [
      "INFO:tensorflow:Assets written to: cnn/assets\n"
     ]
    },
    {
     "name": "stdout",
     "output_type": "stream",
     "text": [
      "8/8 [==============================] - 3s 395ms/step - loss: 211.7480 - root_mean_squared_error: 14.5516 - val_loss: 214.9660 - val_root_mean_squared_error: 14.6617\n",
      "Epoch 24/30\n",
      "1/8 [==>...........................] - ETA: 0s - loss: 203.0581 - root_mean_squared_error: 14.2498"
     ]
    },
    {
     "name": "stderr",
     "output_type": "stream",
     "text": [
      "WARNING:absl:Found untraced functions such as _jit_compiled_convolution_op while saving (showing 1 of 1). These functions will not be directly callable after loading.\n"
     ]
    },
    {
     "name": "stdout",
     "output_type": "stream",
     "text": [
      "INFO:tensorflow:Assets written to: cnn/assets\n"
     ]
    },
    {
     "name": "stderr",
     "output_type": "stream",
     "text": [
      "INFO:tensorflow:Assets written to: cnn/assets\n"
     ]
    },
    {
     "name": "stdout",
     "output_type": "stream",
     "text": [
      "8/8 [==============================] - 3s 492ms/step - loss: 201.1546 - root_mean_squared_error: 14.1829 - val_loss: 204.0372 - val_root_mean_squared_error: 14.2842\n",
      "Epoch 25/30\n",
      "1/8 [==>...........................] - ETA: 0s - loss: 204.7361 - root_mean_squared_error: 14.3086"
     ]
    },
    {
     "name": "stderr",
     "output_type": "stream",
     "text": [
      "WARNING:absl:Found untraced functions such as _jit_compiled_convolution_op while saving (showing 1 of 1). These functions will not be directly callable after loading.\n"
     ]
    },
    {
     "name": "stdout",
     "output_type": "stream",
     "text": [
      "INFO:tensorflow:Assets written to: cnn/assets\n"
     ]
    },
    {
     "name": "stderr",
     "output_type": "stream",
     "text": [
      "INFO:tensorflow:Assets written to: cnn/assets\n"
     ]
    },
    {
     "name": "stdout",
     "output_type": "stream",
     "text": [
      "8/8 [==============================] - 3s 458ms/step - loss: 190.8083 - root_mean_squared_error: 13.8133 - val_loss: 193.2319 - val_root_mean_squared_error: 13.9008\n",
      "Epoch 26/30\n",
      "5/8 [=================>............] - ETA: 0s - loss: 182.3095 - root_mean_squared_error: 13.5022"
     ]
    },
    {
     "name": "stderr",
     "output_type": "stream",
     "text": [
      "WARNING:absl:Found untraced functions such as _jit_compiled_convolution_op while saving (showing 1 of 1). These functions will not be directly callable after loading.\n"
     ]
    },
    {
     "name": "stdout",
     "output_type": "stream",
     "text": [
      "INFO:tensorflow:Assets written to: cnn/assets\n"
     ]
    },
    {
     "name": "stderr",
     "output_type": "stream",
     "text": [
      "INFO:tensorflow:Assets written to: cnn/assets\n"
     ]
    },
    {
     "name": "stdout",
     "output_type": "stream",
     "text": [
      "8/8 [==============================] - 3s 411ms/step - loss: 180.6039 - root_mean_squared_error: 13.4389 - val_loss: 182.5732 - val_root_mean_squared_error: 13.5120\n",
      "Epoch 27/30\n",
      "6/8 [=====================>........] - ETA: 0s - loss: 170.0754 - root_mean_squared_error: 13.0413"
     ]
    },
    {
     "name": "stderr",
     "output_type": "stream",
     "text": [
      "WARNING:absl:Found untraced functions such as _jit_compiled_convolution_op while saving (showing 1 of 1). These functions will not be directly callable after loading.\n"
     ]
    },
    {
     "name": "stdout",
     "output_type": "stream",
     "text": [
      "INFO:tensorflow:Assets written to: cnn/assets\n"
     ]
    },
    {
     "name": "stderr",
     "output_type": "stream",
     "text": [
      "INFO:tensorflow:Assets written to: cnn/assets\n"
     ]
    },
    {
     "name": "stdout",
     "output_type": "stream",
     "text": [
      "8/8 [==============================] - 4s 508ms/step - loss: 170.5332 - root_mean_squared_error: 13.0588 - val_loss: 172.1847 - val_root_mean_squared_error: 13.1219\n",
      "Epoch 28/30\n",
      "4/8 [==============>...............] - ETA: 0s - loss: 162.4604 - root_mean_squared_error: 12.7460"
     ]
    },
    {
     "name": "stderr",
     "output_type": "stream",
     "text": [
      "WARNING:absl:Found untraced functions such as _jit_compiled_convolution_op while saving (showing 1 of 1). These functions will not be directly callable after loading.\n"
     ]
    },
    {
     "name": "stdout",
     "output_type": "stream",
     "text": [
      "INFO:tensorflow:Assets written to: cnn/assets\n"
     ]
    },
    {
     "name": "stderr",
     "output_type": "stream",
     "text": [
      "INFO:tensorflow:Assets written to: cnn/assets\n"
     ]
    },
    {
     "name": "stdout",
     "output_type": "stream",
     "text": [
      "8/8 [==============================] - 8s 1s/step - loss: 160.7783 - root_mean_squared_error: 12.6798 - val_loss: 162.0969 - val_root_mean_squared_error: 12.7317\n",
      "Epoch 29/30\n",
      "1/8 [==>...........................] - ETA: 0s - loss: 152.1142 - root_mean_squared_error: 12.3335"
     ]
    },
    {
     "name": "stderr",
     "output_type": "stream",
     "text": [
      "WARNING:absl:Found untraced functions such as _jit_compiled_convolution_op while saving (showing 1 of 1). These functions will not be directly callable after loading.\n"
     ]
    },
    {
     "name": "stdout",
     "output_type": "stream",
     "text": [
      "INFO:tensorflow:Assets written to: cnn/assets\n"
     ]
    },
    {
     "name": "stderr",
     "output_type": "stream",
     "text": [
      "INFO:tensorflow:Assets written to: cnn/assets\n"
     ]
    },
    {
     "name": "stdout",
     "output_type": "stream",
     "text": [
      "8/8 [==============================] - 3s 481ms/step - loss: 151.2599 - root_mean_squared_error: 12.2988 - val_loss: 152.3376 - val_root_mean_squared_error: 12.3425\n",
      "Epoch 30/30\n",
      "1/8 [==>...........................] - ETA: 0s - loss: 138.2963 - root_mean_squared_error: 11.7599"
     ]
    },
    {
     "name": "stderr",
     "output_type": "stream",
     "text": [
      "WARNING:absl:Found untraced functions such as _jit_compiled_convolution_op while saving (showing 1 of 1). These functions will not be directly callable after loading.\n"
     ]
    },
    {
     "name": "stdout",
     "output_type": "stream",
     "text": [
      "INFO:tensorflow:Assets written to: cnn/assets\n"
     ]
    },
    {
     "name": "stderr",
     "output_type": "stream",
     "text": [
      "INFO:tensorflow:Assets written to: cnn/assets\n"
     ]
    },
    {
     "name": "stdout",
     "output_type": "stream",
     "text": [
      "8/8 [==============================] - 20s 3s/step - loss: 142.0157 - root_mean_squared_error: 11.9170 - val_loss: 142.8184 - val_root_mean_squared_error: 11.9507\n",
      "8/8 [==============================] - 4s 11ms/step\n"
     ]
    },
    {
     "data": {
      "image/png": "[encoded data removed]",
      "text/plain": [
       "<Figure size 432x288 with 1 Axes>"
      ]
     },
     "metadata": {
      "needs_background": "light"
     },
     "output_type": "display_data"
    },
    {
     "name": "stdout",
     "output_type": "stream",
     "text": [
      "2/2 [==============================] - 0s 32ms/step\n"
     ]
    },
    {
     "data": {
      "image/png": "[encoded data removed]",
      "text/plain": [
       "<Figure size 432x288 with 1 Axes>"
      ]
     },
     "metadata": {
      "needs_background": "light"
     },
     "output_type": "display_data"
    },
    {
     "name": "stdout",
     "output_type": "stream",
     "text": [
      "3/3 [==============================] - 0s 14ms/step\n"
     ]
    },
    {
     "data": {
      "image/png": "[encoded data removed]",
      "text/plain": [
       "<Figure size 432x288 with 1 Axes>"
      ]
     },
     "metadata": {
      "needs_background": "light"
     },
     "output_type": "display_data"
    },
    {
     "name": "stdout",
     "output_type": "stream",
     "text": [
      "3/3 [==============================] - 0s 6ms/step\n"
     ]
    },
    {
     "data": {
      "image/png": "[encoded data removed]",
      "text/plain": [
       "<Figure size 432x288 with 1 Axes>"
      ]
     },
     "metadata": {
      "needs_background": "light"
     },
     "output_type": "display_data"
    }
   ],
   "source": [
    "model = Sequential()\n",
    "model.add(InputLayer((3, 1)))\n",
    "model.add(Conv1D(64, kernel_size=2))\n",
    "model.add(Flatten())\n",
    "model.add(Dense(8, 'relu'))\n",
    "model.add(Dense(1, 'linear'))\n",
    "\n",
    "\n",
    "\n",
    "cp = ModelCheckpoint('cnn/', save_best_only=True)\n",
    "\n",
    "model = fit_model(model, cp, epochs, x_train, y_train, x_val, y_val)\n",
    "\n",
    "plot_train(\"cnn\", 50, x_train, y_train)\n",
    "plot_val(model, 50, x_val, y_val)\n",
    "plot_test(model, 50, x_test, y_test)\n",
    "cnn_mse = plot_predictions1(model,x_test, y_test)"
   ]
  },
  {
   "cell_type": "markdown",
   "id": "f8a6f749-830e-433c-8169-dfb229ac48b5",
   "metadata": {
    "id": "f8a6f749-830e-433c-8169-dfb229ac48b5"
   },
   "source": [
    "### GRU"
   ]
  },
  {
   "cell_type": "code",
   "execution_count": null,
   "id": "339a87c6-549a-4a36-961b-9fcc9d5fc2b3",
   "metadata": {
    "colab": {
     "base_uri": "https://localhost:8080/",
     "height": 1000
    },
    "executionInfo": {
     "elapsed": 146103,
     "status": "ok",
     "timestamp": 1709225602265,
     "user": {
      "displayName": "Rakib H Hridoy",
      "userId": "11427915455487036903"
     },
     "user_tz": -360
    },
    "id": "339a87c6-549a-4a36-961b-9fcc9d5fc2b3",
    "outputId": "037de3ea-07e5-44bb-b087-8b9f635143bf"
   },
   "outputs": [
    {
     "name": "stdout",
     "output_type": "stream",
     "text": [
      "Epoch 1/30\n",
      "8/8 [==============================] - ETA: 0s - loss: 611.6046 - root_mean_squared_error: 24.7306"
     ]
    },
    {
     "name": "stderr",
     "output_type": "stream",
     "text": [
      "WARNING:absl:Found untraced functions such as gru_cell_layer_call_fn, gru_cell_layer_call_and_return_conditional_losses while saving (showing 2 of 2). These functions will not be directly callable after loading.\n"
     ]
    },
    {
     "name": "stdout",
     "output_type": "stream",
     "text": [
      "INFO:tensorflow:Assets written to: gru/assets\n"
     ]
    },
    {
     "name": "stderr",
     "output_type": "stream",
     "text": [
      "INFO:tensorflow:Assets written to: gru/assets\n"
     ]
    },
    {
     "name": "stdout",
     "output_type": "stream",
     "text": [
      "8/8 [==============================] - 70s 7s/step - loss: 611.6046 - root_mean_squared_error: 24.7306 - val_loss: 639.2938 - val_root_mean_squared_error: 25.2843\n",
      "Epoch 2/30\n",
      "5/8 [=================>............] - ETA: 0s - loss: 615.2694 - root_mean_squared_error: 24.8046"
     ]
    },
    {
     "name": "stderr",
     "output_type": "stream",
     "text": [
      "WARNING:absl:Found untraced functions such as gru_cell_layer_call_fn, gru_cell_layer_call_and_return_conditional_losses while saving (showing 2 of 2). These functions will not be directly callable after loading.\n"
     ]
    },
    {
     "name": "stdout",
     "output_type": "stream",
     "text": [
      "INFO:tensorflow:Assets written to: gru/assets\n"
     ]
    },
    {
     "name": "stderr",
     "output_type": "stream",
     "text": [
      "INFO:tensorflow:Assets written to: gru/assets\n"
     ]
    },
    {
     "name": "stdout",
     "output_type": "stream",
     "text": [
      "8/8 [==============================] - 20s 3s/step - loss: 606.0304 - root_mean_squared_error: 24.6177 - val_loss: 633.6315 - val_root_mean_squared_error: 25.1720\n",
      "Epoch 3/30\n",
      "5/8 [=================>............] - ETA: 0s - loss: 592.8917 - root_mean_squared_error: 24.3494"
     ]
    },
    {
     "name": "stderr",
     "output_type": "stream",
     "text": [
      "WARNING:absl:Found untraced functions such as gru_cell_layer_call_fn, gru_cell_layer_call_and_return_conditional_losses while saving (showing 2 of 2). These functions will not be directly callable after loading.\n"
     ]
    },
    {
     "name": "stdout",
     "output_type": "stream",
     "text": [
      "INFO:tensorflow:Assets written to: gru/assets\n"
     ]
    },
    {
     "name": "stderr",
     "output_type": "stream",
     "text": [
      "INFO:tensorflow:Assets written to: gru/assets\n"
     ]
    },
    {
     "name": "stdout",
     "output_type": "stream",
     "text": [
      "8/8 [==============================] - 21s 3s/step - loss: 600.4765 - root_mean_squared_error: 24.5046 - val_loss: 628.0200 - val_root_mean_squared_error: 25.0603\n",
      "Epoch 4/30\n",
      "8/8 [==============================] - ETA: 0s - loss: 594.9698 - root_mean_squared_error: 24.3920"
     ]
    },
    {
     "name": "stderr",
     "output_type": "stream",
     "text": [
      "WARNING:absl:Found untraced functions such as gru_cell_layer_call_fn, gru_cell_layer_call_and_return_conditional_losses while saving (showing 2 of 2). These functions will not be directly callable after loading.\n"
     ]
    },
    {
     "name": "stdout",
     "output_type": "stream",
     "text": [
      "INFO:tensorflow:Assets written to: gru/assets\n"
     ]
    },
    {
     "name": "stderr",
     "output_type": "stream",
     "text": [
      "INFO:tensorflow:Assets written to: gru/assets\n"
     ]
    },
    {
     "name": "stdout",
     "output_type": "stream",
     "text": [
      "8/8 [==============================] - 14s 2s/step - loss: 594.9698 - root_mean_squared_error: 24.3920 - val_loss: 622.4415 - val_root_mean_squared_error: 24.9488\n",
      "Epoch 5/30\n",
      "5/8 [=================>............] - ETA: 0s - loss: 594.0397 - root_mean_squared_error: 24.3729"
     ]
    }
   ],
   "source": [
    "model = keras.Sequential([\n",
    "    layers.GRU(units=64, input_shape=(3, 1)),\n",
    "    layers.Dense(units=1)\n",
    "])\n",
    "\n",
    "model.compile(loss='mean_squared_error', optimizer='adam')\n",
    "\n",
    "cp = ModelCheckpoint('gru/', save_best_only=True)\n",
    "model = fit_model(model, cp, epochs, x_train, y_train, x_val, y_val)\n",
    "\n",
    "plot_train(\"gru\", 50, x_train, y_train)\n",
    "plot_val(model, 50, x_val, y_val)\n",
    "plot_test(model, 50, x_test, y_test)\n",
    "gru_mse = plot_predictions1(model,x_test, y_test)"
   ]
  },
  {
   "cell_type": "markdown",
   "id": "b04e9cad-6de4-4a34-b473-278ff67ae813",
   "metadata": {
    "id": "b04e9cad-6de4-4a34-b473-278ff67ae813"
   },
   "source": [
    "### LSTM"
   ]
  },
  {
   "cell_type": "code",
   "execution_count": null,
   "id": "0d0a65de-3086-46b9-a4cc-909970f64bb2",
   "metadata": {
    "colab": {
     "base_uri": "https://localhost:8080/",
     "height": 1000
    },
    "executionInfo": {
     "elapsed": 133970,
     "status": "ok",
     "timestamp": 1709225736217,
     "user": {
      "displayName": "Rakib H Hridoy",
      "userId": "11427915455487036903"
     },
     "user_tz": -360
    },
    "id": "0d0a65de-3086-46b9-a4cc-909970f64bb2",
    "outputId": "de9e4ebf-350c-4cb3-e5b4-b0ee6036abba"
   },
   "outputs": [],
   "source": [
    "model = Sequential()\n",
    "model.add(InputLayer((3, 1)))\n",
    "model.add(LSTM(64))\n",
    "model.add(Dense(8, 'relu'))\n",
    "model.add(Dense(1, 'linear'))\n",
    "\n",
    "cp = ModelCheckpoint('lstm/', save_best_only=True)\n",
    "model = fit_model(model, cp, epochs, x_train, y_train, x_val, y_val)\n",
    "\n",
    "\n",
    "plot_train(\"lstm\", 50, x_train, y_train)\n",
    "plot_val(model, 50, x_val, y_val)\n",
    "plot_test(model, 50, x_test, y_test)\n",
    "lstm_mse = plot_predictions1(model,x_test, y_test)"
   ]
  },
  {
   "cell_type": "markdown",
   "id": "f026be61-c1e7-4c4b-bb0f-730b396eaa0a",
   "metadata": {
    "id": "f026be61-c1e7-4c4b-bb0f-730b396eaa0a"
   },
   "source": [
    "### RNN"
   ]
  },
  {
   "cell_type": "code",
   "execution_count": null,
   "id": "d4a96d4e-376b-4593-923a-85777ba0ac4c",
   "metadata": {
    "colab": {
     "base_uri": "https://localhost:8080/",
     "height": 1000
    },
    "executionInfo": {
     "elapsed": 53825,
     "status": "ok",
     "timestamp": 1709225790031,
     "user": {
      "displayName": "Rakib H Hridoy",
      "userId": "11427915455487036903"
     },
     "user_tz": -360
    },
    "id": "d4a96d4e-376b-4593-923a-85777ba0ac4c",
    "outputId": "6930c12a-9c0c-405b-e89b-0035f034659a"
   },
   "outputs": [],
   "source": [
    "model = keras.Sequential([\n",
    "    layers.SimpleRNN(units=64, input_shape=(3, 1)),\n",
    "    layers.Dense(units=1)\n",
    "])\n",
    "\n",
    "model.compile(loss='mean_squared_error', optimizer='adam')\n",
    "\n",
    "cp = ModelCheckpoint('rnn/', save_best_only=True)\n",
    "model = fit_model(model, cp, epochs, x_train, y_train, x_val, y_val)\n",
    "\n",
    "plot_train(\"rnn\", 50, x_train, y_train)\n",
    "plot_val(model, 50, x_val, y_val)\n",
    "plot_test(model, 50, x_test, y_test)\n",
    "rnn_mse = plot_predictions1(model,x_test, y_test)"
   ]
  },
  {
   "cell_type": "markdown",
   "id": "5b36e8fa-5344-4148-892b-ca9fe008c719",
   "metadata": {
    "id": "5b36e8fa-5344-4148-892b-ca9fe008c719"
   },
   "source": [
    "# Moving Average"
   ]
  },
  {
   "cell_type": "code",
   "execution_count": null,
   "id": "b5132375-1d78-4767-8c5a-e7fb931a4595",
   "metadata": {
    "id": "b5132375-1d78-4767-8c5a-e7fb931a4595"
   },
   "outputs": [],
   "source": [
    "window_size = 3\n",
    "\n",
    "def moving_average(data, window_size):\n",
    "    cumsum = np.cumsum(data, axis=0)\n",
    "    cumsum[window_size:] = cumsum[window_size:] - cumsum[:-window_size]\n",
    "    return cumsum[window_size - 1:] / window_size\n",
    "\n",
    "moving_avg_data = np.apply_along_axis(lambda x: moving_average(x, window_size), axis=0, arr=x_train)\n",
    "target = y_train[window_size - 1:].flatten()"
   ]
  },
  {
   "cell_type": "markdown",
   "id": "86590f01-32db-4702-9223-d1ea89969e57",
   "metadata": {
    "id": "86590f01-32db-4702-9223-d1ea89969e57"
   },
   "source": [
    "#### CNN"
   ]
  },
  {
   "cell_type": "code",
   "execution_count": null,
   "id": "b61211fc-375a-41be-86ff-3cce47bbcd15",
   "metadata": {
    "colab": {
     "base_uri": "https://localhost:8080/",
     "height": 1000
    },
    "executionInfo": {
     "elapsed": 42917,
     "status": "ok",
     "timestamp": 1709225832943,
     "user": {
      "displayName": "Rakib H Hridoy",
      "userId": "11427915455487036903"
     },
     "user_tz": -360
    },
    "id": "b61211fc-375a-41be-86ff-3cce47bbcd15",
    "outputId": "187e2464-66a2-484f-c268-c7ee059dece1"
   },
   "outputs": [],
   "source": [
    "model = Sequential()\n",
    "model.add(InputLayer((3, 1)))\n",
    "model.add(Conv1D(64, kernel_size=2))\n",
    "model.add(Flatten())\n",
    "model.add(Dense(8, 'relu'))\n",
    "model.add(Dense(1, 'linear'))\n",
    "\n",
    "cp = ModelCheckpoint('mavg_cnn/', save_best_only=True)\n",
    "\n",
    "model = fit_model(model, cp, epochs, moving_avg_data, target,x_val, y_val)\n",
    "\n",
    "plot_train(\"mavg_cnn\", 50, moving_avg_data, target)\n",
    "plot_val(model, 50, x_val, y_val)\n",
    "plot_test(model, 50, x_test, y_test)\n",
    "mvg_cnn_mse = plot_predictions1(model,x_test, y_test)"
   ]
  },
  {
   "cell_type": "markdown",
   "id": "6250b4a1-3772-4b90-8ed2-6d4eaafce219",
   "metadata": {
    "id": "6250b4a1-3772-4b90-8ed2-6d4eaafce219"
   },
   "source": [
    "#### GRU"
   ]
  },
  {
   "cell_type": "code",
   "execution_count": null,
   "id": "719a6cd9-abe8-49a6-949c-a97fca1ff383",
   "metadata": {
    "colab": {
     "base_uri": "https://localhost:8080/",
     "height": 1000
    },
    "executionInfo": {
     "elapsed": 100841,
     "status": "ok",
     "timestamp": 1709225933777,
     "user": {
      "displayName": "Rakib H Hridoy",
      "userId": "11427915455487036903"
     },
     "user_tz": -360
    },
    "id": "719a6cd9-abe8-49a6-949c-a97fca1ff383",
    "outputId": "91b2518f-682c-4875-e02e-e15b367a827c"
   },
   "outputs": [],
   "source": [
    "model = keras.Sequential([\n",
    "    layers.GRU(units=64, input_shape=(3, 1)),\n",
    "    layers.Dense(units=1)\n",
    "])\n",
    "\n",
    "model.compile(loss='mean_squared_error', optimizer='adam')\n",
    "\n",
    "cp = ModelCheckpoint('mavg_gru/', save_best_only=True)\n",
    "model = fit_model(model, cp, epochs,  moving_avg_data, target, x_val, y_val)\n",
    "\n",
    "plot_train(\"mavg_gru\", 50, moving_avg_data, target)\n",
    "plot_val(model, 50, x_val, y_val)\n",
    "plot_test(model, 50, x_test, y_test)\n",
    "mvg_gru_mse = plot_predictions1(model,x_test, y_test)"
   ]
  },
  {
   "cell_type": "markdown",
   "id": "a7a289c2-1d50-4ff7-b06b-de3bc5ed2dbe",
   "metadata": {
    "id": "a7a289c2-1d50-4ff7-b06b-de3bc5ed2dbe"
   },
   "source": [
    "#### LSTM"
   ]
  },
  {
   "cell_type": "code",
   "execution_count": null,
   "id": "5b7b3491-e43e-48e1-ae99-1d8d3fe0fcc2",
   "metadata": {
    "colab": {
     "base_uri": "https://localhost:8080/",
     "height": 1000
    },
    "executionInfo": {
     "elapsed": 146908,
     "status": "ok",
     "timestamp": 1709226080679,
     "user": {
      "displayName": "Rakib H Hridoy",
      "userId": "11427915455487036903"
     },
     "user_tz": -360
    },
    "id": "5b7b3491-e43e-48e1-ae99-1d8d3fe0fcc2",
    "outputId": "ba507e00-8936-41fa-e912-1f014f7c445d"
   },
   "outputs": [],
   "source": [
    "model = Sequential()\n",
    "model.add(InputLayer((3, 1)))\n",
    "model.add(LSTM(64))\n",
    "model.add(Dense(8, 'relu'))\n",
    "model.add(Dense(1, 'linear'))\n",
    "\n",
    "cp = ModelCheckpoint('mavg_lstm/', save_best_only=True)\n",
    "model = fit_model(model, cp, epochs, moving_avg_data, target, x_val, y_val)\n",
    "\n",
    "plot_train(\"mavg_lstm\", 50, moving_avg_data, target)\n",
    "plot_val(model, 50, x_val, y_val)\n",
    "plot_test(model, 50, x_test, y_test)\n",
    "mvg_lstm_mse = plot_predictions1(model,x_test, y_test)"
   ]
  },
  {
   "cell_type": "code",
   "execution_count": null,
   "id": "d68591bd-beac-400c-86ff-6adbdc810637",
   "metadata": {
    "colab": {
     "base_uri": "https://localhost:8080/",
     "height": 1000
    },
    "executionInfo": {
     "elapsed": 38795,
     "status": "ok",
     "timestamp": 1709226119470,
     "user": {
      "displayName": "Rakib H Hridoy",
      "userId": "11427915455487036903"
     },
     "user_tz": -360
    },
    "id": "d68591bd-beac-400c-86ff-6adbdc810637",
    "outputId": "b5fdd084-c743-49b0-d430-9ae5db85be5f"
   },
   "outputs": [],
   "source": [
    "model = keras.Sequential([\n",
    "    layers.SimpleRNN(units=64, input_shape=(3, 1)),\n",
    "    layers.Dense(units=1)\n",
    "])\n",
    "\n",
    "model.compile(loss='mean_squared_error', optimizer='adam')\n",
    "\n",
    "cp = ModelCheckpoint('mavg_rnn/', save_best_only=True)\n",
    "model = fit_model(model, cp, epochs, moving_avg_data, target, x_val, y_val)\n",
    "\n",
    "plot_train(\"mavg_rnn\", 50, moving_avg_data, target)\n",
    "plot_val(model, 50, x_val, y_val)\n",
    "plot_test(model, 50, x_test, y_test)\n",
    "mvg_rnn_mse = plot_predictions1(model,x_test, y_test)"
   ]
  },
  {
   "cell_type": "markdown",
   "id": "bdbe4fff-16cf-479c-be66-1663fc903859",
   "metadata": {
    "id": "bdbe4fff-16cf-479c-be66-1663fc903859"
   },
   "source": [
    "# AutoEncoder"
   ]
  },
  {
   "cell_type": "markdown",
   "id": "a6ae86aa-c7d6-4480-a2f8-416263b94f97",
   "metadata": {
    "id": "a6ae86aa-c7d6-4480-a2f8-416263b94f97"
   },
   "source": [
    "### CNN"
   ]
  },
  {
   "cell_type": "code",
   "execution_count": null,
   "id": "100a8cf0-4e3f-4914-8e59-58a70da775f5",
   "metadata": {
    "colab": {
     "base_uri": "https://localhost:8080/",
     "height": 1000
    },
    "executionInfo": {
     "elapsed": 42909,
     "status": "ok",
     "timestamp": 1709226162373,
     "user": {
      "displayName": "Rakib H Hridoy",
      "userId": "11427915455487036903"
     },
     "user_tz": -360
    },
    "id": "100a8cf0-4e3f-4914-8e59-58a70da775f5",
    "outputId": "85cec00f-9cd5-4cb7-df0b-5d901f71b110"
   },
   "outputs": [],
   "source": [
    "model = Sequential()\n",
    "model.add(InputLayer((3, 1)))\n",
    "model.add(Conv1D(64, kernel_size=2))\n",
    "model.add(Dropout(0.2))\n",
    "model.add(Conv1D(64, kernel_size=1))\n",
    "model.add(Dropout(0.2))\n",
    "model.add(Flatten())\n",
    "model.add(Dense(8, 'relu'))\n",
    "model.add(Dense(1, 'linear'))\n",
    "\n",
    "\n",
    "model.compile(loss='mean_squared_error', optimizer='adam')\n",
    "\n",
    "cp = ModelCheckpoint('autoencoder_cnn/', save_best_only=True)\n",
    "\n",
    "model = fit_model(model, cp, epochs, x_train, y_train, x_val, y_val)\n",
    "\n",
    "plot_train(\"autoencoder_cnn\", 50, x_train, y_train)\n",
    "plot_val(model, 50, x_val, y_val)\n",
    "plot_test(model, 50, x_test, y_test)\n",
    "auto_cnn_mse = plot_predictions1(model,x_test, y_test)"
   ]
  },
  {
   "cell_type": "code",
   "execution_count": null,
   "id": "e7dea812-cfa2-4503-8bbb-a09156600ffc",
   "metadata": {
    "colab": {
     "base_uri": "https://localhost:8080/"
    },
    "executionInfo": {
     "elapsed": 17,
     "status": "ok",
     "timestamp": 1709226162374,
     "user": {
      "displayName": "Rakib H Hridoy",
      "userId": "11427915455487036903"
     },
     "user_tz": -360
    },
    "id": "e7dea812-cfa2-4503-8bbb-a09156600ffc",
    "outputId": "a8679103-b069-4326-e4b7-bbcfdab66990"
   },
   "outputs": [],
   "source": [
    "auto_cnn_mse"
   ]
  },
  {
   "cell_type": "markdown",
   "id": "04977996-97ee-4e8c-8b8d-8843445461f7",
   "metadata": {
    "id": "04977996-97ee-4e8c-8b8d-8843445461f7"
   },
   "source": [
    "### GRU"
   ]
  },
  {
   "cell_type": "code",
   "execution_count": null,
   "id": "91335f89-c714-4a11-a7dc-9eb2c257e561",
   "metadata": {
    "colab": {
     "base_uri": "https://localhost:8080/",
     "height": 1000
    },
    "executionInfo": {
     "elapsed": 146697,
     "status": "ok",
     "timestamp": 1709226309059,
     "user": {
      "displayName": "Rakib H Hridoy",
      "userId": "11427915455487036903"
     },
     "user_tz": -360
    },
    "id": "91335f89-c714-4a11-a7dc-9eb2c257e561",
    "outputId": "9ebd894e-b1f1-4a16-865f-c35660ee352a"
   },
   "outputs": [],
   "source": [
    "model = Sequential()\n",
    "model.add(InputLayer((3, 1)))\n",
    "model.add(GRU(64))\n",
    "model.add(Dropout(0.2))\n",
    "model.add(Flatten())\n",
    "model.add(Dense(1))\n",
    "\n",
    "\n",
    "model.compile(loss='mean_squared_error', optimizer='adam')\n",
    "\n",
    "cp = ModelCheckpoint('autoencoder_gru/', save_best_only=True)\n",
    "\n",
    "model = fit_model(model, cp, epochs, x_train, y_train, x_val, y_val)\n",
    "\n",
    "plot_train(\"autoencoder_gru\", 50, x_train, y_train)\n",
    "plot_val(model, 50, x_val, y_val)\n",
    "plot_test(model, 50, x_test, y_test)\n",
    "auto_gru_mse = plot_predictions1(model,x_test, y_test)"
   ]
  },
  {
   "cell_type": "code",
   "execution_count": null,
   "id": "f00f9c30-ced9-4d7f-951b-1536a77ebc51",
   "metadata": {
    "colab": {
     "base_uri": "https://localhost:8080/"
    },
    "executionInfo": {
     "elapsed": 17,
     "status": "ok",
     "timestamp": 1709226309059,
     "user": {
      "displayName": "Rakib H Hridoy",
      "userId": "11427915455487036903"
     },
     "user_tz": -360
    },
    "id": "f00f9c30-ced9-4d7f-951b-1536a77ebc51",
    "outputId": "f853baee-ff36-4841-b17c-57531f4d6f32"
   },
   "outputs": [],
   "source": [
    "auto_gru_mse"
   ]
  },
  {
   "cell_type": "markdown",
   "id": "8ecc740c-b7bf-40da-b62c-52f03098517f",
   "metadata": {
    "id": "8ecc740c-b7bf-40da-b62c-52f03098517f"
   },
   "source": [
    "### LSTM"
   ]
  },
  {
   "cell_type": "code",
   "execution_count": null,
   "id": "5e25f59d-2a72-48bb-9fa7-5daa2d955a2f",
   "metadata": {
    "colab": {
     "base_uri": "https://localhost:8080/",
     "height": 1000
    },
    "executionInfo": {
     "elapsed": 133302,
     "status": "ok",
     "timestamp": 1709226442351,
     "user": {
      "displayName": "Rakib H Hridoy",
      "userId": "11427915455487036903"
     },
     "user_tz": -360
    },
    "id": "5e25f59d-2a72-48bb-9fa7-5daa2d955a2f",
    "outputId": "b2c7cb1e-cc4d-4952-eeb2-70faf4aa3fef"
   },
   "outputs": [],
   "source": [
    "model = Sequential()\n",
    "model.add(InputLayer((3, 1)))\n",
    "model.add(LSTM(64))\n",
    "model.add(Dropout(0.3))\n",
    "#model.add(RepeatVector(3))\n",
    "#model.add(LSTM(64, return_sequences=True))\n",
    "#model.add(Dropout(0.4))\n",
    "model.add(Dense(8, 'relu'))\n",
    "model.add(Flatten())\n",
    "model.add(Dense(1))\n",
    "\n",
    "model.compile(loss='mean_squared_error', optimizer='adam')\n",
    "\n",
    "cp = ModelCheckpoint('auto_lstm/', save_best_only=True)\n",
    "model = fit_model(model, cp, epochs, x_train, y_train, x_val, y_val)\n",
    "\n",
    "\n",
    "plot_train(\"auto_lstm\", 50, x_train, y_train)\n",
    "plot_val(model, 50, x_val, y_val)\n",
    "plot_test(model, 50, x_test, y_test)\n",
    "auto_lstm_mse = plot_predictions1(model,x_test, y_test)"
   ]
  },
  {
   "cell_type": "code",
   "execution_count": null,
   "id": "351f8902-e1da-4b38-858f-352f4054a9f6",
   "metadata": {
    "colab": {
     "base_uri": "https://localhost:8080/"
    },
    "executionInfo": {
     "elapsed": 21,
     "status": "ok",
     "timestamp": 1709226442351,
     "user": {
      "displayName": "Rakib H Hridoy",
      "userId": "11427915455487036903"
     },
     "user_tz": -360
    },
    "id": "351f8902-e1da-4b38-858f-352f4054a9f6",
    "outputId": "68144300-68d0-43d6-e11d-6d2737d23b80"
   },
   "outputs": [],
   "source": [
    "auto_lstm_mse"
   ]
  },
  {
   "cell_type": "markdown",
   "id": "f52afb60-e43b-4986-aae3-ad2a467cd81f",
   "metadata": {
    "id": "f52afb60-e43b-4986-aae3-ad2a467cd81f"
   },
   "source": [
    "### RNN"
   ]
  },
  {
   "cell_type": "code",
   "execution_count": null,
   "id": "dc1a560c-2f1f-4663-bed4-60b51897c76f",
   "metadata": {
    "colab": {
     "base_uri": "https://localhost:8080/",
     "height": 1000
    },
    "executionInfo": {
     "elapsed": 49083,
     "status": "ok",
     "timestamp": 1709226491422,
     "user": {
      "displayName": "Rakib H Hridoy",
      "userId": "11427915455487036903"
     },
     "user_tz": -360
    },
    "id": "dc1a560c-2f1f-4663-bed4-60b51897c76f",
    "outputId": "ea065679-71b0-4ce7-984d-3aa3842312ca"
   },
   "outputs": [],
   "source": [
    "model = Sequential()\n",
    "model.add(InputLayer((3, 1)))\n",
    "model.add(SimpleRNN(64))\n",
    "model.add(Dropout(0.4))\n",
    "model.add(Dense(1))\n",
    "\n",
    "model.compile(loss='mean_squared_error', optimizer='adam')\n",
    "\n",
    "cp = ModelCheckpoint('auto_rnn/', save_best_only=True)\n",
    "model = fit_model(model, cp, epochs, x_train, y_train, x_val, y_val)\n",
    "\n",
    "\n",
    "plot_train(\"auto_rnn\", 50, x_train, y_train)\n",
    "plot_val(model, 50, x_val, y_val)\n",
    "plot_test(model, 50, x_test, y_test)\n",
    "auto_rnn_mse = plot_predictions1(model,x_test, y_test)"
   ]
  },
  {
   "cell_type": "code",
   "execution_count": null,
   "id": "248706a3-b575-40ce-809c-f9261e4961c5",
   "metadata": {
    "colab": {
     "base_uri": "https://localhost:8080/"
    },
    "executionInfo": {
     "elapsed": 13,
     "status": "ok",
     "timestamp": 1709226491423,
     "user": {
      "displayName": "Rakib H Hridoy",
      "userId": "11427915455487036903"
     },
     "user_tz": -360
    },
    "id": "248706a3-b575-40ce-809c-f9261e4961c5",
    "outputId": "6fa3d5b5-c6cb-48d6-a31f-d56cc3bbbacf"
   },
   "outputs": [],
   "source": [
    "auto_rnn_mse"
   ]
  },
  {
   "cell_type": "markdown",
   "id": "b065cedc-49eb-45a8-8b3e-8aa15bf42a97",
   "metadata": {
    "id": "b065cedc-49eb-45a8-8b3e-8aa15bf42a97"
   },
   "source": [
    "# Moving Average with Encoder"
   ]
  },
  {
   "cell_type": "markdown",
   "id": "4aa466b7-cbf9-4da2-8110-5ffc2d87b0c6",
   "metadata": {
    "id": "4aa466b7-cbf9-4da2-8110-5ffc2d87b0c6"
   },
   "source": [
    "### CNN"
   ]
  },
  {
   "cell_type": "code",
   "execution_count": null,
   "id": "10680527-f610-433e-bb15-f01f74d8d4f6",
   "metadata": {
    "colab": {
     "base_uri": "https://localhost:8080/",
     "height": 1000
    },
    "executionInfo": {
     "elapsed": 12864,
     "status": "ok",
     "timestamp": 1709226504277,
     "user": {
      "displayName": "Rakib H Hridoy",
      "userId": "11427915455487036903"
     },
     "user_tz": -360
    },
    "id": "10680527-f610-433e-bb15-f01f74d8d4f6",
    "outputId": "53c254a7-d52d-4399-a472-8af2e6eb6140"
   },
   "outputs": [],
   "source": [
    "model = Sequential()\n",
    "model.add(InputLayer((3, 1)))\n",
    "model.add(Conv1D(64, kernel_size=2))\n",
    "model.add(Dropout(0.3))\n",
    "model.add(Conv1D(64, kernel_size=1))\n",
    "model.add(Dropout(0.3))\n",
    "model.add(Flatten())\n",
    "model.add(Dense(8, 'relu'))\n",
    "model.add(Dense(1, 'linear'))\n",
    "\n",
    "\n",
    "model.compile(loss='mean_squared_error', optimizer='adam')\n",
    "\n",
    "cp = ModelCheckpoint('mavg_autoencoder_cnn/', save_best_only=True)\n",
    "\n",
    "model = fit_model(model, cp, 10, moving_avg_data, target, x_val, y_val)\n",
    "\n",
    "plot_train(\"mavg_autoencoder_cnn\", 50, moving_avg_data, target)\n",
    "plot_val(model, 50, x_val, y_val)\n",
    "plot_test(model, 50, x_test, y_test)\n",
    "mavg_auto_cnn_mse = plot_predictions1(model,x_test, y_test)"
   ]
  },
  {
   "cell_type": "code",
   "execution_count": null,
   "id": "2ac646fb-4651-432c-add0-04d294a278db",
   "metadata": {
    "colab": {
     "base_uri": "https://localhost:8080/"
    },
    "executionInfo": {
     "elapsed": 14,
     "status": "ok",
     "timestamp": 1709226504278,
     "user": {
      "displayName": "Rakib H Hridoy",
      "userId": "11427915455487036903"
     },
     "user_tz": -360
    },
    "id": "2ac646fb-4651-432c-add0-04d294a278db",
    "outputId": "197773b2-a954-4641-a099-45d3d3aaa6ca"
   },
   "outputs": [],
   "source": [
    "mavg_auto_cnn_mse"
   ]
  },
  {
   "cell_type": "markdown",
   "id": "180b04e8-b89f-43b6-b67f-2c83d6dc3f4d",
   "metadata": {
    "id": "180b04e8-b89f-43b6-b67f-2c83d6dc3f4d"
   },
   "source": [
    "### RNN"
   ]
  },
  {
   "cell_type": "code",
   "execution_count": null,
   "id": "3e84ed39-8fec-4929-8ac0-cb76e5faa02b",
   "metadata": {
    "colab": {
     "base_uri": "https://localhost:8080/",
     "height": 1000
    },
    "executionInfo": {
     "elapsed": 23717,
     "status": "ok",
     "timestamp": 1709226527986,
     "user": {
      "displayName": "Rakib H Hridoy",
      "userId": "11427915455487036903"
     },
     "user_tz": -360
    },
    "id": "3e84ed39-8fec-4929-8ac0-cb76e5faa02b",
    "outputId": "a6d591f7-b824-4557-a3ec-66cd77a95505"
   },
   "outputs": [],
   "source": [
    "model = Sequential()\n",
    "model.add(InputLayer((3, 1)))\n",
    "model.add(SimpleRNN(64))\n",
    "model.add(Dropout(0.4))\n",
    "model.add(Dense(1))\n",
    "\n",
    "model.compile(loss='mean_squared_error', optimizer='adam')\n",
    "\n",
    "cp = ModelCheckpoint('mavg_auto_rnn/', save_best_only=True)\n",
    "model = fit_model(model, cp, 10,moving_avg_data,target, x_val, y_val)\n",
    "\n",
    "\n",
    "plot_train(\"mavg_auto_rnn\", 50, moving_avg_data, target)\n",
    "plot_val(model, 50, x_val, y_val)\n",
    "plot_test(model, 50, x_test, y_test)\n",
    "mavg_auto_rnn_mse = plot_predictions1(model,x_test, y_test)"
   ]
  },
  {
   "cell_type": "code",
   "execution_count": null,
   "id": "9609a5d0-bc92-4a3a-b169-7631dc52f40b",
   "metadata": {
    "colab": {
     "base_uri": "https://localhost:8080/"
    },
    "executionInfo": {
     "elapsed": 6,
     "status": "ok",
     "timestamp": 1709226527987,
     "user": {
      "displayName": "Rakib H Hridoy",
      "userId": "11427915455487036903"
     },
     "user_tz": -360
    },
    "id": "9609a5d0-bc92-4a3a-b169-7631dc52f40b",
    "outputId": "cf4a52df-3744-4efd-89e4-d0f2fd9d38f1"
   },
   "outputs": [],
   "source": [
    "mavg_auto_rnn_mse"
   ]
  },
  {
   "cell_type": "markdown",
   "id": "5812bcce-8250-45e9-97f7-483999e3143a",
   "metadata": {
    "id": "5812bcce-8250-45e9-97f7-483999e3143a"
   },
   "source": [
    "### GRU"
   ]
  },
  {
   "cell_type": "code",
   "execution_count": null,
   "id": "f9070d90-9084-401e-9f49-9dc404699810",
   "metadata": {
    "colab": {
     "base_uri": "https://localhost:8080/",
     "height": 1000
    },
    "executionInfo": {
     "elapsed": 44887,
     "status": "ok",
     "timestamp": 1709226572869,
     "user": {
      "displayName": "Rakib H Hridoy",
      "userId": "11427915455487036903"
     },
     "user_tz": -360
    },
    "id": "f9070d90-9084-401e-9f49-9dc404699810",
    "outputId": "391764df-6561-49b1-bb76-bb6a9b7b04c7"
   },
   "outputs": [],
   "source": [
    "model = Sequential()\n",
    "model.add(InputLayer((3, 1)))\n",
    "model.add(GRU(64))\n",
    "model.add(Dropout(0.2))\n",
    "model.add(Flatten())\n",
    "model.add(Dense(1))\n",
    "\n",
    "\n",
    "model.compile(loss='mean_squared_error', optimizer='adam')\n",
    "\n",
    "cp = ModelCheckpoint('mavg_auto_gru/', save_best_only=True)\n",
    "\n",
    "model = fit_model(model, cp, 10, moving_avg_data, target, x_val, y_val)\n",
    "\n",
    "plot_train(\"mavg_auto_gru\", 50, moving_avg_data, target)\n",
    "plot_val(model, 50, x_val, y_val)\n",
    "plot_test(model, 50, x_test, y_test)\n",
    "mavg_auto_gru_mse = plot_predictions1(model,x_test, y_test)"
   ]
  },
  {
   "cell_type": "code",
   "execution_count": null,
   "id": "81d2e4fe-3de0-448e-b998-84be320909e3",
   "metadata": {
    "colab": {
     "base_uri": "https://localhost:8080/"
    },
    "executionInfo": {
     "elapsed": 7,
     "status": "ok",
     "timestamp": 1709226572869,
     "user": {
      "displayName": "Rakib H Hridoy",
      "userId": "11427915455487036903"
     },
     "user_tz": -360
    },
    "id": "81d2e4fe-3de0-448e-b998-84be320909e3",
    "outputId": "3b0bb7bb-9301-4c2c-b5cd-c5fb3376b292"
   },
   "outputs": [],
   "source": [
    "mavg_auto_gru_mse"
   ]
  },
  {
   "cell_type": "markdown",
   "id": "1967da5b-8781-4a83-bdaa-dc25b531973b",
   "metadata": {
    "id": "1967da5b-8781-4a83-bdaa-dc25b531973b"
   },
   "source": [
    "### LSTM"
   ]
  },
  {
   "cell_type": "code",
   "execution_count": null,
   "id": "6b76ba67-9b20-4513-a6ee-6a495bc2979f",
   "metadata": {
    "colab": {
     "base_uri": "https://localhost:8080/",
     "height": 1000
    },
    "executionInfo": {
     "elapsed": 31135,
     "status": "ok",
     "timestamp": 1709226603999,
     "user": {
      "displayName": "Rakib H Hridoy",
      "userId": "11427915455487036903"
     },
     "user_tz": -360
    },
    "id": "6b76ba67-9b20-4513-a6ee-6a495bc2979f",
    "outputId": "a36a8e63-3eeb-43b7-938c-16a46e0a2174"
   },
   "outputs": [],
   "source": [
    "model = Sequential()\n",
    "model.add(InputLayer((3, 1)))\n",
    "model.add(LSTM(64))\n",
    "model.add(Dropout(0.3))\n",
    "#model.add(RepeatVector(3))\n",
    "#model.add(LSTM(64, return_sequences=True))\n",
    "#model.add(Dropout(0.4))\n",
    "#model.add(Dense(8, 'relu'))\n",
    "#model.add(Flatten())\n",
    "model.add(Dense(1))\n",
    "\n",
    "model.compile(loss='mean_squared_error', optimizer='adam')\n",
    "\n",
    "cp = ModelCheckpoint('mavg_auto_lstm/', save_best_only=True)\n",
    "model = fit_model(model, cp, 10,moving_avg_data, target, x_val, y_val)\n",
    "\n",
    "\n",
    "plot_train(\"mavg_auto_lstm\", 50, moving_avg_data, target)\n",
    "plot_val(model, 50, x_val, y_val)\n",
    "plot_test(model, 50, x_test, y_test)\n",
    "mavg_auto_lstm_mse = plot_predictions1(model,x_test, y_test)"
   ]
  },
  {
   "cell_type": "code",
   "execution_count": null,
   "id": "50d60c17-fedf-4d32-8452-2a05ad1ad55c",
   "metadata": {
    "colab": {
     "base_uri": "https://localhost:8080/"
    },
    "executionInfo": {
     "elapsed": 9,
     "status": "ok",
     "timestamp": 1709226603999,
     "user": {
      "displayName": "Rakib H Hridoy",
      "userId": "11427915455487036903"
     },
     "user_tz": -360
    },
    "id": "50d60c17-fedf-4d32-8452-2a05ad1ad55c",
    "outputId": "116e7689-aa9f-44fc-f3a5-d093507de9b9"
   },
   "outputs": [],
   "source": [
    "mavg_auto_lstm_mse"
   ]
  },
  {
   "cell_type": "markdown",
   "id": "469e39ee-ac37-4f72-9114-292b9aba46a3",
   "metadata": {
    "id": "469e39ee-ac37-4f72-9114-292b9aba46a3"
   },
   "source": [
    "# Hybrid"
   ]
  },
  {
   "cell_type": "markdown",
   "id": "02bdf792-a4fb-4272-8b4f-8e4b6c9b26f2",
   "metadata": {
    "id": "02bdf792-a4fb-4272-8b4f-8e4b6c9b26f2"
   },
   "source": [
    "## General"
   ]
  },
  {
   "cell_type": "markdown",
   "id": "2147bec4-e091-4461-b3fa-cd4fb6b8afe6",
   "metadata": {
    "id": "2147bec4-e091-4461-b3fa-cd4fb6b8afe6"
   },
   "source": [
    "### CNN LSTM"
   ]
  },
  {
   "cell_type": "code",
   "execution_count": null,
   "id": "997ef71b-7524-42fc-b608-c6e5fffa4d93",
   "metadata": {
    "colab": {
     "base_uri": "https://localhost:8080/",
     "height": 1000
    },
    "executionInfo": {
     "elapsed": 210235,
     "status": "ok",
     "timestamp": 1709226814228,
     "user": {
      "displayName": "Rakib H Hridoy",
      "userId": "11427915455487036903"
     },
     "user_tz": -360
    },
    "id": "997ef71b-7524-42fc-b608-c6e5fffa4d93",
    "outputId": "423d7310-1d3c-43fb-8f5a-45638c143443"
   },
   "outputs": [],
   "source": [
    "input_shape = (15,1)\n",
    "model = Sequential()\n",
    "model.add(Conv1D(filters=32, kernel_size=3, activation='relu', input_shape=(3,1)))\n",
    "model.add(Flatten())\n",
    "model.add(Dense(32, activation='relu'))\n",
    "model.add(RepeatVector(n=input_shape[0]))\n",
    "model.add(LSTM(units=64, return_sequences=True))\n",
    "model.add(LSTM(units=32))\n",
    "model.add(Dense(1))\n",
    "\n",
    "model.compile(loss='mean_squared_error', optimizer='adam')\n",
    "\n",
    "cp = ModelCheckpoint('hybrid_cnn_lstm/', save_best_only=True)\n",
    "\n",
    "model = fit_model(model, cp, epochs, x_train,y_train, x_val, y_val)\n",
    "\n",
    "plot_train(\"hybrid_cnn_lstm\", 50, x_train,y_train)\n",
    "plot_val(model, 50, x_val, y_val)\n",
    "plot_test(model, 50, x_test, y_test)\n",
    "hybrid_cnn_lstm_mse = plot_predictions1(model,x_test, y_test)"
   ]
  },
  {
   "cell_type": "code",
   "execution_count": null,
   "id": "3284ce02-e7a5-4eea-99a6-8dbb7bb3f0b2",
   "metadata": {
    "colab": {
     "base_uri": "https://localhost:8080/"
    },
    "executionInfo": {
     "elapsed": 14,
     "status": "ok",
     "timestamp": 1709226814228,
     "user": {
      "displayName": "Rakib H Hridoy",
      "userId": "11427915455487036903"
     },
     "user_tz": -360
    },
    "id": "3284ce02-e7a5-4eea-99a6-8dbb7bb3f0b2",
    "outputId": "2aa61dc2-5a01-4750-a4e7-24372437afe7"
   },
   "outputs": [],
   "source": [
    "hybrid_cnn_lstm_mse"
   ]
  },
  {
   "cell_type": "markdown",
   "id": "939fb23e-ce42-4949-ad87-fcaf961ca401",
   "metadata": {
    "id": "939fb23e-ce42-4949-ad87-fcaf961ca401"
   },
   "source": [
    "### RNN LSTM"
   ]
  },
  {
   "cell_type": "code",
   "execution_count": null,
   "id": "8e065ef0-b4c4-45aa-9dd9-239c86cd0359",
   "metadata": {
    "colab": {
     "base_uri": "https://localhost:8080/",
     "height": 1000
    },
    "executionInfo": {
     "elapsed": 206913,
     "status": "ok",
     "timestamp": 1709227021131,
     "user": {
      "displayName": "Rakib H Hridoy",
      "userId": "11427915455487036903"
     },
     "user_tz": -360
    },
    "id": "8e065ef0-b4c4-45aa-9dd9-239c86cd0359",
    "outputId": "693ddb56-d794-4b72-b94c-48826275e926"
   },
   "outputs": [],
   "source": [
    "model = Sequential()\n",
    "model.add(SimpleRNN(64,return_sequences=True, input_shape=(3,1)))\n",
    "model.add(LSTM(32))\n",
    "model.add(Dense(1))\n",
    "\n",
    "model.compile(loss='mean_squared_error', optimizer='adam')\n",
    "cp = ModelCheckpoint('hybrid_rnn_lstm/', save_best_only=True)\n",
    "model = fit_model(model, cp, epochs, x_train,y_train, x_val, y_val)\n",
    "\n",
    "plot_train(\"hybrid_rnn_lstm\", 50, x_train,y_train)\n",
    "plot_val(model, 50, x_val, y_val)\n",
    "plot_test(model, 50, x_test, y_test)\n",
    "hybrid_rnn_lstm_mse = plot_predictions1(model,x_test, y_test)"
   ]
  },
  {
   "cell_type": "code",
   "execution_count": null,
   "id": "5236bc05-9af4-4cb1-84c9-601d035e7dff",
   "metadata": {
    "colab": {
     "base_uri": "https://localhost:8080/"
    },
    "executionInfo": {
     "elapsed": 15,
     "status": "ok",
     "timestamp": 1709227021132,
     "user": {
      "displayName": "Rakib H Hridoy",
      "userId": "11427915455487036903"
     },
     "user_tz": -360
    },
    "id": "5236bc05-9af4-4cb1-84c9-601d035e7dff",
    "outputId": "9d9ce38c-3ec2-4e1c-a16a-7380982f6165"
   },
   "outputs": [],
   "source": [
    "hybrid_rnn_lstm_mse"
   ]
  },
  {
   "cell_type": "markdown",
   "id": "80090b57-9845-4ce4-b376-8861b97d1305",
   "metadata": {
    "id": "80090b57-9845-4ce4-b376-8861b97d1305"
   },
   "source": [
    "### RNN GRU"
   ]
  },
  {
   "cell_type": "code",
   "execution_count": null,
   "id": "abf1a1fd-6561-43ed-8247-368cf8d066cf",
   "metadata": {
    "colab": {
     "base_uri": "https://localhost:8080/",
     "height": 1000
    },
    "executionInfo": {
     "elapsed": 207537,
     "status": "ok",
     "timestamp": 1709227228658,
     "user": {
      "displayName": "Rakib H Hridoy",
      "userId": "11427915455487036903"
     },
     "user_tz": -360
    },
    "id": "abf1a1fd-6561-43ed-8247-368cf8d066cf",
    "outputId": "2d757230-bca7-4f7c-fc7b-aa75f8e8904f"
   },
   "outputs": [],
   "source": [
    "model = Sequential()\n",
    "model.add(SimpleRNN(64, return_sequences=True, input_shape=(3, 1)))\n",
    "model.add(GRU(32))\n",
    "model.add(Dense(1))\n",
    "\n",
    "model.compile(loss='mean_squared_error', optimizer='adam')\n",
    "cp = ModelCheckpoint('hybrid_rnn_gru/', save_best_only=True)\n",
    "model = fit_model(model, cp, epochs, x_train,y_train, x_val, y_val)\n",
    "\n",
    "plot_train(\"hybrid_rnn_gru\", 50, x_train,y_train)\n",
    "plot_val(model, 50, x_val, y_val)\n",
    "plot_test(model, 50, x_test, y_test)\n",
    "hybrid_rnn_gru_mse = plot_predictions1(model,x_test, y_test)"
   ]
  },
  {
   "cell_type": "code",
   "execution_count": null,
   "id": "1cbab527-6b16-45d1-9e35-0da4ebf48c26",
   "metadata": {
    "colab": {
     "base_uri": "https://localhost:8080/"
    },
    "executionInfo": {
     "elapsed": 15,
     "status": "ok",
     "timestamp": 1709227228660,
     "user": {
      "displayName": "Rakib H Hridoy",
      "userId": "11427915455487036903"
     },
     "user_tz": -360
    },
    "id": "1cbab527-6b16-45d1-9e35-0da4ebf48c26",
    "outputId": "f1e21d1e-891a-48e5-f803-0fc5cb324dea"
   },
   "outputs": [],
   "source": [
    "hybrid_rnn_gru_mse"
   ]
  },
  {
   "cell_type": "markdown",
   "id": "a895d0cf-6d2c-4058-a338-45c288c3f4c9",
   "metadata": {
    "id": "a895d0cf-6d2c-4058-a338-45c288c3f4c9"
   },
   "source": [
    "### CNN GRU"
   ]
  },
  {
   "cell_type": "code",
   "execution_count": null,
   "id": "ee0afb83-814f-4f24-b36f-4f818ab9badd",
   "metadata": {
    "colab": {
     "base_uri": "https://localhost:8080/",
     "height": 1000
    },
    "executionInfo": {
     "elapsed": 236461,
     "status": "ok",
     "timestamp": 1709227465108,
     "user": {
      "displayName": "Rakib H Hridoy",
      "userId": "11427915455487036903"
     },
     "user_tz": -360
    },
    "id": "ee0afb83-814f-4f24-b36f-4f818ab9badd",
    "outputId": "1ddd6fed-dc14-4549-90c2-b5fad638ddc0"
   },
   "outputs": [],
   "source": [
    "model = Sequential()\n",
    "\n",
    "model.add(Conv1D(filters=32, kernel_size=3, activation='relu', input_shape=(3,1)))\n",
    "model.add(Flatten())\n",
    "\n",
    "model.add(RepeatVector(n=15))\n",
    "model.add(GRU(64, return_sequences=True))\n",
    "model.add(GRU(32))\n",
    "model.add(Dense(1))\n",
    "\n",
    "model.compile(loss='mean_squared_error', optimizer='adam')\n",
    "cp = ModelCheckpoint('hybrid_cnn_gru/', save_best_only=True)\n",
    "model = fit_model(model, cp, epochs, x_train,y_train, x_val, y_val)\n",
    "\n",
    "plot_train(\"hybrid_cnn_gru\", 50, x_train,y_train)\n",
    "plot_val(model, 50, x_val, y_val)\n",
    "plot_test(model, 50, x_test, y_test)\n",
    "hybrid_cnn_gru_mse = plot_predictions1(model,x_test, y_test)"
   ]
  },
  {
   "cell_type": "code",
   "execution_count": null,
   "id": "9eab2df5-6ce1-4a84-8b04-6d7e00128e6d",
   "metadata": {
    "colab": {
     "base_uri": "https://localhost:8080/"
    },
    "executionInfo": {
     "elapsed": 8,
     "status": "ok",
     "timestamp": 1709227465108,
     "user": {
      "displayName": "Rakib H Hridoy",
      "userId": "11427915455487036903"
     },
     "user_tz": -360
    },
    "id": "9eab2df5-6ce1-4a84-8b04-6d7e00128e6d",
    "outputId": "6e011989-2717-41a0-9c83-f04c2c462d74"
   },
   "outputs": [],
   "source": [
    "hybrid_cnn_gru_mse"
   ]
  },
  {
   "cell_type": "markdown",
   "id": "d44a485d-036a-4eb1-8561-c274b9bb1807",
   "metadata": {
    "id": "d44a485d-036a-4eb1-8561-c274b9bb1807"
   },
   "source": [
    "### CNN RNN GRU"
   ]
  },
  {
   "cell_type": "code",
   "execution_count": null,
   "id": "c0488de4-1568-496c-891a-231ee82fc8ad",
   "metadata": {
    "colab": {
     "base_uri": "https://localhost:8080/",
     "height": 1000
    },
    "executionInfo": {
     "elapsed": 147644,
     "status": "ok",
     "timestamp": 1709227612745,
     "user": {
      "displayName": "Rakib H Hridoy",
      "userId": "11427915455487036903"
     },
     "user_tz": -360
    },
    "id": "c0488de4-1568-496c-891a-231ee82fc8ad",
    "outputId": "b3cad5ff-216a-4aeb-ab84-a099cb524822"
   },
   "outputs": [],
   "source": [
    "model = Sequential()\n",
    "model.add(Conv1D(filters=32, kernel_size=3, activation='relu', input_shape=(3, 1)))\n",
    "model.add(Flatten())\n",
    "model.add(RepeatVector(n=15))\n",
    "model.add(SimpleRNN(64, return_sequences=True))\n",
    "model.add(GRU(32))\n",
    "model.add(Dense(8))\n",
    "model.add(Dense(1))\n",
    "\n",
    "model.compile(loss='mean_squared_error', optimizer='adam')\n",
    "cp = ModelCheckpoint('hybrid_cnn_rnn_gru/', save_best_only=True)\n",
    "model = fit_model(model, cp, epochs, x_train,y_train, x_val, y_val)\n",
    "\n",
    "plot_train(\"hybrid_cnn_rnn_gru\", 50, x_train,y_train)\n",
    "plot_val(model, 50, x_val, y_val)\n",
    "plot_test(model, 50, x_test, y_test)\n",
    "hybrid_cnn_rnn_gru_mse = plot_predictions1(model,x_test, y_test)"
   ]
  },
  {
   "cell_type": "code",
   "execution_count": null,
   "id": "807309c8-0a28-4f2c-80d7-94b3efe0456d",
   "metadata": {
    "colab": {
     "base_uri": "https://localhost:8080/"
    },
    "executionInfo": {
     "elapsed": 9,
     "status": "ok",
     "timestamp": 1709227612746,
     "user": {
      "displayName": "Rakib H Hridoy",
      "userId": "11427915455487036903"
     },
     "user_tz": -360
    },
    "id": "807309c8-0a28-4f2c-80d7-94b3efe0456d",
    "outputId": "7615b6b8-426e-4ade-acf1-f8b314f02a23"
   },
   "outputs": [],
   "source": [
    "hybrid_cnn_rnn_gru_mse"
   ]
  },
  {
   "cell_type": "markdown",
   "id": "6b01e622-04ac-4bbd-889f-ab1fcb427598",
   "metadata": {
    "id": "6b01e622-04ac-4bbd-889f-ab1fcb427598"
   },
   "source": [
    "### LSTM RNN GRU"
   ]
  },
  {
   "cell_type": "code",
   "execution_count": null,
   "id": "bc42c921-4088-4911-9a2b-f323c105046a",
   "metadata": {
    "colab": {
     "base_uri": "https://localhost:8080/",
     "height": 1000
    },
    "executionInfo": {
     "elapsed": 260282,
     "status": "ok",
     "timestamp": 1709227873022,
     "user": {
      "displayName": "Rakib H Hridoy",
      "userId": "11427915455487036903"
     },
     "user_tz": -360
    },
    "id": "bc42c921-4088-4911-9a2b-f323c105046a",
    "outputId": "191e4866-111f-4040-ebae-d5ebe915cc55"
   },
   "outputs": [],
   "source": [
    "model = Sequential()\n",
    "model.add(SimpleRNN(64, return_sequences=True, input_shape=(3,1)))\n",
    "model.add(LSTM(128, return_sequences=True))\n",
    "model.add(GRU(64))\n",
    "model.add(Dense(1))\n",
    "\n",
    "model.compile(loss='mean_squared_error', optimizer='adam')\n",
    "cp = ModelCheckpoint('hybrid_lstm_rnn_gru/', save_best_only=True)\n",
    "model = fit_model(model, cp, epochs, x_train,y_train, x_val, y_val)\n",
    "\n",
    "plot_train(\"hybrid_lstm_rnn_gru\", 50, x_train,y_train)\n",
    "plot_val(model, 50, x_val, y_val)\n",
    "plot_test(model, 50, x_test, y_test)\n",
    "hybrid_lstm_rnn_gru_mse = plot_predictions1(model,x_test, y_test)"
   ]
  },
  {
   "cell_type": "code",
   "execution_count": null,
   "id": "4e3dacf0-53e5-4d57-abc2-a933f1f7c5bf",
   "metadata": {
    "colab": {
     "base_uri": "https://localhost:8080/"
    },
    "executionInfo": {
     "elapsed": 7,
     "status": "ok",
     "timestamp": 1709227873022,
     "user": {
      "displayName": "Rakib H Hridoy",
      "userId": "11427915455487036903"
     },
     "user_tz": -360
    },
    "id": "4e3dacf0-53e5-4d57-abc2-a933f1f7c5bf",
    "outputId": "6b6f2aec-8fa4-46c2-c295-d694e3359f20"
   },
   "outputs": [],
   "source": [
    "hybrid_lstm_rnn_gru_mse"
   ]
  },
  {
   "cell_type": "markdown",
   "id": "e11c3e00-dc76-411e-831a-8d2042cbb778",
   "metadata": {
    "id": "e11c3e00-dc76-411e-831a-8d2042cbb778"
   },
   "source": [
    "## Moving Average"
   ]
  },
  {
   "cell_type": "markdown",
   "id": "1f0bf73a-0e18-45f2-a8ce-06986e87a92e",
   "metadata": {
    "id": "1f0bf73a-0e18-45f2-a8ce-06986e87a92e"
   },
   "source": [
    "### CNN LSTM"
   ]
  },
  {
   "cell_type": "code",
   "execution_count": null,
   "id": "94711e22-60a1-41fd-80b3-d1703d14aa58",
   "metadata": {
    "colab": {
     "base_uri": "https://localhost:8080/",
     "height": 1000
    },
    "executionInfo": {
     "elapsed": 148407,
     "status": "ok",
     "timestamp": 1709228021424,
     "user": {
      "displayName": "Rakib H Hridoy",
      "userId": "11427915455487036903"
     },
     "user_tz": -360
    },
    "id": "94711e22-60a1-41fd-80b3-d1703d14aa58",
    "outputId": "96d10467-ec22-4b17-97e5-5e2549b55066"
   },
   "outputs": [],
   "source": [
    "input_shape = (15,1)\n",
    "model = Sequential()\n",
    "model.add(Conv1D(filters=32, kernel_size=3, activation='relu', input_shape=(3,1)))\n",
    "model.add(Flatten())\n",
    "model.add(Dense(32, activation='relu'))\n",
    "model.add(RepeatVector(n=input_shape[0]))\n",
    "model.add(LSTM(units=64, return_sequences=True))\n",
    "model.add(LSTM(units=32))\n",
    "model.add(Dense(1))\n",
    "\n",
    "model.compile(loss='mean_squared_error', optimizer='adam')\n",
    "\n",
    "cp = ModelCheckpoint('mavg_hybrid_cnn_lstm/', save_best_only=True)\n",
    "\n",
    "model = fit_model(model, cp, epochs, moving_avg_data, target, x_val, y_val)\n",
    "\n",
    "plot_train(\"mavg_hybrid_cnn_lstm\", 50, moving_avg_data, target)\n",
    "plot_val(model, 50, x_val, y_val)\n",
    "plot_test(model, 50, x_test, y_test)\n",
    "mavg_hybrid_cnn_lstm_mse = plot_predictions1(model,x_test, y_test)"
   ]
  },
  {
   "cell_type": "code",
   "execution_count": null,
   "id": "30cb1bbc-ced5-4094-a16e-e92ac736521e",
   "metadata": {
    "colab": {
     "base_uri": "https://localhost:8080/"
    },
    "executionInfo": {
     "elapsed": 6,
     "status": "ok",
     "timestamp": 1709228021424,
     "user": {
      "displayName": "Rakib H Hridoy",
      "userId": "11427915455487036903"
     },
     "user_tz": -360
    },
    "id": "30cb1bbc-ced5-4094-a16e-e92ac736521e",
    "outputId": "6dcc4262-abe7-43e7-ebe1-15f6b0732944"
   },
   "outputs": [],
   "source": [
    "mavg_hybrid_cnn_lstm_mse"
   ]
  },
  {
   "cell_type": "markdown",
   "id": "a5bb5cab-32f6-4844-ad49-5b7251350a7e",
   "metadata": {
    "id": "a5bb5cab-32f6-4844-ad49-5b7251350a7e"
   },
   "source": [
    "### RNN LSTM"
   ]
  },
  {
   "cell_type": "code",
   "execution_count": null,
   "id": "5cbf9837-4a24-4710-8f25-9660499a91b9",
   "metadata": {
    "colab": {
     "base_uri": "https://localhost:8080/",
     "height": 1000
    },
    "executionInfo": {
     "elapsed": 115163,
     "status": "ok",
     "timestamp": 1709228136584,
     "user": {
      "displayName": "Rakib H Hridoy",
      "userId": "11427915455487036903"
     },
     "user_tz": -360
    },
    "id": "5cbf9837-4a24-4710-8f25-9660499a91b9",
    "outputId": "5ebb021f-31b9-473c-fdf8-743a9aee894c"
   },
   "outputs": [],
   "source": [
    "model = Sequential()\n",
    "model.add(SimpleRNN(64,return_sequences=True, input_shape=(3,1)))\n",
    "model.add(LSTM(32))\n",
    "model.add(Dense(1))\n",
    "\n",
    "model.compile(loss='mean_squared_error', optimizer='adam')\n",
    "cp = ModelCheckpoint('mavg_hybrid_rnn_lstm/', save_best_only=True)\n",
    "model = fit_model(model, cp, epochs, moving_avg_data, target, x_val, y_val)\n",
    "\n",
    "plot_train(\"mavg_hybrid_rnn_lstm\", 50, moving_avg_data, target)\n",
    "plot_val(model, 50, x_val, y_val)\n",
    "plot_test(model, 50, x_test, y_test)\n",
    "mavg_hybrid_rnn_lstm_mse = plot_predictions1(model,x_test, y_test)"
   ]
  },
  {
   "cell_type": "code",
   "execution_count": null,
   "id": "55937582-d29a-4dd9-84b7-1c04be4777a8",
   "metadata": {
    "colab": {
     "base_uri": "https://localhost:8080/"
    },
    "executionInfo": {
     "elapsed": 7,
     "status": "ok",
     "timestamp": 1709228136584,
     "user": {
      "displayName": "Rakib H Hridoy",
      "userId": "11427915455487036903"
     },
     "user_tz": -360
    },
    "id": "55937582-d29a-4dd9-84b7-1c04be4777a8",
    "outputId": "65588d9d-5b23-4dc0-8a9d-e4fb73bd0c32"
   },
   "outputs": [],
   "source": [
    "mavg_hybrid_rnn_lstm_mse"
   ]
  },
  {
   "cell_type": "markdown",
   "id": "a3c404ee-001b-4cb5-8bde-9ec47807ad63",
   "metadata": {
    "id": "a3c404ee-001b-4cb5-8bde-9ec47807ad63"
   },
   "source": [
    "### RNN GRU"
   ]
  },
  {
   "cell_type": "code",
   "execution_count": null,
   "id": "6345cb8e-ca2f-4d2a-8414-383aa5c76270",
   "metadata": {
    "colab": {
     "base_uri": "https://localhost:8080/",
     "height": 1000
    },
    "executionInfo": {
     "elapsed": 100694,
     "status": "ok",
     "timestamp": 1709228237272,
     "user": {
      "displayName": "Rakib H Hridoy",
      "userId": "11427915455487036903"
     },
     "user_tz": -360
    },
    "id": "6345cb8e-ca2f-4d2a-8414-383aa5c76270",
    "outputId": "5d7f28f8-eb82-4fbb-a670-f3811423aff6"
   },
   "outputs": [],
   "source": [
    "model = Sequential()\n",
    "model.add(SimpleRNN(64, return_sequences=True, input_shape=(3, 1)))\n",
    "model.add(GRU(32))\n",
    "model.add(Dense(1))\n",
    "\n",
    "model.compile(loss='mean_squared_error', optimizer='adam')\n",
    "cp = ModelCheckpoint('mavg_hybrid_rnn_gru/', save_best_only=True)\n",
    "model = fit_model(model, cp, epochs, moving_avg_data, target, x_val, y_val)\n",
    "\n",
    "plot_train(\"mavg_hybrid_rnn_gru\", 50, moving_avg_data, target)\n",
    "plot_val(model, 50, x_val, y_val)\n",
    "plot_test(model, 50, x_test, y_test)\n",
    "mavg_hybrid_rnn_gru_mse = plot_predictions1(model,x_test, y_test)"
   ]
  },
  {
   "cell_type": "code",
   "execution_count": null,
   "id": "1045cb59-ad49-48f3-a5d8-542e3494aaca",
   "metadata": {
    "colab": {
     "base_uri": "https://localhost:8080/"
    },
    "executionInfo": {
     "elapsed": 6,
     "status": "ok",
     "timestamp": 1709228237272,
     "user": {
      "displayName": "Rakib H Hridoy",
      "userId": "11427915455487036903"
     },
     "user_tz": -360
    },
    "id": "1045cb59-ad49-48f3-a5d8-542e3494aaca",
    "outputId": "cdc0d51a-aa5b-4c04-d34f-f96e44d47256"
   },
   "outputs": [],
   "source": [
    "mavg_hybrid_rnn_gru_mse"
   ]
  },
  {
   "cell_type": "markdown",
   "id": "b5854a3e-315c-41b1-b5da-50e711d9c594",
   "metadata": {
    "id": "b5854a3e-315c-41b1-b5da-50e711d9c594"
   },
   "source": [
    "### CNN GRU"
   ]
  },
  {
   "cell_type": "code",
   "execution_count": null,
   "id": "2f23e825-6453-4eb3-85aa-14a9c6148d95",
   "metadata": {
    "colab": {
     "base_uri": "https://localhost:8080/",
     "height": 1000
    },
    "executionInfo": {
     "elapsed": 152046,
     "status": "ok",
     "timestamp": 1709229927324,
     "user": {
      "displayName": "Rakib H Hridoy",
      "userId": "11427915455487036903"
     },
     "user_tz": -360
    },
    "id": "2f23e825-6453-4eb3-85aa-14a9c6148d95",
    "outputId": "13526398-83f1-450d-cdd6-be781ae1fcc4"
   },
   "outputs": [],
   "source": [
    "model = Sequential()\n",
    "\n",
    "model.add(Conv1D(filters=32, kernel_size=3, activation='relu', input_shape=(3,1)))\n",
    "#model.add(MaxPooling1D(pool_size=2))\n",
    "model.add(Flatten())\n",
    "\n",
    "model.add(RepeatVector(n=15))\n",
    "model.add(GRU(64, return_sequences=True))\n",
    "model.add(GRU(32))\n",
    "model.add(Dense(1))\n",
    "\n",
    "model.compile(loss='mean_squared_error', optimizer='adam')\n",
    "cp = ModelCheckpoint('mavg_hybrid_cnn_gru/', save_best_only=True)\n",
    "model = fit_model(model, cp, epochs, moving_avg_data, target, x_val, y_val)\n",
    "\n",
    "plot_train(\"mavg_hybrid_cnn_gru\", 50, moving_avg_data, target)\n",
    "plot_val(model, 50, x_val, y_val)\n",
    "plot_test(model, 50, x_test, y_test)\n",
    "mavg_hybrid_cnn_gru_mse = plot_predictions1(model,x_test, y_test)"
   ]
  },
  {
   "cell_type": "code",
   "execution_count": null,
   "id": "b369c99c-dd8f-4db6-a7f3-6fda45d21e51",
   "metadata": {
    "colab": {
     "base_uri": "https://localhost:8080/"
    },
    "executionInfo": {
     "elapsed": 19,
     "status": "ok",
     "timestamp": 1709229927324,
     "user": {
      "displayName": "Rakib H Hridoy",
      "userId": "11427915455487036903"
     },
     "user_tz": -360
    },
    "id": "b369c99c-dd8f-4db6-a7f3-6fda45d21e51",
    "outputId": "0e6793b0-ab08-48a2-c271-ab81716ecf7b"
   },
   "outputs": [],
   "source": [
    "mavg_hybrid_cnn_gru_mse"
   ]
  },
  {
   "cell_type": "markdown",
   "id": "2bb28674-7619-4309-9d53-f13b1a71d79f",
   "metadata": {
    "id": "2bb28674-7619-4309-9d53-f13b1a71d79f"
   },
   "source": [
    "### CNN RNN GRU"
   ]
  },
  {
   "cell_type": "code",
   "execution_count": null,
   "id": "fa669505-9143-496f-8bc1-c27c8a875be8",
   "metadata": {
    "colab": {
     "base_uri": "https://localhost:8080/",
     "height": 1000
    },
    "executionInfo": {
     "elapsed": 74265,
     "status": "ok",
     "timestamp": 1709230028168,
     "user": {
      "displayName": "Rakib H Hridoy",
      "userId": "11427915455487036903"
     },
     "user_tz": -360
    },
    "id": "fa669505-9143-496f-8bc1-c27c8a875be8",
    "outputId": "9ce2b919-8de7-4a08-c307-f066103709fa"
   },
   "outputs": [],
   "source": [
    "model = Sequential()\n",
    "model.add(Conv1D(filters=32, kernel_size=3, activation='relu', input_shape=(3, 1)))\n",
    "#model.add(MaxPooling1D(pool_size=2))\n",
    "model.add(Flatten())\n",
    "model.add(RepeatVector(n=15))\n",
    "model.add(SimpleRNN(64, return_sequences=True))\n",
    "model.add(GRU(32))\n",
    "model.add(Dense(8))\n",
    "model.add(Dense(1))\n",
    "\n",
    "model.compile(loss='mean_squared_error', optimizer='adam')\n",
    "cp = ModelCheckpoint('mavg_hybrid_cnn_rnn_gru/', save_best_only=True)\n",
    "model = fit_model(model, cp, epochs, moving_avg_data, target, x_val, y_val)\n",
    "\n",
    "plot_train(\"mavg_hybrid_cnn_rnn_gru\", 50, moving_avg_data, target)\n",
    "plot_val(model, 50, x_val, y_val)\n",
    "plot_test(model, 50, x_test, y_test)\n",
    "mavg_hybrid_cnn_rnn_gru_mse = plot_predictions1(model,x_test, y_test)"
   ]
  },
  {
   "cell_type": "code",
   "execution_count": null,
   "id": "dd5536e6-89c6-40bf-96f0-b671cc081f90",
   "metadata": {
    "id": "dd5536e6-89c6-40bf-96f0-b671cc081f90"
   },
   "outputs": [],
   "source": [
    "mavg_hybrid_cnn_rnn_gru_mse"
   ]
  },
  {
   "cell_type": "markdown",
   "id": "aa2779cb-67da-4037-9a5d-3b7ae3223344",
   "metadata": {
    "id": "aa2779cb-67da-4037-9a5d-3b7ae3223344"
   },
   "source": [
    "### RNN LSTM GRU"
   ]
  },
  {
   "cell_type": "code",
   "execution_count": null,
   "id": "f61960c1-a8ed-4213-b64c-d94770d30bac",
   "metadata": {
    "colab": {
     "base_uri": "https://localhost:8080/",
     "height": 1000
    },
    "executionInfo": {
     "elapsed": 153486,
     "status": "ok",
     "timestamp": 1709230229103,
     "user": {
      "displayName": "Rakib H Hridoy",
      "userId": "11427915455487036903"
     },
     "user_tz": -360
    },
    "id": "f61960c1-a8ed-4213-b64c-d94770d30bac",
    "outputId": "f7535742-090d-4cd5-fcf4-b8c5a80afaac"
   },
   "outputs": [],
   "source": [
    "model = Sequential()\n",
    "model.add(SimpleRNN(64, return_sequences=True, input_shape=(3,1)))\n",
    "model.add(LSTM(128, return_sequences=True))\n",
    "model.add(GRU(64))\n",
    "model.add(Dense(1))\n",
    "\n",
    "model.compile(loss='mean_squared_error', optimizer='adam')\n",
    "cp = ModelCheckpoint('mavg_hybrid_lstm_rnn_gru/', save_best_only=True)\n",
    "model = fit_model(model, cp, epochs, moving_avg_data, target,x_val, y_val)\n",
    "\n",
    "plot_train(\"mavg_hybrid_lstm_rnn_gru\", 50, moving_avg_data, target)\n",
    "plot_val(model, 50, x_val, y_val)\n",
    "plot_test(model, 50, x_test, y_test)\n",
    "mavg_hybrid_lstm_rnn_gru_mse = plot_predictions1(model,x_test, y_test)"
   ]
  },
  {
   "cell_type": "code",
   "execution_count": null,
   "id": "42659f65-71f0-4a7b-8171-9aba8dcdc7a5",
   "metadata": {
    "colab": {
     "base_uri": "https://localhost:8080/"
    },
    "executionInfo": {
     "elapsed": 23,
     "status": "ok",
     "timestamp": 1709230230182,
     "user": {
      "displayName": "Rakib H Hridoy",
      "userId": "11427915455487036903"
     },
     "user_tz": -360
    },
    "id": "42659f65-71f0-4a7b-8171-9aba8dcdc7a5",
    "outputId": "714c3644-f608-4e47-ac15-f90c8fa95b4a"
   },
   "outputs": [],
   "source": [
    "mavg_hybrid_lstm_rnn_gru_mse"
   ]
  },
  {
   "cell_type": "markdown",
   "id": "8048232c-fdea-4c4d-899d-ed336e8f1478",
   "metadata": {
    "id": "8048232c-fdea-4c4d-899d-ed336e8f1478"
   },
   "source": [
    "# MSE"
   ]
  },
  {
   "cell_type": "code",
   "execution_count": null,
   "id": "d6efb09f-3f5e-42b3-b4b2-28f9894ebe3b",
   "metadata": {
    "id": "d6efb09f-3f5e-42b3-b4b2-28f9894ebe3b"
   },
   "outputs": [],
   "source": [
    "mse_list = [cnn_mse, rnn_mse, gru_mse, lstm_mse,\n",
    "            mvg_cnn_mse, mvg_rnn_mse, mvg_gru_mse, mvg_lstm_mse,\n",
    "            auto_cnn_mse, auto_rnn_mse, auto_gru_mse, auto_lstm_mse,\n",
    "            mavg_auto_cnn_mse, mavg_auto_rnn_mse, mavg_auto_gru_mse, mavg_auto_lstm_mse,\n",
    "            hybrid_cnn_lstm_mse, hybrid_lstm_rnn_gru_mse,hybrid_cnn_rnn_gru_mse,hybrid_cnn_gru_mse,\n",
    "            hybrid_rnn_gru_mse,hybrid_rnn_lstm_mse,\n",
    "            mavg_hybrid_cnn_lstm_mse, mavg_hybrid_lstm_rnn_gru_mse,mavg_hybrid_cnn_rnn_gru_mse,\n",
    "            mavg_hybrid_cnn_gru_mse,mavg_hybrid_rnn_gru_mse,mavg_hybrid_rnn_lstm_mse]\n",
    "\n",
    "model_n = [\"cnn\", \"rnn\", \"gru\", \"lstm\",\n",
    "           \"mvg_cnn\", \"mvg_rnn\", \"mvg_gru\", \"mvg_lstm\",\n",
    "           \"auto_cnn\", \"auto_rnn\", \"auto_gru\", \"auto_lstm\",\n",
    "           \"mvg_auto_cnn\", \"mvg_auto_rnn\", \"mvg_auto_gru\", \"mvg_auto_lstm\",\n",
    "           \"hybrid_cnn_lstm\", \"hybrid_lstm_rnn_gru\" ,\"hybrid_cnn_rnn_gru\",\"hybrid_cnn_gru\",\n",
    "           \"hybrid_rnn_gru\",\"hybrid_rnn_lstm\",\n",
    "           \"mavg_hybrid_cnn_lstm\", \"mavg_hybrid_lstm_rnn_gru\",\"mavg_hybrid_cnn_rnn_gru\",\n",
    "           \"mavg_hybrid_cnn_gru\",\"mavg_hybrid_rnn_gru\",\"mavg_hybrid_rnn_lstm\"\n",
    "          ]\n",
    "msedf = pd.DataFrame({\n",
    "    \"Model\": model_n,\n",
    "    \"MSE\": mse_list\n",
    "})\n",
    "\n",
    "rmse = np.sqrt(msedf.MSE)\n",
    "msedf[\"RMSE\"] = rmse"
   ]
  },
  {
   "cell_type": "code",
   "execution_count": null,
   "id": "f33f5196-c528-47c0-b3b7-54617059d863",
   "metadata": {
    "colab": {
     "base_uri": "https://localhost:8080/",
     "height": 927
    },
    "executionInfo": {
     "elapsed": 19,
     "status": "ok",
     "timestamp": 1709230230183,
     "user": {
      "displayName": "Rakib H Hridoy",
      "userId": "11427915455487036903"
     },
     "user_tz": -360
    },
    "id": "f33f5196-c528-47c0-b3b7-54617059d863",
    "outputId": "c7b0e3e7-89c2-44f9-dbf1-ec3a5f92e094"
   },
   "outputs": [],
   "source": [
    "msedf"
   ]
  },
  {
   "cell_type": "code",
   "execution_count": null,
   "id": "968044f6-8811-4ed3-8015-1b7843711720",
   "metadata": {
    "id": "968044f6-8811-4ed3-8015-1b7843711720"
   },
   "outputs": [],
   "source": [
    "msedf.to_csv(\"msedf.csv\", index= False)"
   ]
  },
  {
   "cell_type": "code",
   "execution_count": null,
   "id": "c37a7ba0-ef39-4d70-a7b3-b458d5df86bb",
   "metadata": {
    "colab": {
     "base_uri": "https://localhost:8080/",
     "height": 641
    },
    "executionInfo": {
     "elapsed": 614,
     "status": "ok",
     "timestamp": 1709230230783,
     "user": {
      "displayName": "Rakib H Hridoy",
      "userId": "11427915455487036903"
     },
     "user_tz": -360
    },
    "id": "c37a7ba0-ef39-4d70-a7b3-b458d5df86bb",
    "outputId": "7f583e8b-e12e-4c50-c0b3-9a892f20541e"
   },
   "outputs": [],
   "source": [
    "msedf.plot(\"Model\", \"RMSE\", kind= \"bar\")"
   ]
  },
  {
   "cell_type": "code",
   "execution_count": null,
   "id": "bcae8c79-8eff-42ea-beeb-8f1badf7470d",
   "metadata": {
    "id": "bcae8c79-8eff-42ea-beeb-8f1badf7470d"
   },
   "outputs": [],
   "source": [
    "np.save(\"x_train.npy\", x_train)\n",
    "np.save(\"y_train.npy\", y_train)\n",
    "np.save(\"x_test.npy\", x_test)\n",
    "np.save(\"y_test.npy\", y_test)\n",
    "np.save(\"x_val.npy\", x_val)\n",
    "np.save(\"y_val.npy\", y_val)"
   ]
  },
  {
   "cell_type": "code",
   "execution_count": null,
   "id": "c9beadb4-364a-4b0f-95c1-ec22000e52d3",
   "metadata": {
    "collapsed": true,
    "id": "c9beadb4-364a-4b0f-95c1-ec22000e52d3",
    "jupyter": {
     "outputs_hidden": true
    }
   },
   "outputs": [],
   "source": []
  },
  {
   "cell_type": "code",
   "execution_count": null,
   "id": "ae65b6e6-5fe7-40b8-bb59-d11a8ba07eeb",
   "metadata": {
    "collapsed": true,
    "id": "ae65b6e6-5fe7-40b8-bb59-d11a8ba07eeb",
    "jupyter": {
     "outputs_hidden": true
    }
   },
   "outputs": [],
   "source": []
  }
 ],
 "metadata": {
  "colab": {
   "provenance": []
  },
  "kernelspec": {
   "display_name": "Python 3 (ipykernel)",
   "language": "python",
   "name": "python3"
  },
  "language_info": {
   "codemirror_mode": {
    "name": "ipython",
    "version": 3
   },
   "file_extension": ".py",
   "mimetype": "text/x-python",
   "name": "python",
   "nbconvert_exporter": "python",
   "pygments_lexer": "ipython3",
   "version": "3.9.12"
  }
 },
 "nbformat": 4,
 "nbformat_minor": 5
}
