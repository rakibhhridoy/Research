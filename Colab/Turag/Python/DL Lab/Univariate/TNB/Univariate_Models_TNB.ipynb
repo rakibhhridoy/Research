{
 "cells": [
  {
   "cell_type": "markdown",
   "id": "912a7919-eb3c-4f3f-b957-d94a46fdd1f8",
   "metadata": {
    "colab": {
     "base_uri": "https://localhost:8080/"
    },
    "executionInfo": {
     "elapsed": 3786,
     "status": "ok",
     "timestamp": 1709588927048,
     "user": {
      "displayName": "Rakib H Hridoy",
      "userId": "11427915455487036903"
     },
     "user_tz": -360
    },
    "id": "MrR21p7_neFN",
    "outputId": "443764d4-e719-48f2-d408-fc1729da298b"
   },
   "source": [
    "from google.colab import drive\n",
    "drive.mount('/content/drive')"
   ]
  },
  {
   "cell_type": "markdown",
   "id": "097ef7b3-fda0-4252-aa35-c869ba7f7b47",
   "metadata": {
    "id": "9k4X40mmodn9"
   },
   "source": [
    "import sys\n",
    "sys.path.append('/content/drive/MyDrive/Turag/Python/DL Lab/Univariate/TNA/')\n"
   ]
  },
  {
   "cell_type": "code",
   "execution_count": 1,
   "id": "15da3411",
   "metadata": {
    "id": "6fea8c04-424d-4c1b-94bf-110f45efb648"
   },
   "outputs": [
    {
     "name": "stderr",
     "output_type": "stream",
     "text": [
      "2024-03-09 00:11:54.198283: I tensorflow/core/platform/cpu_feature_guard.cc:193] This TensorFlow binary is optimized with oneAPI Deep Neural Network Library (oneDNN) to use the following CPU instructions in performance-critical operations:  AVX2 AVX512F AVX512_VNNI FMA\n",
      "To enable them in other operations, rebuild TensorFlow with the appropriate compiler flags.\n",
      "2024-03-09 00:11:54.421156: I tensorflow/core/util/util.cc:169] oneDNN custom operations are on. You may see slightly different numerical results due to floating-point round-off errors from different computation orders. To turn them off, set the environment variable `TF_ENABLE_ONEDNN_OPTS=0`.\n",
      "2024-03-09 00:11:54.428444: W tensorflow/stream_executor/platform/default/dso_loader.cc:64] Could not load dynamic library 'libcudart.so.11.0'; dlerror: libcudart.so.11.0: cannot open shared object file: No such file or directory\n",
      "2024-03-09 00:11:54.428465: I tensorflow/stream_executor/cuda/cudart_stub.cc:29] Ignore above cudart dlerror if you do not have a GPU set up on your machine.\n",
      "2024-03-09 00:11:54.454386: E tensorflow/stream_executor/cuda/cuda_blas.cc:2981] Unable to register cuBLAS factory: Attempting to register factory for plugin cuBLAS when one has already been registered\n",
      "2024-03-09 00:11:56.363806: W tensorflow/stream_executor/platform/default/dso_loader.cc:64] Could not load dynamic library 'libnvinfer.so.7'; dlerror: libnvinfer.so.7: cannot open shared object file: No such file or directory\n",
      "2024-03-09 00:11:56.364225: W tensorflow/stream_executor/platform/default/dso_loader.cc:64] Could not load dynamic library 'libnvinfer_plugin.so.7'; dlerror: libnvinfer_plugin.so.7: cannot open shared object file: No such file or directory\n",
      "2024-03-09 00:11:56.364242: W tensorflow/compiler/tf2tensorrt/utils/py_utils.cc:38] TF-TRT Warning: Cannot dlopen some TensorRT libraries. If you would like to use Nvidia GPU with TensorRT, please make sure the missing libraries mentioned above are installed properly.\n"
     ]
    }
   ],
   "source": [
    "import pandas as pd\n",
    "import numpy as np\n",
    "import matplotlib.pyplot as plt\n",
    "import tensorflow as tf\n",
    "from tensorflow.keras.models import Sequential\n",
    "from tensorflow.keras.layers import Conv1D, MaxPooling1D, Flatten, Dense\n",
    "from tensorflow.keras.layers import Conv1D\n",
    "from tensorflow.keras.models import Sequential\n",
    "from tensorflow.keras.layers import *\n",
    "from tensorflow.keras.callbacks import ModelCheckpoint\n",
    "from tensorflow.keras.losses import MeanSquaredError\n",
    "from tensorflow.keras.metrics import RootMeanSquaredError\n",
    "from tensorflow.keras.optimizers import Adam\n",
    "from sklearn.model_selection import train_test_split\n",
    "from tensorflow.keras.models import load_model\n",
    "from sklearn.metrics import mean_squared_error as mse\n",
    "from functions_learning import *\n",
    "from feed_data import data_extract\n",
    "from tensorflow import keras\n",
    "from keras import layers"
   ]
  },
  {
   "cell_type": "code",
   "execution_count": 2,
   "id": "ef2ab6aa",
   "metadata": {
    "id": "7a8be6f8-1df2-456f-ab61-e01e91628978"
   },
   "outputs": [],
   "source": [
    "epochs = 30"
   ]
  },
  {
   "cell_type": "code",
   "execution_count": 3,
   "id": "13dcbd0b",
   "metadata": {
    "colab": {
     "base_uri": "https://localhost:8080/",
     "height": 206
    },
    "executionInfo": {
     "elapsed": 18,
     "status": "ok",
     "timestamp": 1709588927049,
     "user": {
      "displayName": "Rakib H Hridoy",
      "userId": "11427915455487036903"
     },
     "user_tz": -360
    },
    "id": "tRQMTcoXb3nQ",
    "outputId": "0cb7affa-c393-4d43-cdce-f1fb329c69f8"
   },
   "outputs": [
    {
     "data": {
      "text/html": [
       "<div>\n",
       "<style scoped>\n",
       "    .dataframe tbody tr th:only-of-type {\n",
       "        vertical-align: middle;\n",
       "    }\n",
       "\n",
       "    .dataframe tbody tr th {\n",
       "        vertical-align: top;\n",
       "    }\n",
       "\n",
       "    .dataframe thead th {\n",
       "        text-align: right;\n",
       "    }\n",
       "</style>\n",
       "<table border=\"1\" class=\"dataframe\">\n",
       "  <thead>\n",
       "    <tr style=\"text-align: right;\">\n",
       "      <th></th>\n",
       "      <th>TempB</th>\n",
       "      <th>pHB</th>\n",
       "      <th>ECB</th>\n",
       "      <th>DOB</th>\n",
       "      <th>BODB</th>\n",
       "      <th>TNB</th>\n",
       "    </tr>\n",
       "  </thead>\n",
       "  <tbody>\n",
       "    <tr>\n",
       "      <th>0</th>\n",
       "      <td>21.20</td>\n",
       "      <td>8.12</td>\n",
       "      <td>1679</td>\n",
       "      <td>2.62</td>\n",
       "      <td>27.70</td>\n",
       "      <td>1.25</td>\n",
       "    </tr>\n",
       "    <tr>\n",
       "      <th>1</th>\n",
       "      <td>21.10</td>\n",
       "      <td>8.08</td>\n",
       "      <td>1690</td>\n",
       "      <td>2.68</td>\n",
       "      <td>27.62</td>\n",
       "      <td>1.20</td>\n",
       "    </tr>\n",
       "    <tr>\n",
       "      <th>2</th>\n",
       "      <td>20.94</td>\n",
       "      <td>8.06</td>\n",
       "      <td>1680</td>\n",
       "      <td>2.67</td>\n",
       "      <td>27.25</td>\n",
       "      <td>1.24</td>\n",
       "    </tr>\n",
       "    <tr>\n",
       "      <th>3</th>\n",
       "      <td>20.94</td>\n",
       "      <td>8.09</td>\n",
       "      <td>1697</td>\n",
       "      <td>2.65</td>\n",
       "      <td>27.32</td>\n",
       "      <td>1.22</td>\n",
       "    </tr>\n",
       "    <tr>\n",
       "      <th>4</th>\n",
       "      <td>21.19</td>\n",
       "      <td>8.11</td>\n",
       "      <td>1692</td>\n",
       "      <td>2.69</td>\n",
       "      <td>27.32</td>\n",
       "      <td>1.18</td>\n",
       "    </tr>\n",
       "  </tbody>\n",
       "</table>\n",
       "</div>"
      ],
      "text/plain": [
       "   TempB   pHB   ECB   DOB   BODB   TNB\n",
       "0  21.20  8.12  1679  2.62  27.70  1.25\n",
       "1  21.10  8.08  1690  2.68  27.62  1.20\n",
       "2  20.94  8.06  1680  2.67  27.25  1.24\n",
       "3  20.94  8.09  1697  2.65  27.32  1.22\n",
       "4  21.19  8.11  1692  2.69  27.32  1.18"
      ]
     },
     "execution_count": 3,
     "metadata": {},
     "output_type": "execute_result"
    }
   ],
   "source": [
    "df = pd.read_csv(\"data/LocationB.csv\")\n",
    "\n",
    "df.drop(columns=[\"Unnamed: 0\", \"Date\"], inplace=True)\n",
    "df.head()"
   ]
  },
  {
   "cell_type": "code",
   "execution_count": 4,
   "id": "25a3e924",
   "metadata": {
    "colab": {
     "base_uri": "https://localhost:8080/"
    },
    "executionInfo": {
     "elapsed": 15,
     "status": "ok",
     "timestamp": 1709588927049,
     "user": {
      "displayName": "Rakib H Hridoy",
      "userId": "11427915455487036903"
     },
     "user_tz": -360
    },
    "id": "TPBc0z_ib3hx",
    "outputId": "5dc949cb-d36d-48a1-d1a9-0f2c66a32b1b"
   },
   "outputs": [
    {
     "data": {
      "text/plain": [
       "0      1.25\n",
       "1      1.20\n",
       "2      1.24\n",
       "3      1.22\n",
       "4      1.18\n",
       "       ... \n",
       "360    1.28\n",
       "361    1.29\n",
       "362    1.27\n",
       "363    1.27\n",
       "364    1.28\n",
       "Name: TNB, Length: 365, dtype: float64"
      ]
     },
     "execution_count": 4,
     "metadata": {},
     "output_type": "execute_result"
    }
   ],
   "source": [
    "WINDOW_SIZE = 3\n",
    "TNB = df[\"TNB\"]\n",
    "TNB"
   ]
  },
  {
   "cell_type": "code",
   "execution_count": 5,
   "id": "8576ebab",
   "metadata": {
    "id": "qU0bG4LFb3fC"
   },
   "outputs": [],
   "source": [
    "X1, y1 = df_to_X_y(TNB, WINDOW_SIZE)\n",
    "x_train, x_test, y_train, y_test = train_test_split(X1, y1, test_size=0.2, random_state=1)\n",
    "x_train, x_val, y_train, y_val = train_test_split(x_train, y_train, test_size=0.2, random_state=1)"
   ]
  },
  {
   "cell_type": "markdown",
   "id": "48732064",
   "metadata": {
    "id": "d97481c9-eaa4-4fe3-a28f-cc3a86f99ba4"
   },
   "source": [
    "# General Model"
   ]
  },
  {
   "cell_type": "markdown",
   "id": "9d052189",
   "metadata": {
    "id": "25993cb2-a807-4ff8-b2d5-a9455c2f01f4"
   },
   "source": [
    "### CNN"
   ]
  },
  {
   "cell_type": "code",
   "execution_count": 6,
   "id": "4ed60a8e",
   "metadata": {
    "colab": {
     "base_uri": "https://localhost:8080/",
     "height": 1000
    },
    "executionInfo": {
     "elapsed": 44957,
     "status": "ok",
     "timestamp": 1709588971996,
     "user": {
      "displayName": "Rakib H Hridoy",
      "userId": "11427915455487036903"
     },
     "user_tz": -360
    },
    "id": "a91b7575-703b-482c-9707-50e602f7d206",
    "outputId": "7cf17928-1f84-494e-93ce-a07efb3a5cfd"
   },
   "outputs": [
    {
     "name": "stderr",
     "output_type": "stream",
     "text": [
      "2024-03-09 00:11:59.075312: W tensorflow/stream_executor/platform/default/dso_loader.cc:64] Could not load dynamic library 'libcuda.so.1'; dlerror: libcuda.so.1: cannot open shared object file: No such file or directory\n",
      "2024-03-09 00:11:59.075361: W tensorflow/stream_executor/cuda/cuda_driver.cc:263] failed call to cuInit: UNKNOWN ERROR (303)\n",
      "2024-03-09 00:11:59.075392: I tensorflow/stream_executor/cuda/cuda_diagnostics.cc:156] kernel driver does not appear to be running on this host (fedora): /proc/driver/nvidia/version does not exist\n",
      "2024-03-09 00:11:59.075686: I tensorflow/core/platform/cpu_feature_guard.cc:193] This TensorFlow binary is optimized with oneAPI Deep Neural Network Library (oneDNN) to use the following CPU instructions in performance-critical operations:  AVX2 AVX512F AVX512_VNNI FMA\n",
      "To enable them in other operations, rebuild TensorFlow with the appropriate compiler flags.\n"
     ]
    },
    {
     "name": "stdout",
     "output_type": "stream",
     "text": [
      "Epoch 1/30\n",
      "1/8 [==>...........................] - ETA: 3s - loss: 4.5720 - root_mean_squared_error: 2.1382"
     ]
    },
    {
     "name": "stderr",
     "output_type": "stream",
     "text": [
      "WARNING:absl:Found untraced functions such as _jit_compiled_convolution_op while saving (showing 1 of 1). These functions will not be directly callable after loading.\n"
     ]
    },
    {
     "name": "stdout",
     "output_type": "stream",
     "text": [
      "INFO:tensorflow:Assets written to: cnn/assets\n"
     ]
    },
    {
     "name": "stderr",
     "output_type": "stream",
     "text": [
      "INFO:tensorflow:Assets written to: cnn/assets\n"
     ]
    },
    {
     "name": "stdout",
     "output_type": "stream",
     "text": [
      "8/8 [==============================] - 2s 152ms/step - loss: 4.3838 - root_mean_squared_error: 2.0937 - val_loss: 4.5237 - val_root_mean_squared_error: 2.1269\n",
      "Epoch 2/30\n",
      "1/8 [==>...........................] - ETA: 0s - loss: 4.5929 - root_mean_squared_error: 2.1431"
     ]
    },
    {
     "name": "stderr",
     "output_type": "stream",
     "text": [
      "WARNING:absl:Found untraced functions such as _jit_compiled_convolution_op while saving (showing 1 of 1). These functions will not be directly callable after loading.\n"
     ]
    },
    {
     "name": "stdout",
     "output_type": "stream",
     "text": [
      "INFO:tensorflow:Assets written to: cnn/assets\n"
     ]
    },
    {
     "name": "stderr",
     "output_type": "stream",
     "text": [
      "INFO:tensorflow:Assets written to: cnn/assets\n"
     ]
    },
    {
     "name": "stdout",
     "output_type": "stream",
     "text": [
      "8/8 [==============================] - 1s 85ms/step - loss: 3.8963 - root_mean_squared_error: 1.9739 - val_loss: 3.9998 - val_root_mean_squared_error: 1.9999\n",
      "Epoch 3/30\n",
      "1/8 [==>...........................] - ETA: 0s - loss: 3.7125 - root_mean_squared_error: 1.9268"
     ]
    },
    {
     "name": "stderr",
     "output_type": "stream",
     "text": [
      "WARNING:absl:Found untraced functions such as _jit_compiled_convolution_op while saving (showing 1 of 1). These functions will not be directly callable after loading.\n"
     ]
    },
    {
     "name": "stdout",
     "output_type": "stream",
     "text": [
      "INFO:tensorflow:Assets written to: cnn/assets\n"
     ]
    },
    {
     "name": "stderr",
     "output_type": "stream",
     "text": [
      "INFO:tensorflow:Assets written to: cnn/assets\n"
     ]
    },
    {
     "name": "stdout",
     "output_type": "stream",
     "text": [
      "8/8 [==============================] - 1s 88ms/step - loss: 3.4382 - root_mean_squared_error: 1.8542 - val_loss: 3.5173 - val_root_mean_squared_error: 1.8755\n",
      "Epoch 4/30\n",
      "1/8 [==>...........................] - ETA: 0s - loss: 2.9126 - root_mean_squared_error: 1.7066"
     ]
    },
    {
     "name": "stderr",
     "output_type": "stream",
     "text": [
      "WARNING:absl:Found untraced functions such as _jit_compiled_convolution_op while saving (showing 1 of 1). These functions will not be directly callable after loading.\n"
     ]
    },
    {
     "name": "stdout",
     "output_type": "stream",
     "text": [
      "INFO:tensorflow:Assets written to: cnn/assets\n"
     ]
    },
    {
     "name": "stderr",
     "output_type": "stream",
     "text": [
      "INFO:tensorflow:Assets written to: cnn/assets\n"
     ]
    },
    {
     "name": "stdout",
     "output_type": "stream",
     "text": [
      "8/8 [==============================] - 1s 138ms/step - loss: 3.0192 - root_mean_squared_error: 1.7376 - val_loss: 3.0705 - val_root_mean_squared_error: 1.7523\n",
      "Epoch 5/30\n",
      "1/8 [==>...........................] - ETA: 0s - loss: 2.4808 - root_mean_squared_error: 1.5750"
     ]
    },
    {
     "name": "stderr",
     "output_type": "stream",
     "text": [
      "WARNING:absl:Found untraced functions such as _jit_compiled_convolution_op while saving (showing 1 of 1). These functions will not be directly callable after loading.\n"
     ]
    },
    {
     "name": "stdout",
     "output_type": "stream",
     "text": [
      "INFO:tensorflow:Assets written to: cnn/assets\n"
     ]
    },
    {
     "name": "stderr",
     "output_type": "stream",
     "text": [
      "INFO:tensorflow:Assets written to: cnn/assets\n"
     ]
    },
    {
     "name": "stdout",
     "output_type": "stream",
     "text": [
      "8/8 [==============================] - 1s 98ms/step - loss: 2.6373 - root_mean_squared_error: 1.6240 - val_loss: 2.6579 - val_root_mean_squared_error: 1.6303\n",
      "Epoch 6/30\n",
      "1/8 [==>...........................] - ETA: 0s - loss: 1.9857 - root_mean_squared_error: 1.4092"
     ]
    },
    {
     "name": "stderr",
     "output_type": "stream",
     "text": [
      "WARNING:absl:Found untraced functions such as _jit_compiled_convolution_op while saving (showing 1 of 1). These functions will not be directly callable after loading.\n"
     ]
    },
    {
     "name": "stdout",
     "output_type": "stream",
     "text": [
      "INFO:tensorflow:Assets written to: cnn/assets\n"
     ]
    },
    {
     "name": "stderr",
     "output_type": "stream",
     "text": [
      "INFO:tensorflow:Assets written to: cnn/assets\n"
     ]
    },
    {
     "name": "stdout",
     "output_type": "stream",
     "text": [
      "8/8 [==============================] - 1s 97ms/step - loss: 2.2815 - root_mean_squared_error: 1.5105 - val_loss: 2.2893 - val_root_mean_squared_error: 1.5131\n",
      "Epoch 7/30\n",
      "1/8 [==>...........................] - ETA: 0s - loss: 2.3098 - root_mean_squared_error: 1.5198"
     ]
    },
    {
     "name": "stderr",
     "output_type": "stream",
     "text": [
      "WARNING:absl:Found untraced functions such as _jit_compiled_convolution_op while saving (showing 1 of 1). These functions will not be directly callable after loading.\n"
     ]
    },
    {
     "name": "stdout",
     "output_type": "stream",
     "text": [
      "INFO:tensorflow:Assets written to: cnn/assets\n"
     ]
    },
    {
     "name": "stderr",
     "output_type": "stream",
     "text": [
      "INFO:tensorflow:Assets written to: cnn/assets\n"
     ]
    },
    {
     "name": "stdout",
     "output_type": "stream",
     "text": [
      "8/8 [==============================] - 1s 113ms/step - loss: 1.9733 - root_mean_squared_error: 1.4048 - val_loss: 1.9730 - val_root_mean_squared_error: 1.4046\n",
      "Epoch 8/30\n",
      "1/8 [==>...........................] - ETA: 0s - loss: 1.6306 - root_mean_squared_error: 1.2770"
     ]
    },
    {
     "name": "stderr",
     "output_type": "stream",
     "text": [
      "WARNING:absl:Found untraced functions such as _jit_compiled_convolution_op while saving (showing 1 of 1). These functions will not be directly callable after loading.\n"
     ]
    },
    {
     "name": "stdout",
     "output_type": "stream",
     "text": [
      "INFO:tensorflow:Assets written to: cnn/assets\n"
     ]
    },
    {
     "name": "stderr",
     "output_type": "stream",
     "text": [
      "INFO:tensorflow:Assets written to: cnn/assets\n"
     ]
    },
    {
     "name": "stdout",
     "output_type": "stream",
     "text": [
      "8/8 [==============================] - 1s 127ms/step - loss: 1.7114 - root_mean_squared_error: 1.3082 - val_loss: 1.7129 - val_root_mean_squared_error: 1.3088\n",
      "Epoch 9/30\n",
      "1/8 [==>...........................] - ETA: 0s - loss: 1.7297 - root_mean_squared_error: 1.3152"
     ]
    },
    {
     "name": "stderr",
     "output_type": "stream",
     "text": [
      "WARNING:absl:Found untraced functions such as _jit_compiled_convolution_op while saving (showing 1 of 1). These functions will not be directly callable after loading.\n"
     ]
    },
    {
     "name": "stdout",
     "output_type": "stream",
     "text": [
      "INFO:tensorflow:Assets written to: cnn/assets\n"
     ]
    },
    {
     "name": "stderr",
     "output_type": "stream",
     "text": [
      "INFO:tensorflow:Assets written to: cnn/assets\n"
     ]
    },
    {
     "name": "stdout",
     "output_type": "stream",
     "text": [
      "8/8 [==============================] - 1s 155ms/step - loss: 1.4933 - root_mean_squared_error: 1.2220 - val_loss: 1.5046 - val_root_mean_squared_error: 1.2266\n",
      "Epoch 10/30\n",
      "1/8 [==>...........................] - ETA: 0s - loss: 1.3328 - root_mean_squared_error: 1.1545"
     ]
    },
    {
     "name": "stderr",
     "output_type": "stream",
     "text": [
      "WARNING:absl:Found untraced functions such as _jit_compiled_convolution_op while saving (showing 1 of 1). These functions will not be directly callable after loading.\n"
     ]
    },
    {
     "name": "stdout",
     "output_type": "stream",
     "text": [
      "INFO:tensorflow:Assets written to: cnn/assets\n"
     ]
    },
    {
     "name": "stderr",
     "output_type": "stream",
     "text": [
      "INFO:tensorflow:Assets written to: cnn/assets\n"
     ]
    },
    {
     "name": "stdout",
     "output_type": "stream",
     "text": [
      "8/8 [==============================] - 2s 214ms/step - loss: 1.3262 - root_mean_squared_error: 1.1516 - val_loss: 1.3533 - val_root_mean_squared_error: 1.1633\n",
      "Epoch 11/30\n",
      "7/8 [=========================>....] - ETA: 0s - loss: 1.1940 - root_mean_squared_error: 1.0927"
     ]
    },
    {
     "name": "stderr",
     "output_type": "stream",
     "text": [
      "WARNING:absl:Found untraced functions such as _jit_compiled_convolution_op while saving (showing 1 of 1). These functions will not be directly callable after loading.\n"
     ]
    },
    {
     "name": "stdout",
     "output_type": "stream",
     "text": [
      "INFO:tensorflow:Assets written to: cnn/assets\n"
     ]
    },
    {
     "name": "stderr",
     "output_type": "stream",
     "text": [
      "INFO:tensorflow:Assets written to: cnn/assets\n"
     ]
    },
    {
     "name": "stdout",
     "output_type": "stream",
     "text": [
      "8/8 [==============================] - 1s 182ms/step - loss: 1.1992 - root_mean_squared_error: 1.0951 - val_loss: 1.2227 - val_root_mean_squared_error: 1.1058\n",
      "Epoch 12/30\n",
      "1/8 [==>...........................] - ETA: 0s - loss: 1.1048 - root_mean_squared_error: 1.0511"
     ]
    },
    {
     "name": "stderr",
     "output_type": "stream",
     "text": [
      "WARNING:absl:Found untraced functions such as _jit_compiled_convolution_op while saving (showing 1 of 1). These functions will not be directly callable after loading.\n"
     ]
    },
    {
     "name": "stdout",
     "output_type": "stream",
     "text": [
      "INFO:tensorflow:Assets written to: cnn/assets\n"
     ]
    },
    {
     "name": "stderr",
     "output_type": "stream",
     "text": [
      "INFO:tensorflow:Assets written to: cnn/assets\n"
     ]
    },
    {
     "name": "stdout",
     "output_type": "stream",
     "text": [
      "8/8 [==============================] - 1s 164ms/step - loss: 1.0856 - root_mean_squared_error: 1.0419 - val_loss: 1.1036 - val_root_mean_squared_error: 1.0505\n",
      "Epoch 13/30\n",
      "1/8 [==>...........................] - ETA: 0s - loss: 0.9288 - root_mean_squared_error: 0.9638"
     ]
    },
    {
     "name": "stderr",
     "output_type": "stream",
     "text": [
      "WARNING:absl:Found untraced functions such as _jit_compiled_convolution_op while saving (showing 1 of 1). These functions will not be directly callable after loading.\n"
     ]
    },
    {
     "name": "stdout",
     "output_type": "stream",
     "text": [
      "INFO:tensorflow:Assets written to: cnn/assets\n"
     ]
    },
    {
     "name": "stderr",
     "output_type": "stream",
     "text": [
      "INFO:tensorflow:Assets written to: cnn/assets\n"
     ]
    },
    {
     "name": "stdout",
     "output_type": "stream",
     "text": [
      "8/8 [==============================] - 1s 143ms/step - loss: 0.9832 - root_mean_squared_error: 0.9916 - val_loss: 0.9984 - val_root_mean_squared_error: 0.9992\n",
      "Epoch 14/30\n",
      "1/8 [==>...........................] - ETA: 0s - loss: 0.9492 - root_mean_squared_error: 0.9743"
     ]
    },
    {
     "name": "stderr",
     "output_type": "stream",
     "text": [
      "WARNING:absl:Found untraced functions such as _jit_compiled_convolution_op while saving (showing 1 of 1). These functions will not be directly callable after loading.\n"
     ]
    },
    {
     "name": "stdout",
     "output_type": "stream",
     "text": [
      "INFO:tensorflow:Assets written to: cnn/assets\n"
     ]
    },
    {
     "name": "stderr",
     "output_type": "stream",
     "text": [
      "INFO:tensorflow:Assets written to: cnn/assets\n"
     ]
    },
    {
     "name": "stdout",
     "output_type": "stream",
     "text": [
      "8/8 [==============================] - 1s 118ms/step - loss: 0.8930 - root_mean_squared_error: 0.9450 - val_loss: 0.9001 - val_root_mean_squared_error: 0.9487\n",
      "Epoch 15/30\n",
      "1/8 [==>...........................] - ETA: 0s - loss: 0.9180 - root_mean_squared_error: 0.9581"
     ]
    },
    {
     "name": "stderr",
     "output_type": "stream",
     "text": [
      "WARNING:absl:Found untraced functions such as _jit_compiled_convolution_op while saving (showing 1 of 1). These functions will not be directly callable after loading.\n"
     ]
    },
    {
     "name": "stdout",
     "output_type": "stream",
     "text": [
      "INFO:tensorflow:Assets written to: cnn/assets\n"
     ]
    },
    {
     "name": "stderr",
     "output_type": "stream",
     "text": [
      "INFO:tensorflow:Assets written to: cnn/assets\n"
     ]
    },
    {
     "name": "stdout",
     "output_type": "stream",
     "text": [
      "8/8 [==============================] - 1s 132ms/step - loss: 0.8055 - root_mean_squared_error: 0.8975 - val_loss: 0.8074 - val_root_mean_squared_error: 0.8985\n",
      "Epoch 16/30\n",
      "1/8 [==>...........................] - ETA: 0s - loss: 0.9329 - root_mean_squared_error: 0.9659"
     ]
    },
    {
     "name": "stderr",
     "output_type": "stream",
     "text": [
      "WARNING:absl:Found untraced functions such as _jit_compiled_convolution_op while saving (showing 1 of 1). These functions will not be directly callable after loading.\n"
     ]
    },
    {
     "name": "stdout",
     "output_type": "stream",
     "text": [
      "INFO:tensorflow:Assets written to: cnn/assets\n"
     ]
    },
    {
     "name": "stderr",
     "output_type": "stream",
     "text": [
      "INFO:tensorflow:Assets written to: cnn/assets\n"
     ]
    },
    {
     "name": "stdout",
     "output_type": "stream",
     "text": [
      "8/8 [==============================] - 1s 120ms/step - loss: 0.7242 - root_mean_squared_error: 0.8510 - val_loss: 0.7191 - val_root_mean_squared_error: 0.8480\n",
      "Epoch 17/30\n",
      "1/8 [==>...........................] - ETA: 0s - loss: 0.7140 - root_mean_squared_error: 0.8450"
     ]
    },
    {
     "name": "stderr",
     "output_type": "stream",
     "text": [
      "WARNING:absl:Found untraced functions such as _jit_compiled_convolution_op while saving (showing 1 of 1). These functions will not be directly callable after loading.\n"
     ]
    },
    {
     "name": "stdout",
     "output_type": "stream",
     "text": [
      "INFO:tensorflow:Assets written to: cnn/assets\n"
     ]
    },
    {
     "name": "stderr",
     "output_type": "stream",
     "text": [
      "INFO:tensorflow:Assets written to: cnn/assets\n"
     ]
    },
    {
     "name": "stdout",
     "output_type": "stream",
     "text": [
      "8/8 [==============================] - 1s 152ms/step - loss: 0.6467 - root_mean_squared_error: 0.8042 - val_loss: 0.6383 - val_root_mean_squared_error: 0.7989\n",
      "Epoch 18/30\n",
      "1/8 [==>...........................] - ETA: 0s - loss: 0.5443 - root_mean_squared_error: 0.7378"
     ]
    },
    {
     "name": "stderr",
     "output_type": "stream",
     "text": [
      "WARNING:absl:Found untraced functions such as _jit_compiled_convolution_op while saving (showing 1 of 1). These functions will not be directly callable after loading.\n"
     ]
    },
    {
     "name": "stdout",
     "output_type": "stream",
     "text": [
      "INFO:tensorflow:Assets written to: cnn/assets\n"
     ]
    },
    {
     "name": "stderr",
     "output_type": "stream",
     "text": [
      "INFO:tensorflow:Assets written to: cnn/assets\n"
     ]
    },
    {
     "name": "stdout",
     "output_type": "stream",
     "text": [
      "8/8 [==============================] - 1s 111ms/step - loss: 0.5758 - root_mean_squared_error: 0.7588 - val_loss: 0.5665 - val_root_mean_squared_error: 0.7526\n",
      "Epoch 19/30\n",
      "1/8 [==>...........................] - ETA: 0s - loss: 0.5893 - root_mean_squared_error: 0.7677"
     ]
    },
    {
     "name": "stderr",
     "output_type": "stream",
     "text": [
      "WARNING:absl:Found untraced functions such as _jit_compiled_convolution_op while saving (showing 1 of 1). These functions will not be directly callable after loading.\n"
     ]
    },
    {
     "name": "stdout",
     "output_type": "stream",
     "text": [
      "INFO:tensorflow:Assets written to: cnn/assets\n"
     ]
    },
    {
     "name": "stderr",
     "output_type": "stream",
     "text": [
      "INFO:tensorflow:Assets written to: cnn/assets\n"
     ]
    },
    {
     "name": "stdout",
     "output_type": "stream",
     "text": [
      "8/8 [==============================] - 1s 136ms/step - loss: 0.5138 - root_mean_squared_error: 0.7168 - val_loss: 0.5010 - val_root_mean_squared_error: 0.7078\n",
      "Epoch 20/30\n",
      "1/8 [==>...........................] - ETA: 0s - loss: 0.4005 - root_mean_squared_error: 0.6328"
     ]
    },
    {
     "name": "stderr",
     "output_type": "stream",
     "text": [
      "WARNING:absl:Found untraced functions such as _jit_compiled_convolution_op while saving (showing 1 of 1). These functions will not be directly callable after loading.\n"
     ]
    },
    {
     "name": "stdout",
     "output_type": "stream",
     "text": [
      "INFO:tensorflow:Assets written to: cnn/assets\n"
     ]
    },
    {
     "name": "stderr",
     "output_type": "stream",
     "text": [
      "INFO:tensorflow:Assets written to: cnn/assets\n"
     ]
    },
    {
     "name": "stdout",
     "output_type": "stream",
     "text": [
      "8/8 [==============================] - 1s 152ms/step - loss: 0.4558 - root_mean_squared_error: 0.6751 - val_loss: 0.4436 - val_root_mean_squared_error: 0.6660\n",
      "Epoch 21/30\n",
      "1/8 [==>...........................] - ETA: 0s - loss: 0.4178 - root_mean_squared_error: 0.6464"
     ]
    },
    {
     "name": "stderr",
     "output_type": "stream",
     "text": [
      "WARNING:absl:Found untraced functions such as _jit_compiled_convolution_op while saving (showing 1 of 1). These functions will not be directly callable after loading.\n"
     ]
    },
    {
     "name": "stdout",
     "output_type": "stream",
     "text": [
      "INFO:tensorflow:Assets written to: cnn/assets\n"
     ]
    },
    {
     "name": "stderr",
     "output_type": "stream",
     "text": [
      "INFO:tensorflow:Assets written to: cnn/assets\n"
     ]
    },
    {
     "name": "stdout",
     "output_type": "stream",
     "text": [
      "8/8 [==============================] - 2s 246ms/step - loss: 0.4058 - root_mean_squared_error: 0.6370 - val_loss: 0.3887 - val_root_mean_squared_error: 0.6234\n",
      "Epoch 22/30\n",
      "1/8 [==>...........................] - ETA: 0s - loss: 0.3923 - root_mean_squared_error: 0.6264"
     ]
    },
    {
     "name": "stderr",
     "output_type": "stream",
     "text": [
      "WARNING:absl:Found untraced functions such as _jit_compiled_convolution_op while saving (showing 1 of 1). These functions will not be directly callable after loading.\n"
     ]
    },
    {
     "name": "stdout",
     "output_type": "stream",
     "text": [
      "INFO:tensorflow:Assets written to: cnn/assets\n"
     ]
    },
    {
     "name": "stderr",
     "output_type": "stream",
     "text": [
      "INFO:tensorflow:Assets written to: cnn/assets\n"
     ]
    },
    {
     "name": "stdout",
     "output_type": "stream",
     "text": [
      "8/8 [==============================] - 2s 289ms/step - loss: 0.3580 - root_mean_squared_error: 0.5983 - val_loss: 0.3402 - val_root_mean_squared_error: 0.5833\n",
      "Epoch 23/30\n",
      "1/8 [==>...........................] - ETA: 0s - loss: 0.3441 - root_mean_squared_error: 0.5866"
     ]
    },
    {
     "name": "stderr",
     "output_type": "stream",
     "text": [
      "WARNING:absl:Found untraced functions such as _jit_compiled_convolution_op while saving (showing 1 of 1). These functions will not be directly callable after loading.\n"
     ]
    },
    {
     "name": "stdout",
     "output_type": "stream",
     "text": [
      "INFO:tensorflow:Assets written to: cnn/assets\n"
     ]
    },
    {
     "name": "stderr",
     "output_type": "stream",
     "text": [
      "INFO:tensorflow:Assets written to: cnn/assets\n"
     ]
    },
    {
     "name": "stdout",
     "output_type": "stream",
     "text": [
      "8/8 [==============================] - 2s 295ms/step - loss: 0.3152 - root_mean_squared_error: 0.5614 - val_loss: 0.2969 - val_root_mean_squared_error: 0.5449\n",
      "Epoch 24/30\n",
      "1/8 [==>...........................] - ETA: 0s - loss: 0.2506 - root_mean_squared_error: 0.5006"
     ]
    },
    {
     "name": "stderr",
     "output_type": "stream",
     "text": [
      "WARNING:absl:Found untraced functions such as _jit_compiled_convolution_op while saving (showing 1 of 1). These functions will not be directly callable after loading.\n"
     ]
    },
    {
     "name": "stdout",
     "output_type": "stream",
     "text": [
      "INFO:tensorflow:Assets written to: cnn/assets\n"
     ]
    },
    {
     "name": "stderr",
     "output_type": "stream",
     "text": [
      "INFO:tensorflow:Assets written to: cnn/assets\n"
     ]
    },
    {
     "name": "stdout",
     "output_type": "stream",
     "text": [
      "8/8 [==============================] - 1s 111ms/step - loss: 0.2772 - root_mean_squared_error: 0.5265 - val_loss: 0.2578 - val_root_mean_squared_error: 0.5077\n",
      "Epoch 25/30\n",
      "1/8 [==>...........................] - ETA: 0s - loss: 0.2532 - root_mean_squared_error: 0.5032"
     ]
    },
    {
     "name": "stderr",
     "output_type": "stream",
     "text": [
      "WARNING:absl:Found untraced functions such as _jit_compiled_convolution_op while saving (showing 1 of 1). These functions will not be directly callable after loading.\n"
     ]
    },
    {
     "name": "stdout",
     "output_type": "stream",
     "text": [
      "INFO:tensorflow:Assets written to: cnn/assets\n"
     ]
    },
    {
     "name": "stderr",
     "output_type": "stream",
     "text": [
      "INFO:tensorflow:Assets written to: cnn/assets\n"
     ]
    },
    {
     "name": "stdout",
     "output_type": "stream",
     "text": [
      "8/8 [==============================] - 1s 141ms/step - loss: 0.2422 - root_mean_squared_error: 0.4922 - val_loss: 0.2237 - val_root_mean_squared_error: 0.4730\n",
      "Epoch 26/30\n",
      "1/8 [==>...........................] - ETA: 0s - loss: 0.3094 - root_mean_squared_error: 0.5562"
     ]
    },
    {
     "name": "stderr",
     "output_type": "stream",
     "text": [
      "WARNING:absl:Found untraced functions such as _jit_compiled_convolution_op while saving (showing 1 of 1). These functions will not be directly callable after loading.\n"
     ]
    },
    {
     "name": "stdout",
     "output_type": "stream",
     "text": [
      "INFO:tensorflow:Assets written to: cnn/assets\n"
     ]
    },
    {
     "name": "stderr",
     "output_type": "stream",
     "text": [
      "INFO:tensorflow:Assets written to: cnn/assets\n"
     ]
    },
    {
     "name": "stdout",
     "output_type": "stream",
     "text": [
      "8/8 [==============================] - 1s 193ms/step - loss: 0.2123 - root_mean_squared_error: 0.4607 - val_loss: 0.1924 - val_root_mean_squared_error: 0.4386\n",
      "Epoch 27/30\n",
      "1/8 [==>...........................] - ETA: 0s - loss: 0.1885 - root_mean_squared_error: 0.4342"
     ]
    },
    {
     "name": "stderr",
     "output_type": "stream",
     "text": [
      "WARNING:absl:Found untraced functions such as _jit_compiled_convolution_op while saving (showing 1 of 1). These functions will not be directly callable after loading.\n"
     ]
    },
    {
     "name": "stdout",
     "output_type": "stream",
     "text": [
      "INFO:tensorflow:Assets written to: cnn/assets\n"
     ]
    },
    {
     "name": "stderr",
     "output_type": "stream",
     "text": [
      "INFO:tensorflow:Assets written to: cnn/assets\n"
     ]
    },
    {
     "name": "stdout",
     "output_type": "stream",
     "text": [
      "8/8 [==============================] - 1s 169ms/step - loss: 0.1846 - root_mean_squared_error: 0.4296 - val_loss: 0.1648 - val_root_mean_squared_error: 0.4059\n",
      "Epoch 28/30\n",
      "1/8 [==>...........................] - ETA: 0s - loss: 0.2181 - root_mean_squared_error: 0.4670"
     ]
    },
    {
     "name": "stderr",
     "output_type": "stream",
     "text": [
      "WARNING:absl:Found untraced functions such as _jit_compiled_convolution_op while saving (showing 1 of 1). These functions will not be directly callable after loading.\n"
     ]
    },
    {
     "name": "stdout",
     "output_type": "stream",
     "text": [
      "INFO:tensorflow:Assets written to: cnn/assets\n"
     ]
    },
    {
     "name": "stderr",
     "output_type": "stream",
     "text": [
      "INFO:tensorflow:Assets written to: cnn/assets\n"
     ]
    },
    {
     "name": "stdout",
     "output_type": "stream",
     "text": [
      "8/8 [==============================] - 1s 213ms/step - loss: 0.1598 - root_mean_squared_error: 0.3997 - val_loss: 0.1402 - val_root_mean_squared_error: 0.3745\n",
      "Epoch 29/30\n",
      "1/8 [==>...........................] - ETA: 0s - loss: 0.1363 - root_mean_squared_error: 0.3692"
     ]
    },
    {
     "name": "stderr",
     "output_type": "stream",
     "text": [
      "WARNING:absl:Found untraced functions such as _jit_compiled_convolution_op while saving (showing 1 of 1). These functions will not be directly callable after loading.\n"
     ]
    },
    {
     "name": "stdout",
     "output_type": "stream",
     "text": [
      "INFO:tensorflow:Assets written to: cnn/assets\n"
     ]
    },
    {
     "name": "stderr",
     "output_type": "stream",
     "text": [
      "INFO:tensorflow:Assets written to: cnn/assets\n"
     ]
    },
    {
     "name": "stdout",
     "output_type": "stream",
     "text": [
      "8/8 [==============================] - 1s 142ms/step - loss: 0.1383 - root_mean_squared_error: 0.3719 - val_loss: 0.1192 - val_root_mean_squared_error: 0.3453\n",
      "Epoch 30/30\n",
      "1/8 [==>...........................] - ETA: 0s - loss: 0.1228 - root_mean_squared_error: 0.3504"
     ]
    },
    {
     "name": "stderr",
     "output_type": "stream",
     "text": [
      "WARNING:absl:Found untraced functions such as _jit_compiled_convolution_op while saving (showing 1 of 1). These functions will not be directly callable after loading.\n"
     ]
    },
    {
     "name": "stdout",
     "output_type": "stream",
     "text": [
      "INFO:tensorflow:Assets written to: cnn/assets\n"
     ]
    },
    {
     "name": "stderr",
     "output_type": "stream",
     "text": [
      "INFO:tensorflow:Assets written to: cnn/assets\n"
     ]
    },
    {
     "name": "stdout",
     "output_type": "stream",
     "text": [
      "8/8 [==============================] - 3s 371ms/step - loss: 0.1201 - root_mean_squared_error: 0.3465 - val_loss: 0.1020 - val_root_mean_squared_error: 0.3194\n",
      "8/8 [==============================] - 1s 6ms/step\n"
     ]
    },
    {
     "data": {
      "image/png": "[encoded data removed]",
      "text/plain": [
       "<Figure size 432x288 with 1 Axes>"
      ]
     },
     "metadata": {
      "needs_background": "light"
     },
     "output_type": "display_data"
    },
    {
     "name": "stdout",
     "output_type": "stream",
     "text": [
      "2/2 [==============================] - 0s 3ms/step\n"
     ]
    },
    {
     "data": {
      "image/png": "[encoded data removed]",
      "text/plain": [
       "<Figure size 432x288 with 1 Axes>"
      ]
     },
     "metadata": {
      "needs_background": "light"
     },
     "output_type": "display_data"
    },
    {
     "name": "stdout",
     "output_type": "stream",
     "text": [
      "3/3 [==============================] - 0s 8ms/step\n"
     ]
    },
    {
     "data": {
      "image/png": "[encoded data removed]",
      "text/plain": [
       "<Figure size 432x288 with 1 Axes>"
      ]
     },
     "metadata": {
      "needs_background": "light"
     },
     "output_type": "display_data"
    },
    {
     "name": "stdout",
     "output_type": "stream",
     "text": [
      "3/3 [==============================] - 0s 3ms/step\n"
     ]
    },
    {
     "data": {
      "image/png": "[encoded data removed]",
      "text/plain": [
       "<Figure size 432x288 with 1 Axes>"
      ]
     },
     "metadata": {
      "needs_background": "light"
     },
     "output_type": "display_data"
    }
   ],
   "source": [
    "model = Sequential()\n",
    "model.add(InputLayer((3, 1)))\n",
    "model.add(Conv1D(64, kernel_size=2))\n",
    "model.add(Flatten())\n",
    "model.add(Dense(8, 'relu'))\n",
    "model.add(Dense(1, 'linear'))\n",
    "\n",
    "\n",
    "\n",
    "cp = ModelCheckpoint('cnn/', save_best_only=True)\n",
    "\n",
    "model = fit_model(model, cp, epochs, x_train, y_train, x_val, y_val)\n",
    "\n",
    "plot_train(\"cnn\", 50, x_train, y_train)\n",
    "plot_val(model, 50, x_val, y_val)\n",
    "plot_test(model, 50, x_test, y_test)\n",
    "cnn_mse = plot_predictions1(model,x_test, y_test)"
   ]
  },
  {
   "cell_type": "markdown",
   "id": "ab780640",
   "metadata": {
    "id": "f8a6f749-830e-433c-8169-dfb229ac48b5"
   },
   "source": [
    "### GRU"
   ]
  },
  {
   "cell_type": "code",
   "execution_count": null,
   "id": "ff5eeb6c",
   "metadata": {
    "colab": {
     "base_uri": "https://localhost:8080/",
     "height": 1000
    },
    "executionInfo": {
     "elapsed": 208120,
     "status": "ok",
     "timestamp": 1709589180106,
     "user": {
      "displayName": "Rakib H Hridoy",
      "userId": "11427915455487036903"
     },
     "user_tz": -360
    },
    "id": "339a87c6-549a-4a36-961b-9fcc9d5fc2b3",
    "outputId": "7eff3bcb-b8b2-417c-8dab-60fb6044565e"
   },
   "outputs": [
    {
     "name": "stdout",
     "output_type": "stream",
     "text": [
      "Epoch 1/30\n",
      "1/8 [==>...........................] - ETA: 53s - loss: 2.9915 - root_mean_squared_error: 1.7296"
     ]
    },
    {
     "name": "stderr",
     "output_type": "stream",
     "text": [
      "WARNING:absl:Found untraced functions such as gru_cell_layer_call_fn, gru_cell_layer_call_and_return_conditional_losses while saving (showing 2 of 2). These functions will not be directly callable after loading.\n"
     ]
    },
    {
     "name": "stdout",
     "output_type": "stream",
     "text": [
      "INFO:tensorflow:Assets written to: gru/assets\n"
     ]
    },
    {
     "name": "stderr",
     "output_type": "stream",
     "text": [
      "INFO:tensorflow:Assets written to: gru/assets\n"
     ]
    },
    {
     "name": "stdout",
     "output_type": "stream",
     "text": [
      "8/8 [==============================] - 23s 2s/step - loss: 2.8004 - root_mean_squared_error: 1.6734 - val_loss: 2.9942 - val_root_mean_squared_error: 1.7304\n",
      "Epoch 2/30\n",
      "8/8 [==============================] - ETA: 0s - loss: 2.6377 - root_mean_squared_error: 1.6241"
     ]
    },
    {
     "name": "stderr",
     "output_type": "stream",
     "text": [
      "WARNING:absl:Found untraced functions such as gru_cell_layer_call_fn, gru_cell_layer_call_and_return_conditional_losses while saving (showing 2 of 2). These functions will not be directly callable after loading.\n"
     ]
    },
    {
     "name": "stdout",
     "output_type": "stream",
     "text": [
      "INFO:tensorflow:Assets written to: gru/assets\n"
     ]
    },
    {
     "name": "stderr",
     "output_type": "stream",
     "text": [
      "INFO:tensorflow:Assets written to: gru/assets\n"
     ]
    },
    {
     "name": "stdout",
     "output_type": "stream",
     "text": [
      "8/8 [==============================] - 12s 2s/step - loss: 2.6377 - root_mean_squared_error: 1.6241 - val_loss: 2.8153 - val_root_mean_squared_error: 1.6779\n",
      "Epoch 3/30\n",
      "7/8 [=========================>....] - ETA: 0s - loss: 2.4866 - root_mean_squared_error: 1.5769"
     ]
    },
    {
     "name": "stderr",
     "output_type": "stream",
     "text": [
      "WARNING:absl:Found untraced functions such as gru_cell_layer_call_fn, gru_cell_layer_call_and_return_conditional_losses while saving (showing 2 of 2). These functions will not be directly callable after loading.\n"
     ]
    },
    {
     "name": "stdout",
     "output_type": "stream",
     "text": [
      "INFO:tensorflow:Assets written to: gru/assets\n"
     ]
    },
    {
     "name": "stderr",
     "output_type": "stream",
     "text": [
      "INFO:tensorflow:Assets written to: gru/assets\n"
     ]
    },
    {
     "name": "stdout",
     "output_type": "stream",
     "text": [
      "8/8 [==============================] - 16s 2s/step - loss: 2.4754 - root_mean_squared_error: 1.5733 - val_loss: 2.6388 - val_root_mean_squared_error: 1.6244\n",
      "Epoch 4/30\n",
      "6/8 [=====================>........] - ETA: 0s - loss: 2.4144 - root_mean_squared_error: 1.5538"
     ]
    },
    {
     "name": "stderr",
     "output_type": "stream",
     "text": [
      "WARNING:absl:Found untraced functions such as gru_cell_layer_call_fn, gru_cell_layer_call_and_return_conditional_losses while saving (showing 2 of 2). These functions will not be directly callable after loading.\n"
     ]
    },
    {
     "name": "stdout",
     "output_type": "stream",
     "text": [
      "INFO:tensorflow:Assets written to: gru/assets\n"
     ]
    },
    {
     "name": "stderr",
     "output_type": "stream",
     "text": [
      "INFO:tensorflow:Assets written to: gru/assets\n"
     ]
    },
    {
     "name": "stdout",
     "output_type": "stream",
     "text": [
      "8/8 [==============================] - 14s 2s/step - loss: 2.3217 - root_mean_squared_error: 1.5237 - val_loss: 2.4652 - val_root_mean_squared_error: 1.5701\n",
      "Epoch 5/30\n",
      "6/8 [=====================>........] - ETA: 0s - loss: 2.1741 - root_mean_squared_error: 1.4745"
     ]
    },
    {
     "name": "stderr",
     "output_type": "stream",
     "text": [
      "WARNING:absl:Found untraced functions such as gru_cell_layer_call_fn, gru_cell_layer_call_and_return_conditional_losses while saving (showing 2 of 2). These functions will not be directly callable after loading.\n"
     ]
    },
    {
     "name": "stdout",
     "output_type": "stream",
     "text": [
      "INFO:tensorflow:Assets written to: gru/assets\n"
     ]
    },
    {
     "name": "stderr",
     "output_type": "stream",
     "text": [
      "INFO:tensorflow:Assets written to: gru/assets\n"
     ]
    },
    {
     "name": "stdout",
     "output_type": "stream",
     "text": [
      "8/8 [==============================] - 44s 6s/step - loss: 2.1673 - root_mean_squared_error: 1.4722 - val_loss: 2.2983 - val_root_mean_squared_error: 1.5160\n",
      "Epoch 6/30\n",
      "8/8 [==============================] - ETA: 0s - loss: 2.0180 - root_mean_squared_error: 1.4206"
     ]
    },
    {
     "name": "stderr",
     "output_type": "stream",
     "text": [
      "WARNING:absl:Found untraced functions such as gru_cell_layer_call_fn, gru_cell_layer_call_and_return_conditional_losses while saving (showing 2 of 2). These functions will not be directly callable after loading.\n"
     ]
    },
    {
     "name": "stdout",
     "output_type": "stream",
     "text": [
      "INFO:tensorflow:Assets written to: gru/assets\n"
     ]
    },
    {
     "name": "stderr",
     "output_type": "stream",
     "text": [
      "INFO:tensorflow:Assets written to: gru/assets\n"
     ]
    },
    {
     "name": "stdout",
     "output_type": "stream",
     "text": [
      "8/8 [==============================] - 26s 4s/step - loss: 2.0180 - root_mean_squared_error: 1.4206 - val_loss: 2.1341 - val_root_mean_squared_error: 1.4609\n",
      "Epoch 7/30\n",
      "6/8 [=====================>........] - ETA: 0s - loss: 1.8558 - root_mean_squared_error: 1.3623"
     ]
    },
    {
     "name": "stderr",
     "output_type": "stream",
     "text": [
      "WARNING:absl:Found untraced functions such as gru_cell_layer_call_fn, gru_cell_layer_call_and_return_conditional_losses while saving (showing 2 of 2). These functions will not be directly callable after loading.\n"
     ]
    },
    {
     "name": "stdout",
     "output_type": "stream",
     "text": [
      "INFO:tensorflow:Assets written to: gru/assets\n"
     ]
    },
    {
     "name": "stderr",
     "output_type": "stream",
     "text": [
      "INFO:tensorflow:Assets written to: gru/assets\n"
     ]
    },
    {
     "name": "stdout",
     "output_type": "stream",
     "text": [
      "8/8 [==============================] - 73s 10s/step - loss: 1.8719 - root_mean_squared_error: 1.3682 - val_loss: 1.9734 - val_root_mean_squared_error: 1.4048\n",
      "Epoch 8/30\n",
      "8/8 [==============================] - ETA: 0s - loss: 1.7329 - root_mean_squared_error: 1.3164"
     ]
    },
    {
     "name": "stderr",
     "output_type": "stream",
     "text": [
      "WARNING:absl:Found untraced functions such as gru_cell_layer_call_fn, gru_cell_layer_call_and_return_conditional_losses while saving (showing 2 of 2). These functions will not be directly callable after loading.\n"
     ]
    },
    {
     "name": "stdout",
     "output_type": "stream",
     "text": [
      "INFO:tensorflow:Assets written to: gru/assets\n"
     ]
    },
    {
     "name": "stderr",
     "output_type": "stream",
     "text": [
      "INFO:tensorflow:Assets written to: gru/assets\n"
     ]
    },
    {
     "name": "stdout",
     "output_type": "stream",
     "text": [
      "8/8 [==============================] - 42s 6s/step - loss: 1.7329 - root_mean_squared_error: 1.3164 - val_loss: 1.8169 - val_root_mean_squared_error: 1.3479\n",
      "Epoch 9/30\n",
      "4/8 [==============>...............] - ETA: 0s - loss: 1.5000 - root_mean_squared_error: 1.2247"
     ]
    },
    {
     "name": "stderr",
     "output_type": "stream",
     "text": [
      "WARNING:absl:Found untraced functions such as gru_cell_layer_call_fn, gru_cell_layer_call_and_return_conditional_losses while saving (showing 2 of 2). These functions will not be directly callable after loading.\n"
     ]
    },
    {
     "name": "stdout",
     "output_type": "stream",
     "text": [
      "INFO:tensorflow:Assets written to: gru/assets\n"
     ]
    },
    {
     "name": "stderr",
     "output_type": "stream",
     "text": [
      "INFO:tensorflow:Assets written to: gru/assets\n"
     ]
    },
    {
     "name": "stdout",
     "output_type": "stream",
     "text": [
      "8/8 [==============================] - 38s 5s/step - loss: 1.5917 - root_mean_squared_error: 1.2616 - val_loss: 1.6673 - val_root_mean_squared_error: 1.2912\n",
      "Epoch 10/30\n",
      "8/8 [==============================] - ETA: 0s - loss: 1.4601 - root_mean_squared_error: 1.2083"
     ]
    },
    {
     "name": "stderr",
     "output_type": "stream",
     "text": [
      "WARNING:absl:Found untraced functions such as gru_cell_layer_call_fn, gru_cell_layer_call_and_return_conditional_losses while saving (showing 2 of 2). These functions will not be directly callable after loading.\n"
     ]
    },
    {
     "name": "stdout",
     "output_type": "stream",
     "text": [
      "INFO:tensorflow:Assets written to: gru/assets\n"
     ]
    },
    {
     "name": "stderr",
     "output_type": "stream",
     "text": [
      "INFO:tensorflow:Assets written to: gru/assets\n"
     ]
    },
    {
     "name": "stdout",
     "output_type": "stream",
     "text": [
      "8/8 [==============================] - 26s 4s/step - loss: 1.4601 - root_mean_squared_error: 1.2083 - val_loss: 1.5185 - val_root_mean_squared_error: 1.2323\n",
      "Epoch 11/30\n",
      "7/8 [=========================>....] - ETA: 0s - loss: 1.3300 - root_mean_squared_error: 1.1532"
     ]
    },
    {
     "name": "stderr",
     "output_type": "stream",
     "text": [
      "WARNING:absl:Found untraced functions such as gru_cell_layer_call_fn, gru_cell_layer_call_and_return_conditional_losses while saving (showing 2 of 2). These functions will not be directly callable after loading.\n"
     ]
    },
    {
     "name": "stdout",
     "output_type": "stream",
     "text": [
      "INFO:tensorflow:Assets written to: gru/assets\n"
     ]
    },
    {
     "name": "stderr",
     "output_type": "stream",
     "text": [
      "INFO:tensorflow:Assets written to: gru/assets\n"
     ]
    },
    {
     "name": "stdout",
     "output_type": "stream",
     "text": [
      "8/8 [==============================] - 14s 2s/step - loss: 1.3300 - root_mean_squared_error: 1.1533 - val_loss: 1.3770 - val_root_mean_squared_error: 1.1734\n",
      "Epoch 12/30\n",
      "6/8 [=====================>........] - ETA: 0s - loss: 1.1929 - root_mean_squared_error: 1.0922"
     ]
    }
   ],
   "source": [
    "model = keras.Sequential([\n",
    "    layers.GRU(units=64, input_shape=(3, 1)),\n",
    "    layers.Dense(units=1)\n",
    "])\n",
    "\n",
    "model.compile(loss='mean_squared_error', optimizer='adam')\n",
    "\n",
    "cp = ModelCheckpoint('gru/', save_best_only=True)\n",
    "model = fit_model(model, cp, epochs, x_train, y_train, x_val, y_val)\n",
    "\n",
    "plot_train(\"gru\", 50, x_train, y_train)\n",
    "plot_val(model, 50, x_val, y_val)\n",
    "plot_test(model, 50, x_test, y_test)\n",
    "gru_mse = plot_predictions1(model,x_test, y_test)"
   ]
  },
  {
   "cell_type": "markdown",
   "id": "ac33d037",
   "metadata": {
    "id": "b04e9cad-6de4-4a34-b473-278ff67ae813"
   },
   "source": [
    "### LSTM"
   ]
  },
  {
   "cell_type": "code",
   "execution_count": null,
   "id": "d1d4c69e",
   "metadata": {
    "colab": {
     "base_uri": "https://localhost:8080/",
     "height": 1000
    },
    "executionInfo": {
     "elapsed": 214229,
     "status": "ok",
     "timestamp": 1709589394323,
     "user": {
      "displayName": "Rakib H Hridoy",
      "userId": "11427915455487036903"
     },
     "user_tz": -360
    },
    "id": "0d0a65de-3086-46b9-a4cc-909970f64bb2",
    "outputId": "d6ac15ab-778a-4155-88ae-981e34b1a290"
   },
   "outputs": [],
   "source": [
    "model = Sequential()\n",
    "model.add(InputLayer((3, 1)))\n",
    "model.add(LSTM(64))\n",
    "model.add(Dense(8, 'relu'))\n",
    "model.add(Dense(1, 'linear'))\n",
    "\n",
    "cp = ModelCheckpoint('lstm/', save_best_only=True)\n",
    "model = fit_model(model, cp, epochs, x_train, y_train, x_val, y_val)\n",
    "\n",
    "\n",
    "plot_train(\"lstm\", 50, x_train, y_train)\n",
    "plot_val(model, 50, x_val, y_val)\n",
    "plot_test(model, 50, x_test, y_test)\n",
    "lstm_mse = plot_predictions1(model,x_test, y_test)"
   ]
  },
  {
   "cell_type": "markdown",
   "id": "29c28ed3",
   "metadata": {
    "id": "f026be61-c1e7-4c4b-bb0f-730b396eaa0a"
   },
   "source": [
    "### RNN"
   ]
  },
  {
   "cell_type": "code",
   "execution_count": null,
   "id": "3770c446",
   "metadata": {
    "colab": {
     "background_save": true,
     "base_uri": "https://localhost:8080/",
     "height": 1000
    },
    "executionInfo": {
     "elapsed": 86660,
     "status": "ok",
     "timestamp": 1709589539620,
     "user": {
      "displayName": "Rakib H Hridoy",
      "userId": "11427915455487036903"
     },
     "user_tz": -360
    },
    "id": "d4a96d4e-376b-4593-923a-85777ba0ac4c",
    "outputId": "96e3160b-8ee4-4fbf-8750-e273585ec91f"
   },
   "outputs": [],
   "source": [
    "model = keras.Sequential([\n",
    "    layers.SimpleRNN(units=64, input_shape=(3, 1)),\n",
    "    layers.Dense(units=1)\n",
    "])\n",
    "\n",
    "model.compile(loss='mean_squared_error', optimizer='adam')\n",
    "\n",
    "cp = ModelCheckpoint('rnn/', save_best_only=True)\n",
    "model = fit_model(model, cp, epochs, x_train, y_train, x_val, y_val)\n",
    "\n",
    "plot_train(\"rnn\", 50, x_train, y_train)\n",
    "plot_val(model, 50, x_val, y_val)\n",
    "plot_test(model, 50, x_test, y_test)\n",
    "rnn_mse = plot_predictions1(model,x_test, y_test)"
   ]
  },
  {
   "cell_type": "markdown",
   "id": "f2f4825b",
   "metadata": {
    "id": "5b36e8fa-5344-4148-892b-ca9fe008c719"
   },
   "source": [
    "# Moving Average"
   ]
  },
  {
   "cell_type": "code",
   "execution_count": null,
   "id": "d6e8fe6e",
   "metadata": {
    "colab": {
     "background_save": true
    },
    "id": "b5132375-1d78-4767-8c5a-e7fb931a4595"
   },
   "outputs": [],
   "source": [
    "window_size = 3\n",
    "\n",
    "def moving_average(data, window_size):\n",
    "    cumsum = np.cumsum(data, axis=0)\n",
    "    cumsum[window_size:] = cumsum[window_size:] - cumsum[:-window_size]\n",
    "    return cumsum[window_size - 1:] / window_size\n",
    "\n",
    "moving_avg_data = np.apply_along_axis(lambda x: moving_average(x, window_size), axis=0, arr=x_train)\n",
    "target = y_train[window_size - 1:].flatten()"
   ]
  },
  {
   "cell_type": "markdown",
   "id": "5fdd70fd",
   "metadata": {
    "id": "86590f01-32db-4702-9223-d1ea89969e57"
   },
   "source": [
    "#### CNN"
   ]
  },
  {
   "cell_type": "code",
   "execution_count": null,
   "id": "772f0dd5",
   "metadata": {
    "colab": {
     "background_save": true,
     "base_uri": "https://localhost:8080/"
    },
    "id": "b61211fc-375a-41be-86ff-3cce47bbcd15",
    "outputId": "a5af7f13-7882-4988-e69d-807705189806"
   },
   "outputs": [],
   "source": [
    "model = Sequential()\n",
    "model.add(InputLayer((3, 1)))\n",
    "model.add(Conv1D(64, kernel_size=2))\n",
    "model.add(Flatten())\n",
    "model.add(Dense(8, 'relu'))\n",
    "model.add(Dense(1, 'linear'))\n",
    "\n",
    "cp = ModelCheckpoint('mavg_cnn/', save_best_only=True)\n",
    "\n",
    "model = fit_model(model, cp, epochs, moving_avg_data, target,x_val, y_val)\n",
    "\n",
    "plot_train(\"mavg_cnn\", 50, moving_avg_data, target)\n",
    "plot_val(model, 50, x_val, y_val)\n",
    "plot_test(model, 50, x_test, y_test)\n",
    "mvg_cnn_mse = plot_predictions1(model,x_test, y_test)"
   ]
  },
  {
   "cell_type": "markdown",
   "id": "83909435",
   "metadata": {
    "id": "6250b4a1-3772-4b90-8ed2-6d4eaafce219"
   },
   "source": [
    "#### GRU"
   ]
  },
  {
   "cell_type": "code",
   "execution_count": null,
   "id": "70619391",
   "metadata": {
    "colab": {
     "background_save": true,
     "base_uri": "https://localhost:8080/"
    },
    "id": "719a6cd9-abe8-49a6-949c-a97fca1ff383"
   },
   "outputs": [],
   "source": [
    "model = keras.Sequential([\n",
    "    layers.GRU(units=64, input_shape=(3, 1)),\n",
    "    layers.Dense(units=1)\n",
    "])\n",
    "\n",
    "model.compile(loss='mean_squared_error', optimizer='adam')\n",
    "\n",
    "cp = ModelCheckpoint('mavg_gru/', save_best_only=True)\n",
    "model = fit_model(model, cp, epochs,  moving_avg_data, target, x_val, y_val)\n",
    "\n",
    "plot_train(\"mavg_gru\", 50, moving_avg_data, target)\n",
    "plot_val(model, 50, x_val, y_val)\n",
    "plot_test(model, 50, x_test, y_test)\n",
    "mvg_gru_mse = plot_predictions1(model,x_test, y_test)"
   ]
  },
  {
   "cell_type": "markdown",
   "id": "ddf86d60",
   "metadata": {
    "id": "a7a289c2-1d50-4ff7-b06b-de3bc5ed2dbe"
   },
   "source": [
    "#### LSTM"
   ]
  },
  {
   "cell_type": "code",
   "execution_count": null,
   "id": "ef77ce08",
   "metadata": {
    "id": "5b7b3491-e43e-48e1-ae99-1d8d3fe0fcc2"
   },
   "outputs": [],
   "source": [
    "model = Sequential()\n",
    "model.add(InputLayer((3, 1)))\n",
    "model.add(LSTM(64))\n",
    "model.add(Dense(8, 'relu'))\n",
    "model.add(Dense(1, 'linear'))\n",
    "\n",
    "cp = ModelCheckpoint('mavg_lstm/', save_best_only=True)\n",
    "model = fit_model(model, cp, epochs, moving_avg_data, target, x_val, y_val)\n",
    "\n",
    "plot_train(\"mavg_lstm\", 50, moving_avg_data, target)\n",
    "plot_val(model, 50, x_val, y_val)\n",
    "plot_test(model, 50, x_test, y_test)\n",
    "mvg_lstm_mse = plot_predictions1(model,x_test, y_test)"
   ]
  },
  {
   "cell_type": "code",
   "execution_count": null,
   "id": "5341dcbf",
   "metadata": {
    "id": "d68591bd-beac-400c-86ff-6adbdc810637"
   },
   "outputs": [],
   "source": [
    "model = keras.Sequential([\n",
    "    layers.SimpleRNN(units=64, input_shape=(3, 1)),\n",
    "    layers.Dense(units=1)\n",
    "])\n",
    "\n",
    "model.compile(loss='mean_squared_error', optimizer='adam')\n",
    "\n",
    "cp = ModelCheckpoint('mavg_rnn/', save_best_only=True)\n",
    "model = fit_model(model, cp, epochs, moving_avg_data, target, x_val, y_val)\n",
    "\n",
    "plot_train(\"mavg_rnn\", 50, moving_avg_data, target)\n",
    "plot_val(model, 50, x_val, y_val)\n",
    "plot_test(model, 50, x_test, y_test)\n",
    "mvg_rnn_mse = plot_predictions1(model,x_test, y_test)"
   ]
  },
  {
   "cell_type": "markdown",
   "id": "f192505f",
   "metadata": {
    "id": "bdbe4fff-16cf-479c-be66-1663fc903859"
   },
   "source": [
    "# AutoEncoder"
   ]
  },
  {
   "cell_type": "markdown",
   "id": "88a1b594",
   "metadata": {
    "id": "a6ae86aa-c7d6-4480-a2f8-416263b94f97"
   },
   "source": [
    "### CNN"
   ]
  },
  {
   "cell_type": "code",
   "execution_count": null,
   "id": "2713745f",
   "metadata": {
    "id": "100a8cf0-4e3f-4914-8e59-58a70da775f5"
   },
   "outputs": [],
   "source": [
    "model = Sequential()\n",
    "model.add(InputLayer((3, 1)))\n",
    "model.add(Conv1D(64, kernel_size=2))\n",
    "model.add(Dropout(0.2))\n",
    "model.add(Conv1D(64, kernel_size=1))\n",
    "model.add(Dropout(0.2))\n",
    "model.add(Flatten())\n",
    "model.add(Dense(8, 'relu'))\n",
    "model.add(Dense(1, 'linear'))\n",
    "\n",
    "\n",
    "model.compile(loss='mean_squared_error', optimizer='adam')\n",
    "\n",
    "cp = ModelCheckpoint('autoencoder_cnn/', save_best_only=True)\n",
    "\n",
    "model = fit_model(model, cp, epochs, x_train, y_train, x_val, y_val)\n",
    "\n",
    "plot_train(\"autoencoder_cnn\", 50, x_train, y_train)\n",
    "plot_val(model, 50, x_val, y_val)\n",
    "plot_test(model, 50, x_test, y_test)\n",
    "auto_cnn_mse = plot_predictions1(model,x_test, y_test)"
   ]
  },
  {
   "cell_type": "code",
   "execution_count": null,
   "id": "601313c9",
   "metadata": {
    "id": "e7dea812-cfa2-4503-8bbb-a09156600ffc"
   },
   "outputs": [],
   "source": [
    "auto_cnn_mse"
   ]
  },
  {
   "cell_type": "markdown",
   "id": "eef644a9",
   "metadata": {
    "id": "04977996-97ee-4e8c-8b8d-8843445461f7"
   },
   "source": [
    "### GRU"
   ]
  },
  {
   "cell_type": "code",
   "execution_count": null,
   "id": "0b938295",
   "metadata": {
    "id": "91335f89-c714-4a11-a7dc-9eb2c257e561"
   },
   "outputs": [],
   "source": [
    "model = Sequential()\n",
    "model.add(InputLayer((3, 1)))\n",
    "model.add(GRU(64))\n",
    "model.add(Dropout(0.2))\n",
    "model.add(Flatten())\n",
    "model.add(Dense(1))\n",
    "\n",
    "\n",
    "model.compile(loss='mean_squared_error', optimizer='adam')\n",
    "\n",
    "cp = ModelCheckpoint('autoencoder_gru/', save_best_only=True)\n",
    "\n",
    "model = fit_model(model, cp, epochs, x_train, y_train, x_val, y_val)\n",
    "\n",
    "plot_train(\"autoencoder_gru\", 50, x_train, y_train)\n",
    "plot_val(model, 50, x_val, y_val)\n",
    "plot_test(model, 50, x_test, y_test)\n",
    "auto_gru_mse = plot_predictions1(model,x_test, y_test)"
   ]
  },
  {
   "cell_type": "code",
   "execution_count": null,
   "id": "abd1279f",
   "metadata": {
    "id": "f00f9c30-ced9-4d7f-951b-1536a77ebc51"
   },
   "outputs": [],
   "source": [
    "auto_gru_mse"
   ]
  },
  {
   "cell_type": "markdown",
   "id": "27a89498",
   "metadata": {
    "id": "8ecc740c-b7bf-40da-b62c-52f03098517f"
   },
   "source": [
    "### LSTM"
   ]
  },
  {
   "cell_type": "code",
   "execution_count": null,
   "id": "c8a93100",
   "metadata": {
    "id": "5e25f59d-2a72-48bb-9fa7-5daa2d955a2f"
   },
   "outputs": [],
   "source": [
    "model = Sequential()\n",
    "model.add(InputLayer((3, 1)))\n",
    "model.add(LSTM(64))\n",
    "model.add(Dropout(0.3))\n",
    "#model.add(RepeatVector(3))\n",
    "#model.add(LSTM(64, return_sequences=True))\n",
    "#model.add(Dropout(0.4))\n",
    "model.add(Dense(8, 'relu'))\n",
    "model.add(Flatten())\n",
    "model.add(Dense(1))\n",
    "\n",
    "model.compile(loss='mean_squared_error', optimizer='adam')\n",
    "\n",
    "cp = ModelCheckpoint('auto_lstm/', save_best_only=True)\n",
    "model = fit_model(model, cp, epochs, x_train, y_train, x_val, y_val)\n",
    "\n",
    "\n",
    "plot_train(\"auto_lstm\", 50, x_train, y_train)\n",
    "plot_val(model, 50, x_val, y_val)\n",
    "plot_test(model, 50, x_test, y_test)\n",
    "auto_lstm_mse = plot_predictions1(model,x_test, y_test)"
   ]
  },
  {
   "cell_type": "code",
   "execution_count": null,
   "id": "a773eb4a",
   "metadata": {
    "id": "351f8902-e1da-4b38-858f-352f4054a9f6"
   },
   "outputs": [],
   "source": [
    "auto_lstm_mse"
   ]
  },
  {
   "cell_type": "markdown",
   "id": "c746ad95",
   "metadata": {
    "id": "f52afb60-e43b-4986-aae3-ad2a467cd81f"
   },
   "source": [
    "### RNN"
   ]
  },
  {
   "cell_type": "code",
   "execution_count": null,
   "id": "dd3aedf3",
   "metadata": {
    "id": "dc1a560c-2f1f-4663-bed4-60b51897c76f"
   },
   "outputs": [],
   "source": [
    "model = Sequential()\n",
    "model.add(InputLayer((3, 1)))\n",
    "model.add(SimpleRNN(64))\n",
    "model.add(Dropout(0.4))\n",
    "model.add(Dense(1))\n",
    "\n",
    "model.compile(loss='mean_squared_error', optimizer='adam')\n",
    "\n",
    "cp = ModelCheckpoint('auto_rnn/', save_best_only=True)\n",
    "model = fit_model(model, cp, epochs, x_train, y_train, x_val, y_val)\n",
    "\n",
    "\n",
    "plot_train(\"auto_rnn\", 50, x_train, y_train)\n",
    "plot_val(model, 50, x_val, y_val)\n",
    "plot_test(model, 50, x_test, y_test)\n",
    "auto_rnn_mse = plot_predictions1(model,x_test, y_test)"
   ]
  },
  {
   "cell_type": "code",
   "execution_count": null,
   "id": "a4dfef18",
   "metadata": {
    "id": "248706a3-b575-40ce-809c-f9261e4961c5"
   },
   "outputs": [],
   "source": [
    "auto_rnn_mse"
   ]
  },
  {
   "cell_type": "markdown",
   "id": "422e4658",
   "metadata": {
    "id": "b065cedc-49eb-45a8-8b3e-8aa15bf42a97"
   },
   "source": [
    "# Moving Average with Encoder"
   ]
  },
  {
   "cell_type": "markdown",
   "id": "0d9e31e3",
   "metadata": {
    "id": "4aa466b7-cbf9-4da2-8110-5ffc2d87b0c6"
   },
   "source": [
    "### CNN"
   ]
  },
  {
   "cell_type": "code",
   "execution_count": null,
   "id": "8a1b0cef",
   "metadata": {
    "id": "10680527-f610-433e-bb15-f01f74d8d4f6"
   },
   "outputs": [],
   "source": [
    "model = Sequential()\n",
    "model.add(InputLayer((3, 1)))\n",
    "model.add(Conv1D(64, kernel_size=2))\n",
    "model.add(Dropout(0.3))\n",
    "model.add(Conv1D(64, kernel_size=1))\n",
    "model.add(Dropout(0.3))\n",
    "model.add(Flatten())\n",
    "model.add(Dense(8, 'relu'))\n",
    "model.add(Dense(1, 'linear'))\n",
    "\n",
    "\n",
    "model.compile(loss='mean_squared_error', optimizer='adam')\n",
    "\n",
    "cp = ModelCheckpoint('mavg_autoencoder_cnn/', save_best_only=True)\n",
    "\n",
    "model = fit_model(model, cp, 10, moving_avg_data, target, x_val, y_val)\n",
    "\n",
    "plot_train(\"mavg_autoencoder_cnn\", 50, moving_avg_data, target)\n",
    "plot_val(model, 50, x_val, y_val)\n",
    "plot_test(model, 50, x_test, y_test)\n",
    "mavg_auto_cnn_mse = plot_predictions1(model,x_test, y_test)"
   ]
  },
  {
   "cell_type": "code",
   "execution_count": null,
   "id": "78e56a51",
   "metadata": {
    "id": "2ac646fb-4651-432c-add0-04d294a278db"
   },
   "outputs": [],
   "source": [
    "mavg_auto_cnn_mse"
   ]
  },
  {
   "cell_type": "markdown",
   "id": "202994bc",
   "metadata": {
    "id": "180b04e8-b89f-43b6-b67f-2c83d6dc3f4d"
   },
   "source": [
    "### RNN"
   ]
  },
  {
   "cell_type": "code",
   "execution_count": null,
   "id": "af29a0a1",
   "metadata": {
    "id": "3e84ed39-8fec-4929-8ac0-cb76e5faa02b"
   },
   "outputs": [],
   "source": [
    "model = Sequential()\n",
    "model.add(InputLayer((3, 1)))\n",
    "model.add(SimpleRNN(64))\n",
    "model.add(Dropout(0.4))\n",
    "model.add(Dense(1))\n",
    "\n",
    "model.compile(loss='mean_squared_error', optimizer='adam')\n",
    "\n",
    "cp = ModelCheckpoint('mavg_auto_rnn/', save_best_only=True)\n",
    "model = fit_model(model, cp, 10,moving_avg_data,target, x_val, y_val)\n",
    "\n",
    "\n",
    "plot_train(\"mavg_auto_rnn\", 50, moving_avg_data, target)\n",
    "plot_val(model, 50, x_val, y_val)\n",
    "plot_test(model, 50, x_test, y_test)\n",
    "mavg_auto_rnn_mse = plot_predictions1(model,x_test, y_test)"
   ]
  },
  {
   "cell_type": "code",
   "execution_count": null,
   "id": "b048b430",
   "metadata": {
    "id": "9609a5d0-bc92-4a3a-b169-7631dc52f40b"
   },
   "outputs": [],
   "source": [
    "mavg_auto_rnn_mse"
   ]
  },
  {
   "cell_type": "markdown",
   "id": "1b7b9715",
   "metadata": {
    "id": "5812bcce-8250-45e9-97f7-483999e3143a"
   },
   "source": [
    "### GRU"
   ]
  },
  {
   "cell_type": "code",
   "execution_count": null,
   "id": "8c2b0ce2",
   "metadata": {
    "id": "f9070d90-9084-401e-9f49-9dc404699810"
   },
   "outputs": [],
   "source": [
    "model = Sequential()\n",
    "model.add(InputLayer((3, 1)))\n",
    "model.add(GRU(64))\n",
    "model.add(Dropout(0.2))\n",
    "model.add(Flatten())\n",
    "model.add(Dense(1))\n",
    "\n",
    "\n",
    "model.compile(loss='mean_squared_error', optimizer='adam')\n",
    "\n",
    "cp = ModelCheckpoint('mavg_auto_gru/', save_best_only=True)\n",
    "\n",
    "model = fit_model(model, cp, 10, moving_avg_data, target, x_val, y_val)\n",
    "\n",
    "plot_train(\"mavg_auto_gru\", 50, moving_avg_data, target)\n",
    "plot_val(model, 50, x_val, y_val)\n",
    "plot_test(model, 50, x_test, y_test)\n",
    "mavg_auto_gru_mse = plot_predictions1(model,x_test, y_test)"
   ]
  },
  {
   "cell_type": "code",
   "execution_count": null,
   "id": "75cb5db8",
   "metadata": {
    "id": "81d2e4fe-3de0-448e-b998-84be320909e3"
   },
   "outputs": [],
   "source": [
    "mavg_auto_gru_mse"
   ]
  },
  {
   "cell_type": "markdown",
   "id": "e917fcaa",
   "metadata": {
    "id": "1967da5b-8781-4a83-bdaa-dc25b531973b"
   },
   "source": [
    "### LSTM"
   ]
  },
  {
   "cell_type": "code",
   "execution_count": null,
   "id": "16dacc44",
   "metadata": {
    "id": "6b76ba67-9b20-4513-a6ee-6a495bc2979f"
   },
   "outputs": [],
   "source": [
    "model = Sequential()\n",
    "model.add(InputLayer((3, 1)))\n",
    "model.add(LSTM(64))\n",
    "model.add(Dropout(0.3))\n",
    "#model.add(RepeatVector(3))\n",
    "#model.add(LSTM(64, return_sequences=True))\n",
    "#model.add(Dropout(0.4))\n",
    "#model.add(Dense(8, 'relu'))\n",
    "#model.add(Flatten())\n",
    "model.add(Dense(1))\n",
    "\n",
    "model.compile(loss='mean_squared_error', optimizer='adam')\n",
    "\n",
    "cp = ModelCheckpoint('mavg_auto_lstm/', save_best_only=True)\n",
    "model = fit_model(model, cp, 10,moving_avg_data, target, x_val, y_val)\n",
    "\n",
    "\n",
    "plot_train(\"mavg_auto_lstm\", 50, moving_avg_data, target)\n",
    "plot_val(model, 50, x_val, y_val)\n",
    "plot_test(model, 50, x_test, y_test)\n",
    "mavg_auto_lstm_mse = plot_predictions1(model,x_test, y_test)"
   ]
  },
  {
   "cell_type": "code",
   "execution_count": null,
   "id": "d029bb1b",
   "metadata": {
    "id": "50d60c17-fedf-4d32-8452-2a05ad1ad55c"
   },
   "outputs": [],
   "source": [
    "mavg_auto_lstm_mse"
   ]
  },
  {
   "cell_type": "markdown",
   "id": "a15a4e15",
   "metadata": {
    "id": "469e39ee-ac37-4f72-9114-292b9aba46a3"
   },
   "source": [
    "# Hybrid"
   ]
  },
  {
   "cell_type": "markdown",
   "id": "212374e7",
   "metadata": {
    "id": "02bdf792-a4fb-4272-8b4f-8e4b6c9b26f2"
   },
   "source": [
    "## General"
   ]
  },
  {
   "cell_type": "markdown",
   "id": "0f0a0098",
   "metadata": {
    "id": "2147bec4-e091-4461-b3fa-cd4fb6b8afe6"
   },
   "source": [
    "### CNN LSTM"
   ]
  },
  {
   "cell_type": "code",
   "execution_count": null,
   "id": "a2f1c20e",
   "metadata": {
    "id": "997ef71b-7524-42fc-b608-c6e5fffa4d93"
   },
   "outputs": [],
   "source": [
    "input_shape = (15,1)\n",
    "model = Sequential()\n",
    "model.add(Conv1D(filters=32, kernel_size=3, activation='relu', input_shape=(3,1)))\n",
    "model.add(Flatten())\n",
    "model.add(Dense(32, activation='relu'))\n",
    "model.add(RepeatVector(n=input_shape[0]))\n",
    "model.add(LSTM(units=64, return_sequences=True))\n",
    "model.add(LSTM(units=32))\n",
    "model.add(Dense(1))\n",
    "\n",
    "model.compile(loss='mean_squared_error', optimizer='adam')\n",
    "\n",
    "cp = ModelCheckpoint('hybrid_cnn_lstm/', save_best_only=True)\n",
    "\n",
    "model = fit_model(model, cp, epochs, x_train,y_train, x_val, y_val)\n",
    "\n",
    "plot_train(\"hybrid_cnn_lstm\", 50, x_train,y_train)\n",
    "plot_val(model, 50, x_val, y_val)\n",
    "plot_test(model, 50, x_test, y_test)\n",
    "hybrid_cnn_lstm_mse = plot_predictions1(model,x_test, y_test)"
   ]
  },
  {
   "cell_type": "code",
   "execution_count": null,
   "id": "f317f001",
   "metadata": {
    "id": "3284ce02-e7a5-4eea-99a6-8dbb7bb3f0b2"
   },
   "outputs": [],
   "source": [
    "hybrid_cnn_lstm_mse"
   ]
  },
  {
   "cell_type": "markdown",
   "id": "656b09d7",
   "metadata": {
    "id": "939fb23e-ce42-4949-ad87-fcaf961ca401"
   },
   "source": [
    "### RNN LSTM"
   ]
  },
  {
   "cell_type": "code",
   "execution_count": null,
   "id": "e87bd363",
   "metadata": {
    "id": "8e065ef0-b4c4-45aa-9dd9-239c86cd0359"
   },
   "outputs": [],
   "source": [
    "model = Sequential()\n",
    "model.add(SimpleRNN(64,return_sequences=True, input_shape=(3,1)))\n",
    "model.add(LSTM(32))\n",
    "model.add(Dense(1))\n",
    "\n",
    "model.compile(loss='mean_squared_error', optimizer='adam')\n",
    "cp = ModelCheckpoint('hybrid_rnn_lstm/', save_best_only=True)\n",
    "model = fit_model(model, cp, epochs, x_train,y_train, x_val, y_val)\n",
    "\n",
    "plot_train(\"hybrid_rnn_lstm\", 50, x_train,y_train)\n",
    "plot_val(model, 50, x_val, y_val)\n",
    "plot_test(model, 50, x_test, y_test)\n",
    "hybrid_rnn_lstm_mse = plot_predictions1(model,x_test, y_test)"
   ]
  },
  {
   "cell_type": "code",
   "execution_count": null,
   "id": "3ac9dbec",
   "metadata": {
    "id": "5236bc05-9af4-4cb1-84c9-601d035e7dff"
   },
   "outputs": [],
   "source": [
    "hybrid_rnn_lstm_mse"
   ]
  },
  {
   "cell_type": "markdown",
   "id": "3501f4d3",
   "metadata": {
    "id": "80090b57-9845-4ce4-b376-8861b97d1305"
   },
   "source": [
    "### RNN GRU"
   ]
  },
  {
   "cell_type": "code",
   "execution_count": null,
   "id": "f404cbcb",
   "metadata": {
    "id": "abf1a1fd-6561-43ed-8247-368cf8d066cf"
   },
   "outputs": [],
   "source": [
    "model = Sequential()\n",
    "model.add(SimpleRNN(64, return_sequences=True, input_shape=(3, 1)))\n",
    "model.add(GRU(32))\n",
    "model.add(Dense(1))\n",
    "\n",
    "model.compile(loss='mean_squared_error', optimizer='adam')\n",
    "cp = ModelCheckpoint('hybrid_rnn_gru/', save_best_only=True)\n",
    "model = fit_model(model, cp, epochs, x_train,y_train, x_val, y_val)\n",
    "\n",
    "plot_train(\"hybrid_rnn_gru\", 50, x_train,y_train)\n",
    "plot_val(model, 50, x_val, y_val)\n",
    "plot_test(model, 50, x_test, y_test)\n",
    "hybrid_rnn_gru_mse = plot_predictions1(model,x_test, y_test)"
   ]
  },
  {
   "cell_type": "code",
   "execution_count": null,
   "id": "16d23977",
   "metadata": {
    "id": "1cbab527-6b16-45d1-9e35-0da4ebf48c26"
   },
   "outputs": [],
   "source": [
    "hybrid_rnn_gru_mse"
   ]
  },
  {
   "cell_type": "markdown",
   "id": "fb63b01e",
   "metadata": {
    "id": "a895d0cf-6d2c-4058-a338-45c288c3f4c9"
   },
   "source": [
    "### CNN GRU"
   ]
  },
  {
   "cell_type": "code",
   "execution_count": null,
   "id": "df44e8b3",
   "metadata": {
    "id": "ee0afb83-814f-4f24-b36f-4f818ab9badd"
   },
   "outputs": [],
   "source": [
    "model = Sequential()\n",
    "\n",
    "model.add(Conv1D(filters=32, kernel_size=3, activation='relu', input_shape=(3,1)))\n",
    "model.add(Flatten())\n",
    "\n",
    "model.add(RepeatVector(n=15))\n",
    "model.add(GRU(64, return_sequences=True))\n",
    "model.add(GRU(32))\n",
    "model.add(Dense(1))\n",
    "\n",
    "model.compile(loss='mean_squared_error', optimizer='adam')\n",
    "cp = ModelCheckpoint('hybrid_cnn_gru/', save_best_only=True)\n",
    "model = fit_model(model, cp, epochs, x_train,y_train, x_val, y_val)\n",
    "\n",
    "plot_train(\"hybrid_cnn_gru\", 50, x_train,y_train)\n",
    "plot_val(model, 50, x_val, y_val)\n",
    "plot_test(model, 50, x_test, y_test)\n",
    "hybrid_cnn_gru_mse = plot_predictions1(model,x_test, y_test)"
   ]
  },
  {
   "cell_type": "code",
   "execution_count": null,
   "id": "832c6ba2",
   "metadata": {
    "id": "9eab2df5-6ce1-4a84-8b04-6d7e00128e6d"
   },
   "outputs": [],
   "source": [
    "hybrid_cnn_gru_mse"
   ]
  },
  {
   "cell_type": "markdown",
   "id": "24301249",
   "metadata": {
    "id": "d44a485d-036a-4eb1-8561-c274b9bb1807"
   },
   "source": [
    "### CNN RNN GRU"
   ]
  },
  {
   "cell_type": "code",
   "execution_count": null,
   "id": "ce885c32",
   "metadata": {
    "id": "c0488de4-1568-496c-891a-231ee82fc8ad"
   },
   "outputs": [],
   "source": [
    "model = Sequential()\n",
    "model.add(Conv1D(filters=32, kernel_size=3, activation='relu', input_shape=(3, 1)))\n",
    "model.add(Flatten())\n",
    "model.add(RepeatVector(n=15))\n",
    "model.add(SimpleRNN(64, return_sequences=True))\n",
    "model.add(GRU(32))\n",
    "model.add(Dense(8))\n",
    "model.add(Dense(1))\n",
    "\n",
    "model.compile(loss='mean_squared_error', optimizer='adam')\n",
    "cp = ModelCheckpoint('hybrid_cnn_rnn_gru/', save_best_only=True)\n",
    "model = fit_model(model, cp, epochs, x_train,y_train, x_val, y_val)\n",
    "\n",
    "plot_train(\"hybrid_cnn_rnn_gru\", 50, x_train,y_train)\n",
    "plot_val(model, 50, x_val, y_val)\n",
    "plot_test(model, 50, x_test, y_test)\n",
    "hybrid_cnn_rnn_gru_mse = plot_predictions1(model,x_test, y_test)"
   ]
  },
  {
   "cell_type": "code",
   "execution_count": null,
   "id": "1b97acb6",
   "metadata": {
    "id": "807309c8-0a28-4f2c-80d7-94b3efe0456d"
   },
   "outputs": [],
   "source": [
    "hybrid_cnn_rnn_gru_mse"
   ]
  },
  {
   "cell_type": "markdown",
   "id": "556abce6",
   "metadata": {
    "id": "6b01e622-04ac-4bbd-889f-ab1fcb427598"
   },
   "source": [
    "### LSTM RNN GRU"
   ]
  },
  {
   "cell_type": "code",
   "execution_count": null,
   "id": "e8a3100a",
   "metadata": {
    "id": "bc42c921-4088-4911-9a2b-f323c105046a"
   },
   "outputs": [],
   "source": [
    "model = Sequential()\n",
    "model.add(SimpleRNN(64, return_sequences=True, input_shape=(3,1)))\n",
    "model.add(LSTM(128, return_sequences=True))\n",
    "model.add(GRU(64))\n",
    "model.add(Dense(1))\n",
    "\n",
    "model.compile(loss='mean_squared_error', optimizer='adam')\n",
    "cp = ModelCheckpoint('hybrid_lstm_rnn_gru/', save_best_only=True)\n",
    "model = fit_model(model, cp, epochs, x_train,y_train, x_val, y_val)\n",
    "\n",
    "plot_train(\"hybrid_lstm_rnn_gru\", 50, x_train,y_train)\n",
    "plot_val(model, 50, x_val, y_val)\n",
    "plot_test(model, 50, x_test, y_test)\n",
    "hybrid_lstm_rnn_gru_mse = plot_predictions1(model,x_test, y_test)"
   ]
  },
  {
   "cell_type": "code",
   "execution_count": null,
   "id": "e4baaf71",
   "metadata": {
    "id": "4e3dacf0-53e5-4d57-abc2-a933f1f7c5bf"
   },
   "outputs": [],
   "source": [
    "hybrid_lstm_rnn_gru_mse"
   ]
  },
  {
   "cell_type": "markdown",
   "id": "26148162",
   "metadata": {
    "id": "e11c3e00-dc76-411e-831a-8d2042cbb778"
   },
   "source": [
    "## Moving Average"
   ]
  },
  {
   "cell_type": "markdown",
   "id": "82705c4b",
   "metadata": {
    "id": "1f0bf73a-0e18-45f2-a8ce-06986e87a92e"
   },
   "source": [
    "### CNN LSTM"
   ]
  },
  {
   "cell_type": "code",
   "execution_count": null,
   "id": "0591aa7d",
   "metadata": {
    "id": "94711e22-60a1-41fd-80b3-d1703d14aa58"
   },
   "outputs": [],
   "source": [
    "input_shape = (15,1)\n",
    "model = Sequential()\n",
    "model.add(Conv1D(filters=32, kernel_size=3, activation='relu', input_shape=(3,1)))\n",
    "model.add(Flatten())\n",
    "model.add(Dense(32, activation='relu'))\n",
    "model.add(RepeatVector(n=input_shape[0]))\n",
    "model.add(LSTM(units=64, return_sequences=True))\n",
    "model.add(LSTM(units=32))\n",
    "model.add(Dense(1))\n",
    "\n",
    "model.compile(loss='mean_squared_error', optimizer='adam')\n",
    "\n",
    "cp = ModelCheckpoint('mavg_hybrid_cnn_lstm/', save_best_only=True)\n",
    "\n",
    "model = fit_model(model, cp, epochs, moving_avg_data, target, x_val, y_val)\n",
    "\n",
    "plot_train(\"mavg_hybrid_cnn_lstm\", 50, moving_avg_data, target)\n",
    "plot_val(model, 50, x_val, y_val)\n",
    "plot_test(model, 50, x_test, y_test)\n",
    "mavg_hybrid_cnn_lstm_mse = plot_predictions1(model,x_test, y_test)"
   ]
  },
  {
   "cell_type": "code",
   "execution_count": null,
   "id": "daed1745",
   "metadata": {
    "id": "30cb1bbc-ced5-4094-a16e-e92ac736521e"
   },
   "outputs": [],
   "source": [
    "mavg_hybrid_cnn_lstm_mse"
   ]
  },
  {
   "cell_type": "markdown",
   "id": "ff536446",
   "metadata": {
    "id": "a5bb5cab-32f6-4844-ad49-5b7251350a7e"
   },
   "source": [
    "### RNN LSTM"
   ]
  },
  {
   "cell_type": "code",
   "execution_count": null,
   "id": "84f25952",
   "metadata": {
    "id": "5cbf9837-4a24-4710-8f25-9660499a91b9"
   },
   "outputs": [],
   "source": [
    "model = Sequential()\n",
    "model.add(SimpleRNN(64,return_sequences=True, input_shape=(3,1)))\n",
    "model.add(LSTM(32))\n",
    "model.add(Dense(1))\n",
    "\n",
    "model.compile(loss='mean_squared_error', optimizer='adam')\n",
    "cp = ModelCheckpoint('mavg_hybrid_rnn_lstm/', save_best_only=True)\n",
    "model = fit_model(model, cp, epochs, moving_avg_data, target, x_val, y_val)\n",
    "\n",
    "plot_train(\"mavg_hybrid_rnn_lstm\", 50, moving_avg_data, target)\n",
    "plot_val(model, 50, x_val, y_val)\n",
    "plot_test(model, 50, x_test, y_test)\n",
    "mavg_hybrid_rnn_lstm_mse = plot_predictions1(model,x_test, y_test)"
   ]
  },
  {
   "cell_type": "code",
   "execution_count": null,
   "id": "9e5b0b5e",
   "metadata": {
    "id": "55937582-d29a-4dd9-84b7-1c04be4777a8"
   },
   "outputs": [],
   "source": [
    "mavg_hybrid_rnn_lstm_mse"
   ]
  },
  {
   "cell_type": "markdown",
   "id": "062d227e",
   "metadata": {
    "id": "a3c404ee-001b-4cb5-8bde-9ec47807ad63"
   },
   "source": [
    "### RNN GRU"
   ]
  },
  {
   "cell_type": "code",
   "execution_count": null,
   "id": "2cdaef5f",
   "metadata": {
    "id": "6345cb8e-ca2f-4d2a-8414-383aa5c76270"
   },
   "outputs": [],
   "source": [
    "model = Sequential()\n",
    "model.add(SimpleRNN(64, return_sequences=True, input_shape=(3, 1)))\n",
    "model.add(GRU(32))\n",
    "model.add(Dense(1))\n",
    "\n",
    "model.compile(loss='mean_squared_error', optimizer='adam')\n",
    "cp = ModelCheckpoint('mavg_hybrid_rnn_gru/', save_best_only=True)\n",
    "model = fit_model(model, cp, epochs, moving_avg_data, target, x_val, y_val)\n",
    "\n",
    "plot_train(\"mavg_hybrid_rnn_gru\", 50, moving_avg_data, target)\n",
    "plot_val(model, 50, x_val, y_val)\n",
    "plot_test(model, 50, x_test, y_test)\n",
    "mavg_hybrid_rnn_gru_mse = plot_predictions1(model,x_test, y_test)"
   ]
  },
  {
   "cell_type": "code",
   "execution_count": null,
   "id": "ead0c41e",
   "metadata": {
    "id": "1045cb59-ad49-48f3-a5d8-542e3494aaca"
   },
   "outputs": [],
   "source": [
    "mavg_hybrid_rnn_gru_mse"
   ]
  },
  {
   "cell_type": "markdown",
   "id": "fa532fe5",
   "metadata": {
    "id": "b5854a3e-315c-41b1-b5da-50e711d9c594"
   },
   "source": [
    "### CNN GRU"
   ]
  },
  {
   "cell_type": "code",
   "execution_count": null,
   "id": "da837125",
   "metadata": {
    "id": "2f23e825-6453-4eb3-85aa-14a9c6148d95"
   },
   "outputs": [],
   "source": [
    "model = Sequential()\n",
    "\n",
    "model.add(Conv1D(filters=32, kernel_size=3, activation='relu', input_shape=(3,1)))\n",
    "#model.add(MaxPooling1D(pool_size=2))\n",
    "model.add(Flatten())\n",
    "\n",
    "model.add(RepeatVector(n=15))\n",
    "model.add(GRU(64, return_sequences=True))\n",
    "model.add(GRU(32))\n",
    "model.add(Dense(1))\n",
    "\n",
    "model.compile(loss='mean_squared_error', optimizer='adam')\n",
    "cp = ModelCheckpoint('mavg_hybrid_cnn_gru/', save_best_only=True)\n",
    "model = fit_model(model, cp, epochs, moving_avg_data, target, x_val, y_val)\n",
    "\n",
    "plot_train(\"mavg_hybrid_cnn_gru\", 50, moving_avg_data, target)\n",
    "plot_val(model, 50, x_val, y_val)\n",
    "plot_test(model, 50, x_test, y_test)\n",
    "mavg_hybrid_cnn_gru_mse = plot_predictions1(model,x_test, y_test)"
   ]
  },
  {
   "cell_type": "code",
   "execution_count": null,
   "id": "9668d17b",
   "metadata": {
    "id": "b369c99c-dd8f-4db6-a7f3-6fda45d21e51"
   },
   "outputs": [],
   "source": [
    "mavg_hybrid_cnn_gru_mse"
   ]
  },
  {
   "cell_type": "markdown",
   "id": "f53efe24",
   "metadata": {
    "id": "2bb28674-7619-4309-9d53-f13b1a71d79f"
   },
   "source": [
    "### CNN RNN GRU"
   ]
  },
  {
   "cell_type": "code",
   "execution_count": null,
   "id": "a2dd88e8",
   "metadata": {
    "id": "fa669505-9143-496f-8bc1-c27c8a875be8"
   },
   "outputs": [],
   "source": [
    "model = Sequential()\n",
    "model.add(Conv1D(filters=32, kernel_size=3, activation='relu', input_shape=(3, 1)))\n",
    "#model.add(MaxPooling1D(pool_size=2))\n",
    "model.add(Flatten())\n",
    "model.add(RepeatVector(n=15))\n",
    "model.add(SimpleRNN(64, return_sequences=True))\n",
    "model.add(GRU(32))\n",
    "model.add(Dense(8))\n",
    "model.add(Dense(1))\n",
    "\n",
    "model.compile(loss='mean_squared_error', optimizer='adam')\n",
    "cp = ModelCheckpoint('mavg_hybrid_cnn_rnn_gru/', save_best_only=True)\n",
    "model = fit_model(model, cp, epochs, moving_avg_data, target, x_val, y_val)\n",
    "\n",
    "plot_train(\"mavg_hybrid_cnn_rnn_gru\", 50, moving_avg_data, target)\n",
    "plot_val(model, 50, x_val, y_val)\n",
    "plot_test(model, 50, x_test, y_test)\n",
    "mavg_hybrid_cnn_rnn_gru_mse = plot_predictions1(model,x_test, y_test)"
   ]
  },
  {
   "cell_type": "code",
   "execution_count": null,
   "id": "3d1a635b",
   "metadata": {
    "id": "dd5536e6-89c6-40bf-96f0-b671cc081f90"
   },
   "outputs": [],
   "source": [
    "mavg_hybrid_cnn_rnn_gru_mse"
   ]
  },
  {
   "cell_type": "markdown",
   "id": "75cc4173",
   "metadata": {
    "id": "aa2779cb-67da-4037-9a5d-3b7ae3223344"
   },
   "source": [
    "### RNN LSTM GRU"
   ]
  },
  {
   "cell_type": "code",
   "execution_count": null,
   "id": "6daae888",
   "metadata": {
    "id": "f61960c1-a8ed-4213-b64c-d94770d30bac"
   },
   "outputs": [],
   "source": [
    "model = Sequential()\n",
    "model.add(SimpleRNN(64, return_sequences=True, input_shape=(3,1)))\n",
    "model.add(LSTM(128, return_sequences=True))\n",
    "model.add(GRU(64))\n",
    "model.add(Dense(1))\n",
    "\n",
    "model.compile(loss='mean_squared_error', optimizer='adam')\n",
    "cp = ModelCheckpoint('mavg_hybrid_lstm_rnn_gru/', save_best_only=True)\n",
    "model = fit_model(model, cp, epochs, moving_avg_data, target,x_val, y_val)\n",
    "\n",
    "plot_train(\"mavg_hybrid_lstm_rnn_gru\", 50, moving_avg_data, target)\n",
    "plot_val(model, 50, x_val, y_val)\n",
    "plot_test(model, 50, x_test, y_test)\n",
    "mavg_hybrid_lstm_rnn_gru_mse = plot_predictions1(model,x_test, y_test)"
   ]
  },
  {
   "cell_type": "code",
   "execution_count": null,
   "id": "b51279a7",
   "metadata": {
    "id": "42659f65-71f0-4a7b-8171-9aba8dcdc7a5"
   },
   "outputs": [],
   "source": [
    "mavg_hybrid_lstm_rnn_gru_mse"
   ]
  },
  {
   "cell_type": "markdown",
   "id": "7256168e",
   "metadata": {
    "id": "8048232c-fdea-4c4d-899d-ed336e8f1478"
   },
   "source": [
    "# MSE"
   ]
  },
  {
   "cell_type": "code",
   "execution_count": null,
   "id": "eb012ab6",
   "metadata": {
    "id": "d6efb09f-3f5e-42b3-b4b2-28f9894ebe3b"
   },
   "outputs": [],
   "source": [
    "mse_list = [cnn_mse, rnn_mse, gru_mse, lstm_mse,\n",
    "            mvg_cnn_mse, mvg_rnn_mse, mvg_gru_mse, mvg_lstm_mse,\n",
    "            auto_cnn_mse, auto_rnn_mse, auto_gru_mse, auto_lstm_mse,\n",
    "            mavg_auto_cnn_mse, mavg_auto_rnn_mse, mavg_auto_gru_mse, mavg_auto_lstm_mse,\n",
    "            hybrid_cnn_lstm_mse, hybrid_lstm_rnn_gru_mse,hybrid_cnn_rnn_gru_mse,hybrid_cnn_gru_mse,\n",
    "            hybrid_rnn_gru_mse,hybrid_rnn_lstm_mse,\n",
    "            mavg_hybrid_cnn_lstm_mse, mavg_hybrid_lstm_rnn_gru_mse,mavg_hybrid_cnn_rnn_gru_mse,\n",
    "            mavg_hybrid_cnn_gru_mse,mavg_hybrid_rnn_gru_mse,mavg_hybrid_rnn_lstm_mse]\n",
    "\n",
    "model_n = [\"cnn\", \"rnn\", \"gru\", \"lstm\",\n",
    "           \"mvg_cnn\", \"mvg_rnn\", \"mvg_gru\", \"mvg_lstm\",\n",
    "           \"auto_cnn\", \"auto_rnn\", \"auto_gru\", \"auto_lstm\",\n",
    "           \"mvg_auto_cnn\", \"mvg_auto_rnn\", \"mvg_auto_gru\", \"mvg_auto_lstm\",\n",
    "           \"hybrid_cnn_lstm\", \"hybrid_lstm_rnn_gru\" ,\"hybrid_cnn_rnn_gru\",\"hybrid_cnn_gru\",\n",
    "           \"hybrid_rnn_gru\",\"hybrid_rnn_lstm\",\n",
    "           \"mavg_hybrid_cnn_lstm\", \"mavg_hybrid_lstm_rnn_gru\",\"mavg_hybrid_cnn_rnn_gru\",\n",
    "           \"mavg_hybrid_cnn_gru\",\"mavg_hybrid_rnn_gru\",\"mavg_hybrid_rnn_lstm\"\n",
    "          ]\n",
    "msedf = pd.DataFrame({\n",
    "    \"Model\": model_n,\n",
    "    \"MSE\": mse_list\n",
    "})\n",
    "\n",
    "rmse = np.sqrt(msedf.MSE)\n",
    "msedf[\"RMSE\"] = rmse"
   ]
  },
  {
   "cell_type": "code",
   "execution_count": null,
   "id": "bae2a867",
   "metadata": {
    "id": "f33f5196-c528-47c0-b3b7-54617059d863"
   },
   "outputs": [],
   "source": [
    "msedf"
   ]
  },
  {
   "cell_type": "code",
   "execution_count": null,
   "id": "a15f5596",
   "metadata": {
    "id": "968044f6-8811-4ed3-8015-1b7843711720"
   },
   "outputs": [],
   "source": [
    "msedf.to_csv(\"msedf.csv\", index= False)"
   ]
  },
  {
   "cell_type": "code",
   "execution_count": null,
   "id": "a90fc427",
   "metadata": {
    "id": "c37a7ba0-ef39-4d70-a7b3-b458d5df86bb"
   },
   "outputs": [],
   "source": [
    "msedf.plot(\"Model\", \"RMSE\", kind= \"bar\")"
   ]
  },
  {
   "cell_type": "code",
   "execution_count": null,
   "id": "6cb39c3d",
   "metadata": {
    "id": "bcae8c79-8eff-42ea-beeb-8f1badf7470d"
   },
   "outputs": [],
   "source": [
    "np.save(\"x_train.npy\", x_train)\n",
    "np.save(\"y_train.npy\", y_train)\n",
    "np.save(\"x_test.npy\", x_test)\n",
    "np.save(\"y_test.npy\", y_test)\n",
    "np.save(\"x_val.npy\", x_val)\n",
    "np.save(\"y_val.npy\", y_val)"
   ]
  },
  {
   "cell_type": "code",
   "execution_count": null,
   "id": "69808db4",
   "metadata": {
    "collapsed": true,
    "id": "c9beadb4-364a-4b0f-95c1-ec22000e52d3",
    "jupyter": {
     "outputs_hidden": true
    }
   },
   "outputs": [],
   "source": []
  },
  {
   "cell_type": "code",
   "execution_count": null,
   "id": "2c6cb797",
   "metadata": {
    "collapsed": true,
    "id": "ae65b6e6-5fe7-40b8-bb59-d11a8ba07eeb",
    "jupyter": {
     "outputs_hidden": true
    }
   },
   "outputs": [],
   "source": []
  }
 ],
 "metadata": {
  "colab": {
   "name": "",
   "version": ""
  },
  "kernelspec": {
   "display_name": "Python 3 (ipykernel)",
   "language": "python",
   "name": "python3"
  },
  "language_info": {
   "codemirror_mode": {
    "name": "ipython",
    "version": 3
   },
   "file_extension": ".py",
   "mimetype": "text/x-python",
   "name": "python",
   "nbconvert_exporter": "python",
   "pygments_lexer": "ipython3",
   "version": "3.9.12"
  }
 },
 "nbformat": 4,
 "nbformat_minor": 5
}
