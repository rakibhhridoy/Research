{
 "cells": [
  {
   "cell_type": "code",
   "execution_count": 1,
   "id": "8adc5db7-8563-4210-bdee-a101e7ec7fc9",
   "metadata": {
    "tags": []
   },
   "outputs": [],
   "source": [
    "libs <- c(\"tidyverse\", \"sf\", \"geodata\", \"terra\", \"classInt\", \"rayshader\")"
   ]
  },
  {
   "cell_type": "code",
   "execution_count": 23,
   "id": "812703d8-143b-4230-91e0-1774bb7d7ded",
   "metadata": {
    "tags": []
   },
   "outputs": [
    {
     "name": "stderr",
     "output_type": "stream",
     "text": [
      "also installing the dependency ‘units’\n",
      "\n",
      "\n",
      "Warning message in install.packages(\"sf\"):\n",
      "“installation of package ‘units’ had non-zero exit status”\n",
      "Warning message in install.packages(\"sf\"):\n",
      "“installation of package ‘sf’ had non-zero exit status”\n",
      "Updating HTML index of packages in '.Library'\n",
      "\n",
      "Making 'packages.html' ...\n",
      " done\n",
      "\n"
     ]
    }
   ],
   "source": [
    "install.packages(\"sf\")"
   ]
  },
  {
   "cell_type": "code",
   "execution_count": 24,
   "id": "426adccf-f7c7-42e6-a08a-3c052ebd17ad",
   "metadata": {
    "tags": []
   },
   "outputs": [
    {
     "name": "stderr",
     "output_type": "stream",
     "text": [
      "also installing the dependencies ‘systemfonts’, ‘textshaping’, ‘ragg’\n",
      "\n",
      "\n",
      "Warning message in install.packages(\"tidyverse\"):\n",
      "“installation of package ‘systemfonts’ had non-zero exit status”\n",
      "Warning message in install.packages(\"tidyverse\"):\n",
      "“installation of package ‘textshaping’ had non-zero exit status”\n",
      "Warning message in install.packages(\"tidyverse\"):\n",
      "“installation of package ‘ragg’ had non-zero exit status”\n",
      "Warning message in install.packages(\"tidyverse\"):\n",
      "“installation of package ‘tidyverse’ had non-zero exit status”\n",
      "Updating HTML index of packages in '.Library'\n",
      "\n",
      "Making 'packages.html' ...\n",
      " done\n",
      "\n"
     ]
    }
   ],
   "source": [
    "install.packages(\"tidyverse\")"
   ]
  },
  {
   "cell_type": "code",
   "execution_count": 25,
   "id": "3e142940-7ae7-41c1-8564-3263554fbed3",
   "metadata": {
    "tags": []
   },
   "outputs": [
    {
     "name": "stderr",
     "output_type": "stream",
     "text": [
      "also installing the dependency ‘terra’\n",
      "\n",
      "\n",
      "Warning message in install.packages(\"geodata\"):\n",
      "“installation of package ‘terra’ had non-zero exit status”\n",
      "Warning message in install.packages(\"geodata\"):\n",
      "“installation of package ‘geodata’ had non-zero exit status”\n",
      "Updating HTML index of packages in '.Library'\n",
      "\n",
      "Making 'packages.html' ...\n",
      " done\n",
      "\n"
     ]
    }
   ],
   "source": [
    "install.packages(\"geodata\")"
   ]
  },
  {
   "cell_type": "code",
   "execution_count": 26,
   "id": "772f9f79-2526-4ec1-923a-8cf2d783eddf",
   "metadata": {
    "tags": []
   },
   "outputs": [
    {
     "name": "stderr",
     "output_type": "stream",
     "text": [
      "Warning message in install.packages(\"terra\"):\n",
      "“installation of package ‘terra’ had non-zero exit status”\n",
      "Updating HTML index of packages in '.Library'\n",
      "\n",
      "Making 'packages.html' ...\n",
      " done\n",
      "\n"
     ]
    }
   ],
   "source": [
    "install.packages(\"terra\")"
   ]
  },
  {
   "cell_type": "code",
   "execution_count": 27,
   "id": "850a5643-7cdf-48ee-b021-1ae4d8572f69",
   "metadata": {
    "tags": []
   },
   "outputs": [
    {
     "name": "stderr",
     "output_type": "stream",
     "text": [
      "Updating HTML index of packages in '.Library'\n",
      "\n",
      "Making 'packages.html' ...\n",
      " done\n",
      "\n"
     ]
    }
   ],
   "source": [
    "install.packages(\"classInt\")"
   ]
  },
  {
   "cell_type": "code",
   "execution_count": 28,
   "id": "54751a67-9d11-4106-b5a0-facb5c6bf9bc",
   "metadata": {
    "tags": []
   },
   "outputs": [
    {
     "name": "stderr",
     "output_type": "stream",
     "text": [
      "also installing the dependencies ‘terra’, ‘raster’, ‘rayrender’\n",
      "\n",
      "\n",
      "Warning message in install.packages(\"rayshader\"):\n",
      "“installation of package ‘terra’ had non-zero exit status”\n",
      "Warning message in install.packages(\"rayshader\"):\n",
      "“installation of package ‘raster’ had non-zero exit status”\n",
      "Warning message in install.packages(\"rayshader\"):\n",
      "“installation of package ‘rayrender’ had non-zero exit status”\n",
      "Warning message in install.packages(\"rayshader\"):\n",
      "“installation of package ‘rayshader’ had non-zero exit status”\n",
      "Updating HTML index of packages in '.Library'\n",
      "\n",
      "Making 'packages.html' ...\n",
      " done\n",
      "\n"
     ]
    }
   ],
   "source": [
    "install.packages(\"rayshader\")"
   ]
  },
  {
   "cell_type": "code",
   "execution_count": null,
   "id": "e0cf5509-5253-461b-8cc0-719a282ce2ba",
   "metadata": {},
   "outputs": [],
   "source": []
  },
  {
   "cell_type": "code",
   "execution_count": 30,
   "id": "1cbc99d9-3412-4ca1-8d06-cddc25165b79",
   "metadata": {
    "tags": []
   },
   "outputs": [
    {
     "name": "stderr",
     "output_type": "stream",
     "text": [
      "Loading required package: sf\n",
      "\n",
      "Warning message in library(package, lib.loc = lib.loc, character.only = TRUE, logical.return = TRUE, :\n",
      "“there is no package called ‘sf’”\n"
     ]
    }
   ],
   "source": [
    "require(sf)"
   ]
  },
  {
   "cell_type": "code",
   "execution_count": 3,
   "id": "5286dfbb-f9c5-4a81-9b3c-d7775c5a3354",
   "metadata": {
    "tags": []
   },
   "outputs": [
    {
     "name": "stderr",
     "output_type": "stream",
     "text": [
      "also installing the dependencies ‘systemfonts’, ‘textshaping’, ‘ragg’, ‘units’, ‘raster’, ‘rayrender’\n",
      "\n",
      "\n",
      "Warning message in install.packages(libs[!installed_libs]):\n",
      "“installation of package ‘systemfonts’ had non-zero exit status”\n",
      "Warning message in install.packages(libs[!installed_libs]):\n",
      "“installation of package ‘units’ had non-zero exit status”\n",
      "Warning message in install.packages(libs[!installed_libs]):\n",
      "“installation of package ‘terra’ had non-zero exit status”\n",
      "Warning message in install.packages(libs[!installed_libs]):\n",
      "“installation of package ‘textshaping’ had non-zero exit status”\n",
      "Warning message in install.packages(libs[!installed_libs]):\n",
      "“installation of package ‘raster’ had non-zero exit status”\n",
      "Warning message in install.packages(libs[!installed_libs]):\n",
      "“installation of package ‘sf’ had non-zero exit status”\n",
      "Warning message in install.packages(libs[!installed_libs]):\n",
      "“installation of package ‘geodata’ had non-zero exit status”\n",
      "Warning message in install.packages(libs[!installed_libs]):\n",
      "“installation of package ‘ragg’ had non-zero exit status”\n",
      "Warning message in install.packages(libs[!installed_libs]):\n",
      "“installation of package ‘rayrender’ had non-zero exit status”\n",
      "Warning message in install.packages(libs[!installed_libs]):\n",
      "“installation of package ‘tidyverse’ had non-zero exit status”\n",
      "Warning message in install.packages(libs[!installed_libs]):\n",
      "“installation of package ‘rayshader’ had non-zero exit status”\n",
      "Updating HTML index of packages in '.Library'\n",
      "\n",
      "Making 'packages.html' ...\n",
      " done\n",
      "\n"
     ]
    }
   ],
   "source": [
    "installed_libs <- libs %in% rownames(\n",
    "    installed.packages()\n",
    ")\n",
    "\n",
    "if(any(installed_libs == F)){\n",
    "    install.packages(\n",
    "        libs[!installed_libs]\n",
    "    )\n",
    "}"
   ]
  },
  {
   "cell_type": "code",
   "execution_count": 4,
   "id": "eaf29646-a9c0-4c49-b41f-625995f62b0c",
   "metadata": {
    "tags": []
   },
   "outputs": [
    {
     "ename": "ERROR",
     "evalue": "Error in FUN(X[[i]], ...): unused argument (charactercter.only = TRUE)\n",
     "output_type": "error",
     "traceback": [
      "Error in FUN(X[[i]], ...): unused argument (charactercter.only = TRUE)\nTraceback:\n",
      "1. lapply(libs, library, charactercter.only = T)"
     ]
    }
   ],
   "source": [
    "invisible(lapply(\n",
    "    libs,library, charactercter.only = T\n",
    "))"
   ]
  },
  {
   "cell_type": "code",
   "execution_count": 7,
   "id": "7c01693f-c26a-442f-8408-fa724b99275c",
   "metadata": {
    "tags": []
   },
   "outputs": [],
   "source": [
    "urls <- c(\n",
    "    \"https://libdrive.ethz.ch/index.php/s/cO8or7iOe5dT2Rt/download?path=%2F3deg_cogs&files=ETH_GlobalCanopyHeight_10m_2020_N24E087_Map.tif\",\n",
    "    \"https://libdrive.ethz.ch/index.php/s/cO8or7iOe5dT2Rt/download?path=%2F3deg_cogs&files=ETH_GlobalCanopyHeight_10m_2020_N24E090_Map.tif\",\n",
    "    \"https://libdrive.ethz.ch/index.php/s/cO8or7iOe5dT2Rt/download?path=%2F3deg_cogs&files=ETH_GlobalCanopyHeight_10m_2020_N21E087_Map.tif\",\n",
    "    \"https://libdrive.ethz.ch/index.php/s/cO8or7iOe5dT2Rt/download?path=%2F3deg_cogs&files=ETH_GlobalCanopyHeight_10m_2020_N21E090_Map.tif\",\n",
    "    \"https://libdrive.ethz.ch/index.php/s/cO8or7iOe5dT2Rt/download?path=%2F3deg_cogs&files=ETH_GlobalCanopyHeight_10m_2020_N18E090_Map.tif\"\n",
    ")"
   ]
  },
  {
   "cell_type": "code",
   "execution_count": 8,
   "id": "4e1d3434-52c9-4fb7-8fbf-7c06cfc7a18a",
   "metadata": {
    "tags": []
   },
   "outputs": [
    {
     "name": "stderr",
     "output_type": "stream",
     "text": [
      "Warning message in download.file(url, destfile = basename(url), mode = \"wb\"):\n",
      "“downloaded length 100622336 != reported length 448792113”\n",
      "Warning message in download.file(url, destfile = basename(url), mode = \"wb\"):\n",
      "“URL 'https://libdrive.ethz.ch/index.php/s/cO8or7iOe5dT2Rt/download?path=%2F3deg_cogs&files=ETH_GlobalCanopyHeight_10m_2020_N24E087_Map.tif': Timeout of 60 seconds was reached”\n"
     ]
    },
    {
     "ename": "ERROR",
     "evalue": "Error in download.file(url, destfile = basename(url), mode = \"wb\"): download from 'https://libdrive.ethz.ch/index.php/s/cO8or7iOe5dT2Rt/download?path=%2F3deg_cogs&files=ETH_GlobalCanopyHeight_10m_2020_N24E087_Map.tif' failed\n",
     "output_type": "error",
     "traceback": [
      "Error in download.file(url, destfile = basename(url), mode = \"wb\"): download from 'https://libdrive.ethz.ch/index.php/s/cO8or7iOe5dT2Rt/download?path=%2F3deg_cogs&files=ETH_GlobalCanopyHeight_10m_2020_N24E087_Map.tif' failed\nTraceback:\n",
      "1. download.file(url, destfile = basename(url), mode = \"wb\")"
     ]
    }
   ],
   "source": [
    "for(url in urls){\n",
    "    download.file(\n",
    "    url, \n",
    "    destfile = basename(url),\n",
    "    mode = \"wb\"\n",
    ")\n",
    "} "
   ]
  },
  {
   "cell_type": "code",
   "execution_count": 11,
   "id": "5830ed9d-d5dd-4b2a-8f99-c347041dba85",
   "metadata": {
    "tags": []
   },
   "outputs": [],
   "source": [
    "raster_files <-\n",
    "list.files(\n",
    "    path = getwd(),\n",
    "    pattern = \"ETH\",\n",
    "    full.name = T\n",
    ")    "
   ]
  },
  {
   "cell_type": "code",
   "execution_count": 12,
   "id": "7740b630-d9f0-46a6-8ef2-3f020f673338",
   "metadata": {
    "tags": []
   },
   "outputs": [
    {
     "data": {
      "text/html": [
       "'/home/RHHLab/Research/GeoMapping/ETH_GlobalCanopyHeight_10m_2020_N24E087_Map.tif.crdownload'"
      ],
      "text/latex": [
       "'/home/RHHLab/Research/GeoMapping/ETH\\_GlobalCanopyHeight\\_10m\\_2020\\_N24E087\\_Map.tif.crdownload'"
      ],
      "text/markdown": [
       "'/home/RHHLab/Research/GeoMapping/ETH_GlobalCanopyHeight_10m_2020_N24E087_Map.tif.crdownload'"
      ],
      "text/plain": [
       "[1] \"/home/RHHLab/Research/GeoMapping/ETH_GlobalCanopyHeight_10m_2020_N24E087_Map.tif.crdownload\""
      ]
     },
     "metadata": {},
     "output_type": "display_data"
    }
   ],
   "source": [
    "raster_files"
   ]
  },
  {
   "cell_type": "code",
   "execution_count": 14,
   "id": "072b5636-b7bf-48e7-97a9-c0a425659f4c",
   "metadata": {
    "tags": []
   },
   "outputs": [],
   "source": [
    "get_country_borders <- function(){\n",
    "    main_path <- getwd()\n",
    "    country_borders <- geodata::gadm(\n",
    "    country = \"BGD\",\n",
    "    level = 1,\n",
    "    path = main_path\n",
    "    ) |>\n",
    "    sf::st_as_sf()\n",
    "    return(country_borders)\n",
    "}"
   ]
  },
  {
   "cell_type": "code",
   "execution_count": 15,
   "id": "bac25dda-11fa-4d7b-b329-6c2499106b12",
   "metadata": {
    "tags": []
   },
   "outputs": [
    {
     "ename": "ERROR",
     "evalue": "Error in loadNamespace(x): there is no package called ‘sf’\n",
     "output_type": "error",
     "traceback": [
      "Error in loadNamespace(x): there is no package called ‘sf’\nTraceback:\n",
      "1. get_country_borders()",
      "2. loadNamespace(x)   # at line 3-8 of file <text>",
      "3. withRestarts(stop(cond), retry_loadNamespace = function() NULL)",
      "4. withOneRestart(expr, restarts[[1L]])",
      "5. doWithOneRestart(return(expr), restart)"
     ]
    }
   ],
   "source": [
    "country_borders <- get_country_borders()"
   ]
  },
  {
   "cell_type": "code",
   "execution_count": null,
   "id": "ba9c0269-3666-4bcb-b729-b913acb66a4f",
   "metadata": {},
   "outputs": [],
   "source": []
  },
  {
   "cell_type": "code",
   "execution_count": null,
   "id": "908bd554-66d6-42b5-80c1-2bfec9650e46",
   "metadata": {},
   "outputs": [],
   "source": []
  },
  {
   "cell_type": "code",
   "execution_count": null,
   "id": "cf11c0b6-13b6-4df5-adcd-e69e8500d26c",
   "metadata": {},
   "outputs": [],
   "source": []
  },
  {
   "cell_type": "code",
   "execution_count": null,
   "id": "07174f20-1e5a-4b66-9bb2-2b8d6011b47c",
   "metadata": {},
   "outputs": [],
   "source": []
  },
  {
   "cell_type": "code",
   "execution_count": null,
   "id": "1a95ea24-ef2a-4c46-8171-48518ef70249",
   "metadata": {},
   "outputs": [],
   "source": []
  }
 ],
 "metadata": {
  "kernelspec": {
   "display_name": "R",
   "language": "R",
   "name": "ir"
  },
  "language_info": {
   "codemirror_mode": "r",
   "file_extension": ".r",
   "mimetype": "text/x-r-source",
   "name": "R",
   "pygments_lexer": "r",
   "version": "4.2.0"
  }
 },
 "nbformat": 4,
 "nbformat_minor": 5
}
