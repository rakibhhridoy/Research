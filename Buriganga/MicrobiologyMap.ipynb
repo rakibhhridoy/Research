{
 "cells": [
  {
   "cell_type": "code",
   "execution_count": 4,
   "id": "a2dce435",
   "metadata": {},
   "outputs": [],
   "source": [
    "import geopandas as gpd\n",
    "import pandas as pd\n",
    "import matplotlib.pyplot"
   ]
  },
  {
   "cell_type": "code",
   "execution_count": 2,
   "id": "e198a792",
   "metadata": {},
   "outputs": [],
   "source": [
    "df = pd.read_csv(\"data/BurigangaMap.csv\")"
   ]
  },
  {
   "cell_type": "code",
   "execution_count": 3,
   "id": "214ae130",
   "metadata": {},
   "outputs": [
    {
     "data": {
      "text/html": [
       "<div>\n",
       "<style scoped>\n",
       "    .dataframe tbody tr th:only-of-type {\n",
       "        vertical-align: middle;\n",
       "    }\n",
       "\n",
       "    .dataframe tbody tr th {\n",
       "        vertical-align: top;\n",
       "    }\n",
       "\n",
       "    .dataframe thead th {\n",
       "        text-align: right;\n",
       "    }\n",
       "</style>\n",
       "<table border=\"1\" class=\"dataframe\">\n",
       "  <thead>\n",
       "    <tr style=\"text-align: right;\">\n",
       "      <th></th>\n",
       "      <th>Number</th>\n",
       "      <th>Sampling Point</th>\n",
       "      <th>Latitude</th>\n",
       "      <th>Longitude</th>\n",
       "      <th>NH4+  (mg/l)</th>\n",
       "      <th>NO3 (mg/l)</th>\n",
       "      <th>Phosphate(mg/l)</th>\n",
       "      <th>Sulfates(mg/l)</th>\n",
       "      <th>THB</th>\n",
       "      <th>TC</th>\n",
       "      <th>FC</th>\n",
       "      <th>FS</th>\n",
       "      <th>Vibrio C</th>\n",
       "      <th>E Coli</th>\n",
       "    </tr>\n",
       "  </thead>\n",
       "  <tbody>\n",
       "    <tr>\n",
       "      <th>0</th>\n",
       "      <td>1</td>\n",
       "      <td>Gabtoli_Dhalweshri</td>\n",
       "      <td>23.787444</td>\n",
       "      <td>90.334250</td>\n",
       "      <td>2.6</td>\n",
       "      <td>13.1</td>\n",
       "      <td>3.5</td>\n",
       "      <td>8.77</td>\n",
       "      <td>8.36</td>\n",
       "      <td>200</td>\n",
       "      <td>158</td>\n",
       "      <td>69</td>\n",
       "      <td>10.28</td>\n",
       "      <td>12</td>\n",
       "    </tr>\n",
       "    <tr>\n",
       "      <th>1</th>\n",
       "      <td>2</td>\n",
       "      <td>Gabtoli_turag</td>\n",
       "      <td>23.784639</td>\n",
       "      <td>90.336417</td>\n",
       "      <td>3.2</td>\n",
       "      <td>12.4</td>\n",
       "      <td>5.7</td>\n",
       "      <td>11.40</td>\n",
       "      <td>15.99</td>\n",
       "      <td>240</td>\n",
       "      <td>213</td>\n",
       "      <td>100</td>\n",
       "      <td>12.67</td>\n",
       "      <td>58</td>\n",
       "    </tr>\n",
       "    <tr>\n",
       "      <th>2</th>\n",
       "      <td>3</td>\n",
       "      <td>Shah Cem MirpurGhat</td>\n",
       "      <td>23.774111</td>\n",
       "      <td>90.336833</td>\n",
       "      <td>8.0</td>\n",
       "      <td>17.3</td>\n",
       "      <td>6.0</td>\n",
       "      <td>12.40</td>\n",
       "      <td>21.95</td>\n",
       "      <td>390</td>\n",
       "      <td>290</td>\n",
       "      <td>77</td>\n",
       "      <td>16.40</td>\n",
       "      <td>69</td>\n",
       "    </tr>\n",
       "    <tr>\n",
       "      <th>3</th>\n",
       "      <td>4</td>\n",
       "      <td>Hazaribag_Shampur</td>\n",
       "      <td>23.749972</td>\n",
       "      <td>90.336750</td>\n",
       "      <td>9.4</td>\n",
       "      <td>24.6</td>\n",
       "      <td>3.5</td>\n",
       "      <td>9.25</td>\n",
       "      <td>31.70</td>\n",
       "      <td>410</td>\n",
       "      <td>370</td>\n",
       "      <td>80</td>\n",
       "      <td>18.91</td>\n",
       "      <td>70</td>\n",
       "    </tr>\n",
       "    <tr>\n",
       "      <th>4</th>\n",
       "      <td>5</td>\n",
       "      <td>Rayerbazar</td>\n",
       "      <td>23.740083</td>\n",
       "      <td>90.350281</td>\n",
       "      <td>2.1</td>\n",
       "      <td>9.8</td>\n",
       "      <td>3.9</td>\n",
       "      <td>9.20</td>\n",
       "      <td>6.14</td>\n",
       "      <td>160</td>\n",
       "      <td>120</td>\n",
       "      <td>110</td>\n",
       "      <td>8.52</td>\n",
       "      <td>6</td>\n",
       "    </tr>\n",
       "    <tr>\n",
       "      <th>5</th>\n",
       "      <td>6</td>\n",
       "      <td>Kholamora Bazar</td>\n",
       "      <td>23.716889</td>\n",
       "      <td>90.358917</td>\n",
       "      <td>5.6</td>\n",
       "      <td>18.2</td>\n",
       "      <td>5.0</td>\n",
       "      <td>9.86</td>\n",
       "      <td>18.73</td>\n",
       "      <td>355</td>\n",
       "      <td>285</td>\n",
       "      <td>75</td>\n",
       "      <td>15.44</td>\n",
       "      <td>65</td>\n",
       "    </tr>\n",
       "    <tr>\n",
       "      <th>6</th>\n",
       "      <td>7</td>\n",
       "      <td>Zinzira</td>\n",
       "      <td>23.710083</td>\n",
       "      <td>90.391972</td>\n",
       "      <td>4.6</td>\n",
       "      <td>12.4</td>\n",
       "      <td>6.5</td>\n",
       "      <td>18.70</td>\n",
       "      <td>10.58</td>\n",
       "      <td>198</td>\n",
       "      <td>171</td>\n",
       "      <td>42</td>\n",
       "      <td>11.39</td>\n",
       "      <td>33</td>\n",
       "    </tr>\n",
       "    <tr>\n",
       "      <th>7</th>\n",
       "      <td>8</td>\n",
       "      <td>Sadarghat_Terminal</td>\n",
       "      <td>23.702944</td>\n",
       "      <td>90.412139</td>\n",
       "      <td>11.2</td>\n",
       "      <td>24.5</td>\n",
       "      <td>5.3</td>\n",
       "      <td>10.80</td>\n",
       "      <td>35.00</td>\n",
       "      <td>750</td>\n",
       "      <td>560</td>\n",
       "      <td>125</td>\n",
       "      <td>18.83</td>\n",
       "      <td>130</td>\n",
       "    </tr>\n",
       "    <tr>\n",
       "      <th>8</th>\n",
       "      <td>9</td>\n",
       "      <td>Postogola Bridge</td>\n",
       "      <td>23.690139</td>\n",
       "      <td>90.424083</td>\n",
       "      <td>9.4</td>\n",
       "      <td>25.8</td>\n",
       "      <td>6.8</td>\n",
       "      <td>17.10</td>\n",
       "      <td>27.42</td>\n",
       "      <td>428</td>\n",
       "      <td>358</td>\n",
       "      <td>97</td>\n",
       "      <td>17.95</td>\n",
       "      <td>65</td>\n",
       "    </tr>\n",
       "  </tbody>\n",
       "</table>\n",
       "</div>"
      ],
      "text/plain": [
       "   Number       Sampling Point   Latitude  Longitude  NH4+  (mg/l)  \\\n",
       "0       1   Gabtoli_Dhalweshri  23.787444  90.334250           2.6   \n",
       "1       2        Gabtoli_turag  23.784639  90.336417           3.2   \n",
       "2       3  Shah Cem MirpurGhat  23.774111  90.336833           8.0   \n",
       "3       4    Hazaribag_Shampur  23.749972  90.336750           9.4   \n",
       "4       5           Rayerbazar  23.740083  90.350281           2.1   \n",
       "5       6      Kholamora Bazar  23.716889  90.358917           5.6   \n",
       "6       7              Zinzira  23.710083  90.391972           4.6   \n",
       "7       8   Sadarghat_Terminal  23.702944  90.412139          11.2   \n",
       "8       9     Postogola Bridge  23.690139  90.424083           9.4   \n",
       "\n",
       "   NO3 (mg/l)  Phosphate(mg/l)  Sulfates(mg/l)    THB   TC   FC   FS  \\\n",
       "0        13.1              3.5            8.77   8.36  200  158   69   \n",
       "1        12.4              5.7           11.40  15.99  240  213  100   \n",
       "2        17.3              6.0           12.40  21.95  390  290   77   \n",
       "3        24.6              3.5            9.25  31.70  410  370   80   \n",
       "4         9.8              3.9            9.20   6.14  160  120  110   \n",
       "5        18.2              5.0            9.86  18.73  355  285   75   \n",
       "6        12.4              6.5           18.70  10.58  198  171   42   \n",
       "7        24.5              5.3           10.80  35.00  750  560  125   \n",
       "8        25.8              6.8           17.10  27.42  428  358   97   \n",
       "\n",
       "   Vibrio C  E Coli  \n",
       "0     10.28      12  \n",
       "1     12.67      58  \n",
       "2     16.40      69  \n",
       "3     18.91      70  \n",
       "4      8.52       6  \n",
       "5     15.44      65  \n",
       "6     11.39      33  \n",
       "7     18.83     130  \n",
       "8     17.95      65  "
      ]
     },
     "execution_count": 3,
     "metadata": {},
     "output_type": "execute_result"
    }
   ],
   "source": [
    "df"
   ]
  },
  {
   "cell_type": "code",
   "execution_count": 6,
   "id": "7af1df24",
   "metadata": {},
   "outputs": [
    {
     "data": {
      "text/plain": [
       "<AxesSubplot:xlabel='Longitude', ylabel='Latitude'>"
      ]
     },
     "execution_count": 6,
     "metadata": {},
     "output_type": "execute_result"
    },
    {
     "data": {
      "image/png": "[encoded data removed]",
      "text/plain": [
       "<Figure size 432x288 with 2 Axes>"
      ]
     },
     "metadata": {
      "needs_background": "light"
     },
     "output_type": "display_data"
    }
   ],
   "source": [
    "df.plot.hexbin(x = \"Longitude\", y = \"Latitude\")"
   ]
  },
  {
   "cell_type": "code",
   "execution_count": 7,
   "id": "6987cd61",
   "metadata": {},
   "outputs": [],
   "source": [
    "import plotly.express as px\n",
    "import plotly.io as pio"
   ]
  },
  {
   "cell_type": "code",
   "execution_count": 10,
   "id": "f623b041",
   "metadata": {},
   "outputs": [],
   "source": [
    "pio.renderers.default = \"firefox\""
   ]
  },
  {
   "cell_type": "code",
   "execution_count": 13,
   "id": "8fabf5e1",
   "metadata": {},
   "outputs": [],
   "source": [
    "from shapely.geometry import Point, Polygon"
   ]
  },
  {
   "cell_type": "code",
   "execution_count": null,
   "id": "ab974d4b",
   "metadata": {},
   "outputs": [],
   "source": []
  },
  {
   "cell_type": "code",
   "execution_count": null,
   "id": "71444739",
   "metadata": {},
   "outputs": [],
   "source": []
  },
  {
   "cell_type": "code",
   "execution_count": null,
   "id": "3e254969",
   "metadata": {},
   "outputs": [],
   "source": []
  },
  {
   "cell_type": "code",
   "execution_count": null,
   "id": "5938a66b",
   "metadata": {},
   "outputs": [],
   "source": []
  },
  {
   "cell_type": "code",
   "execution_count": 16,
   "id": "11fc127d",
   "metadata": {},
   "outputs": [],
   "source": [
    "geometric_points = []\n",
    "for xy in zip(df['Longitude'], df['Latitude']):\n",
    "   geometric_points.append(Point(xy))\n"
   ]
  },
  {
   "cell_type": "code",
   "execution_count": 17,
   "id": "f997949d",
   "metadata": {},
   "outputs": [
    {
     "data": {
      "text/plain": [
       "[<POINT (90.334 23.787)>,\n",
       " <POINT (90.336 23.785)>,\n",
       " <POINT (90.337 23.774)>,\n",
       " <POINT (90.337 23.75)>,\n",
       " <POINT (90.35 23.74)>,\n",
       " <POINT (90.359 23.717)>,\n",
       " <POINT (90.392 23.71)>,\n",
       " <POINT (90.412 23.703)>,\n",
       " <POINT (90.424 23.69)>]"
      ]
     },
     "execution_count": 17,
     "metadata": {},
     "output_type": "execute_result"
    }
   ],
   "source": [
    "geometric_points"
   ]
  },
  {
   "cell_type": "code",
   "execution_count": 20,
   "id": "35830563",
   "metadata": {},
   "outputs": [
    {
     "name": "stderr",
     "output_type": "stream",
     "text": [
      "/home/RHHLab/anaconda3/lib/python3.9/site-packages/pyproj/crs/crs.py:141: FutureWarning:\n",
      "\n",
      "'+init=<authority>:<code>' syntax is deprecated. '<authority>:<code>' is the preferred initialization method. When making the change, be mindful of axis order changes: https://pyproj4.github.io/pyproj/stable/gotchas.html#axis-order-changes-in-proj-6\n",
      "\n"
     ]
    },
    {
     "data": {
      "text/html": [
       "<div>\n",
       "<style scoped>\n",
       "    .dataframe tbody tr th:only-of-type {\n",
       "        vertical-align: middle;\n",
       "    }\n",
       "\n",
       "    .dataframe tbody tr th {\n",
       "        vertical-align: top;\n",
       "    }\n",
       "\n",
       "    .dataframe thead th {\n",
       "        text-align: right;\n",
       "    }\n",
       "</style>\n",
       "<table border=\"1\" class=\"dataframe\">\n",
       "  <thead>\n",
       "    <tr style=\"text-align: right;\">\n",
       "      <th></th>\n",
       "      <th>Number</th>\n",
       "      <th>Sampling Point</th>\n",
       "      <th>Latitude</th>\n",
       "      <th>Longitude</th>\n",
       "      <th>NH4+  (mg/l)</th>\n",
       "      <th>NO3 (mg/l)</th>\n",
       "      <th>Phosphate(mg/l)</th>\n",
       "      <th>Sulfates(mg/l)</th>\n",
       "      <th>THB</th>\n",
       "      <th>TC</th>\n",
       "      <th>FC</th>\n",
       "      <th>FS</th>\n",
       "      <th>Vibrio C</th>\n",
       "      <th>E Coli</th>\n",
       "      <th>geometry</th>\n",
       "    </tr>\n",
       "  </thead>\n",
       "  <tbody>\n",
       "    <tr>\n",
       "      <th>0</th>\n",
       "      <td>1</td>\n",
       "      <td>Gabtoli_Dhalweshri</td>\n",
       "      <td>23.787444</td>\n",
       "      <td>90.334250</td>\n",
       "      <td>2.6</td>\n",
       "      <td>13.1</td>\n",
       "      <td>3.5</td>\n",
       "      <td>8.77</td>\n",
       "      <td>8.36</td>\n",
       "      <td>200</td>\n",
       "      <td>158</td>\n",
       "      <td>69</td>\n",
       "      <td>10.28</td>\n",
       "      <td>12</td>\n",
       "      <td>POINT (90.33425 23.78744)</td>\n",
       "    </tr>\n",
       "    <tr>\n",
       "      <th>1</th>\n",
       "      <td>2</td>\n",
       "      <td>Gabtoli_turag</td>\n",
       "      <td>23.784639</td>\n",
       "      <td>90.336417</td>\n",
       "      <td>3.2</td>\n",
       "      <td>12.4</td>\n",
       "      <td>5.7</td>\n",
       "      <td>11.40</td>\n",
       "      <td>15.99</td>\n",
       "      <td>240</td>\n",
       "      <td>213</td>\n",
       "      <td>100</td>\n",
       "      <td>12.67</td>\n",
       "      <td>58</td>\n",
       "      <td>POINT (90.33642 23.78464)</td>\n",
       "    </tr>\n",
       "    <tr>\n",
       "      <th>2</th>\n",
       "      <td>3</td>\n",
       "      <td>Shah Cem MirpurGhat</td>\n",
       "      <td>23.774111</td>\n",
       "      <td>90.336833</td>\n",
       "      <td>8.0</td>\n",
       "      <td>17.3</td>\n",
       "      <td>6.0</td>\n",
       "      <td>12.40</td>\n",
       "      <td>21.95</td>\n",
       "      <td>390</td>\n",
       "      <td>290</td>\n",
       "      <td>77</td>\n",
       "      <td>16.40</td>\n",
       "      <td>69</td>\n",
       "      <td>POINT (90.33683 23.77411)</td>\n",
       "    </tr>\n",
       "    <tr>\n",
       "      <th>3</th>\n",
       "      <td>4</td>\n",
       "      <td>Hazaribag_Shampur</td>\n",
       "      <td>23.749972</td>\n",
       "      <td>90.336750</td>\n",
       "      <td>9.4</td>\n",
       "      <td>24.6</td>\n",
       "      <td>3.5</td>\n",
       "      <td>9.25</td>\n",
       "      <td>31.70</td>\n",
       "      <td>410</td>\n",
       "      <td>370</td>\n",
       "      <td>80</td>\n",
       "      <td>18.91</td>\n",
       "      <td>70</td>\n",
       "      <td>POINT (90.33675 23.74997)</td>\n",
       "    </tr>\n",
       "    <tr>\n",
       "      <th>4</th>\n",
       "      <td>5</td>\n",
       "      <td>Rayerbazar</td>\n",
       "      <td>23.740083</td>\n",
       "      <td>90.350281</td>\n",
       "      <td>2.1</td>\n",
       "      <td>9.8</td>\n",
       "      <td>3.9</td>\n",
       "      <td>9.20</td>\n",
       "      <td>6.14</td>\n",
       "      <td>160</td>\n",
       "      <td>120</td>\n",
       "      <td>110</td>\n",
       "      <td>8.52</td>\n",
       "      <td>6</td>\n",
       "      <td>POINT (90.35028 23.74008)</td>\n",
       "    </tr>\n",
       "    <tr>\n",
       "      <th>5</th>\n",
       "      <td>6</td>\n",
       "      <td>Kholamora Bazar</td>\n",
       "      <td>23.716889</td>\n",
       "      <td>90.358917</td>\n",
       "      <td>5.6</td>\n",
       "      <td>18.2</td>\n",
       "      <td>5.0</td>\n",
       "      <td>9.86</td>\n",
       "      <td>18.73</td>\n",
       "      <td>355</td>\n",
       "      <td>285</td>\n",
       "      <td>75</td>\n",
       "      <td>15.44</td>\n",
       "      <td>65</td>\n",
       "      <td>POINT (90.35892 23.71689)</td>\n",
       "    </tr>\n",
       "    <tr>\n",
       "      <th>6</th>\n",
       "      <td>7</td>\n",
       "      <td>Zinzira</td>\n",
       "      <td>23.710083</td>\n",
       "      <td>90.391972</td>\n",
       "      <td>4.6</td>\n",
       "      <td>12.4</td>\n",
       "      <td>6.5</td>\n",
       "      <td>18.70</td>\n",
       "      <td>10.58</td>\n",
       "      <td>198</td>\n",
       "      <td>171</td>\n",
       "      <td>42</td>\n",
       "      <td>11.39</td>\n",
       "      <td>33</td>\n",
       "      <td>POINT (90.39197 23.71008)</td>\n",
       "    </tr>\n",
       "    <tr>\n",
       "      <th>7</th>\n",
       "      <td>8</td>\n",
       "      <td>Sadarghat_Terminal</td>\n",
       "      <td>23.702944</td>\n",
       "      <td>90.412139</td>\n",
       "      <td>11.2</td>\n",
       "      <td>24.5</td>\n",
       "      <td>5.3</td>\n",
       "      <td>10.80</td>\n",
       "      <td>35.00</td>\n",
       "      <td>750</td>\n",
       "      <td>560</td>\n",
       "      <td>125</td>\n",
       "      <td>18.83</td>\n",
       "      <td>130</td>\n",
       "      <td>POINT (90.41214 23.70294)</td>\n",
       "    </tr>\n",
       "    <tr>\n",
       "      <th>8</th>\n",
       "      <td>9</td>\n",
       "      <td>Postogola Bridge</td>\n",
       "      <td>23.690139</td>\n",
       "      <td>90.424083</td>\n",
       "      <td>9.4</td>\n",
       "      <td>25.8</td>\n",
       "      <td>6.8</td>\n",
       "      <td>17.10</td>\n",
       "      <td>27.42</td>\n",
       "      <td>428</td>\n",
       "      <td>358</td>\n",
       "      <td>97</td>\n",
       "      <td>17.95</td>\n",
       "      <td>65</td>\n",
       "      <td>POINT (90.42408 23.69014)</td>\n",
       "    </tr>\n",
       "  </tbody>\n",
       "</table>\n",
       "</div>"
      ],
      "text/plain": [
       "   Number       Sampling Point   Latitude  Longitude  NH4+  (mg/l)  \\\n",
       "0       1   Gabtoli_Dhalweshri  23.787444  90.334250           2.6   \n",
       "1       2        Gabtoli_turag  23.784639  90.336417           3.2   \n",
       "2       3  Shah Cem MirpurGhat  23.774111  90.336833           8.0   \n",
       "3       4    Hazaribag_Shampur  23.749972  90.336750           9.4   \n",
       "4       5           Rayerbazar  23.740083  90.350281           2.1   \n",
       "5       6      Kholamora Bazar  23.716889  90.358917           5.6   \n",
       "6       7              Zinzira  23.710083  90.391972           4.6   \n",
       "7       8   Sadarghat_Terminal  23.702944  90.412139          11.2   \n",
       "8       9     Postogola Bridge  23.690139  90.424083           9.4   \n",
       "\n",
       "   NO3 (mg/l)  Phosphate(mg/l)  Sulfates(mg/l)    THB   TC   FC   FS  \\\n",
       "0        13.1              3.5            8.77   8.36  200  158   69   \n",
       "1        12.4              5.7           11.40  15.99  240  213  100   \n",
       "2        17.3              6.0           12.40  21.95  390  290   77   \n",
       "3        24.6              3.5            9.25  31.70  410  370   80   \n",
       "4         9.8              3.9            9.20   6.14  160  120  110   \n",
       "5        18.2              5.0            9.86  18.73  355  285   75   \n",
       "6        12.4              6.5           18.70  10.58  198  171   42   \n",
       "7        24.5              5.3           10.80  35.00  750  560  125   \n",
       "8        25.8              6.8           17.10  27.42  428  358   97   \n",
       "\n",
       "   Vibrio C  E Coli                   geometry  \n",
       "0     10.28      12  POINT (90.33425 23.78744)  \n",
       "1     12.67      58  POINT (90.33642 23.78464)  \n",
       "2     16.40      69  POINT (90.33683 23.77411)  \n",
       "3     18.91      70  POINT (90.33675 23.74997)  \n",
       "4      8.52       6  POINT (90.35028 23.74008)  \n",
       "5     15.44      65  POINT (90.35892 23.71689)  \n",
       "6     11.39      33  POINT (90.39197 23.71008)  \n",
       "7     18.83     130  POINT (90.41214 23.70294)  \n",
       "8     17.95      65  POINT (90.42408 23.69014)  "
      ]
     },
     "execution_count": 20,
     "metadata": {},
     "output_type": "execute_result"
    }
   ],
   "source": [
    "df = gpd.GeoDataFrame(df,\n",
    "                                 crs = {'init': 'epsg:4326'},\n",
    "                                 geometry = geometric_points)\n",
    "df"
   ]
  },
  {
   "cell_type": "code",
   "execution_count": 21,
   "id": "7109cc1f",
   "metadata": {},
   "outputs": [
    {
     "data": {
      "text/plain": [
       "geopandas.geodataframe.GeoDataFrame"
      ]
     },
     "execution_count": 21,
     "metadata": {},
     "output_type": "execute_result"
    }
   ],
   "source": [
    "type(df)"
   ]
  },
  {
   "cell_type": "code",
   "execution_count": 29,
   "id": "264ccc4d",
   "metadata": {},
   "outputs": [
    {
     "data": {
      "text/plain": [
       "<AxesSubplot:>"
      ]
     },
     "execution_count": 29,
     "metadata": {},
     "output_type": "execute_result"
    },
    {
     "data": {
      "image/png": "[encoded data removed]",
      "text/plain": [
       "<Figure size 432x288 with 1 Axes>"
      ]
     },
     "metadata": {
      "needs_background": "light"
     },
     "output_type": "display_data"
    }
   ],
   "source": [
    "df[\"E Coli\"].plot()"
   ]
  },
  {
   "cell_type": "code",
   "execution_count": 37,
   "id": "32199d40",
   "metadata": {},
   "outputs": [],
   "source": [
    "import matplotlib.pyplot as plt"
   ]
  },
  {
   "cell_type": "code",
   "execution_count": 39,
   "id": "b66f5859",
   "metadata": {},
   "outputs": [
    {
     "name": "stderr",
     "output_type": "stream",
     "text": [
      "/tmp/ipykernel_12658/1994014309.py:1: UserWarning:\n",
      "\n",
      "Geometry is in a geographic CRS. Results from 'centroid' are likely incorrect. Use 'GeoSeries.to_crs()' to re-project geometries to a projected CRS before this operation.\n",
      "\n",
      "\n"
     ]
    },
    {
     "data": {
      "text/plain": [
       "0    POINT (90.33425 23.78744)\n",
       "1    POINT (90.33642 23.78464)\n",
       "2    POINT (90.33683 23.77411)\n",
       "3    POINT (90.33675 23.74997)\n",
       "4    POINT (90.35028 23.74008)\n",
       "dtype: geometry"
      ]
     },
     "execution_count": 39,
     "metadata": {},
     "output_type": "execute_result"
    }
   ],
   "source": [
    "cents = df.centroid\n",
    "cents.head()"
   ]
  },
  {
   "cell_type": "code",
   "execution_count": 40,
   "id": "602c557b",
   "metadata": {},
   "outputs": [],
   "source": [
    "poly = df['geometry'][0]\n",
    "pt1 = cents[0]\n",
    "pt2 = cents[1]"
   ]
  },
  {
   "cell_type": "code",
   "execution_count": 41,
   "id": "1c46b373",
   "metadata": {},
   "outputs": [
    {
     "data": {
      "text/plain": [
       "<AxesSubplot:>"
      ]
     },
     "execution_count": 41,
     "metadata": {},
     "output_type": "execute_result"
    },
    {
     "data": {
      "image/png": "[encoded data removed]",
      "text/plain": [
       "<Figure size 432x288 with 1 Axes>"
      ]
     },
     "metadata": {
      "needs_background": "light"
     },
     "output_type": "display_data"
    }
   ],
   "source": [
    "cents.plot()"
   ]
  },
  {
   "cell_type": "code",
   "execution_count": 42,
   "id": "e2bed5bd",
   "metadata": {},
   "outputs": [],
   "source": [
    "import plotly.express as px"
   ]
  },
  {
   "cell_type": "code",
   "execution_count": 44,
   "id": "c208c111",
   "metadata": {},
   "outputs": [],
   "source": [
    "fig = px.density_mapbox(df, lat='Latitude', lon='Longitude', z='E Coli', radius=10,\n",
    "                        center=dict(lat=0, lon=180), zoom=0,\n",
    "                        mapbox_style=\"stamen-terrain\")\n",
    "fig.show()"
   ]
  },
  {
   "cell_type": "code",
   "execution_count": 45,
   "id": "eb35cccc",
   "metadata": {},
   "outputs": [],
   "source": [
    "buri = pd.read_json(\"data/Buriganga.json\")"
   ]
  },
  {
   "cell_type": "code",
   "execution_count": 46,
   "id": "3784d5c8",
   "metadata": {},
   "outputs": [
    {
     "data": {
      "text/html": [
       "<div>\n",
       "<style scoped>\n",
       "    .dataframe tbody tr th:only-of-type {\n",
       "        vertical-align: middle;\n",
       "    }\n",
       "\n",
       "    .dataframe tbody tr th {\n",
       "        vertical-align: top;\n",
       "    }\n",
       "\n",
       "    .dataframe thead th {\n",
       "        text-align: right;\n",
       "    }\n",
       "</style>\n",
       "<table border=\"1\" class=\"dataframe\">\n",
       "  <thead>\n",
       "    <tr style=\"text-align: right;\">\n",
       "      <th></th>\n",
       "      <th>DD</th>\n",
       "      <th>DMS</th>\n",
       "      <th>geohash</th>\n",
       "      <th>UTM</th>\n",
       "    </tr>\n",
       "  </thead>\n",
       "  <tbody>\n",
       "    <tr>\n",
       "      <th>lat</th>\n",
       "      <td>23.63333</td>\n",
       "      <td>23º37'59.99\" N</td>\n",
       "      <td>wh0q3y7d1k</td>\n",
       "      <td>46Q 238147.22775276 2615984.39614307</td>\n",
       "    </tr>\n",
       "    <tr>\n",
       "      <th>lng</th>\n",
       "      <td>90.43333</td>\n",
       "      <td>90º25'59.99\" E</td>\n",
       "      <td>wh0q3y7d1k</td>\n",
       "      <td>46Q 238147.22775276 2615984.39614307</td>\n",
       "    </tr>\n",
       "  </tbody>\n",
       "</table>\n",
       "</div>"
      ],
      "text/plain": [
       "           DD             DMS     geohash  \\\n",
       "lat  23.63333  23º37'59.99\" N  wh0q3y7d1k   \n",
       "lng  90.43333  90º25'59.99\" E  wh0q3y7d1k   \n",
       "\n",
       "                                      UTM  \n",
       "lat  46Q 238147.22775276 2615984.39614307  \n",
       "lng  46Q 238147.22775276 2615984.39614307  "
      ]
     },
     "execution_count": 46,
     "metadata": {},
     "output_type": "execute_result"
    }
   ],
   "source": [
    "buri"
   ]
  },
  {
   "cell_type": "code",
   "execution_count": 49,
   "id": "b1064a42",
   "metadata": {},
   "outputs": [],
   "source": [
    "from pykml import parser\n",
    "with open('data/Sampling points.kml', 'r') as f:\n",
    "    root = parser.parse(f).getroot()\n",
    "namespace = {\"kml\": 'http://www.opengis.net/kml/2.2'}\n",
    "pms = root.xpath(\".//kml:Placemark[.//kml:Polygon]\", namespaces=namespace)\n",
    "for p in pms:\n",
    "    print(p.Polygon.outerBoundaryIs.LinearRing.coordinates)"
   ]
  },
  {
   "cell_type": "code",
   "execution_count": 54,
   "id": "9c8db4fd",
   "metadata": {},
   "outputs": [],
   "source": [
    "gpd.io.file.fiona.drvsupport.supported_drivers['KML'] = 'rw'\n",
    "df = gpd.read_file('data/Sampling points.kml', driver='KML')"
   ]
  },
  {
   "cell_type": "code",
   "execution_count": 55,
   "id": "acc34f7a",
   "metadata": {},
   "outputs": [
    {
     "data": {
      "text/html": [
       "<div>\n",
       "<style scoped>\n",
       "    .dataframe tbody tr th:only-of-type {\n",
       "        vertical-align: middle;\n",
       "    }\n",
       "\n",
       "    .dataframe tbody tr th {\n",
       "        vertical-align: top;\n",
       "    }\n",
       "\n",
       "    .dataframe thead th {\n",
       "        text-align: right;\n",
       "    }\n",
       "</style>\n",
       "<table border=\"1\" class=\"dataframe\">\n",
       "  <thead>\n",
       "    <tr style=\"text-align: right;\">\n",
       "      <th></th>\n",
       "      <th>Name</th>\n",
       "      <th>Description</th>\n",
       "      <th>geometry</th>\n",
       "    </tr>\n",
       "  </thead>\n",
       "  <tbody>\n",
       "    <tr>\n",
       "      <th>0</th>\n",
       "      <td>S1</td>\n",
       "      <td></td>\n",
       "      <td>POINT Z (90.33543 23.78439 0.00000)</td>\n",
       "    </tr>\n",
       "    <tr>\n",
       "      <th>1</th>\n",
       "      <td>S2</td>\n",
       "      <td></td>\n",
       "      <td>POINT Z (90.33728 23.77330 0.00000)</td>\n",
       "    </tr>\n",
       "    <tr>\n",
       "      <th>2</th>\n",
       "      <td>S3</td>\n",
       "      <td></td>\n",
       "      <td>POINT Z (90.33223 23.75465 0.00000)</td>\n",
       "    </tr>\n",
       "    <tr>\n",
       "      <th>3</th>\n",
       "      <td>S4</td>\n",
       "      <td></td>\n",
       "      <td>POINT Z (90.34239 23.74744 0.00000)</td>\n",
       "    </tr>\n",
       "    <tr>\n",
       "      <th>4</th>\n",
       "      <td>S5</td>\n",
       "      <td></td>\n",
       "      <td>POINT Z (90.35181 23.73740 0.00000)</td>\n",
       "    </tr>\n",
       "    <tr>\n",
       "      <th>5</th>\n",
       "      <td>S6</td>\n",
       "      <td></td>\n",
       "      <td>POINT Z (90.35892 23.71689 0.00000)</td>\n",
       "    </tr>\n",
       "    <tr>\n",
       "      <th>6</th>\n",
       "      <td>S7</td>\n",
       "      <td></td>\n",
       "      <td>POINT Z (90.39874 23.70999 0.00000)</td>\n",
       "    </tr>\n",
       "    <tr>\n",
       "      <th>7</th>\n",
       "      <td>S8</td>\n",
       "      <td></td>\n",
       "      <td>POINT Z (90.41313 23.70073 0.00000)</td>\n",
       "    </tr>\n",
       "    <tr>\n",
       "      <th>8</th>\n",
       "      <td>S9</td>\n",
       "      <td></td>\n",
       "      <td>POINT Z (90.45365 23.66122 0.00000)</td>\n",
       "    </tr>\n",
       "  </tbody>\n",
       "</table>\n",
       "</div>"
      ],
      "text/plain": [
       "  Name Description                             geometry\n",
       "0   S1              POINT Z (90.33543 23.78439 0.00000)\n",
       "1   S2              POINT Z (90.33728 23.77330 0.00000)\n",
       "2   S3              POINT Z (90.33223 23.75465 0.00000)\n",
       "3   S4              POINT Z (90.34239 23.74744 0.00000)\n",
       "4   S5              POINT Z (90.35181 23.73740 0.00000)\n",
       "5   S6              POINT Z (90.35892 23.71689 0.00000)\n",
       "6   S7              POINT Z (90.39874 23.70999 0.00000)\n",
       "7   S8              POINT Z (90.41313 23.70073 0.00000)\n",
       "8   S9              POINT Z (90.45365 23.66122 0.00000)"
      ]
     },
     "execution_count": 55,
     "metadata": {},
     "output_type": "execute_result"
    }
   ],
   "source": [
    "df"
   ]
  },
  {
   "cell_type": "code",
   "execution_count": 56,
   "id": "b2d5a474",
   "metadata": {},
   "outputs": [
    {
     "data": {
      "text/plain": [
       "geopandas.geodataframe.GeoDataFrame"
      ]
     },
     "execution_count": 56,
     "metadata": {},
     "output_type": "execute_result"
    }
   ],
   "source": [
    "type(df)"
   ]
  },
  {
   "cell_type": "code",
   "execution_count": null,
   "id": "65a3b234",
   "metadata": {},
   "outputs": [],
   "source": []
  }
 ],
 "metadata": {
  "kernelspec": {
   "display_name": "Python 3 (ipykernel)",
   "language": "python",
   "name": "python3"
  },
  "language_info": {
   "codemirror_mode": {
    "name": "ipython",
    "version": 3
   },
   "file_extension": ".py",
   "mimetype": "text/x-python",
   "name": "python",
   "nbconvert_exporter": "python",
   "pygments_lexer": "ipython3",
   "version": "3.9.12"
  }
 },
 "nbformat": 4,
 "nbformat_minor": 5
}
