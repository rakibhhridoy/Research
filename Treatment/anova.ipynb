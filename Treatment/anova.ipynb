{
 "cells": [
  {
   "cell_type": "code",
   "execution_count": 2,
   "id": "bea7a47e",
   "metadata": {},
   "outputs": [],
   "source": [
    "import pandas as pd\n",
    "import scipy.stats as stats\n",
    "import statsmodels.api as sm\n",
    "from  statsmodels.formula.api import ols"
   ]
  },
  {
   "cell_type": "code",
   "execution_count": 8,
   "id": "6525710d",
   "metadata": {},
   "outputs": [],
   "source": [
    "df = pd.read_excel(\"pHTreatment.xlsx\")"
   ]
  },
  {
   "cell_type": "code",
   "execution_count": 9,
   "id": "3e70784f",
   "metadata": {},
   "outputs": [
    {
     "data": {
      "text/html": [
       "<div>\n",
       "<style scoped>\n",
       "    .dataframe tbody tr th:only-of-type {\n",
       "        vertical-align: middle;\n",
       "    }\n",
       "\n",
       "    .dataframe tbody tr th {\n",
       "        vertical-align: top;\n",
       "    }\n",
       "\n",
       "    .dataframe thead th {\n",
       "        text-align: right;\n",
       "    }\n",
       "</style>\n",
       "<table border=\"1\" class=\"dataframe\">\n",
       "  <thead>\n",
       "    <tr style=\"text-align: right;\">\n",
       "      <th></th>\n",
       "      <th>Treatments</th>\n",
       "      <th>Before</th>\n",
       "      <th>4 months</th>\n",
       "      <th>8 months</th>\n",
       "      <th>12 months</th>\n",
       "    </tr>\n",
       "  </thead>\n",
       "  <tbody>\n",
       "    <tr>\n",
       "      <th>0</th>\n",
       "      <td>T0 (Control)</td>\n",
       "      <td>4.53</td>\n",
       "      <td>4.53</td>\n",
       "      <td>4.59</td>\n",
       "      <td>4.99</td>\n",
       "    </tr>\n",
       "    <tr>\n",
       "      <th>1</th>\n",
       "      <td>T1 (Azolla)</td>\n",
       "      <td>4.53</td>\n",
       "      <td>4.69</td>\n",
       "      <td>4.72</td>\n",
       "      <td>5.89</td>\n",
       "    </tr>\n",
       "    <tr>\n",
       "      <th>2</th>\n",
       "      <td>T2 (Grass)</td>\n",
       "      <td>4.53</td>\n",
       "      <td>5.13</td>\n",
       "      <td>5.68</td>\n",
       "      <td>5.24</td>\n",
       "    </tr>\n",
       "    <tr>\n",
       "      <th>3</th>\n",
       "      <td>T3(Water Hyacinth)</td>\n",
       "      <td>4.53</td>\n",
       "      <td>4.99</td>\n",
       "      <td>6.21</td>\n",
       "      <td>6.00</td>\n",
       "    </tr>\n",
       "    <tr>\n",
       "      <th>4</th>\n",
       "      <td>T4 (Nuts)</td>\n",
       "      <td>4.53</td>\n",
       "      <td>4.83</td>\n",
       "      <td>6.03</td>\n",
       "      <td>6.14</td>\n",
       "    </tr>\n",
       "    <tr>\n",
       "      <th>5</th>\n",
       "      <td>T5 (Azolla+WH)</td>\n",
       "      <td>4.53</td>\n",
       "      <td>4.80</td>\n",
       "      <td>5.54</td>\n",
       "      <td>5.73</td>\n",
       "    </tr>\n",
       "    <tr>\n",
       "      <th>6</th>\n",
       "      <td>T6 (Nuts+Grass)</td>\n",
       "      <td>4.53</td>\n",
       "      <td>5.02</td>\n",
       "      <td>5.96</td>\n",
       "      <td>5.99</td>\n",
       "    </tr>\n",
       "  </tbody>\n",
       "</table>\n",
       "</div>"
      ],
      "text/plain": [
       "           Treatments  Before   4 months  8 months  12 months\n",
       "0        T0 (Control)     4.53      4.53      4.59       4.99\n",
       "1         T1 (Azolla)     4.53      4.69      4.72       5.89\n",
       "2          T2 (Grass)     4.53      5.13      5.68       5.24\n",
       "3  T3(Water Hyacinth)     4.53      4.99      6.21       6.00\n",
       "4           T4 (Nuts)     4.53      4.83      6.03       6.14\n",
       "5      T5 (Azolla+WH)     4.53      4.80      5.54       5.73\n",
       "6     T6 (Nuts+Grass)     4.53      5.02      5.96       5.99"
      ]
     },
     "execution_count": 9,
     "metadata": {},
     "output_type": "execute_result"
    }
   ],
   "source": [
    "df"
   ]
  },
  {
   "cell_type": "code",
   "execution_count": 10,
   "id": "213582b2",
   "metadata": {
    "scrolled": true
   },
   "outputs": [
    {
     "name": "stdout",
     "output_type": "stream",
     "text": [
      "<class 'pandas.core.frame.DataFrame'>\n",
      "RangeIndex: 7 entries, 0 to 6\n",
      "Data columns (total 5 columns):\n",
      " #   Column      Non-Null Count  Dtype  \n",
      "---  ------      --------------  -----  \n",
      " 0   Treatments  7 non-null      object \n",
      " 1   Before      7 non-null      float64\n",
      " 2   4 months    7 non-null      float64\n",
      " 3   8 months    7 non-null      float64\n",
      " 4   12 months   7 non-null      float64\n",
      "dtypes: float64(4), object(1)\n",
      "memory usage: 408.0+ bytes\n"
     ]
    }
   ],
   "source": [
    "df.info()"
   ]
  },
  {
   "cell_type": "code",
   "execution_count": 12,
   "id": "2b334a16",
   "metadata": {},
   "outputs": [
    {
     "data": {
      "text/plain": [
       "Index(['Treatments', 'Before ', '4 months', '8 months', '12 months'], dtype='object')"
      ]
     },
     "execution_count": 12,
     "metadata": {},
     "output_type": "execute_result"
    }
   ],
   "source": [
    "df.columns"
   ]
  },
  {
   "cell_type": "code",
   "execution_count": 13,
   "id": "ec1c68ce",
   "metadata": {},
   "outputs": [
    {
     "name": "stdout",
     "output_type": "stream",
     "text": [
      "1.3611895949538653e+01 2.1634519318795774e-05\n"
     ]
    }
   ],
   "source": [
    "fvalue, pvalue = stats.f_oneway(df['Before '],df['4 months'], df['8 months'], df['12 months'])\n",
    "print(fvalue, pvalue)"
   ]
  },
  {
   "cell_type": "code",
   "execution_count": 26,
   "id": "59a8c70a",
   "metadata": {},
   "outputs": [
    {
     "data": {
      "text/html": [
       "<div>\n",
       "<style scoped>\n",
       "    .dataframe tbody tr th:only-of-type {\n",
       "        vertical-align: middle;\n",
       "    }\n",
       "\n",
       "    .dataframe tbody tr th {\n",
       "        vertical-align: top;\n",
       "    }\n",
       "\n",
       "    .dataframe thead th {\n",
       "        text-align: right;\n",
       "    }\n",
       "</style>\n",
       "<table border=\"1\" class=\"dataframe\">\n",
       "  <thead>\n",
       "    <tr style=\"text-align: right;\">\n",
       "      <th></th>\n",
       "      <th>sum_sq</th>\n",
       "      <th>df</th>\n",
       "      <th>F</th>\n",
       "      <th>PR(&gt;F)</th>\n",
       "    </tr>\n",
       "  </thead>\n",
       "  <tbody>\n",
       "    <tr>\n",
       "      <th>df[\"12 months\"]</th>\n",
       "      <td>1.241885e-31</td>\n",
       "      <td>1.0</td>\n",
       "      <td>0.112448</td>\n",
       "      <td>0.750986</td>\n",
       "    </tr>\n",
       "    <tr>\n",
       "      <th>Residual</th>\n",
       "      <td>5.522026e-30</td>\n",
       "      <td>5.0</td>\n",
       "      <td>NaN</td>\n",
       "      <td>NaN</td>\n",
       "    </tr>\n",
       "  </tbody>\n",
       "</table>\n",
       "</div>"
      ],
      "text/plain": [
       "                       sum_sq   df         F    PR(>F)\n",
       "df[\"12 months\"]  1.241885e-31  1.0  0.112448  0.750986\n",
       "Residual         5.522026e-30  5.0       NaN       NaN"
      ]
     },
     "execution_count": 26,
     "metadata": {},
     "output_type": "execute_result"
    }
   ],
   "source": [
    "# Ordinary Least Squares (OLS) model\n",
    "model = ols('df[\"Before \"] ~ df[\"12 months\"]',data=df).fit()\n",
    "anova_table = sm.stats.anova_lm(model, typ=2)\n",
    "anova_table"
   ]
  },
  {
   "cell_type": "code",
   "execution_count": 62,
   "id": "6b83db52",
   "metadata": {},
   "outputs": [
    {
     "name": "stdout",
     "output_type": "stream",
     "text": [
      "13.611895949538653 2.1634519318795774e-05\n"
     ]
    }
   ],
   "source": [
    "df = pd.read_excel(\"pHTreatment.xlsx\")"
   ]
  },
  {
   "cell_type": "code",
   "execution_count": 34,
   "id": "e51afdc0",
   "metadata": {},
   "outputs": [
    {
     "data": {
      "text/plain": [
       "RangeIndex(start=0, stop=7, step=1)"
      ]
     },
     "execution_count": 34,
     "metadata": {},
     "output_type": "execute_result"
    }
   ],
   "source": [
    "df = df.T\n",
    "df.columns"
   ]
  },
  {
   "cell_type": "code",
   "execution_count": 53,
   "id": "a462875f",
   "metadata": {},
   "outputs": [
    {
     "data": {
      "text/html": [
       "<div>\n",
       "<style scoped>\n",
       "    .dataframe tbody tr th:only-of-type {\n",
       "        vertical-align: middle;\n",
       "    }\n",
       "\n",
       "    .dataframe tbody tr th {\n",
       "        vertical-align: top;\n",
       "    }\n",
       "\n",
       "    .dataframe thead th {\n",
       "        text-align: right;\n",
       "    }\n",
       "</style>\n",
       "<table border=\"1\" class=\"dataframe\">\n",
       "  <thead>\n",
       "    <tr style=\"text-align: right;\">\n",
       "      <th>Treatments</th>\n",
       "      <th>T0 (Control)</th>\n",
       "      <th>T1 (Azolla)</th>\n",
       "      <th>T2 (Grass)</th>\n",
       "      <th>T3(Water Hyacinth)</th>\n",
       "      <th>T4 (Nuts)</th>\n",
       "      <th>T5 (Azolla+WH)</th>\n",
       "      <th>T6 (Nuts+Grass)</th>\n",
       "    </tr>\n",
       "  </thead>\n",
       "  <tbody>\n",
       "    <tr>\n",
       "      <th>Treatments</th>\n",
       "      <td>T0 (Control)</td>\n",
       "      <td>T1 (Azolla)</td>\n",
       "      <td>T2 (Grass)</td>\n",
       "      <td>T3(Water Hyacinth)</td>\n",
       "      <td>T4 (Nuts)</td>\n",
       "      <td>T5 (Azolla+WH)</td>\n",
       "      <td>T6 (Nuts+Grass)</td>\n",
       "    </tr>\n",
       "    <tr>\n",
       "      <th>Before</th>\n",
       "      <td>4.53</td>\n",
       "      <td>4.53</td>\n",
       "      <td>4.53</td>\n",
       "      <td>4.53</td>\n",
       "      <td>4.53</td>\n",
       "      <td>4.53</td>\n",
       "      <td>4.53</td>\n",
       "    </tr>\n",
       "    <tr>\n",
       "      <th>4 months</th>\n",
       "      <td>4.53</td>\n",
       "      <td>4.69</td>\n",
       "      <td>5.13</td>\n",
       "      <td>4.99</td>\n",
       "      <td>4.83</td>\n",
       "      <td>4.8</td>\n",
       "      <td>5.02</td>\n",
       "    </tr>\n",
       "    <tr>\n",
       "      <th>8 months</th>\n",
       "      <td>4.59</td>\n",
       "      <td>4.72</td>\n",
       "      <td>5.68</td>\n",
       "      <td>6.21</td>\n",
       "      <td>6.03</td>\n",
       "      <td>5.54</td>\n",
       "      <td>5.96</td>\n",
       "    </tr>\n",
       "    <tr>\n",
       "      <th>12 months</th>\n",
       "      <td>4.99</td>\n",
       "      <td>5.89</td>\n",
       "      <td>5.24</td>\n",
       "      <td>6.0</td>\n",
       "      <td>6.14</td>\n",
       "      <td>5.73</td>\n",
       "      <td>5.99</td>\n",
       "    </tr>\n",
       "  </tbody>\n",
       "</table>\n",
       "</div>"
      ],
      "text/plain": [
       "Treatments  T0 (Control)  T1 (Azolla)  T2 (Grass)  T3(Water Hyacinth)  \\\n",
       "Treatments  T0 (Control)  T1 (Azolla)  T2 (Grass)  T3(Water Hyacinth)   \n",
       "Before              4.53         4.53        4.53                4.53   \n",
       "4 months            4.53         4.69        5.13                4.99   \n",
       "8 months            4.59         4.72        5.68                6.21   \n",
       "12 months           4.99         5.89        5.24                 6.0   \n",
       "\n",
       "Treatments  T4 (Nuts)  T5 (Azolla+WH)  T6 (Nuts+Grass)  \n",
       "Treatments  T4 (Nuts)  T5 (Azolla+WH)  T6 (Nuts+Grass)  \n",
       "Before           4.53            4.53             4.53  \n",
       "4 months         4.83             4.8             5.02  \n",
       "8 months         6.03            5.54             5.96  \n",
       "12 months        6.14            5.73             5.99  "
      ]
     },
     "execution_count": 53,
     "metadata": {},
     "output_type": "execute_result"
    }
   ],
   "source": [
    "treatment = df.iloc[0]\n",
    "df.columns = treatment"
   ]
  },
  {
   "cell_type": "code",
   "execution_count": 57,
   "id": "6734bf8d",
   "metadata": {},
   "outputs": [],
   "source": [
    "treat = ['T0',\n",
    " 'T1',\n",
    " 'T2',\n",
    " 'T3',\n",
    " 'T4',\n",
    " 'T5',\n",
    " 'T6']"
   ]
  },
  {
   "cell_type": "code",
   "execution_count": 58,
   "id": "0a11c349",
   "metadata": {},
   "outputs": [],
   "source": [
    "df.columns = treat"
   ]
  },
  {
   "cell_type": "code",
   "execution_count": 59,
   "id": "e4e4ad21",
   "metadata": {},
   "outputs": [
    {
     "data": {
      "text/html": [
       "<div>\n",
       "<style scoped>\n",
       "    .dataframe tbody tr th:only-of-type {\n",
       "        vertical-align: middle;\n",
       "    }\n",
       "\n",
       "    .dataframe tbody tr th {\n",
       "        vertical-align: top;\n",
       "    }\n",
       "\n",
       "    .dataframe thead th {\n",
       "        text-align: right;\n",
       "    }\n",
       "</style>\n",
       "<table border=\"1\" class=\"dataframe\">\n",
       "  <thead>\n",
       "    <tr style=\"text-align: right;\">\n",
       "      <th></th>\n",
       "      <th>T0</th>\n",
       "      <th>T1</th>\n",
       "      <th>T2</th>\n",
       "      <th>T3</th>\n",
       "      <th>T4</th>\n",
       "      <th>T5</th>\n",
       "      <th>T6</th>\n",
       "    </tr>\n",
       "  </thead>\n",
       "  <tbody>\n",
       "    <tr>\n",
       "      <th>Before</th>\n",
       "      <td>4.53</td>\n",
       "      <td>4.53</td>\n",
       "      <td>4.53</td>\n",
       "      <td>4.53</td>\n",
       "      <td>4.53</td>\n",
       "      <td>4.53</td>\n",
       "      <td>4.53</td>\n",
       "    </tr>\n",
       "    <tr>\n",
       "      <th>4 months</th>\n",
       "      <td>4.53</td>\n",
       "      <td>4.69</td>\n",
       "      <td>5.13</td>\n",
       "      <td>4.99</td>\n",
       "      <td>4.83</td>\n",
       "      <td>4.8</td>\n",
       "      <td>5.02</td>\n",
       "    </tr>\n",
       "    <tr>\n",
       "      <th>8 months</th>\n",
       "      <td>4.59</td>\n",
       "      <td>4.72</td>\n",
       "      <td>5.68</td>\n",
       "      <td>6.21</td>\n",
       "      <td>6.03</td>\n",
       "      <td>5.54</td>\n",
       "      <td>5.96</td>\n",
       "    </tr>\n",
       "    <tr>\n",
       "      <th>12 months</th>\n",
       "      <td>4.99</td>\n",
       "      <td>5.89</td>\n",
       "      <td>5.24</td>\n",
       "      <td>6.0</td>\n",
       "      <td>6.14</td>\n",
       "      <td>5.73</td>\n",
       "      <td>5.99</td>\n",
       "    </tr>\n",
       "  </tbody>\n",
       "</table>\n",
       "</div>"
      ],
      "text/plain": [
       "             T0    T1    T2    T3    T4    T5    T6\n",
       "Before     4.53  4.53  4.53  4.53  4.53  4.53  4.53\n",
       "4 months   4.53  4.69  5.13  4.99  4.83   4.8  5.02\n",
       "8 months   4.59  4.72  5.68  6.21  6.03  5.54  5.96\n",
       "12 months  4.99  5.89  5.24   6.0  6.14  5.73  5.99"
      ]
     },
     "execution_count": 59,
     "metadata": {},
     "output_type": "execute_result"
    }
   ],
   "source": [
    "df"
   ]
  },
  {
   "cell_type": "code",
   "execution_count": 54,
   "id": "79014ee9",
   "metadata": {},
   "outputs": [
    {
     "data": {
      "text/html": [
       "<div>\n",
       "<style scoped>\n",
       "    .dataframe tbody tr th:only-of-type {\n",
       "        vertical-align: middle;\n",
       "    }\n",
       "\n",
       "    .dataframe tbody tr th {\n",
       "        vertical-align: top;\n",
       "    }\n",
       "\n",
       "    .dataframe thead th {\n",
       "        text-align: right;\n",
       "    }\n",
       "</style>\n",
       "<table border=\"1\" class=\"dataframe\">\n",
       "  <thead>\n",
       "    <tr style=\"text-align: right;\">\n",
       "      <th>Treatments</th>\n",
       "      <th>T0 (Control)</th>\n",
       "      <th>T1 (Azolla)</th>\n",
       "      <th>T2 (Grass)</th>\n",
       "      <th>T3(Water Hyacinth)</th>\n",
       "      <th>T4 (Nuts)</th>\n",
       "      <th>T5 (Azolla+WH)</th>\n",
       "      <th>T6 (Nuts+Grass)</th>\n",
       "    </tr>\n",
       "  </thead>\n",
       "  <tbody>\n",
       "    <tr>\n",
       "      <th>Before</th>\n",
       "      <td>4.53</td>\n",
       "      <td>4.53</td>\n",
       "      <td>4.53</td>\n",
       "      <td>4.53</td>\n",
       "      <td>4.53</td>\n",
       "      <td>4.53</td>\n",
       "      <td>4.53</td>\n",
       "    </tr>\n",
       "    <tr>\n",
       "      <th>4 months</th>\n",
       "      <td>4.53</td>\n",
       "      <td>4.69</td>\n",
       "      <td>5.13</td>\n",
       "      <td>4.99</td>\n",
       "      <td>4.83</td>\n",
       "      <td>4.8</td>\n",
       "      <td>5.02</td>\n",
       "    </tr>\n",
       "    <tr>\n",
       "      <th>8 months</th>\n",
       "      <td>4.59</td>\n",
       "      <td>4.72</td>\n",
       "      <td>5.68</td>\n",
       "      <td>6.21</td>\n",
       "      <td>6.03</td>\n",
       "      <td>5.54</td>\n",
       "      <td>5.96</td>\n",
       "    </tr>\n",
       "    <tr>\n",
       "      <th>12 months</th>\n",
       "      <td>4.99</td>\n",
       "      <td>5.89</td>\n",
       "      <td>5.24</td>\n",
       "      <td>6.0</td>\n",
       "      <td>6.14</td>\n",
       "      <td>5.73</td>\n",
       "      <td>5.99</td>\n",
       "    </tr>\n",
       "  </tbody>\n",
       "</table>\n",
       "</div>"
      ],
      "text/plain": [
       "Treatments T0 (Control) T1 (Azolla) T2 (Grass) T3(Water Hyacinth) T4 (Nuts)  \\\n",
       "Before             4.53        4.53       4.53               4.53      4.53   \n",
       "4 months           4.53        4.69       5.13               4.99      4.83   \n",
       "8 months           4.59        4.72       5.68               6.21      6.03   \n",
       "12 months          4.99        5.89       5.24                6.0      6.14   \n",
       "\n",
       "Treatments T5 (Azolla+WH) T6 (Nuts+Grass)  \n",
       "Before               4.53            4.53  \n",
       "4 months              4.8            5.02  \n",
       "8 months             5.54            5.96  \n",
       "12 months            5.73            5.99  "
      ]
     },
     "execution_count": 54,
     "metadata": {},
     "output_type": "execute_result"
    }
   ],
   "source": [
    "df = df.iloc[1:]\n",
    "df"
   ]
  },
  {
   "cell_type": "code",
   "execution_count": 63,
   "id": "38c4d9b6",
   "metadata": {},
   "outputs": [
    {
     "data": {
      "text/html": [
       "<div>\n",
       "<style scoped>\n",
       "    .dataframe tbody tr th:only-of-type {\n",
       "        vertical-align: middle;\n",
       "    }\n",
       "\n",
       "    .dataframe tbody tr th {\n",
       "        vertical-align: top;\n",
       "    }\n",
       "\n",
       "    .dataframe thead th {\n",
       "        text-align: right;\n",
       "    }\n",
       "</style>\n",
       "<table border=\"1\" class=\"dataframe\">\n",
       "  <thead>\n",
       "    <tr style=\"text-align: right;\">\n",
       "      <th></th>\n",
       "      <th>T0</th>\n",
       "      <th>T1</th>\n",
       "      <th>T2</th>\n",
       "      <th>T3</th>\n",
       "      <th>T4</th>\n",
       "      <th>T5</th>\n",
       "      <th>T6</th>\n",
       "    </tr>\n",
       "  </thead>\n",
       "  <tbody>\n",
       "    <tr>\n",
       "      <th>Before</th>\n",
       "      <td>4.53</td>\n",
       "      <td>4.53</td>\n",
       "      <td>4.53</td>\n",
       "      <td>4.53</td>\n",
       "      <td>4.53</td>\n",
       "      <td>4.53</td>\n",
       "      <td>4.53</td>\n",
       "    </tr>\n",
       "    <tr>\n",
       "      <th>4 months</th>\n",
       "      <td>4.53</td>\n",
       "      <td>4.69</td>\n",
       "      <td>5.13</td>\n",
       "      <td>4.99</td>\n",
       "      <td>4.83</td>\n",
       "      <td>4.8</td>\n",
       "      <td>5.02</td>\n",
       "    </tr>\n",
       "    <tr>\n",
       "      <th>8 months</th>\n",
       "      <td>4.59</td>\n",
       "      <td>4.72</td>\n",
       "      <td>5.68</td>\n",
       "      <td>6.21</td>\n",
       "      <td>6.03</td>\n",
       "      <td>5.54</td>\n",
       "      <td>5.96</td>\n",
       "    </tr>\n",
       "    <tr>\n",
       "      <th>12 months</th>\n",
       "      <td>4.99</td>\n",
       "      <td>5.89</td>\n",
       "      <td>5.24</td>\n",
       "      <td>6.0</td>\n",
       "      <td>6.14</td>\n",
       "      <td>5.73</td>\n",
       "      <td>5.99</td>\n",
       "    </tr>\n",
       "  </tbody>\n",
       "</table>\n",
       "</div>"
      ],
      "text/plain": [
       "             T0    T1    T2    T3    T4    T5    T6\n",
       "Before     4.53  4.53  4.53  4.53  4.53  4.53  4.53\n",
       "4 months   4.53  4.69  5.13  4.99  4.83   4.8  5.02\n",
       "8 months   4.59  4.72  5.68  6.21  6.03  5.54  5.96\n",
       "12 months  4.99  5.89  5.24   6.0  6.14  5.73  5.99"
      ]
     },
     "execution_count": 63,
     "metadata": {},
     "output_type": "execute_result"
    }
   ],
   "source": [
    "df = pd.read_excel(\"pHTreatment.xlsx\")\n",
    "df = df.T\n",
    "df.columns = treat\n",
    "df = df.iloc[1:]\n",
    "fvalue, pvalue = stats.f_oneway(df['T0'], df['T1'], df['T2'],df['T3'],df['T4'],df['T5'], df['T6'])\n",
    "print(fvalue, pvalue)"
   ]
  },
  {
   "cell_type": "code",
   "execution_count": 64,
   "id": "8463e80d",
   "metadata": {},
   "outputs": [
    {
     "name": "stdout",
     "output_type": "stream",
     "text": [
      "0.7580147721237056 0.6105227261988948\n"
     ]
    }
   ],
   "source": [
    "fvalue, pvalue = stats.f_oneway(df['T0'], df['T1'], df['T2'],df['T3'],df['T4'],df['T5'], df['T6'])\n",
    "print(fvalue, pvalue)"
   ]
  },
  {
   "cell_type": "code",
   "execution_count": null,
   "id": "afa19acb",
   "metadata": {},
   "outputs": [],
   "source": []
  },
  {
   "cell_type": "code",
   "execution_count": 69,
   "id": "093c07e6",
   "metadata": {},
   "outputs": [
    {
     "name": "stdout",
     "output_type": "stream",
     "text": [
      "3.789215686274511 0.023436087786986994\n"
     ]
    }
   ],
   "source": [
    "df = pd.read_excel(\"OrganicCTreatment.xlsx\")\n",
    "fvalue, pvalue = stats.f_oneway(df['Before'],df['4 months'], df['8 months'], df['12 months'])\n",
    "print(fvalue, pvalue)"
   ]
  },
  {
   "cell_type": "code",
   "execution_count": 70,
   "id": "f0c1af28",
   "metadata": {},
   "outputs": [
    {
     "data": {
      "text/html": [
       "<div>\n",
       "<style scoped>\n",
       "    .dataframe tbody tr th:only-of-type {\n",
       "        vertical-align: middle;\n",
       "    }\n",
       "\n",
       "    .dataframe tbody tr th {\n",
       "        vertical-align: top;\n",
       "    }\n",
       "\n",
       "    .dataframe thead th {\n",
       "        text-align: right;\n",
       "    }\n",
       "</style>\n",
       "<table border=\"1\" class=\"dataframe\">\n",
       "  <thead>\n",
       "    <tr style=\"text-align: right;\">\n",
       "      <th></th>\n",
       "      <th>Treatment</th>\n",
       "      <th>Before</th>\n",
       "      <th>4 months</th>\n",
       "      <th>8 months</th>\n",
       "      <th>12 months</th>\n",
       "    </tr>\n",
       "  </thead>\n",
       "  <tbody>\n",
       "    <tr>\n",
       "      <th>0</th>\n",
       "      <td>T0</td>\n",
       "      <td>0.3</td>\n",
       "      <td>0.36</td>\n",
       "      <td>0.35</td>\n",
       "      <td>0.37</td>\n",
       "    </tr>\n",
       "    <tr>\n",
       "      <th>1</th>\n",
       "      <td>T1</td>\n",
       "      <td>0.3</td>\n",
       "      <td>0.54</td>\n",
       "      <td>0.56</td>\n",
       "      <td>0.56</td>\n",
       "    </tr>\n",
       "    <tr>\n",
       "      <th>2</th>\n",
       "      <td>T2</td>\n",
       "      <td>0.3</td>\n",
       "      <td>0.40</td>\n",
       "      <td>0.45</td>\n",
       "      <td>0.48</td>\n",
       "    </tr>\n",
       "    <tr>\n",
       "      <th>3</th>\n",
       "      <td>T3</td>\n",
       "      <td>0.3</td>\n",
       "      <td>0.41</td>\n",
       "      <td>0.43</td>\n",
       "      <td>0.49</td>\n",
       "    </tr>\n",
       "    <tr>\n",
       "      <th>4</th>\n",
       "      <td>T4</td>\n",
       "      <td>0.3</td>\n",
       "      <td>0.70</td>\n",
       "      <td>0.75</td>\n",
       "      <td>0.77</td>\n",
       "    </tr>\n",
       "    <tr>\n",
       "      <th>5</th>\n",
       "      <td>T5</td>\n",
       "      <td>0.3</td>\n",
       "      <td>0.39</td>\n",
       "      <td>0.38</td>\n",
       "      <td>0.40</td>\n",
       "    </tr>\n",
       "    <tr>\n",
       "      <th>6</th>\n",
       "      <td>T6</td>\n",
       "      <td>0.3</td>\n",
       "      <td>0.26</td>\n",
       "      <td>0.29</td>\n",
       "      <td>0.53</td>\n",
       "    </tr>\n",
       "  </tbody>\n",
       "</table>\n",
       "</div>"
      ],
      "text/plain": [
       "  Treatment  Before  4 months  8 months  12 months\n",
       "0        T0     0.3      0.36      0.35       0.37\n",
       "1        T1     0.3      0.54      0.56       0.56\n",
       "2        T2     0.3      0.40      0.45       0.48\n",
       "3        T3     0.3      0.41      0.43       0.49\n",
       "4        T4     0.3      0.70      0.75       0.77\n",
       "5        T5     0.3      0.39      0.38       0.40\n",
       "6        T6     0.3      0.26      0.29       0.53"
      ]
     },
     "execution_count": 70,
     "metadata": {},
     "output_type": "execute_result"
    }
   ],
   "source": [
    "df"
   ]
  },
  {
   "cell_type": "code",
   "execution_count": 29,
   "id": "d172f221",
   "metadata": {},
   "outputs": [
    {
     "name": "stdout",
     "output_type": "stream",
     "text": [
      "10.141430656934302 0.00016773849301417496\n"
     ]
    }
   ],
   "source": [
    "df = pd.read_excel(\"NitrogenTreatment.xlsx\")\n",
    "fvalue, pvalue = stats.f_oneway(df['Before'],df['4 months'], df['8 months'], df['12 months'])\n",
    "print(fvalue, pvalue)"
   ]
  },
  {
   "cell_type": "code",
   "execution_count": 30,
   "id": "eca99db9",
   "metadata": {},
   "outputs": [
    {
     "name": "stdout",
     "output_type": "stream",
     "text": [
      "6.726165857880781 0.0018784271696004069\n"
     ]
    }
   ],
   "source": [
    "df = pd.read_excel(\"CECTreatment.xlsx\")\n",
    "fvalue, pvalue = stats.f_oneway(df['Before'],df['4 months'], df['8 months'], df['12 months'])\n",
    "print(fvalue, pvalue)"
   ]
  },
  {
   "cell_type": "code",
   "execution_count": null,
   "id": "b98409eb",
   "metadata": {},
   "outputs": [],
   "source": []
  },
  {
   "cell_type": "code",
   "execution_count": 71,
   "id": "01358a21",
   "metadata": {},
   "outputs": [
    {
     "name": "stdout",
     "output_type": "stream",
     "text": [
      "0.7580147721237056 0.6105227261988948\n"
     ]
    }
   ],
   "source": [
    "df = pd.read_excel(\"pHTreatment.xlsx\")\n",
    "df = df.T\n",
    "df.columns = treat\n",
    "df = df.iloc[1:]\n",
    "fvalue, pvalue = stats.f_oneway(df['T0'], df['T1'], df['T2'],df['T3'],df['T4'],df['T5'], df['T6'])\n",
    "print(fvalue, pvalue)"
   ]
  },
  {
   "cell_type": "code",
   "execution_count": 72,
   "id": "47dcf55a",
   "metadata": {},
   "outputs": [
    {
     "data": {
      "text/html": [
       "<div>\n",
       "<style scoped>\n",
       "    .dataframe tbody tr th:only-of-type {\n",
       "        vertical-align: middle;\n",
       "    }\n",
       "\n",
       "    .dataframe tbody tr th {\n",
       "        vertical-align: top;\n",
       "    }\n",
       "\n",
       "    .dataframe thead th {\n",
       "        text-align: right;\n",
       "    }\n",
       "</style>\n",
       "<table border=\"1\" class=\"dataframe\">\n",
       "  <thead>\n",
       "    <tr style=\"text-align: right;\">\n",
       "      <th></th>\n",
       "      <th>T0</th>\n",
       "      <th>T1</th>\n",
       "      <th>T2</th>\n",
       "      <th>T3</th>\n",
       "      <th>T4</th>\n",
       "      <th>T5</th>\n",
       "      <th>T6</th>\n",
       "    </tr>\n",
       "  </thead>\n",
       "  <tbody>\n",
       "    <tr>\n",
       "      <th>Before</th>\n",
       "      <td>4.53</td>\n",
       "      <td>4.53</td>\n",
       "      <td>4.53</td>\n",
       "      <td>4.53</td>\n",
       "      <td>4.53</td>\n",
       "      <td>4.53</td>\n",
       "      <td>4.53</td>\n",
       "    </tr>\n",
       "    <tr>\n",
       "      <th>4 months</th>\n",
       "      <td>4.53</td>\n",
       "      <td>4.69</td>\n",
       "      <td>5.13</td>\n",
       "      <td>4.99</td>\n",
       "      <td>4.83</td>\n",
       "      <td>4.8</td>\n",
       "      <td>5.02</td>\n",
       "    </tr>\n",
       "    <tr>\n",
       "      <th>8 months</th>\n",
       "      <td>4.59</td>\n",
       "      <td>4.72</td>\n",
       "      <td>5.68</td>\n",
       "      <td>6.21</td>\n",
       "      <td>6.03</td>\n",
       "      <td>5.54</td>\n",
       "      <td>5.96</td>\n",
       "    </tr>\n",
       "    <tr>\n",
       "      <th>12 months</th>\n",
       "      <td>4.99</td>\n",
       "      <td>5.89</td>\n",
       "      <td>5.24</td>\n",
       "      <td>6.0</td>\n",
       "      <td>6.14</td>\n",
       "      <td>5.73</td>\n",
       "      <td>5.99</td>\n",
       "    </tr>\n",
       "  </tbody>\n",
       "</table>\n",
       "</div>"
      ],
      "text/plain": [
       "             T0    T1    T2    T3    T4    T5    T6\n",
       "Before     4.53  4.53  4.53  4.53  4.53  4.53  4.53\n",
       "4 months   4.53  4.69  5.13  4.99  4.83   4.8  5.02\n",
       "8 months   4.59  4.72  5.68  6.21  6.03  5.54  5.96\n",
       "12 months  4.99  5.89  5.24   6.0  6.14  5.73  5.99"
      ]
     },
     "execution_count": 72,
     "metadata": {},
     "output_type": "execute_result"
    }
   ],
   "source": [
    "df"
   ]
  },
  {
   "cell_type": "code",
   "execution_count": 73,
   "id": "247bc1d9",
   "metadata": {},
   "outputs": [
    {
     "name": "stdout",
     "output_type": "stream",
     "text": [
      "1.6527897565182774 0.18227966844823282\n"
     ]
    }
   ],
   "source": [
    "df = pd.read_excel(\"NitrogenTreatment.xlsx\")\n",
    "df = df.T\n",
    "df.columns = treat\n",
    "df = df.iloc[1:]\n",
    "fvalue, pvalue = stats.f_oneway(df['T0'], df['T1'], df['T2'],df['T3'],df['T4'],df['T5'], df['T6'])\n",
    "print(fvalue, pvalue)"
   ]
  },
  {
   "cell_type": "code",
   "execution_count": 74,
   "id": "5158880f",
   "metadata": {},
   "outputs": [
    {
     "data": {
      "text/html": [
       "<div>\n",
       "<style scoped>\n",
       "    .dataframe tbody tr th:only-of-type {\n",
       "        vertical-align: middle;\n",
       "    }\n",
       "\n",
       "    .dataframe tbody tr th {\n",
       "        vertical-align: top;\n",
       "    }\n",
       "\n",
       "    .dataframe thead th {\n",
       "        text-align: right;\n",
       "    }\n",
       "</style>\n",
       "<table border=\"1\" class=\"dataframe\">\n",
       "  <thead>\n",
       "    <tr style=\"text-align: right;\">\n",
       "      <th></th>\n",
       "      <th>T0</th>\n",
       "      <th>T1</th>\n",
       "      <th>T2</th>\n",
       "      <th>T3</th>\n",
       "      <th>T4</th>\n",
       "      <th>T5</th>\n",
       "      <th>T6</th>\n",
       "    </tr>\n",
       "  </thead>\n",
       "  <tbody>\n",
       "    <tr>\n",
       "      <th>Before</th>\n",
       "      <td>0.082</td>\n",
       "      <td>0.082</td>\n",
       "      <td>0.082</td>\n",
       "      <td>0.082</td>\n",
       "      <td>0.082</td>\n",
       "      <td>0.082</td>\n",
       "      <td>0.082</td>\n",
       "    </tr>\n",
       "    <tr>\n",
       "      <th>4 months</th>\n",
       "      <td>0.09</td>\n",
       "      <td>0.13</td>\n",
       "      <td>0.15</td>\n",
       "      <td>0.14</td>\n",
       "      <td>0.18</td>\n",
       "      <td>0.13</td>\n",
       "      <td>0.16</td>\n",
       "    </tr>\n",
       "    <tr>\n",
       "      <th>8 months</th>\n",
       "      <td>0.09</td>\n",
       "      <td>0.14</td>\n",
       "      <td>0.15</td>\n",
       "      <td>0.16</td>\n",
       "      <td>0.2</td>\n",
       "      <td>0.13</td>\n",
       "      <td>0.17</td>\n",
       "    </tr>\n",
       "    <tr>\n",
       "      <th>12 months</th>\n",
       "      <td>0.09</td>\n",
       "      <td>0.16</td>\n",
       "      <td>0.17</td>\n",
       "      <td>0.16</td>\n",
       "      <td>0.21</td>\n",
       "      <td>0.15</td>\n",
       "      <td>0.17</td>\n",
       "    </tr>\n",
       "  </tbody>\n",
       "</table>\n",
       "</div>"
      ],
      "text/plain": [
       "              T0     T1     T2     T3     T4     T5     T6\n",
       "Before     0.082  0.082  0.082  0.082  0.082  0.082  0.082\n",
       "4 months    0.09   0.13   0.15   0.14   0.18   0.13   0.16\n",
       "8 months    0.09   0.14   0.15   0.16    0.2   0.13   0.17\n",
       "12 months   0.09   0.16   0.17   0.16   0.21   0.15   0.17"
      ]
     },
     "execution_count": 74,
     "metadata": {},
     "output_type": "execute_result"
    }
   ],
   "source": [
    "df"
   ]
  },
  {
   "cell_type": "code",
   "execution_count": 75,
   "id": "46fc01ab",
   "metadata": {},
   "outputs": [
    {
     "name": "stdout",
     "output_type": "stream",
     "text": [
      "2.2429200908446894 0.07896938135245042\n"
     ]
    }
   ],
   "source": [
    "df = pd.read_excel(\"CECTreatment.xlsx\")\n",
    "df = df.T\n",
    "df.columns = treat\n",
    "df = df.iloc[1:]\n",
    "fvalue, pvalue = stats.f_oneway(df['T0'], df['T1'], df['T2'],df['T3'],df['T4'],df['T5'], df['T6'])\n",
    "print(fvalue, pvalue)"
   ]
  },
  {
   "cell_type": "code",
   "execution_count": 76,
   "id": "4dc76403",
   "metadata": {},
   "outputs": [
    {
     "data": {
      "text/html": [
       "<div>\n",
       "<style scoped>\n",
       "    .dataframe tbody tr th:only-of-type {\n",
       "        vertical-align: middle;\n",
       "    }\n",
       "\n",
       "    .dataframe tbody tr th {\n",
       "        vertical-align: top;\n",
       "    }\n",
       "\n",
       "    .dataframe thead th {\n",
       "        text-align: right;\n",
       "    }\n",
       "</style>\n",
       "<table border=\"1\" class=\"dataframe\">\n",
       "  <thead>\n",
       "    <tr style=\"text-align: right;\">\n",
       "      <th></th>\n",
       "      <th>T0</th>\n",
       "      <th>T1</th>\n",
       "      <th>T2</th>\n",
       "      <th>T3</th>\n",
       "      <th>T4</th>\n",
       "      <th>T5</th>\n",
       "      <th>T6</th>\n",
       "    </tr>\n",
       "  </thead>\n",
       "  <tbody>\n",
       "    <tr>\n",
       "      <th>Before</th>\n",
       "      <td>23</td>\n",
       "      <td>23</td>\n",
       "      <td>23</td>\n",
       "      <td>23</td>\n",
       "      <td>23</td>\n",
       "      <td>23</td>\n",
       "      <td>23</td>\n",
       "    </tr>\n",
       "    <tr>\n",
       "      <th>4 months</th>\n",
       "      <td>24.0</td>\n",
       "      <td>26.3</td>\n",
       "      <td>27.0</td>\n",
       "      <td>28.5</td>\n",
       "      <td>32.5</td>\n",
       "      <td>27.3</td>\n",
       "      <td>31.0</td>\n",
       "    </tr>\n",
       "    <tr>\n",
       "      <th>8 months</th>\n",
       "      <td>25.0</td>\n",
       "      <td>26.1</td>\n",
       "      <td>27.5</td>\n",
       "      <td>28.0</td>\n",
       "      <td>36.0</td>\n",
       "      <td>29.75</td>\n",
       "      <td>32.92</td>\n",
       "    </tr>\n",
       "    <tr>\n",
       "      <th>12 months</th>\n",
       "      <td>24.9</td>\n",
       "      <td>26.5</td>\n",
       "      <td>27.6</td>\n",
       "      <td>29.9</td>\n",
       "      <td>36.0</td>\n",
       "      <td>28.1</td>\n",
       "      <td>31.7</td>\n",
       "    </tr>\n",
       "  </tbody>\n",
       "</table>\n",
       "</div>"
      ],
      "text/plain": [
       "             T0    T1    T2    T3    T4     T5     T6\n",
       "Before       23    23    23    23    23     23     23\n",
       "4 months   24.0  26.3  27.0  28.5  32.5   27.3   31.0\n",
       "8 months   25.0  26.1  27.5  28.0  36.0  29.75  32.92\n",
       "12 months  24.9  26.5  27.6  29.9  36.0   28.1   31.7"
      ]
     },
     "execution_count": 76,
     "metadata": {},
     "output_type": "execute_result"
    }
   ],
   "source": [
    "df"
   ]
  },
  {
   "cell_type": "code",
   "execution_count": 77,
   "id": "efab2778",
   "metadata": {},
   "outputs": [
    {
     "name": "stdout",
     "output_type": "stream",
     "text": [
      "3.0437937289453227 0.02654812698547813\n"
     ]
    }
   ],
   "source": [
    "df = pd.read_excel(\"OrganicCTreatment.xlsx\")\n",
    "df = df.T\n",
    "df.columns = treat\n",
    "df = df.iloc[1:]\n",
    "fvalue, pvalue = stats.f_oneway(df['T0'], df['T1'], df['T2'],df['T3'],df['T4'],df['T5'], df['T6'])\n",
    "print(fvalue, pvalue)"
   ]
  },
  {
   "cell_type": "code",
   "execution_count": 78,
   "id": "8d283b8b",
   "metadata": {},
   "outputs": [
    {
     "data": {
      "text/html": [
       "<div>\n",
       "<style scoped>\n",
       "    .dataframe tbody tr th:only-of-type {\n",
       "        vertical-align: middle;\n",
       "    }\n",
       "\n",
       "    .dataframe tbody tr th {\n",
       "        vertical-align: top;\n",
       "    }\n",
       "\n",
       "    .dataframe thead th {\n",
       "        text-align: right;\n",
       "    }\n",
       "</style>\n",
       "<table border=\"1\" class=\"dataframe\">\n",
       "  <thead>\n",
       "    <tr style=\"text-align: right;\">\n",
       "      <th></th>\n",
       "      <th>T0</th>\n",
       "      <th>T1</th>\n",
       "      <th>T2</th>\n",
       "      <th>T3</th>\n",
       "      <th>T4</th>\n",
       "      <th>T5</th>\n",
       "      <th>T6</th>\n",
       "    </tr>\n",
       "  </thead>\n",
       "  <tbody>\n",
       "    <tr>\n",
       "      <th>Before</th>\n",
       "      <td>0.3</td>\n",
       "      <td>0.3</td>\n",
       "      <td>0.3</td>\n",
       "      <td>0.3</td>\n",
       "      <td>0.3</td>\n",
       "      <td>0.3</td>\n",
       "      <td>0.3</td>\n",
       "    </tr>\n",
       "    <tr>\n",
       "      <th>4 months</th>\n",
       "      <td>0.36</td>\n",
       "      <td>0.54</td>\n",
       "      <td>0.4</td>\n",
       "      <td>0.41</td>\n",
       "      <td>0.7</td>\n",
       "      <td>0.39</td>\n",
       "      <td>0.26</td>\n",
       "    </tr>\n",
       "    <tr>\n",
       "      <th>8 months</th>\n",
       "      <td>0.35</td>\n",
       "      <td>0.56</td>\n",
       "      <td>0.45</td>\n",
       "      <td>0.43</td>\n",
       "      <td>0.75</td>\n",
       "      <td>0.38</td>\n",
       "      <td>0.29</td>\n",
       "    </tr>\n",
       "    <tr>\n",
       "      <th>12 months</th>\n",
       "      <td>0.37</td>\n",
       "      <td>0.56</td>\n",
       "      <td>0.48</td>\n",
       "      <td>0.49</td>\n",
       "      <td>0.77</td>\n",
       "      <td>0.4</td>\n",
       "      <td>0.53</td>\n",
       "    </tr>\n",
       "  </tbody>\n",
       "</table>\n",
       "</div>"
      ],
      "text/plain": [
       "             T0    T1    T2    T3    T4    T5    T6\n",
       "Before      0.3   0.3   0.3   0.3   0.3   0.3   0.3\n",
       "4 months   0.36  0.54   0.4  0.41   0.7  0.39  0.26\n",
       "8 months   0.35  0.56  0.45  0.43  0.75  0.38  0.29\n",
       "12 months  0.37  0.56  0.48  0.49  0.77   0.4  0.53"
      ]
     },
     "execution_count": 78,
     "metadata": {},
     "output_type": "execute_result"
    }
   ],
   "source": [
    "df"
   ]
  },
  {
   "cell_type": "code",
   "execution_count": null,
   "id": "cd99ded9",
   "metadata": {},
   "outputs": [],
   "source": []
  }
 ],
 "metadata": {
  "kernelspec": {
   "display_name": "Python 3 (ipykernel)",
   "language": "python",
   "name": "python3"
  },
  "language_info": {
   "codemirror_mode": {
    "name": "ipython",
    "version": 3
   },
   "file_extension": ".py",
   "mimetype": "text/x-python",
   "name": "python",
   "nbconvert_exporter": "python",
   "pygments_lexer": "ipython3",
   "version": "3.9.12"
  }
 },
 "nbformat": 4,
 "nbformat_minor": 5
}
