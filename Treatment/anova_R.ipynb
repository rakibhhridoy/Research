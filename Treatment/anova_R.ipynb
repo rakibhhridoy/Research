{
 "cells": [
  {
   "cell_type": "code",
   "execution_count": 2,
   "id": "15fca17b",
   "metadata": {},
   "outputs": [
    {
     "ename": "ERROR",
     "evalue": "Error in library(AICcmodavg): there is no package called ‘AICcmodavg’\n",
     "output_type": "error",
     "traceback": [
      "Error in library(AICcmodavg): there is no package called ‘AICcmodavg’\nTraceback:\n",
      "1. library(AICcmodavg)"
     ]
    }
   ],
   "source": [
    "library(ggplot2)\n",
    "library(ggpubr)\n",
    "library(broom)\n",
    "library(AICcmodavg)"
   ]
  },
  {
   "cell_type": "code",
   "execution_count": 3,
   "id": "7ef0669d",
   "metadata": {},
   "outputs": [
    {
     "name": "stderr",
     "output_type": "stream",
     "text": [
      "also installing the dependencies ‘pbapply’, ‘TMB’, ‘RcppArmadillo’, ‘unmarked’, ‘VGAM’\n",
      "\n",
      "\n",
      "Warning message in install.packages(\"AICcmodavg\"):\n",
      "“installation of package ‘unmarked’ had non-zero exit status”\n",
      "Warning message in install.packages(\"AICcmodavg\"):\n",
      "“installation of package ‘AICcmodavg’ had non-zero exit status”\n",
      "Updating HTML index of packages in '.Library'\n",
      "\n",
      "Making 'packages.html' ...\n",
      " done\n",
      "\n"
     ]
    }
   ],
   "source": [
    "install.packages(\"AICcmodavg\")"
   ]
  },
  {
   "cell_type": "code",
   "execution_count": 4,
   "id": "119cd2f5",
   "metadata": {},
   "outputs": [
    {
     "name": "stderr",
     "output_type": "stream",
     "text": [
      "Loading required package: readxl\n",
      "\n"
     ]
    }
   ],
   "source": [
    "require(readxl)"
   ]
  },
  {
   "cell_type": "code",
   "execution_count": 5,
   "id": "544cda11",
   "metadata": {},
   "outputs": [
    {
     "data": {
      "text/html": [
       "<table class=\"dataframe\">\n",
       "<caption>A tibble: 7 × 5</caption>\n",
       "<thead>\n",
       "\t<tr><th scope=col>Treatments</th><th scope=col>Before</th><th scope=col>4 months</th><th scope=col>8 months</th><th scope=col>12 months</th></tr>\n",
       "\t<tr><th scope=col>&lt;chr&gt;</th><th scope=col>&lt;dbl&gt;</th><th scope=col>&lt;dbl&gt;</th><th scope=col>&lt;dbl&gt;</th><th scope=col>&lt;dbl&gt;</th></tr>\n",
       "</thead>\n",
       "<tbody>\n",
       "\t<tr><td>T0 (Control)      </td><td>4.53</td><td>4.53</td><td>4.59</td><td>4.99</td></tr>\n",
       "\t<tr><td>T1 (Azolla)       </td><td>4.53</td><td>4.69</td><td>4.72</td><td>5.89</td></tr>\n",
       "\t<tr><td>T2 (Grass)        </td><td>4.53</td><td>5.13</td><td>5.68</td><td>5.24</td></tr>\n",
       "\t<tr><td>T3(Water Hyacinth)</td><td>4.53</td><td>4.99</td><td>6.21</td><td>6.00</td></tr>\n",
       "\t<tr><td>T4 (Nuts)         </td><td>4.53</td><td>4.83</td><td>6.03</td><td>6.14</td></tr>\n",
       "\t<tr><td>T5 (Azolla+WH)    </td><td>4.53</td><td>4.80</td><td>5.54</td><td>5.73</td></tr>\n",
       "\t<tr><td>T6 (Nuts+Grass)   </td><td>4.53</td><td>5.02</td><td>5.96</td><td>5.99</td></tr>\n",
       "</tbody>\n",
       "</table>\n"
      ],
      "text/latex": [
       "A tibble: 7 × 5\n",
       "\\begin{tabular}{lllll}\n",
       " Treatments & Before & 4 months & 8 months & 12 months\\\\\n",
       " <chr> & <dbl> & <dbl> & <dbl> & <dbl>\\\\\n",
       "\\hline\n",
       "\t T0 (Control)       & 4.53 & 4.53 & 4.59 & 4.99\\\\\n",
       "\t T1 (Azolla)        & 4.53 & 4.69 & 4.72 & 5.89\\\\\n",
       "\t T2 (Grass)         & 4.53 & 5.13 & 5.68 & 5.24\\\\\n",
       "\t T3(Water Hyacinth) & 4.53 & 4.99 & 6.21 & 6.00\\\\\n",
       "\t T4 (Nuts)          & 4.53 & 4.83 & 6.03 & 6.14\\\\\n",
       "\t T5 (Azolla+WH)     & 4.53 & 4.80 & 5.54 & 5.73\\\\\n",
       "\t T6 (Nuts+Grass)    & 4.53 & 5.02 & 5.96 & 5.99\\\\\n",
       "\\end{tabular}\n"
      ],
      "text/markdown": [
       "\n",
       "A tibble: 7 × 5\n",
       "\n",
       "| Treatments &lt;chr&gt; | Before &lt;dbl&gt; | 4 months &lt;dbl&gt; | 8 months &lt;dbl&gt; | 12 months &lt;dbl&gt; |\n",
       "|---|---|---|---|---|\n",
       "| T0 (Control)       | 4.53 | 4.53 | 4.59 | 4.99 |\n",
       "| T1 (Azolla)        | 4.53 | 4.69 | 4.72 | 5.89 |\n",
       "| T2 (Grass)         | 4.53 | 5.13 | 5.68 | 5.24 |\n",
       "| T3(Water Hyacinth) | 4.53 | 4.99 | 6.21 | 6.00 |\n",
       "| T4 (Nuts)          | 4.53 | 4.83 | 6.03 | 6.14 |\n",
       "| T5 (Azolla+WH)     | 4.53 | 4.80 | 5.54 | 5.73 |\n",
       "| T6 (Nuts+Grass)    | 4.53 | 5.02 | 5.96 | 5.99 |\n",
       "\n"
      ],
      "text/plain": [
       "  Treatments         Before 4 months 8 months 12 months\n",
       "1 T0 (Control)       4.53   4.53     4.59     4.99     \n",
       "2 T1 (Azolla)        4.53   4.69     4.72     5.89     \n",
       "3 T2 (Grass)         4.53   5.13     5.68     5.24     \n",
       "4 T3(Water Hyacinth) 4.53   4.99     6.21     6.00     \n",
       "5 T4 (Nuts)          4.53   4.83     6.03     6.14     \n",
       "6 T5 (Azolla+WH)     4.53   4.80     5.54     5.73     \n",
       "7 T6 (Nuts+Grass)    4.53   5.02     5.96     5.99     "
      ]
     },
     "metadata": {},
     "output_type": "display_data"
    }
   ],
   "source": [
    "ph <- read_excel(\"pHTreatment.xlsx\")\n",
    "ph"
   ]
  },
  {
   "cell_type": "code",
   "execution_count": 6,
   "id": "7a075748",
   "metadata": {},
   "outputs": [
    {
     "data": {
      "text/plain": [
       "  Treatments            Before        4 months        8 months    \n",
       " Length:7           Min.   :4.53   Min.   :4.530   Min.   :4.590  \n",
       " Class :character   1st Qu.:4.53   1st Qu.:4.745   1st Qu.:5.130  \n",
       " Mode  :character   Median :4.53   Median :4.830   Median :5.680  \n",
       "                    Mean   :4.53   Mean   :4.856   Mean   :5.533  \n",
       "                    3rd Qu.:4.53   3rd Qu.:5.005   3rd Qu.:5.995  \n",
       "                    Max.   :4.53   Max.   :5.130   Max.   :6.210  \n",
       "   12 months    \n",
       " Min.   :4.990  \n",
       " 1st Qu.:5.485  \n",
       " Median :5.890  \n",
       " Mean   :5.711  \n",
       " 3rd Qu.:5.995  \n",
       " Max.   :6.140  "
      ]
     },
     "metadata": {},
     "output_type": "display_data"
    }
   ],
   "source": [
    "summary(ph)"
   ]
  },
  {
   "cell_type": "code",
   "execution_count": 10,
   "id": "4a7579a9",
   "metadata": {},
   "outputs": [
    {
     "data": {
      "text/plain": [
       "               Df    Sum Sq   Mean Sq F value Pr(>F)  \n",
       "ph$`12 months`  1 2.974e-30 2.974e-30   5.926 0.0591 .\n",
       "Residuals       5 2.509e-30 5.018e-31                 \n",
       "---\n",
       "Signif. codes:  0 ‘***’ 0.001 ‘**’ 0.01 ‘*’ 0.05 ‘.’ 0.1 ‘ ’ 1"
      ]
     },
     "metadata": {},
     "output_type": "display_data"
    }
   ],
   "source": [
    "one.way <- aov(ph$Before ~ ph$`12 months`, data = ph)\n",
    "\n",
    "summary(one.way)"
   ]
  },
  {
   "cell_type": "code",
   "execution_count": null,
   "id": "f7be0a6f",
   "metadata": {},
   "outputs": [],
   "source": []
  }
 ],
 "metadata": {
  "kernelspec": {
   "display_name": "R",
   "language": "R",
   "name": "ir"
  },
  "language_info": {
   "codemirror_mode": "r",
   "file_extension": ".r",
   "mimetype": "text/x-r-source",
   "name": "R",
   "pygments_lexer": "r",
   "version": "4.2.0"
  }
 },
 "nbformat": 4,
 "nbformat_minor": 5
}
