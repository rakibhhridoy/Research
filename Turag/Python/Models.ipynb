{
 "cells": [
  {
   "cell_type": "code",
   "execution_count": 2,
   "id": "555e28bf-61ee-43e3-aa05-e693d9df096c",
   "metadata": {},
   "outputs": [],
   "source": [
    "import pandas as pd\n",
    "import numpy as np\n",
    "import matplotlib.pyplot as plt\n",
    "import tensorflow as tf\n",
    "from tensorflow.keras.models import Sequential\n",
    "from tensorflow.keras.layers import Conv1D, MaxPooling1D, Flatten, Dense\n",
    "from tensorflow.keras.layers import Conv1D\n",
    "from tensorflow.keras.models import Sequential\n",
    "from tensorflow.keras.layers import *\n",
    "from tensorflow.keras.callbacks import ModelCheckpoint\n",
    "from tensorflow.keras.losses import MeanSquaredError\n",
    "from tensorflow.keras.metrics import RootMeanSquaredError\n",
    "from tensorflow.keras.optimizers import Adam\n",
    "from sklearn.model_selection import train_test_split\n",
    "from tensorflow.keras.models import load_model"
   ]
  },
  {
   "cell_type": "code",
   "execution_count": 3,
   "id": "b399cb74-d6b2-4b78-8995-f615b2823dcc",
   "metadata": {},
   "outputs": [],
   "source": [
    "def df_to_X_y(df, window_size=5):\n",
    "  df_as_np = df.to_numpy()\n",
    "  X = []\n",
    "  y = []\n",
    "  for i in range(len(df_as_np)-window_size):\n",
    "    row = [[a] for a in df_as_np[i:i+window_size]]\n",
    "    X.append(row)\n",
    "    label = df_as_np[i+window_size]\n",
    "    y.append(label)\n",
    "  return np.array(X), np.array(y)"
   ]
  },
  {
   "cell_type": "code",
   "execution_count": 4,
   "id": "412283f4-d715-4b90-9804-05bfd72f4156",
   "metadata": {},
   "outputs": [],
   "source": [
    "def load_data(file):\n",
    "    df = pd.read_csv(file)\n",
    "    df.drop(columns=\"Unnamed: 0\", inplace= True)\n",
    "    df = df.set_index(\"Date\")\n",
    "    return df"
   ]
  },
  {
   "cell_type": "code",
   "execution_count": 5,
   "id": "ecbff8f0-f34d-4b1e-8d34-53d22263c37e",
   "metadata": {},
   "outputs": [],
   "source": [
    "locA = load_data(\"data/LocationA.csv\")\n",
    "locB = load_data(\"data/LocationB.csv\")\n",
    "locC = load_data(\"data/LocationC.csv\")\n",
    "locD = load_data(\"data/LocationD.csv\")"
   ]
  },
  {
   "cell_type": "code",
   "execution_count": 6,
   "id": "3b909b21-320c-4e7c-a8ac-9dd476e52787",
   "metadata": {},
   "outputs": [
    {
     "data": {
      "text/html": [
       "<div>\n",
       "<style scoped>\n",
       "    .dataframe tbody tr th:only-of-type {\n",
       "        vertical-align: middle;\n",
       "    }\n",
       "\n",
       "    .dataframe tbody tr th {\n",
       "        vertical-align: top;\n",
       "    }\n",
       "\n",
       "    .dataframe thead th {\n",
       "        text-align: right;\n",
       "    }\n",
       "</style>\n",
       "<table border=\"1\" class=\"dataframe\">\n",
       "  <thead>\n",
       "    <tr style=\"text-align: right;\">\n",
       "      <th></th>\n",
       "      <th>TempA</th>\n",
       "      <th>pHA</th>\n",
       "      <th>ECA</th>\n",
       "      <th>DOA</th>\n",
       "      <th>BODA</th>\n",
       "      <th>TNA</th>\n",
       "    </tr>\n",
       "    <tr>\n",
       "      <th>Date</th>\n",
       "      <th></th>\n",
       "      <th></th>\n",
       "      <th></th>\n",
       "      <th></th>\n",
       "      <th></th>\n",
       "      <th></th>\n",
       "    </tr>\n",
       "  </thead>\n",
       "  <tbody>\n",
       "    <tr>\n",
       "      <th>12/15/2021</th>\n",
       "      <td>21.50</td>\n",
       "      <td>7.73</td>\n",
       "      <td>1748</td>\n",
       "      <td>2.55</td>\n",
       "      <td>27.96</td>\n",
       "      <td>1.28</td>\n",
       "    </tr>\n",
       "    <tr>\n",
       "      <th>12/16/2021</th>\n",
       "      <td>21.21</td>\n",
       "      <td>7.82</td>\n",
       "      <td>1765</td>\n",
       "      <td>2.60</td>\n",
       "      <td>27.90</td>\n",
       "      <td>1.08</td>\n",
       "    </tr>\n",
       "    <tr>\n",
       "      <th>12/17/2021</th>\n",
       "      <td>21.21</td>\n",
       "      <td>7.73</td>\n",
       "      <td>1769</td>\n",
       "      <td>2.59</td>\n",
       "      <td>27.88</td>\n",
       "      <td>1.17</td>\n",
       "    </tr>\n",
       "    <tr>\n",
       "      <th>12/18/2021</th>\n",
       "      <td>21.26</td>\n",
       "      <td>7.82</td>\n",
       "      <td>1776</td>\n",
       "      <td>2.63</td>\n",
       "      <td>27.66</td>\n",
       "      <td>1.15</td>\n",
       "    </tr>\n",
       "    <tr>\n",
       "      <th>12/19/2021</th>\n",
       "      <td>21.09</td>\n",
       "      <td>7.76</td>\n",
       "      <td>1822</td>\n",
       "      <td>2.60</td>\n",
       "      <td>27.71</td>\n",
       "      <td>1.22</td>\n",
       "    </tr>\n",
       "  </tbody>\n",
       "</table>\n",
       "</div>"
      ],
      "text/plain": [
       "            TempA   pHA   ECA   DOA   BODA   TNA\n",
       "Date                                            \n",
       "12/15/2021  21.50  7.73  1748  2.55  27.96  1.28\n",
       "12/16/2021  21.21  7.82  1765  2.60  27.90  1.08\n",
       "12/17/2021  21.21  7.73  1769  2.59  27.88  1.17\n",
       "12/18/2021  21.26  7.82  1776  2.63  27.66  1.15\n",
       "12/19/2021  21.09  7.76  1822  2.60  27.71  1.22"
      ]
     },
     "execution_count": 6,
     "metadata": {},
     "output_type": "execute_result"
    }
   ],
   "source": [
    "locA.head()"
   ]
  },
  {
   "cell_type": "code",
   "execution_count": 7,
   "id": "d8aaa0b0-ce81-4e5c-add8-832edd45e957",
   "metadata": {},
   "outputs": [
    {
     "data": {
      "text/plain": [
       "<AxesSubplot:xlabel='Date'>"
      ]
     },
     "execution_count": 7,
     "metadata": {},
     "output_type": "execute_result"
    },
    {
     "data": {
      "image/png": "[encoded data removed]",
      "text/plain": [
       "<Figure size 432x288 with 1 Axes>"
      ]
     },
     "metadata": {
      "needs_background": "light"
     },
     "output_type": "display_data"
    }
   ],
   "source": [
    "locA[\"ECA\"].plot(color = \"purple\")"
   ]
  },
  {
   "cell_type": "code",
   "execution_count": 8,
   "id": "7a0efd4e-dfce-4cdc-b547-12b04e7f3cfd",
   "metadata": {},
   "outputs": [
    {
     "data": {
      "text/plain": [
       "<AxesSubplot:xlabel='Date'>"
      ]
     },
     "execution_count": 8,
     "metadata": {},
     "output_type": "execute_result"
    },
    {
     "data": {
      "image/png": "[encoded data removed]",
      "text/plain": [
       "<Figure size 432x288 with 1 Axes>"
      ]
     },
     "metadata": {
      "needs_background": "light"
     },
     "output_type": "display_data"
    }
   ],
   "source": [
    "locA[[\"TempA\", \"pHA\", \"DOA\", \"TNA\", \"BODA\"]].plot()"
   ]
  },
  {
   "cell_type": "code",
   "execution_count": 7,
   "id": "a6fff0ca-68df-4739-a41d-43b298896d08",
   "metadata": {},
   "outputs": [
    {
     "data": {
      "text/plain": [
       "[<matplotlib.lines.Line2D at 0x7ff792d47460>,\n",
       " <matplotlib.lines.Line2D at 0x7ff792d47400>,\n",
       " <matplotlib.lines.Line2D at 0x7ff792d475b0>,\n",
       " <matplotlib.lines.Line2D at 0x7ff792d476d0>,\n",
       " <matplotlib.lines.Line2D at 0x7ff792d477f0>]"
      ]
     },
     "execution_count": 7,
     "metadata": {},
     "output_type": "execute_result"
    },
    {
     "data": {
      "image/png": "[encoded data removed]",
      "text/plain": [
       "<Figure size 720x504 with 4 Axes>"
      ]
     },
     "metadata": {
      "needs_background": "light"
     },
     "output_type": "display_data"
    }
   ],
   "source": [
    "fig, ax = plt.subplots(2, 2, figsize=(10,7))\n",
    "fig.tight_layout()\n",
    "\n",
    "#create subplots\n",
    "ax[0, 0].plot(locA[[\"TempA\", \"pHA\", \"DOA\", \"TNA\", \"BODA\"]])\n",
    "ax[0, 1].plot(locB[[\"TempB\", \"pHB\", \"DOB\", \"TNB\", \"BODB\"]])\n",
    "ax[1, 0].plot(locC[[\"TempC\", \"pHC\", \"DOC\", \"TNC\", \"BODC\"]])\n",
    "ax[1, 1].plot(locD[[\"TempD\", \"pHD\", \"DOD\", \"TND\", \"BODD\"]])"
   ]
  },
  {
   "cell_type": "code",
   "execution_count": 16,
   "id": "3e96f5e3-67b0-4060-9e08-58d2bd7c3fa4",
   "metadata": {},
   "outputs": [
    {
     "data": {
      "text/plain": [
       "[<matplotlib.lines.Line2D at 0x7f1bab9b0580>]"
      ]
     },
     "execution_count": 16,
     "metadata": {},
     "output_type": "execute_result"
    },
    {
     "data": {
      "image/png": "[encoded data removed]",
      "text/plain": [
       "<Figure size 720x504 with 4 Axes>"
      ]
     },
     "metadata": {
      "needs_background": "light"
     },
     "output_type": "display_data"
    }
   ],
   "source": [
    "fig, ax = plt.subplots(2, 2, figsize=(10,7))\n",
    "fig.tight_layout()\n",
    "\n",
    "#create subplots\n",
    "ax[0, 0].plot(locA[\"ECA\"])\n",
    "ax[0, 1].plot(locB[\"ECB\"])\n",
    "ax[1, 0].plot(locC[\"ECC\"])\n",
    "ax[1, 1].plot(locD[\"ECD\"])"
   ]
  },
  {
   "cell_type": "code",
   "execution_count": 8,
   "id": "0bf925f6-1e89-423e-b714-f6747994baae",
   "metadata": {},
   "outputs": [
    {
     "data": {
      "text/plain": [
       "((362, 3, 1), (362,))"
      ]
     },
     "execution_count": 8,
     "metadata": {},
     "output_type": "execute_result"
    }
   ],
   "source": [
    "doA = locA[\"DOA\"]\n",
    "WINDOW_SIZE = 3\n",
    "X1, y1 = df_to_X_y(doA, WINDOW_SIZE)\n",
    "X1.shape, y1.shape"
   ]
  },
  {
   "cell_type": "code",
   "execution_count": 9,
   "id": "172ff8a0-2c44-4538-b19e-647bd2b9e045",
   "metadata": {},
   "outputs": [],
   "source": [
    "x_train, x_test, y_train, y_test = train_test_split(X1, y1, test_size=0.2, random_state=1)\n",
    "x_train, x_val, y_train, y_val = train_test_split(x_train, y_train, test_size=0.2, random_state=1)"
   ]
  },
  {
   "cell_type": "markdown",
   "id": "059672d8-d00e-415d-b9db-da40b191d147",
   "metadata": {},
   "source": [
    "## LSTM"
   ]
  },
  {
   "cell_type": "code",
   "execution_count": 19,
   "id": "fc63348b-1a0f-4301-8cc7-36d9600286e2",
   "metadata": {},
   "outputs": [
    {
     "name": "stderr",
     "output_type": "stream",
     "text": [
      "2023-10-22 22:21:52.051592: W tensorflow/stream_executor/platform/default/dso_loader.cc:64] Could not load dynamic library 'libcuda.so.1'; dlerror: libcuda.so.1: cannot open shared object file: No such file or directory\n",
      "2023-10-22 22:21:52.051640: W tensorflow/stream_executor/cuda/cuda_driver.cc:263] failed call to cuInit: UNKNOWN ERROR (303)\n",
      "2023-10-22 22:21:52.051669: I tensorflow/stream_executor/cuda/cuda_diagnostics.cc:156] kernel driver does not appear to be running on this host (fedora): /proc/driver/nvidia/version does not exist\n",
      "2023-10-22 22:21:52.051980: I tensorflow/core/platform/cpu_feature_guard.cc:193] This TensorFlow binary is optimized with oneAPI Deep Neural Network Library (oneDNN) to use the following CPU instructions in performance-critical operations:  AVX2 AVX512F AVX512_VNNI FMA\n",
      "To enable them in other operations, rebuild TensorFlow with the appropriate compiler flags.\n"
     ]
    },
    {
     "name": "stdout",
     "output_type": "stream",
     "text": [
      "Model: \"sequential\"\n",
      "_________________________________________________________________\n",
      " Layer (type)                Output Shape              Param #   \n",
      "=================================================================\n",
      " lstm (LSTM)                 (None, 64)                16896     \n",
      "                                                                 \n",
      " dense (Dense)               (None, 8)                 520       \n",
      "                                                                 \n",
      " dense_1 (Dense)             (None, 1)                 9         \n",
      "                                                                 \n",
      "=================================================================\n",
      "Total params: 17,425\n",
      "Trainable params: 17,425\n",
      "Non-trainable params: 0\n",
      "_________________________________________________________________\n"
     ]
    }
   ],
   "source": [
    "model1 = Sequential()\n",
    "model1.add(InputLayer((3, 1)))\n",
    "model1.add(LSTM(64))\n",
    "model1.add(Dense(8, 'relu'))\n",
    "model1.add(Dense(1, 'linear'))\n",
    "\n",
    "model1.summary()"
   ]
  },
  {
   "cell_type": "code",
   "execution_count": 21,
   "id": "2a9aaeb4-5bb5-4e4c-b709-6223656a93d2",
   "metadata": {},
   "outputs": [],
   "source": [
    "cp1 = ModelCheckpoint('lstmmodel1/', save_best_only=True)\n",
    "model1.compile(loss=MeanSquaredError(), optimizer=Adam(learning_rate=0.0001), metrics=[RootMeanSquaredError()])"
   ]
  },
  {
   "cell_type": "code",
   "execution_count": 22,
   "id": "08d5611b-6b3a-455c-a3f2-7ec0cfde4f1d",
   "metadata": {},
   "outputs": [
    {
     "name": "stdout",
     "output_type": "stream",
     "text": [
      "Epoch 1/100\n",
      "1/8 [==>...........................] - ETA: 10s - loss: 4.0326 - root_mean_squared_error: 2.0081"
     ]
    },
    {
     "name": "stderr",
     "output_type": "stream",
     "text": [
      "WARNING:absl:Found untraced functions such as lstm_cell_layer_call_fn, lstm_cell_layer_call_and_return_conditional_losses while saving (showing 2 of 2). These functions will not be directly callable after loading.\n"
     ]
    },
    {
     "name": "stdout",
     "output_type": "stream",
     "text": [
      "INFO:tensorflow:Assets written to: lstmmodel1/assets\n"
     ]
    },
    {
     "name": "stderr",
     "output_type": "stream",
     "text": [
      "INFO:tensorflow:Assets written to: lstmmodel1/assets\n"
     ]
    },
    {
     "name": "stdout",
     "output_type": "stream",
     "text": [
      "8/8 [==============================] - 5s 533ms/step - loss: 3.4864 - root_mean_squared_error: 1.8672 - val_loss: 3.0096 - val_root_mean_squared_error: 1.7348\n",
      "Epoch 2/100\n",
      "1/8 [==>...........................] - ETA: 0s - loss: 2.7338 - root_mean_squared_error: 1.6534"
     ]
    },
    {
     "name": "stderr",
     "output_type": "stream",
     "text": [
      "WARNING:absl:Found untraced functions such as lstm_cell_layer_call_fn, lstm_cell_layer_call_and_return_conditional_losses while saving (showing 2 of 2). These functions will not be directly callable after loading.\n"
     ]
    },
    {
     "name": "stdout",
     "output_type": "stream",
     "text": [
      "INFO:tensorflow:Assets written to: lstmmodel1/assets\n"
     ]
    },
    {
     "name": "stderr",
     "output_type": "stream",
     "text": [
      "INFO:tensorflow:Assets written to: lstmmodel1/assets\n"
     ]
    },
    {
     "name": "stdout",
     "output_type": "stream",
     "text": [
      "8/8 [==============================] - 3s 484ms/step - loss: 3.3537 - root_mean_squared_error: 1.8313 - val_loss: 2.8957 - val_root_mean_squared_error: 1.7017\n",
      "Epoch 3/100\n",
      "1/8 [==>...........................] - ETA: 0s - loss: 3.5674 - root_mean_squared_error: 1.8887"
     ]
    },
    {
     "name": "stderr",
     "output_type": "stream",
     "text": [
      "WARNING:absl:Found untraced functions such as lstm_cell_layer_call_fn, lstm_cell_layer_call_and_return_conditional_losses while saving (showing 2 of 2). These functions will not be directly callable after loading.\n"
     ]
    },
    {
     "name": "stdout",
     "output_type": "stream",
     "text": [
      "INFO:tensorflow:Assets written to: lstmmodel1/assets\n"
     ]
    },
    {
     "name": "stderr",
     "output_type": "stream",
     "text": [
      "INFO:tensorflow:Assets written to: lstmmodel1/assets\n"
     ]
    },
    {
     "name": "stdout",
     "output_type": "stream",
     "text": [
      "8/8 [==============================] - 3s 420ms/step - loss: 3.2307 - root_mean_squared_error: 1.7974 - val_loss: 2.7834 - val_root_mean_squared_error: 1.6683\n",
      "Epoch 4/100\n",
      "1/8 [==>...........................] - ETA: 0s - loss: 3.6600 - root_mean_squared_error: 1.9131"
     ]
    },
    {
     "name": "stderr",
     "output_type": "stream",
     "text": [
      "WARNING:absl:Found untraced functions such as lstm_cell_layer_call_fn, lstm_cell_layer_call_and_return_conditional_losses while saving (showing 2 of 2). These functions will not be directly callable after loading.\n"
     ]
    },
    {
     "name": "stdout",
     "output_type": "stream",
     "text": [
      "INFO:tensorflow:Assets written to: lstmmodel1/assets\n"
     ]
    },
    {
     "name": "stderr",
     "output_type": "stream",
     "text": [
      "INFO:tensorflow:Assets written to: lstmmodel1/assets\n"
     ]
    },
    {
     "name": "stdout",
     "output_type": "stream",
     "text": [
      "8/8 [==============================] - 3s 496ms/step - loss: 3.1041 - root_mean_squared_error: 1.7619 - val_loss: 2.6767 - val_root_mean_squared_error: 1.6361\n",
      "Epoch 5/100\n",
      "1/8 [==>...........................] - ETA: 0s - loss: 2.3504 - root_mean_squared_error: 1.5331"
     ]
    },
    {
     "name": "stderr",
     "output_type": "stream",
     "text": [
      "WARNING:absl:Found untraced functions such as lstm_cell_layer_call_fn, lstm_cell_layer_call_and_return_conditional_losses while saving (showing 2 of 2). These functions will not be directly callable after loading.\n"
     ]
    },
    {
     "name": "stdout",
     "output_type": "stream",
     "text": [
      "INFO:tensorflow:Assets written to: lstmmodel1/assets\n"
     ]
    },
    {
     "name": "stderr",
     "output_type": "stream",
     "text": [
      "INFO:tensorflow:Assets written to: lstmmodel1/assets\n"
     ]
    },
    {
     "name": "stdout",
     "output_type": "stream",
     "text": [
      "8/8 [==============================] - 5s 642ms/step - loss: 2.9815 - root_mean_squared_error: 1.7267 - val_loss: 2.5698 - val_root_mean_squared_error: 1.6031\n",
      "Epoch 6/100\n",
      "1/8 [==>...........................] - ETA: 0s - loss: 2.2234 - root_mean_squared_error: 1.4911"
     ]
    },
    {
     "name": "stderr",
     "output_type": "stream",
     "text": [
      "WARNING:absl:Found untraced functions such as lstm_cell_layer_call_fn, lstm_cell_layer_call_and_return_conditional_losses while saving (showing 2 of 2). These functions will not be directly callable after loading.\n"
     ]
    },
    {
     "name": "stdout",
     "output_type": "stream",
     "text": [
      "INFO:tensorflow:Assets written to: lstmmodel1/assets\n"
     ]
    },
    {
     "name": "stderr",
     "output_type": "stream",
     "text": [
      "INFO:tensorflow:Assets written to: lstmmodel1/assets\n"
     ]
    },
    {
     "name": "stdout",
     "output_type": "stream",
     "text": [
      "8/8 [==============================] - 3s 365ms/step - loss: 2.8675 - root_mean_squared_error: 1.6934 - val_loss: 2.4885 - val_root_mean_squared_error: 1.5775\n",
      "Epoch 7/100\n",
      "1/8 [==>...........................] - ETA: 0s - loss: 2.4423 - root_mean_squared_error: 1.5628"
     ]
    },
    {
     "name": "stderr",
     "output_type": "stream",
     "text": [
      "WARNING:absl:Found untraced functions such as lstm_cell_layer_call_fn, lstm_cell_layer_call_and_return_conditional_losses while saving (showing 2 of 2). These functions will not be directly callable after loading.\n"
     ]
    },
    {
     "name": "stdout",
     "output_type": "stream",
     "text": [
      "INFO:tensorflow:Assets written to: lstmmodel1/assets\n"
     ]
    },
    {
     "name": "stderr",
     "output_type": "stream",
     "text": [
      "INFO:tensorflow:Assets written to: lstmmodel1/assets\n"
     ]
    },
    {
     "name": "stdout",
     "output_type": "stream",
     "text": [
      "8/8 [==============================] - 3s 361ms/step - loss: 2.7819 - root_mean_squared_error: 1.6679 - val_loss: 2.4105 - val_root_mean_squared_error: 1.5526\n",
      "Epoch 8/100\n",
      "1/8 [==>...........................] - ETA: 0s - loss: 2.5846 - root_mean_squared_error: 1.6077"
     ]
    },
    {
     "name": "stderr",
     "output_type": "stream",
     "text": [
      "WARNING:absl:Found untraced functions such as lstm_cell_layer_call_fn, lstm_cell_layer_call_and_return_conditional_losses while saving (showing 2 of 2). These functions will not be directly callable after loading.\n"
     ]
    },
    {
     "name": "stdout",
     "output_type": "stream",
     "text": [
      "INFO:tensorflow:Assets written to: lstmmodel1/assets\n"
     ]
    },
    {
     "name": "stderr",
     "output_type": "stream",
     "text": [
      "INFO:tensorflow:Assets written to: lstmmodel1/assets\n"
     ]
    },
    {
     "name": "stdout",
     "output_type": "stream",
     "text": [
      "8/8 [==============================] - 3s 445ms/step - loss: 2.6939 - root_mean_squared_error: 1.6413 - val_loss: 2.3326 - val_root_mean_squared_error: 1.5273\n",
      "Epoch 9/100\n",
      "1/8 [==>...........................] - ETA: 0s - loss: 2.8167 - root_mean_squared_error: 1.6783"
     ]
    },
    {
     "name": "stderr",
     "output_type": "stream",
     "text": [
      "WARNING:absl:Found untraced functions such as lstm_cell_layer_call_fn, lstm_cell_layer_call_and_return_conditional_losses while saving (showing 2 of 2). These functions will not be directly callable after loading.\n"
     ]
    },
    {
     "name": "stdout",
     "output_type": "stream",
     "text": [
      "INFO:tensorflow:Assets written to: lstmmodel1/assets\n"
     ]
    },
    {
     "name": "stderr",
     "output_type": "stream",
     "text": [
      "INFO:tensorflow:Assets written to: lstmmodel1/assets\n"
     ]
    },
    {
     "name": "stdout",
     "output_type": "stream",
     "text": [
      "8/8 [==============================] - 3s 375ms/step - loss: 2.6073 - root_mean_squared_error: 1.6147 - val_loss: 2.2556 - val_root_mean_squared_error: 1.5019\n",
      "Epoch 10/100\n",
      "1/8 [==>...........................] - ETA: 0s - loss: 2.9893 - root_mean_squared_error: 1.7289"
     ]
    },
    {
     "name": "stderr",
     "output_type": "stream",
     "text": [
      "WARNING:absl:Found untraced functions such as lstm_cell_layer_call_fn, lstm_cell_layer_call_and_return_conditional_losses while saving (showing 2 of 2). These functions will not be directly callable after loading.\n"
     ]
    },
    {
     "name": "stdout",
     "output_type": "stream",
     "text": [
      "INFO:tensorflow:Assets written to: lstmmodel1/assets\n"
     ]
    },
    {
     "name": "stderr",
     "output_type": "stream",
     "text": [
      "INFO:tensorflow:Assets written to: lstmmodel1/assets\n"
     ]
    },
    {
     "name": "stdout",
     "output_type": "stream",
     "text": [
      "8/8 [==============================] - 4s 590ms/step - loss: 2.5205 - root_mean_squared_error: 1.5876 - val_loss: 2.1796 - val_root_mean_squared_error: 1.4763\n",
      "Epoch 11/100\n",
      "1/8 [==>...........................] - ETA: 0s - loss: 2.1326 - root_mean_squared_error: 1.4603"
     ]
    },
    {
     "name": "stderr",
     "output_type": "stream",
     "text": [
      "WARNING:absl:Found untraced functions such as lstm_cell_layer_call_fn, lstm_cell_layer_call_and_return_conditional_losses while saving (showing 2 of 2). These functions will not be directly callable after loading.\n"
     ]
    },
    {
     "name": "stdout",
     "output_type": "stream",
     "text": [
      "INFO:tensorflow:Assets written to: lstmmodel1/assets\n"
     ]
    },
    {
     "name": "stderr",
     "output_type": "stream",
     "text": [
      "INFO:tensorflow:Assets written to: lstmmodel1/assets\n"
     ]
    },
    {
     "name": "stdout",
     "output_type": "stream",
     "text": [
      "8/8 [==============================] - 3s 415ms/step - loss: 2.4325 - root_mean_squared_error: 1.5597 - val_loss: 2.1033 - val_root_mean_squared_error: 1.4503\n",
      "Epoch 12/100\n",
      "1/8 [==>...........................] - ETA: 0s - loss: 2.8592 - root_mean_squared_error: 1.6909"
     ]
    },
    {
     "name": "stderr",
     "output_type": "stream",
     "text": [
      "WARNING:absl:Found untraced functions such as lstm_cell_layer_call_fn, lstm_cell_layer_call_and_return_conditional_losses while saving (showing 2 of 2). These functions will not be directly callable after loading.\n"
     ]
    },
    {
     "name": "stdout",
     "output_type": "stream",
     "text": [
      "INFO:tensorflow:Assets written to: lstmmodel1/assets\n"
     ]
    },
    {
     "name": "stderr",
     "output_type": "stream",
     "text": [
      "INFO:tensorflow:Assets written to: lstmmodel1/assets\n"
     ]
    },
    {
     "name": "stdout",
     "output_type": "stream",
     "text": [
      "8/8 [==============================] - 3s 424ms/step - loss: 2.3474 - root_mean_squared_error: 1.5321 - val_loss: 2.0259 - val_root_mean_squared_error: 1.4233\n",
      "Epoch 13/100\n",
      "1/8 [==>...........................] - ETA: 0s - loss: 2.1209 - root_mean_squared_error: 1.4563"
     ]
    },
    {
     "name": "stderr",
     "output_type": "stream",
     "text": [
      "WARNING:absl:Found untraced functions such as lstm_cell_layer_call_fn, lstm_cell_layer_call_and_return_conditional_losses while saving (showing 2 of 2). These functions will not be directly callable after loading.\n"
     ]
    },
    {
     "name": "stdout",
     "output_type": "stream",
     "text": [
      "INFO:tensorflow:Assets written to: lstmmodel1/assets\n"
     ]
    },
    {
     "name": "stderr",
     "output_type": "stream",
     "text": [
      "INFO:tensorflow:Assets written to: lstmmodel1/assets\n"
     ]
    },
    {
     "name": "stdout",
     "output_type": "stream",
     "text": [
      "8/8 [==============================] - 3s 388ms/step - loss: 2.2602 - root_mean_squared_error: 1.5034 - val_loss: 1.9496 - val_root_mean_squared_error: 1.3963\n",
      "Epoch 14/100\n",
      "1/8 [==>...........................] - ETA: 0s - loss: 2.0068 - root_mean_squared_error: 1.4166"
     ]
    },
    {
     "name": "stderr",
     "output_type": "stream",
     "text": [
      "WARNING:absl:Found untraced functions such as lstm_cell_layer_call_fn, lstm_cell_layer_call_and_return_conditional_losses while saving (showing 2 of 2). These functions will not be directly callable after loading.\n"
     ]
    },
    {
     "name": "stdout",
     "output_type": "stream",
     "text": [
      "INFO:tensorflow:Assets written to: lstmmodel1/assets\n"
     ]
    },
    {
     "name": "stderr",
     "output_type": "stream",
     "text": [
      "INFO:tensorflow:Assets written to: lstmmodel1/assets\n"
     ]
    },
    {
     "name": "stdout",
     "output_type": "stream",
     "text": [
      "8/8 [==============================] - 3s 384ms/step - loss: 2.1743 - root_mean_squared_error: 1.4746 - val_loss: 1.8726 - val_root_mean_squared_error: 1.3684\n",
      "Epoch 15/100\n",
      "1/8 [==>...........................] - ETA: 0s - loss: 2.3580 - root_mean_squared_error: 1.5356"
     ]
    },
    {
     "name": "stderr",
     "output_type": "stream",
     "text": [
      "WARNING:absl:Found untraced functions such as lstm_cell_layer_call_fn, lstm_cell_layer_call_and_return_conditional_losses while saving (showing 2 of 2). These functions will not be directly callable after loading.\n"
     ]
    },
    {
     "name": "stdout",
     "output_type": "stream",
     "text": [
      "INFO:tensorflow:Assets written to: lstmmodel1/assets\n"
     ]
    },
    {
     "name": "stderr",
     "output_type": "stream",
     "text": [
      "INFO:tensorflow:Assets written to: lstmmodel1/assets\n"
     ]
    },
    {
     "name": "stdout",
     "output_type": "stream",
     "text": [
      "8/8 [==============================] - 3s 472ms/step - loss: 2.0889 - root_mean_squared_error: 1.4453 - val_loss: 1.7961 - val_root_mean_squared_error: 1.3402\n",
      "Epoch 16/100\n",
      "1/8 [==>...........................] - ETA: 0s - loss: 2.4943 - root_mean_squared_error: 1.5793"
     ]
    },
    {
     "name": "stderr",
     "output_type": "stream",
     "text": [
      "WARNING:absl:Found untraced functions such as lstm_cell_layer_call_fn, lstm_cell_layer_call_and_return_conditional_losses while saving (showing 2 of 2). These functions will not be directly callable after loading.\n"
     ]
    },
    {
     "name": "stdout",
     "output_type": "stream",
     "text": [
      "INFO:tensorflow:Assets written to: lstmmodel1/assets\n"
     ]
    },
    {
     "name": "stderr",
     "output_type": "stream",
     "text": [
      "INFO:tensorflow:Assets written to: lstmmodel1/assets\n"
     ]
    },
    {
     "name": "stdout",
     "output_type": "stream",
     "text": [
      "8/8 [==============================] - 4s 629ms/step - loss: 2.0033 - root_mean_squared_error: 1.4154 - val_loss: 1.7204 - val_root_mean_squared_error: 1.3116\n",
      "Epoch 17/100\n",
      "1/8 [==>...........................] - ETA: 0s - loss: 1.8238 - root_mean_squared_error: 1.3505"
     ]
    },
    {
     "name": "stderr",
     "output_type": "stream",
     "text": [
      "WARNING:absl:Found untraced functions such as lstm_cell_layer_call_fn, lstm_cell_layer_call_and_return_conditional_losses while saving (showing 2 of 2). These functions will not be directly callable after loading.\n"
     ]
    },
    {
     "name": "stdout",
     "output_type": "stream",
     "text": [
      "INFO:tensorflow:Assets written to: lstmmodel1/assets\n"
     ]
    },
    {
     "name": "stderr",
     "output_type": "stream",
     "text": [
      "INFO:tensorflow:Assets written to: lstmmodel1/assets\n"
     ]
    },
    {
     "name": "stdout",
     "output_type": "stream",
     "text": [
      "8/8 [==============================] - 3s 380ms/step - loss: 1.9161 - root_mean_squared_error: 1.3842 - val_loss: 1.6449 - val_root_mean_squared_error: 1.2825\n",
      "Epoch 18/100\n",
      "1/8 [==>...........................] - ETA: 0s - loss: 2.1150 - root_mean_squared_error: 1.4543"
     ]
    },
    {
     "name": "stderr",
     "output_type": "stream",
     "text": [
      "WARNING:absl:Found untraced functions such as lstm_cell_layer_call_fn, lstm_cell_layer_call_and_return_conditional_losses while saving (showing 2 of 2). These functions will not be directly callable after loading.\n"
     ]
    },
    {
     "name": "stdout",
     "output_type": "stream",
     "text": [
      "INFO:tensorflow:Assets written to: lstmmodel1/assets\n"
     ]
    },
    {
     "name": "stderr",
     "output_type": "stream",
     "text": [
      "INFO:tensorflow:Assets written to: lstmmodel1/assets\n"
     ]
    },
    {
     "name": "stdout",
     "output_type": "stream",
     "text": [
      "8/8 [==============================] - 3s 434ms/step - loss: 1.8329 - root_mean_squared_error: 1.3538 - val_loss: 1.5687 - val_root_mean_squared_error: 1.2525\n",
      "Epoch 19/100\n",
      "1/8 [==>...........................] - ETA: 0s - loss: 1.3481 - root_mean_squared_error: 1.1611"
     ]
    },
    {
     "name": "stderr",
     "output_type": "stream",
     "text": [
      "WARNING:absl:Found untraced functions such as lstm_cell_layer_call_fn, lstm_cell_layer_call_and_return_conditional_losses while saving (showing 2 of 2). These functions will not be directly callable after loading.\n"
     ]
    },
    {
     "name": "stdout",
     "output_type": "stream",
     "text": [
      "INFO:tensorflow:Assets written to: lstmmodel1/assets\n"
     ]
    },
    {
     "name": "stderr",
     "output_type": "stream",
     "text": [
      "INFO:tensorflow:Assets written to: lstmmodel1/assets\n"
     ]
    },
    {
     "name": "stdout",
     "output_type": "stream",
     "text": [
      "8/8 [==============================] - 4s 511ms/step - loss: 1.7445 - root_mean_squared_error: 1.3208 - val_loss: 1.4926 - val_root_mean_squared_error: 1.2217\n",
      "Epoch 20/100\n",
      "8/8 [==============================] - ETA: 0s - loss: 1.6594 - root_mean_squared_error: 1.2882"
     ]
    },
    {
     "name": "stderr",
     "output_type": "stream",
     "text": [
      "WARNING:absl:Found untraced functions such as lstm_cell_layer_call_fn, lstm_cell_layer_call_and_return_conditional_losses while saving (showing 2 of 2). These functions will not be directly callable after loading.\n"
     ]
    },
    {
     "name": "stdout",
     "output_type": "stream",
     "text": [
      "INFO:tensorflow:Assets written to: lstmmodel1/assets\n"
     ]
    },
    {
     "name": "stderr",
     "output_type": "stream",
     "text": [
      "INFO:tensorflow:Assets written to: lstmmodel1/assets\n"
     ]
    },
    {
     "name": "stdout",
     "output_type": "stream",
     "text": [
      "8/8 [==============================] - 3s 426ms/step - loss: 1.6594 - root_mean_squared_error: 1.2882 - val_loss: 1.4162 - val_root_mean_squared_error: 1.1900\n",
      "Epoch 21/100\n",
      "1/8 [==>...........................] - ETA: 0s - loss: 1.4361 - root_mean_squared_error: 1.1984"
     ]
    },
    {
     "name": "stderr",
     "output_type": "stream",
     "text": [
      "WARNING:absl:Found untraced functions such as lstm_cell_layer_call_fn, lstm_cell_layer_call_and_return_conditional_losses while saving (showing 2 of 2). These functions will not be directly callable after loading.\n"
     ]
    },
    {
     "name": "stdout",
     "output_type": "stream",
     "text": [
      "INFO:tensorflow:Assets written to: lstmmodel1/assets\n"
     ]
    },
    {
     "name": "stderr",
     "output_type": "stream",
     "text": [
      "INFO:tensorflow:Assets written to: lstmmodel1/assets\n"
     ]
    },
    {
     "name": "stdout",
     "output_type": "stream",
     "text": [
      "8/8 [==============================] - 5s 643ms/step - loss: 1.5729 - root_mean_squared_error: 1.2542 - val_loss: 1.3399 - val_root_mean_squared_error: 1.1576\n",
      "Epoch 22/100\n",
      "1/8 [==>...........................] - ETA: 0s - loss: 1.4792 - root_mean_squared_error: 1.2162"
     ]
    },
    {
     "name": "stderr",
     "output_type": "stream",
     "text": [
      "WARNING:absl:Found untraced functions such as lstm_cell_layer_call_fn, lstm_cell_layer_call_and_return_conditional_losses while saving (showing 2 of 2). These functions will not be directly callable after loading.\n"
     ]
    },
    {
     "name": "stdout",
     "output_type": "stream",
     "text": [
      "INFO:tensorflow:Assets written to: lstmmodel1/assets\n"
     ]
    },
    {
     "name": "stderr",
     "output_type": "stream",
     "text": [
      "INFO:tensorflow:Assets written to: lstmmodel1/assets\n"
     ]
    },
    {
     "name": "stdout",
     "output_type": "stream",
     "text": [
      "8/8 [==============================] - 3s 424ms/step - loss: 1.4869 - root_mean_squared_error: 1.2194 - val_loss: 1.2627 - val_root_mean_squared_error: 1.1237\n",
      "Epoch 23/100\n",
      "1/8 [==>...........................] - ETA: 0s - loss: 1.3398 - root_mean_squared_error: 1.1575"
     ]
    },
    {
     "name": "stderr",
     "output_type": "stream",
     "text": [
      "WARNING:absl:Found untraced functions such as lstm_cell_layer_call_fn, lstm_cell_layer_call_and_return_conditional_losses while saving (showing 2 of 2). These functions will not be directly callable after loading.\n"
     ]
    },
    {
     "name": "stdout",
     "output_type": "stream",
     "text": [
      "INFO:tensorflow:Assets written to: lstmmodel1/assets\n"
     ]
    },
    {
     "name": "stderr",
     "output_type": "stream",
     "text": [
      "INFO:tensorflow:Assets written to: lstmmodel1/assets\n"
     ]
    },
    {
     "name": "stdout",
     "output_type": "stream",
     "text": [
      "8/8 [==============================] - 3s 452ms/step - loss: 1.3982 - root_mean_squared_error: 1.1825 - val_loss: 1.1859 - val_root_mean_squared_error: 1.0890\n",
      "Epoch 24/100\n",
      "1/8 [==>...........................] - ETA: 0s - loss: 1.4110 - root_mean_squared_error: 1.1879"
     ]
    },
    {
     "name": "stderr",
     "output_type": "stream",
     "text": [
      "WARNING:absl:Found untraced functions such as lstm_cell_layer_call_fn, lstm_cell_layer_call_and_return_conditional_losses while saving (showing 2 of 2). These functions will not be directly callable after loading.\n"
     ]
    },
    {
     "name": "stdout",
     "output_type": "stream",
     "text": [
      "INFO:tensorflow:Assets written to: lstmmodel1/assets\n"
     ]
    },
    {
     "name": "stderr",
     "output_type": "stream",
     "text": [
      "INFO:tensorflow:Assets written to: lstmmodel1/assets\n"
     ]
    },
    {
     "name": "stdout",
     "output_type": "stream",
     "text": [
      "8/8 [==============================] - 3s 416ms/step - loss: 1.3124 - root_mean_squared_error: 1.1456 - val_loss: 1.1089 - val_root_mean_squared_error: 1.0531\n",
      "Epoch 25/100\n",
      "1/8 [==>...........................] - ETA: 0s - loss: 1.4772 - root_mean_squared_error: 1.2154"
     ]
    },
    {
     "name": "stderr",
     "output_type": "stream",
     "text": [
      "WARNING:absl:Found untraced functions such as lstm_cell_layer_call_fn, lstm_cell_layer_call_and_return_conditional_losses while saving (showing 2 of 2). These functions will not be directly callable after loading.\n"
     ]
    },
    {
     "name": "stdout",
     "output_type": "stream",
     "text": [
      "INFO:tensorflow:Assets written to: lstmmodel1/assets\n"
     ]
    },
    {
     "name": "stderr",
     "output_type": "stream",
     "text": [
      "INFO:tensorflow:Assets written to: lstmmodel1/assets\n"
     ]
    },
    {
     "name": "stdout",
     "output_type": "stream",
     "text": [
      "8/8 [==============================] - 3s 415ms/step - loss: 1.2272 - root_mean_squared_error: 1.1078 - val_loss: 1.0337 - val_root_mean_squared_error: 1.0167\n",
      "Epoch 26/100\n",
      "1/8 [==>...........................] - ETA: 0s - loss: 1.0849 - root_mean_squared_error: 1.0416"
     ]
    },
    {
     "name": "stderr",
     "output_type": "stream",
     "text": [
      "WARNING:absl:Found untraced functions such as lstm_cell_layer_call_fn, lstm_cell_layer_call_and_return_conditional_losses while saving (showing 2 of 2). These functions will not be directly callable after loading.\n"
     ]
    },
    {
     "name": "stdout",
     "output_type": "stream",
     "text": [
      "INFO:tensorflow:Assets written to: lstmmodel1/assets\n"
     ]
    },
    {
     "name": "stderr",
     "output_type": "stream",
     "text": [
      "INFO:tensorflow:Assets written to: lstmmodel1/assets\n"
     ]
    },
    {
     "name": "stdout",
     "output_type": "stream",
     "text": [
      "8/8 [==============================] - 3s 380ms/step - loss: 1.1419 - root_mean_squared_error: 1.0686 - val_loss: 0.9604 - val_root_mean_squared_error: 0.9800\n",
      "Epoch 27/100\n",
      "1/8 [==>...........................] - ETA: 0s - loss: 0.9763 - root_mean_squared_error: 0.9881"
     ]
    },
    {
     "name": "stderr",
     "output_type": "stream",
     "text": [
      "WARNING:absl:Found untraced functions such as lstm_cell_layer_call_fn, lstm_cell_layer_call_and_return_conditional_losses while saving (showing 2 of 2). These functions will not be directly callable after loading.\n"
     ]
    },
    {
     "name": "stdout",
     "output_type": "stream",
     "text": [
      "INFO:tensorflow:Assets written to: lstmmodel1/assets\n"
     ]
    },
    {
     "name": "stderr",
     "output_type": "stream",
     "text": [
      "INFO:tensorflow:Assets written to: lstmmodel1/assets\n"
     ]
    },
    {
     "name": "stdout",
     "output_type": "stream",
     "text": [
      "8/8 [==============================] - 4s 576ms/step - loss: 1.0590 - root_mean_squared_error: 1.0291 - val_loss: 0.8872 - val_root_mean_squared_error: 0.9419\n",
      "Epoch 28/100\n",
      "1/8 [==>...........................] - ETA: 0s - loss: 0.8160 - root_mean_squared_error: 0.9033"
     ]
    },
    {
     "name": "stderr",
     "output_type": "stream",
     "text": [
      "WARNING:absl:Found untraced functions such as lstm_cell_layer_call_fn, lstm_cell_layer_call_and_return_conditional_losses while saving (showing 2 of 2). These functions will not be directly callable after loading.\n"
     ]
    },
    {
     "name": "stdout",
     "output_type": "stream",
     "text": [
      "INFO:tensorflow:Assets written to: lstmmodel1/assets\n"
     ]
    },
    {
     "name": "stderr",
     "output_type": "stream",
     "text": [
      "INFO:tensorflow:Assets written to: lstmmodel1/assets\n"
     ]
    },
    {
     "name": "stdout",
     "output_type": "stream",
     "text": [
      "8/8 [==============================] - 3s 392ms/step - loss: 0.9771 - root_mean_squared_error: 0.9885 - val_loss: 0.8166 - val_root_mean_squared_error: 0.9037\n",
      "Epoch 29/100\n",
      "1/8 [==>...........................] - ETA: 0s - loss: 0.8381 - root_mean_squared_error: 0.9155"
     ]
    },
    {
     "name": "stderr",
     "output_type": "stream",
     "text": [
      "WARNING:absl:Found untraced functions such as lstm_cell_layer_call_fn, lstm_cell_layer_call_and_return_conditional_losses while saving (showing 2 of 2). These functions will not be directly callable after loading.\n"
     ]
    },
    {
     "name": "stdout",
     "output_type": "stream",
     "text": [
      "INFO:tensorflow:Assets written to: lstmmodel1/assets\n"
     ]
    },
    {
     "name": "stderr",
     "output_type": "stream",
     "text": [
      "INFO:tensorflow:Assets written to: lstmmodel1/assets\n"
     ]
    },
    {
     "name": "stdout",
     "output_type": "stream",
     "text": [
      "8/8 [==============================] - 3s 423ms/step - loss: 0.8980 - root_mean_squared_error: 0.9476 - val_loss: 0.7467 - val_root_mean_squared_error: 0.8641\n",
      "Epoch 30/100\n",
      "1/8 [==>...........................] - ETA: 0s - loss: 0.9945 - root_mean_squared_error: 0.9972"
     ]
    },
    {
     "name": "stderr",
     "output_type": "stream",
     "text": [
      "WARNING:absl:Found untraced functions such as lstm_cell_layer_call_fn, lstm_cell_layer_call_and_return_conditional_losses while saving (showing 2 of 2). These functions will not be directly callable after loading.\n"
     ]
    },
    {
     "name": "stdout",
     "output_type": "stream",
     "text": [
      "INFO:tensorflow:Assets written to: lstmmodel1/assets\n"
     ]
    },
    {
     "name": "stderr",
     "output_type": "stream",
     "text": [
      "INFO:tensorflow:Assets written to: lstmmodel1/assets\n"
     ]
    },
    {
     "name": "stdout",
     "output_type": "stream",
     "text": [
      "8/8 [==============================] - 3s 451ms/step - loss: 0.8208 - root_mean_squared_error: 0.9060 - val_loss: 0.6782 - val_root_mean_squared_error: 0.8235\n",
      "Epoch 31/100\n",
      "1/8 [==>...........................] - ETA: 0s - loss: 0.6899 - root_mean_squared_error: 0.8306"
     ]
    },
    {
     "name": "stderr",
     "output_type": "stream",
     "text": [
      "WARNING:absl:Found untraced functions such as lstm_cell_layer_call_fn, lstm_cell_layer_call_and_return_conditional_losses while saving (showing 2 of 2). These functions will not be directly callable after loading.\n"
     ]
    },
    {
     "name": "stdout",
     "output_type": "stream",
     "text": [
      "INFO:tensorflow:Assets written to: lstmmodel1/assets\n"
     ]
    },
    {
     "name": "stderr",
     "output_type": "stream",
     "text": [
      "INFO:tensorflow:Assets written to: lstmmodel1/assets\n"
     ]
    },
    {
     "name": "stdout",
     "output_type": "stream",
     "text": [
      "8/8 [==============================] - 4s 541ms/step - loss: 0.7427 - root_mean_squared_error: 0.8618 - val_loss: 0.6121 - val_root_mean_squared_error: 0.7824\n",
      "Epoch 32/100\n",
      "1/8 [==>...........................] - ETA: 0s - loss: 0.6752 - root_mean_squared_error: 0.8217"
     ]
    },
    {
     "name": "stderr",
     "output_type": "stream",
     "text": [
      "WARNING:absl:Found untraced functions such as lstm_cell_layer_call_fn, lstm_cell_layer_call_and_return_conditional_losses while saving (showing 2 of 2). These functions will not be directly callable after loading.\n"
     ]
    },
    {
     "name": "stdout",
     "output_type": "stream",
     "text": [
      "INFO:tensorflow:Assets written to: lstmmodel1/assets\n"
     ]
    },
    {
     "name": "stderr",
     "output_type": "stream",
     "text": [
      "INFO:tensorflow:Assets written to: lstmmodel1/assets\n"
     ]
    },
    {
     "name": "stdout",
     "output_type": "stream",
     "text": [
      "8/8 [==============================] - 3s 485ms/step - loss: 0.6699 - root_mean_squared_error: 0.8185 - val_loss: 0.5494 - val_root_mean_squared_error: 0.7412\n",
      "Epoch 33/100\n",
      "1/8 [==>...........................] - ETA: 0s - loss: 0.6123 - root_mean_squared_error: 0.7825"
     ]
    },
    {
     "name": "stderr",
     "output_type": "stream",
     "text": [
      "WARNING:absl:Found untraced functions such as lstm_cell_layer_call_fn, lstm_cell_layer_call_and_return_conditional_losses while saving (showing 2 of 2). These functions will not be directly callable after loading.\n"
     ]
    },
    {
     "name": "stdout",
     "output_type": "stream",
     "text": [
      "INFO:tensorflow:Assets written to: lstmmodel1/assets\n"
     ]
    },
    {
     "name": "stderr",
     "output_type": "stream",
     "text": [
      "INFO:tensorflow:Assets written to: lstmmodel1/assets\n"
     ]
    },
    {
     "name": "stdout",
     "output_type": "stream",
     "text": [
      "8/8 [==============================] - 3s 469ms/step - loss: 0.6005 - root_mean_squared_error: 0.7749 - val_loss: 0.4885 - val_root_mean_squared_error: 0.6989\n",
      "Epoch 34/100\n",
      "1/8 [==>...........................] - ETA: 0s - loss: 0.5592 - root_mean_squared_error: 0.7478"
     ]
    },
    {
     "name": "stderr",
     "output_type": "stream",
     "text": [
      "WARNING:absl:Found untraced functions such as lstm_cell_layer_call_fn, lstm_cell_layer_call_and_return_conditional_losses while saving (showing 2 of 2). These functions will not be directly callable after loading.\n"
     ]
    },
    {
     "name": "stdout",
     "output_type": "stream",
     "text": [
      "INFO:tensorflow:Assets written to: lstmmodel1/assets\n"
     ]
    },
    {
     "name": "stderr",
     "output_type": "stream",
     "text": [
      "INFO:tensorflow:Assets written to: lstmmodel1/assets\n"
     ]
    },
    {
     "name": "stdout",
     "output_type": "stream",
     "text": [
      "8/8 [==============================] - 2s 353ms/step - loss: 0.5331 - root_mean_squared_error: 0.7301 - val_loss: 0.4324 - val_root_mean_squared_error: 0.6576\n",
      "Epoch 35/100\n",
      "1/8 [==>...........................] - ETA: 0s - loss: 0.4901 - root_mean_squared_error: 0.7001"
     ]
    },
    {
     "name": "stderr",
     "output_type": "stream",
     "text": [
      "WARNING:absl:Found untraced functions such as lstm_cell_layer_call_fn, lstm_cell_layer_call_and_return_conditional_losses while saving (showing 2 of 2). These functions will not be directly callable after loading.\n"
     ]
    },
    {
     "name": "stdout",
     "output_type": "stream",
     "text": [
      "INFO:tensorflow:Assets written to: lstmmodel1/assets\n"
     ]
    },
    {
     "name": "stderr",
     "output_type": "stream",
     "text": [
      "INFO:tensorflow:Assets written to: lstmmodel1/assets\n"
     ]
    },
    {
     "name": "stdout",
     "output_type": "stream",
     "text": [
      "8/8 [==============================] - 2s 356ms/step - loss: 0.4716 - root_mean_squared_error: 0.6867 - val_loss: 0.3803 - val_root_mean_squared_error: 0.6167\n",
      "Epoch 36/100\n",
      "1/8 [==>...........................] - ETA: 0s - loss: 0.4535 - root_mean_squared_error: 0.6734"
     ]
    },
    {
     "name": "stderr",
     "output_type": "stream",
     "text": [
      "WARNING:absl:Found untraced functions such as lstm_cell_layer_call_fn, lstm_cell_layer_call_and_return_conditional_losses while saving (showing 2 of 2). These functions will not be directly callable after loading.\n"
     ]
    },
    {
     "name": "stdout",
     "output_type": "stream",
     "text": [
      "INFO:tensorflow:Assets written to: lstmmodel1/assets\n"
     ]
    },
    {
     "name": "stderr",
     "output_type": "stream",
     "text": [
      "INFO:tensorflow:Assets written to: lstmmodel1/assets\n"
     ]
    },
    {
     "name": "stdout",
     "output_type": "stream",
     "text": [
      "8/8 [==============================] - 3s 358ms/step - loss: 0.4139 - root_mean_squared_error: 0.6433 - val_loss: 0.3313 - val_root_mean_squared_error: 0.5756\n",
      "Epoch 37/100\n",
      "1/8 [==>...........................] - ETA: 0s - loss: 0.3983 - root_mean_squared_error: 0.6311"
     ]
    },
    {
     "name": "stderr",
     "output_type": "stream",
     "text": [
      "WARNING:absl:Found untraced functions such as lstm_cell_layer_call_fn, lstm_cell_layer_call_and_return_conditional_losses while saving (showing 2 of 2). These functions will not be directly callable after loading.\n"
     ]
    },
    {
     "name": "stdout",
     "output_type": "stream",
     "text": [
      "INFO:tensorflow:Assets written to: lstmmodel1/assets\n"
     ]
    },
    {
     "name": "stderr",
     "output_type": "stream",
     "text": [
      "INFO:tensorflow:Assets written to: lstmmodel1/assets\n"
     ]
    },
    {
     "name": "stdout",
     "output_type": "stream",
     "text": [
      "8/8 [==============================] - 3s 357ms/step - loss: 0.3608 - root_mean_squared_error: 0.6006 - val_loss: 0.2861 - val_root_mean_squared_error: 0.5349\n",
      "Epoch 38/100\n",
      "1/8 [==>...........................] - ETA: 0s - loss: 0.3683 - root_mean_squared_error: 0.6068"
     ]
    },
    {
     "name": "stderr",
     "output_type": "stream",
     "text": [
      "WARNING:absl:Found untraced functions such as lstm_cell_layer_call_fn, lstm_cell_layer_call_and_return_conditional_losses while saving (showing 2 of 2). These functions will not be directly callable after loading.\n"
     ]
    },
    {
     "name": "stdout",
     "output_type": "stream",
     "text": [
      "INFO:tensorflow:Assets written to: lstmmodel1/assets\n"
     ]
    },
    {
     "name": "stderr",
     "output_type": "stream",
     "text": [
      "INFO:tensorflow:Assets written to: lstmmodel1/assets\n"
     ]
    },
    {
     "name": "stdout",
     "output_type": "stream",
     "text": [
      "8/8 [==============================] - 4s 561ms/step - loss: 0.3124 - root_mean_squared_error: 0.5589 - val_loss: 0.2456 - val_root_mean_squared_error: 0.4955\n",
      "Epoch 39/100\n",
      "1/8 [==>...........................] - ETA: 0s - loss: 0.2355 - root_mean_squared_error: 0.4853"
     ]
    },
    {
     "name": "stderr",
     "output_type": "stream",
     "text": [
      "WARNING:absl:Found untraced functions such as lstm_cell_layer_call_fn, lstm_cell_layer_call_and_return_conditional_losses while saving (showing 2 of 2). These functions will not be directly callable after loading.\n"
     ]
    },
    {
     "name": "stdout",
     "output_type": "stream",
     "text": [
      "INFO:tensorflow:Assets written to: lstmmodel1/assets\n"
     ]
    },
    {
     "name": "stderr",
     "output_type": "stream",
     "text": [
      "INFO:tensorflow:Assets written to: lstmmodel1/assets\n"
     ]
    },
    {
     "name": "stdout",
     "output_type": "stream",
     "text": [
      "8/8 [==============================] - 4s 576ms/step - loss: 0.2679 - root_mean_squared_error: 0.5176 - val_loss: 0.2107 - val_root_mean_squared_error: 0.4591\n",
      "Epoch 40/100\n",
      "1/8 [==>...........................] - ETA: 0s - loss: 0.2593 - root_mean_squared_error: 0.5092"
     ]
    },
    {
     "name": "stderr",
     "output_type": "stream",
     "text": [
      "WARNING:absl:Found untraced functions such as lstm_cell_layer_call_fn, lstm_cell_layer_call_and_return_conditional_losses while saving (showing 2 of 2). These functions will not be directly callable after loading.\n"
     ]
    },
    {
     "name": "stdout",
     "output_type": "stream",
     "text": [
      "INFO:tensorflow:Assets written to: lstmmodel1/assets\n"
     ]
    },
    {
     "name": "stderr",
     "output_type": "stream",
     "text": [
      "INFO:tensorflow:Assets written to: lstmmodel1/assets\n"
     ]
    },
    {
     "name": "stdout",
     "output_type": "stream",
     "text": [
      "8/8 [==============================] - 3s 435ms/step - loss: 0.2309 - root_mean_squared_error: 0.4805 - val_loss: 0.1787 - val_root_mean_squared_error: 0.4227\n",
      "Epoch 41/100\n",
      "1/8 [==>...........................] - ETA: 0s - loss: 0.1568 - root_mean_squared_error: 0.3960"
     ]
    },
    {
     "name": "stderr",
     "output_type": "stream",
     "text": [
      "WARNING:absl:Found untraced functions such as lstm_cell_layer_call_fn, lstm_cell_layer_call_and_return_conditional_losses while saving (showing 2 of 2). These functions will not be directly callable after loading.\n"
     ]
    },
    {
     "name": "stdout",
     "output_type": "stream",
     "text": [
      "INFO:tensorflow:Assets written to: lstmmodel1/assets\n"
     ]
    },
    {
     "name": "stderr",
     "output_type": "stream",
     "text": [
      "INFO:tensorflow:Assets written to: lstmmodel1/assets\n"
     ]
    },
    {
     "name": "stdout",
     "output_type": "stream",
     "text": [
      "8/8 [==============================] - 3s 495ms/step - loss: 0.1959 - root_mean_squared_error: 0.4425 - val_loss: 0.1510 - val_root_mean_squared_error: 0.3886\n",
      "Epoch 42/100\n",
      "1/8 [==>...........................] - ETA: 0s - loss: 0.1617 - root_mean_squared_error: 0.4022"
     ]
    },
    {
     "name": "stderr",
     "output_type": "stream",
     "text": [
      "WARNING:absl:Found untraced functions such as lstm_cell_layer_call_fn, lstm_cell_layer_call_and_return_conditional_losses while saving (showing 2 of 2). These functions will not be directly callable after loading.\n"
     ]
    },
    {
     "name": "stdout",
     "output_type": "stream",
     "text": [
      "INFO:tensorflow:Assets written to: lstmmodel1/assets\n"
     ]
    },
    {
     "name": "stderr",
     "output_type": "stream",
     "text": [
      "INFO:tensorflow:Assets written to: lstmmodel1/assets\n"
     ]
    },
    {
     "name": "stdout",
     "output_type": "stream",
     "text": [
      "8/8 [==============================] - 3s 403ms/step - loss: 0.1668 - root_mean_squared_error: 0.4084 - val_loss: 0.1266 - val_root_mean_squared_error: 0.3558\n",
      "Epoch 43/100\n",
      "1/8 [==>...........................] - ETA: 0s - loss: 0.1867 - root_mean_squared_error: 0.4321"
     ]
    },
    {
     "name": "stderr",
     "output_type": "stream",
     "text": [
      "WARNING:absl:Found untraced functions such as lstm_cell_layer_call_fn, lstm_cell_layer_call_and_return_conditional_losses while saving (showing 2 of 2). These functions will not be directly callable after loading.\n"
     ]
    },
    {
     "name": "stdout",
     "output_type": "stream",
     "text": [
      "INFO:tensorflow:Assets written to: lstmmodel1/assets\n"
     ]
    },
    {
     "name": "stderr",
     "output_type": "stream",
     "text": [
      "INFO:tensorflow:Assets written to: lstmmodel1/assets\n"
     ]
    },
    {
     "name": "stdout",
     "output_type": "stream",
     "text": [
      "8/8 [==============================] - 6s 788ms/step - loss: 0.1411 - root_mean_squared_error: 0.3757 - val_loss: 0.1062 - val_root_mean_squared_error: 0.3258\n",
      "Epoch 44/100\n",
      "1/8 [==>...........................] - ETA: 0s - loss: 0.1165 - root_mean_squared_error: 0.3413"
     ]
    },
    {
     "name": "stderr",
     "output_type": "stream",
     "text": [
      "WARNING:absl:Found untraced functions such as lstm_cell_layer_call_fn, lstm_cell_layer_call_and_return_conditional_losses while saving (showing 2 of 2). These functions will not be directly callable after loading.\n"
     ]
    },
    {
     "name": "stdout",
     "output_type": "stream",
     "text": [
      "INFO:tensorflow:Assets written to: lstmmodel1/assets\n"
     ]
    },
    {
     "name": "stderr",
     "output_type": "stream",
     "text": [
      "INFO:tensorflow:Assets written to: lstmmodel1/assets\n"
     ]
    },
    {
     "name": "stdout",
     "output_type": "stream",
     "text": [
      "8/8 [==============================] - 4s 557ms/step - loss: 0.1194 - root_mean_squared_error: 0.3455 - val_loss: 0.0894 - val_root_mean_squared_error: 0.2990\n",
      "Epoch 45/100\n",
      "1/8 [==>...........................] - ETA: 0s - loss: 0.1219 - root_mean_squared_error: 0.3492"
     ]
    },
    {
     "name": "stderr",
     "output_type": "stream",
     "text": [
      "WARNING:absl:Found untraced functions such as lstm_cell_layer_call_fn, lstm_cell_layer_call_and_return_conditional_losses while saving (showing 2 of 2). These functions will not be directly callable after loading.\n"
     ]
    },
    {
     "name": "stdout",
     "output_type": "stream",
     "text": [
      "INFO:tensorflow:Assets written to: lstmmodel1/assets\n"
     ]
    },
    {
     "name": "stderr",
     "output_type": "stream",
     "text": [
      "INFO:tensorflow:Assets written to: lstmmodel1/assets\n"
     ]
    },
    {
     "name": "stdout",
     "output_type": "stream",
     "text": [
      "8/8 [==============================] - 4s 549ms/step - loss: 0.1022 - root_mean_squared_error: 0.3196 - val_loss: 0.0757 - val_root_mean_squared_error: 0.2751\n",
      "Epoch 46/100\n",
      "1/8 [==>...........................] - ETA: 0s - loss: 0.0931 - root_mean_squared_error: 0.3052"
     ]
    },
    {
     "name": "stderr",
     "output_type": "stream",
     "text": [
      "WARNING:absl:Found untraced functions such as lstm_cell_layer_call_fn, lstm_cell_layer_call_and_return_conditional_losses while saving (showing 2 of 2). These functions will not be directly callable after loading.\n"
     ]
    },
    {
     "name": "stdout",
     "output_type": "stream",
     "text": [
      "INFO:tensorflow:Assets written to: lstmmodel1/assets\n"
     ]
    },
    {
     "name": "stderr",
     "output_type": "stream",
     "text": [
      "INFO:tensorflow:Assets written to: lstmmodel1/assets\n"
     ]
    },
    {
     "name": "stdout",
     "output_type": "stream",
     "text": [
      "8/8 [==============================] - 3s 453ms/step - loss: 0.0878 - root_mean_squared_error: 0.2964 - val_loss: 0.0645 - val_root_mean_squared_error: 0.2540\n",
      "Epoch 47/100\n",
      "1/8 [==>...........................] - ETA: 0s - loss: 0.0889 - root_mean_squared_error: 0.2981"
     ]
    },
    {
     "name": "stderr",
     "output_type": "stream",
     "text": [
      "WARNING:absl:Found untraced functions such as lstm_cell_layer_call_fn, lstm_cell_layer_call_and_return_conditional_losses while saving (showing 2 of 2). These functions will not be directly callable after loading.\n"
     ]
    },
    {
     "name": "stdout",
     "output_type": "stream",
     "text": [
      "INFO:tensorflow:Assets written to: lstmmodel1/assets\n"
     ]
    },
    {
     "name": "stderr",
     "output_type": "stream",
     "text": [
      "INFO:tensorflow:Assets written to: lstmmodel1/assets\n"
     ]
    },
    {
     "name": "stdout",
     "output_type": "stream",
     "text": [
      "8/8 [==============================] - 4s 602ms/step - loss: 0.0764 - root_mean_squared_error: 0.2764 - val_loss: 0.0553 - val_root_mean_squared_error: 0.2351\n",
      "Epoch 48/100\n",
      "1/8 [==>...........................] - ETA: 0s - loss: 0.0603 - root_mean_squared_error: 0.2455"
     ]
    },
    {
     "name": "stderr",
     "output_type": "stream",
     "text": [
      "WARNING:absl:Found untraced functions such as lstm_cell_layer_call_fn, lstm_cell_layer_call_and_return_conditional_losses while saving (showing 2 of 2). These functions will not be directly callable after loading.\n"
     ]
    },
    {
     "name": "stdout",
     "output_type": "stream",
     "text": [
      "INFO:tensorflow:Assets written to: lstmmodel1/assets\n"
     ]
    },
    {
     "name": "stderr",
     "output_type": "stream",
     "text": [
      "INFO:tensorflow:Assets written to: lstmmodel1/assets\n"
     ]
    },
    {
     "name": "stdout",
     "output_type": "stream",
     "text": [
      "8/8 [==============================] - 4s 573ms/step - loss: 0.0669 - root_mean_squared_error: 0.2586 - val_loss: 0.0479 - val_root_mean_squared_error: 0.2190\n",
      "Epoch 49/100\n",
      "1/8 [==>...........................] - ETA: 0s - loss: 0.0546 - root_mean_squared_error: 0.2336"
     ]
    },
    {
     "name": "stderr",
     "output_type": "stream",
     "text": [
      "WARNING:absl:Found untraced functions such as lstm_cell_layer_call_fn, lstm_cell_layer_call_and_return_conditional_losses while saving (showing 2 of 2). These functions will not be directly callable after loading.\n"
     ]
    },
    {
     "name": "stdout",
     "output_type": "stream",
     "text": [
      "INFO:tensorflow:Assets written to: lstmmodel1/assets\n"
     ]
    },
    {
     "name": "stderr",
     "output_type": "stream",
     "text": [
      "INFO:tensorflow:Assets written to: lstmmodel1/assets\n"
     ]
    },
    {
     "name": "stdout",
     "output_type": "stream",
     "text": [
      "8/8 [==============================] - 4s 633ms/step - loss: 0.0593 - root_mean_squared_error: 0.2436 - val_loss: 0.0420 - val_root_mean_squared_error: 0.2050\n",
      "Epoch 50/100\n",
      "1/8 [==>...........................] - ETA: 0s - loss: 0.0551 - root_mean_squared_error: 0.2348"
     ]
    },
    {
     "name": "stderr",
     "output_type": "stream",
     "text": [
      "WARNING:absl:Found untraced functions such as lstm_cell_layer_call_fn, lstm_cell_layer_call_and_return_conditional_losses while saving (showing 2 of 2). These functions will not be directly callable after loading.\n"
     ]
    },
    {
     "name": "stdout",
     "output_type": "stream",
     "text": [
      "INFO:tensorflow:Assets written to: lstmmodel1/assets\n"
     ]
    },
    {
     "name": "stderr",
     "output_type": "stream",
     "text": [
      "INFO:tensorflow:Assets written to: lstmmodel1/assets\n"
     ]
    },
    {
     "name": "stdout",
     "output_type": "stream",
     "text": [
      "8/8 [==============================] - 3s 360ms/step - loss: 0.0534 - root_mean_squared_error: 0.2311 - val_loss: 0.0375 - val_root_mean_squared_error: 0.1936\n",
      "Epoch 51/100\n",
      "1/8 [==>...........................] - ETA: 0s - loss: 0.0345 - root_mean_squared_error: 0.1857"
     ]
    },
    {
     "name": "stderr",
     "output_type": "stream",
     "text": [
      "WARNING:absl:Found untraced functions such as lstm_cell_layer_call_fn, lstm_cell_layer_call_and_return_conditional_losses while saving (showing 2 of 2). These functions will not be directly callable after loading.\n"
     ]
    },
    {
     "name": "stdout",
     "output_type": "stream",
     "text": [
      "INFO:tensorflow:Assets written to: lstmmodel1/assets\n"
     ]
    },
    {
     "name": "stderr",
     "output_type": "stream",
     "text": [
      "INFO:tensorflow:Assets written to: lstmmodel1/assets\n"
     ]
    },
    {
     "name": "stdout",
     "output_type": "stream",
     "text": [
      "8/8 [==============================] - 3s 429ms/step - loss: 0.0490 - root_mean_squared_error: 0.2214 - val_loss: 0.0344 - val_root_mean_squared_error: 0.1856\n",
      "Epoch 52/100\n",
      "1/8 [==>...........................] - ETA: 0s - loss: 0.0256 - root_mean_squared_error: 0.1601"
     ]
    },
    {
     "name": "stderr",
     "output_type": "stream",
     "text": [
      "WARNING:absl:Found untraced functions such as lstm_cell_layer_call_fn, lstm_cell_layer_call_and_return_conditional_losses while saving (showing 2 of 2). These functions will not be directly callable after loading.\n"
     ]
    },
    {
     "name": "stdout",
     "output_type": "stream",
     "text": [
      "INFO:tensorflow:Assets written to: lstmmodel1/assets\n"
     ]
    },
    {
     "name": "stderr",
     "output_type": "stream",
     "text": [
      "INFO:tensorflow:Assets written to: lstmmodel1/assets\n"
     ]
    },
    {
     "name": "stdout",
     "output_type": "stream",
     "text": [
      "8/8 [==============================] - 3s 466ms/step - loss: 0.0458 - root_mean_squared_error: 0.2140 - val_loss: 0.0320 - val_root_mean_squared_error: 0.1789\n",
      "Epoch 53/100\n",
      "1/8 [==>...........................] - ETA: 0s - loss: 0.0652 - root_mean_squared_error: 0.2554"
     ]
    },
    {
     "name": "stderr",
     "output_type": "stream",
     "text": [
      "WARNING:absl:Found untraced functions such as lstm_cell_layer_call_fn, lstm_cell_layer_call_and_return_conditional_losses while saving (showing 2 of 2). These functions will not be directly callable after loading.\n"
     ]
    },
    {
     "name": "stdout",
     "output_type": "stream",
     "text": [
      "INFO:tensorflow:Assets written to: lstmmodel1/assets\n"
     ]
    },
    {
     "name": "stderr",
     "output_type": "stream",
     "text": [
      "INFO:tensorflow:Assets written to: lstmmodel1/assets\n"
     ]
    },
    {
     "name": "stdout",
     "output_type": "stream",
     "text": [
      "8/8 [==============================] - 3s 459ms/step - loss: 0.0435 - root_mean_squared_error: 0.2085 - val_loss: 0.0301 - val_root_mean_squared_error: 0.1734\n",
      "Epoch 54/100\n",
      "1/8 [==>...........................] - ETA: 0s - loss: 0.0211 - root_mean_squared_error: 0.1454"
     ]
    },
    {
     "name": "stderr",
     "output_type": "stream",
     "text": [
      "WARNING:absl:Found untraced functions such as lstm_cell_layer_call_fn, lstm_cell_layer_call_and_return_conditional_losses while saving (showing 2 of 2). These functions will not be directly callable after loading.\n"
     ]
    },
    {
     "name": "stdout",
     "output_type": "stream",
     "text": [
      "INFO:tensorflow:Assets written to: lstmmodel1/assets\n"
     ]
    },
    {
     "name": "stderr",
     "output_type": "stream",
     "text": [
      "INFO:tensorflow:Assets written to: lstmmodel1/assets\n"
     ]
    },
    {
     "name": "stdout",
     "output_type": "stream",
     "text": [
      "8/8 [==============================] - 4s 612ms/step - loss: 0.0418 - root_mean_squared_error: 0.2044 - val_loss: 0.0288 - val_root_mean_squared_error: 0.1696\n",
      "Epoch 55/100\n",
      "1/8 [==>...........................] - ETA: 0s - loss: 0.0550 - root_mean_squared_error: 0.2346"
     ]
    },
    {
     "name": "stderr",
     "output_type": "stream",
     "text": [
      "WARNING:absl:Found untraced functions such as lstm_cell_layer_call_fn, lstm_cell_layer_call_and_return_conditional_losses while saving (showing 2 of 2). These functions will not be directly callable after loading.\n"
     ]
    },
    {
     "name": "stdout",
     "output_type": "stream",
     "text": [
      "INFO:tensorflow:Assets written to: lstmmodel1/assets\n"
     ]
    },
    {
     "name": "stderr",
     "output_type": "stream",
     "text": [
      "INFO:tensorflow:Assets written to: lstmmodel1/assets\n"
     ]
    },
    {
     "name": "stdout",
     "output_type": "stream",
     "text": [
      "8/8 [==============================] - 3s 468ms/step - loss: 0.0404 - root_mean_squared_error: 0.2011 - val_loss: 0.0278 - val_root_mean_squared_error: 0.1668\n",
      "Epoch 56/100\n",
      "1/8 [==>...........................] - ETA: 0s - loss: 0.0535 - root_mean_squared_error: 0.2313"
     ]
    },
    {
     "name": "stderr",
     "output_type": "stream",
     "text": [
      "WARNING:absl:Found untraced functions such as lstm_cell_layer_call_fn, lstm_cell_layer_call_and_return_conditional_losses while saving (showing 2 of 2). These functions will not be directly callable after loading.\n"
     ]
    },
    {
     "name": "stdout",
     "output_type": "stream",
     "text": [
      "INFO:tensorflow:Assets written to: lstmmodel1/assets\n"
     ]
    },
    {
     "name": "stderr",
     "output_type": "stream",
     "text": [
      "INFO:tensorflow:Assets written to: lstmmodel1/assets\n"
     ]
    },
    {
     "name": "stdout",
     "output_type": "stream",
     "text": [
      "8/8 [==============================] - 3s 417ms/step - loss: 0.0395 - root_mean_squared_error: 0.1987 - val_loss: 0.0271 - val_root_mean_squared_error: 0.1646\n",
      "Epoch 57/100\n",
      "1/8 [==>...........................] - ETA: 0s - loss: 0.0341 - root_mean_squared_error: 0.1848"
     ]
    },
    {
     "name": "stderr",
     "output_type": "stream",
     "text": [
      "WARNING:absl:Found untraced functions such as lstm_cell_layer_call_fn, lstm_cell_layer_call_and_return_conditional_losses while saving (showing 2 of 2). These functions will not be directly callable after loading.\n"
     ]
    },
    {
     "name": "stdout",
     "output_type": "stream",
     "text": [
      "INFO:tensorflow:Assets written to: lstmmodel1/assets\n"
     ]
    },
    {
     "name": "stderr",
     "output_type": "stream",
     "text": [
      "INFO:tensorflow:Assets written to: lstmmodel1/assets\n"
     ]
    },
    {
     "name": "stdout",
     "output_type": "stream",
     "text": [
      "8/8 [==============================] - 3s 360ms/step - loss: 0.0388 - root_mean_squared_error: 0.1969 - val_loss: 0.0264 - val_root_mean_squared_error: 0.1625\n",
      "Epoch 58/100\n",
      "1/8 [==>...........................] - ETA: 0s - loss: 0.0412 - root_mean_squared_error: 0.2029"
     ]
    },
    {
     "name": "stderr",
     "output_type": "stream",
     "text": [
      "WARNING:absl:Found untraced functions such as lstm_cell_layer_call_fn, lstm_cell_layer_call_and_return_conditional_losses while saving (showing 2 of 2). These functions will not be directly callable after loading.\n"
     ]
    },
    {
     "name": "stdout",
     "output_type": "stream",
     "text": [
      "INFO:tensorflow:Assets written to: lstmmodel1/assets\n"
     ]
    },
    {
     "name": "stderr",
     "output_type": "stream",
     "text": [
      "INFO:tensorflow:Assets written to: lstmmodel1/assets\n"
     ]
    },
    {
     "name": "stdout",
     "output_type": "stream",
     "text": [
      "8/8 [==============================] - 2s 352ms/step - loss: 0.0381 - root_mean_squared_error: 0.1953 - val_loss: 0.0259 - val_root_mean_squared_error: 0.1609\n",
      "Epoch 59/100\n",
      "1/8 [==>...........................] - ETA: 0s - loss: 0.0373 - root_mean_squared_error: 0.1930"
     ]
    },
    {
     "name": "stderr",
     "output_type": "stream",
     "text": [
      "WARNING:absl:Found untraced functions such as lstm_cell_layer_call_fn, lstm_cell_layer_call_and_return_conditional_losses while saving (showing 2 of 2). These functions will not be directly callable after loading.\n"
     ]
    },
    {
     "name": "stdout",
     "output_type": "stream",
     "text": [
      "INFO:tensorflow:Assets written to: lstmmodel1/assets\n"
     ]
    },
    {
     "name": "stderr",
     "output_type": "stream",
     "text": [
      "INFO:tensorflow:Assets written to: lstmmodel1/assets\n"
     ]
    },
    {
     "name": "stdout",
     "output_type": "stream",
     "text": [
      "8/8 [==============================] - 2s 356ms/step - loss: 0.0377 - root_mean_squared_error: 0.1940 - val_loss: 0.0255 - val_root_mean_squared_error: 0.1598\n",
      "Epoch 60/100\n",
      "1/8 [==>...........................] - ETA: 0s - loss: 0.0286 - root_mean_squared_error: 0.1690"
     ]
    },
    {
     "name": "stderr",
     "output_type": "stream",
     "text": [
      "WARNING:absl:Found untraced functions such as lstm_cell_layer_call_fn, lstm_cell_layer_call_and_return_conditional_losses while saving (showing 2 of 2). These functions will not be directly callable after loading.\n"
     ]
    },
    {
     "name": "stdout",
     "output_type": "stream",
     "text": [
      "INFO:tensorflow:Assets written to: lstmmodel1/assets\n"
     ]
    },
    {
     "name": "stderr",
     "output_type": "stream",
     "text": [
      "INFO:tensorflow:Assets written to: lstmmodel1/assets\n"
     ]
    },
    {
     "name": "stdout",
     "output_type": "stream",
     "text": [
      "8/8 [==============================] - 3s 491ms/step - loss: 0.0372 - root_mean_squared_error: 0.1929 - val_loss: 0.0251 - val_root_mean_squared_error: 0.1585\n",
      "Epoch 61/100\n",
      "1/8 [==>...........................] - ETA: 0s - loss: 0.0200 - root_mean_squared_error: 0.1415"
     ]
    },
    {
     "name": "stderr",
     "output_type": "stream",
     "text": [
      "WARNING:absl:Found untraced functions such as lstm_cell_layer_call_fn, lstm_cell_layer_call_and_return_conditional_losses while saving (showing 2 of 2). These functions will not be directly callable after loading.\n"
     ]
    },
    {
     "name": "stdout",
     "output_type": "stream",
     "text": [
      "INFO:tensorflow:Assets written to: lstmmodel1/assets\n"
     ]
    },
    {
     "name": "stderr",
     "output_type": "stream",
     "text": [
      "INFO:tensorflow:Assets written to: lstmmodel1/assets\n"
     ]
    },
    {
     "name": "stdout",
     "output_type": "stream",
     "text": [
      "8/8 [==============================] - 2s 352ms/step - loss: 0.0369 - root_mean_squared_error: 0.1920 - val_loss: 0.0249 - val_root_mean_squared_error: 0.1577\n",
      "Epoch 62/100\n",
      "1/8 [==>...........................] - ETA: 0s - loss: 0.0320 - root_mean_squared_error: 0.1790"
     ]
    },
    {
     "name": "stderr",
     "output_type": "stream",
     "text": [
      "WARNING:absl:Found untraced functions such as lstm_cell_layer_call_fn, lstm_cell_layer_call_and_return_conditional_losses while saving (showing 2 of 2). These functions will not be directly callable after loading.\n"
     ]
    },
    {
     "name": "stdout",
     "output_type": "stream",
     "text": [
      "INFO:tensorflow:Assets written to: lstmmodel1/assets\n"
     ]
    },
    {
     "name": "stderr",
     "output_type": "stream",
     "text": [
      "INFO:tensorflow:Assets written to: lstmmodel1/assets\n"
     ]
    },
    {
     "name": "stdout",
     "output_type": "stream",
     "text": [
      "8/8 [==============================] - 2s 352ms/step - loss: 0.0366 - root_mean_squared_error: 0.1913 - val_loss: 0.0247 - val_root_mean_squared_error: 0.1570\n",
      "Epoch 63/100\n",
      "1/8 [==>...........................] - ETA: 0s - loss: 0.0486 - root_mean_squared_error: 0.2205"
     ]
    },
    {
     "name": "stderr",
     "output_type": "stream",
     "text": [
      "WARNING:absl:Found untraced functions such as lstm_cell_layer_call_fn, lstm_cell_layer_call_and_return_conditional_losses while saving (showing 2 of 2). These functions will not be directly callable after loading.\n"
     ]
    },
    {
     "name": "stdout",
     "output_type": "stream",
     "text": [
      "INFO:tensorflow:Assets written to: lstmmodel1/assets\n"
     ]
    },
    {
     "name": "stderr",
     "output_type": "stream",
     "text": [
      "INFO:tensorflow:Assets written to: lstmmodel1/assets\n"
     ]
    },
    {
     "name": "stdout",
     "output_type": "stream",
     "text": [
      "8/8 [==============================] - 3s 361ms/step - loss: 0.0363 - root_mean_squared_error: 0.1905 - val_loss: 0.0243 - val_root_mean_squared_error: 0.1560\n",
      "Epoch 64/100\n",
      "1/8 [==>...........................] - ETA: 0s - loss: 0.0173 - root_mean_squared_error: 0.1316"
     ]
    },
    {
     "name": "stderr",
     "output_type": "stream",
     "text": [
      "WARNING:absl:Found untraced functions such as lstm_cell_layer_call_fn, lstm_cell_layer_call_and_return_conditional_losses while saving (showing 2 of 2). These functions will not be directly callable after loading.\n"
     ]
    },
    {
     "name": "stdout",
     "output_type": "stream",
     "text": [
      "INFO:tensorflow:Assets written to: lstmmodel1/assets\n"
     ]
    },
    {
     "name": "stderr",
     "output_type": "stream",
     "text": [
      "INFO:tensorflow:Assets written to: lstmmodel1/assets\n"
     ]
    },
    {
     "name": "stdout",
     "output_type": "stream",
     "text": [
      "8/8 [==============================] - 2s 353ms/step - loss: 0.0361 - root_mean_squared_error: 0.1899 - val_loss: 0.0241 - val_root_mean_squared_error: 0.1553\n",
      "Epoch 65/100\n",
      "1/8 [==>...........................] - ETA: 0s - loss: 0.0573 - root_mean_squared_error: 0.2393"
     ]
    },
    {
     "name": "stderr",
     "output_type": "stream",
     "text": [
      "WARNING:absl:Found untraced functions such as lstm_cell_layer_call_fn, lstm_cell_layer_call_and_return_conditional_losses while saving (showing 2 of 2). These functions will not be directly callable after loading.\n"
     ]
    },
    {
     "name": "stdout",
     "output_type": "stream",
     "text": [
      "INFO:tensorflow:Assets written to: lstmmodel1/assets\n"
     ]
    },
    {
     "name": "stderr",
     "output_type": "stream",
     "text": [
      "INFO:tensorflow:Assets written to: lstmmodel1/assets\n"
     ]
    },
    {
     "name": "stdout",
     "output_type": "stream",
     "text": [
      "8/8 [==============================] - 3s 480ms/step - loss: 0.0358 - root_mean_squared_error: 0.1892 - val_loss: 0.0239 - val_root_mean_squared_error: 0.1546\n",
      "Epoch 66/100\n",
      "1/8 [==>...........................] - ETA: 0s - loss: 0.0440 - root_mean_squared_error: 0.2098"
     ]
    },
    {
     "name": "stderr",
     "output_type": "stream",
     "text": [
      "WARNING:absl:Found untraced functions such as lstm_cell_layer_call_fn, lstm_cell_layer_call_and_return_conditional_losses while saving (showing 2 of 2). These functions will not be directly callable after loading.\n"
     ]
    },
    {
     "name": "stdout",
     "output_type": "stream",
     "text": [
      "INFO:tensorflow:Assets written to: lstmmodel1/assets\n"
     ]
    },
    {
     "name": "stderr",
     "output_type": "stream",
     "text": [
      "INFO:tensorflow:Assets written to: lstmmodel1/assets\n"
     ]
    },
    {
     "name": "stdout",
     "output_type": "stream",
     "text": [
      "8/8 [==============================] - 3s 401ms/step - loss: 0.0356 - root_mean_squared_error: 0.1887 - val_loss: 0.0237 - val_root_mean_squared_error: 0.1541\n",
      "Epoch 67/100\n",
      "1/8 [==>...........................] - ETA: 0s - loss: 0.0414 - root_mean_squared_error: 0.2034"
     ]
    },
    {
     "name": "stderr",
     "output_type": "stream",
     "text": [
      "WARNING:absl:Found untraced functions such as lstm_cell_layer_call_fn, lstm_cell_layer_call_and_return_conditional_losses while saving (showing 2 of 2). These functions will not be directly callable after loading.\n"
     ]
    },
    {
     "name": "stdout",
     "output_type": "stream",
     "text": [
      "INFO:tensorflow:Assets written to: lstmmodel1/assets\n"
     ]
    },
    {
     "name": "stderr",
     "output_type": "stream",
     "text": [
      "INFO:tensorflow:Assets written to: lstmmodel1/assets\n"
     ]
    },
    {
     "name": "stdout",
     "output_type": "stream",
     "text": [
      "8/8 [==============================] - 3s 358ms/step - loss: 0.0354 - root_mean_squared_error: 0.1881 - val_loss: 0.0235 - val_root_mean_squared_error: 0.1533\n",
      "Epoch 68/100\n",
      "1/8 [==>...........................] - ETA: 0s - loss: 0.0117 - root_mean_squared_error: 0.1084"
     ]
    },
    {
     "name": "stderr",
     "output_type": "stream",
     "text": [
      "WARNING:absl:Found untraced functions such as lstm_cell_layer_call_fn, lstm_cell_layer_call_and_return_conditional_losses while saving (showing 2 of 2). These functions will not be directly callable after loading.\n"
     ]
    },
    {
     "name": "stdout",
     "output_type": "stream",
     "text": [
      "INFO:tensorflow:Assets written to: lstmmodel1/assets\n"
     ]
    },
    {
     "name": "stderr",
     "output_type": "stream",
     "text": [
      "INFO:tensorflow:Assets written to: lstmmodel1/assets\n"
     ]
    },
    {
     "name": "stdout",
     "output_type": "stream",
     "text": [
      "8/8 [==============================] - 2s 353ms/step - loss: 0.0351 - root_mean_squared_error: 0.1875 - val_loss: 0.0233 - val_root_mean_squared_error: 0.1527\n",
      "Epoch 69/100\n",
      "1/8 [==>...........................] - ETA: 0s - loss: 0.0706 - root_mean_squared_error: 0.2657"
     ]
    },
    {
     "name": "stderr",
     "output_type": "stream",
     "text": [
      "WARNING:absl:Found untraced functions such as lstm_cell_layer_call_fn, lstm_cell_layer_call_and_return_conditional_losses while saving (showing 2 of 2). These functions will not be directly callable after loading.\n"
     ]
    },
    {
     "name": "stdout",
     "output_type": "stream",
     "text": [
      "INFO:tensorflow:Assets written to: lstmmodel1/assets\n"
     ]
    },
    {
     "name": "stderr",
     "output_type": "stream",
     "text": [
      "INFO:tensorflow:Assets written to: lstmmodel1/assets\n"
     ]
    },
    {
     "name": "stdout",
     "output_type": "stream",
     "text": [
      "8/8 [==============================] - 3s 375ms/step - loss: 0.0349 - root_mean_squared_error: 0.1869 - val_loss: 0.0231 - val_root_mean_squared_error: 0.1521\n",
      "Epoch 70/100\n",
      "1/8 [==>...........................] - ETA: 0s - loss: 0.0399 - root_mean_squared_error: 0.1997"
     ]
    },
    {
     "name": "stderr",
     "output_type": "stream",
     "text": [
      "WARNING:absl:Found untraced functions such as lstm_cell_layer_call_fn, lstm_cell_layer_call_and_return_conditional_losses while saving (showing 2 of 2). These functions will not be directly callable after loading.\n"
     ]
    },
    {
     "name": "stdout",
     "output_type": "stream",
     "text": [
      "INFO:tensorflow:Assets written to: lstmmodel1/assets\n"
     ]
    },
    {
     "name": "stderr",
     "output_type": "stream",
     "text": [
      "INFO:tensorflow:Assets written to: lstmmodel1/assets\n"
     ]
    },
    {
     "name": "stdout",
     "output_type": "stream",
     "text": [
      "8/8 [==============================] - 3s 461ms/step - loss: 0.0347 - root_mean_squared_error: 0.1863 - val_loss: 0.0230 - val_root_mean_squared_error: 0.1516\n",
      "Epoch 71/100\n",
      "1/8 [==>...........................] - ETA: 0s - loss: 0.0308 - root_mean_squared_error: 0.1755"
     ]
    },
    {
     "name": "stderr",
     "output_type": "stream",
     "text": [
      "WARNING:absl:Found untraced functions such as lstm_cell_layer_call_fn, lstm_cell_layer_call_and_return_conditional_losses while saving (showing 2 of 2). These functions will not be directly callable after loading.\n"
     ]
    },
    {
     "name": "stdout",
     "output_type": "stream",
     "text": [
      "INFO:tensorflow:Assets written to: lstmmodel1/assets\n"
     ]
    },
    {
     "name": "stderr",
     "output_type": "stream",
     "text": [
      "INFO:tensorflow:Assets written to: lstmmodel1/assets\n"
     ]
    },
    {
     "name": "stdout",
     "output_type": "stream",
     "text": [
      "8/8 [==============================] - 4s 525ms/step - loss: 0.0346 - root_mean_squared_error: 0.1859 - val_loss: 0.0229 - val_root_mean_squared_error: 0.1514\n",
      "Epoch 72/100\n",
      "1/8 [==>...........................] - ETA: 0s - loss: 0.0322 - root_mean_squared_error: 0.1793"
     ]
    },
    {
     "name": "stderr",
     "output_type": "stream",
     "text": [
      "WARNING:absl:Found untraced functions such as lstm_cell_layer_call_fn, lstm_cell_layer_call_and_return_conditional_losses while saving (showing 2 of 2). These functions will not be directly callable after loading.\n"
     ]
    },
    {
     "name": "stdout",
     "output_type": "stream",
     "text": [
      "INFO:tensorflow:Assets written to: lstmmodel1/assets\n"
     ]
    },
    {
     "name": "stderr",
     "output_type": "stream",
     "text": [
      "INFO:tensorflow:Assets written to: lstmmodel1/assets\n"
     ]
    },
    {
     "name": "stdout",
     "output_type": "stream",
     "text": [
      "8/8 [==============================] - 2s 353ms/step - loss: 0.0344 - root_mean_squared_error: 0.1854 - val_loss: 0.0227 - val_root_mean_squared_error: 0.1506\n",
      "Epoch 73/100\n",
      "1/8 [==>...........................] - ETA: 0s - loss: 0.0559 - root_mean_squared_error: 0.2364"
     ]
    },
    {
     "name": "stderr",
     "output_type": "stream",
     "text": [
      "WARNING:absl:Found untraced functions such as lstm_cell_layer_call_fn, lstm_cell_layer_call_and_return_conditional_losses while saving (showing 2 of 2). These functions will not be directly callable after loading.\n"
     ]
    },
    {
     "name": "stdout",
     "output_type": "stream",
     "text": [
      "INFO:tensorflow:Assets written to: lstmmodel1/assets\n"
     ]
    },
    {
     "name": "stderr",
     "output_type": "stream",
     "text": [
      "INFO:tensorflow:Assets written to: lstmmodel1/assets\n"
     ]
    },
    {
     "name": "stdout",
     "output_type": "stream",
     "text": [
      "8/8 [==============================] - 2s 353ms/step - loss: 0.0342 - root_mean_squared_error: 0.1848 - val_loss: 0.0225 - val_root_mean_squared_error: 0.1500\n",
      "Epoch 74/100\n",
      "1/8 [==>...........................] - ETA: 0s - loss: 0.0313 - root_mean_squared_error: 0.1768"
     ]
    },
    {
     "name": "stderr",
     "output_type": "stream",
     "text": [
      "WARNING:absl:Found untraced functions such as lstm_cell_layer_call_fn, lstm_cell_layer_call_and_return_conditional_losses while saving (showing 2 of 2). These functions will not be directly callable after loading.\n"
     ]
    },
    {
     "name": "stdout",
     "output_type": "stream",
     "text": [
      "INFO:tensorflow:Assets written to: lstmmodel1/assets\n"
     ]
    },
    {
     "name": "stderr",
     "output_type": "stream",
     "text": [
      "INFO:tensorflow:Assets written to: lstmmodel1/assets\n"
     ]
    },
    {
     "name": "stdout",
     "output_type": "stream",
     "text": [
      "8/8 [==============================] - 3s 393ms/step - loss: 0.0340 - root_mean_squared_error: 0.1844 - val_loss: 0.0223 - val_root_mean_squared_error: 0.1495\n",
      "Epoch 75/100\n",
      "1/8 [==>...........................] - ETA: 0s - loss: 0.0465 - root_mean_squared_error: 0.2157"
     ]
    },
    {
     "name": "stderr",
     "output_type": "stream",
     "text": [
      "WARNING:absl:Found untraced functions such as lstm_cell_layer_call_fn, lstm_cell_layer_call_and_return_conditional_losses while saving (showing 2 of 2). These functions will not be directly callable after loading.\n"
     ]
    },
    {
     "name": "stdout",
     "output_type": "stream",
     "text": [
      "INFO:tensorflow:Assets written to: lstmmodel1/assets\n"
     ]
    },
    {
     "name": "stderr",
     "output_type": "stream",
     "text": [
      "INFO:tensorflow:Assets written to: lstmmodel1/assets\n"
     ]
    },
    {
     "name": "stdout",
     "output_type": "stream",
     "text": [
      "8/8 [==============================] - 3s 434ms/step - loss: 0.0338 - root_mean_squared_error: 0.1839 - val_loss: 0.0222 - val_root_mean_squared_error: 0.1491\n",
      "Epoch 76/100\n",
      "1/8 [==>...........................] - ETA: 0s - loss: 0.0318 - root_mean_squared_error: 0.1783"
     ]
    },
    {
     "name": "stderr",
     "output_type": "stream",
     "text": [
      "WARNING:absl:Found untraced functions such as lstm_cell_layer_call_fn, lstm_cell_layer_call_and_return_conditional_losses while saving (showing 2 of 2). These functions will not be directly callable after loading.\n"
     ]
    },
    {
     "name": "stdout",
     "output_type": "stream",
     "text": [
      "INFO:tensorflow:Assets written to: lstmmodel1/assets\n"
     ]
    },
    {
     "name": "stderr",
     "output_type": "stream",
     "text": [
      "INFO:tensorflow:Assets written to: lstmmodel1/assets\n"
     ]
    },
    {
     "name": "stdout",
     "output_type": "stream",
     "text": [
      "8/8 [==============================] - 3s 447ms/step - loss: 0.0336 - root_mean_squared_error: 0.1834 - val_loss: 0.0221 - val_root_mean_squared_error: 0.1486\n",
      "Epoch 77/100\n",
      "8/8 [==============================] - ETA: 0s - loss: 0.0335 - root_mean_squared_error: 0.1830"
     ]
    },
    {
     "name": "stderr",
     "output_type": "stream",
     "text": [
      "WARNING:absl:Found untraced functions such as lstm_cell_layer_call_fn, lstm_cell_layer_call_and_return_conditional_losses while saving (showing 2 of 2). These functions will not be directly callable after loading.\n"
     ]
    },
    {
     "name": "stdout",
     "output_type": "stream",
     "text": [
      "INFO:tensorflow:Assets written to: lstmmodel1/assets\n"
     ]
    },
    {
     "name": "stderr",
     "output_type": "stream",
     "text": [
      "INFO:tensorflow:Assets written to: lstmmodel1/assets\n"
     ]
    },
    {
     "name": "stdout",
     "output_type": "stream",
     "text": [
      "8/8 [==============================] - 4s 547ms/step - loss: 0.0335 - root_mean_squared_error: 0.1830 - val_loss: 0.0219 - val_root_mean_squared_error: 0.1481\n",
      "Epoch 78/100\n",
      "1/8 [==>...........................] - ETA: 0s - loss: 0.0299 - root_mean_squared_error: 0.1728"
     ]
    },
    {
     "name": "stderr",
     "output_type": "stream",
     "text": [
      "WARNING:absl:Found untraced functions such as lstm_cell_layer_call_fn, lstm_cell_layer_call_and_return_conditional_losses while saving (showing 2 of 2). These functions will not be directly callable after loading.\n"
     ]
    },
    {
     "name": "stdout",
     "output_type": "stream",
     "text": [
      "INFO:tensorflow:Assets written to: lstmmodel1/assets\n"
     ]
    },
    {
     "name": "stderr",
     "output_type": "stream",
     "text": [
      "INFO:tensorflow:Assets written to: lstmmodel1/assets\n"
     ]
    },
    {
     "name": "stdout",
     "output_type": "stream",
     "text": [
      "8/8 [==============================] - 2s 354ms/step - loss: 0.0334 - root_mean_squared_error: 0.1826 - val_loss: 0.0218 - val_root_mean_squared_error: 0.1477\n",
      "Epoch 79/100\n",
      "1/8 [==>...........................] - ETA: 0s - loss: 0.0411 - root_mean_squared_error: 0.2026"
     ]
    },
    {
     "name": "stderr",
     "output_type": "stream",
     "text": [
      "WARNING:absl:Found untraced functions such as lstm_cell_layer_call_fn, lstm_cell_layer_call_and_return_conditional_losses while saving (showing 2 of 2). These functions will not be directly callable after loading.\n"
     ]
    },
    {
     "name": "stdout",
     "output_type": "stream",
     "text": [
      "INFO:tensorflow:Assets written to: lstmmodel1/assets\n"
     ]
    },
    {
     "name": "stderr",
     "output_type": "stream",
     "text": [
      "INFO:tensorflow:Assets written to: lstmmodel1/assets\n"
     ]
    },
    {
     "name": "stdout",
     "output_type": "stream",
     "text": [
      "8/8 [==============================] - 3s 378ms/step - loss: 0.0332 - root_mean_squared_error: 0.1822 - val_loss: 0.0217 - val_root_mean_squared_error: 0.1473\n",
      "Epoch 80/100\n",
      "1/8 [==>...........................] - ETA: 0s - loss: 0.0318 - root_mean_squared_error: 0.1785"
     ]
    },
    {
     "name": "stderr",
     "output_type": "stream",
     "text": [
      "WARNING:absl:Found untraced functions such as lstm_cell_layer_call_fn, lstm_cell_layer_call_and_return_conditional_losses while saving (showing 2 of 2). These functions will not be directly callable after loading.\n"
     ]
    },
    {
     "name": "stdout",
     "output_type": "stream",
     "text": [
      "INFO:tensorflow:Assets written to: lstmmodel1/assets\n"
     ]
    },
    {
     "name": "stderr",
     "output_type": "stream",
     "text": [
      "INFO:tensorflow:Assets written to: lstmmodel1/assets\n"
     ]
    },
    {
     "name": "stdout",
     "output_type": "stream",
     "text": [
      "8/8 [==============================] - 2s 355ms/step - loss: 0.0331 - root_mean_squared_error: 0.1818 - val_loss: 0.0216 - val_root_mean_squared_error: 0.1469\n",
      "Epoch 81/100\n",
      "1/8 [==>...........................] - ETA: 0s - loss: 0.0563 - root_mean_squared_error: 0.2372"
     ]
    },
    {
     "name": "stderr",
     "output_type": "stream",
     "text": [
      "WARNING:absl:Found untraced functions such as lstm_cell_layer_call_fn, lstm_cell_layer_call_and_return_conditional_losses while saving (showing 2 of 2). These functions will not be directly callable after loading.\n"
     ]
    },
    {
     "name": "stdout",
     "output_type": "stream",
     "text": [
      "INFO:tensorflow:Assets written to: lstmmodel1/assets\n"
     ]
    },
    {
     "name": "stderr",
     "output_type": "stream",
     "text": [
      "INFO:tensorflow:Assets written to: lstmmodel1/assets\n"
     ]
    },
    {
     "name": "stdout",
     "output_type": "stream",
     "text": [
      "8/8 [==============================] - 3s 426ms/step - loss: 0.0329 - root_mean_squared_error: 0.1814 - val_loss: 0.0215 - val_root_mean_squared_error: 0.1467\n",
      "Epoch 82/100\n",
      "1/8 [==>...........................] - ETA: 0s - loss: 0.0270 - root_mean_squared_error: 0.1643"
     ]
    },
    {
     "name": "stderr",
     "output_type": "stream",
     "text": [
      "WARNING:absl:Found untraced functions such as lstm_cell_layer_call_fn, lstm_cell_layer_call_and_return_conditional_losses while saving (showing 2 of 2). These functions will not be directly callable after loading.\n"
     ]
    },
    {
     "name": "stdout",
     "output_type": "stream",
     "text": [
      "INFO:tensorflow:Assets written to: lstmmodel1/assets\n"
     ]
    },
    {
     "name": "stderr",
     "output_type": "stream",
     "text": [
      "INFO:tensorflow:Assets written to: lstmmodel1/assets\n"
     ]
    },
    {
     "name": "stdout",
     "output_type": "stream",
     "text": [
      "8/8 [==============================] - 3s 496ms/step - loss: 0.0328 - root_mean_squared_error: 0.1810 - val_loss: 0.0214 - val_root_mean_squared_error: 0.1462\n",
      "Epoch 83/100\n",
      "1/8 [==>...........................] - ETA: 0s - loss: 0.0345 - root_mean_squared_error: 0.1857"
     ]
    },
    {
     "name": "stderr",
     "output_type": "stream",
     "text": [
      "WARNING:absl:Found untraced functions such as lstm_cell_layer_call_fn, lstm_cell_layer_call_and_return_conditional_losses while saving (showing 2 of 2). These functions will not be directly callable after loading.\n"
     ]
    },
    {
     "name": "stdout",
     "output_type": "stream",
     "text": [
      "INFO:tensorflow:Assets written to: lstmmodel1/assets\n"
     ]
    },
    {
     "name": "stderr",
     "output_type": "stream",
     "text": [
      "INFO:tensorflow:Assets written to: lstmmodel1/assets\n"
     ]
    },
    {
     "name": "stdout",
     "output_type": "stream",
     "text": [
      "8/8 [==============================] - 2s 353ms/step - loss: 0.0326 - root_mean_squared_error: 0.1806 - val_loss: 0.0213 - val_root_mean_squared_error: 0.1458\n",
      "Epoch 84/100\n",
      "1/8 [==>...........................] - ETA: 0s - loss: 0.0363 - root_mean_squared_error: 0.1906"
     ]
    },
    {
     "name": "stderr",
     "output_type": "stream",
     "text": [
      "WARNING:absl:Found untraced functions such as lstm_cell_layer_call_fn, lstm_cell_layer_call_and_return_conditional_losses while saving (showing 2 of 2). These functions will not be directly callable after loading.\n"
     ]
    },
    {
     "name": "stdout",
     "output_type": "stream",
     "text": [
      "INFO:tensorflow:Assets written to: lstmmodel1/assets\n"
     ]
    },
    {
     "name": "stderr",
     "output_type": "stream",
     "text": [
      "INFO:tensorflow:Assets written to: lstmmodel1/assets\n"
     ]
    },
    {
     "name": "stdout",
     "output_type": "stream",
     "text": [
      "8/8 [==============================] - 3s 364ms/step - loss: 0.0325 - root_mean_squared_error: 0.1803 - val_loss: 0.0212 - val_root_mean_squared_error: 0.1455\n",
      "Epoch 85/100\n",
      "1/8 [==>...........................] - ETA: 0s - loss: 0.0292 - root_mean_squared_error: 0.1708"
     ]
    },
    {
     "name": "stderr",
     "output_type": "stream",
     "text": [
      "WARNING:absl:Found untraced functions such as lstm_cell_layer_call_fn, lstm_cell_layer_call_and_return_conditional_losses while saving (showing 2 of 2). These functions will not be directly callable after loading.\n"
     ]
    },
    {
     "name": "stdout",
     "output_type": "stream",
     "text": [
      "INFO:tensorflow:Assets written to: lstmmodel1/assets\n"
     ]
    },
    {
     "name": "stderr",
     "output_type": "stream",
     "text": [
      "INFO:tensorflow:Assets written to: lstmmodel1/assets\n"
     ]
    },
    {
     "name": "stdout",
     "output_type": "stream",
     "text": [
      "8/8 [==============================] - 3s 382ms/step - loss: 0.0324 - root_mean_squared_error: 0.1799 - val_loss: 0.0211 - val_root_mean_squared_error: 0.1452\n",
      "Epoch 86/100\n",
      "1/8 [==>...........................] - ETA: 0s - loss: 0.0459 - root_mean_squared_error: 0.2142"
     ]
    },
    {
     "name": "stderr",
     "output_type": "stream",
     "text": [
      "WARNING:absl:Found untraced functions such as lstm_cell_layer_call_fn, lstm_cell_layer_call_and_return_conditional_losses while saving (showing 2 of 2). These functions will not be directly callable after loading.\n"
     ]
    },
    {
     "name": "stdout",
     "output_type": "stream",
     "text": [
      "INFO:tensorflow:Assets written to: lstmmodel1/assets\n"
     ]
    },
    {
     "name": "stderr",
     "output_type": "stream",
     "text": [
      "INFO:tensorflow:Assets written to: lstmmodel1/assets\n"
     ]
    },
    {
     "name": "stdout",
     "output_type": "stream",
     "text": [
      "8/8 [==============================] - 3s 455ms/step - loss: 0.0322 - root_mean_squared_error: 0.1795 - val_loss: 0.0210 - val_root_mean_squared_error: 0.1448\n",
      "Epoch 87/100\n",
      "1/8 [==>...........................] - ETA: 0s - loss: 0.0219 - root_mean_squared_error: 0.1480"
     ]
    },
    {
     "name": "stderr",
     "output_type": "stream",
     "text": [
      "WARNING:absl:Found untraced functions such as lstm_cell_layer_call_fn, lstm_cell_layer_call_and_return_conditional_losses while saving (showing 2 of 2). These functions will not be directly callable after loading.\n"
     ]
    },
    {
     "name": "stdout",
     "output_type": "stream",
     "text": [
      "INFO:tensorflow:Assets written to: lstmmodel1/assets\n"
     ]
    },
    {
     "name": "stderr",
     "output_type": "stream",
     "text": [
      "INFO:tensorflow:Assets written to: lstmmodel1/assets\n"
     ]
    },
    {
     "name": "stdout",
     "output_type": "stream",
     "text": [
      "8/8 [==============================] - 3s 401ms/step - loss: 0.0321 - root_mean_squared_error: 0.1792 - val_loss: 0.0209 - val_root_mean_squared_error: 0.1444\n",
      "Epoch 88/100\n",
      "1/8 [==>...........................] - ETA: 0s - loss: 0.0385 - root_mean_squared_error: 0.1963"
     ]
    },
    {
     "name": "stderr",
     "output_type": "stream",
     "text": [
      "WARNING:absl:Found untraced functions such as lstm_cell_layer_call_fn, lstm_cell_layer_call_and_return_conditional_losses while saving (showing 2 of 2). These functions will not be directly callable after loading.\n"
     ]
    },
    {
     "name": "stdout",
     "output_type": "stream",
     "text": [
      "INFO:tensorflow:Assets written to: lstmmodel1/assets\n"
     ]
    },
    {
     "name": "stderr",
     "output_type": "stream",
     "text": [
      "INFO:tensorflow:Assets written to: lstmmodel1/assets\n"
     ]
    },
    {
     "name": "stdout",
     "output_type": "stream",
     "text": [
      "8/8 [==============================] - 3s 492ms/step - loss: 0.0320 - root_mean_squared_error: 0.1789 - val_loss: 0.0208 - val_root_mean_squared_error: 0.1443\n",
      "Epoch 89/100\n",
      "1/8 [==>...........................] - ETA: 0s - loss: 0.0249 - root_mean_squared_error: 0.1577"
     ]
    },
    {
     "name": "stderr",
     "output_type": "stream",
     "text": [
      "WARNING:absl:Found untraced functions such as lstm_cell_layer_call_fn, lstm_cell_layer_call_and_return_conditional_losses while saving (showing 2 of 2). These functions will not be directly callable after loading.\n"
     ]
    },
    {
     "name": "stdout",
     "output_type": "stream",
     "text": [
      "INFO:tensorflow:Assets written to: lstmmodel1/assets\n"
     ]
    },
    {
     "name": "stderr",
     "output_type": "stream",
     "text": [
      "INFO:tensorflow:Assets written to: lstmmodel1/assets\n"
     ]
    },
    {
     "name": "stdout",
     "output_type": "stream",
     "text": [
      "8/8 [==============================] - 2s 351ms/step - loss: 0.0318 - root_mean_squared_error: 0.1784 - val_loss: 0.0207 - val_root_mean_squared_error: 0.1439\n",
      "Epoch 90/100\n",
      "1/8 [==>...........................] - ETA: 0s - loss: 0.0613 - root_mean_squared_error: 0.2476"
     ]
    },
    {
     "name": "stderr",
     "output_type": "stream",
     "text": [
      "WARNING:absl:Found untraced functions such as lstm_cell_layer_call_fn, lstm_cell_layer_call_and_return_conditional_losses while saving (showing 2 of 2). These functions will not be directly callable after loading.\n"
     ]
    },
    {
     "name": "stdout",
     "output_type": "stream",
     "text": [
      "INFO:tensorflow:Assets written to: lstmmodel1/assets\n"
     ]
    },
    {
     "name": "stderr",
     "output_type": "stream",
     "text": [
      "INFO:tensorflow:Assets written to: lstmmodel1/assets\n"
     ]
    },
    {
     "name": "stdout",
     "output_type": "stream",
     "text": [
      "8/8 [==============================] - 2s 356ms/step - loss: 0.0317 - root_mean_squared_error: 0.1781 - val_loss: 0.0207 - val_root_mean_squared_error: 0.1438\n",
      "Epoch 91/100\n",
      "1/8 [==>...........................] - ETA: 0s - loss: 0.0397 - root_mean_squared_error: 0.1993"
     ]
    },
    {
     "name": "stderr",
     "output_type": "stream",
     "text": [
      "WARNING:absl:Found untraced functions such as lstm_cell_layer_call_fn, lstm_cell_layer_call_and_return_conditional_losses while saving (showing 2 of 2). These functions will not be directly callable after loading.\n"
     ]
    },
    {
     "name": "stdout",
     "output_type": "stream",
     "text": [
      "INFO:tensorflow:Assets written to: lstmmodel1/assets\n"
     ]
    },
    {
     "name": "stderr",
     "output_type": "stream",
     "text": [
      "INFO:tensorflow:Assets written to: lstmmodel1/assets\n"
     ]
    },
    {
     "name": "stdout",
     "output_type": "stream",
     "text": [
      "8/8 [==============================] - 3s 357ms/step - loss: 0.0316 - root_mean_squared_error: 0.1777 - val_loss: 0.0205 - val_root_mean_squared_error: 0.1433\n",
      "Epoch 92/100\n",
      "1/8 [==>...........................] - ETA: 0s - loss: 0.0163 - root_mean_squared_error: 0.1279"
     ]
    },
    {
     "name": "stderr",
     "output_type": "stream",
     "text": [
      "WARNING:absl:Found untraced functions such as lstm_cell_layer_call_fn, lstm_cell_layer_call_and_return_conditional_losses while saving (showing 2 of 2). These functions will not be directly callable after loading.\n"
     ]
    },
    {
     "name": "stdout",
     "output_type": "stream",
     "text": [
      "INFO:tensorflow:Assets written to: lstmmodel1/assets\n"
     ]
    },
    {
     "name": "stderr",
     "output_type": "stream",
     "text": [
      "INFO:tensorflow:Assets written to: lstmmodel1/assets\n"
     ]
    },
    {
     "name": "stdout",
     "output_type": "stream",
     "text": [
      "8/8 [==============================] - 2s 356ms/step - loss: 0.0314 - root_mean_squared_error: 0.1772 - val_loss: 0.0205 - val_root_mean_squared_error: 0.1432\n",
      "Epoch 93/100\n",
      "8/8 [==============================] - 0s 8ms/step - loss: 0.0313 - root_mean_squared_error: 0.1771 - val_loss: 0.0206 - val_root_mean_squared_error: 0.1434\n",
      "Epoch 94/100\n",
      "1/8 [==>...........................] - ETA: 0s - loss: 0.0437 - root_mean_squared_error: 0.2091"
     ]
    },
    {
     "name": "stderr",
     "output_type": "stream",
     "text": [
      "WARNING:absl:Found untraced functions such as lstm_cell_layer_call_fn, lstm_cell_layer_call_and_return_conditional_losses while saving (showing 2 of 2). These functions will not be directly callable after loading.\n"
     ]
    },
    {
     "name": "stdout",
     "output_type": "stream",
     "text": [
      "INFO:tensorflow:Assets written to: lstmmodel1/assets\n"
     ]
    },
    {
     "name": "stderr",
     "output_type": "stream",
     "text": [
      "INFO:tensorflow:Assets written to: lstmmodel1/assets\n"
     ]
    },
    {
     "name": "stdout",
     "output_type": "stream",
     "text": [
      "8/8 [==============================] - 3s 474ms/step - loss: 0.0312 - root_mean_squared_error: 0.1767 - val_loss: 0.0204 - val_root_mean_squared_error: 0.1430\n",
      "Epoch 95/100\n",
      "1/8 [==>...........................] - ETA: 0s - loss: 0.0364 - root_mean_squared_error: 0.1908"
     ]
    },
    {
     "name": "stderr",
     "output_type": "stream",
     "text": [
      "WARNING:absl:Found untraced functions such as lstm_cell_layer_call_fn, lstm_cell_layer_call_and_return_conditional_losses while saving (showing 2 of 2). These functions will not be directly callable after loading.\n"
     ]
    },
    {
     "name": "stdout",
     "output_type": "stream",
     "text": [
      "INFO:tensorflow:Assets written to: lstmmodel1/assets\n"
     ]
    },
    {
     "name": "stderr",
     "output_type": "stream",
     "text": [
      "INFO:tensorflow:Assets written to: lstmmodel1/assets\n"
     ]
    },
    {
     "name": "stdout",
     "output_type": "stream",
     "text": [
      "8/8 [==============================] - 3s 358ms/step - loss: 0.0311 - root_mean_squared_error: 0.1764 - val_loss: 0.0204 - val_root_mean_squared_error: 0.1427\n",
      "Epoch 96/100\n",
      "1/8 [==>...........................] - ETA: 0s - loss: 0.0248 - root_mean_squared_error: 0.1575"
     ]
    },
    {
     "name": "stderr",
     "output_type": "stream",
     "text": [
      "WARNING:absl:Found untraced functions such as lstm_cell_layer_call_fn, lstm_cell_layer_call_and_return_conditional_losses while saving (showing 2 of 2). These functions will not be directly callable after loading.\n"
     ]
    },
    {
     "name": "stdout",
     "output_type": "stream",
     "text": [
      "INFO:tensorflow:Assets written to: lstmmodel1/assets\n"
     ]
    },
    {
     "name": "stderr",
     "output_type": "stream",
     "text": [
      "INFO:tensorflow:Assets written to: lstmmodel1/assets\n"
     ]
    },
    {
     "name": "stdout",
     "output_type": "stream",
     "text": [
      "8/8 [==============================] - 3s 360ms/step - loss: 0.0310 - root_mean_squared_error: 0.1759 - val_loss: 0.0202 - val_root_mean_squared_error: 0.1422\n",
      "Epoch 97/100\n",
      "1/8 [==>...........................] - ETA: 0s - loss: 0.0568 - root_mean_squared_error: 0.2383"
     ]
    },
    {
     "name": "stderr",
     "output_type": "stream",
     "text": [
      "WARNING:absl:Found untraced functions such as lstm_cell_layer_call_fn, lstm_cell_layer_call_and_return_conditional_losses while saving (showing 2 of 2). These functions will not be directly callable after loading.\n"
     ]
    },
    {
     "name": "stdout",
     "output_type": "stream",
     "text": [
      "INFO:tensorflow:Assets written to: lstmmodel1/assets\n"
     ]
    },
    {
     "name": "stderr",
     "output_type": "stream",
     "text": [
      "INFO:tensorflow:Assets written to: lstmmodel1/assets\n"
     ]
    },
    {
     "name": "stdout",
     "output_type": "stream",
     "text": [
      "8/8 [==============================] - 2s 352ms/step - loss: 0.0308 - root_mean_squared_error: 0.1755 - val_loss: 0.0201 - val_root_mean_squared_error: 0.1416\n",
      "Epoch 98/100\n",
      "1/8 [==>...........................] - ETA: 0s - loss: 0.0334 - root_mean_squared_error: 0.1828"
     ]
    },
    {
     "name": "stderr",
     "output_type": "stream",
     "text": [
      "WARNING:absl:Found untraced functions such as lstm_cell_layer_call_fn, lstm_cell_layer_call_and_return_conditional_losses while saving (showing 2 of 2). These functions will not be directly callable after loading.\n"
     ]
    },
    {
     "name": "stdout",
     "output_type": "stream",
     "text": [
      "INFO:tensorflow:Assets written to: lstmmodel1/assets\n"
     ]
    },
    {
     "name": "stderr",
     "output_type": "stream",
     "text": [
      "INFO:tensorflow:Assets written to: lstmmodel1/assets\n"
     ]
    },
    {
     "name": "stdout",
     "output_type": "stream",
     "text": [
      "8/8 [==============================] - 2s 355ms/step - loss: 0.0307 - root_mean_squared_error: 0.1752 - val_loss: 0.0200 - val_root_mean_squared_error: 0.1415\n",
      "Epoch 99/100\n",
      "1/8 [==>...........................] - ETA: 0s - loss: 0.0429 - root_mean_squared_error: 0.2071"
     ]
    },
    {
     "name": "stderr",
     "output_type": "stream",
     "text": [
      "WARNING:absl:Found untraced functions such as lstm_cell_layer_call_fn, lstm_cell_layer_call_and_return_conditional_losses while saving (showing 2 of 2). These functions will not be directly callable after loading.\n"
     ]
    },
    {
     "name": "stdout",
     "output_type": "stream",
     "text": [
      "INFO:tensorflow:Assets written to: lstmmodel1/assets\n"
     ]
    },
    {
     "name": "stderr",
     "output_type": "stream",
     "text": [
      "INFO:tensorflow:Assets written to: lstmmodel1/assets\n"
     ]
    },
    {
     "name": "stdout",
     "output_type": "stream",
     "text": [
      "8/8 [==============================] - 3s 397ms/step - loss: 0.0306 - root_mean_squared_error: 0.1749 - val_loss: 0.0200 - val_root_mean_squared_error: 0.1413\n",
      "Epoch 100/100\n",
      "1/8 [==>...........................] - ETA: 0s - loss: 0.0288 - root_mean_squared_error: 0.1698"
     ]
    },
    {
     "name": "stderr",
     "output_type": "stream",
     "text": [
      "WARNING:absl:Found untraced functions such as lstm_cell_layer_call_fn, lstm_cell_layer_call_and_return_conditional_losses while saving (showing 2 of 2). These functions will not be directly callable after loading.\n"
     ]
    },
    {
     "name": "stdout",
     "output_type": "stream",
     "text": [
      "INFO:tensorflow:Assets written to: lstmmodel1/assets\n"
     ]
    },
    {
     "name": "stderr",
     "output_type": "stream",
     "text": [
      "INFO:tensorflow:Assets written to: lstmmodel1/assets\n"
     ]
    },
    {
     "name": "stdout",
     "output_type": "stream",
     "text": [
      "8/8 [==============================] - 4s 517ms/step - loss: 0.0305 - root_mean_squared_error: 0.1746 - val_loss: 0.0199 - val_root_mean_squared_error: 0.1409\n"
     ]
    },
    {
     "data": {
      "text/plain": [
       "<keras.callbacks.History at 0x7f1bac4cac10>"
      ]
     },
     "execution_count": 22,
     "metadata": {},
     "output_type": "execute_result"
    }
   ],
   "source": [
    "model1.fit(x_train, y_train, validation_data=(x_val, y_val), epochs=100, callbacks=[cp1])"
   ]
  },
  {
   "cell_type": "code",
   "execution_count": 23,
   "id": "85f52c2e-49a9-48ab-926b-dd0f865c5ece",
   "metadata": {},
   "outputs": [],
   "source": [
    "model1 = load_model('lstmmodel1/')"
   ]
  },
  {
   "cell_type": "code",
   "execution_count": 24,
   "id": "79937d11-f689-44a5-8454-89e967c194d1",
   "metadata": {},
   "outputs": [
    {
     "name": "stdout",
     "output_type": "stream",
     "text": [
      "8/8 [==============================] - 0s 2ms/step\n"
     ]
    },
    {
     "data": {
      "text/html": [
       "<div>\n",
       "<style scoped>\n",
       "    .dataframe tbody tr th:only-of-type {\n",
       "        vertical-align: middle;\n",
       "    }\n",
       "\n",
       "    .dataframe tbody tr th {\n",
       "        vertical-align: top;\n",
       "    }\n",
       "\n",
       "    .dataframe thead th {\n",
       "        text-align: right;\n",
       "    }\n",
       "</style>\n",
       "<table border=\"1\" class=\"dataframe\">\n",
       "  <thead>\n",
       "    <tr style=\"text-align: right;\">\n",
       "      <th></th>\n",
       "      <th>Train Predictions</th>\n",
       "      <th>Actuals</th>\n",
       "    </tr>\n",
       "  </thead>\n",
       "  <tbody>\n",
       "    <tr>\n",
       "      <th>0</th>\n",
       "      <td>0.176350</td>\n",
       "      <td>0.01</td>\n",
       "    </tr>\n",
       "    <tr>\n",
       "      <th>1</th>\n",
       "      <td>2.157978</td>\n",
       "      <td>2.17</td>\n",
       "    </tr>\n",
       "    <tr>\n",
       "      <th>2</th>\n",
       "      <td>1.796982</td>\n",
       "      <td>0.94</td>\n",
       "    </tr>\n",
       "    <tr>\n",
       "      <th>3</th>\n",
       "      <td>1.482837</td>\n",
       "      <td>1.42</td>\n",
       "    </tr>\n",
       "    <tr>\n",
       "      <th>4</th>\n",
       "      <td>2.055072</td>\n",
       "      <td>2.09</td>\n",
       "    </tr>\n",
       "    <tr>\n",
       "      <th>...</th>\n",
       "      <td>...</td>\n",
       "      <td>...</td>\n",
       "    </tr>\n",
       "    <tr>\n",
       "      <th>226</th>\n",
       "      <td>2.407367</td>\n",
       "      <td>2.45</td>\n",
       "    </tr>\n",
       "    <tr>\n",
       "      <th>227</th>\n",
       "      <td>2.347026</td>\n",
       "      <td>2.40</td>\n",
       "    </tr>\n",
       "    <tr>\n",
       "      <th>228</th>\n",
       "      <td>0.309499</td>\n",
       "      <td>0.07</td>\n",
       "    </tr>\n",
       "    <tr>\n",
       "      <th>229</th>\n",
       "      <td>2.051253</td>\n",
       "      <td>2.04</td>\n",
       "    </tr>\n",
       "    <tr>\n",
       "      <th>230</th>\n",
       "      <td>1.152066</td>\n",
       "      <td>1.13</td>\n",
       "    </tr>\n",
       "  </tbody>\n",
       "</table>\n",
       "<p>231 rows × 2 columns</p>\n",
       "</div>"
      ],
      "text/plain": [
       "     Train Predictions  Actuals\n",
       "0             0.176350     0.01\n",
       "1             2.157978     2.17\n",
       "2             1.796982     0.94\n",
       "3             1.482837     1.42\n",
       "4             2.055072     2.09\n",
       "..                 ...      ...\n",
       "226           2.407367     2.45\n",
       "227           2.347026     2.40\n",
       "228           0.309499     0.07\n",
       "229           2.051253     2.04\n",
       "230           1.152066     1.13\n",
       "\n",
       "[231 rows x 2 columns]"
      ]
     },
     "execution_count": 24,
     "metadata": {},
     "output_type": "execute_result"
    }
   ],
   "source": [
    "train_predictions = model1.predict(x_train).flatten()\n",
    "train_results = pd.DataFrame(data={'Train Predictions': train_predictions, 'Actuals':y_train})\n",
    "train_results"
   ]
  },
  {
   "cell_type": "code",
   "execution_count": 25,
   "id": "dfec0169-e11c-4641-85e1-5ddf9e67756b",
   "metadata": {},
   "outputs": [
    {
     "data": {
      "text/plain": [
       "[<matplotlib.lines.Line2D at 0x7f1bac65deb0>]"
      ]
     },
     "execution_count": 25,
     "metadata": {},
     "output_type": "execute_result"
    },
    {
     "data": {
      "image/png": "[encoded data removed]",
      "text/plain": [
       "<Figure size 432x288 with 1 Axes>"
      ]
     },
     "metadata": {
      "needs_background": "light"
     },
     "output_type": "display_data"
    }
   ],
   "source": [
    "plt.plot(train_results['Train Predictions'][:50])\n",
    "plt.plot(train_results['Actuals'][:50])"
   ]
  },
  {
   "cell_type": "code",
   "execution_count": 26,
   "id": "a19b7b37-06e6-4400-8142-c36e4d13f219",
   "metadata": {},
   "outputs": [],
   "source": [
    "def plot_val(model,Nsample):\n",
    "    val_predictions = model.predict(x_val).flatten()\n",
    "    val_results = pd.DataFrame(data={'Val Predictions':val_predictions, 'Actuals':y_val})\n",
    "    plt.plot(val_results['Val Predictions'][:Nsample])\n",
    "    plt.plot(val_results['Actuals'][:Nsample])"
   ]
  },
  {
   "cell_type": "code",
   "execution_count": 27,
   "id": "2db22124-6da7-4f0c-b3b1-0b9ce3660432",
   "metadata": {},
   "outputs": [
    {
     "name": "stdout",
     "output_type": "stream",
     "text": [
      "2/2 [==============================] - 0s 3ms/step\n"
     ]
    },
    {
     "data": {
      "text/html": [
       "<div>\n",
       "<style scoped>\n",
       "    .dataframe tbody tr th:only-of-type {\n",
       "        vertical-align: middle;\n",
       "    }\n",
       "\n",
       "    .dataframe tbody tr th {\n",
       "        vertical-align: top;\n",
       "    }\n",
       "\n",
       "    .dataframe thead th {\n",
       "        text-align: right;\n",
       "    }\n",
       "</style>\n",
       "<table border=\"1\" class=\"dataframe\">\n",
       "  <thead>\n",
       "    <tr style=\"text-align: right;\">\n",
       "      <th></th>\n",
       "      <th>Val Predictions</th>\n",
       "      <th>Actuals</th>\n",
       "    </tr>\n",
       "  </thead>\n",
       "  <tbody>\n",
       "    <tr>\n",
       "      <th>0</th>\n",
       "      <td>0.912046</td>\n",
       "      <td>0.81</td>\n",
       "    </tr>\n",
       "    <tr>\n",
       "      <th>1</th>\n",
       "      <td>2.576581</td>\n",
       "      <td>2.56</td>\n",
       "    </tr>\n",
       "    <tr>\n",
       "      <th>2</th>\n",
       "      <td>0.737677</td>\n",
       "      <td>0.92</td>\n",
       "    </tr>\n",
       "    <tr>\n",
       "      <th>3</th>\n",
       "      <td>0.695246</td>\n",
       "      <td>0.78</td>\n",
       "    </tr>\n",
       "    <tr>\n",
       "      <th>4</th>\n",
       "      <td>2.348046</td>\n",
       "      <td>2.43</td>\n",
       "    </tr>\n",
       "    <tr>\n",
       "      <th>5</th>\n",
       "      <td>2.297426</td>\n",
       "      <td>2.02</td>\n",
       "    </tr>\n",
       "    <tr>\n",
       "      <th>6</th>\n",
       "      <td>2.124618</td>\n",
       "      <td>2.11</td>\n",
       "    </tr>\n",
       "    <tr>\n",
       "      <th>7</th>\n",
       "      <td>0.989401</td>\n",
       "      <td>0.94</td>\n",
       "    </tr>\n",
       "    <tr>\n",
       "      <th>8</th>\n",
       "      <td>1.470530</td>\n",
       "      <td>1.51</td>\n",
       "    </tr>\n",
       "    <tr>\n",
       "      <th>9</th>\n",
       "      <td>2.098287</td>\n",
       "      <td>2.00</td>\n",
       "    </tr>\n",
       "    <tr>\n",
       "      <th>10</th>\n",
       "      <td>1.924236</td>\n",
       "      <td>1.94</td>\n",
       "    </tr>\n",
       "    <tr>\n",
       "      <th>11</th>\n",
       "      <td>1.164041</td>\n",
       "      <td>1.64</td>\n",
       "    </tr>\n",
       "    <tr>\n",
       "      <th>12</th>\n",
       "      <td>1.093072</td>\n",
       "      <td>1.12</td>\n",
       "    </tr>\n",
       "    <tr>\n",
       "      <th>13</th>\n",
       "      <td>2.408174</td>\n",
       "      <td>2.42</td>\n",
       "    </tr>\n",
       "    <tr>\n",
       "      <th>14</th>\n",
       "      <td>2.402087</td>\n",
       "      <td>2.44</td>\n",
       "    </tr>\n",
       "    <tr>\n",
       "      <th>15</th>\n",
       "      <td>0.637499</td>\n",
       "      <td>0.73</td>\n",
       "    </tr>\n",
       "    <tr>\n",
       "      <th>16</th>\n",
       "      <td>2.727705</td>\n",
       "      <td>2.82</td>\n",
       "    </tr>\n",
       "    <tr>\n",
       "      <th>17</th>\n",
       "      <td>2.745933</td>\n",
       "      <td>2.78</td>\n",
       "    </tr>\n",
       "    <tr>\n",
       "      <th>18</th>\n",
       "      <td>2.514214</td>\n",
       "      <td>2.62</td>\n",
       "    </tr>\n",
       "    <tr>\n",
       "      <th>19</th>\n",
       "      <td>0.192129</td>\n",
       "      <td>0.03</td>\n",
       "    </tr>\n",
       "    <tr>\n",
       "      <th>20</th>\n",
       "      <td>2.037087</td>\n",
       "      <td>2.06</td>\n",
       "    </tr>\n",
       "    <tr>\n",
       "      <th>21</th>\n",
       "      <td>0.192838</td>\n",
       "      <td>0.01</td>\n",
       "    </tr>\n",
       "    <tr>\n",
       "      <th>22</th>\n",
       "      <td>2.713766</td>\n",
       "      <td>2.83</td>\n",
       "    </tr>\n",
       "    <tr>\n",
       "      <th>23</th>\n",
       "      <td>1.413315</td>\n",
       "      <td>1.43</td>\n",
       "    </tr>\n",
       "    <tr>\n",
       "      <th>24</th>\n",
       "      <td>2.350178</td>\n",
       "      <td>2.41</td>\n",
       "    </tr>\n",
       "    <tr>\n",
       "      <th>25</th>\n",
       "      <td>2.156561</td>\n",
       "      <td>2.14</td>\n",
       "    </tr>\n",
       "    <tr>\n",
       "      <th>26</th>\n",
       "      <td>2.307458</td>\n",
       "      <td>2.34</td>\n",
       "    </tr>\n",
       "    <tr>\n",
       "      <th>27</th>\n",
       "      <td>2.210753</td>\n",
       "      <td>2.28</td>\n",
       "    </tr>\n",
       "    <tr>\n",
       "      <th>28</th>\n",
       "      <td>0.289431</td>\n",
       "      <td>0.29</td>\n",
       "    </tr>\n",
       "    <tr>\n",
       "      <th>29</th>\n",
       "      <td>0.853128</td>\n",
       "      <td>0.82</td>\n",
       "    </tr>\n",
       "    <tr>\n",
       "      <th>30</th>\n",
       "      <td>0.260330</td>\n",
       "      <td>0.12</td>\n",
       "    </tr>\n",
       "    <tr>\n",
       "      <th>31</th>\n",
       "      <td>0.176789</td>\n",
       "      <td>0.02</td>\n",
       "    </tr>\n",
       "    <tr>\n",
       "      <th>32</th>\n",
       "      <td>2.159287</td>\n",
       "      <td>2.21</td>\n",
       "    </tr>\n",
       "    <tr>\n",
       "      <th>33</th>\n",
       "      <td>2.168361</td>\n",
       "      <td>2.30</td>\n",
       "    </tr>\n",
       "    <tr>\n",
       "      <th>34</th>\n",
       "      <td>0.183763</td>\n",
       "      <td>0.10</td>\n",
       "    </tr>\n",
       "    <tr>\n",
       "      <th>35</th>\n",
       "      <td>1.957098</td>\n",
       "      <td>1.92</td>\n",
       "    </tr>\n",
       "    <tr>\n",
       "      <th>36</th>\n",
       "      <td>1.940693</td>\n",
       "      <td>1.95</td>\n",
       "    </tr>\n",
       "    <tr>\n",
       "      <th>37</th>\n",
       "      <td>2.529414</td>\n",
       "      <td>2.50</td>\n",
       "    </tr>\n",
       "    <tr>\n",
       "      <th>38</th>\n",
       "      <td>0.517766</td>\n",
       "      <td>0.72</td>\n",
       "    </tr>\n",
       "    <tr>\n",
       "      <th>39</th>\n",
       "      <td>1.302699</td>\n",
       "      <td>1.55</td>\n",
       "    </tr>\n",
       "    <tr>\n",
       "      <th>40</th>\n",
       "      <td>2.507525</td>\n",
       "      <td>2.54</td>\n",
       "    </tr>\n",
       "    <tr>\n",
       "      <th>41</th>\n",
       "      <td>0.174393</td>\n",
       "      <td>0.02</td>\n",
       "    </tr>\n",
       "    <tr>\n",
       "      <th>42</th>\n",
       "      <td>1.579334</td>\n",
       "      <td>1.15</td>\n",
       "    </tr>\n",
       "    <tr>\n",
       "      <th>43</th>\n",
       "      <td>0.180813</td>\n",
       "      <td>0.03</td>\n",
       "    </tr>\n",
       "    <tr>\n",
       "      <th>44</th>\n",
       "      <td>1.492120</td>\n",
       "      <td>1.62</td>\n",
       "    </tr>\n",
       "    <tr>\n",
       "      <th>45</th>\n",
       "      <td>2.743703</td>\n",
       "      <td>2.82</td>\n",
       "    </tr>\n",
       "    <tr>\n",
       "      <th>46</th>\n",
       "      <td>2.154724</td>\n",
       "      <td>2.16</td>\n",
       "    </tr>\n",
       "    <tr>\n",
       "      <th>47</th>\n",
       "      <td>0.434984</td>\n",
       "      <td>0.11</td>\n",
       "    </tr>\n",
       "    <tr>\n",
       "      <th>48</th>\n",
       "      <td>2.566080</td>\n",
       "      <td>2.57</td>\n",
       "    </tr>\n",
       "    <tr>\n",
       "      <th>49</th>\n",
       "      <td>2.108912</td>\n",
       "      <td>2.14</td>\n",
       "    </tr>\n",
       "    <tr>\n",
       "      <th>50</th>\n",
       "      <td>0.638880</td>\n",
       "      <td>0.47</td>\n",
       "    </tr>\n",
       "    <tr>\n",
       "      <th>51</th>\n",
       "      <td>0.748466</td>\n",
       "      <td>0.79</td>\n",
       "    </tr>\n",
       "    <tr>\n",
       "      <th>52</th>\n",
       "      <td>1.876818</td>\n",
       "      <td>1.75</td>\n",
       "    </tr>\n",
       "    <tr>\n",
       "      <th>53</th>\n",
       "      <td>2.362225</td>\n",
       "      <td>2.38</td>\n",
       "    </tr>\n",
       "    <tr>\n",
       "      <th>54</th>\n",
       "      <td>1.861084</td>\n",
       "      <td>1.95</td>\n",
       "    </tr>\n",
       "    <tr>\n",
       "      <th>55</th>\n",
       "      <td>2.313629</td>\n",
       "      <td>2.39</td>\n",
       "    </tr>\n",
       "    <tr>\n",
       "      <th>56</th>\n",
       "      <td>1.561774</td>\n",
       "      <td>1.31</td>\n",
       "    </tr>\n",
       "    <tr>\n",
       "      <th>57</th>\n",
       "      <td>1.146032</td>\n",
       "      <td>1.14</td>\n",
       "    </tr>\n",
       "  </tbody>\n",
       "</table>\n",
       "</div>"
      ],
      "text/plain": [
       "    Val Predictions  Actuals\n",
       "0          0.912046     0.81\n",
       "1          2.576581     2.56\n",
       "2          0.737677     0.92\n",
       "3          0.695246     0.78\n",
       "4          2.348046     2.43\n",
       "5          2.297426     2.02\n",
       "6          2.124618     2.11\n",
       "7          0.989401     0.94\n",
       "8          1.470530     1.51\n",
       "9          2.098287     2.00\n",
       "10         1.924236     1.94\n",
       "11         1.164041     1.64\n",
       "12         1.093072     1.12\n",
       "13         2.408174     2.42\n",
       "14         2.402087     2.44\n",
       "15         0.637499     0.73\n",
       "16         2.727705     2.82\n",
       "17         2.745933     2.78\n",
       "18         2.514214     2.62\n",
       "19         0.192129     0.03\n",
       "20         2.037087     2.06\n",
       "21         0.192838     0.01\n",
       "22         2.713766     2.83\n",
       "23         1.413315     1.43\n",
       "24         2.350178     2.41\n",
       "25         2.156561     2.14\n",
       "26         2.307458     2.34\n",
       "27         2.210753     2.28\n",
       "28         0.289431     0.29\n",
       "29         0.853128     0.82\n",
       "30         0.260330     0.12\n",
       "31         0.176789     0.02\n",
       "32         2.159287     2.21\n",
       "33         2.168361     2.30\n",
       "34         0.183763     0.10\n",
       "35         1.957098     1.92\n",
       "36         1.940693     1.95\n",
       "37         2.529414     2.50\n",
       "38         0.517766     0.72\n",
       "39         1.302699     1.55\n",
       "40         2.507525     2.54\n",
       "41         0.174393     0.02\n",
       "42         1.579334     1.15\n",
       "43         0.180813     0.03\n",
       "44         1.492120     1.62\n",
       "45         2.743703     2.82\n",
       "46         2.154724     2.16\n",
       "47         0.434984     0.11\n",
       "48         2.566080     2.57\n",
       "49         2.108912     2.14\n",
       "50         0.638880     0.47\n",
       "51         0.748466     0.79\n",
       "52         1.876818     1.75\n",
       "53         2.362225     2.38\n",
       "54         1.861084     1.95\n",
       "55         2.313629     2.39\n",
       "56         1.561774     1.31\n",
       "57         1.146032     1.14"
      ]
     },
     "execution_count": 27,
     "metadata": {},
     "output_type": "execute_result"
    }
   ],
   "source": [
    "val_predictions = model1.predict(x_val).flatten()\n",
    "val_results = pd.DataFrame(data={'Val Predictions':val_predictions, 'Actuals':y_val})\n",
    "val_results"
   ]
  },
  {
   "cell_type": "code",
   "execution_count": 28,
   "id": "e536569a-c96b-4841-b3bc-4a73cdb86a68",
   "metadata": {},
   "outputs": [
    {
     "data": {
      "text/plain": [
       "[<matplotlib.lines.Line2D at 0x7f1bac074880>]"
      ]
     },
     "execution_count": 28,
     "metadata": {},
     "output_type": "execute_result"
    },
    {
     "data": {
      "image/png": "[encoded data removed]",
      "text/plain": [
       "<Figure size 432x288 with 1 Axes>"
      ]
     },
     "metadata": {
      "needs_background": "light"
     },
     "output_type": "display_data"
    }
   ],
   "source": [
    "plt.plot(val_results['Val Predictions'][:100])\n",
    "plt.plot(val_results['Actuals'][:100])"
   ]
  },
  {
   "cell_type": "code",
   "execution_count": 10,
   "id": "17556c87-f05e-4018-af7e-7fc18cfb67a4",
   "metadata": {},
   "outputs": [],
   "source": [
    "def plot_test(model, Nsample):\n",
    "    test_predictions = model.predict(x_test).flatten()\n",
    "    test_results = pd.DataFrame(data={'Test Predictions':test_predictions, 'Actuals':y_test})\n",
    "    plt.plot(test_results['Test Predictions'][:Nsample])\n",
    "    plt.plot(test_results['Actuals'][:Nsample])"
   ]
  },
  {
   "cell_type": "code",
   "execution_count": 30,
   "id": "76d6b000-6858-4ef9-8f21-ae8da84de5ba",
   "metadata": {},
   "outputs": [
    {
     "name": "stdout",
     "output_type": "stream",
     "text": [
      "3/3 [==============================] - 0s 3ms/step\n"
     ]
    },
    {
     "data": {
      "text/html": [
       "<div>\n",
       "<style scoped>\n",
       "    .dataframe tbody tr th:only-of-type {\n",
       "        vertical-align: middle;\n",
       "    }\n",
       "\n",
       "    .dataframe tbody tr th {\n",
       "        vertical-align: top;\n",
       "    }\n",
       "\n",
       "    .dataframe thead th {\n",
       "        text-align: right;\n",
       "    }\n",
       "</style>\n",
       "<table border=\"1\" class=\"dataframe\">\n",
       "  <thead>\n",
       "    <tr style=\"text-align: right;\">\n",
       "      <th></th>\n",
       "      <th>Test Predictions</th>\n",
       "      <th>Actuals</th>\n",
       "    </tr>\n",
       "  </thead>\n",
       "  <tbody>\n",
       "    <tr>\n",
       "      <th>0</th>\n",
       "      <td>1.964109</td>\n",
       "      <td>1.96</td>\n",
       "    </tr>\n",
       "    <tr>\n",
       "      <th>1</th>\n",
       "      <td>2.120595</td>\n",
       "      <td>2.18</td>\n",
       "    </tr>\n",
       "    <tr>\n",
       "      <th>2</th>\n",
       "      <td>1.837681</td>\n",
       "      <td>1.90</td>\n",
       "    </tr>\n",
       "    <tr>\n",
       "      <th>3</th>\n",
       "      <td>0.359868</td>\n",
       "      <td>0.40</td>\n",
       "    </tr>\n",
       "    <tr>\n",
       "      <th>4</th>\n",
       "      <td>0.236129</td>\n",
       "      <td>0.05</td>\n",
       "    </tr>\n",
       "    <tr>\n",
       "      <th>...</th>\n",
       "      <td>...</td>\n",
       "      <td>...</td>\n",
       "    </tr>\n",
       "    <tr>\n",
       "      <th>68</th>\n",
       "      <td>2.218651</td>\n",
       "      <td>2.24</td>\n",
       "    </tr>\n",
       "    <tr>\n",
       "      <th>69</th>\n",
       "      <td>2.123446</td>\n",
       "      <td>2.14</td>\n",
       "    </tr>\n",
       "    <tr>\n",
       "      <th>70</th>\n",
       "      <td>1.147022</td>\n",
       "      <td>1.15</td>\n",
       "    </tr>\n",
       "    <tr>\n",
       "      <th>71</th>\n",
       "      <td>2.154301</td>\n",
       "      <td>2.14</td>\n",
       "    </tr>\n",
       "    <tr>\n",
       "      <th>72</th>\n",
       "      <td>0.292637</td>\n",
       "      <td>0.11</td>\n",
       "    </tr>\n",
       "  </tbody>\n",
       "</table>\n",
       "<p>73 rows × 2 columns</p>\n",
       "</div>"
      ],
      "text/plain": [
       "    Test Predictions  Actuals\n",
       "0           1.964109     1.96\n",
       "1           2.120595     2.18\n",
       "2           1.837681     1.90\n",
       "3           0.359868     0.40\n",
       "4           0.236129     0.05\n",
       "..               ...      ...\n",
       "68          2.218651     2.24\n",
       "69          2.123446     2.14\n",
       "70          1.147022     1.15\n",
       "71          2.154301     2.14\n",
       "72          0.292637     0.11\n",
       "\n",
       "[73 rows x 2 columns]"
      ]
     },
     "execution_count": 30,
     "metadata": {},
     "output_type": "execute_result"
    }
   ],
   "source": [
    "test_predictions = model1.predict(x_test).flatten()\n",
    "test_results = pd.DataFrame(data={'Test Predictions':test_predictions, 'Actuals':y_test})\n",
    "test_results"
   ]
  },
  {
   "cell_type": "code",
   "execution_count": 31,
   "id": "137cb08b-d122-40aa-a956-3e027b8d282f",
   "metadata": {},
   "outputs": [
    {
     "data": {
      "text/plain": [
       "[<matplotlib.lines.Line2D at 0x7f1b5f6ebeb0>]"
      ]
     },
     "execution_count": 31,
     "metadata": {},
     "output_type": "execute_result"
    },
    {
     "data": {
      "image/png": "[encoded data removed]",
      "text/plain": [
       "<Figure size 432x288 with 1 Axes>"
      ]
     },
     "metadata": {
      "needs_background": "light"
     },
     "output_type": "display_data"
    }
   ],
   "source": [
    "plt.plot(test_results['Test Predictions'][:100])\n",
    "plt.plot(test_results['Actuals'][:100])"
   ]
  },
  {
   "cell_type": "code",
   "execution_count": 11,
   "id": "d6928e98-0a4c-4466-b142-e8584fb9c5eb",
   "metadata": {},
   "outputs": [],
   "source": [
    "from sklearn.metrics import mean_squared_error as mse\n",
    "\n",
    "def plot_predictions1(model, X, y, start=0, end=100):\n",
    "  predictions = model.predict(X).flatten()\n",
    "  df = pd.DataFrame(data={'Predictions':predictions, 'Actuals':y})\n",
    "  plt.plot(df['Predictions'][start:end])\n",
    "  plt.plot(df['Actuals'][start:end])\n",
    "  return df, mse(y, predictions)"
   ]
  },
  {
   "cell_type": "code",
   "execution_count": 33,
   "id": "d6197baf-dd18-4708-b4a4-3c3f292d152f",
   "metadata": {},
   "outputs": [
    {
     "name": "stdout",
     "output_type": "stream",
     "text": [
      "3/3 [==============================] - 0s 3ms/step\n"
     ]
    },
    {
     "data": {
      "text/plain": [
       "(    Predictions  Actuals\n",
       " 0      1.964109     1.96\n",
       " 1      2.120595     2.18\n",
       " 2      1.837681     1.90\n",
       " 3      0.359868     0.40\n",
       " 4      0.236129     0.05\n",
       " ..          ...      ...\n",
       " 68     2.218651     2.24\n",
       " 69     2.123446     2.14\n",
       " 70     1.147022     1.15\n",
       " 71     2.154301     2.14\n",
       " 72     0.292637     0.11\n",
       " \n",
       " [73 rows x 2 columns],\n",
       " 0.03369401638901186)"
      ]
     },
     "execution_count": 33,
     "metadata": {},
     "output_type": "execute_result"
    },
    {
     "data": {
      "image/png": "[encoded data removed]",
      "text/plain": [
       "<Figure size 432x288 with 1 Axes>"
      ]
     },
     "metadata": {
      "needs_background": "light"
     },
     "output_type": "display_data"
    }
   ],
   "source": [
    "plot_predictions1(model1, x_test, y_test)"
   ]
  },
  {
   "cell_type": "code",
   "execution_count": 36,
   "id": "d45b7515-c7d0-41a7-958c-68321fffdec2",
   "metadata": {
    "scrolled": true
   },
   "outputs": [
    {
     "data": {
      "text/plain": [
       "[<matplotlib.lines.Line2D at 0x7f1baf0a12e0>]"
      ]
     },
     "execution_count": 36,
     "metadata": {},
     "output_type": "execute_result"
    },
    {
     "data": {
      "image/png": "[encoded data removed]",
      "text/plain": [
       "<Figure size 432x288 with 1 Axes>"
      ]
     },
     "metadata": {
      "needs_background": "light"
     },
     "output_type": "display_data"
    }
   ],
   "source": [
    "plt.plot(test_results['Test Predictions'])\n",
    "plt.plot(test_results['Actuals'])"
   ]
  },
  {
   "cell_type": "code",
   "execution_count": null,
   "id": "fbc78500",
   "metadata": {},
   "outputs": [],
   "source": []
  },
  {
   "cell_type": "code",
   "execution_count": 48,
   "id": "0cf8b566",
   "metadata": {},
   "outputs": [
    {
     "name": "stdout",
     "output_type": "stream",
     "text": [
      "3/3 [==============================] - 0s 2ms/step\n"
     ]
    },
    {
     "data": {
      "text/plain": [
       "(73, 1)"
      ]
     },
     "execution_count": 48,
     "metadata": {},
     "output_type": "execute_result"
    }
   ],
   "source": [
    "tested_val = model1.predict(x_test)\n",
    "tested_val.shape"
   ]
  },
  {
   "cell_type": "code",
   "execution_count": 52,
   "id": "62166483",
   "metadata": {},
   "outputs": [
    {
     "data": {
      "text/plain": [
       "(73,)"
      ]
     },
     "execution_count": 52,
     "metadata": {},
     "output_type": "execute_result"
    }
   ],
   "source": [
    "test_predictions.shape"
   ]
  },
  {
   "cell_type": "code",
   "execution_count": 53,
   "id": "99d95d37",
   "metadata": {},
   "outputs": [
    {
     "data": {
      "text/plain": [
       "(73,)"
      ]
     },
     "execution_count": 53,
     "metadata": {},
     "output_type": "execute_result"
    }
   ],
   "source": [
    "y_test.shape"
   ]
  },
  {
   "cell_type": "markdown",
   "id": "9c54a170-a769-40c5-8aff-36923a645cc6",
   "metadata": {},
   "source": [
    "## CNN"
   ]
  },
  {
   "cell_type": "code",
   "execution_count": 37,
   "id": "fac8349d-af72-4bc1-928a-4306d7a5ac01",
   "metadata": {},
   "outputs": [
    {
     "name": "stdout",
     "output_type": "stream",
     "text": [
      "Model: \"sequential_1\"\n",
      "_________________________________________________________________\n",
      " Layer (type)                Output Shape              Param #   \n",
      "=================================================================\n",
      " conv1d (Conv1D)             (None, 2, 64)             192       \n",
      "                                                                 \n",
      " flatten (Flatten)           (None, 128)               0         \n",
      "                                                                 \n",
      " dense_2 (Dense)             (None, 8)                 1032      \n",
      "                                                                 \n",
      " dense_3 (Dense)             (None, 1)                 9         \n",
      "                                                                 \n",
      "=================================================================\n",
      "Total params: 1,233\n",
      "Trainable params: 1,233\n",
      "Non-trainable params: 0\n",
      "_________________________________________________________________\n"
     ]
    }
   ],
   "source": [
    "model2 = Sequential()\n",
    "model2.add(InputLayer((3, 1)))\n",
    "model2.add(Conv1D(64, kernel_size=2))\n",
    "model2.add(Flatten())\n",
    "model2.add(Dense(8, 'relu'))\n",
    "model2.add(Dense(1, 'linear'))\n",
    "\n",
    "model2.summary()"
   ]
  },
  {
   "cell_type": "code",
   "execution_count": 66,
   "id": "ee876f49-4e88-4da2-883b-ca8b381a0dda",
   "metadata": {},
   "outputs": [],
   "source": [
    "cp2 = ModelCheckpoint('cnnmodel2/', save_best_only=True)\n",
    "model2.compile(loss=MeanSquaredError(), optimizer=Adam(learning_rate=0.0001), metrics=[RootMeanSquaredError()])"
   ]
  },
  {
   "cell_type": "code",
   "execution_count": 12,
   "id": "9e1ca2b7-36ce-464b-b899-ade7bb917004",
   "metadata": {},
   "outputs": [],
   "source": [
    "def fit_model(model, cp, epochs):\n",
    "    model.compile(loss=MeanSquaredError(), optimizer=Adam(learning_rate=0.0001), metrics=[RootMeanSquaredError()])\n",
    "    model.fit(x_train, y_train, validation_data=(x_val, y_val), epochs=epochs, callbacks=[cp])\n",
    "    return model"
   ]
  },
  {
   "cell_type": "code",
   "execution_count": 69,
   "id": "9dba7978-dad8-4609-b263-82844224986e",
   "metadata": {},
   "outputs": [
    {
     "name": "stdout",
     "output_type": "stream",
     "text": [
      "Epoch 1/10\n",
      "1/8 [==>...........................] - ETA: 2s - loss: 1.1828 - root_mean_squared_error: 1.0875"
     ]
    },
    {
     "name": "stderr",
     "output_type": "stream",
     "text": [
      "WARNING:absl:Found untraced functions such as _jit_compiled_convolution_op while saving (showing 1 of 1). These functions will not be directly callable after loading.\n"
     ]
    },
    {
     "name": "stdout",
     "output_type": "stream",
     "text": [
      "INFO:tensorflow:Assets written to: cnnmodel2/assets\n"
     ]
    },
    {
     "name": "stderr",
     "output_type": "stream",
     "text": [
      "INFO:tensorflow:Assets written to: cnnmodel2/assets\n"
     ]
    },
    {
     "name": "stdout",
     "output_type": "stream",
     "text": [
      "8/8 [==============================] - 1s 83ms/step - loss: 1.1128 - root_mean_squared_error: 1.0549 - val_loss: 0.8642 - val_root_mean_squared_error: 0.9296\n",
      "Epoch 2/10\n",
      "1/8 [==>...........................] - ETA: 0s - loss: 1.0560 - root_mean_squared_error: 1.0276"
     ]
    },
    {
     "name": "stderr",
     "output_type": "stream",
     "text": [
      "WARNING:absl:Found untraced functions such as _jit_compiled_convolution_op while saving (showing 1 of 1). These functions will not be directly callable after loading.\n"
     ]
    },
    {
     "name": "stdout",
     "output_type": "stream",
     "text": [
      "INFO:tensorflow:Assets written to: cnnmodel2/assets\n"
     ]
    },
    {
     "name": "stderr",
     "output_type": "stream",
     "text": [
      "INFO:tensorflow:Assets written to: cnnmodel2/assets\n"
     ]
    },
    {
     "name": "stdout",
     "output_type": "stream",
     "text": [
      "8/8 [==============================] - 0s 70ms/step - loss: 0.8905 - root_mean_squared_error: 0.9437 - val_loss: 0.6828 - val_root_mean_squared_error: 0.8263\n",
      "Epoch 3/10\n",
      "1/8 [==>...........................] - ETA: 0s - loss: 0.7522 - root_mean_squared_error: 0.8673"
     ]
    },
    {
     "name": "stderr",
     "output_type": "stream",
     "text": [
      "WARNING:absl:Found untraced functions such as _jit_compiled_convolution_op while saving (showing 1 of 1). These functions will not be directly callable after loading.\n"
     ]
    },
    {
     "name": "stdout",
     "output_type": "stream",
     "text": [
      "INFO:tensorflow:Assets written to: cnnmodel2/assets\n"
     ]
    },
    {
     "name": "stderr",
     "output_type": "stream",
     "text": [
      "INFO:tensorflow:Assets written to: cnnmodel2/assets\n"
     ]
    },
    {
     "name": "stdout",
     "output_type": "stream",
     "text": [
      "8/8 [==============================] - 0s 70ms/step - loss: 0.7001 - root_mean_squared_error: 0.8367 - val_loss: 0.5285 - val_root_mean_squared_error: 0.7270\n",
      "Epoch 4/10\n",
      "1/8 [==>...........................] - ETA: 0s - loss: 0.6559 - root_mean_squared_error: 0.8099"
     ]
    },
    {
     "name": "stderr",
     "output_type": "stream",
     "text": [
      "WARNING:absl:Found untraced functions such as _jit_compiled_convolution_op while saving (showing 1 of 1). These functions will not be directly callable after loading.\n"
     ]
    },
    {
     "name": "stdout",
     "output_type": "stream",
     "text": [
      "INFO:tensorflow:Assets written to: cnnmodel2/assets\n"
     ]
    },
    {
     "name": "stderr",
     "output_type": "stream",
     "text": [
      "INFO:tensorflow:Assets written to: cnnmodel2/assets\n"
     ]
    },
    {
     "name": "stdout",
     "output_type": "stream",
     "text": [
      "8/8 [==============================] - 0s 68ms/step - loss: 0.5379 - root_mean_squared_error: 0.7334 - val_loss: 0.4023 - val_root_mean_squared_error: 0.6343\n",
      "Epoch 5/10\n",
      "1/8 [==>...........................] - ETA: 0s - loss: 0.4908 - root_mean_squared_error: 0.7006"
     ]
    },
    {
     "name": "stderr",
     "output_type": "stream",
     "text": [
      "WARNING:absl:Found untraced functions such as _jit_compiled_convolution_op while saving (showing 1 of 1). These functions will not be directly callable after loading.\n"
     ]
    },
    {
     "name": "stdout",
     "output_type": "stream",
     "text": [
      "INFO:tensorflow:Assets written to: cnnmodel2/assets\n"
     ]
    },
    {
     "name": "stderr",
     "output_type": "stream",
     "text": [
      "INFO:tensorflow:Assets written to: cnnmodel2/assets\n"
     ]
    },
    {
     "name": "stdout",
     "output_type": "stream",
     "text": [
      "8/8 [==============================] - 0s 70ms/step - loss: 0.4134 - root_mean_squared_error: 0.6430 - val_loss: 0.3108 - val_root_mean_squared_error: 0.5575\n",
      "Epoch 6/10\n",
      "1/8 [==>...........................] - ETA: 0s - loss: 0.3685 - root_mean_squared_error: 0.6070"
     ]
    },
    {
     "name": "stderr",
     "output_type": "stream",
     "text": [
      "WARNING:absl:Found untraced functions such as _jit_compiled_convolution_op while saving (showing 1 of 1). These functions will not be directly callable after loading.\n"
     ]
    },
    {
     "name": "stdout",
     "output_type": "stream",
     "text": [
      "INFO:tensorflow:Assets written to: cnnmodel2/assets\n"
     ]
    },
    {
     "name": "stderr",
     "output_type": "stream",
     "text": [
      "INFO:tensorflow:Assets written to: cnnmodel2/assets\n"
     ]
    },
    {
     "name": "stdout",
     "output_type": "stream",
     "text": [
      "8/8 [==============================] - 1s 72ms/step - loss: 0.3185 - root_mean_squared_error: 0.5644 - val_loss: 0.2371 - val_root_mean_squared_error: 0.4869\n",
      "Epoch 7/10\n",
      "1/8 [==>...........................] - ETA: 0s - loss: 0.2716 - root_mean_squared_error: 0.5212"
     ]
    },
    {
     "name": "stderr",
     "output_type": "stream",
     "text": [
      "WARNING:absl:Found untraced functions such as _jit_compiled_convolution_op while saving (showing 1 of 1). These functions will not be directly callable after loading.\n"
     ]
    },
    {
     "name": "stdout",
     "output_type": "stream",
     "text": [
      "INFO:tensorflow:Assets written to: cnnmodel2/assets\n"
     ]
    },
    {
     "name": "stderr",
     "output_type": "stream",
     "text": [
      "INFO:tensorflow:Assets written to: cnnmodel2/assets\n"
     ]
    },
    {
     "name": "stdout",
     "output_type": "stream",
     "text": [
      "8/8 [==============================] - 1s 88ms/step - loss: 0.2433 - root_mean_squared_error: 0.4933 - val_loss: 0.1783 - val_root_mean_squared_error: 0.4222\n",
      "Epoch 8/10\n",
      "1/8 [==>...........................] - ETA: 0s - loss: 0.2183 - root_mean_squared_error: 0.4672"
     ]
    },
    {
     "name": "stderr",
     "output_type": "stream",
     "text": [
      "WARNING:absl:Found untraced functions such as _jit_compiled_convolution_op while saving (showing 1 of 1). These functions will not be directly callable after loading.\n"
     ]
    },
    {
     "name": "stdout",
     "output_type": "stream",
     "text": [
      "INFO:tensorflow:Assets written to: cnnmodel2/assets\n"
     ]
    },
    {
     "name": "stderr",
     "output_type": "stream",
     "text": [
      "INFO:tensorflow:Assets written to: cnnmodel2/assets\n"
     ]
    },
    {
     "name": "stdout",
     "output_type": "stream",
     "text": [
      "8/8 [==============================] - 1s 102ms/step - loss: 0.1833 - root_mean_squared_error: 0.4282 - val_loss: 0.1329 - val_root_mean_squared_error: 0.3645\n",
      "Epoch 9/10\n",
      "1/8 [==>...........................] - ETA: 0s - loss: 0.1593 - root_mean_squared_error: 0.3991"
     ]
    },
    {
     "name": "stderr",
     "output_type": "stream",
     "text": [
      "WARNING:absl:Found untraced functions such as _jit_compiled_convolution_op while saving (showing 1 of 1). These functions will not be directly callable after loading.\n"
     ]
    },
    {
     "name": "stdout",
     "output_type": "stream",
     "text": [
      "INFO:tensorflow:Assets written to: cnnmodel2/assets\n"
     ]
    },
    {
     "name": "stderr",
     "output_type": "stream",
     "text": [
      "INFO:tensorflow:Assets written to: cnnmodel2/assets\n"
     ]
    },
    {
     "name": "stdout",
     "output_type": "stream",
     "text": [
      "8/8 [==============================] - 2s 264ms/step - loss: 0.1388 - root_mean_squared_error: 0.3725 - val_loss: 0.0986 - val_root_mean_squared_error: 0.3140\n",
      "Epoch 10/10\n",
      "1/8 [==>...........................] - ETA: 0s - loss: 0.1175 - root_mean_squared_error: 0.3428"
     ]
    },
    {
     "name": "stderr",
     "output_type": "stream",
     "text": [
      "WARNING:absl:Found untraced functions such as _jit_compiled_convolution_op while saving (showing 1 of 1). These functions will not be directly callable after loading.\n"
     ]
    },
    {
     "name": "stdout",
     "output_type": "stream",
     "text": [
      "INFO:tensorflow:Assets written to: cnnmodel2/assets\n"
     ]
    },
    {
     "name": "stderr",
     "output_type": "stream",
     "text": [
      "INFO:tensorflow:Assets written to: cnnmodel2/assets\n"
     ]
    },
    {
     "name": "stdout",
     "output_type": "stream",
     "text": [
      "8/8 [==============================] - 1s 79ms/step - loss: 0.1051 - root_mean_squared_error: 0.3242 - val_loss: 0.0742 - val_root_mean_squared_error: 0.2725\n"
     ]
    }
   ],
   "source": [
    "model2 = fit_model(model2, cp2, 10)"
   ]
  },
  {
   "cell_type": "code",
   "execution_count": 13,
   "id": "492e7dce-628c-484e-bad8-0a05704af210",
   "metadata": {},
   "outputs": [],
   "source": [
    "def plot_train(modelname, Nsample):\n",
    "    model = load_model(modelname)\n",
    "    train_predictions = model.predict(x_train).flatten()\n",
    "    train_results = pd.DataFrame(data={'Train Predictions': train_predictions, 'Actuals':y_train})\n",
    "    plt.plot(train_results['Train Predictions'][:Nsample])\n",
    "    plt.plot(train_results['Actuals'][:Nsample])"
   ]
  },
  {
   "cell_type": "code",
   "execution_count": 74,
   "id": "7584a856-c35b-4df8-94ad-7808e57802fb",
   "metadata": {},
   "outputs": [
    {
     "name": "stdout",
     "output_type": "stream",
     "text": [
      "8/8 [==============================] - 0s 2ms/step\n"
     ]
    },
    {
     "data": {
      "image/png": "[encoded data removed]",
      "text/plain": [
       "<Figure size 432x288 with 1 Axes>"
      ]
     },
     "metadata": {
      "needs_background": "light"
     },
     "output_type": "display_data"
    }
   ],
   "source": [
    "plot_train(\"cnnmodel2\", 50)"
   ]
  },
  {
   "cell_type": "code",
   "execution_count": 75,
   "id": "c490b55b-e00b-4e85-9a9d-e1432d7ab46d",
   "metadata": {},
   "outputs": [
    {
     "name": "stdout",
     "output_type": "stream",
     "text": [
      "2/2 [==============================] - 0s 2ms/step\n"
     ]
    },
    {
     "data": {
      "image/png": "[encoded data removed]",
      "text/plain": [
       "<Figure size 432x288 with 1 Axes>"
      ]
     },
     "metadata": {
      "needs_background": "light"
     },
     "output_type": "display_data"
    }
   ],
   "source": [
    "plot_val(model2, 50)"
   ]
  },
  {
   "cell_type": "code",
   "execution_count": 76,
   "id": "1a29d10e-a735-40c9-a2b0-4003309f3a63",
   "metadata": {},
   "outputs": [
    {
     "name": "stdout",
     "output_type": "stream",
     "text": [
      "3/3 [==============================] - 0s 3ms/step\n"
     ]
    },
    {
     "data": {
      "image/png": "[encoded data removed]",
      "text/plain": [
       "<Figure size 432x288 with 1 Axes>"
      ]
     },
     "metadata": {
      "needs_background": "light"
     },
     "output_type": "display_data"
    }
   ],
   "source": [
    "plot_test(model2, 50)"
   ]
  },
  {
   "cell_type": "code",
   "execution_count": 77,
   "id": "ee3d64dd-be08-4097-8ee3-04fa7ff4b841",
   "metadata": {},
   "outputs": [
    {
     "name": "stdout",
     "output_type": "stream",
     "text": [
      "3/3 [==============================] - 0s 4ms/step\n"
     ]
    },
    {
     "data": {
      "text/plain": [
       "(    Predictions  Actuals\n",
       " 0      1.728765     1.96\n",
       " 1      1.855364     2.18\n",
       " 2      1.605830     1.90\n",
       " 3      0.221747     0.40\n",
       " 4      0.176536     0.05\n",
       " ..          ...      ...\n",
       " 68     1.962197     2.24\n",
       " 69     1.847082     2.14\n",
       " 70     1.022595     1.15\n",
       " 71     1.878945     2.14\n",
       " 72     0.182540     0.11\n",
       " \n",
       " [73 rows x 2 columns],\n",
       " 0.08708976809397889)"
      ]
     },
     "execution_count": 77,
     "metadata": {},
     "output_type": "execute_result"
    },
    {
     "data": {
      "image/png": "[encoded data removed]",
      "text/plain": [
       "<Figure size 432x288 with 1 Axes>"
      ]
     },
     "metadata": {
      "needs_background": "light"
     },
     "output_type": "display_data"
    }
   ],
   "source": [
    "plot_predictions1(model2,x_test, y_test)"
   ]
  },
  {
   "cell_type": "code",
   "execution_count": null,
   "id": "bf29e84f-658e-43d6-96e5-d3a22e6fee48",
   "metadata": {},
   "outputs": [],
   "source": []
  },
  {
   "cell_type": "code",
   "execution_count": null,
   "id": "f8d60006-b796-4099-acf7-a743f1f1705d",
   "metadata": {},
   "outputs": [],
   "source": []
  },
  {
   "cell_type": "code",
   "execution_count": null,
   "id": "342fc9df-541f-4fae-9801-dffc0fea16e9",
   "metadata": {},
   "outputs": [],
   "source": []
  },
  {
   "cell_type": "markdown",
   "id": "49a6b44a-5beb-42d1-810a-0d10e392166b",
   "metadata": {},
   "source": [
    "## Moving Average "
   ]
  },
  {
   "cell_type": "code",
   "execution_count": 14,
   "id": "0e6b8921-3df2-4cae-ad9a-2ae685278274",
   "metadata": {},
   "outputs": [],
   "source": [
    "import numpy as np\n",
    "import tensorflow as tf\n",
    "\n",
    "class MovingAverageCNNModel(tf.keras.Model):\n",
    "    def __init__(self, moving_average_window_size, cnn_architecture):\n",
    "        super(MovingAverageCNNModel, self).__init__()\n",
    "\n",
    "        self.moving_average_window_size = moving_average_window_size\n",
    "        self.cnn_model = cnn_architecture()\n",
    "\n",
    "    def call(self, inputs):\n",
    "        moving_average_filtered_inputs = tf.keras.layers.AveragePooling1D(pool_size=self.moving_average_window_size, strides=1)(inputs)\n",
    "\n",
    "        outputs = self.cnn_model(moving_average_filtered_inputs)\n",
    "\n",
    "        return outputs\n"
   ]
  },
  {
   "cell_type": "code",
   "execution_count": null,
   "id": "9a5158d8-11de-497d-9a8e-d67ee16fdb14",
   "metadata": {},
   "outputs": [],
   "source": [
    "time_series_data = np.loadtxt(\"time_series_data.csv\", delimiter=\",\")\n",
    "train_data = time_series_data[:int(0.8 * len(time_series_data))]\n",
    "test_data = time_series_data[int(0.8 * len(time_series_data)):]\n",
    "moving_average_cnn_model = MovingAverageCNNModel(moving_average_window_size=10, cnn_architecture= tf.keras.applications.VGG16)\n",
    "moving_average_cnn_model.compile(optimizer=\"adam\", loss=\"mse\")\n",
    "moving_average_cnn_model.fit(train_data, train_data, epochs=100)"
   ]
  },
  {
   "cell_type": "code",
   "execution_count": null,
   "id": "c00747fc-b0dd-4567-acfb-6e729bee4dc6",
   "metadata": {},
   "outputs": [],
   "source": []
  },
  {
   "cell_type": "code",
   "execution_count": null,
   "id": "0b9e9e72-d530-4051-953b-ce6ba3490888",
   "metadata": {},
   "outputs": [],
   "source": []
  },
  {
   "cell_type": "code",
   "execution_count": null,
   "id": "23e9fc61-a1cc-4937-bbd2-71d75a2f7e1f",
   "metadata": {},
   "outputs": [],
   "source": []
  },
  {
   "cell_type": "code",
   "execution_count": null,
   "id": "6703bd91-b314-4067-8e0a-c02386abd210",
   "metadata": {},
   "outputs": [],
   "source": []
  },
  {
   "cell_type": "code",
   "execution_count": null,
   "id": "698362c4-495b-4608-8f14-29655c1a567d",
   "metadata": {},
   "outputs": [],
   "source": []
  },
  {
   "cell_type": "code",
   "execution_count": null,
   "id": "39c1a7e4-0adb-4b39-ba85-09aed06a580e",
   "metadata": {},
   "outputs": [],
   "source": []
  },
  {
   "cell_type": "code",
   "execution_count": null,
   "id": "ca9bcbd2-0aa9-4b1d-863f-1d428e672817",
   "metadata": {},
   "outputs": [],
   "source": []
  },
  {
   "cell_type": "code",
   "execution_count": null,
   "id": "a6c2858c-e876-4094-9a7d-a0f164c7e943",
   "metadata": {},
   "outputs": [],
   "source": []
  },
  {
   "cell_type": "code",
   "execution_count": null,
   "id": "21caae2c-31fd-4d4d-92cd-c69bceea6ed2",
   "metadata": {},
   "outputs": [],
   "source": []
  },
  {
   "cell_type": "code",
   "execution_count": null,
   "id": "2a5bff8b-0b7d-44f9-be64-18e88e53eea9",
   "metadata": {},
   "outputs": [],
   "source": []
  },
  {
   "cell_type": "code",
   "execution_count": null,
   "id": "7675936c-4359-44fb-b5ed-bb2dfcffe2f4",
   "metadata": {},
   "outputs": [],
   "source": []
  },
  {
   "cell_type": "code",
   "execution_count": null,
   "id": "45d17a03-778f-4152-b0a6-be9fdad7aff5",
   "metadata": {},
   "outputs": [],
   "source": []
  }
 ],
 "metadata": {
  "kernelspec": {
   "display_name": "Python 3 (ipykernel)",
   "language": "python",
   "name": "python3"
  },
  "language_info": {
   "codemirror_mode": {
    "name": "ipython",
    "version": 3
   },
   "file_extension": ".py",
   "mimetype": "text/x-python",
   "name": "python",
   "nbconvert_exporter": "python",
   "pygments_lexer": "ipython3",
   "version": "3.9.12"
  }
 },
 "nbformat": 4,
 "nbformat_minor": 5
}
